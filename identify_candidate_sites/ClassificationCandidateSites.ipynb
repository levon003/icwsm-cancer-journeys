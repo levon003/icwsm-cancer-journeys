{
 "cells": [
  {
   "cell_type": "markdown",
   "metadata": {},
   "source": [
    "Candidate Site Identification for Classification\n",
    "===\n",
    "\n",
    "Identify of candidate sites for the purposes of broader classification.\n",
    "\n",
    "Using these sampling restrictions:\n",
    " - Health condition is \"cancer\"\n",
    " - Site's \"isDeleted\" != 1\n",
    " - Age of site is \"adult\" or \"teen\"\n",
    " - Site's createdAt > 2009-01-01\n",
    " - Site's last journal post is < 2016-04-01\n",
    " - Last journal createdAt - first journal createdAt > 1 month\n",
    " - Num journals in the site >= 5\n",
    " - Created by the patient \n",
    "     * We use the proportion of posts that are patient-authored according to the authorship classifier.\n",
    "     * We require that 95% of the posts are patient-authored.\n",
    "     * We are currently assessing if this threshold should be lowered or increased in complexity in some way.\n",
    "\n",
    "Previously, we had also required the following:\n",
    "- If authorship annotations are present for the site, we require the ratio of P to CG/PCG authored posts to be > 50%.\n",
    "- The site's \"isForSelf\" key was set."
   ]
  },
  {
   "cell_type": "code",
   "execution_count": 4,
   "metadata": {
    "collapsed": true
   },
   "outputs": [],
   "source": [
    "%matplotlib inline\n",
    "\n",
    "import os\n",
    "import numpy as np\n",
    "import pandas as pd\n",
    "import itertools\n",
    "\n",
    "import matplotlib.pyplot as plt\n",
    "import matplotlib.dates as md\n",
    "import matplotlib\n",
    "import pylab as pl\n",
    "\n",
    "import datetime as dt\n",
    "import time\n",
    "\n",
    "from collections import Counter\n",
    "\n",
    "import json\n",
    "import os\n",
    "import re\n",
    "import random\n",
    "import itertools\n",
    "import multiprocessing as mp\n",
    "from IPython.core.display import display, HTML\n",
    "import datetime as dt\n",
    "\n",
    "import sqlite3\n",
    "from nltk import word_tokenize\n",
    "from html.parser import HTMLParser\n",
    "from tqdm import tqdm"
   ]
  },
  {
   "cell_type": "code",
   "execution_count": 5,
   "metadata": {
    "collapsed": true
   },
   "outputs": [],
   "source": [
    "# set filepath for writing\n",
    "working_dir = \"/home/srivbane/shared/caringbridge/data/projects/qual-health-journeys/identify_candidate_sites\"\n",
    "valid_classification_sites_filename = os.path.join(working_dir, \"valid_classification_sites.txt\")\n",
    "valid_sites_filtered_filename = os.path.join(working_dir, \"valid_classification_sites_filtered.txt\")"
   ]
  },
  {
   "cell_type": "code",
   "execution_count": 53,
   "metadata": {
    "collapsed": true
   },
   "outputs": [],
   "source": [
    "# we also save some figures....\n",
    "image_dir = \"/home/srivbane/levon003/repos/qual-health-journeys/chi2019_tex/figures\""
   ]
  },
  {
   "cell_type": "code",
   "execution_count": 3,
   "metadata": {},
   "outputs": [
    {
     "name": "stdout",
     "output_type": "stream",
     "text": [
      "   115221 total\r\n",
      "    58362 /home/srivbane/shared/caringbridge/data/projects/qual-health-journeys/identify_candidate_sites/valid_classification_sites.txt\r\n",
      "    24014 /home/srivbane/shared/caringbridge/data/projects/qual-health-journeys/identify_candidate_sites/valid_sites_with_50_pct_patient_journals.txt\r\n",
      "    16563 /home/srivbane/shared/caringbridge/data/projects/qual-health-journeys/identify_candidate_sites/valid_sites_with_75_pct_patient_journals.txt\r\n",
      "     8409 /home/srivbane/shared/caringbridge/data/projects/qual-health-journeys/identify_candidate_sites/valid_sites_with_90_pct_patient_journals.txt\r\n",
      "     4945 /home/srivbane/shared/caringbridge/data/projects/qual-health-journeys/identify_candidate_sites/valid_classification_sites_filtered.txt\r\n",
      "      999 /home/srivbane/shared/caringbridge/data/projects/qual-health-journeys/identify_candidate_sites/active_learning_set_1000.txt\r\n",
      "      999 /home/srivbane/shared/caringbridge/data/projects/qual-health-journeys/identify_candidate_sites/active_learning_set_1000\r\n",
      "      930 /home/srivbane/shared/caringbridge/data/projects/qual-health-journeys/identify_candidate_sites/site_selected.json\r\n"
     ]
    }
   ],
   "source": [
    "!wc -l {working_dir}/* | sort -nr"
   ]
  },
  {
   "cell_type": "code",
   "execution_count": 4,
   "metadata": {},
   "outputs": [
    {
     "data": {
      "text/plain": [
       "4946"
      ]
     },
     "execution_count": 4,
     "metadata": {},
     "output_type": "execute_result"
    }
   ],
   "source": [
    "# read the previosuly identified sites (if the file exists already)\n",
    "if os.path.exists(valid_sites_filtered_filename):\n",
    "    with open(valid_sites_filtered_filename, 'r') as infile:\n",
    "        valid_sites = [int(line.strip()) for line in infile.readlines() if line.strip() != \"\"]\n",
    "else:\n",
    "    valid_sites = []\n",
    "len(valid_sites)"
   ]
  },
  {
   "cell_type": "markdown",
   "metadata": {},
   "source": [
    "## Load Site Data and Get Access to Journal Database"
   ]
  },
  {
   "cell_type": "code",
   "execution_count": 6,
   "metadata": {
    "collapsed": true
   },
   "outputs": [],
   "source": [
    "# load the site dataframe\n",
    "working_dir = \"/home/srivbane/shared/caringbridge/data/projects/qual-health-journeys/extract_site_features\"\n",
    "feathered_site_df_filename = os.path.join(working_dir, \"site_scrubbed.df\")\n",
    "df = pd.read_feather(feathered_site_df_filename)"
   ]
  },
  {
   "cell_type": "code",
   "execution_count": 7,
   "metadata": {},
   "outputs": [
    {
     "data": {
      "text/plain": [
       "588210"
      ]
     },
     "execution_count": 7,
     "metadata": {},
     "output_type": "execute_result"
    }
   ],
   "source": [
    "len(df)"
   ]
  },
  {
   "cell_type": "code",
   "execution_count": 9,
   "metadata": {
    "collapsed": true
   },
   "outputs": [],
   "source": [
    "def get_db():\n",
    "    journal_wd=\"/home/srivbane/shared/caringbridge/data/derived/sqlite\"\n",
    "    db_filename = os.path.join(journal_wd, \"journal.db\")\n",
    "    db = sqlite3.connect(\n",
    "            db_filename,\n",
    "            detect_types=sqlite3.PARSE_DECLTYPES\n",
    "        )\n",
    "    db.row_factory = sqlite3.Row\n",
    "    return db\n",
    "\n",
    "\n",
    "def get_journal_text(site_id, journal_oid):\n",
    "    try:\n",
    "        db = get_db()\n",
    "        cursor = db.execute(\"\"\"SELECT body \n",
    "                                FROM journal\n",
    "                                WHERE site_id = ? AND journal_oid = ?\"\"\", \n",
    "                            (site_id, journal_oid))\n",
    "        body = cursor.fetchone()\n",
    "        assert body is not None\n",
    "        body_text = body['body']\n",
    "        return body_text\n",
    "    finally:\n",
    "        db.close()\n",
    "        \n",
    "def get_site_journal_oids(site_id):\n",
    "    try:\n",
    "        db = get_db()\n",
    "        cursor = db.execute(\"\"\"SELECT journal_oid \n",
    "                                FROM journal\n",
    "                                WHERE site_id = ?\"\"\", \n",
    "                            (site_id,))\n",
    "        result = cursor.fetchall()\n",
    "        journal_oids = [r['journal_oid'] for r in result]\n",
    "        return journal_oids\n",
    "    finally:\n",
    "        db.close()\n",
    "        \n",
    "def get_site_journals(site_id, columns=[\"*\"]):  # directly returns the journal rows associated with the given site_id\n",
    "    try:\n",
    "        db = get_db()\n",
    "        columns_string = \",\".join(columns)\n",
    "        cursor = db.execute(\"\"\"SELECT {columns}\n",
    "                                FROM journal\n",
    "                                WHERE site_id = ?\"\"\".format(columns=columns_string), \n",
    "                            (site_id,))\n",
    "        journals = cursor.fetchall()\n",
    "        return journals\n",
    "    finally:\n",
    "        db.close()"
   ]
  },
  {
   "cell_type": "markdown",
   "metadata": {},
   "source": [
    "## Identify Candidate Sites\n",
    "\n",
    "Filter down to only sites of interest according to criteria."
   ]
  },
  {
   "cell_type": "code",
   "execution_count": 10,
   "metadata": {},
   "outputs": [
    {
     "data": {
      "text/plain": [
       "104500"
      ]
     },
     "execution_count": 10,
     "metadata": {},
     "output_type": "execute_result"
    }
   ],
   "source": [
    "# include only cancer sites\n",
    "c_df = df[df[\"healthCondition_category\"] == \"Cancer\"]\n",
    "len(c_df)"
   ]
  },
  {
   "cell_type": "code",
   "execution_count": 11,
   "metadata": {},
   "outputs": [
    {
     "data": {
      "text/plain": [
       "97592"
      ]
     },
     "execution_count": 11,
     "metadata": {},
     "output_type": "execute_result"
    }
   ],
   "source": [
    "# include only non-deleted sites\n",
    "c_df = c_df[c_df[\"isDeleted\"] != 1]\n",
    "len(c_df)"
   ]
  },
  {
   "cell_type": "code",
   "execution_count": 12,
   "metadata": {},
   "outputs": [
    {
     "data": {
      "text/plain": [
       "88712"
      ]
     },
     "execution_count": 12,
     "metadata": {},
     "output_type": "execute_result"
    }
   ],
   "source": [
    "# include only adult- and teen-aged sites\n",
    "valid_ages = ['adult', 'teen']\n",
    "c_df = c_df[c_df[\"age\"].isin(valid_ages)]\n",
    "len(c_df)"
   ]
  },
  {
   "cell_type": "code",
   "execution_count": 13,
   "metadata": {},
   "outputs": [
    {
     "data": {
      "text/plain": [
       "87360"
      ]
     },
     "execution_count": 13,
     "metadata": {},
     "output_type": "execute_result"
    }
   ],
   "source": [
    "# include only sites since 2009\n",
    "earliest_valid_date = dt.datetime(year=2009,month=1,day=1)\n",
    "earliest_valid_date_timestamp = earliest_valid_date.replace(tzinfo=dt.timezone.utc).timestamp() * 1000\n",
    "earliest_valid_date_timestamp\n",
    "c_df = c_df[c_df[\"createdAt\"] > earliest_valid_date_timestamp]\n",
    "len(c_df)"
   ]
  },
  {
   "cell_type": "code",
   "execution_count": 14,
   "metadata": {
    "collapsed": true
   },
   "outputs": [],
   "source": [
    "# include only sites created by the patient\n",
    "# note that this cuts out a huge number of sites; the best way to increase our data size would be the addition of an authorship classifier\n",
    "#c_df = c_df[c_df[\"isForSelf\"] == 1.0]\n",
    "#len(c_df)"
   ]
  },
  {
   "cell_type": "code",
   "execution_count": 15,
   "metadata": {
    "collapsed": true,
    "scrolled": false
   },
   "outputs": [],
   "source": [
    "# now, inspect journal-level features to identify valid sites\n",
    "\n",
    "skip = True\n",
    "if not skip:\n",
    "    valid_sites = []\n",
    "    journal_counts = []\n",
    "\n",
    "    latest_valid_date = dt.datetime(year=2016,month=4,day=1)\n",
    "    latest_valid_date_timestamp = latest_valid_date.replace(tzinfo=dt.timezone.utc).timestamp() * 1000\n",
    "\n",
    "    min_site_time = 1000 * 60 * 60 * 24 * 30 # 30 days, in milliseconds\n",
    "\n",
    "    for site_id in tqdm(c_df[\"_id\"]):\n",
    "        journals = get_site_journals(site_id, columns=[\"createdAt\"])\n",
    "\n",
    "        # include only sites with at least 5 journals\n",
    "        if len(journals) < 5:\n",
    "            continue\n",
    "\n",
    "        # include only sites with last journal post created before 2016/04/01\n",
    "        if journals[-1]['createdAt'] > latest_valid_date_timestamp:\n",
    "            continue\n",
    "\n",
    "        # include only sites that lasted at least 30 days\n",
    "        diff = journals[-1]['createdAt'] - journals[0]['createdAt']\n",
    "        if diff <= min_site_time:\n",
    "            continue\n",
    "\n",
    "        valid_sites.append(site_id)\n",
    "        journal_counts.append(len(journals))\n",
    "    len(valid_sites)"
   ]
  },
  {
   "cell_type": "code",
   "execution_count": 16,
   "metadata": {},
   "outputs": [
    {
     "name": "stderr",
     "output_type": "stream",
     "text": [
      "100%|██████████| 87360/87360 [02:14<00:00, 648.83it/s]\n"
     ]
    },
    {
     "data": {
      "text/plain": [
       "58363"
      ]
     },
     "execution_count": 16,
     "metadata": {},
     "output_type": "execute_result"
    }
   ],
   "source": [
    "# an alternative computation on the journal-level features using a pre-saved dataframe\n",
    "site_survival_working_dir = \"/home/srivbane/shared/caringbridge/data/projects/classify_health_condition/vw_experiments\"\n",
    "site_survival_filename = os.path.join(site_survival_working_dir, \"site_survival_time.csv\")\n",
    "col_names = (\"siteId\", \n",
    "             \"siteCreatedAt\", \n",
    "             \"siteUpdatedAt\", \n",
    "             \"firstJournalCreatedAt\", \n",
    "             \"lastJournalCreatedAt\",\n",
    "             \"numJournals\", \n",
    "             \"numJournalsFound\")\n",
    "survival_df = pd.read_csv(site_survival_filename, header=None, names=col_names)\n",
    "assert len(survival_df) == len(df)\n",
    "\n",
    "valid_sites = []\n",
    "journal_counts_dict = {}\n",
    "\n",
    "latest_valid_date = dt.datetime(year=2016,month=4,day=1)\n",
    "latest_valid_date_timestamp = latest_valid_date.replace(tzinfo=dt.timezone.utc).timestamp() * 1000\n",
    "\n",
    "earliest_valid_date = dt.datetime(year=2009,month=1,day=1)\n",
    "earliest_valid_date_timestamp = earliest_valid_date.replace(tzinfo=dt.timezone.utc).timestamp() * 1000\n",
    "\n",
    "min_site_time = 1000 * 60 * 60 * 24 * 30 # 30 days, in milliseconds\n",
    "max_site_time = 1000 * 60 * 60 * 24 * 365 * 8 # 8 years, in milliseconds\n",
    "# the maximum site time is really just included to remove likely-erroneous outliers with unexpected timing info\n",
    "\n",
    "for site_id in tqdm(c_df[\"_id\"]):\n",
    "    tmp_df = survival_df[survival_df[\"siteId\"] == site_id]\n",
    "    assert len(tmp_df) == 1\n",
    "    row = tmp_df.iloc[0]\n",
    "    \n",
    "    # include only sites with at least 5 journals\n",
    "    if row['numJournalsFound'] < 5:\n",
    "        continue\n",
    "    \n",
    "    # include only sites with last journal post created before 2016/04/01\n",
    "    if row['lastJournalCreatedAt'] * 1000 > latest_valid_date_timestamp:\n",
    "        continue\n",
    "        \n",
    "    # include only sites with first journal post created after 2009/01/01\n",
    "    if row['firstJournalCreatedAt'] * 1000 < earliest_valid_date_timestamp:\n",
    "        continue\n",
    "    \n",
    "    # include only sites that lasted at least 30 days\n",
    "    diff = row['lastJournalCreatedAt'] * 1000 - row['firstJournalCreatedAt'] * 1000\n",
    "    if diff <= min_site_time:\n",
    "        continue\n",
    "    if diff >= max_site_time:\n",
    "        continue\n",
    "        \n",
    "    valid_sites.append(site_id)\n",
    "    journal_counts_dict[site_id] = row['numJournalsFound']\n",
    "len(valid_sites)"
   ]
  },
  {
   "cell_type": "markdown",
   "metadata": {},
   "source": [
    "#### Save the valid sites before author type filtering"
   ]
  },
  {
   "cell_type": "code",
   "execution_count": 115,
   "metadata": {},
   "outputs": [
    {
     "name": "stdout",
     "output_type": "stream",
     "text": [
      "Finished.\n"
     ]
    }
   ],
   "source": [
    "# save the valid sites to an intermediate file before final filtering by author type\n",
    "with open(valid_classification_sites_filename, 'w') as outfile:\n",
    "    outfile.write(\"\\n\".join([str(sid) for sid in valid_sites]))\n",
    "print(\"Finished.\")"
   ]
  },
  {
   "cell_type": "markdown",
   "metadata": {},
   "source": [
    "#### Bring in the author type classifier's results"
   ]
  },
  {
   "cell_type": "code",
   "execution_count": 17,
   "metadata": {},
   "outputs": [
    {
     "data": {
      "text/html": [
       "<div>\n",
       "<style scoped>\n",
       "    .dataframe tbody tr th:only-of-type {\n",
       "        vertical-align: middle;\n",
       "    }\n",
       "\n",
       "    .dataframe tbody tr th {\n",
       "        vertical-align: top;\n",
       "    }\n",
       "\n",
       "    .dataframe thead th {\n",
       "        text-align: right;\n",
       "    }\n",
       "</style>\n",
       "<table border=\"1\" class=\"dataframe\">\n",
       "  <thead>\n",
       "    <tr style=\"text-align: right;\">\n",
       "      <th></th>\n",
       "      <th>site_id</th>\n",
       "      <th>proportion_patient_authored</th>\n",
       "    </tr>\n",
       "  </thead>\n",
       "  <tbody>\n",
       "    <tr>\n",
       "      <th>0</th>\n",
       "      <td>104723</td>\n",
       "      <td>0.000000</td>\n",
       "    </tr>\n",
       "    <tr>\n",
       "      <th>1</th>\n",
       "      <td>104744</td>\n",
       "      <td>0.880000</td>\n",
       "    </tr>\n",
       "    <tr>\n",
       "      <th>2</th>\n",
       "      <td>104745</td>\n",
       "      <td>0.026316</td>\n",
       "    </tr>\n",
       "    <tr>\n",
       "      <th>3</th>\n",
       "      <td>104748</td>\n",
       "      <td>0.000000</td>\n",
       "    </tr>\n",
       "    <tr>\n",
       "      <th>4</th>\n",
       "      <td>104753</td>\n",
       "      <td>0.092308</td>\n",
       "    </tr>\n",
       "  </tbody>\n",
       "</table>\n",
       "</div>"
      ],
      "text/plain": [
       "   site_id  proportion_patient_authored\n",
       "0   104723                     0.000000\n",
       "1   104744                     0.880000\n",
       "2   104745                     0.026316\n",
       "3   104748                     0.000000\n",
       "4   104753                     0.092308"
      ]
     },
     "execution_count": 17,
     "metadata": {},
     "output_type": "execute_result"
    }
   ],
   "source": [
    "site_proportions_filepath = \"/home/srivbane/shared/caringbridge/data/projects/qual-health-journeys/author_classification/site_proportions.csv\"\n",
    "author_df = pd.read_csv(site_proportions_filepath)\n",
    "author_df.head(n=5)"
   ]
  },
  {
   "cell_type": "code",
   "execution_count": 18,
   "metadata": {
    "collapsed": true
   },
   "outputs": [],
   "source": [
    "def save_threshold_list(sites, threshold, output_filepath):\n",
    "    filtered_sites = []\n",
    "    for site_id in tqdm(valid_sites):\n",
    "        row = author_df['proportion_patient_authored'][author_df['site_id'] == site_id]\n",
    "        if len(row) == 1:\n",
    "            proportion_patient_authored = row.iloc[0]\n",
    "        elif len(row) == 0:  # This site isn't in the list, so treat it as 0% patient-authored\n",
    "            #print(site_id, row)\n",
    "            proportion_patient_authored = 0\n",
    "        else:\n",
    "            raise ValueError(\"Multiple matches for siteId.\")\n",
    "        if proportion_patient_authored >= threshold:\n",
    "            filtered_sites.append(site_id)\n",
    "    with open(output_filepath, 'w') as outfile:\n",
    "        outfile.write(\"\\n\".join([str(sid) for sid in filtered_sites]))\n",
    "    print(f\"Wrote sites clearing threshold {threshold} to file '{output_filepath}'.\")"
   ]
  },
  {
   "cell_type": "code",
   "execution_count": 118,
   "metadata": {},
   "outputs": [
    {
     "name": "stderr",
     "output_type": "stream",
     "text": [
      "100%|██████████| 58363/58363 [00:28<00:00, 2031.83it/s]\n",
      "  0%|          | 200/58363 [00:00<00:29, 1998.15it/s]"
     ]
    },
    {
     "name": "stdout",
     "output_type": "stream",
     "text": [
      "Wrote sites clearing threshold 0.5 to file '/home/srivbane/shared/caringbridge/data/projects/qual-health-journeys/identify_candidate_sites/valid_sites_with_50_pct_patient_journals.txt'.\n"
     ]
    },
    {
     "name": "stderr",
     "output_type": "stream",
     "text": [
      "100%|██████████| 58363/58363 [00:29<00:00, 2001.40it/s]\n",
      "  0%|          | 200/58363 [00:00<00:29, 1992.45it/s]"
     ]
    },
    {
     "name": "stdout",
     "output_type": "stream",
     "text": [
      "Wrote sites clearing threshold 0.75 to file '/home/srivbane/shared/caringbridge/data/projects/qual-health-journeys/identify_candidate_sites/valid_sites_with_75_pct_patient_journals.txt'.\n"
     ]
    },
    {
     "name": "stderr",
     "output_type": "stream",
     "text": [
      "100%|██████████| 58363/58363 [00:29<00:00, 2010.33it/s]"
     ]
    },
    {
     "name": "stdout",
     "output_type": "stream",
     "text": [
      "Wrote sites clearing threshold 0.9 to file '/home/srivbane/shared/caringbridge/data/projects/qual-health-journeys/identify_candidate_sites/valid_sites_with_90_pct_patient_journals.txt'.\n"
     ]
    },
    {
     "name": "stderr",
     "output_type": "stream",
     "text": [
      "\n"
     ]
    }
   ],
   "source": [
    "thresholds = [0.5, 0.75, 0.9]\n",
    "working_dir = \"/home/srivbane/shared/caringbridge/data/projects/qual-health-journeys/identify_candidate_sites\"\n",
    "for threshold in thresholds:\n",
    "    filename = \"valid_sites_with_%.0f_pct_patient_journals.txt\" % (threshold * 100)\n",
    "    output_filepath = os.path.join(working_dir, filename)\n",
    "    save_threshold_list(valid_sites, threshold, output_filepath)"
   ]
  },
  {
   "cell_type": "code",
   "execution_count": 19,
   "metadata": {},
   "outputs": [
    {
     "name": "stderr",
     "output_type": "stream",
     "text": [
      "100%|██████████| 58363/58363 [00:32<00:00, 1804.78it/s]"
     ]
    },
    {
     "name": "stdout",
     "output_type": "stream",
     "text": [
      "Will trim 53417 sites leaving 4946 candidate sites.\n"
     ]
    },
    {
     "name": "stderr",
     "output_type": "stream",
     "text": [
      "\n"
     ]
    }
   ],
   "source": [
    "patient_authorship_threshold = 0.95\n",
    "\n",
    "to_trim = []\n",
    "for site_id in tqdm(valid_sites):\n",
    "    row = author_df['proportion_patient_authored'][author_df['site_id'] == site_id]\n",
    "    if len(row) == 1:\n",
    "        proportion_patient_authored = row.iloc[0]\n",
    "    elif len(row) == 0:  # This site isn't in the list, so treat it as 0% patient-authored\n",
    "        #print(site_id, row)\n",
    "        proportion_patient_authored = 0\n",
    "    else:\n",
    "        raise ValueError(\"Multiple matches for siteId.\")\n",
    "    if proportion_patient_authored < patient_authorship_threshold:\n",
    "        to_trim.append(site_id)\n",
    "print(\"Will trim %d sites leaving %d candidate sites.\" % (len(to_trim), len(valid_sites) - len(to_trim)))"
   ]
  },
  {
   "cell_type": "code",
   "execution_count": 20,
   "metadata": {},
   "outputs": [
    {
     "data": {
      "text/plain": [
       "4946"
      ]
     },
     "execution_count": 20,
     "metadata": {},
     "output_type": "execute_result"
    }
   ],
   "source": [
    "for site_id in to_trim:\n",
    "    valid_sites.remove(site_id)\n",
    "len(valid_sites)"
   ]
  },
  {
   "cell_type": "markdown",
   "metadata": {},
   "source": [
    "#### Bring in author type annotations as a \"trump card\" (?)"
   ]
  },
  {
   "cell_type": "code",
   "execution_count": 121,
   "metadata": {
    "collapsed": true
   },
   "outputs": [],
   "source": [
    "# maybe we should just rely on the classifier and not do any manual exclusions based on tags?\n",
    "# Decision: Yes.\n",
    "skip_manual_annotation_exclusions = True"
   ]
  },
  {
   "cell_type": "code",
   "execution_count": 122,
   "metadata": {},
   "outputs": [
    {
     "data": {
      "text/plain": [
       "0.125"
      ]
     },
     "execution_count": 122,
     "metadata": {},
     "output_type": "execute_result"
    }
   ],
   "source": [
    "annotation_web_client_database = \"/home/srivbane/shared/caringbridge/data/projects/qual-health-journeys/instance/cbAnnotator.sqlite\"\n",
    "\n",
    "\n",
    "def get_annotation_db():\n",
    "    db = sqlite3.connect(\n",
    "            annotation_web_client_database,\n",
    "            detect_types=sqlite3.PARSE_DECLTYPES\n",
    "        )\n",
    "    db.row_factory = sqlite3.Row\n",
    "    return db\n",
    "\n",
    "\n",
    "def get_author_annotations(site_id):\n",
    "    try:\n",
    "        db = get_annotation_db()\n",
    "        cursor = db.execute(\n",
    "            \"\"\"SELECT data \n",
    "                FROM journalAnnotation \n",
    "                WHERE annotation_type = \"journal_author_type\" AND site_id = ? \n",
    "                GROUP BY journal_oid\n",
    "                ORDER BY id DESC\"\"\", (site_id,)\n",
    "        )\n",
    "        journal_author_annotations = cursor.fetchall()\n",
    "        annotation_strings = [a['data'] for a in journal_author_annotations]\n",
    "        return annotation_strings\n",
    "    finally:\n",
    "        db.close()\n",
    "\n",
    "\n",
    "def get_site_patient_authorship_ratio(site_id):\n",
    "    # returns None if the given site has no author annotations\n",
    "    author_annotations = get_author_annotations(site_id)\n",
    "    counts = Counter(author_annotations)\n",
    "    p_count = counts['p'] if 'p' in counts else 0\n",
    "    cg_count = counts['cg'] if 'cg' in counts else 0\n",
    "    pcg_count = counts['pcg'] if 'pcg' in counts else 0\n",
    "    total_valid_annotations = p_count + cg_count + pcg_count\n",
    "    if total_valid_annotations == 0:\n",
    "        return None\n",
    "    ratio = p_count / total_valid_annotations\n",
    "    return ratio\n",
    "    \n",
    "\n",
    "def is_site_authorship_valid(site_id, patient_proportion_required=0.5):\n",
    "    # returns true if the proportion of patient-authored posts is greater than 0.5, and false otherwise\n",
    "    ratio = get_site_patient_authorship_ratio(site_id)\n",
    "    return ratio is None or ratio >= 0.5\n",
    "\n",
    "\n",
    "# Test site\n",
    "get_site_patient_authorship_ratio(877534)"
   ]
  },
  {
   "cell_type": "code",
   "execution_count": 123,
   "metadata": {
    "collapsed": true
   },
   "outputs": [],
   "source": [
    "# Trim valid sites based on authorship annotations\n",
    "if not skip_manual_annotation_exclusions:\n",
    "    to_trim = []\n",
    "    for site_id in tqdm(valid_sites):\n",
    "        if not is_site_authorship_valid(site_id):\n",
    "            to_trim.append(site_id)\n",
    "    for site_id in to_trim:\n",
    "        valid_sites.remove(site_id)\n",
    "    print(len(valid_sites))"
   ]
  },
  {
   "cell_type": "markdown",
   "metadata": {},
   "source": [
    "#### Save the valid sites"
   ]
  },
  {
   "cell_type": "code",
   "execution_count": 124,
   "metadata": {},
   "outputs": [
    {
     "name": "stdout",
     "output_type": "stream",
     "text": [
      "Finished.\n"
     ]
    }
   ],
   "source": [
    "# save the valid sites to a file\n",
    "with open(valid_sites_filtered_filename, 'w') as outfile:\n",
    "    outfile.write(\"\\n\".join([str(sid) for sid in valid_sites]))\n",
    "print(\"Finished.\")"
   ]
  },
  {
   "cell_type": "code",
   "execution_count": null,
   "metadata": {
    "collapsed": true
   },
   "outputs": [],
   "source": []
  },
  {
   "cell_type": "markdown",
   "metadata": {},
   "source": [
    "## Visualize Candidate Site Features\n",
    "\n",
    "Graphs and summary stats describing the selected sites."
   ]
  },
  {
   "cell_type": "code",
   "execution_count": 21,
   "metadata": {},
   "outputs": [
    {
     "data": {
      "text/plain": [
       "4946"
      ]
     },
     "execution_count": 21,
     "metadata": {},
     "output_type": "execute_result"
    }
   ],
   "source": [
    "import sys\n",
    "sys.path.append(\"../annotation_data\")\n",
    "from utils import *\n",
    "valid_sites = get_valid_sites_filtered()\n",
    "len(valid_sites)"
   ]
  },
  {
   "cell_type": "code",
   "execution_count": 22,
   "metadata": {},
   "outputs": [
    {
     "data": {
      "text/plain": [
       "DescribeResult(nobs=4946, minmax=(5.0, 1395.0), mean=32.065709664375255, variance=1911.8320817713, skewness=10.371707777700294, kurtosis=227.90522128075207)"
      ]
     },
     "execution_count": 22,
     "metadata": {},
     "output_type": "execute_result"
    }
   ],
   "source": [
    "# do some quick summary statistics on the journal counts in the valid sites\n",
    "journal_counts = [journal_counts_dict[site_id] for site_id in valid_sites]\n",
    "from scipy import stats\n",
    "stats.describe(journal_counts)"
   ]
  },
  {
   "cell_type": "code",
   "execution_count": 23,
   "metadata": {},
   "outputs": [
    {
     "data": {
      "text/plain": [
       "(22.0, 32.065709664375255, 43.72008166405342)"
      ]
     },
     "execution_count": 23,
     "metadata": {},
     "output_type": "execute_result"
    }
   ],
   "source": [
    "# median, mean, and standard deviation of the number of journals in the selected sites\n",
    "np.median(journal_counts), np.mean(journal_counts), np.std(journal_counts)"
   ]
  },
  {
   "cell_type": "code",
   "execution_count": 24,
   "metadata": {},
   "outputs": [
    {
     "data": {
      "text/plain": [
       "array([ 6.  ,  7.  , 11.  , 22.  , 37.  , 63.5 , 90.75])"
      ]
     },
     "execution_count": 24,
     "metadata": {},
     "output_type": "execute_result"
    }
   ],
   "source": [
    "# percentiles of the number of journal counts\n",
    "np.percentile(journal_counts, [5, 10, 25, 50, 75, 90, 95])"
   ]
  },
  {
   "cell_type": "code",
   "execution_count": 98,
   "metadata": {},
   "outputs": [
    {
     "data": {
      "text/plain": [
       "158597.0"
      ]
     },
     "execution_count": 98,
     "metadata": {},
     "output_type": "execute_result"
    }
   ],
   "source": [
    "np.sum(journal_counts)"
   ]
  },
  {
   "cell_type": "code",
   "execution_count": 25,
   "metadata": {},
   "outputs": [
    {
     "data": {
      "image/png": "[encoded data removed]",
      "text/plain": [
       "<Figure size 576x576 with 1 Axes>"
      ]
     },
     "metadata": {},
     "output_type": "display_data"
    }
   ],
   "source": [
    "title = \"Candidate Site Journal Counts\"\n",
    "fig, ax = pl.subplots(num=title, figsize=(8,8))\n",
    "x = [min(journal_counts_dict[site_id], 101) for site_id in valid_sites]\n",
    "patches = plt.hist(x, range=(0, 104), bins=26)\n",
    "ax.set_title(title)\n",
    "ax.set_xlabel(\"Journal count\")\n",
    "ax.set_ylabel(\"Number of sites\")\n",
    "\n",
    "ax.set_xticks([i for i in range(0, 108, 4)])\n",
    "ax.set_xticklabels([str(i) if i != 104 else \"+\" for i in range(0, 108, 4)])\n",
    "\n",
    "#ax.set_yticks([i for i in range(0, 430, 10)])\n",
    "\n",
    "ax.grid(axis=\"y\", alpha=0.5)\n",
    "plt.show()"
   ]
  },
  {
   "cell_type": "code",
   "execution_count": 95,
   "metadata": {},
   "outputs": [
    {
     "data": {
      "image/png": "[encoded data removed]",
      "text/plain": [
       "<Figure size 72x28.8 with 1 Axes>"
      ]
     },
     "metadata": {},
     "output_type": "display_data"
    }
   ],
   "source": [
    "title = \"journal counts\"\n",
    "fig, ax = pl.subplots(1, num=title, figsize=(1,0.4), squeeze=True)\n",
    "\n",
    "x = [min(journal_counts_dict[site_id], 101) for site_id in valid_sites]\n",
    "patches = plt.hist(x, range=(0, 100), bins=26, align=\"left\", color=\"black\")\n",
    "#plt.ylim(0, y_limit)\n",
    "\n",
    "# plot the mean as a black line\n",
    "#m = np.mean(x)\n",
    "#std = np.std(x)\n",
    "#summary_text = \"M=%.2f\\\\\\\\ SD=%.2f\" % (m, std)\n",
    "#print(summary_text)\n",
    "\n",
    "ax.set_xticks([])\n",
    "ax.set_yticks([])\n",
    "plt.axis('off')\n",
    "\n",
    "plt.tight_layout(pad=0)\n",
    "plt.subplots_adjust(top = 0.4, bottom = 0, right = 1, left = 0, \n",
    "            hspace = 0, wspace = 0)\n",
    "\n",
    "plt.margins(0,0)\n",
    "plt.gca().xaxis.set_major_locator(plt.NullLocator())\n",
    "plt.gca().yaxis.set_major_locator(plt.NullLocator())\n",
    "\n",
    "bbox = matplotlib.transforms.Bbox.from_bounds(0,0,1,0.2)\n",
    "image_shortfilename = \"journal_updates_summary_hist_short.pdf\"\n",
    "image_filename = os.path.join(image_dir, image_shortfilename)\n",
    "plt.savefig(image_filename, format='pdf', dpi=200, pad_inches=0, bbox_inches=bbox) #, transparent=True)\n",
    "plt.show()"
   ]
  },
  {
   "cell_type": "code",
   "execution_count": 26,
   "metadata": {
    "scrolled": false
   },
   "outputs": [
    {
     "data": {
      "text/plain": [
       "4946"
      ]
     },
     "execution_count": 26,
     "metadata": {},
     "output_type": "execute_result"
    }
   ],
   "source": [
    "# get the subset of the site df that contains only the valid sites\n",
    "df_subset = df[df[\"_id\"].isin(valid_sites)]\n",
    "len(df_subset)"
   ]
  },
  {
   "cell_type": "code",
   "execution_count": 27,
   "metadata": {},
   "outputs": [
    {
     "data": {
      "text/plain": [
       "4946"
      ]
     },
     "execution_count": 27,
     "metadata": {},
     "output_type": "execute_result"
    }
   ],
   "source": [
    "# get the subset of the survival df that contains only the valid sites\n",
    "survival_df_subset = survival_df[survival_df[\"siteId\"].isin(valid_sites)]\n",
    "len(survival_df_subset)"
   ]
  },
  {
   "cell_type": "code",
   "execution_count": 28,
   "metadata": {},
   "outputs": [
    {
     "name": "stderr",
     "output_type": "stream",
     "text": [
      "/home/srivbane/levon003/anaconda3/lib/python3.6/site-packages/ipykernel_launcher.py:6: SettingWithCopyWarning: \n",
      "A value is trying to be set on a copy of a slice from a DataFrame.\n",
      "Try using .loc[row_indexer,col_indexer] = value instead\n",
      "\n",
      "See the caveats in the documentation: http://pandas.pydata.org/pandas-docs/stable/indexing.html#indexing-view-versus-copy\n",
      "  \n"
     ]
    }
   ],
   "source": [
    "# Add urls to the annotation client, for convenience\n",
    "def get_url(site_id, port=5000):\n",
    "    url = \"http://127.0.0.1:%d/siteId/%d\" % (port, site_id)\n",
    "    return '<a href=\"{}\">{}</a>'.format(url, url)\n",
    "\n",
    "df_subset['annotation_url'] = [get_url(site_id) for site_id in df_subset[\"_id\"]]"
   ]
  },
  {
   "cell_type": "code",
   "execution_count": 29,
   "metadata": {},
   "outputs": [
    {
     "data": {
      "image/png": "[encoded data removed]",
      "text/plain": [
       "<Figure size 576x576 with 1 Axes>"
      ]
     },
     "metadata": {},
     "output_type": "display_data"
    }
   ],
   "source": [
    "title = \"Candidate Site Visits\"\n",
    "fig, ax = pl.subplots(num=title, figsize=(8,8))\n",
    "x = [min(visits, 50001) for visits in df_subset[\"visits\"]]\n",
    "patches = plt.hist(x, log=True, bins=26, range=(0,52000))#, range=(0, 104), bins=26)\n",
    "ax.set_title(title)\n",
    "ax.set_xlabel(\"Visits\")\n",
    "ax.set_ylabel(\"Number of sites\")\n",
    "\n",
    "ax.set_xticks([i for i in range(0, 52000, 5000)])\n",
    "\n",
    "ax.grid(axis=\"y\", which=\"minor\", alpha=0.5)\n",
    "plt.show()"
   ]
  },
  {
   "cell_type": "code",
   "execution_count": 96,
   "metadata": {},
   "outputs": [
    {
     "data": {
      "image/png": "[encoded data removed]",
      "text/plain": [
       "<Figure size 72x28.8 with 1 Axes>"
      ]
     },
     "metadata": {},
     "output_type": "display_data"
    }
   ],
   "source": [
    "title = \"journal counts\"\n",
    "fig, ax = pl.subplots(1, num=title, figsize=(1,0.4), squeeze=True)\n",
    "\n",
    "x = [min(visits, 50001) for visits in df_subset[\"visits\"]]\n",
    "patches = plt.hist(x, log=False, bins=26, range=(0,10000), align=\"left\", color=\"black\")\n",
    "#plt.ylim(0, y_limit)\n",
    "\n",
    "# plot the mean as a black line\n",
    "#m = np.mean(x)\n",
    "#std = np.std(x)\n",
    "#summary_text = \"M=%.2f\\\\\\\\ SD=%.2f\" % (m, std)\n",
    "#print(summary_text)\n",
    "\n",
    "ax.set_xticks([])\n",
    "ax.set_yticks([])\n",
    "plt.axis('off')\n",
    "\n",
    "plt.tight_layout(pad=0)\n",
    "plt.subplots_adjust(top = 0.4, bottom = 0, right = 1, left = 0, \n",
    "            hspace = 0, wspace = 0)\n",
    "\n",
    "plt.margins(0,0)\n",
    "plt.gca().xaxis.set_major_locator(plt.NullLocator())\n",
    "plt.gca().yaxis.set_major_locator(plt.NullLocator())\n",
    "\n",
    "bbox = matplotlib.transforms.Bbox.from_bounds(0,0,1,0.2)\n",
    "image_shortfilename = \"site_visits_summary_hist_short.pdf\"\n",
    "image_filename = os.path.join(image_dir, image_shortfilename)\n",
    "plt.savefig(image_filename, format='pdf', dpi=200, pad_inches=0, bbox_inches=bbox) #, transparent=True)\n",
    "plt.show()"
   ]
  },
  {
   "cell_type": "code",
   "execution_count": 30,
   "metadata": {
    "scrolled": false
   },
   "outputs": [
    {
     "data": {
      "text/plain": [
       "(DescribeResult(nobs=4946, minmax=(3.0, 120852.0), mean=2101.0384148807116, variance=17145579.977088206, skewness=10.91631024395993, kurtosis=219.23399074999944),\n",
       " 1017.5,\n",
       " 4140.303542290242)"
      ]
     },
     "execution_count": 30,
     "metadata": {},
     "output_type": "execute_result"
    }
   ],
   "source": [
    "stats.describe(df_subset[\"visits\"]), np.median(df_subset[\"visits\"]), np.std(df_subset[\"visits\"])"
   ]
  },
  {
   "cell_type": "markdown",
   "metadata": {},
   "source": [
    "#### Site Survival Time"
   ]
  },
  {
   "cell_type": "code",
   "execution_count": 31,
   "metadata": {},
   "outputs": [
    {
     "data": {
      "text/plain": [
       "[15.00740663580247,\n",
       " 14.0642762345679,\n",
       " 10.615981481481482,\n",
       " 23.088961419753087,\n",
       " 36.773773148148145,\n",
       " 37.97802083333333,\n",
       " 27.38342901234568,\n",
       " 4.763890432098766,\n",
       " 65.96475154320987,\n",
       " 6.170110339506173]"
      ]
     },
     "execution_count": 31,
     "metadata": {},
     "output_type": "execute_result"
    }
   ],
   "source": [
    "def get_month(survival_df, site_id):\n",
    "    single_entry_df = survival_df[survival_df[\"siteId\"] == site_id]\n",
    "    if len(single_entry_df) != 1:\n",
    "        raise ValueError(\"Invalid site id %d.\" % site_id)\n",
    "    site_survival = single_entry_df.iloc[0]\n",
    "    end_date = site_survival['lastJournalCreatedAt']\n",
    "    start_date = site_survival['firstJournalCreatedAt']\n",
    "    if end_date < start_date:\n",
    "        raise ValueError(\"Invalid site timing info.\")\n",
    "    survival_time = end_date - start_date\n",
    "    one_month = 60 * 60 * 24 * 30\n",
    "    approx_months_survived = survival_time / one_month\n",
    "    return approx_months_survived\n",
    "site_survival_times = [get_month(survival_df_subset, site_id) for site_id in valid_sites]\n",
    "site_survival_times[:10]"
   ]
  },
  {
   "cell_type": "code",
   "execution_count": 32,
   "metadata": {},
   "outputs": [
    {
     "data": {
      "text/plain": [
       "DescribeResult(nobs=4946, minmax=(1.000138888888889, 86.00818672839506), mean=12.80852303324984, variance=175.5041743768222, skewness=2.1674728824456295, kurtosis=5.055594827696453)"
      ]
     },
     "execution_count": 32,
     "metadata": {},
     "output_type": "execute_result"
    }
   ],
   "source": [
    "stats.describe(site_survival_times)"
   ]
  },
  {
   "cell_type": "code",
   "execution_count": 33,
   "metadata": {},
   "outputs": [
    {
     "data": {
      "text/plain": [
       "(8.222508294753087, 12.80852303324984, 13.24645953883788)"
      ]
     },
     "execution_count": 33,
     "metadata": {},
     "output_type": "execute_result"
    }
   ],
   "source": [
    "np.median(site_survival_times), np.mean(site_survival_times), np.std(site_survival_times)"
   ]
  },
  {
   "cell_type": "code",
   "execution_count": 34,
   "metadata": {
    "scrolled": false
   },
   "outputs": [
    {
     "data": {
      "image/png": "[encoded data removed]",
      "text/plain": [
       "<Figure size 576x576 with 1 Axes>"
      ]
     },
     "metadata": {},
     "output_type": "display_data"
    }
   ],
   "source": [
    "title = \"Candidate Site Survival Time\"\n",
    "fig, ax = pl.subplots(num=title, figsize=(8,8))\n",
    "x = site_survival_times #[min(site_survival_time, 8 * 12) for site_survival_time in site_survival_times]\n",
    "month_range = 7 * 12 + 4 #2009-01 to 2016-04 is the max number of months\n",
    "patches = plt.hist(x, log=True, bins=26, range=(0,7*12+4))#, range=(0, 104), bins=26)\n",
    "ax.set_title(title)\n",
    "ax.set_xlabel(\"Site survival time (months)\")\n",
    "ax.set_ylabel(\"Number of sites\")\n",
    "\n",
    "ax.set_xticks([i for i in range(0, 7*12 + 4, 6)])\n",
    "\n",
    "ax.grid(axis=\"y\", which=\"minor\", alpha=0.5)\n",
    "plt.show()"
   ]
  },
  {
   "cell_type": "code",
   "execution_count": 97,
   "metadata": {},
   "outputs": [
    {
     "data": {
      "image/png": "[encoded data removed]",
      "text/plain": [
       "<Figure size 72x28.8 with 1 Axes>"
      ]
     },
     "metadata": {},
     "output_type": "display_data"
    }
   ],
   "source": [
    "title = \"site survival\"\n",
    "fig, ax = pl.subplots(1, num=title, figsize=(1,0.4), squeeze=True)\n",
    "\n",
    "x = site_survival_times #[min(site_survival_time, 8 * 12) for site_survival_time in site_survival_times]\n",
    "month_range = 7 * 12 + 4 #2009-01 to 2016-04 is the max number of months\n",
    "patches = plt.hist(x, log=False, bins=26, range=(0,5*12), align=\"left\", color=\"black\")\n",
    "#patches = plt.hist(x, log=False, bins=26, range=(0,10000), align=\"left\", color=\"black\")\n",
    "#plt.ylim(0, y_limit)\n",
    "\n",
    "# plot the mean as a black line\n",
    "#m = np.mean(x)\n",
    "#std = np.std(x)\n",
    "#summary_text = \"M=%.2f\\\\\\\\ SD=%.2f\" % (m, std)\n",
    "#print(summary_text)\n",
    "\n",
    "ax.set_xticks([])\n",
    "ax.set_yticks([])\n",
    "plt.axis('off')\n",
    "\n",
    "plt.tight_layout(pad=0)\n",
    "plt.subplots_adjust(top = 0.4, bottom = 0, right = 1, left = 0, \n",
    "            hspace = 0, wspace = 0)\n",
    "\n",
    "plt.margins(0,0)\n",
    "plt.gca().xaxis.set_major_locator(plt.NullLocator())\n",
    "plt.gca().yaxis.set_major_locator(plt.NullLocator())\n",
    "\n",
    "bbox = matplotlib.transforms.Bbox.from_bounds(0,0,1,0.2)\n",
    "image_shortfilename = \"survival_time_summary_hist_short.pdf\"\n",
    "image_filename = os.path.join(image_dir, image_shortfilename)\n",
    "plt.savefig(image_filename, format='pdf', dpi=200, pad_inches=0, bbox_inches=bbox) #, transparent=True)\n",
    "plt.show()"
   ]
  },
  {
   "cell_type": "code",
   "execution_count": 35,
   "metadata": {},
   "outputs": [
    {
     "data": {
      "text/plain": [
       "(datetime.datetime(2009, 1, 16, 19, 1, 57),\n",
       " datetime.datetime(2016, 2, 10, 0, 55, 37),\n",
       " 117.0)"
      ]
     },
     "execution_count": 35,
     "metadata": {},
     "output_type": "execute_result"
    }
   ],
   "source": [
    "# longest site?\n",
    "i = np.argmax(site_survival_times)\n",
    "site_id = valid_sites[i]\n",
    "site_survival = survival_df_subset[survival_df_subset['siteId'] == site_id].iloc[0]\n",
    "(dt.datetime.utcfromtimestamp(site_survival['firstJournalCreatedAt']),\n",
    "dt.datetime.utcfromtimestamp(site_survival['lastJournalCreatedAt']),\n",
    "                             site_survival['numJournalsFound'])"
   ]
  },
  {
   "cell_type": "markdown",
   "metadata": {},
   "source": [
    "#### Health condition"
   ]
  },
  {
   "cell_type": "code",
   "execution_count": 36,
   "metadata": {},
   "outputs": [
    {
     "data": {
      "text/plain": [
       "[('Breast Cancer', 2752),\n",
       " ('Lymphoma', 597),\n",
       " ('Cancer', 254),\n",
       " ('Colorectal Cancer', 225),\n",
       " ('Leukemia', 209),\n",
       " ('Ovarian Cancer', 169),\n",
       " ('Lung Cancer', 168),\n",
       " ('Myeloma Cancer', 120),\n",
       " ('Brain Cancer', 69),\n",
       " ('Other', 62),\n",
       " ('Thyroid Cancer', 62),\n",
       " ('Skin/Melanoma Cancer', 52),\n",
       " ('Oral Cancer', 51),\n",
       " ('Pancreatic Cancer', 48),\n",
       " ('Stomach/Esophageal Cancer', 24),\n",
       " ('Osteosarcoma', 20),\n",
       " ('Liver Cancer', 19),\n",
       " ('Kidney/Bladder Cancer', 18),\n",
       " ('Prostate Cancer', 18),\n",
       " ('Endometrial (Uterine)', 5),\n",
       " ('not provided', 3),\n",
       " ('Neuroblastoma', 1)]"
      ]
     },
     "execution_count": 36,
     "metadata": {},
     "output_type": "execute_result"
    }
   ],
   "source": [
    "health_condition_counter = Counter(df_subset['healthCondition_name'])\n",
    "health_condition_counter.most_common()"
   ]
  },
  {
   "cell_type": "code",
   "execution_count": 37,
   "metadata": {
    "collapsed": true
   },
   "outputs": [],
   "source": [
    "assert sum([t[1] for t in health_condition_counter.most_common()]) == len(valid_sites)"
   ]
  },
  {
   "cell_type": "code",
   "execution_count": 38,
   "metadata": {},
   "outputs": [
    {
     "data": {
      "text/plain": [
       "[('Breast Cancer', 2752),\n",
       " ('Lymphoma', 597),\n",
       " ('Other', 380),\n",
       " ('Not Specified', 257),\n",
       " ('Colorectal Cancer', 225),\n",
       " ('Leukemia', 209),\n",
       " ('Ovarian Cancer', 169),\n",
       " ('Lung Cancer', 168),\n",
       " ('Myeloma Cancer', 120),\n",
       " ('Brain Cancer', 69)]"
      ]
     },
     "execution_count": 38,
     "metadata": {},
     "output_type": "execute_result"
    }
   ],
   "source": [
    "health_condition_dict = {condition: count for condition, count in health_condition_counter.most_common()}\n",
    "not_specified_list = ['Cancer', 'not provided']\n",
    "other_threshold = 65  # include a health condition in the count for 'Other' if it fails to clear this count\n",
    "# the other_threshold was set from an inspection of the output of the counter above\n",
    "\n",
    "for cond_name in list(health_condition_dict.keys()):\n",
    "    if cond_name != 'Other' and cond_name not in not_specified_list and health_condition_dict[cond_name] < other_threshold:\n",
    "        health_condition_dict['Other'] += health_condition_dict[cond_name]\n",
    "        del health_condition_dict[cond_name]\n",
    "\n",
    "health_condition_dict['Not Specified'] = 0\n",
    "for not_spec_name in not_specified_list:\n",
    "    health_condition_dict['Not Specified'] += health_condition_dict[not_spec_name]\n",
    "    del health_condition_dict[not_spec_name]\n",
    "\n",
    "sorted_filtered_conditions = sorted([(condition, count) for condition, count in health_condition_dict.items()], key=lambda tup: tup[1], reverse=True)\n",
    "sorted_filtered_conditions"
   ]
  },
  {
   "cell_type": "code",
   "execution_count": 39,
   "metadata": {},
   "outputs": [
    {
     "name": "stdout",
     "output_type": "stream",
     "text": [
      "\\begin{tabular}[c]{@{}rlrl@{}}\n",
      "Breast Cancer & 2752 (55.6\\%) & Leukemia & 209 (4.2\\%) \\\\\n",
      "Lymphoma & 597 (12.1\\%) & Ovarian Cancer & 169 (3.4\\%) \\\\\n",
      "Other & 380 (7.7\\%) & Lung Cancer & 168 (3.4\\%) \\\\\n",
      "Not Specified & 257 (5.2\\%) & Myeloma Cancer & 120 (2.4\\%) \\\\\n",
      "Colorectal Cancer & 225 (4.5\\%) & Brain Cancer & 69 (1.4\\%) \\\\\n",
      "\\end{tabular}\n"
     ]
    }
   ],
   "source": [
    "print(\"\\\\begin{tabular}[c]{@{}rlrl@{}}\")\n",
    "halfway = len(sorted_filtered_conditions) // 2\n",
    "inds = zip(range(0, halfway), range(halfway, len(sorted_filtered_conditions)))\n",
    "for i, j in inds:\n",
    "    cond1, count1 = sorted_filtered_conditions[i]\n",
    "    pct1 = count1 / len(valid_sites) * 100\n",
    "    cond2, count2 = sorted_filtered_conditions[j]\n",
    "    pct2 = count2 / len(valid_sites) * 100\n",
    "    print(\"%s & %d (%.1f\\\\%%) & %s & %d (%.1f\\\\%%) \\\\\\\\\" % (cond1, count1, pct1, cond2, count2, pct2))\n",
    "print(\"\\\\end{tabular}\")"
   ]
  },
  {
   "cell_type": "code",
   "execution_count": 40,
   "metadata": {},
   "outputs": [
    {
     "data": {
      "text/plain": [
       "'Breast Cancer, Lymphoma, Colorectal Cancer, Leukemia, Ovarian Cancer, Lung Cancer, Myeloma Cancer, Brain Cancer, Thyroid Cancer, Skin/Melanoma Cancer, Oral Cancer, Pancreatic Cancer, Stomach/Esophageal Cancer, Osteosarcoma, Liver Cancer, Prostate Cancer, Kidney/Bladder Cancer, Endometrial (Uterine), Neuroblastoma'"
      ]
     },
     "execution_count": 40,
     "metadata": {},
     "output_type": "execute_result"
    }
   ],
   "source": [
    "cond_set = set(df_subset['healthCondition_name'])\n",
    "for cond in ['Cancer', 'Other', 'not provided']:\n",
    "    cond_set.remove(cond)\n",
    "cond_list = list(cond_set)\n",
    "cond_list.sort(key=lambda cond: health_condition_counter[cond], reverse=True)\n",
    "\", \".join(cond_list)"
   ]
  },
  {
   "cell_type": "code",
   "execution_count": 41,
   "metadata": {},
   "outputs": [
    {
     "data": {
      "text/plain": [
       "[('adult', 4908), ('teen', 38)]"
      ]
     },
     "execution_count": 41,
     "metadata": {},
     "output_type": "execute_result"
    }
   ],
   "source": [
    "Counter(df_subset['age']).most_common()"
   ]
  },
  {
   "cell_type": "code",
   "execution_count": 42,
   "metadata": {},
   "outputs": [
    {
     "data": {
      "text/html": [
       "<table border=\"1\" class=\"dataframe\">\n",
       "  <thead>\n",
       "    <tr style=\"text-align: right;\">\n",
       "      <th></th>\n",
       "      <th>_id</th>\n",
       "      <th>age</th>\n",
       "      <th>visits</th>\n",
       "      <th>annotation_url</th>\n",
       "    </tr>\n",
       "  </thead>\n",
       "  <tbody>\n",
       "    <tr>\n",
       "      <th>213601</th>\n",
       "      <td>452609</td>\n",
       "      <td>teen</td>\n",
       "      <td>36637.0</td>\n",
       "      <td><a href=\"http://127.0.0.1:5000/siteId/452609\">http://127.0.0.1:5000/siteId/452609</a></td>\n",
       "    </tr>\n",
       "    <tr>\n",
       "      <th>138199</th>\n",
       "      <td>286230</td>\n",
       "      <td>teen</td>\n",
       "      <td>12666.0</td>\n",
       "      <td><a href=\"http://127.0.0.1:5000/siteId/286230\">http://127.0.0.1:5000/siteId/286230</a></td>\n",
       "    </tr>\n",
       "    <tr>\n",
       "      <th>265307</th>\n",
       "      <td>560195</td>\n",
       "      <td>teen</td>\n",
       "      <td>11696.0</td>\n",
       "      <td><a href=\"http://127.0.0.1:5000/siteId/560195\">http://127.0.0.1:5000/siteId/560195</a></td>\n",
       "    </tr>\n",
       "    <tr>\n",
       "      <th>367099</th>\n",
       "      <td>816652</td>\n",
       "      <td>teen</td>\n",
       "      <td>7299.0</td>\n",
       "      <td><a href=\"http://127.0.0.1:5000/siteId/816652\">http://127.0.0.1:5000/siteId/816652</a></td>\n",
       "    </tr>\n",
       "    <tr>\n",
       "      <th>318441</th>\n",
       "      <td>667325</td>\n",
       "      <td>teen</td>\n",
       "      <td>6998.0</td>\n",
       "      <td><a href=\"http://127.0.0.1:5000/siteId/667325\">http://127.0.0.1:5000/siteId/667325</a></td>\n",
       "    </tr>\n",
       "    <tr>\n",
       "      <th>186864</th>\n",
       "      <td>831764</td>\n",
       "      <td>teen</td>\n",
       "      <td>6113.0</td>\n",
       "      <td><a href=\"http://127.0.0.1:5000/siteId/831764\">http://127.0.0.1:5000/siteId/831764</a></td>\n",
       "    </tr>\n",
       "    <tr>\n",
       "      <th>232104</th>\n",
       "      <td>855733</td>\n",
       "      <td>teen</td>\n",
       "      <td>5500.0</td>\n",
       "      <td><a href=\"http://127.0.0.1:5000/siteId/855733\">http://127.0.0.1:5000/siteId/855733</a></td>\n",
       "    </tr>\n",
       "    <tr>\n",
       "      <th>36574</th>\n",
       "      <td>122298</td>\n",
       "      <td>teen</td>\n",
       "      <td>5315.0</td>\n",
       "      <td><a href=\"http://127.0.0.1:5000/siteId/122298\">http://127.0.0.1:5000/siteId/122298</a></td>\n",
       "    </tr>\n",
       "    <tr>\n",
       "      <th>203019</th>\n",
       "      <td>430728</td>\n",
       "      <td>teen</td>\n",
       "      <td>4467.0</td>\n",
       "      <td><a href=\"http://127.0.0.1:5000/siteId/430728\">http://127.0.0.1:5000/siteId/430728</a></td>\n",
       "    </tr>\n",
       "    <tr>\n",
       "      <th>181117</th>\n",
       "      <td>384572</td>\n",
       "      <td>teen</td>\n",
       "      <td>4306.0</td>\n",
       "      <td><a href=\"http://127.0.0.1:5000/siteId/384572\">http://127.0.0.1:5000/siteId/384572</a></td>\n",
       "    </tr>\n",
       "    <tr>\n",
       "      <th>...</th>\n",
       "      <td>...</td>\n",
       "      <td>...</td>\n",
       "      <td>...</td>\n",
       "      <td>...</td>\n",
       "    </tr>\n",
       "    <tr>\n",
       "      <th>129910</th>\n",
       "      <td>186821</td>\n",
       "      <td>teen</td>\n",
       "      <td>591.0</td>\n",
       "      <td><a href=\"http://127.0.0.1:5000/siteId/186821\">http://127.0.0.1:5000/siteId/186821</a></td>\n",
       "    </tr>\n",
       "    <tr>\n",
       "      <th>131121</th>\n",
       "      <td>270676</td>\n",
       "      <td>teen</td>\n",
       "      <td>446.0</td>\n",
       "      <td><a href=\"http://127.0.0.1:5000/siteId/270676\">http://127.0.0.1:5000/siteId/270676</a></td>\n",
       "    </tr>\n",
       "    <tr>\n",
       "      <th>113484</th>\n",
       "      <td>174656</td>\n",
       "      <td>teen</td>\n",
       "      <td>299.0</td>\n",
       "      <td><a href=\"http://127.0.0.1:5000/siteId/174656\">http://127.0.0.1:5000/siteId/174656</a></td>\n",
       "    </tr>\n",
       "    <tr>\n",
       "      <th>64306</th>\n",
       "      <td>139932</td>\n",
       "      <td>teen</td>\n",
       "      <td>296.0</td>\n",
       "      <td><a href=\"http://127.0.0.1:5000/siteId/139932\">http://127.0.0.1:5000/siteId/139932</a></td>\n",
       "    </tr>\n",
       "    <tr>\n",
       "      <th>218656</th>\n",
       "      <td>848881</td>\n",
       "      <td>teen</td>\n",
       "      <td>208.0</td>\n",
       "      <td><a href=\"http://127.0.0.1:5000/siteId/848881\">http://127.0.0.1:5000/siteId/848881</a></td>\n",
       "    </tr>\n",
       "    <tr>\n",
       "      <th>53272</th>\n",
       "      <td>132782</td>\n",
       "      <td>teen</td>\n",
       "      <td>157.0</td>\n",
       "      <td><a href=\"http://127.0.0.1:5000/siteId/132782\">http://127.0.0.1:5000/siteId/132782</a></td>\n",
       "    </tr>\n",
       "    <tr>\n",
       "      <th>177819</th>\n",
       "      <td>377726</td>\n",
       "      <td>teen</td>\n",
       "      <td>89.0</td>\n",
       "      <td><a href=\"http://127.0.0.1:5000/siteId/377726\">http://127.0.0.1:5000/siteId/377726</a></td>\n",
       "    </tr>\n",
       "    <tr>\n",
       "      <th>28536</th>\n",
       "      <td>117464</td>\n",
       "      <td>teen</td>\n",
       "      <td>88.0</td>\n",
       "      <td><a href=\"http://127.0.0.1:5000/siteId/117464\">http://127.0.0.1:5000/siteId/117464</a></td>\n",
       "    </tr>\n",
       "    <tr>\n",
       "      <th>63724</th>\n",
       "      <td>139558</td>\n",
       "      <td>teen</td>\n",
       "      <td>78.0</td>\n",
       "      <td><a href=\"http://127.0.0.1:5000/siteId/139558\">http://127.0.0.1:5000/siteId/139558</a></td>\n",
       "    </tr>\n",
       "    <tr>\n",
       "      <th>26584</th>\n",
       "      <td>116486</td>\n",
       "      <td>teen</td>\n",
       "      <td>63.0</td>\n",
       "      <td><a href=\"http://127.0.0.1:5000/siteId/116486\">http://127.0.0.1:5000/siteId/116486</a></td>\n",
       "    </tr>\n",
       "  </tbody>\n",
       "</table>"
      ],
      "text/plain": [
       "<IPython.core.display.HTML object>"
      ]
     },
     "execution_count": 42,
     "metadata": {},
     "output_type": "execute_result"
    }
   ],
   "source": [
    "# it's possible we need to be omitting the non-adult sites from consideration?\n",
    "# we produce a view of the non-adult sites including their annotation urls\n",
    "# the original result of this analysis was manually annotating authorship on these sites to eliminate non-patient-authored sites\n",
    "nonadult = df_subset[df_subset['age'] != 'adult'][['_id', 'age', 'visits', 'annotation_url']]\n",
    "nonadult = nonadult.sort_values(by=['age', 'visits'], ascending=False)\n",
    "\n",
    "pd.set_option('display.max_colwidth', -1)  # allow the entirety of the url to show by removing column width limits\n",
    "HTML(nonadult.to_html(escape=False, max_rows=20))"
   ]
  },
  {
   "cell_type": "code",
   "execution_count": 43,
   "metadata": {},
   "outputs": [
    {
     "data": {
      "text/plain": [
       "[('nan', 4939), (0.0, 7)]"
      ]
     },
     "execution_count": 43,
     "metadata": {},
     "output_type": "execute_result"
    }
   ],
   "source": [
    "Counter(df_subset['isDeleted'].fillna(\"nan\")).most_common()"
   ]
  },
  {
   "cell_type": "code",
   "execution_count": 44,
   "metadata": {},
   "outputs": [
    {
     "data": {
      "text/plain": [
       "[('nan', 4946)]"
      ]
     },
     "execution_count": 44,
     "metadata": {},
     "output_type": "execute_result"
    }
   ],
   "source": [
    "Counter(df_subset['isSpam'].fillna(\"nan\")).most_common()"
   ]
  },
  {
   "cell_type": "code",
   "execution_count": 45,
   "metadata": {},
   "outputs": [
    {
     "data": {
      "text/plain": [
       "[('low', 2348), ('medium', 2307), ('high', 291)]"
      ]
     },
     "execution_count": 45,
     "metadata": {},
     "output_type": "execute_result"
    }
   ],
   "source": [
    "Counter(df_subset['privacy']).most_common()"
   ]
  },
  {
   "cell_type": "code",
   "execution_count": 46,
   "metadata": {},
   "outputs": [
    {
     "data": {
      "image/png": "[encoded data removed]",
      "text/plain": [
       "<Figure size 576x576 with 1 Axes>"
      ]
     },
     "metadata": {},
     "output_type": "display_data"
    }
   ],
   "source": [
    "title = \"Candidate Site Tributes\"\n",
    "fig, ax = pl.subplots(num=title, figsize=(8,8))\n",
    "x = df_subset['numTributes'].fillna(0)\n",
    "patches = plt.hist(x, log=True, range=(0, 20), bins=20)\n",
    "ax.set_title(title)\n",
    "ax.set_xlabel(\"Tributes\")\n",
    "ax.set_ylabel(\"Number of sites\")\n",
    "\n",
    "ax.set_xticks(range(0,21,1))\n",
    "\n",
    "ax.grid(axis=\"y\", alpha=0.5)\n",
    "plt.show()"
   ]
  },
  {
   "cell_type": "code",
   "execution_count": 47,
   "metadata": {},
   "outputs": [
    {
     "data": {
      "image/png": "[encoded data removed]",
      "text/plain": [
       "<Figure size 576x576 with 1 Axes>"
      ]
     },
     "metadata": {},
     "output_type": "display_data"
    }
   ],
   "source": [
    "title = \"Candidate Site Visitor Invites\"\n",
    "fig, ax = pl.subplots(num=title, figsize=(8,8))\n",
    "x = df_subset['numVisitorInvites'].fillna(0)\n",
    "patches = plt.hist(x, log=True, range=(0,20), bins=20)\n",
    "ax.set_title(title)\n",
    "ax.set_xlabel(\"Visitor invites\")\n",
    "ax.set_ylabel(\"Number of sites\")\n",
    "\n",
    "ax.set_xticks(range(0,21,1))\n",
    "\n",
    "ax.grid(axis=\"y\", alpha=0.5)\n",
    "plt.show()"
   ]
  },
  {
   "cell_type": "code",
   "execution_count": null,
   "metadata": {
    "collapsed": true
   },
   "outputs": [],
   "source": []
  },
  {
   "cell_type": "markdown",
   "metadata": {},
   "source": [
    "## IRR set identification"
   ]
  },
  {
   "cell_type": "code",
   "execution_count": null,
   "metadata": {
    "collapsed": true
   },
   "outputs": [],
   "source": [
    "random.seed(1000)\n",
    "random.shuffle(valid_sites)\n",
    "len(valid_sites)"
   ]
  },
  {
   "cell_type": "code",
   "execution_count": null,
   "metadata": {
    "collapsed": true
   },
   "outputs": [],
   "source": [
    "irr_set_size = 10\n",
    "irr_set = valid_sites[:irr_set_size]\n",
    "irr_set.sort()\n",
    "irr_set"
   ]
  },
  {
   "cell_type": "code",
   "execution_count": null,
   "metadata": {
    "collapsed": true
   },
   "outputs": [],
   "source": [
    "irr_df = df_subset[df_subset['_id'].isin(irr_set)]\n",
    "assert len(irr_df) == irr_set_size\n",
    "irr_df = irr_df.sort_values(by=['_id'])\n",
    "irr_df = irr_df[['_id', 'title', 'visits', 'numJournals', 'annotation_url']]\n",
    "\n",
    "pd.set_option('display.max_colwidth', -1)  # allow the entirety of the url to show by removing column width limits\n",
    "HTML(irr_df.to_html(escape=False))"
   ]
  },
  {
   "cell_type": "code",
   "execution_count": null,
   "metadata": {
    "collapsed": true
   },
   "outputs": [],
   "source": [
    "# write the irr_set as an assignment to the appropriate users\n",
    "irr_assigned_users = ['levon003', 'rubya001']\n",
    "base_dir = \"/home/srivbane/shared/caringbridge/data/projects/qual-health-journeys/instance/annotation_data/assignments\"\n",
    "header = \"3: Fourth IRR set (tag for both phases and responsibilities)\"\n",
    "for user in irr_assigned_users:\n",
    "    irr_filename = \"irr_set_4_20180901.txt\"\n",
    "    irr_filepath = os.path.join(base_dir, user, irr_filename)\n",
    "    with open(irr_filepath, 'w') as outfile:\n",
    "        outfile.write(header + \"\\n\")\n",
    "        outfile.write(\"\\n\".join([str(sid) for sid in irr_set]))\n",
    "print(\"Finished.\")"
   ]
  },
  {
   "cell_type": "code",
   "execution_count": null,
   "metadata": {
    "collapsed": true
   },
   "outputs": [],
   "source": [
    "# what health conditions are included in this set?\n",
    "irr_df = df_subset[df_subset['_id'].isin(irr_set)]\n",
    "Counter(irr_df['healthCondition_name']).most_common()"
   ]
  },
  {
   "cell_type": "code",
   "execution_count": null,
   "metadata": {},
   "outputs": [],
   "source": [
    "raise ValueError(\"This cell is a protection against accidentally running all the cells in this notebook.\")"
   ]
  },
  {
   "cell_type": "markdown",
   "metadata": {
    "collapsed": true
   },
   "source": [
    "## Phase set for Wenqi\n",
    "\n",
    "This section added to generate a random set of sites for phase annotation."
   ]
  },
  {
   "cell_type": "code",
   "execution_count": 3,
   "metadata": {
    "scrolled": true
   },
   "outputs": [
    {
     "data": {
      "text/plain": [
       "4946"
      ]
     },
     "execution_count": 3,
     "metadata": {},
     "output_type": "execute_result"
    }
   ],
   "source": [
    "valid_sites = [int(line.strip()) for line in open(valid_sites_filtered_filename, 'r').readlines() if line.strip() != \"\"]\n",
    "len(valid_sites)"
   ]
  },
  {
   "cell_type": "code",
   "execution_count": 7,
   "metadata": {},
   "outputs": [
    {
     "data": {
      "text/plain": [
       "array([188675, 200697, 832045, 479074, 254110, 201608, 511451, 159835,\n",
       "       274818, 306606])"
      ]
     },
     "execution_count": 7,
     "metadata": {},
     "output_type": "execute_result"
    }
   ],
   "source": [
    "selected_sites = np.random.choice(valid_sites, size=50)\n",
    "selected_sites[:10]"
   ]
  },
  {
   "cell_type": "code",
   "execution_count": 8,
   "metadata": {},
   "outputs": [
    {
     "name": "stdout",
     "output_type": "stream",
     "text": [
      "Finished.\n"
     ]
    }
   ],
   "source": [
    "irr_assigned_users = ['levon003', 'luoxx498']\n",
    "base_dir = \"/home/srivbane/shared/caringbridge/data/projects/qual-health-journeys/instance/annotation_data/assignments\"\n",
    "header = \"Phases 5: Sites for phase annotation\"\n",
    "for user in irr_assigned_users:\n",
    "    filename = \"phases_set_5_20180904.txt\"\n",
    "    filepath = os.path.join(base_dir, user, filename)\n",
    "    with open(filepath, 'w') as outfile:\n",
    "        outfile.write(header + \"\\n\")\n",
    "        outfile.write(\"\\n\".join([str(sid) for sid in selected_sites]))\n",
    "print(\"Finished.\")"
   ]
  },
  {
   "cell_type": "markdown",
   "metadata": {
    "collapsed": true
   },
   "source": [
    "## Phase set for active learning"
   ]
  },
  {
   "cell_type": "code",
   "execution_count": 4,
   "metadata": {},
   "outputs": [
    {
     "data": {
      "text/plain": [
       "4946"
      ]
     },
     "execution_count": 4,
     "metadata": {},
     "output_type": "execute_result"
    }
   ],
   "source": [
    "valid_sites = [int(line.strip()) for line in open(valid_sites_filtered_filename, 'r').readlines() if line.strip() != \"\"]\n",
    "len(valid_sites)"
   ]
  },
  {
   "cell_type": "code",
   "execution_count": 5,
   "metadata": {
    "scrolled": true
   },
   "outputs": [
    {
     "data": {
      "text/plain": [
       "array([135757, 120611, 480360, 711193, 849336, 374280, 838612, 366721,\n",
       "       257935, 535241])"
      ]
     },
     "execution_count": 5,
     "metadata": {},
     "output_type": "execute_result"
    }
   ],
   "source": [
    "n = 1000\n",
    "selected_sites = np.random.choice(valid_sites, size=n)\n",
    "selected_sites[:10]"
   ]
  },
  {
   "cell_type": "code",
   "execution_count": 7,
   "metadata": {},
   "outputs": [
    {
     "name": "stdout",
     "output_type": "stream",
     "text": [
      "/home/srivbane/shared/caringbridge/data/projects/qual-health-journeys/identify_candidate_sites/active_learning_set_1000.txt\n",
      "Finished.\n"
     ]
    }
   ],
   "source": [
    "active_learning_set_filepath = os.path.join(working_dir, 'active_learning_set_%d.txt' % n)\n",
    "print(active_learning_set_filepath)\n",
    "with open(active_learning_set_filepath, 'w') as outfile:\n",
    "    outfile.write(\"\\n\".join([str(sid) for sid in selected_sites]))\n",
    "print(\"Finished.\")"
   ]
  },
  {
   "cell_type": "markdown",
   "metadata": {
    "collapsed": true
   },
   "source": [
    "## Multiset 2 for Sabirat\n",
    "\n",
    "This section added to generate a random set of sites for phase and responsibility annotation."
   ]
  },
  {
   "cell_type": "code",
   "execution_count": 3,
   "metadata": {
    "scrolled": true
   },
   "outputs": [
    {
     "data": {
      "text/plain": [
       "4946"
      ]
     },
     "execution_count": 3,
     "metadata": {},
     "output_type": "execute_result"
    }
   ],
   "source": [
    "valid_sites = [int(line.strip()) for line in open(valid_sites_filtered_filename, 'r').readlines() if line.strip() != \"\"]\n",
    "len(valid_sites)"
   ]
  },
  {
   "cell_type": "code",
   "execution_count": 4,
   "metadata": {},
   "outputs": [
    {
     "data": {
      "text/plain": [
       "array([ 377726,  196373,  172671,  549387,  129985, 1016139,  397600,\n",
       "        372848,  239130,  142712,  690079,  361879,  396746,  843843,\n",
       "        163893,  996965,  277108,  176087,  466538,  941782])"
      ]
     },
     "execution_count": 4,
     "metadata": {},
     "output_type": "execute_result"
    }
   ],
   "source": [
    "selected_sites = np.random.choice(valid_sites, size=20)\n",
    "selected_sites"
   ]
  },
  {
   "cell_type": "code",
   "execution_count": 5,
   "metadata": {},
   "outputs": [
    {
     "name": "stdout",
     "output_type": "stream",
     "text": [
      "Finished.\n"
     ]
    }
   ],
   "source": [
    "irr_assigned_users = ['rubya001']\n",
    "base_dir = \"/home/srivbane/shared/caringbridge/data/projects/qual-health-journeys/instance/annotation_data/assignments\"\n",
    "header = \"Multiset 2: Sites for phase and responsibility annotation\"\n",
    "for user in irr_assigned_users:\n",
    "    filename = \"multiset_2_20181009.txt\"\n",
    "    filepath = os.path.join(base_dir, user, filename)\n",
    "    with open(filepath, 'w') as outfile:\n",
    "        outfile.write(header + \"\\n\")\n",
    "        outfile.write(\"\\n\".join([str(sid) for sid in selected_sites]))\n",
    "print(\"Finished.\")"
   ]
  },
  {
   "cell_type": "markdown",
   "metadata": {
    "collapsed": true
   },
   "source": [
    "## Multiset 3 for Wenqi and Drew"
   ]
  },
  {
   "cell_type": "code",
   "execution_count": 3,
   "metadata": {
    "scrolled": true
   },
   "outputs": [
    {
     "data": {
      "text/plain": [
       "4946"
      ]
     },
     "execution_count": 3,
     "metadata": {},
     "output_type": "execute_result"
    }
   ],
   "source": [
    "valid_sites = [int(line.strip()) for line in open(valid_sites_filtered_filename, 'r').readlines() if line.strip() != \"\"]\n",
    "len(valid_sites)"
   ]
  },
  {
   "cell_type": "code",
   "execution_count": 4,
   "metadata": {},
   "outputs": [
    {
     "data": {
      "text/plain": [
       "array([ 444370,  226963,  208865, 1031178,  260918,  106710,  241536,\n",
       "        565371,  131547,  465780,  850650,  136046, 1034840,  853217,\n",
       "        410698,  655867,  612427,  215287, 1024209,  235240])"
      ]
     },
     "execution_count": 4,
     "metadata": {},
     "output_type": "execute_result"
    }
   ],
   "source": [
    "selected_sites = np.random.choice(valid_sites, size=20)\n",
    "selected_sites"
   ]
  },
  {
   "cell_type": "code",
   "execution_count": 5,
   "metadata": {},
   "outputs": [
    {
     "name": "stdout",
     "output_type": "stream",
     "text": [
      "Finished.\n"
     ]
    }
   ],
   "source": [
    "irr_assigned_users = ['eriks074', 'luoxx498']\n",
    "base_dir = \"/home/srivbane/shared/caringbridge/data/projects/qual-health-journeys/instance/annotation_data/assignments\"\n",
    "header = \"Multiset 3: Sites for phase and responsibility annotation\"\n",
    "for user in irr_assigned_users:\n",
    "    filename = \"multiset_3_20181019.txt\"\n",
    "    filepath = os.path.join(base_dir, user, filename)\n",
    "    with open(filepath, 'w') as outfile:\n",
    "        outfile.write(header + \"\\n\")\n",
    "        outfile.write(\"\\n\".join([str(sid) for sid in selected_sites]))\n",
    "print(\"Finished.\")"
   ]
  },
  {
   "cell_type": "code",
   "execution_count": null,
   "metadata": {
    "collapsed": true
   },
   "outputs": [],
   "source": []
  },
  {
   "cell_type": "markdown",
   "metadata": {
    "collapsed": true
   },
   "source": [
    "## Multiset 4 for Wenqi and Drew"
   ]
  },
  {
   "cell_type": "code",
   "execution_count": 3,
   "metadata": {
    "scrolled": true
   },
   "outputs": [
    {
     "data": {
      "text/plain": [
       "4946"
      ]
     },
     "execution_count": 3,
     "metadata": {},
     "output_type": "execute_result"
    }
   ],
   "source": [
    "valid_sites = [int(line.strip()) for line in open(valid_sites_filtered_filename, 'r').readlines() if line.strip() != \"\"]\n",
    "len(valid_sites)"
   ]
  },
  {
   "cell_type": "code",
   "execution_count": 4,
   "metadata": {},
   "outputs": [
    {
     "data": {
      "text/plain": [
       "array([161454, 537539, 230820, 921385, 302124, 198138, 561373, 820897,\n",
       "       376170, 197260, 181230, 630153, 376466, 186370, 812280, 139736,\n",
       "       225553, 322976, 635531, 192780])"
      ]
     },
     "execution_count": 4,
     "metadata": {},
     "output_type": "execute_result"
    }
   ],
   "source": [
    "selected_sites = np.random.choice(valid_sites, size=20)\n",
    "selected_sites"
   ]
  },
  {
   "cell_type": "code",
   "execution_count": 5,
   "metadata": {},
   "outputs": [
    {
     "name": "stdout",
     "output_type": "stream",
     "text": [
      "Finished.\n"
     ]
    }
   ],
   "source": [
    "irr_assigned_users = ['eriks074', 'luoxx498']\n",
    "base_dir = \"/home/srivbane/shared/caringbridge/data/projects/qual-health-journeys/instance/annotation_data/assignments\"\n",
    "header = \"Multiset 4: Sites for responsibility annotation\"\n",
    "for user in irr_assigned_users:\n",
    "    filename = \"multiset_4_20181206.txt\"\n",
    "    filepath = os.path.join(base_dir, user, filename)\n",
    "    with open(filepath, 'w') as outfile:\n",
    "        outfile.write(header + \"\\n\")\n",
    "        outfile.write(\"\\n\".join([str(sid) for sid in selected_sites]))\n",
    "print(\"Finished.\")"
   ]
  },
  {
   "cell_type": "code",
   "execution_count": null,
   "metadata": {
    "collapsed": true
   },
   "outputs": [],
   "source": []
  }
 ],
 "metadata": {
  "kernelspec": {
   "display_name": "Python 3",
   "language": "python",
   "name": "python3"
  },
  "language_info": {
   "codemirror_mode": {
    "name": "ipython",
    "version": 3
   },
   "file_extension": ".py",
   "mimetype": "text/x-python",
   "name": "python",
   "nbconvert_exporter": "python",
   "pygments_lexer": "ipython3",
   "version": "3.6.8"
  }
 },
 "nbformat": 4,
 "nbformat_minor": 1
}
