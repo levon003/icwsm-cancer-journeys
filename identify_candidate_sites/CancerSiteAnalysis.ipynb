{
 "cells": [
  {
   "cell_type": "markdown",
   "metadata": {},
   "source": [
    "Cancer Site Analysis\n",
    "==="
   ]
  },
  {
   "cell_type": "code",
   "execution_count": 1,
   "metadata": {
    "collapsed": true
   },
   "outputs": [],
   "source": [
    "%matplotlib inline\n",
    "from IPython.core.display import display, HTML\n",
    "\n",
    "import os\n",
    "import numpy as np\n",
    "import pandas as pd\n",
    "import itertools\n",
    "\n",
    "import matplotlib.pyplot as plt\n",
    "import matplotlib.dates as md\n",
    "import matplotlib\n",
    "import pylab as pl\n",
    "\n",
    "import datetime as dt\n",
    "from datetime import datetime\n",
    "import pytz\n",
    "import time\n",
    "\n",
    "from collections import Counter\n",
    "\n",
    "import json\n",
    "import os\n",
    "import re\n",
    "from html.parser import HTMLParser\n",
    "import itertools\n",
    "import multiprocessing as mp\n",
    "from nltk import word_tokenize\n",
    "from IPython.core.display import display, HTML\n",
    "import datetime as dt"
   ]
  },
  {
   "cell_type": "code",
   "execution_count": 2,
   "metadata": {},
   "outputs": [
    {
     "data": {
      "text/plain": [
       "<function pandas.io.feather_format.read_feather(path, nthreads=1)>"
      ]
     },
     "execution_count": 2,
     "metadata": {},
     "output_type": "execute_result"
    }
   ],
   "source": [
    "pd.read_feather"
   ]
  },
  {
   "cell_type": "code",
   "execution_count": 3,
   "metadata": {},
   "outputs": [],
   "source": [
    "working_dir = \"/home/srivbane/shared/caringbridge/data/projects/qual-health-journeys/extract_site_features\"\n",
    "feathered_site_df_filename = os.path.join(working_dir, \"site_scrubbed.df\")\n",
    "df = pd.read_feather(feathered_site_df_filename)"
   ]
  },
  {
   "cell_type": "code",
   "execution_count": 4,
   "metadata": {},
   "outputs": [
    {
     "data": {
      "text/plain": [
       "1117605558000.0"
      ]
     },
     "execution_count": 4,
     "metadata": {},
     "output_type": "execute_result"
    }
   ],
   "source": [
    "min(df[\"createdAt\"])"
   ]
  },
  {
   "cell_type": "code",
   "execution_count": 5,
   "metadata": {
    "scrolled": true
   },
   "outputs": [
    {
     "data": {
      "text/plain": [
       "104500"
      ]
     },
     "execution_count": 5,
     "metadata": {},
     "output_type": "execute_result"
    }
   ],
   "source": [
    "len(df[df[\"healthCondition_category\"] == \"Cancer\"])"
   ]
  },
  {
   "cell_type": "code",
   "execution_count": 6,
   "metadata": {
    "collapsed": true
   },
   "outputs": [],
   "source": [
    "cancer_df = df[df[\"healthCondition_category\"] == \"Cancer\"]"
   ]
  },
  {
   "cell_type": "code",
   "execution_count": 7,
   "metadata": {},
   "outputs": [
    {
     "data": {
      "text/plain": [
       "4389786.0"
      ]
     },
     "execution_count": 7,
     "metadata": {},
     "output_type": "execute_result"
    }
   ],
   "source": [
    "np.sum(cancer_df[\"numJournals\"])"
   ]
  },
  {
   "cell_type": "code",
   "execution_count": 8,
   "metadata": {
    "collapsed": true
   },
   "outputs": [],
   "source": [
    "# load the actual counts\n",
    "filename = \"/home/srivbane/shared/caringbridge/data/raw/../projects/classify_health_condition/vw_experiments/site_survival_time.csv\"\n",
    "count_df = pd.read_csv(filename, header=None, names=[\"_id\", \"created_at_utc\", \"updated_at_utc\", \"first_journal_timestamp\", \"last_journal_timestamp\", \"numJournals\", \"trueNumJournals\"])"
   ]
  },
  {
   "cell_type": "code",
   "execution_count": 9,
   "metadata": {},
   "outputs": [
    {
     "data": {
      "text/html": [
       "<div>\n",
       "<style scoped>\n",
       "    .dataframe tbody tr th:only-of-type {\n",
       "        vertical-align: middle;\n",
       "    }\n",
       "\n",
       "    .dataframe tbody tr th {\n",
       "        vertical-align: top;\n",
       "    }\n",
       "\n",
       "    .dataframe thead th {\n",
       "        text-align: right;\n",
       "    }\n",
       "</style>\n",
       "<table border=\"1\" class=\"dataframe\">\n",
       "  <thead>\n",
       "    <tr style=\"text-align: right;\">\n",
       "      <th></th>\n",
       "      <th>_id</th>\n",
       "      <th>created_at_utc</th>\n",
       "      <th>updated_at_utc</th>\n",
       "      <th>first_journal_timestamp</th>\n",
       "      <th>last_journal_timestamp</th>\n",
       "      <th>numJournals</th>\n",
       "      <th>trueNumJournals</th>\n",
       "    </tr>\n",
       "  </thead>\n",
       "  <tbody>\n",
       "    <tr>\n",
       "      <th>0</th>\n",
       "      <td>1</td>\n",
       "      <td>1.117606e+09</td>\n",
       "      <td>1.371331e+09</td>\n",
       "      <td>1.103857e+09</td>\n",
       "      <td>1.261008e+09</td>\n",
       "      <td>180</td>\n",
       "      <td>187</td>\n",
       "    </tr>\n",
       "    <tr>\n",
       "      <th>1</th>\n",
       "      <td>3</td>\n",
       "      <td>1.117606e+09</td>\n",
       "      <td>1.371066e+09</td>\n",
       "      <td>1.117606e+09</td>\n",
       "      <td>1.117606e+09</td>\n",
       "      <td>1</td>\n",
       "      <td>1</td>\n",
       "    </tr>\n",
       "    <tr>\n",
       "      <th>2</th>\n",
       "      <td>4</td>\n",
       "      <td>1.117606e+09</td>\n",
       "      <td>1.370884e+09</td>\n",
       "      <td>1.117606e+09</td>\n",
       "      <td>1.147749e+09</td>\n",
       "      <td>2</td>\n",
       "      <td>2</td>\n",
       "    </tr>\n",
       "    <tr>\n",
       "      <th>3</th>\n",
       "      <td>2</td>\n",
       "      <td>1.118088e+09</td>\n",
       "      <td>1.371138e+09</td>\n",
       "      <td>1.117053e+09</td>\n",
       "      <td>1.180150e+09</td>\n",
       "      <td>0</td>\n",
       "      <td>29</td>\n",
       "    </tr>\n",
       "    <tr>\n",
       "      <th>4</th>\n",
       "      <td>8</td>\n",
       "      <td>1.117608e+09</td>\n",
       "      <td>1.371260e+09</td>\n",
       "      <td>1.117608e+09</td>\n",
       "      <td>1.117608e+09</td>\n",
       "      <td>1</td>\n",
       "      <td>1</td>\n",
       "    </tr>\n",
       "  </tbody>\n",
       "</table>\n",
       "</div>"
      ],
      "text/plain": [
       "   _id  created_at_utc  updated_at_utc  first_journal_timestamp  \\\n",
       "0    1    1.117606e+09    1.371331e+09             1.103857e+09   \n",
       "1    3    1.117606e+09    1.371066e+09             1.117606e+09   \n",
       "2    4    1.117606e+09    1.370884e+09             1.117606e+09   \n",
       "3    2    1.118088e+09    1.371138e+09             1.117053e+09   \n",
       "4    8    1.117608e+09    1.371260e+09             1.117608e+09   \n",
       "\n",
       "   last_journal_timestamp  numJournals  trueNumJournals  \n",
       "0            1.261008e+09          180              187  \n",
       "1            1.117606e+09            1                1  \n",
       "2            1.147749e+09            2                2  \n",
       "3            1.180150e+09            0               29  \n",
       "4            1.117608e+09            1                1  "
      ]
     },
     "execution_count": 9,
     "metadata": {},
     "output_type": "execute_result"
    }
   ],
   "source": [
    "count_df.head()"
   ]
  },
  {
   "cell_type": "code",
   "execution_count": 10,
   "metadata": {},
   "outputs": [],
   "source": [
    "merged = pd.merge(cancer_df, count_df, how='left', on=\"_id\")"
   ]
  },
  {
   "cell_type": "code",
   "execution_count": 11,
   "metadata": {},
   "outputs": [
    {
     "data": {
      "text/html": [
       "<div>\n",
       "<style scoped>\n",
       "    .dataframe tbody tr th:only-of-type {\n",
       "        vertical-align: middle;\n",
       "    }\n",
       "\n",
       "    .dataframe tbody tr th {\n",
       "        vertical-align: top;\n",
       "    }\n",
       "\n",
       "    .dataframe thead th {\n",
       "        text-align: right;\n",
       "    }\n",
       "</style>\n",
       "<table border=\"1\" class=\"dataframe\">\n",
       "  <thead>\n",
       "    <tr style=\"text-align: right;\">\n",
       "      <th></th>\n",
       "      <th>numJournals_x</th>\n",
       "      <th>numJournals_y</th>\n",
       "      <th>trueNumJournals</th>\n",
       "    </tr>\n",
       "  </thead>\n",
       "  <tbody>\n",
       "    <tr>\n",
       "      <th>count</th>\n",
       "      <td>101775.000000</td>\n",
       "      <td>104500.000000</td>\n",
       "      <td>104500.000000</td>\n",
       "    </tr>\n",
       "    <tr>\n",
       "      <th>mean</th>\n",
       "      <td>43.132262</td>\n",
       "      <td>41.981445</td>\n",
       "      <td>47.114890</td>\n",
       "    </tr>\n",
       "    <tr>\n",
       "      <th>std</th>\n",
       "      <td>75.918657</td>\n",
       "      <td>75.251640</td>\n",
       "      <td>104.611362</td>\n",
       "    </tr>\n",
       "    <tr>\n",
       "      <th>min</th>\n",
       "      <td>0.000000</td>\n",
       "      <td>-1.000000</td>\n",
       "      <td>0.000000</td>\n",
       "    </tr>\n",
       "    <tr>\n",
       "      <th>25%</th>\n",
       "      <td>7.000000</td>\n",
       "      <td>6.000000</td>\n",
       "      <td>7.000000</td>\n",
       "    </tr>\n",
       "    <tr>\n",
       "      <th>50%</th>\n",
       "      <td>22.000000</td>\n",
       "      <td>21.000000</td>\n",
       "      <td>21.000000</td>\n",
       "    </tr>\n",
       "    <tr>\n",
       "      <th>75%</th>\n",
       "      <td>49.000000</td>\n",
       "      <td>48.000000</td>\n",
       "      <td>50.000000</td>\n",
       "    </tr>\n",
       "    <tr>\n",
       "      <th>max</th>\n",
       "      <td>3762.000000</td>\n",
       "      <td>3762.000000</td>\n",
       "      <td>5034.000000</td>\n",
       "    </tr>\n",
       "  </tbody>\n",
       "</table>\n",
       "</div>"
      ],
      "text/plain": [
       "       numJournals_x  numJournals_y  trueNumJournals\n",
       "count  101775.000000  104500.000000    104500.000000\n",
       "mean       43.132262      41.981445        47.114890\n",
       "std        75.918657      75.251640       104.611362\n",
       "min         0.000000      -1.000000         0.000000\n",
       "25%         7.000000       6.000000         7.000000\n",
       "50%        22.000000      21.000000        21.000000\n",
       "75%        49.000000      48.000000        50.000000\n",
       "max      3762.000000    3762.000000      5034.000000"
      ]
     },
     "execution_count": 11,
     "metadata": {},
     "output_type": "execute_result"
    }
   ],
   "source": [
    "merged[[\"numJournals_x\", \"numJournals_y\", \"trueNumJournals\"]].describe()"
   ]
  },
  {
   "cell_type": "code",
   "execution_count": 12,
   "metadata": {},
   "outputs": [
    {
     "data": {
      "text/plain": [
       "4923506"
      ]
     },
     "execution_count": 12,
     "metadata": {},
     "output_type": "execute_result"
    }
   ],
   "source": [
    "np.sum(merged[\"trueNumJournals\"])"
   ]
  },
  {
   "cell_type": "code",
   "execution_count": 13,
   "metadata": {
    "collapsed": true
   },
   "outputs": [],
   "source": [
    "utc1990 = 631152000\n",
    "utc2000 = 946684800"
   ]
  },
  {
   "cell_type": "code",
   "execution_count": 14,
   "metadata": {},
   "outputs": [
    {
     "data": {
      "text/plain": [
       "87234"
      ]
     },
     "execution_count": 14,
     "metadata": {},
     "output_type": "execute_result"
    }
   ],
   "source": [
    "of_interest = merged[(merged[\"trueNumJournals\"] >= 3) & (merged[\"last_journal_timestamp\"] >= utc1990) & (merged[\"first_journal_timestamp\"] >= utc1990)]\n",
    "len(of_interest)"
   ]
  },
  {
   "cell_type": "code",
   "execution_count": 15,
   "metadata": {},
   "outputs": [
    {
     "data": {
      "text/plain": [
       "19.00298706240487"
      ]
     },
     "execution_count": 15,
     "metadata": {},
     "output_type": "execute_result"
    }
   ],
   "source": [
    "# This should be the duration in years of the longest site, but it seems way too long...\n",
    "np.max(of_interest[\"last_journal_timestamp\"] - of_interest[\"first_journal_timestamp\"]) / 60 / 60 / 24 / 365"
   ]
  },
  {
   "cell_type": "code",
   "execution_count": 16,
   "metadata": {
    "scrolled": false
   },
   "outputs": [
    {
     "name": "stderr",
     "output_type": "stream",
     "text": [
      "/home/srivbane/levon003/anaconda3/lib/python3.6/site-packages/ipykernel_launcher.py:1: SettingWithCopyWarning: \n",
      "A value is trying to be set on a copy of a slice from a DataFrame.\n",
      "Try using .loc[row_indexer,col_indexer] = value instead\n",
      "\n",
      "See the caveats in the documentation: http://pandas.pydata.org/pandas-docs/stable/indexing.html#indexing-view-versus-copy\n",
      "  \"\"\"Entry point for launching an IPython kernel.\n"
     ]
    },
    {
     "data": {
      "text/html": [
       "<div>\n",
       "<style scoped>\n",
       "    .dataframe tbody tr th:only-of-type {\n",
       "        vertical-align: middle;\n",
       "    }\n",
       "\n",
       "    .dataframe tbody tr th {\n",
       "        vertical-align: top;\n",
       "    }\n",
       "\n",
       "    .dataframe thead th {\n",
       "        text-align: right;\n",
       "    }\n",
       "</style>\n",
       "<table border=\"1\" class=\"dataframe\">\n",
       "  <thead>\n",
       "    <tr style=\"text-align: right;\">\n",
       "      <th></th>\n",
       "      <th>_id</th>\n",
       "      <th>created_at_utc</th>\n",
       "      <th>updated_at_utc</th>\n",
       "      <th>first_journal_timestamp</th>\n",
       "      <th>last_journal_timestamp</th>\n",
       "      <th>survival_time</th>\n",
       "    </tr>\n",
       "  </thead>\n",
       "  <tbody>\n",
       "    <tr>\n",
       "      <th>82092</th>\n",
       "      <td>644167</td>\n",
       "      <td>1.356228e+09</td>\n",
       "      <td>1.371276e+09</td>\n",
       "      <td>1.357269e+09</td>\n",
       "      <td>1.956547e+09</td>\n",
       "      <td>599278200.0</td>\n",
       "    </tr>\n",
       "    <tr>\n",
       "      <th>3300</th>\n",
       "      <td>17812</td>\n",
       "      <td>1.153181e+09</td>\n",
       "      <td>1.458358e+09</td>\n",
       "      <td>9.467597e+08</td>\n",
       "      <td>1.461687e+09</td>\n",
       "      <td>514927049.0</td>\n",
       "    </tr>\n",
       "    <tr>\n",
       "      <th>10076</th>\n",
       "      <td>32515</td>\n",
       "      <td>1.175393e+09</td>\n",
       "      <td>1.371394e+09</td>\n",
       "      <td>9.557909e+08</td>\n",
       "      <td>1.461887e+09</td>\n",
       "      <td>506096571.0</td>\n",
       "    </tr>\n",
       "    <tr>\n",
       "      <th>72148</th>\n",
       "      <td>558493</td>\n",
       "      <td>1.341144e+09</td>\n",
       "      <td>1.371381e+09</td>\n",
       "      <td>9.292757e+08</td>\n",
       "      <td>1.424269e+09</td>\n",
       "      <td>494992854.0</td>\n",
       "    </tr>\n",
       "    <tr>\n",
       "      <th>15304</th>\n",
       "      <td>43301</td>\n",
       "      <td>1.186368e+09</td>\n",
       "      <td>1.370898e+09</td>\n",
       "      <td>9.602203e+08</td>\n",
       "      <td>1.449791e+09</td>\n",
       "      <td>489570526.0</td>\n",
       "    </tr>\n",
       "  </tbody>\n",
       "</table>\n",
       "</div>"
      ],
      "text/plain": [
       "          _id  created_at_utc  updated_at_utc  first_journal_timestamp  \\\n",
       "82092  644167    1.356228e+09    1.371276e+09             1.357269e+09   \n",
       "3300    17812    1.153181e+09    1.458358e+09             9.467597e+08   \n",
       "10076   32515    1.175393e+09    1.371394e+09             9.557909e+08   \n",
       "72148  558493    1.341144e+09    1.371381e+09             9.292757e+08   \n",
       "15304   43301    1.186368e+09    1.370898e+09             9.602203e+08   \n",
       "\n",
       "       last_journal_timestamp  survival_time  \n",
       "82092            1.956547e+09    599278200.0  \n",
       "3300             1.461687e+09    514927049.0  \n",
       "10076            1.461887e+09    506096571.0  \n",
       "72148            1.424269e+09    494992854.0  \n",
       "15304            1.449791e+09    489570526.0  "
      ]
     },
     "execution_count": 16,
     "metadata": {},
     "output_type": "execute_result"
    }
   ],
   "source": [
    "of_interest[\"survival_time\"] = of_interest[\"last_journal_timestamp\"] - of_interest[\"first_journal_timestamp\"]\n",
    "longest_cancer_sites = of_interest[[\"_id\", \"created_at_utc\", \"updated_at_utc\", \"first_journal_timestamp\", \"last_journal_timestamp\", \"survival_time\"]]\n",
    "longest_cancer_sites = longest_cancer_sites.sort_values(by=\"survival_time\", ascending=False)\n",
    "longest_cancer_sites.head()"
   ]
  },
  {
   "cell_type": "code",
   "execution_count": 17,
   "metadata": {
    "collapsed": true
   },
   "outputs": [],
   "source": [
    "def convert_dates(created_at_utc):\n",
    "    if created_at_utc < utc1990:\n",
    "        return \"%.2f years\" % (created_at_utc / (60 * 60 * 24 * 365))\n",
    "    \n",
    "    unaware_datetime = datetime.utcfromtimestamp(created_at_utc)\n",
    "    utc_datetime = unaware_datetime.replace(tzinfo=pytz.UTC)\n",
    "    cst_datetime = utc_datetime.astimezone(tz=pytz.timezone(\"America/Chicago\"))\n",
    "    \n",
    "    datetime_string = cst_datetime.strftime(\"%Y-%m-%d\")\n",
    "    return datetime_string\n",
    "\n",
    "str_longest_df = longest_cancer_sites.copy()\n",
    "for col in ['created_at_utc', 'updated_at_utc', 'first_journal_timestamp', 'last_journal_timestamp', 'survival_time']:\n",
    "    str_longest_df[col] = str_longest_df[col].map(convert_dates)"
   ]
  },
  {
   "cell_type": "code",
   "execution_count": 18,
   "metadata": {
    "scrolled": false
   },
   "outputs": [
    {
     "data": {
      "text/html": [
       "<div>\n",
       "<style scoped>\n",
       "    .dataframe tbody tr th:only-of-type {\n",
       "        vertical-align: middle;\n",
       "    }\n",
       "\n",
       "    .dataframe tbody tr th {\n",
       "        vertical-align: top;\n",
       "    }\n",
       "\n",
       "    .dataframe thead th {\n",
       "        text-align: right;\n",
       "    }\n",
       "</style>\n",
       "<table border=\"1\" class=\"dataframe\">\n",
       "  <thead>\n",
       "    <tr style=\"text-align: right;\">\n",
       "      <th></th>\n",
       "      <th>_id</th>\n",
       "      <th>created_at_utc</th>\n",
       "      <th>updated_at_utc</th>\n",
       "      <th>first_journal_timestamp</th>\n",
       "      <th>last_journal_timestamp</th>\n",
       "      <th>survival_time</th>\n",
       "    </tr>\n",
       "  </thead>\n",
       "  <tbody>\n",
       "    <tr>\n",
       "      <th>82092</th>\n",
       "      <td>644167</td>\n",
       "      <td>2012-12-22</td>\n",
       "      <td>2013-06-15</td>\n",
       "      <td>2013-01-03</td>\n",
       "      <td>2031-12-31</td>\n",
       "      <td>19.00 years</td>\n",
       "    </tr>\n",
       "    <tr>\n",
       "      <th>3300</th>\n",
       "      <td>17812</td>\n",
       "      <td>2006-07-17</td>\n",
       "      <td>2016-03-18</td>\n",
       "      <td>2000-01-01</td>\n",
       "      <td>2016-04-26</td>\n",
       "      <td>16.33 years</td>\n",
       "    </tr>\n",
       "    <tr>\n",
       "      <th>10076</th>\n",
       "      <td>32515</td>\n",
       "      <td>2007-03-31</td>\n",
       "      <td>2013-06-16</td>\n",
       "      <td>2000-04-15</td>\n",
       "      <td>2016-04-28</td>\n",
       "      <td>16.05 years</td>\n",
       "    </tr>\n",
       "    <tr>\n",
       "      <th>72148</th>\n",
       "      <td>558493</td>\n",
       "      <td>2012-07-01</td>\n",
       "      <td>2013-06-16</td>\n",
       "      <td>1999-06-13</td>\n",
       "      <td>2015-02-18</td>\n",
       "      <td>15.70 years</td>\n",
       "    </tr>\n",
       "    <tr>\n",
       "      <th>15304</th>\n",
       "      <td>43301</td>\n",
       "      <td>2007-08-05</td>\n",
       "      <td>2013-06-10</td>\n",
       "      <td>2000-06-05</td>\n",
       "      <td>2015-12-10</td>\n",
       "      <td>15.52 years</td>\n",
       "    </tr>\n",
       "    <tr>\n",
       "      <th>3213</th>\n",
       "      <td>17605</td>\n",
       "      <td>2006-07-13</td>\n",
       "      <td>2013-05-27</td>\n",
       "      <td>2000-12-02</td>\n",
       "      <td>2016-02-08</td>\n",
       "      <td>15.19 years</td>\n",
       "    </tr>\n",
       "    <tr>\n",
       "      <th>10656</th>\n",
       "      <td>33704</td>\n",
       "      <td>2007-04-12</td>\n",
       "      <td>2013-04-07</td>\n",
       "      <td>2001-12-07</td>\n",
       "      <td>2016-03-29</td>\n",
       "      <td>14.32 years</td>\n",
       "    </tr>\n",
       "    <tr>\n",
       "      <th>52167</th>\n",
       "      <td>381184</td>\n",
       "      <td>2011-08-18</td>\n",
       "      <td>2013-05-22</td>\n",
       "      <td>2011-08-21</td>\n",
       "      <td>2025-11-30</td>\n",
       "      <td>14.29 years</td>\n",
       "    </tr>\n",
       "    <tr>\n",
       "      <th>3945</th>\n",
       "      <td>19308</td>\n",
       "      <td>2006-08-15</td>\n",
       "      <td>2013-06-15</td>\n",
       "      <td>2001-01-01</td>\n",
       "      <td>2014-12-31</td>\n",
       "      <td>14.01 years</td>\n",
       "    </tr>\n",
       "    <tr>\n",
       "      <th>1663</th>\n",
       "      <td>11157</td>\n",
       "      <td>2006-03-01</td>\n",
       "      <td>2013-06-12</td>\n",
       "      <td>2001-01-27</td>\n",
       "      <td>2014-09-10</td>\n",
       "      <td>13.63 years</td>\n",
       "    </tr>\n",
       "    <tr>\n",
       "      <th>3875</th>\n",
       "      <td>123243</td>\n",
       "      <td>2009-04-23</td>\n",
       "      <td>2009-04-23</td>\n",
       "      <td>2002-10-04</td>\n",
       "      <td>2016-04-29</td>\n",
       "      <td>13.58 years</td>\n",
       "    </tr>\n",
       "    <tr>\n",
       "      <th>3230</th>\n",
       "      <td>17643</td>\n",
       "      <td>2006-07-14</td>\n",
       "      <td>2013-06-16</td>\n",
       "      <td>2000-01-01</td>\n",
       "      <td>2013-06-27</td>\n",
       "      <td>13.50 years</td>\n",
       "    </tr>\n",
       "    <tr>\n",
       "      <th>4842</th>\n",
       "      <td>21315</td>\n",
       "      <td>2006-09-23</td>\n",
       "      <td>2013-04-24</td>\n",
       "      <td>2002-07-30</td>\n",
       "      <td>2016-01-06</td>\n",
       "      <td>13.45 years</td>\n",
       "    </tr>\n",
       "    <tr>\n",
       "      <th>431</th>\n",
       "      <td>3067</td>\n",
       "      <td>2005-08-13</td>\n",
       "      <td>2013-06-17</td>\n",
       "      <td>2002-12-24</td>\n",
       "      <td>2016-05-18</td>\n",
       "      <td>13.41 years</td>\n",
       "    </tr>\n",
       "    <tr>\n",
       "      <th>26794</th>\n",
       "      <td>246516</td>\n",
       "      <td>2011-01-03</td>\n",
       "      <td>2012-10-17</td>\n",
       "      <td>1998-01-01</td>\n",
       "      <td>2011-01-11</td>\n",
       "      <td>13.04 years</td>\n",
       "    </tr>\n",
       "    <tr>\n",
       "      <th>8785</th>\n",
       "      <td>29838</td>\n",
       "      <td>2007-02-24</td>\n",
       "      <td>2013-06-10</td>\n",
       "      <td>2000-03-03</td>\n",
       "      <td>2013-02-05</td>\n",
       "      <td>12.94 years</td>\n",
       "    </tr>\n",
       "    <tr>\n",
       "      <th>10058</th>\n",
       "      <td>32486</td>\n",
       "      <td>2007-03-31</td>\n",
       "      <td>2013-06-15</td>\n",
       "      <td>2001-09-15</td>\n",
       "      <td>2014-08-04</td>\n",
       "      <td>12.89 years</td>\n",
       "    </tr>\n",
       "    <tr>\n",
       "      <th>464</th>\n",
       "      <td>3306</td>\n",
       "      <td>2005-08-19</td>\n",
       "      <td>2015-10-22</td>\n",
       "      <td>2003-07-14</td>\n",
       "      <td>2016-05-05</td>\n",
       "      <td>12.82 years</td>\n",
       "    </tr>\n",
       "    <tr>\n",
       "      <th>74</th>\n",
       "      <td>596</td>\n",
       "      <td>2005-06-10</td>\n",
       "      <td>2013-05-25</td>\n",
       "      <td>2002-01-29</td>\n",
       "      <td>2014-10-02</td>\n",
       "      <td>12.68 years</td>\n",
       "    </tr>\n",
       "    <tr>\n",
       "      <th>12743</th>\n",
       "      <td>38048</td>\n",
       "      <td>2007-06-03</td>\n",
       "      <td>2016-01-12</td>\n",
       "      <td>2003-06-24</td>\n",
       "      <td>2016-01-12</td>\n",
       "      <td>12.56 years</td>\n",
       "    </tr>\n",
       "    <tr>\n",
       "      <th>17657</th>\n",
       "      <td>161792</td>\n",
       "      <td>2009-12-16</td>\n",
       "      <td>2013-04-28</td>\n",
       "      <td>2000-12-30</td>\n",
       "      <td>2013-03-05</td>\n",
       "      <td>12.19 years</td>\n",
       "    </tr>\n",
       "    <tr>\n",
       "      <th>16471</th>\n",
       "      <td>45719</td>\n",
       "      <td>2007-09-01</td>\n",
       "      <td>2013-06-13</td>\n",
       "      <td>2004-02-20</td>\n",
       "      <td>2016-04-15</td>\n",
       "      <td>12.16 years</td>\n",
       "    </tr>\n",
       "    <tr>\n",
       "      <th>9210</th>\n",
       "      <td>30719</td>\n",
       "      <td>2007-03-08</td>\n",
       "      <td>2013-06-11</td>\n",
       "      <td>2001-01-01</td>\n",
       "      <td>2012-12-21</td>\n",
       "      <td>11.98 years</td>\n",
       "    </tr>\n",
       "    <tr>\n",
       "      <th>50</th>\n",
       "      <td>450</td>\n",
       "      <td>2005-06-07</td>\n",
       "      <td>2013-06-16</td>\n",
       "      <td>2003-05-05</td>\n",
       "      <td>2015-03-25</td>\n",
       "      <td>11.89 years</td>\n",
       "    </tr>\n",
       "    <tr>\n",
       "      <th>11753</th>\n",
       "      <td>36005</td>\n",
       "      <td>2007-05-08</td>\n",
       "      <td>2013-06-01</td>\n",
       "      <td>2003-07-19</td>\n",
       "      <td>2015-04-19</td>\n",
       "      <td>11.76 years</td>\n",
       "    </tr>\n",
       "    <tr>\n",
       "      <th>7207</th>\n",
       "      <td>26549</td>\n",
       "      <td>2007-01-05</td>\n",
       "      <td>2013-06-13</td>\n",
       "      <td>2004-04-02</td>\n",
       "      <td>2016-01-01</td>\n",
       "      <td>11.76 years</td>\n",
       "    </tr>\n",
       "    <tr>\n",
       "      <th>10418</th>\n",
       "      <td>33227</td>\n",
       "      <td>2007-04-07</td>\n",
       "      <td>2013-06-16</td>\n",
       "      <td>2003-05-19</td>\n",
       "      <td>2015-01-27</td>\n",
       "      <td>11.70 years</td>\n",
       "    </tr>\n",
       "    <tr>\n",
       "      <th>426</th>\n",
       "      <td>106163</td>\n",
       "      <td>2009-01-10</td>\n",
       "      <td>2013-06-13</td>\n",
       "      <td>2000-01-28</td>\n",
       "      <td>2011-07-17</td>\n",
       "      <td>11.47 years</td>\n",
       "    </tr>\n",
       "    <tr>\n",
       "      <th>5805</th>\n",
       "      <td>128653</td>\n",
       "      <td>2009-05-30</td>\n",
       "      <td>2013-06-01</td>\n",
       "      <td>2004-04-09</td>\n",
       "      <td>2015-08-15</td>\n",
       "      <td>11.36 years</td>\n",
       "    </tr>\n",
       "    <tr>\n",
       "      <th>2925</th>\n",
       "      <td>16979</td>\n",
       "      <td>2006-06-29</td>\n",
       "      <td>2013-06-12</td>\n",
       "      <td>2003-03-02</td>\n",
       "      <td>2014-06-03</td>\n",
       "      <td>11.26 years</td>\n",
       "    </tr>\n",
       "  </tbody>\n",
       "</table>\n",
       "</div>"
      ],
      "text/plain": [
       "          _id created_at_utc updated_at_utc first_journal_timestamp  \\\n",
       "82092  644167     2012-12-22     2013-06-15              2013-01-03   \n",
       "3300    17812     2006-07-17     2016-03-18              2000-01-01   \n",
       "10076   32515     2007-03-31     2013-06-16              2000-04-15   \n",
       "72148  558493     2012-07-01     2013-06-16              1999-06-13   \n",
       "15304   43301     2007-08-05     2013-06-10              2000-06-05   \n",
       "3213    17605     2006-07-13     2013-05-27              2000-12-02   \n",
       "10656   33704     2007-04-12     2013-04-07              2001-12-07   \n",
       "52167  381184     2011-08-18     2013-05-22              2011-08-21   \n",
       "3945    19308     2006-08-15     2013-06-15              2001-01-01   \n",
       "1663    11157     2006-03-01     2013-06-12              2001-01-27   \n",
       "3875   123243     2009-04-23     2009-04-23              2002-10-04   \n",
       "3230    17643     2006-07-14     2013-06-16              2000-01-01   \n",
       "4842    21315     2006-09-23     2013-04-24              2002-07-30   \n",
       "431      3067     2005-08-13     2013-06-17              2002-12-24   \n",
       "26794  246516     2011-01-03     2012-10-17              1998-01-01   \n",
       "8785    29838     2007-02-24     2013-06-10              2000-03-03   \n",
       "10058   32486     2007-03-31     2013-06-15              2001-09-15   \n",
       "464      3306     2005-08-19     2015-10-22              2003-07-14   \n",
       "74        596     2005-06-10     2013-05-25              2002-01-29   \n",
       "12743   38048     2007-06-03     2016-01-12              2003-06-24   \n",
       "17657  161792     2009-12-16     2013-04-28              2000-12-30   \n",
       "16471   45719     2007-09-01     2013-06-13              2004-02-20   \n",
       "9210    30719     2007-03-08     2013-06-11              2001-01-01   \n",
       "50        450     2005-06-07     2013-06-16              2003-05-05   \n",
       "11753   36005     2007-05-08     2013-06-01              2003-07-19   \n",
       "7207    26549     2007-01-05     2013-06-13              2004-04-02   \n",
       "10418   33227     2007-04-07     2013-06-16              2003-05-19   \n",
       "426    106163     2009-01-10     2013-06-13              2000-01-28   \n",
       "5805   128653     2009-05-30     2013-06-01              2004-04-09   \n",
       "2925    16979     2006-06-29     2013-06-12              2003-03-02   \n",
       "\n",
       "      last_journal_timestamp survival_time  \n",
       "82092             2031-12-31   19.00 years  \n",
       "3300              2016-04-26   16.33 years  \n",
       "10076             2016-04-28   16.05 years  \n",
       "72148             2015-02-18   15.70 years  \n",
       "15304             2015-12-10   15.52 years  \n",
       "3213              2016-02-08   15.19 years  \n",
       "10656             2016-03-29   14.32 years  \n",
       "52167             2025-11-30   14.29 years  \n",
       "3945              2014-12-31   14.01 years  \n",
       "1663              2014-09-10   13.63 years  \n",
       "3875              2016-04-29   13.58 years  \n",
       "3230              2013-06-27   13.50 years  \n",
       "4842              2016-01-06   13.45 years  \n",
       "431               2016-05-18   13.41 years  \n",
       "26794             2011-01-11   13.04 years  \n",
       "8785              2013-02-05   12.94 years  \n",
       "10058             2014-08-04   12.89 years  \n",
       "464               2016-05-05   12.82 years  \n",
       "74                2014-10-02   12.68 years  \n",
       "12743             2016-01-12   12.56 years  \n",
       "17657             2013-03-05   12.19 years  \n",
       "16471             2016-04-15   12.16 years  \n",
       "9210              2012-12-21   11.98 years  \n",
       "50                2015-03-25   11.89 years  \n",
       "11753             2015-04-19   11.76 years  \n",
       "7207              2016-01-01   11.76 years  \n",
       "10418             2015-01-27   11.70 years  \n",
       "426               2011-07-17   11.47 years  \n",
       "5805              2015-08-15   11.36 years  \n",
       "2925              2014-06-03   11.26 years  "
      ]
     },
     "execution_count": 18,
     "metadata": {},
     "output_type": "execute_result"
    }
   ],
   "source": [
    "str_longest_df.head(n=30)"
   ]
  },
  {
   "cell_type": "code",
   "execution_count": 19,
   "metadata": {},
   "outputs": [
    {
     "data": {
      "text/plain": [
       "7923"
      ]
     },
     "execution_count": 19,
     "metadata": {},
     "output_type": "execute_result"
    }
   ],
   "source": [
    "len(longest_cancer_sites[longest_cancer_sites[\"created_at_utc\"] > longest_cancer_sites[\"first_journal_timestamp\"]])"
   ]
  },
  {
   "cell_type": "code",
   "execution_count": 20,
   "metadata": {},
   "outputs": [
    {
     "data": {
      "text/plain": [
       "'0.64 years'"
      ]
     },
     "execution_count": 20,
     "metadata": {},
     "output_type": "execute_result"
    }
   ],
   "source": [
    "# median survival time\n",
    "convert_dates(np.median(of_interest[\"survival_time\"]))"
   ]
  },
  {
   "cell_type": "code",
   "execution_count": null,
   "metadata": {
    "collapsed": true
   },
   "outputs": [],
   "source": []
  }
 ],
 "metadata": {
  "kernelspec": {
   "display_name": "Python 3",
   "language": "python",
   "name": "python3"
  },
  "language_info": {
   "codemirror_mode": {
    "name": "ipython",
    "version": 3
   },
   "file_extension": ".py",
   "mimetype": "text/x-python",
   "name": "python",
   "nbconvert_exporter": "python",
   "pygments_lexer": "ipython3",
   "version": "3.6.8"
  }
 },
 "nbformat": 4,
 "nbformat_minor": 2
}
