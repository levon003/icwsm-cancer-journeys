{
 "cells": [
  {
   "cell_type": "markdown",
   "metadata": {},
   "source": [
    "Responsibility Data Demonstration\n",
    "==="
   ]
  },
  {
   "cell_type": "code",
   "execution_count": 1,
   "metadata": {
    "collapsed": true
   },
   "outputs": [],
   "source": [
    "from responsibility import get_responsibility_annotations"
   ]
  },
  {
   "cell_type": "code",
   "execution_count": 2,
   "metadata": {
    "scrolled": false
   },
   "outputs": [
    {
     "data": {
      "text/plain": [
       "958"
      ]
     },
     "execution_count": 2,
     "metadata": {},
     "output_type": "execute_result"
    }
   ],
   "source": [
    "responsibility_data = get_responsibility_annotations()\n",
    "len(responsibility_data)"
   ]
  },
  {
   "cell_type": "code",
   "execution_count": 3,
   "metadata": {},
   "outputs": [],
   "source": [
    "import pandas as pd"
   ]
  },
  {
   "cell_type": "code",
   "execution_count": 4,
   "metadata": {},
   "outputs": [
    {
     "data": {
      "text/plain": [
       "{'site_id': 106710,\n",
       " 'journal_oid': '51be14196ca004193500934e',\n",
       " 'conflict_status': 'SINGLE USER',\n",
       " 'responsibilities': []}"
      ]
     },
     "execution_count": 4,
     "metadata": {},
     "output_type": "execute_result"
    }
   ],
   "source": [
    "responsibility_data[0]"
   ]
  },
  {
   "cell_type": "code",
   "execution_count": 5,
   "metadata": {
    "collapsed": true
   },
   "outputs": [],
   "source": [
    "df = pd.DataFrame(responsibility_data)"
   ]
  },
  {
   "cell_type": "code",
   "execution_count": 6,
   "metadata": {},
   "outputs": [
    {
     "data": {
      "text/html": [
       "<div>\n",
       "<style scoped>\n",
       "    .dataframe tbody tr th:only-of-type {\n",
       "        vertical-align: middle;\n",
       "    }\n",
       "\n",
       "    .dataframe tbody tr th {\n",
       "        vertical-align: top;\n",
       "    }\n",
       "\n",
       "    .dataframe thead th {\n",
       "        text-align: right;\n",
       "    }\n",
       "</style>\n",
       "<table border=\"1\" class=\"dataframe\">\n",
       "  <thead>\n",
       "    <tr style=\"text-align: right;\">\n",
       "      <th></th>\n",
       "      <th>conflict_status</th>\n",
       "      <th>journal_oid</th>\n",
       "      <th>responsibilities</th>\n",
       "      <th>site_id</th>\n",
       "    </tr>\n",
       "  </thead>\n",
       "  <tbody>\n",
       "    <tr>\n",
       "      <th>0</th>\n",
       "      <td>SINGLE USER</td>\n",
       "      <td>51be14196ca004193500934e</td>\n",
       "      <td>[]</td>\n",
       "      <td>106710</td>\n",
       "    </tr>\n",
       "    <tr>\n",
       "      <th>1</th>\n",
       "      <td>SINGLE USER</td>\n",
       "      <td>51be14196ca0041935009526</td>\n",
       "      <td>[]</td>\n",
       "      <td>106710</td>\n",
       "    </tr>\n",
       "    <tr>\n",
       "      <th>2</th>\n",
       "      <td>SINGLE USER</td>\n",
       "      <td>51be14196ca0041935009660</td>\n",
       "      <td>[sharing_medical_info, compliance]</td>\n",
       "      <td>106710</td>\n",
       "    </tr>\n",
       "    <tr>\n",
       "      <th>3</th>\n",
       "      <td>SINGLE USER</td>\n",
       "      <td>51be14196ca00419350098b4</td>\n",
       "      <td>[coordinating_support]</td>\n",
       "      <td>106710</td>\n",
       "    </tr>\n",
       "    <tr>\n",
       "      <th>4</th>\n",
       "      <td>SINGLE USER</td>\n",
       "      <td>51be14196ca00419350099e0</td>\n",
       "      <td>[sharing_medical_info, compliance]</td>\n",
       "      <td>106710</td>\n",
       "    </tr>\n",
       "  </tbody>\n",
       "</table>\n",
       "</div>"
      ],
      "text/plain": [
       "  conflict_status               journal_oid  \\\n",
       "0     SINGLE USER  51be14196ca004193500934e   \n",
       "1     SINGLE USER  51be14196ca0041935009526   \n",
       "2     SINGLE USER  51be14196ca0041935009660   \n",
       "3     SINGLE USER  51be14196ca00419350098b4   \n",
       "4     SINGLE USER  51be14196ca00419350099e0   \n",
       "\n",
       "                     responsibilities  site_id  \n",
       "0                                  []   106710  \n",
       "1                                  []   106710  \n",
       "2  [sharing_medical_info, compliance]   106710  \n",
       "3              [coordinating_support]   106710  \n",
       "4  [sharing_medical_info, compliance]   106710  "
      ]
     },
     "execution_count": 6,
     "metadata": {},
     "output_type": "execute_result"
    }
   ],
   "source": [
    "df.head()"
   ]
  },
  {
   "cell_type": "code",
   "execution_count": 7,
   "metadata": {},
   "outputs": [
    {
     "data": {
      "text/html": [
       "<div>\n",
       "<style scoped>\n",
       "    .dataframe tbody tr th:only-of-type {\n",
       "        vertical-align: middle;\n",
       "    }\n",
       "\n",
       "    .dataframe tbody tr th {\n",
       "        vertical-align: top;\n",
       "    }\n",
       "\n",
       "    .dataframe thead th {\n",
       "        text-align: right;\n",
       "    }\n",
       "</style>\n",
       "<table border=\"1\" class=\"dataframe\">\n",
       "  <thead>\n",
       "    <tr style=\"text-align: right;\">\n",
       "      <th></th>\n",
       "      <th>conflict_status</th>\n",
       "      <th>journal_oid</th>\n",
       "      <th>responsibilities</th>\n",
       "      <th>site_id</th>\n",
       "    </tr>\n",
       "  </thead>\n",
       "  <tbody>\n",
       "    <tr>\n",
       "      <th>25</th>\n",
       "      <td>CONFLICT</td>\n",
       "      <td>51be1cc26ca004675000a798</td>\n",
       "      <td>[info_filtering, preparation, symptom_manageme...</td>\n",
       "      <td>138616</td>\n",
       "    </tr>\n",
       "    <tr>\n",
       "      <th>27</th>\n",
       "      <td>CONFLICT</td>\n",
       "      <td>51be1cc26ca004675000a9dc</td>\n",
       "      <td>[info_filtering, preparation, symptom_manageme...</td>\n",
       "      <td>138616</td>\n",
       "    </tr>\n",
       "    <tr>\n",
       "      <th>29</th>\n",
       "      <td>CONFLICT</td>\n",
       "      <td>51be1cc26ca004675000aa7a</td>\n",
       "      <td>[symptom_management, sharing_medical_info, com...</td>\n",
       "      <td>138616</td>\n",
       "    </tr>\n",
       "    <tr>\n",
       "      <th>31</th>\n",
       "      <td>CONFLICT</td>\n",
       "      <td>51be1cc26ca004675000ae0e</td>\n",
       "      <td>[preparation, symptom_management, sharing_medi...</td>\n",
       "      <td>138616</td>\n",
       "    </tr>\n",
       "    <tr>\n",
       "      <th>32</th>\n",
       "      <td>CONFLICT</td>\n",
       "      <td>51be1ebd6ca004a156008f6e</td>\n",
       "      <td>[info_filtering, preparation, symptom_manageme...</td>\n",
       "      <td>145494</td>\n",
       "    </tr>\n",
       "  </tbody>\n",
       "</table>\n",
       "</div>"
      ],
      "text/plain": [
       "   conflict_status               journal_oid  \\\n",
       "25        CONFLICT  51be1cc26ca004675000a798   \n",
       "27        CONFLICT  51be1cc26ca004675000a9dc   \n",
       "29        CONFLICT  51be1cc26ca004675000aa7a   \n",
       "31        CONFLICT  51be1cc26ca004675000ae0e   \n",
       "32        CONFLICT  51be1ebd6ca004a156008f6e   \n",
       "\n",
       "                                     responsibilities  site_id  \n",
       "25  [info_filtering, preparation, symptom_manageme...   138616  \n",
       "27  [info_filtering, preparation, symptom_manageme...   138616  \n",
       "29  [symptom_management, sharing_medical_info, com...   138616  \n",
       "31  [preparation, symptom_management, sharing_medi...   138616  \n",
       "32  [info_filtering, preparation, symptom_manageme...   145494  "
      ]
     },
     "execution_count": 7,
     "metadata": {},
     "output_type": "execute_result"
    }
   ],
   "source": [
    "df[df[\"conflict_status\"] == \"CONFLICT\"].head()"
   ]
  },
  {
   "cell_type": "code",
   "execution_count": null,
   "metadata": {
    "collapsed": true
   },
   "outputs": [],
   "source": []
  }
 ],
 "metadata": {
  "kernelspec": {
   "display_name": "Python 3",
   "language": "python",
   "name": "python3"
  },
  "language_info": {
   "codemirror_mode": {
    "name": "ipython",
    "version": 3
   },
   "file_extension": ".py",
   "mimetype": "text/x-python",
   "name": "python",
   "nbconvert_exporter": "python",
   "pygments_lexer": "ipython3",
   "version": "3.6.8"
  }
 },
 "nbformat": 4,
 "nbformat_minor": 1
}
