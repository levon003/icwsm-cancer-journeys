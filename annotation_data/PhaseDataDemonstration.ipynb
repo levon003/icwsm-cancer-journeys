{
 "cells": [
  {
   "cell_type": "markdown",
   "metadata": {},
   "source": [
    "Phase Data Demonstration\n",
    "==="
   ]
  },
  {
   "cell_type": "code",
   "execution_count": 1,
   "metadata": {
    "collapsed": true
   },
   "outputs": [],
   "source": [
    "from phase import get_phase_annotations"
   ]
  },
  {
   "cell_type": "code",
   "execution_count": 2,
   "metadata": {
    "scrolled": false
   },
   "outputs": [
    {
     "name": "stdout",
     "output_type": "stream",
     "text": [
      "WARNING: 3+ annotators, but no agreement. Setting 'unknown'. ['eriks074', 'levon003', 'luoxx498']\n",
      "WARNING: 3+ annotators, but no agreement. Setting 'unknown'. ['luoxx498', 'eriks074', 'rubya001']\n",
      "WARNING: 3+ annotators, but no agreement. Setting 'unknown'. ['luoxx498', 'eriks074', 'rubya001']\n",
      "WARNING: levon003 not found in eriks074|luoxx498. Replacing with 'unknown'.\n"
     ]
    },
    {
     "data": {
      "text/plain": [
       "2221"
      ]
     },
     "execution_count": 2,
     "metadata": {},
     "output_type": "execute_result"
    }
   ],
   "source": [
    "phase_data = get_phase_annotations()\n",
    "len(phase_data)"
   ]
  },
  {
   "cell_type": "code",
   "execution_count": 4,
   "metadata": {},
   "outputs": [],
   "source": [
    "import pandas as pd"
   ]
  },
  {
   "cell_type": "code",
   "execution_count": 5,
   "metadata": {},
   "outputs": [
    {
     "data": {
      "text/plain": [
       "{'site_id': 103172,\n",
       " 'journal_oid': '51be12fe6ca004cb31008760',\n",
       " 'conflict_status': 'SINGLE USER',\n",
       " 'phases': ['pretreatment']}"
      ]
     },
     "execution_count": 5,
     "metadata": {},
     "output_type": "execute_result"
    }
   ],
   "source": [
    "phase_data[0]"
   ]
  },
  {
   "cell_type": "code",
   "execution_count": 6,
   "metadata": {
    "collapsed": true
   },
   "outputs": [],
   "source": [
    "df = pd.DataFrame(phase_data)"
   ]
  },
  {
   "cell_type": "code",
   "execution_count": 7,
   "metadata": {},
   "outputs": [
    {
     "data": {
      "text/html": [
       "<div>\n",
       "<style scoped>\n",
       "    .dataframe tbody tr th:only-of-type {\n",
       "        vertical-align: middle;\n",
       "    }\n",
       "\n",
       "    .dataframe tbody tr th {\n",
       "        vertical-align: top;\n",
       "    }\n",
       "\n",
       "    .dataframe thead th {\n",
       "        text-align: right;\n",
       "    }\n",
       "</style>\n",
       "<table border=\"1\" class=\"dataframe\">\n",
       "  <thead>\n",
       "    <tr style=\"text-align: right;\">\n",
       "      <th></th>\n",
       "      <th>conflict_status</th>\n",
       "      <th>journal_oid</th>\n",
       "      <th>phases</th>\n",
       "      <th>site_id</th>\n",
       "    </tr>\n",
       "  </thead>\n",
       "  <tbody>\n",
       "    <tr>\n",
       "      <th>0</th>\n",
       "      <td>SINGLE USER</td>\n",
       "      <td>51be12fe6ca004cb31008760</td>\n",
       "      <td>[pretreatment]</td>\n",
       "      <td>103172</td>\n",
       "    </tr>\n",
       "    <tr>\n",
       "      <th>1</th>\n",
       "      <td>SINGLE USER</td>\n",
       "      <td>51be13876ca0045c3300c7f6</td>\n",
       "      <td>[pretreatment]</td>\n",
       "      <td>104723</td>\n",
       "    </tr>\n",
       "    <tr>\n",
       "      <th>2</th>\n",
       "      <td>SINGLE USER</td>\n",
       "      <td>51be14196ca004193500934e</td>\n",
       "      <td>[treatment, unknown]</td>\n",
       "      <td>106710</td>\n",
       "    </tr>\n",
       "    <tr>\n",
       "      <th>3</th>\n",
       "      <td>SINGLE USER</td>\n",
       "      <td>51be14196ca0041935009526</td>\n",
       "      <td>[treatment, unknown]</td>\n",
       "      <td>106710</td>\n",
       "    </tr>\n",
       "    <tr>\n",
       "      <th>4</th>\n",
       "      <td>SINGLE USER</td>\n",
       "      <td>51be14196ca0041935009660</td>\n",
       "      <td>[treatment, unknown]</td>\n",
       "      <td>106710</td>\n",
       "    </tr>\n",
       "  </tbody>\n",
       "</table>\n",
       "</div>"
      ],
      "text/plain": [
       "  conflict_status               journal_oid                phases  site_id\n",
       "0     SINGLE USER  51be12fe6ca004cb31008760        [pretreatment]   103172\n",
       "1     SINGLE USER  51be13876ca0045c3300c7f6        [pretreatment]   104723\n",
       "2     SINGLE USER  51be14196ca004193500934e  [treatment, unknown]   106710\n",
       "3     SINGLE USER  51be14196ca0041935009526  [treatment, unknown]   106710\n",
       "4     SINGLE USER  51be14196ca0041935009660  [treatment, unknown]   106710"
      ]
     },
     "execution_count": 7,
     "metadata": {},
     "output_type": "execute_result"
    }
   ],
   "source": [
    "df.head()"
   ]
  },
  {
   "cell_type": "code",
   "execution_count": null,
   "metadata": {
    "collapsed": true
   },
   "outputs": [],
   "source": []
  }
 ],
 "metadata": {
  "kernelspec": {
   "display_name": "Python 3",
   "language": "python",
   "name": "python3"
  },
  "language_info": {
   "codemirror_mode": {
    "name": "ipython",
    "version": 3
   },
   "file_extension": ".py",
   "mimetype": "text/x-python",
   "name": "python",
   "nbconvert_exporter": "python",
   "pygments_lexer": "ipython3",
   "version": "3.6.8"
  }
 },
 "nbformat": 4,
 "nbformat_minor": 1
}
