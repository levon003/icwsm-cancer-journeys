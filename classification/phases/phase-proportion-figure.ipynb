{
 "cells": [
  {
   "cell_type": "markdown",
   "metadata": {},
   "source": [
    "# Phase Proportions Over Time\n",
    "\n",
    "Goal is to create a figure like that in Paul et al. [1].\n",
    "\n",
    "[1] Michael J. Paul, Ryen W. White, and Eric Horvitz. 2015. Diagnoses, Decisions, and Outcomes: Web Search as Decision Support for Cancer. In Proceedings of the 24th International Conference on World Wide Web - WWW ’15 (WWW’15), 831–841. DOI:https://doi.org/10.1145/2736277.2741662\n"
   ]
  },
  {
   "cell_type": "code",
   "execution_count": 1,
   "metadata": {},
   "outputs": [],
   "source": [
    "%reload_ext autoreload\n",
    "%autoreload 2\n",
    "%matplotlib inline"
   ]
  },
  {
   "cell_type": "code",
   "execution_count": 2,
   "metadata": {},
   "outputs": [],
   "source": [
    "import sys\n",
    "sys.path.append(\"../../annotation_data\")"
   ]
  },
  {
   "cell_type": "code",
   "execution_count": 3,
   "metadata": {},
   "outputs": [],
   "source": [
    "from phase import *"
   ]
  },
  {
   "cell_type": "code",
   "execution_count": 9,
   "metadata": {},
   "outputs": [],
   "source": [
    "import pandas as pd\n",
    "import numpy as np\n",
    "import sklearn\n",
    "import sklearn.metrics\n",
    "import subprocess\n",
    "from tqdm import tqdm"
   ]
  },
  {
   "cell_type": "code",
   "execution_count": 5,
   "metadata": {},
   "outputs": [],
   "source": [
    "import matplotlib.pyplot as plt\n",
    "import matplotlib.dates as md\n",
    "import matplotlib\n",
    "import pylab as pl"
   ]
  },
  {
   "cell_type": "code",
   "execution_count": 6,
   "metadata": {},
   "outputs": [],
   "source": [
    "vw_working_dir = \"/home/srivbane/shared/caringbridge/data/projects/qual-health-journeys/classification/phases/vw\""
   ]
  },
  {
   "cell_type": "markdown",
   "metadata": {},
   "source": [
    "## Load VW phase labels"
   ]
  },
  {
   "cell_type": "code",
   "execution_count": 7,
   "metadata": {},
   "outputs": [
    {
     "data": {
      "text/plain": [
       "158109"
      ]
     },
     "execution_count": 7,
     "metadata": {},
     "output_type": "execute_result"
    }
   ],
   "source": [
    "all_predictions_filepath = os.path.join(vw_working_dir, \"vw_all_preds.pkl\")\n",
    "pred_df = pd.read_pickle(all_predictions_filepath)\n",
    "len(pred_df)"
   ]
  },
  {
   "cell_type": "code",
   "execution_count": 8,
   "metadata": {},
   "outputs": [
    {
     "data": {
      "text/html": [
       "<div>\n",
       "<style scoped>\n",
       "    .dataframe tbody tr th:only-of-type {\n",
       "        vertical-align: middle;\n",
       "    }\n",
       "\n",
       "    .dataframe tbody tr th {\n",
       "        vertical-align: top;\n",
       "    }\n",
       "\n",
       "    .dataframe thead th {\n",
       "        text-align: right;\n",
       "    }\n",
       "</style>\n",
       "<table border=\"1\" class=\"dataframe\">\n",
       "  <thead>\n",
       "    <tr style=\"text-align: right;\">\n",
       "      <th></th>\n",
       "      <th>conflict_status</th>\n",
       "      <th>created_at</th>\n",
       "      <th>cured_score</th>\n",
       "      <th>end_of_life_score</th>\n",
       "      <th>is_annotated</th>\n",
       "      <th>journal_index</th>\n",
       "      <th>journal_oid</th>\n",
       "      <th>phases</th>\n",
       "      <th>pretreatment_score</th>\n",
       "      <th>site_id</th>\n",
       "      <th>...</th>\n",
       "      <th>pretreatment_pred</th>\n",
       "      <th>treatment_pred</th>\n",
       "      <th>pretreatment_label</th>\n",
       "      <th>treatment_label</th>\n",
       "      <th>end_of_life_label</th>\n",
       "      <th>cured_label</th>\n",
       "      <th>pretreatment_pred_label</th>\n",
       "      <th>treatment_pred_label</th>\n",
       "      <th>end_of_life_pred_label</th>\n",
       "      <th>cured_pred_label</th>\n",
       "    </tr>\n",
       "  </thead>\n",
       "  <tbody>\n",
       "    <tr>\n",
       "      <th>0</th>\n",
       "      <td>SINGLE USER</td>\n",
       "      <td>1231857720000</td>\n",
       "      <td>0.0</td>\n",
       "      <td>0.0</td>\n",
       "      <td>True</td>\n",
       "      <td>0</td>\n",
       "      <td>51be13d66ca004413400c0c5</td>\n",
       "      <td>[treatment]</td>\n",
       "      <td>0.0</td>\n",
       "      <td>105628</td>\n",
       "      <td>...</td>\n",
       "      <td>1.005060</td>\n",
       "      <td>0.011815</td>\n",
       "      <td>0</td>\n",
       "      <td>1</td>\n",
       "      <td>0</td>\n",
       "      <td>0</td>\n",
       "      <td>0</td>\n",
       "      <td>1</td>\n",
       "      <td>0</td>\n",
       "      <td>0</td>\n",
       "    </tr>\n",
       "    <tr>\n",
       "      <th>1</th>\n",
       "      <td>SINGLE USER</td>\n",
       "      <td>1232034060000</td>\n",
       "      <td>0.0</td>\n",
       "      <td>0.0</td>\n",
       "      <td>True</td>\n",
       "      <td>1</td>\n",
       "      <td>51be13d66ca004413400c181</td>\n",
       "      <td>[treatment]</td>\n",
       "      <td>0.0</td>\n",
       "      <td>105628</td>\n",
       "      <td>...</td>\n",
       "      <td>0.788134</td>\n",
       "      <td>0.021484</td>\n",
       "      <td>0</td>\n",
       "      <td>1</td>\n",
       "      <td>0</td>\n",
       "      <td>0</td>\n",
       "      <td>0</td>\n",
       "      <td>1</td>\n",
       "      <td>0</td>\n",
       "      <td>0</td>\n",
       "    </tr>\n",
       "    <tr>\n",
       "      <th>2</th>\n",
       "      <td>SINGLE USER</td>\n",
       "      <td>1232198100000</td>\n",
       "      <td>0.0</td>\n",
       "      <td>0.0</td>\n",
       "      <td>True</td>\n",
       "      <td>2</td>\n",
       "      <td>51be13d66ca004413400c211</td>\n",
       "      <td>[treatment]</td>\n",
       "      <td>0.0</td>\n",
       "      <td>105628</td>\n",
       "      <td>...</td>\n",
       "      <td>1.030280</td>\n",
       "      <td>0.014199</td>\n",
       "      <td>0</td>\n",
       "      <td>1</td>\n",
       "      <td>0</td>\n",
       "      <td>0</td>\n",
       "      <td>0</td>\n",
       "      <td>1</td>\n",
       "      <td>0</td>\n",
       "      <td>0</td>\n",
       "    </tr>\n",
       "    <tr>\n",
       "      <th>3</th>\n",
       "      <td>SINGLE USER</td>\n",
       "      <td>1232810760000</td>\n",
       "      <td>0.0</td>\n",
       "      <td>0.0</td>\n",
       "      <td>True</td>\n",
       "      <td>3</td>\n",
       "      <td>51be13d66ca004413400c401</td>\n",
       "      <td>[treatment]</td>\n",
       "      <td>0.0</td>\n",
       "      <td>105628</td>\n",
       "      <td>...</td>\n",
       "      <td>1.000140</td>\n",
       "      <td>0.004027</td>\n",
       "      <td>0</td>\n",
       "      <td>1</td>\n",
       "      <td>0</td>\n",
       "      <td>0</td>\n",
       "      <td>0</td>\n",
       "      <td>1</td>\n",
       "      <td>0</td>\n",
       "      <td>0</td>\n",
       "    </tr>\n",
       "    <tr>\n",
       "      <th>4</th>\n",
       "      <td>SINGLE USER</td>\n",
       "      <td>1233244320000</td>\n",
       "      <td>0.0</td>\n",
       "      <td>0.0</td>\n",
       "      <td>True</td>\n",
       "      <td>4</td>\n",
       "      <td>51be13d66ca004413400c4fd</td>\n",
       "      <td>[treatment]</td>\n",
       "      <td>0.0</td>\n",
       "      <td>105628</td>\n",
       "      <td>...</td>\n",
       "      <td>0.995494</td>\n",
       "      <td>0.000233</td>\n",
       "      <td>0</td>\n",
       "      <td>1</td>\n",
       "      <td>0</td>\n",
       "      <td>0</td>\n",
       "      <td>0</td>\n",
       "      <td>1</td>\n",
       "      <td>0</td>\n",
       "      <td>0</td>\n",
       "    </tr>\n",
       "  </tbody>\n",
       "</table>\n",
       "<p>5 rows × 24 columns</p>\n",
       "</div>"
      ],
      "text/plain": [
       "  conflict_status     created_at  cured_score  end_of_life_score  \\\n",
       "0     SINGLE USER  1231857720000          0.0                0.0   \n",
       "1     SINGLE USER  1232034060000          0.0                0.0   \n",
       "2     SINGLE USER  1232198100000          0.0                0.0   \n",
       "3     SINGLE USER  1232810760000          0.0                0.0   \n",
       "4     SINGLE USER  1233244320000          0.0                0.0   \n",
       "\n",
       "   is_annotated  journal_index               journal_oid       phases  \\\n",
       "0          True              0  51be13d66ca004413400c0c5  [treatment]   \n",
       "1          True              1  51be13d66ca004413400c181  [treatment]   \n",
       "2          True              2  51be13d66ca004413400c211  [treatment]   \n",
       "3          True              3  51be13d66ca004413400c401  [treatment]   \n",
       "4          True              4  51be13d66ca004413400c4fd  [treatment]   \n",
       "\n",
       "   pretreatment_score  site_id        ...         pretreatment_pred  \\\n",
       "0                 0.0   105628        ...                  1.005060   \n",
       "1                 0.0   105628        ...                  0.788134   \n",
       "2                 0.0   105628        ...                  1.030280   \n",
       "3                 0.0   105628        ...                  1.000140   \n",
       "4                 0.0   105628        ...                  0.995494   \n",
       "\n",
       "   treatment_pred  pretreatment_label  treatment_label  end_of_life_label  \\\n",
       "0        0.011815                   0                1                  0   \n",
       "1        0.021484                   0                1                  0   \n",
       "2        0.014199                   0                1                  0   \n",
       "3        0.004027                   0                1                  0   \n",
       "4        0.000233                   0                1                  0   \n",
       "\n",
       "   cured_label  pretreatment_pred_label  treatment_pred_label  \\\n",
       "0            0                        0                     1   \n",
       "1            0                        0                     1   \n",
       "2            0                        0                     1   \n",
       "3            0                        0                     1   \n",
       "4            0                        0                     1   \n",
       "\n",
       "   end_of_life_pred_label  cured_pred_label  \n",
       "0                       0                 0  \n",
       "1                       0                 0  \n",
       "2                       0                 0  \n",
       "3                       0                 0  \n",
       "4                       0                 0  \n",
       "\n",
       "[5 rows x 24 columns]"
      ]
     },
     "execution_count": 8,
     "metadata": {},
     "output_type": "execute_result"
    }
   ],
   "source": [
    "pred_df.head()"
   ]
  },
  {
   "cell_type": "code",
   "execution_count": 11,
   "metadata": {},
   "outputs": [
    {
     "name": "stderr",
     "output_type": "stream",
     "text": [
      "100%|██████████| 4977/4977 [00:05<00:00, 950.92it/s]\n"
     ]
    }
   ],
   "source": [
    "for site_id, site_preds in tqdm(pred_df.groupby(by='site_id', sort=False)):\n",
    "    journal_creation_times = site_preds.loc[:, 'created_at']\n",
    "    journal_labels = site_preds.loc[:,[phase_label + \"_pred_label\" for phase_label in phase_labels]]\n",
    "    # do something with the labels and the creation time..."
   ]
  },
  {
   "cell_type": "code",
   "execution_count": null,
   "metadata": {},
   "outputs": [],
   "source": []
  },
  {
   "cell_type": "code",
   "execution_count": null,
   "metadata": {},
   "outputs": [],
   "source": []
  }
 ],
 "metadata": {
  "kernelspec": {
   "display_name": "Python 3",
   "language": "python",
   "name": "python3"
  },
  "language_info": {
   "codemirror_mode": {
    "name": "ipython",
    "version": 3
   },
   "file_extension": ".py",
   "mimetype": "text/x-python",
   "name": "python",
   "nbconvert_exporter": "python",
   "pygments_lexer": "ipython3",
   "version": "3.6.8"
  }
 },
 "nbformat": 4,
 "nbformat_minor": 2
}
