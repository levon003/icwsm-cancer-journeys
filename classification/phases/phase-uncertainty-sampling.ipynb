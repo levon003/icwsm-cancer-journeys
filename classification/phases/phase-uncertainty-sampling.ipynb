{
 "cells": [
  {
   "cell_type": "markdown",
   "metadata": {},
   "source": [
    "Uncertainty Sampling for Phases\n",
    "===\n",
    "\n",
    "Identifying sites for additional annotation based on the 'confidence' of the classifier."
   ]
  },
  {
   "cell_type": "code",
   "execution_count": null,
   "metadata": {},
   "outputs": [],
   "source": [
    "%reload_ext autoreload\n",
    "%autoreload 2\n",
    "%matplotlib inline"
   ]
  },
  {
   "cell_type": "code",
   "execution_count": null,
   "metadata": {},
   "outputs": [],
   "source": [
    "import sys\n",
    "sys.path.append(\"../../annotation_data\")"
   ]
  },
  {
   "cell_type": "code",
   "execution_count": null,
   "metadata": {},
   "outputs": [],
   "source": [
    "from phase import *"
   ]
  },
  {
   "cell_type": "code",
   "execution_count": null,
   "metadata": {},
   "outputs": [],
   "source": [
    "import pandas as pd\n",
    "import numpy as np\n",
    "import sklearn\n",
    "import sklearn.metrics\n",
    "import subprocess"
   ]
  },
  {
   "cell_type": "code",
   "execution_count": null,
   "metadata": {},
   "outputs": [],
   "source": [
    "import matplotlib.pyplot as plt\n",
    "import matplotlib.dates as md\n",
    "import matplotlib\n",
    "import pylab as pl"
   ]
  },
  {
   "cell_type": "code",
   "execution_count": null,
   "metadata": {},
   "outputs": [],
   "source": [
    "vw_working_dir = \"/home/srivbane/shared/caringbridge/data/projects/qual-health-journeys/classification/phases/vw\""
   ]
  },
  {
   "cell_type": "markdown",
   "metadata": {},
   "source": [
    "# Utility functions"
   ]
  },
  {
   "cell_type": "code",
   "execution_count": 18,
   "metadata": {},
   "outputs": [],
   "source": [
    "def compute_prediction_margin(pred, higher_class=0, lower_class=2):\n",
    "    # See page 14 of Settles et al. 2012 book on Active Learning\n",
    "    # This is the output margin, but because including two labels is perfectly valid for the phase classification task\n",
    "    # we instead formulate this as the output margin between the firsta nd third most likely predictions under the model\n",
    "    sorted_preds = sorted(pred, reverse=True)\n",
    "    margin = sorted_preds[higher_class] - sorted_preds[lower_class]\n",
    "    return margin\n",
    "\n",
    "def compute_least_confident(pred, target=0):\n",
    "    # Compute the least confident by taking the instance with the score on any class that is closest to the target\n",
    "    return np.min(np.abs(pred - target))\n",
    "\n",
    "def compute_max_margin_prediction_uncertainty(pred, threshold=0.5):\n",
    "    # See \"Active Learning with Multi-Label SVM Classification\" eq. 2\n",
    "    pos_pred = pred[pred > 0.5]\n",
    "    neg_pred = pred[pred < 0.5]\n",
    "    if len(pos_pred) == 0 or len(neg_pred) == 0:\n",
    "        # All or none of the labels were assigned using this threshold!\n",
    "        # Thus we say the margin is the distance to the threshold\n",
    "        return threshold - np.max(pred) if len(pos_pred) == 0 else np.min(pred) - threshold\n",
    "    min_pos_pred = np.min(pos_pred)\n",
    "    max_neg_pred = np.max(neg_pred)\n",
    "    sep_margin = min_pos_pred - max_neg_pred\n",
    "    return sep_margin\n",
    "\n",
    "VALID_CLASS_LABELS = ([1,0,0,0],[0,1,0,0],[0,0,1,0],[0,0,0,1],\n",
    "                  [1,1,0,0],[0,1,1,0],[0,1,0,1],[0,0,0,0])\n",
    "def compute_pred_has_label_error(pred, threshold=0.5):\n",
    "    selected_classes = pred > threshold\n",
    "    if list(selected_classes.astype(np.int32)) in VALID_CLASS_LABELS:\n",
    "        return 0\n",
    "    else:\n",
    "        return 1\n",
    "    \n",
    "def compute_site_transition_error(site_preds, threshold=0.5):\n",
    "    \"\"\"\n",
    "    :param site_preds: should have shape (n_journals, n_classes=4)\n",
    "    \"\"\"\n",
    "    # This function should compute the number of invalid transitions in the sequence of preds, presumed to be\n",
    "    # from a single CaringBridge site\n",
    "    pass"
   ]
  },
  {
   "cell_type": "code",
   "execution_count": null,
   "metadata": {},
   "outputs": [],
   "source": []
  },
  {
   "cell_type": "code",
   "execution_count": null,
   "metadata": {},
   "outputs": [],
   "source": []
  },
  {
   "cell_type": "code",
   "execution_count": null,
   "metadata": {},
   "outputs": [],
   "source": []
  },
  {
   "cell_type": "code",
   "execution_count": null,
   "metadata": {},
   "outputs": [],
   "source": []
  },
  {
   "cell_type": "code",
   "execution_count": null,
   "metadata": {},
   "outputs": [],
   "source": []
  },
  {
   "cell_type": "markdown",
   "metadata": {},
   "source": [
    "# VW model outputs"
   ]
  },
  {
   "cell_type": "code",
   "execution_count": 14,
   "metadata": {},
   "outputs": [],
   "source": [
    "classes_filepath = os.path.join(vw_working_dir, 'classes.npy')\n",
    "labels = np.load(classes_filepath)\n",
    "assert [labels[i] == phase_label for i, phase_label in enumerate(phase_labels)]\n",
    "\n",
    "y_true_filepath = os.path.join(vw_working_dir, 'y_true.npy')\n",
    "y_true = np.load(y_true_filepath)\n",
    "\n",
    "y_score_filepath = os.path.join(vw_working_dir, 'y_score.npy')\n",
    "y_score = np.load(y_score_filepath)\n",
    "\n",
    "thresholds_filepath = os.path.join(vw_working_dir, 'class_thresholds.npy')\n",
    "max_per_class_thresholds = np.load(thresholds_filepath)"
   ]
  },
  {
   "cell_type": "code",
   "execution_count": 15,
   "metadata": {},
   "outputs": [],
   "source": [
    "y_pred = (y_score >= max_per_class_thresholds).astype(int)"
   ]
  },
  {
   "cell_type": "code",
   "execution_count": 16,
   "metadata": {},
   "outputs": [
    {
     "data": {
      "text/plain": [
       "0.9321735432252741"
      ]
     },
     "execution_count": 16,
     "metadata": {},
     "output_type": "execute_result"
    }
   ],
   "source": [
    "weighted_f2_score = sklearn.metrics.fbeta_score(y_true, y_pred, 2, average='weighted')\n",
    "weighted_f2_score"
   ]
  },
  {
   "cell_type": "code",
   "execution_count": null,
   "metadata": {},
   "outputs": [],
   "source": [
    "all_predictions_filepath = os.path.join(vw_working_dir, \"vw_all_preds.pkl\")\n",
    "pred_df = pd.read_pickle(all_predictions_filepath)"
   ]
  },
  {
   "cell_type": "code",
   "execution_count": null,
   "metadata": {},
   "outputs": [],
   "source": []
  }
 ],
 "metadata": {
  "kernelspec": {
   "display_name": "Python 3",
   "language": "python",
   "name": "python3"
  },
  "language_info": {
   "codemirror_mode": {
    "name": "ipython",
    "version": 3
   },
   "file_extension": ".py",
   "mimetype": "text/x-python",
   "name": "python",
   "nbconvert_exporter": "python",
   "pygments_lexer": "ipython3",
   "version": "3.6.8"
  }
 },
 "nbformat": 4,
 "nbformat_minor": 2
}
