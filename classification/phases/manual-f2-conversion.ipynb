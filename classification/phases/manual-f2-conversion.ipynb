{
 "cells": [
  {
   "cell_type": "markdown",
   "metadata": {},
   "source": [
    "Just putting this in a separate notebook for traceability reasons.\n",
    "\n",
    "Converting the F2 scores presenting in an earlier version of the paper to F1 scores.\n",
    "\n",
    "https://en.wikipedia.org/wiki/F1_score\n",
    "\n",
    "![](https://wikimedia.org/api/rest_v1/media/math/render/svg/057ffc6b4fa80dc1c0e1f2f1f6b598c38cdd7c23)\n",
    "\n",
    "The formula is straightforward."
   ]
  },
  {
   "cell_type": "code",
   "execution_count": 1,
   "metadata": {},
   "outputs": [],
   "source": [
    "def get_f1(precision, recall):\n",
    "    p, r = precision, recall\n",
    "    f1 = 2 * (p * r) / (p + r)\n",
    "    return f1"
   ]
  },
  {
   "cell_type": "code",
   "execution_count": 5,
   "metadata": {},
   "outputs": [
    {
     "data": {
      "text/plain": [
       "(0.9295698924731183,\n",
       " 0.9747692307692307,\n",
       " 0.6993377483443709,\n",
       " 0.8599999999999999,\n",
       " 0.9547643979057592)"
      ]
     },
     "execution_count": 5,
     "metadata": {},
     "output_type": "execute_result"
    }
   ],
   "source": [
    "# phase classification results\n",
    "get_f1(0.91, 0.95),\\\n",
    "get_f1(0.96, 0.99),\\\n",
    "get_f1(0.55, 0.96),\\\n",
    "get_f1(0.86, 0.86),\\\n",
    "get_f1(0.94, 0.97)"
   ]
  },
  {
   "cell_type": "code",
   "execution_count": null,
   "metadata": {},
   "outputs": [],
   "source": []
  },
  {
   "cell_type": "code",
   "execution_count": null,
   "metadata": {},
   "outputs": [],
   "source": []
  }
 ],
 "metadata": {
  "kernelspec": {
   "display_name": "Python (shared-conda)",
   "language": "python",
   "name": "shared-conda"
  },
  "language_info": {
   "codemirror_mode": {
    "name": "ipython",
    "version": 3
   },
   "file_extension": ".py",
   "mimetype": "text/x-python",
   "name": "python",
   "nbconvert_exporter": "python",
   "pygments_lexer": "ipython3",
   "version": "3.7.3"
  }
 },
 "nbformat": 4,
 "nbformat_minor": 2
}
