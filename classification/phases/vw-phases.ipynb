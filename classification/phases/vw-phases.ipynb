{
 "cells": [
  {
   "cell_type": "markdown",
   "metadata": {},
   "source": [
    "Phase Classification with Vowpal Wabbit\n",
    "==="
   ]
  },
  {
   "cell_type": "code",
   "execution_count": 1,
   "metadata": {},
   "outputs": [],
   "source": [
    "%reload_ext autoreload\n",
    "%autoreload 2\n",
    "%matplotlib inline"
   ]
  },
  {
   "cell_type": "code",
   "execution_count": 2,
   "metadata": {},
   "outputs": [],
   "source": [
    "import sys\n",
    "sys.path.append(\"../../annotation_data\")"
   ]
  },
  {
   "cell_type": "code",
   "execution_count": 3,
   "metadata": {},
   "outputs": [],
   "source": [
    "from phase import *\n",
    "from vw import *"
   ]
  },
  {
   "cell_type": "code",
   "execution_count": 4,
   "metadata": {},
   "outputs": [],
   "source": [
    "import pandas as pd\n",
    "import numpy as np\n",
    "import sklearn\n",
    "import sklearn.metrics\n",
    "import sklearn.model_selection\n",
    "import subprocess\n",
    "import scipy"
   ]
  },
  {
   "cell_type": "code",
   "execution_count": 5,
   "metadata": {},
   "outputs": [],
   "source": [
    "import matplotlib.pyplot as plt\n",
    "import matplotlib.dates as md\n",
    "import matplotlib\n",
    "import pylab as pl"
   ]
  },
  {
   "cell_type": "code",
   "execution_count": 6,
   "metadata": {},
   "outputs": [
    {
     "data": {
      "text/plain": [
       "4946"
      ]
     },
     "execution_count": 6,
     "metadata": {},
     "output_type": "execute_result"
    }
   ],
   "source": [
    "candidate_sites_working_dir = \"/home/srivbane/shared/caringbridge/data/projects/qual-health-journeys/identify_candidate_sites\"\n",
    "valid_classification_sites_filename = os.path.join(candidate_sites_working_dir, \"valid_classification_sites_filtered.txt\")\n",
    "with open(valid_classification_sites_filename, 'r') as infile:\n",
    "    valid_sites = [int(line.strip()) for line in infile.readlines() if line.strip() != \"\"]\n",
    "len(valid_sites)"
   ]
  },
  {
   "cell_type": "code",
   "execution_count": 7,
   "metadata": {},
   "outputs": [],
   "source": [
    "working_dir = \"/home/srivbane/shared/caringbridge/data/projects/qual-health-journeys/classification/phases/vw\"\n",
    "assert os.path.exists(working_dir)"
   ]
  },
  {
   "cell_type": "code",
   "execution_count": 8,
   "metadata": {},
   "outputs": [
    {
     "data": {
      "text/plain": [
       "'pretreatment,treatment,end_of_life,cured'"
      ]
     },
     "execution_count": 8,
     "metadata": {},
     "output_type": "execute_result"
    }
   ],
   "source": [
    "phase_named_labels = get_phase_named_labels()\n",
    "phase_named_labels"
   ]
  },
  {
   "cell_type": "code",
   "execution_count": 9,
   "metadata": {},
   "outputs": [],
   "source": [
    "phase_code_map = {\"pretreatment\": \"PT\", \"treatment\": \"T\", \"end_of_life\": \"EOL\", \"cured\": \"NED\"}"
   ]
  },
  {
   "cell_type": "code",
   "execution_count": 9,
   "metadata": {},
   "outputs": [
    {
     "name": "stderr",
     "output_type": "stream",
     "text": [
      "\r",
      "0it [00:00, ?it/s]"
     ]
    },
    {
     "name": "stdout",
     "output_type": "stream",
     "text": [
      "WARNING: 3+ annotators, but no agreement. Setting 'unknown'. ['eriks074', 'levon003', 'luoxx498']\n",
      "WARNING: levon003 not found in eriks074|luoxx498. Replacing with 'unknown'.\n"
     ]
    },
    {
     "name": "stderr",
     "output_type": "stream",
     "text": [
      "21it [00:05,  3.92it/s]"
     ]
    },
    {
     "name": "stdout",
     "output_type": "stream",
     "text": [
      "\n",
      "Site 135571 lacks 302 journals with phase annotations; http://127.0.0.1:5000/siteId/135571\n",
      "It will be excluded unless the whole site is coded for phases!\n"
     ]
    },
    {
     "name": "stderr",
     "output_type": "stream",
     "text": [
      "51it [00:14,  3.58it/s]"
     ]
    },
    {
     "name": "stdout",
     "output_type": "stream",
     "text": [
      "\n",
      "Site 186533 lacks 118 journals with phase annotations; http://127.0.0.1:5000/siteId/186533\n",
      "It will be excluded unless the whole site is coded for phases!\n"
     ]
    },
    {
     "name": "stderr",
     "output_type": "stream",
     "text": [
      "155it [00:57,  2.70it/s]"
     ]
    },
    {
     "name": "stdout",
     "output_type": "stream",
     "text": [
      "\n",
      "Site 722429 lacks 2 journals with phase annotations; http://127.0.0.1:5000/siteId/722429\n",
      "It will be excluded unless the whole site is coded for phases!\n"
     ]
    },
    {
     "name": "stderr",
     "output_type": "stream",
     "text": [
      "162it [00:59,  2.73it/s]"
     ]
    },
    {
     "name": "stdout",
     "output_type": "stream",
     "text": [
      "\n",
      "Site 818475 lacks 5 journals with phase annotations; http://127.0.0.1:5000/siteId/818475\n",
      "It will be excluded unless the whole site is coded for phases!\n"
     ]
    },
    {
     "name": "stderr",
     "output_type": "stream",
     "text": [
      "167it [01:01,  2.72it/s]"
     ]
    },
    {
     "name": "stdout",
     "output_type": "stream",
     "text": [
      "1 non-trivial journals did not have annotations on site 826591 and were skipped.\n"
     ]
    },
    {
     "name": "stderr",
     "output_type": "stream",
     "text": [
      "185it [01:08,  2.69it/s]"
     ]
    },
    {
     "name": "stdout",
     "output_type": "stream",
     "text": [
      "2 non-trivial journals did not have annotations on site 857627 and were skipped.\n"
     ]
    },
    {
     "name": "stderr",
     "output_type": "stream",
     "text": [
      "189it [01:10,  2.70it/s]"
     ]
    },
    {
     "name": "stdout",
     "output_type": "stream",
     "text": [
      "\n",
      "Site 864283 lacks 7 journals with phase annotations; http://127.0.0.1:5000/siteId/864283\n",
      "It will be excluded unless the whole site is coded for phases!\n",
      "1 non-trivial journals did not have annotations on site 866641 and were skipped.\n"
     ]
    },
    {
     "name": "stderr",
     "output_type": "stream",
     "text": [
      "213it [01:19,  2.67it/s]"
     ]
    },
    {
     "name": "stdout",
     "output_type": "stream",
     "text": [
      "1 non-trivial journals did not have annotations on site 912713 and were skipped.\n"
     ]
    },
    {
     "name": "stderr",
     "output_type": "stream",
     "text": [
      "228it [01:25,  2.68it/s]"
     ]
    },
    {
     "name": "stdout",
     "output_type": "stream",
     "text": [
      "1 non-trivial journals did not have annotations on site 1026937 and were skipped.\n"
     ]
    },
    {
     "name": "stderr",
     "output_type": "stream",
     "text": [
      "\r",
      "229it [01:25,  2.66it/s]"
     ]
    },
    {
     "name": "stdout",
     "output_type": "stream",
     "text": [
      "1 non-trivial journals did not have annotations on site 1028140 and were skipped.\n"
     ]
    },
    {
     "name": "stderr",
     "output_type": "stream",
     "text": [
      "231it [01:26,  2.66it/s]"
     ]
    },
    {
     "name": "stdout",
     "output_type": "stream",
     "text": [
      "2 non-trivial journals did not have annotations on site 1031202 and were skipped.\n"
     ]
    },
    {
     "name": "stderr",
     "output_type": "stream",
     "text": [
      "237it [01:28,  2.68it/s]\n"
     ]
    },
    {
     "data": {
      "text/plain": [
       "9336"
      ]
     },
     "execution_count": 9,
     "metadata": {},
     "output_type": "execute_result"
    }
   ],
   "source": [
    "annotated_df = get_annotated_phase_df()\n",
    "len(annotated_df)"
   ]
  },
  {
   "cell_type": "code",
   "execution_count": null,
   "metadata": {},
   "outputs": [],
   "source": [
    "annotated_df.head(n=1)"
   ]
  },
  {
   "cell_type": "code",
   "execution_count": 11,
   "metadata": {},
   "outputs": [
    {
     "name": "stderr",
     "output_type": "stream",
     "text": [
      "100%|██████████| 4946/4946 [03:04<00:00, 26.84it/s]\n"
     ]
    },
    {
     "name": "stdout",
     "output_type": "stream",
     "text": [
      "Skipped 172 sites that were found already in the dataframe.\n"
     ]
    },
    {
     "data": {
      "text/plain": [
       "158109"
      ]
     },
     "execution_count": 11,
     "metadata": {},
     "output_type": "execute_result"
    }
   ],
   "source": [
    "full_df = add_sites_to_phase_df(annotated_df, valid_sites)\n",
    "len(full_df)"
   ]
  },
  {
   "cell_type": "code",
   "execution_count": 12,
   "metadata": {},
   "outputs": [],
   "source": [
    "full_df.reset_index(drop=True, inplace=True)"
   ]
  },
  {
   "cell_type": "code",
   "execution_count": 13,
   "metadata": {},
   "outputs": [
    {
     "name": "stderr",
     "output_type": "stream",
     "text": [
      "100%|██████████| 4977/4977 [00:04<00:00, 1074.40it/s]"
     ]
    },
    {
     "name": "stdout",
     "output_type": "stream",
     "text": [
      "Site 1001818 only has a single valid journal, which may indicate an issue: http://127.0.0.1:5000/siteId/1001818\n"
     ]
    },
    {
     "name": "stderr",
     "output_type": "stream",
     "text": [
      "\n"
     ]
    }
   ],
   "source": [
    "add_time_since_prev_journal_column(full_df)"
   ]
  },
  {
   "cell_type": "code",
   "execution_count": 14,
   "metadata": {},
   "outputs": [],
   "source": [
    "full_df.reset_index(drop=True, inplace=True)"
   ]
  },
  {
   "cell_type": "code",
   "execution_count": null,
   "metadata": {
    "scrolled": false
   },
   "outputs": [],
   "source": [
    "full_df.sample(n=2)"
   ]
  },
  {
   "cell_type": "code",
   "execution_count": 10,
   "metadata": {},
   "outputs": [],
   "source": [
    "full_df_filepath = os.path.join(working_dir, \"full_df.pkl\")"
   ]
  },
  {
   "cell_type": "code",
   "execution_count": 17,
   "metadata": {},
   "outputs": [],
   "source": [
    "full_df.to_pickle(full_df_filepath)"
   ]
  },
  {
   "cell_type": "code",
   "execution_count": 11,
   "metadata": {},
   "outputs": [],
   "source": [
    "full_df = pd.read_pickle(full_df_filepath)"
   ]
  },
  {
   "cell_type": "code",
   "execution_count": 12,
   "metadata": {},
   "outputs": [
    {
     "data": {
      "text/plain": [
       "158109"
      ]
     },
     "execution_count": 12,
     "metadata": {},
     "output_type": "execute_result"
    }
   ],
   "source": [
    "len(full_df)"
   ]
  },
  {
   "cell_type": "markdown",
   "metadata": {},
   "source": [
    "## CSOAA Model"
   ]
  },
  {
   "cell_type": "code",
   "execution_count": 16,
   "metadata": {},
   "outputs": [
    {
     "data": {
      "text/plain": [
       "9336"
      ]
     },
     "execution_count": 16,
     "metadata": {},
     "output_type": "execute_result"
    }
   ],
   "source": [
    "annotated_df = full_df[full_df.is_annotated]\n",
    "len(annotated_df)"
   ]
  },
  {
   "cell_type": "code",
   "execution_count": 20,
   "metadata": {},
   "outputs": [
    {
     "name": "stdout",
     "output_type": "stream",
     "text": [
      "Choosing 40/203 sites for validation.\n"
     ]
    },
    {
     "data": {
      "text/plain": [
       "[149905, 397252, 306606]"
      ]
     },
     "execution_count": 20,
     "metadata": {},
     "output_type": "execute_result"
    }
   ],
   "source": [
    "validation_pct = 0.2\n",
    "annotated_sites = set(annotated_df.site_id)\n",
    "validation_site_count = int(len(annotated_sites) * validation_pct)\n",
    "print(f\"Choosing {validation_site_count}/{len(annotated_sites)} sites for validation.\")\n",
    "validation_site_ids = random.sample(annotated_sites, validation_site_count)\n",
    "validation_site_ids[:3]"
   ]
  },
  {
   "cell_type": "code",
   "execution_count": 21,
   "metadata": {},
   "outputs": [
    {
     "name": "stdout",
     "output_type": "stream",
     "text": [
      "Wrote 9336 lines (7792 train, 1544 validation) to '/home/srivbane/shared/caringbridge/data/projects/qual-health-journeys/classification/phases/vw/phase_csoaa_default.train'.\n",
      "Should holdout after 7792.\n",
      "CPU times: user 16.5 s, sys: 196 ms, total: 16.7 s\n",
      "Wall time: 16.9 s\n"
     ]
    }
   ],
   "source": [
    "%%time\n",
    "vw_train_filepath, vw_test_filepath, holdout_after = \\\n",
    "    format_phase_df_as_multiclass(full_df, working_dir, \n",
    "                                  validation_site_ids=validation_site_ids, \n",
    "                                  include_unannotated=False)\n",
    "print(f\"Should holdout after {holdout_after}.\")"
   ]
  },
  {
   "cell_type": "code",
   "execution_count": null,
   "metadata": {
    "scrolled": true
   },
   "outputs": [],
   "source": [
    "!head -c 1024 {vw_train_filepath}"
   ]
  },
  {
   "cell_type": "code",
   "execution_count": 23,
   "metadata": {},
   "outputs": [],
   "source": [
    "# Train the model\n",
    "vw_model_file=os.path.join(working_dir, \"phase_csoaa_default.model\")\n",
    "num_classes = len(phase_named_labels)\n",
    "train_file_command = f\"vw -k -c -b 27 --csoaa {num_classes} -d {vw_train_filepath} -f {vw_model_file} --passes 20 --holdout_after {holdout_after} --named_labels {phase_named_labels} --ngram 2 --skips 1\"\n",
    "proc = subprocess.run(train_file_command, shell=True, check=True, stdout=subprocess.PIPE, stderr=subprocess.DEVNULL)"
   ]
  },
  {
   "cell_type": "code",
   "execution_count": 24,
   "metadata": {},
   "outputs": [],
   "source": [
    "# Predict on the labeled data\n",
    "train_pred_file =  os.path.join(working_dir, \"phase_csoaa_default_train.pred\")\n",
    "train_raw_pred_file = os.path.join(working_dir, \"phase_csoaa_default_train.pred.raw\")\n",
    "predict_train_command = f\"vw -t -i {vw_model_file} -p {train_pred_file} -d {vw_train_filepath} -r {train_raw_pred_file}\"\n",
    "proc = subprocess.run(predict_train_command, shell=True, check=True, stdout=subprocess.PIPE, stderr=subprocess.DEVNULL)"
   ]
  },
  {
   "cell_type": "code",
   "execution_count": 18,
   "metadata": {},
   "outputs": [],
   "source": [
    "# Predict on the unlabeled data\n",
    "test_pred_file =  os.path.join(working_dir, \"phase_csoaa_default_test.pred\")\n",
    "test_raw_pred_file = os.path.join(working_dir, \"phase_csoaa_default_test.pred.raw\")\n",
    "predict_test_command = f\"vw -t -i {vw_model_file} -p {test_pred_file} -d {vw_test_filepath} -r {test_raw_pred_file}\"\n",
    "proc = subprocess.run(predict_test_command, shell=True, check=True, stdout=subprocess.PIPE, stderr=subprocess.DEVNULL)"
   ]
  },
  {
   "cell_type": "code",
   "execution_count": 25,
   "metadata": {},
   "outputs": [],
   "source": [
    "train_preds = read_raw_multiclass_phase_preds(train_raw_pred_file)\n",
    "assert len(train_preds) == len(full_df[full_df.is_annotated])"
   ]
  },
  {
   "cell_type": "code",
   "execution_count": 26,
   "metadata": {},
   "outputs": [],
   "source": [
    "annotated = full_df[full_df.is_annotated].merge(train_preds, how=\"left\", validate=\"one_to_one\")\n",
    "annotated = annotated.iloc[holdout_after+1:]\n",
    "# Verify that predictions for all annotations were merged into this dataframe\n",
    "for col in annotated.columns:\n",
    "    if col.endswith(\"_pred\"):\n",
    "        na_count = annotated[col].isna().sum()\n",
    "        # print(col, na_count)\n",
    "        assert na_count == 0, f\"{col} NAs: {na_count}\"\n",
    "annotated.reset_index(drop=True, inplace=True)"
   ]
  },
  {
   "cell_type": "code",
   "execution_count": 27,
   "metadata": {},
   "outputs": [
    {
     "data": {
      "text/plain": [
       "(1543, 4)"
      ]
     },
     "execution_count": 27,
     "metadata": {},
     "output_type": "execute_result"
    }
   ],
   "source": [
    "# build y_true matrix (n_samples,n_classes)\n",
    "# (slow/old method)\n",
    "n_samples = len(annotated)\n",
    "n_classes = len(phase_labels)\n",
    "y_true = np.zeros((n_samples, n_classes))\n",
    "for i in range(len(annotated)):\n",
    "    row = annotated.iloc[i]\n",
    "    for j, phase_label in enumerate(phase_labels):\n",
    "        if row[phase_label + \"_score\"] > 0.5:\n",
    "            y_true[i,j] = 1\n",
    "y_true.shape"
   ]
  },
  {
   "cell_type": "code",
   "execution_count": 28,
   "metadata": {},
   "outputs": [
    {
     "data": {
      "text/plain": [
       "(1543, 4)"
      ]
     },
     "execution_count": 28,
     "metadata": {},
     "output_type": "execute_result"
    }
   ],
   "source": [
    "# build y_true matrix (n_samples,n_classes)\n",
    "n_samples = len(annotated)\n",
    "n_classes = len(phase_labels)\n",
    "y_train_score = annotated.loc[range(n_samples), [phase_label + \"_score\" for phase_label in phase_labels]].values\n",
    "y_true = (y_train_score > 0.5).astype(int)\n",
    "y_true.shape"
   ]
  },
  {
   "cell_type": "code",
   "execution_count": 29,
   "metadata": {},
   "outputs": [
    {
     "data": {
      "text/plain": [
       "((1543, 4), 0)"
      ]
     },
     "execution_count": 29,
     "metadata": {},
     "output_type": "execute_result"
    }
   ],
   "source": [
    "# build y_score matrix (n_samples,n_classes)\n",
    "n_samples = len(annotated)\n",
    "n_classes = len(phase_labels)\n",
    "y_score = np.zeros((n_samples, n_classes))\n",
    "error_count = 0\n",
    "for i in range(len(annotated)):\n",
    "    row = annotated.iloc[i]\n",
    "    for j, phase_label in enumerate(phase_labels):\n",
    "        score = row[phase_label + \"_pred\"]\n",
    "        if not np.isfinite(score):\n",
    "            print(row)\n",
    "            y_score[i,j] = -1.0\n",
    "            error_count += 1\n",
    "        else:\n",
    "            y_score[i,j] = score #1 - max(min(score, 1), 0)\n",
    "assert np.isfinite(y_score).all()\n",
    "y_score.shape, error_count"
   ]
  },
  {
   "cell_type": "code",
   "execution_count": 30,
   "metadata": {},
   "outputs": [
    {
     "name": "stdout",
     "output_type": "stream",
     "text": [
      "(1543, 4) (1543, 4) (1543, 4)\n"
     ]
    },
    {
     "data": {
      "text/plain": [
       "(0.9652801501898807, 0.9613447293771091)"
      ]
     },
     "execution_count": 30,
     "metadata": {},
     "output_type": "execute_result"
    }
   ],
   "source": [
    "y_score_raw = annotated.loc[range(n_samples), [phase_label + \"_pred\" for phase_label in phase_labels]].values\n",
    "y_score_1 = 1 - np.clip(y_score_raw, 0, 1)\n",
    "y_score_2 = 1 - ((y_score_raw - y_score_raw.min(0)) / y_score_raw.ptp(0))\n",
    "print(y_score_raw.shape, y_score_1.shape, y_score_2.shape)\n",
    "assert y_score_1.shape == y_score_2.shape\n",
    "y_score = y_score_1\n",
    "assert np.isfinite(y_score).all()\n",
    "sklearn.metrics.roc_auc_score(y_true, y_score_1), sklearn.metrics.roc_auc_score(y_true, y_score_2)"
   ]
  },
  {
   "cell_type": "code",
   "execution_count": 31,
   "metadata": {},
   "outputs": [],
   "source": [
    "#y_score_norm = (y_score - y_score.min(0)) / y_score.ptp(0)\n",
    "#y_score_norm = 1 - y_score_norm\n",
    "#print(y_score_norm.ptp(), y_score_norm.min(), y_score_norm.max())\n",
    "#assert np.isclose(y_score_norm.ptp(), 1), y_score_norm.ptp()\n",
    "#sklearn.metrics.roc_auc_score(y_true, y_score_norm)"
   ]
  },
  {
   "cell_type": "code",
   "execution_count": 32,
   "metadata": {},
   "outputs": [
    {
     "name": "stderr",
     "output_type": "stream",
     "text": [
      "/panfs/roc/groups/3/srivbane/levon003/anaconda3/lib/python3.6/site-packages/sklearn/metrics/classification.py:1135: UndefinedMetricWarning: F-score is ill-defined and being set to 0.0 in samples with no predicted labels.\n",
      "  'precision', 'predicted', average, warn_for)\n",
      "/panfs/roc/groups/3/srivbane/levon003/anaconda3/lib/python3.6/site-packages/sklearn/metrics/classification.py:1137: UndefinedMetricWarning: F-score is ill-defined and being set to 0.0 in samples with no true labels.\n",
      "  'recall', 'true', average, warn_for)\n",
      "/panfs/roc/groups/3/srivbane/levon003/anaconda3/lib/python3.6/site-packages/sklearn/metrics/classification.py:1135: UndefinedMetricWarning: F-score is ill-defined and being set to 0.0 in labels with no predicted samples.\n",
      "  'precision', 'predicted', average, warn_for)\n",
      "/panfs/roc/groups/3/srivbane/levon003/anaconda3/lib/python3.6/site-packages/sklearn/metrics/classification.py:1135: UndefinedMetricWarning: F-score is ill-defined and being set to 0.0 due to no predicted samples.\n",
      "  'precision', 'predicted', average, warn_for)\n"
     ]
    },
    {
     "data": {
      "text/plain": [
       "(50, 4)"
      ]
     },
     "execution_count": 32,
     "metadata": {},
     "output_type": "execute_result"
    }
   ],
   "source": [
    "thresholds = np.linspace(0, 1, num=50)\n",
    "scores = []\n",
    "class_f2_score_mat = np.zeros((len(thresholds), n_classes))\n",
    "for i, threshold in enumerate(thresholds):\n",
    "    y_pred = (y_score > threshold).astype(int)\n",
    "    \n",
    "    class_f2_scores = np.array(sklearn.metrics.fbeta_score(y_true, y_pred, 2, average=None))\n",
    "    class_f2_score_mat[i,:] = class_f2_scores\n",
    "    \n",
    "    macro_f2_score = sklearn.metrics.fbeta_score(y_true, y_pred, 2, average='macro')\n",
    "    micro_f2_score = sklearn.metrics.fbeta_score(y_true, y_pred, 2, average='micro')\n",
    "    weighted_f2_score = sklearn.metrics.fbeta_score(y_true, y_pred, 2, average='weighted')\n",
    "    samples_f2_score = sklearn.metrics.fbeta_score(y_true, y_pred, 2, average='samples')\n",
    "    scores.append((macro_f2_score, micro_f2_score, weighted_f2_score, samples_f2_score))\n",
    "class_f2_score_mat.shape"
   ]
  },
  {
   "cell_type": "code",
   "execution_count": 33,
   "metadata": {},
   "outputs": [
    {
     "name": "stdout",
     "output_type": "stream",
     "text": [
      "Micro max threshold: 0.2857142857142857\n",
      "Macro max threshold: 0.4897959183673469\n"
     ]
    },
    {
     "data": {
      "image/png": "[encoded data removed]",
      "text/plain": [
       "<Figure size 432x288 with 1 Axes>"
      ]
     },
     "metadata": {},
     "output_type": "display_data"
    }
   ],
   "source": [
    "scores = np.array(scores)\n",
    "plt.plot(thresholds, scores[:,0], label=\"macro f2\")\n",
    "plt.plot(thresholds, scores[:,1], label=\"micro f2\")\n",
    "plt.plot(thresholds, scores[:,2], label=\"weighted f2\")\n",
    "plt.plot(thresholds, scores[:,3], label=\"samples f2\")\n",
    "\n",
    "micro_max = thresholds[scores.argmax(0)[1]]\n",
    "print(\"Micro max threshold:\", micro_max)\n",
    "plt.axvline(micro_max, color=\"gray\", linestyle=\"--\", label=\"micro max\")\n",
    "\n",
    "macro_max = thresholds[scores.argmax(0)[0]]\n",
    "print(\"Macro max threshold:\", macro_max)\n",
    "plt.axvline(macro_max, color=\"darkgray\", linestyle=\"--\", label=\"macro max\")\n",
    "\n",
    "plt.legend()\n",
    "plt.show()"
   ]
  },
  {
   "cell_type": "code",
   "execution_count": 34,
   "metadata": {},
   "outputs": [
    {
     "data": {
      "image/png": "[encoded data removed]",
      "text/plain": [
       "<Figure size 288x1152 with 2 Axes>"
      ]
     },
     "metadata": {},
     "output_type": "display_data"
    },
    {
     "data": {
      "text/plain": [
       "[('communicating', 0.12244897959183673),\n",
       " ('info_filtering', 0.04081632653061224),\n",
       " ('clinical_decisions', 0.6530612244897959),\n",
       " ('preparation', 0.7142857142857142)]"
      ]
     },
     "execution_count": 34,
     "metadata": {},
     "output_type": "execute_result"
    }
   ],
   "source": [
    "# visualize the per-class f2 score\n",
    "plt.matshow(class_f2_score_mat)\n",
    "plt.yticks(np.arange(0,len(thresholds)), [\"%.2f\" % th for th in thresholds])\n",
    "plt.xticks(np.arange(0,len(phase_labels)), phase_labels, rotation=90)\n",
    "plt.colorbar()\n",
    "\n",
    "for i, index in enumerate(class_f2_score_mat.argmax(axis=0)):\n",
    "    plt.plot(i, index, color='black', marker='x', markersize=10)\n",
    "\n",
    "plt.show()\n",
    "\n",
    "# compute the threshold that maximizes F2 score for each class separately\n",
    "max_per_class_thresholds = np.array([thresholds[i] for i in class_f2_score_mat.argmax(axis=0)])\n",
    "list(zip(responsibility_labels, max_per_class_thresholds))"
   ]
  },
  {
   "cell_type": "code",
   "execution_count": 35,
   "metadata": {},
   "outputs": [
    {
     "name": "stdout",
     "output_type": "stream",
     "text": [
      "Proportion of Validation Samples Assigned Each Phase\n",
      "Phase                    % Pred  % True\n",
      "============================================================\n",
      "pretreatment               0.20    0.15\n",
      "treatment                  0.81    0.75\n",
      "end_of_life                0.02    0.02\n",
      "cured                      0.06    0.08\n",
      "\n",
      "F2-score under different averaging conditions\n",
      "Macro Micro Weighted Samples\n",
      "==============================\n",
      " 0.90  0.95     0.95    0.92\n",
      "\n",
      "              precision    recall  f1-score   support\n",
      "\n",
      "pretreatment       0.69      0.91      0.78       230\n",
      "   treatment       0.93      1.00      0.96      1164\n",
      " end_of_life       0.97      1.00      0.98        32\n",
      "       cured       0.99      0.73      0.84       125\n",
      "\n",
      " avg / total       0.90      0.96      0.93      1551\n",
      "\n",
      "Proportion of Validation Samples Assigned Each Phase (using a global 0.5 threshold)\n",
      "Phase                    % Pred  % True\n",
      "============================================================\n",
      "pretreatment               0.13    0.15\n",
      "treatment                  0.78    0.75\n",
      "end_of_life                0.02    0.02\n",
      "cured                      0.07    0.08\n",
      "\n"
     ]
    },
    {
     "name": "stderr",
     "output_type": "stream",
     "text": [
      "/panfs/roc/groups/3/srivbane/levon003/anaconda3/lib/python3.6/site-packages/sklearn/metrics/classification.py:1135: UndefinedMetricWarning: F-score is ill-defined and being set to 0.0 in samples with no predicted labels.\n",
      "  'precision', 'predicted', average, warn_for)\n",
      "/panfs/roc/groups/3/srivbane/levon003/anaconda3/lib/python3.6/site-packages/sklearn/metrics/classification.py:1137: UndefinedMetricWarning: F-score is ill-defined and being set to 0.0 in samples with no true labels.\n",
      "  'recall', 'true', average, warn_for)\n"
     ]
    }
   ],
   "source": [
    "# rather than using a single threshold, we instead use a per-class threshold\n",
    "y_pred_per_class = (y_score >= max_per_class_thresholds).astype(int)\n",
    "print(\"Proportion of Validation Samples Assigned Each Phase\")\n",
    "print(\"Phase                    % Pred  % True\")\n",
    "print(\"=\"*60)\n",
    "for resp_label, pct_assigned_positive, pct_true in zip(phase_labels, \n",
    "                                             list(np.sum(y_pred_per_class, axis=0) / y_pred_per_class.shape[0]),\n",
    "                                             list(np.sum(y_true, axis=0) / y_pred_per_class.shape[0])):\n",
    "    print(f\"{resp_label:24} {pct_assigned_positive:6.2f}  {pct_true:6.2f}\")\n",
    "print()\n",
    "\n",
    "macro_f2_score = sklearn.metrics.fbeta_score(y_true, y_pred_per_class, 2, average='macro')\n",
    "micro_f2_score = sklearn.metrics.fbeta_score(y_true, y_pred_per_class, 2, average='micro')\n",
    "weighted_f2_score = sklearn.metrics.fbeta_score(y_true, y_pred_per_class, 2, average='weighted')\n",
    "samples_f2_score = sklearn.metrics.fbeta_score(y_true, y_pred_per_class, 2, average='samples')\n",
    "print(\"F2-score under different averaging conditions\")\n",
    "print(\"Macro Micro Weighted Samples\")\n",
    "print(\"=\"*30)\n",
    "print(f\"{macro_f2_score:5.2f} {micro_f2_score:5.2f} {weighted_f2_score:8.2f} {samples_f2_score:7.2f}\")\n",
    "print()\n",
    "\n",
    "print(sklearn.metrics.classification_report(y_true, y_pred_per_class, target_names=phase_labels))\n",
    "\n",
    "y_pred_per_class = (y_score >= 0.5).astype(int)\n",
    "print(\"Proportion of Validation Samples Assigned Each Phase (using a global 0.5 threshold)\")\n",
    "print(\"Phase                    % Pred  % True\")\n",
    "print(\"=\"*60)\n",
    "for resp_label, pct_assigned_positive, pct_true in zip(phase_labels, \n",
    "                                             list(np.sum(y_pred_per_class, axis=0) / y_pred_per_class.shape[0]),\n",
    "                                             list(np.sum(y_true, axis=0) / y_pred_per_class.shape[0])):\n",
    "    print(f\"{resp_label:24} {pct_assigned_positive:6.2f}  {pct_true:6.2f}\")\n",
    "print()"
   ]
  },
  {
   "cell_type": "code",
   "execution_count": 257,
   "metadata": {},
   "outputs": [
    {
     "name": "stdout",
     "output_type": "stream",
     "text": [
      "Finished saving.\n"
     ]
    }
   ],
   "source": [
    "# save the y_score and the thresholds, along with the classes\n",
    "classes_filepath = os.path.join(working_dir, 'classes.npy')\n",
    "np.save(classes_filepath, np.array(phase_labels))\n",
    "y_true_filepath = os.path.join(working_dir, 'y_true.npy')\n",
    "np.save(y_true_filepath, y_true)\n",
    "y_score_filepath = os.path.join(working_dir, 'y_score.npy')\n",
    "np.save(y_score_filepath, y_score)\n",
    "thresholds_filepath = os.path.join(working_dir, 'class_thresholds.npy')\n",
    "np.save(thresholds_filepath, max_per_class_thresholds)\n",
    "print(\"Finished saving.\")"
   ]
  },
  {
   "cell_type": "markdown",
   "metadata": {},
   "source": [
    "## Boostrapping and Parameter Search"
   ]
  },
  {
   "cell_type": "code",
   "execution_count": 13,
   "metadata": {},
   "outputs": [],
   "source": [
    "def train_model(annotated_df, validation_site_ids, model_label):\n",
    "    if validation_site_ids is None:\n",
    "        validation_pct = 0.2\n",
    "        annotated_sites = set(annotated_df.site_id)\n",
    "        validation_site_count = int(len(annotated_sites) * validation_pct)\n",
    "        print(f\"Choosing {validation_site_count}/{len(annotated_sites)} sites for validation.\")\n",
    "        validation_site_ids = random.sample(annotated_sites, validation_site_count)\n",
    "    \n",
    "    # Format the training file\n",
    "    vw_train_filepath, vw_test_filepath, holdout_after = \\\n",
    "    format_phase_df_as_multiclass(full_df, working_dir, \n",
    "                                  validation_site_ids=validation_site_ids, \n",
    "                                  include_unannotated=False)\n",
    "    print(f\"Holding out after {holdout_after} training lines.\")\n",
    "    \n",
    "    # Train the model\n",
    "    vw_model_file=os.path.join(working_dir, \"phase_csoaa_default.model\")\n",
    "    num_classes = len(phase_labels)\n",
    "    train_file_command = f\"vw -k -c -b 27 --csoaa {num_classes} -d {vw_train_filepath} -f {vw_model_file} --passes 20 --holdout_after {holdout_after} --named_labels {phase_named_labels} --ngram 2 --skips 1\"\n",
    "    proc = subprocess.run(train_file_command, shell=True, check=True, stdout=subprocess.PIPE, stderr=subprocess.DEVNULL)\n",
    "    print(\"Model trained.\")\n",
    "    \n",
    "    # Predict on the labeled data\n",
    "    train_pred_file =  os.path.join(working_dir, \"phase_csoaa_default_train.pred\")\n",
    "    train_raw_pred_file = os.path.join(working_dir, \"phase_csoaa_default_train.pred.raw\")\n",
    "    predict_train_command = f\"vw -t -i {vw_model_file} -p {train_pred_file} -d {vw_train_filepath} -r {train_raw_pred_file}\"\n",
    "    proc = subprocess.run(predict_train_command, shell=True, check=True, stdout=subprocess.PIPE, stderr=subprocess.DEVNULL)\n",
    "    print(\"Predictions generated.\")\n",
    "    \n",
    "    # Merge in the predictions with the true scores\n",
    "    train_preds = read_raw_multiclass_phase_preds(train_raw_pred_file)\n",
    "    annotated = annotated_df.merge(train_preds, how=\"left\", validate=\"one_to_one\")\n",
    "    annotated = annotated.iloc[holdout_after+1:]\n",
    "    # Verify that predictions for all annotations were merged into this dataframe\n",
    "    for col in annotated.columns:\n",
    "        if col.endswith(\"_pred\"):\n",
    "            na_count = annotated[col].isna().sum()\n",
    "            assert na_count == 0, f\"{col} NAs: {na_count}\"\n",
    "    annotated.reset_index(drop=True, inplace=True)\n",
    "    \n",
    "    # Build y_true matrix (n_samples,n_classes)\n",
    "    n_samples = len(annotated)\n",
    "    n_classes = len(phase_labels)\n",
    "    y_train_score = annotated.loc[range(n_samples), [phase_label + \"_score\" for phase_label in phase_labels]].values\n",
    "    y_true = (y_train_score > 0.5).astype(int)\n",
    "    \n",
    "    # Build y_score matrix (n_samples,n_classes)\n",
    "    y_score_raw = annotated.loc[range(n_samples), [phase_label + \"_pred\" for phase_label in phase_labels]].values\n",
    "    y_score = 1 - np.clip(y_score_raw, 0, 1)\n",
    "    assert np.isfinite(y_score).all()\n",
    "    assert y_score.shape == y_true.shape\n",
    "    print(\"Predictions merged and normalized.\")\n",
    "    \n",
    "    # Compute f2 score at various thresholds\n",
    "    thresholds = np.linspace(0, 1, num=50)\n",
    "    class_f2_score_mat = np.zeros((len(thresholds), n_classes))\n",
    "    for i, threshold in enumerate(thresholds):\n",
    "        y_pred = (y_score > threshold).astype(int)\n",
    "        class_f2_scores = np.array(sklearn.metrics.fbeta_score(y_true, y_pred, 2, average=None))\n",
    "        class_f2_score_mat[i,:] = class_f2_scores\n",
    "        \n",
    "    # compute the threshold that maximizes F2 score for each class separately\n",
    "    max_per_class_thresholds = np.array([thresholds[i] for i in class_f2_score_mat.argmax(axis=0)])\n",
    "    print(\"Decision thresholds computed.\")\n",
    "    \n",
    "    # Compute y_pred from the chosen thresholds\n",
    "    y_pred = (y_score >= max_per_class_thresholds).astype(int)\n",
    "    y_pred_default = (y_score >= 0.5).astype(int)\n",
    "\n",
    "    # Compute metrics of interest\n",
    "    #weighted_f2_score = sklearn.metrics.fbeta_score(y_true, y_pred, 2, average='weighted')\n",
    "    #class_f2_scores = np.array(sklearn.metrics.fbeta_score(y_true, y_pred, 2, average=None))\n",
    "    #roc_auc = sklearn.metrics.roc_auc_score(y_true, y_score)\n",
    "    weighted_f2_score = sklearn.metrics.fbeta_score(y_true, y_pred_default, 2, average='weighted')\n",
    "    class_f2_scores = np.array(sklearn.metrics.fbeta_score(y_true, y_pred_default, 2, average=None))\n",
    "    weighted_precision_score = sklearn.metrics.precision_score(y_true, y_pred_default, average='weighted')\n",
    "    class_precision_scores = np.array(sklearn.metrics.precision_score(y_true, y_pred_default, average=None))\n",
    "    weighted_recall_score = sklearn.metrics.recall_score(y_true, y_pred_default, average='weighted')\n",
    "    class_recall_scores = np.array(sklearn.metrics.recall_score(y_true, y_pred_default, average=None))\n",
    "\n",
    "    \n",
    "    # Generate a classification report\n",
    "    #classification_report = sklearn.metrics.classification_report(y_true, y_pred, target_names=phase_labels)\n",
    "    print(f\"Finished training and evaluating model '{model_label}'.\")\n",
    "    \n",
    "    return weighted_f2_score, weighted_precision_score, weighted_recall_score, class_f2_scores, class_precision_scores, class_recall_scores"
   ]
  },
  {
   "cell_type": "code",
   "execution_count": null,
   "metadata": {},
   "outputs": [],
   "source": [
    "weighted_f2_score, weighted_precision_score, weighted_recall_score, class_f2_scores, class_precision_scores, class_recall_scores = train_model(annotated_df, None, \"single run\")"
   ]
  },
  {
   "cell_type": "code",
   "execution_count": null,
   "metadata": {},
   "outputs": [],
   "source": [
    "print(f\"{'Phase':20}  Pre   Rec   F2  \")\n",
    "print(\"=\"*40)\n",
    "for i, phase_label in enumerate(phase_labels): \n",
    "    print(f\"{phase_label:20}  {class_precision_scores[i]:.2f}  {class_recall_scores[i]:.2f}  {class_f2_scores[i]:.2f}\")\n",
    "print(f\"{'Mean':20}  {weighted_precision_score:.2f}  {weighted_recall_score:.2f}  {weighted_f2_score:.2f}\")"
   ]
  },
  {
   "cell_type": "code",
   "execution_count": 264,
   "metadata": {},
   "outputs": [
    {
     "data": {
      "text/plain": [
       "array([0.00896545, 0.01085998, 0.03035714, 0.03102455])"
      ]
     },
     "execution_count": 264,
     "metadata": {},
     "output_type": "execute_result"
    }
   ],
   "source": [
    "# how different are the custom-thresholded f2 scores from the default f2 scores?\n",
    "np.abs(class_f2_scores - class_f2_scores_default)"
   ]
  },
  {
   "cell_type": "code",
   "execution_count": 37,
   "metadata": {
    "scrolled": true
   },
   "outputs": [
    {
     "name": "stderr",
     "output_type": "stream",
     "text": [
      "/panfs/roc/groups/3/srivbane/levon003/anaconda3/lib/python3.6/site-packages/sklearn/metrics/classification.py:1135: UndefinedMetricWarning: F-score is ill-defined and being set to 0.0 in labels with no predicted samples.\n",
      "  'precision', 'predicted', average, warn_for)\n"
     ]
    },
    {
     "data": {
      "text/plain": [
       "(0.9706399575420065, 0.016950042951098438)"
      ]
     },
     "execution_count": 37,
     "metadata": {},
     "output_type": "execute_result"
    }
   ],
   "source": [
    "%%capture --no-stderr --no-display kfold_cv_stdout\n",
    "# k-Fold cross-validation\n",
    "k = 10\n",
    "annotated_sites = np.array(list(set(annotated_df.site_id)))\n",
    "kf = sklearn.model_selection.KFold(n_splits=k)\n",
    "\n",
    "results = []\n",
    "\n",
    "index = 0\n",
    "for train_indices, val_indices in tqdm(kf.split(annotated_sites)):\n",
    "    validation_site_ids = list(annotated_sites[val_indices])\n",
    "    weighted_f2_score, class_f2_scores, roc_auc, max_per_class_thresholds, _ = \\\n",
    "        train_model(annotated_df, validation_site_ids, f\"{k}-fold validation model {index}\")\n",
    "    results.append((weighted_f2_score, class_f2_scores, roc_auc, max_per_class_thresholds))\n",
    "    index += 1\n",
    "f2_scores = np.array([tup[0] for tup in results])\n",
    "np.mean(f2_scores), np.std(f2_scores)"
   ]
  },
  {
   "cell_type": "code",
   "execution_count": 41,
   "metadata": {},
   "outputs": [
    {
     "name": "stdout",
     "output_type": "stream",
     "text": [
      "(10, 4)\n",
      "[0.19198865 0.30522829 0.07124612 0.20331489 0.11270777 0.23201667\n",
      " 0.11932669 0.05076467 0.3315934  0.17813357]\n",
      "[0.81632653 0.79591837 0.44897959 0.7755102  0.71428571 0.81632653\n",
      " 0.6122449  0.65306122 0.83673469 0.63265306]\n",
      "[0.30612245 0.12244898 0.26530612 0.24489796 0.46938776 0.2244898\n",
      " 0.34693878 0.53061224 0.02040816 0.20408163]\n"
     ]
    },
    {
     "data": {
      "image/png": "[encoded data removed]",
      "text/plain": [
       "<Figure size 432x288 with 1 Axes>"
      ]
     },
     "metadata": {},
     "output_type": "display_data"
    }
   ],
   "source": [
    "# k-Fold analysis of thresholds\n",
    "thresholds = np.array([tup[3] for tup in results])\n",
    "print(thresholds.shape)\n",
    "print(thresholds.std(axis=1))\n",
    "print(thresholds.max(axis=1))\n",
    "print(thresholds.min(axis=1))\n",
    "plt.boxplot(thresholds, labels=phase_labels, showmeans=True)\n",
    "\n",
    "plt.title(\"Variation of the identified optimal threshold for each class\")\n",
    "plt.show()"
   ]
  },
  {
   "cell_type": "code",
   "execution_count": 265,
   "metadata": {},
   "outputs": [
    {
     "name": "stderr",
     "output_type": "stream",
     "text": [
      "  0%|          | 0/2 [00:00<?, ?it/s]/panfs/roc/groups/3/srivbane/levon003/anaconda3/lib/python3.6/site-packages/sklearn/metrics/classification.py:1135: UndefinedMetricWarning: F-score is ill-defined and being set to 0.0 in labels with no predicted samples.\n",
      "  'precision', 'predicted', average, warn_for)\n",
      "100%|██████████| 2/2 [01:09<00:00, 34.74s/it]\n"
     ]
    },
    {
     "data": {
      "text/plain": [
       "2"
      ]
     },
     "execution_count": 265,
     "metadata": {},
     "output_type": "execute_result"
    }
   ],
   "source": [
    "%%capture --no-stderr --no-display bootstrap_stdout\n",
    "bootstrap_results = []\n",
    "bootstrap_n = 2\n",
    "for i in tqdm(range(bootstrap_n)):\n",
    "    weighted_f2_score, class_f2_scores, weighted_f2_score_default, class_f2_scores_default, roc_auc, max_per_class_thresholds, _ = \\\n",
    "        train_model(annotated_df, None, f\"bootstrap run {i}\")\n",
    "    bootstrap_results.append((weighted_f2_score, class_f2_scores, weighted_f2_score_default, class_f2_scores_default, roc_auc, max_per_class_thresholds))\n",
    "len(bootstrap_results)"
   ]
  },
  {
   "cell_type": "code",
   "execution_count": 94,
   "metadata": {},
   "outputs": [
    {
     "data": {
      "text/plain": [
       "(0.9453927057726169, 0.017427197471497197)"
      ]
     },
     "execution_count": 94,
     "metadata": {},
     "output_type": "execute_result"
    }
   ],
   "source": [
    "bootstrap_f2_scores = np.array([tup[0] for tup in bootstrap_results])\n",
    "np.mean(bootstrap_f2_scores), np.std(bootstrap_f2_scores)"
   ]
  },
  {
   "cell_type": "code",
   "execution_count": 117,
   "metadata": {},
   "outputs": [
    {
     "data": {
      "image/png": "[encoded data removed]",
      "text/plain": [
       "<Figure size 432x288 with 1 Axes>"
      ]
     },
     "metadata": {},
     "output_type": "display_data"
    }
   ],
   "source": [
    "roc_auc_scores = np.array([tup[4] for tup in bootstrap_results])\n",
    "plt.hist(roc_auc_scores, bins=20, alpha=0.2, label='ROC AUC', color='orange')\n",
    "plt.hist(bootstrap_f2_scores, bins=20, alpha=0.9, label='Weighted F2', color='darkblue')\n",
    "plt.axvline(np.mean(bootstrap_f2_scores), linestyle='--', color='gray', label='mean')\n",
    "plt.title(f\"F2 scores from {len(bootstrap_f2_scores)} 80/20 validation splits\")\n",
    "plt.xlabel(\"Scores\")\n",
    "plt.ylabel(\"Count\")\n",
    "plt.legend()\n",
    "plt.show()"
   ]
  },
  {
   "cell_type": "markdown",
   "metadata": {},
   "source": [
    "### 50 20-fold CV code"
   ]
  },
  {
   "cell_type": "code",
   "execution_count": 17,
   "metadata": {},
   "outputs": [
    {
     "name": "stderr",
     "output_type": "stream",
     "text": [
      "  0%|          | 0/50 [00:00<?, ?it/s]/panfs/roc/groups/3/srivbane/levon003/anaconda3/lib/python3.6/site-packages/sklearn/metrics/classification.py:1135: UndefinedMetricWarning: F-score is ill-defined and being set to 0.0 in labels with no predicted samples.\n",
      "  'precision', 'predicted', average, warn_for)\n",
      "100%|██████████| 50/50 [11:21:32<00:00, 817.85s/it]  \n"
     ]
    },
    {
     "data": {
      "text/plain": [
       "50"
      ]
     },
     "execution_count": 17,
     "metadata": {},
     "output_type": "execute_result"
    }
   ],
   "source": [
    "%%capture --no-stderr --no-display kfold_stdout\n",
    "# Runs n instances of k-fold cross-validation\n",
    "# Expected time when n = 50 and k = 20 is ~8 hours\n",
    "n_results = []\n",
    "n = 50\n",
    "k = 20\n",
    "for i in tqdm(range(n)):\n",
    "    annotated_sites = np.array(list(set(annotated_df.site_id)))\n",
    "    kf = sklearn.model_selection.KFold(n_splits=k)\n",
    "    kfold_results = []\n",
    "    index = 0\n",
    "    for train_indices, val_indices in kf.split(annotated_sites):\n",
    "        validation_site_ids = list(annotated_sites[val_indices])\n",
    "        weighted_f2_score, weighted_precision_score, weighted_recall_score, class_f2_scores, class_precision_scores, class_recall_scores = \\\n",
    "            train_model(annotated_df, validation_site_ids, f\"{i} {k}-fold validation model {index}\")\n",
    "        kfold_results.append((weighted_f2_score, weighted_precision_score, weighted_recall_score, class_f2_scores, class_precision_scores, class_recall_scores))\n",
    "        index += 1\n",
    "    n_results.append(kfold_results)\n",
    "len(n_results)"
   ]
  },
  {
   "cell_type": "code",
   "execution_count": 18,
   "metadata": {},
   "outputs": [
    {
     "name": "stdout",
     "output_type": "stream",
     "text": [
      "Saved scores.\n"
     ]
    }
   ],
   "source": [
    "n_scores = np.zeros((n*k, 3 + 3*len(phase_labels)))\n",
    "index = 0\n",
    "for kfold_results in n_results:\n",
    "    for tup in kfold_results:\n",
    "        weighted_f2_score, weighted_precision_score, weighted_recall_score, class_f2_scores, class_precision_scores, class_recall_scores = tup\n",
    "        n_scores[index, 0] = weighted_precision_score\n",
    "        n_scores[index, 1] = weighted_recall_score\n",
    "        n_scores[index, 2] = weighted_f2_score\n",
    "        n_scores[index, 3:7] = class_precision_scores\n",
    "        n_scores[index, 7:11] = class_recall_scores\n",
    "        n_scores[index, 11:15] = class_f2_scores\n",
    "        index += 1\n",
    "n_scores_filepath = os.path.join(working_dir, \"n_scores_notime.npy\")\n",
    "np.save(n_scores_filepath, n_scores)\n",
    "print(\"Saved scores.\")"
   ]
  },
  {
   "cell_type": "code",
   "execution_count": 19,
   "metadata": {},
   "outputs": [
    {
     "name": "stdout",
     "output_type": "stream",
     "text": [
      "Phase                 Pre   Rec   F2  \n",
      "========================================\n",
      "pretreatment          0.92  0.95  0.94\n",
      "treatment             0.96  0.99  0.98\n",
      "end_of_life           0.56  0.96  0.80\n",
      "cured                 0.86  0.86  0.86\n",
      "Mean                  0.94  0.97  0.96\n"
     ]
    }
   ],
   "source": [
    "# Compute the precision, recall, and F2 score as will be reported in the paper\n",
    "\n",
    "# cv_mean_scores is the same as n_scores but each of the CV runs is meaned to a single row\n",
    "# this isn't necessary if we just end up taking the column-wise average, since all groups are the same size.\n",
    "# it could be necessary in the future if we drop some class scores that aren't valid...\n",
    "cv_mean_scores = np.zeros((n, 3 + 3*len(phase_labels)))\n",
    "for j in range(n):\n",
    "    kfold_scores = n_scores[j*k:j*k+k, :]\n",
    "    cv_mean_scores[j,:] = np.mean(kfold_scores, axis=0)\n",
    "\n",
    "print(f\"{'Phase':20}  Pre   Rec   F2  \")\n",
    "print(\"=\"*40)\n",
    "for i, phase_label in enumerate(phase_labels):\n",
    "    class_precision = np.mean(cv_mean_scores[:,3+i])\n",
    "    class_recall = np.mean(cv_mean_scores[:,7+i])\n",
    "    class_f2 = np.mean(cv_mean_scores[:,11+i])\n",
    "    print(f\"{phase_label:20}  {class_precision:.2f}  {class_recall:.2f}  {class_f2:.2f}\")\n",
    "print(f\"{'Mean':20}  {np.mean(cv_mean_scores[:,0]):.2f}  {np.mean(cv_mean_scores[:,1]):.2f}  {np.mean(cv_mean_scores[:,2]):.2f}\")"
   ]
  },
  {
   "cell_type": "code",
   "execution_count": 49,
   "metadata": {},
   "outputs": [
    {
     "name": "stdout",
     "output_type": "stream",
     "text": [
      "Phase  Pre   Rec   F2  \n",
      "========================================\n",
      "PT   & 0.91 & 0.95 & 0.94 \\\\\n",
      "T    & 0.96 & 0.99 & 0.98 \\\\\n",
      "EOL  & 0.55 & 0.96 & 0.80 \\\\\n",
      "NED  & 0.86 & 0.86 & 0.86 \\\\\n",
      "Mean & 0.94 & 0.97 & 0.96 \\\\\n"
     ]
    }
   ],
   "source": [
    "print(f\"{'Phase':4}  Pre   Rec   F2  \")\n",
    "print(\"=\"*40)\n",
    "for i, phase_label in enumerate(phase_labels):\n",
    "    phase_code = phase_code_map[phase_label]\n",
    "    class_precision = np.mean(cv_mean_scores[:,3+i])\n",
    "    class_recall = np.mean(cv_mean_scores[:,7+i])\n",
    "    class_f2 = np.mean(cv_mean_scores[:,11+i])\n",
    "    print(f\"{phase_code:4} & {class_precision:.2f} & {class_recall:.2f} & {class_f2:.2f} \\\\\\\\\")\n",
    "print(f\"{'Mean':4} & {np.mean(cv_mean_scores[:,0]):.2f} & {np.mean(cv_mean_scores[:,1]):.2f} & {np.mean(cv_mean_scores[:,2]):.2f} \\\\\\\\\")"
   ]
  },
  {
   "cell_type": "code",
   "execution_count": 20,
   "metadata": {},
   "outputs": [
    {
     "data": {
      "image/png": "[encoded data removed]",
      "text/plain": [
       "<Figure size 432x288 with 1 Axes>"
      ]
     },
     "metadata": {},
     "output_type": "display_data"
    }
   ],
   "source": [
    "f2_scores_list = []\n",
    "colors = []\n",
    "labels = []\n",
    "for i, phase_label in enumerate(phase_labels):\n",
    "    f2_scores = []\n",
    "    for j in range(n):\n",
    "        kfold_scores = n_scores[j*k:j*k+k, 11+i]\n",
    "        f2_scores.append(np.mean(kfold_scores))\n",
    "    f2_scores_list.append(f2_scores)\n",
    "    colors.append(plt.get_cmap('viridis')(0.2 + i*0.2))\n",
    "    labels.append(f'{phase_label} Mean ({np.mean(f2_scores):0.2f})')\n",
    "#plt.hist(f2_scores_list, bins=10, alpha=1, color=colors, range=(0.8, 1))\n",
    "for i in [1, 0, 3, 2]:  # Manually define a draw ordering to minimize overlap\n",
    "    plt.hist(f2_scores_list[i], bins=30, alpha=0.5, color=colors[i], range=(0.75, 1), edgecolor='black')\n",
    "for i in range(len(phase_labels)):\n",
    "    plt.axvline(np.mean(f2_scores_list[i]), linestyle='--', color=colors[i], label=labels[i])\n",
    "weighted_global_mean = np.mean(n_scores[:,2])\n",
    "plt.axvline(weighted_global_mean, linestyle='--', color='black', label=f'Weighted Mean ({weighted_global_mean:.2f})')\n",
    "plt.title(f\"Phase classification F2 scores from {n} {k}-fold CV splits\")\n",
    "plt.xlabel(\"F2 Score\")\n",
    "plt.ylabel(\"Count\")\n",
    "plt.legend()\n",
    "phase_figure_filepath = os.path.join(working_dir, f\"phase_cv_results_{k}fold_{n}.pdf\")\n",
    "plt.savefig(phase_figure_filepath, dpi=200)\n",
    "plt.show()"
   ]
  },
  {
   "cell_type": "code",
   "execution_count": null,
   "metadata": {},
   "outputs": [],
   "source": []
  },
  {
   "cell_type": "markdown",
   "metadata": {},
   "source": [
    "#### Ablation: t-test for uncertainty costs vs no cost adjustment"
   ]
  },
  {
   "cell_type": "code",
   "execution_count": 51,
   "metadata": {},
   "outputs": [
    {
     "data": {
      "text/plain": [
       "(0.9605387383270154, 0.9617621407651639)"
      ]
     },
     "execution_count": 51,
     "metadata": {},
     "output_type": "execute_result"
    }
   ],
   "source": [
    "n_scores_filepath = os.path.join(working_dir, \"n_scores.npy\")\n",
    "n_scores = np.load(n_scores_filepath)\n",
    "cost_cv_mean_scores = np.zeros((n, 3 + 3*len(phase_labels)))\n",
    "for j in range(n):\n",
    "    kfold_scores = n_scores[j*k:j*k+k, :]\n",
    "    cost_cv_mean_scores[j,:] = np.mean(kfold_scores, axis=0)\n",
    "    \n",
    "n_scores_filepath = os.path.join(working_dir, \"n_scores_nocost.npy\")\n",
    "n_scores = np.load(n_scores_filepath)\n",
    "nocost_cv_mean_scores = np.zeros((n, 3 + 3*len(phase_labels)))\n",
    "for j in range(n):\n",
    "    kfold_scores = n_scores[j*k:j*k+k, :]\n",
    "    nocost_cv_mean_scores[j,:] = np.mean(kfold_scores, axis=0)\n",
    "\n",
    "cost_f2_scores = cost_cv_mean_scores[:,2]\n",
    "nocost_f2_scores = nocost_cv_mean_scores[:,2]\n",
    "np.mean(cost_f2_scores), np.mean(nocost_f2_scores)"
   ]
  },
  {
   "cell_type": "code",
   "execution_count": 55,
   "metadata": {},
   "outputs": [
    {
     "data": {
      "text/plain": [
       "Ttest_indResult(statistic=1.4809134962575408, pvalue=0.14207778298012375)"
      ]
     },
     "execution_count": 55,
     "metadata": {},
     "output_type": "execute_result"
    }
   ],
   "source": [
    "scipy.stats.ttest_ind(nocost_f2_scores, cost_f2_scores, equal_var=False)"
   ]
  },
  {
   "cell_type": "markdown",
   "metadata": {},
   "source": [
    "#### Ablation: t-test for time features vs no time features"
   ]
  },
  {
   "cell_type": "code",
   "execution_count": 21,
   "metadata": {},
   "outputs": [
    {
     "data": {
      "text/plain": [
       "(0.9605387383270154, 0.9609781960480059)"
      ]
     },
     "execution_count": 21,
     "metadata": {},
     "output_type": "execute_result"
    }
   ],
   "source": [
    "n_scores_filepath = os.path.join(working_dir, \"n_scores.npy\")\n",
    "n_scores = np.load(n_scores_filepath)\n",
    "time_cv_mean_scores = np.zeros((n, 3 + 3*len(phase_labels)))\n",
    "for j in range(n):\n",
    "    kfold_scores = n_scores[j*k:j*k+k, :]\n",
    "    time_cv_mean_scores[j,:] = np.mean(kfold_scores, axis=0)\n",
    "    \n",
    "n_scores_filepath = os.path.join(working_dir, \"n_scores_notime.npy\")\n",
    "n_scores = np.load(n_scores_filepath)\n",
    "notime_cv_mean_scores = np.zeros((n, 3 + 3*len(phase_labels)))\n",
    "for j in range(n):\n",
    "    kfold_scores = n_scores[j*k:j*k+k, :]\n",
    "    notime_cv_mean_scores[j,:] = np.mean(kfold_scores, axis=0)\n",
    "\n",
    "time_f2_scores = time_cv_mean_scores[:,2]\n",
    "notime_f2_scores = notime_cv_mean_scores[:,2]\n",
    "np.mean(time_f2_scores), np.mean(notime_f2_scores)"
   ]
  },
  {
   "cell_type": "code",
   "execution_count": 24,
   "metadata": {},
   "outputs": [
    {
     "data": {
      "text/plain": [
       "Ttest_indResult(statistic=0.5882797657185598, pvalue=0.5577148126258756)"
      ]
     },
     "execution_count": 24,
     "metadata": {},
     "output_type": "execute_result"
    }
   ],
   "source": [
    "scipy.stats.ttest_ind(notime_f2_scores, time_f2_scores, equal_var=False)"
   ]
  },
  {
   "cell_type": "markdown",
   "metadata": {},
   "source": [
    "#### Visualizations that used an older format of the n_scores matrix:"
   ]
  },
  {
   "cell_type": "code",
   "execution_count": 274,
   "metadata": {},
   "outputs": [
    {
     "name": "stdout",
     "output_type": "stream",
     "text": [
      "Saved scores.\n"
     ]
    }
   ],
   "source": [
    "#n_results = [[(0.8, np.array([1, 2, 3, 4]), 0.9, \"\") for i in range(k)] for j in range(n)]\n",
    "n_scores = np.zeros((n*k, 2 + len(phase_labels) + 1 + len(phase_labels) ))\n",
    "index = 0\n",
    "for kfold_results in n_results:\n",
    "    for tup in kfold_results:\n",
    "        weighted_f2_score, class_f2_scores, roc_auc, weighted_f2_score_default, class_f2_scores_default, max_per_class_thresholds = tup\n",
    "        n_scores[index, 0] = weighted_f2_score\n",
    "        n_scores[index, 1] = roc_auc\n",
    "        n_scores[index, 2:6] = class_f2_scores\n",
    "        n_scores[index, 6] = weighted_f2_score_default\n",
    "        n_scores[index, 7:11] = class_f2_scores_default\n",
    "        index += 1\n",
    "n_scores_filepath = os.path.join(working_dir, \"n_scores.npy\")\n",
    "np.save(n_scores_filepath, n_scores)\n",
    "print(\"Saved scores.\")"
   ]
  },
  {
   "cell_type": "code",
   "execution_count": 275,
   "metadata": {},
   "outputs": [
    {
     "data": {
      "image/png": "[encoded data removed]",
      "text/plain": [
       "<Figure size 432x288 with 1 Axes>"
      ]
     },
     "metadata": {},
     "output_type": "display_data"
    }
   ],
   "source": [
    "f2_scores = n_scores[:,0]\n",
    "plt.hist(f2_scores, bins=20, alpha=0.9, label='Weighted F2', color='darkblue')\n",
    "plt.axvline(np.mean(f2_scores), linestyle='--', color='gray', label='mean')\n",
    "plt.title(f\"F2 scores from {n} {k}-fold CV splits\")\n",
    "plt.xlabel(\"Scores\")\n",
    "plt.ylabel(\"Count\")\n",
    "plt.legend()\n",
    "plt.show()"
   ]
  },
  {
   "cell_type": "code",
   "execution_count": 289,
   "metadata": {},
   "outputs": [
    {
     "data": {
      "image/png": "[encoded data removed]",
      "text/plain": [
       "<Figure size 432x288 with 1 Axes>"
      ]
     },
     "metadata": {},
     "output_type": "display_data"
    }
   ],
   "source": [
    "f2_scores = n_scores[:,0]\n",
    "f2_scores_default = n_scores[:,6]\n",
    "plt.hist([f2_scores, f2_scores_default], bins=20, alpha=0.9, \n",
    "         label=['Per-class', 'Default (0.5)'], \n",
    "         color=[plt.get_cmap('viridis')(0.4), plt.get_cmap('viridis')(0.8)])\n",
    "plt.axvline(np.mean(f2_scores), linestyle='--', color='gray', label='Per-class mean')\n",
    "plt.axvline(np.mean(f2_scores_default), linestyle='--', color='black', label='Default mean')\n",
    "plt.title(f\"F2 scores from {n} {k}-fold CV splits\")\n",
    "plt.xlabel(\"Scores\")\n",
    "plt.ylabel(\"Count\")\n",
    "plt.legend()\n",
    "plt.show()"
   ]
  },
  {
   "cell_type": "code",
   "execution_count": 276,
   "metadata": {},
   "outputs": [
    {
     "data": {
      "image/png": "[encoded data removed]",
      "text/plain": [
       "<Figure size 432x288 with 1 Axes>"
      ]
     },
     "metadata": {},
     "output_type": "display_data"
    }
   ],
   "source": [
    "f2_scores = n_scores[:,0]\n",
    "for i in range(n):\n",
    "    kfold_scores = n_scores[i*k:i*k+k, 0]\n",
    "    assert len(kfold_scores) == k\n",
    "    plt.hist(kfold_scores, bins=20, alpha=0.2, color=plt.get_cmap('viridis')(0.4), range=(0.9, 1))\n",
    "    plt.axvline(np.mean(kfold_scores), linestyle='-', color='black', alpha=0.1)\n",
    "plt.axvline(np.mean(f2_scores), linestyle='--', color='black', label='Global Mean')\n",
    "plt.title(f\"F2 scores from {n} {k}-fold CV splits\")\n",
    "plt.xlabel(\"Scores\")\n",
    "plt.ylabel(\"Count\")\n",
    "plt.legend()\n",
    "plt.show()"
   ]
  },
  {
   "cell_type": "code",
   "execution_count": 287,
   "metadata": {},
   "outputs": [
    {
     "data": {
      "image/png": "[encoded data removed]",
      "text/plain": [
       "<Figure size 864x288 with 2 Axes>"
      ]
     },
     "metadata": {},
     "output_type": "display_data"
    }
   ],
   "source": [
    "fig, axs = plt.subplots(1, 2, figsize=(12, 4))\n",
    "\n",
    "fig.suptitle(f\"F2 scores from {n} {k}-fold CV splits\")\n",
    "\n",
    "plt.sca(axs[0])\n",
    "f2_scores = n_scores[:,0]\n",
    "for i in range(n):\n",
    "    kfold_scores = n_scores[i*k:i*k+k, 0]\n",
    "    assert len(kfold_scores) == k\n",
    "    plt.hist(kfold_scores, bins=20, alpha=0.2, color=plt.get_cmap('viridis')(0.4), range=(0.9, 1))\n",
    "    plt.axvline(np.mean(kfold_scores), linestyle='-', color='black', alpha=0.1)\n",
    "plt.axvline(np.mean(f2_scores), linestyle='--', color='black', label=f'Global Mean ({np.mean(f2_scores):.2f})')\n",
    "#plt.title(f\"F2 scores from {n} {k}-fold CV splits\")\n",
    "plt.xlabel(\"Weighted F2 Scores (per-class threshold)\")\n",
    "plt.ylabel(\"Count\")\n",
    "plt.legend()\n",
    "\n",
    "plt.sca(axs[1])\n",
    "f2_scores = n_scores[:,6]\n",
    "for i in range(n):\n",
    "    kfold_scores = n_scores[i*k:i*k+k, 6]\n",
    "    assert len(kfold_scores) == k\n",
    "    plt.hist(kfold_scores, bins=20, alpha=0.2, color=plt.get_cmap('viridis')(0.8), range=(0.9, 1))\n",
    "    plt.axvline(np.mean(kfold_scores), linestyle='-', color='black', alpha=0.1)\n",
    "plt.axvline(np.mean(f2_scores), linestyle='--', color='black', label=f'Global Mean ({np.mean(f2_scores):.2f})')\n",
    "plt.xlabel(\"Weighted F2 Scores (default threshold)\")\n",
    "plt.ylabel(\"Count\")\n",
    "plt.legend()\n",
    "\n",
    "plt.show()"
   ]
  },
  {
   "cell_type": "code",
   "execution_count": 280,
   "metadata": {},
   "outputs": [
    {
     "data": {
      "image/png": "[encoded data removed]",
      "text/plain": [
       "<Figure size 432x288 with 1 Axes>"
      ]
     },
     "metadata": {},
     "output_type": "display_data"
    }
   ],
   "source": [
    "f2_scores_list = []\n",
    "colors = []\n",
    "labels = []\n",
    "for i, phase_label in enumerate(phase_labels):\n",
    "    f2_scores = []\n",
    "    for j in range(n):\n",
    "        kfold_scores = n_scores[j*k:j*k+k, 2+i]\n",
    "        f2_scores.append(np.mean(kfold_scores))\n",
    "    f2_scores_list.append(f2_scores)\n",
    "    colors.append(plt.get_cmap('viridis')(0.2 + i*0.2))\n",
    "    labels.append(f'{phase_label} Mean ({np.mean(f2_scores):0.2f})')\n",
    "#plt.hist(f2_scores_list, bins=10, alpha=1, color=colors, range=(0.8, 1))\n",
    "for i in [1, 0, 3, 2]:  # Manually define a draw ordering to minimize overlap\n",
    "    plt.hist(f2_scores_list[i], bins=30, alpha=0.5, color=colors[i], range=(0.825, 1), edgecolor='black')\n",
    "for i in range(len(phase_labels)):\n",
    "    plt.axvline(np.mean(f2_scores_list[i]), linestyle='--', color=colors[i], label=labels[i])\n",
    "plt.axvline(np.mean(n_scores[:,0]), linestyle='--', color='black', label=f'Weighted Mean ({np.mean(n_scores[:,0]):.2f})')\n",
    "plt.title(f\"Phase classification F2 scores from {n} {k}-fold CV splits\")\n",
    "plt.xlabel(\"F2 Score\")\n",
    "plt.ylabel(\"Count\")\n",
    "plt.legend()\n",
    "phase_figure_filepath = os.path.join(working_dir, f\"phase_cv_results_{k}fold_{n}.pdf\")\n",
    "plt.savefig(phase_figure_filepath, dpi=200)\n",
    "plt.show()"
   ]
  },
  {
   "cell_type": "code",
   "execution_count": 317,
   "metadata": {},
   "outputs": [
    {
     "data": {
      "image/png": "[encoded data removed]",
      "text/plain": [
       "<Figure size 864x288 with 2 Axes>"
      ]
     },
     "metadata": {},
     "output_type": "display_data"
    }
   ],
   "source": [
    "\n",
    "fig, axs = plt.subplots(1, 2, figsize=(12, 4))\n",
    "\n",
    "fig.suptitle(f\"Phase classification F2 scores from {n} {k}-fold CV splits\")\n",
    "\n",
    "plt.sca(axs[0])\n",
    "f2_scores_list = []\n",
    "colors = []\n",
    "labels = []\n",
    "for i, phase_label in enumerate(phase_labels):\n",
    "    f2_scores = []\n",
    "    for j in range(n):\n",
    "        kfold_scores = n_scores[j*k:j*k+k, 2+i]\n",
    "        f2_scores.append(np.mean(kfold_scores))\n",
    "    f2_scores_list.append(f2_scores)\n",
    "    colors.append(plt.get_cmap('viridis')(0.2 + i*0.2))\n",
    "    labels.append(f'{phase_label} Mean ({np.mean(f2_scores):0.2f})')\n",
    "#plt.hist(f2_scores_list, bins=10, alpha=1, color=colors, range=(0.8, 1))\n",
    "for i in [1, 0, 3, 2]:  # Manually define a draw ordering to minimize overlap\n",
    "    plt.hist(f2_scores_list[i], bins=30, alpha=0.5, color=colors[i], range=(0.825, 1), edgecolor='black')\n",
    "for i in range(len(phase_labels)):\n",
    "    plt.axvline(np.mean(f2_scores_list[i]), linestyle='--', color=colors[i], label=labels[i])\n",
    "plt.axvline(np.mean(n_scores[:,0]), linestyle='--', color='black', label=f'Weighted Mean ({np.mean(n_scores[:,0]):.2f})')\n",
    "plt.xlabel(\"F2 Score (per-class threshold)\")\n",
    "plt.ylabel(\"Count\")\n",
    "plt.legend()\n",
    "\n",
    "plt.sca(axs[1])\n",
    "f2_scores_list = []\n",
    "colors = []\n",
    "labels = []\n",
    "for i, phase_label in enumerate(phase_labels):\n",
    "    f2_scores = []\n",
    "    for j in range(n):\n",
    "        kfold_scores = n_scores[j*k:j*k+k, 7+i]\n",
    "        f2_scores.append(np.mean(kfold_scores))\n",
    "    f2_scores_list.append(f2_scores)\n",
    "    colors.append(plt.get_cmap('viridis')(0.2 + i*0.2))\n",
    "    labels.append(f'{phase_label} Mean ({np.mean(f2_scores):0.2f})')\n",
    "for i in [1, 0, 3, 2]:  # Manually define a draw ordering to minimize overlap\n",
    "    plt.hist(f2_scores_list[i], bins=30, alpha=0.5, color=colors[i], range=(0.7, 1), edgecolor='black')\n",
    "for i in range(len(phase_labels)):\n",
    "    plt.axvline(np.mean(f2_scores_list[i]), linestyle='--', color=colors[i], label=labels[i])\n",
    "plt.axvline(np.mean(n_scores[:,0]), linestyle='--', color='black', label=f'Weighted Mean ({np.mean(n_scores[:,0]):.2f})')\n",
    "plt.xlabel(\"F2 Score (default threshold)\")\n",
    "plt.ylabel(\"Count\")\n",
    "plt.legend()\n",
    "\n",
    "plt.show()"
   ]
  },
  {
   "cell_type": "code",
   "execution_count": 313,
   "metadata": {},
   "outputs": [
    {
     "name": "stdout",
     "output_type": "stream",
     "text": [
      "For each CV, the mean threshold and the variation among thresholds.\n",
      "[0.45 0.33 0.61 0.48] [0.2  0.23 0.14 0.19]\n",
      "[0.43 0.36 0.67 0.55] [0.21 0.21 0.13 0.2 ]\n",
      "[0.43 0.35 0.62 0.45] [0.21 0.24 0.1  0.16]\n",
      "[0.46 0.31 0.66 0.39] [0.19 0.19 0.12 0.19]\n",
      "[0.52 0.32 0.59 0.49] [0.21 0.25 0.14 0.18]\n",
      "[0.5  0.32 0.62 0.48] [0.17 0.22 0.12 0.17]\n",
      "[0.45 0.41 0.64 0.45] [0.19 0.21 0.17 0.19]\n",
      "[0.43 0.35 0.62 0.47] [0.19 0.21 0.14 0.14]\n",
      "[0.48 0.34 0.63 0.43] [0.2  0.2  0.15 0.18]\n",
      "[0.49 0.24 0.65 0.49] [0.2  0.22 0.11 0.17]\n",
      "[0.41 0.29 0.64 0.44] [0.18 0.2  0.16 0.21]\n",
      "[0.44 0.34 0.62 0.43] [0.22 0.25 0.16 0.19]\n",
      "[0.43 0.31 0.62 0.45] [0.18 0.21 0.15 0.2 ]\n",
      "[0.49 0.31 0.64 0.45] [0.18 0.23 0.16 0.19]\n",
      "[0.46 0.44 0.65 0.48] [0.2  0.25 0.14 0.16]\n",
      "[0.49 0.38 0.62 0.47] [0.2  0.2  0.15 0.13]\n",
      "[0.48 0.35 0.64 0.48] [0.22 0.24 0.15 0.19]\n",
      "[0.44 0.43 0.63 0.51] [0.19 0.25 0.11 0.19]\n",
      "[0.43 0.33 0.62 0.45] [0.22 0.23 0.13 0.19]\n",
      "[0.43 0.41 0.64 0.44] [0.21 0.22 0.14 0.16]\n",
      "[0.44 0.33 0.6  0.49] [0.21 0.23 0.13 0.17]\n",
      "[0.39 0.37 0.64 0.48] [0.24 0.2  0.14 0.17]\n",
      "[0.5  0.38 0.64 0.48] [0.22 0.22 0.09 0.22]\n",
      "[0.43 0.39 0.63 0.45] [0.2  0.24 0.12 0.2 ]\n",
      "[0.49 0.36 0.6  0.48] [0.22 0.22 0.14 0.17]\n",
      "[0.46 0.41 0.62 0.49] [0.21 0.22 0.14 0.16]\n",
      "[0.45 0.31 0.64 0.47] [0.18 0.16 0.12 0.16]\n",
      "[0.5  0.38 0.6  0.42] [0.2  0.23 0.13 0.18]\n",
      "[0.44 0.34 0.61 0.43] [0.2  0.21 0.14 0.18]\n",
      "[0.42 0.32 0.68 0.46] [0.19 0.23 0.11 0.19]\n",
      "[0.48 0.25 0.65 0.42] [0.18 0.17 0.11 0.19]\n",
      "[0.44 0.37 0.64 0.45] [0.2  0.21 0.16 0.21]\n",
      "[0.51 0.4  0.64 0.46] [0.23 0.21 0.14 0.21]\n",
      "[0.45 0.35 0.61 0.46] [0.21 0.24 0.12 0.17]\n",
      "[0.46 0.37 0.62 0.52] [0.23 0.24 0.13 0.19]\n",
      "[0.47 0.38 0.65 0.49] [0.23 0.19 0.14 0.17]\n",
      "[0.49 0.36 0.64 0.44] [0.22 0.24 0.11 0.19]\n",
      "[0.47 0.42 0.63 0.52] [0.19 0.23 0.13 0.17]\n",
      "[0.5  0.31 0.64 0.49] [0.2  0.2  0.12 0.17]\n",
      "[0.48 0.35 0.63 0.46] [0.19 0.24 0.14 0.18]\n",
      "[0.46 0.39 0.62 0.52] [0.19 0.25 0.13 0.17]\n",
      "[0.42 0.25 0.65 0.45] [0.21 0.2  0.15 0.17]\n",
      "[0.44 0.39 0.64 0.47] [0.22 0.25 0.15 0.21]\n",
      "[0.44 0.3  0.67 0.43] [0.19 0.2  0.12 0.18]\n",
      "[0.5  0.38 0.63 0.44] [0.22 0.23 0.16 0.19]\n",
      "[0.45 0.39 0.64 0.5 ] [0.21 0.22 0.09 0.18]\n",
      "[0.44 0.29 0.62 0.47] [0.21 0.21 0.11 0.19]\n",
      "[0.49 0.35 0.64 0.44] [0.2  0.21 0.15 0.2 ]\n",
      "[0.49 0.39 0.62 0.45] [0.21 0.23 0.15 0.19]\n",
      "[0.44 0.39 0.59 0.47] [0.19 0.2  0.14 0.2 ]\n"
     ]
    },
    {
     "data": {
      "image/png": "[encoded data removed]",
      "text/plain": [
       "<Figure size 432x288 with 1 Axes>"
      ]
     },
     "metadata": {},
     "output_type": "display_data"
    },
    {
     "name": "stdout",
     "output_type": "stream",
     "text": [
      "Global means and standard deviations:\n",
      "pretreatment         0.46   0.20\n",
      "treatment            0.35   0.22\n",
      "end_of_life          0.63   0.13\n",
      "cured                0.47   0.18\n"
     ]
    }
   ],
   "source": [
    "# what about the spread in the per-class thresholds?\n",
    "print(\"For each CV, the mean threshold and the variation among thresholds.\")\n",
    "cv_mean_thresholds = np.zeros((n, n_classes))\n",
    "cv_std_thresholds = np.zeros((n, n_classes))\n",
    "for j, kfold_results in enumerate(n_results):\n",
    "    kfold_thresholds = np.zeros((len(kfold_results), n_classes))\n",
    "    for i, tup in enumerate(kfold_results):\n",
    "        weighted_f2_score, class_f2_scores, roc_auc, weighted_f2_score_default, class_f2_scores_default, max_per_class_thresholds = tup\n",
    "        kfold_thresholds[i,:] = max_per_class_thresholds\n",
    "    print(f\"{np.round(kfold_thresholds.mean(axis=0), 2)} {np.round(kfold_thresholds.std(axis=0), 2)}\")\n",
    "    mean_thresholds = kfold_thresholds.mean(axis=0)\n",
    "    cv_mean_thresholds[j,:] = mean_thresholds\n",
    "    cv_std_thresholds[j,:] = kfold_thresholds.std(axis=0)\n",
    "        \n",
    "# k-Fold analysis of thresholds\n",
    "plt.boxplot(cv_mean_thresholds, labels=phase_labels, showmeans=True)\n",
    "plt.title(\"Variation of the identified optimal threshold for each class\")\n",
    "plt.show()\n",
    "\n",
    "print(\"Global means and standard deviations:\")\n",
    "for lab, m, sd in zip(phase_labels, cv_mean_thresholds.mean(axis=0), cv_std_thresholds.mean(axis=0)):\n",
    "    print(f\"{lab:20} {m:.2f}   {sd:.2f}\")"
   ]
  },
  {
   "cell_type": "markdown",
   "metadata": {},
   "source": [
    "## Predict on the test data\n",
    "\n",
    "With a model trained on all of the training data."
   ]
  },
  {
   "cell_type": "code",
   "execution_count": 43,
   "metadata": {},
   "outputs": [
    {
     "name": "stdout",
     "output_type": "stream",
     "text": [
      "Choosing 40/200 sites for validation.\n",
      "Wrote 6921 lines (5310 train, 1611 validation) to '/home/srivbane/shared/caringbridge/data/projects/qual-health-journeys/classification/phases/vw/phase_csoaa_full.train'.\n",
      "Wrote 151188 lines to '/home/srivbane/shared/caringbridge/data/projects/qual-health-journeys/classification/phases/vw/phase_csoaa_full.test.'\n",
      "Holding out after 5310 training lines.\n",
      "Model trained.\n",
      "Training predictions generated.\n",
      "Testing predictions generated.\n"
     ]
    }
   ],
   "source": [
    "# Select validation sites to set the thresholds\n",
    "validation_pct = 0.2\n",
    "annotated_df = full_df[full_df.is_annotated]\n",
    "annotated_sites = set(annotated_df.site_id)\n",
    "validation_site_count = int(len(annotated_sites) * validation_pct)\n",
    "print(f\"Choosing {validation_site_count}/{len(annotated_sites)} sites for validation.\")\n",
    "validation_site_ids = random.sample(annotated_sites, validation_site_count)\n",
    "\n",
    "# Format the training file\n",
    "vw_train_filepath, vw_test_filepath, holdout_after = \\\n",
    "format_phase_df_as_multiclass(full_df, working_dir, \n",
    "                              validation_site_ids=validation_site_ids,\n",
    "                              identifier='full',\n",
    "                              include_unannotated=True)\n",
    "print(f\"Holding out after {holdout_after} training lines.\")\n",
    "\n",
    "# Train the model\n",
    "vw_model_file=os.path.join(working_dir, \"phase_csoaa_full.model\")\n",
    "num_classes = len(phase_labels)\n",
    "train_file_command = f\"vw -k -c -b 28 --csoaa {num_classes} -d {vw_train_filepath} -f {vw_model_file} --passes 20 --holdout_after {holdout_after} --named_labels {phase_named_labels} --ngram 2 --skips 1\"\n",
    "proc = subprocess.run(train_file_command, shell=True, check=True, stdout=subprocess.PIPE, stderr=subprocess.DEVNULL)\n",
    "print(\"Model trained.\")\n",
    "\n",
    "# Predict on the labeled data\n",
    "train_pred_file =  os.path.join(working_dir, \"phase_csoaa_full_train.pred\")\n",
    "train_raw_pred_file = os.path.join(working_dir, \"phase_csoaa_full_train.pred.raw\")\n",
    "predict_train_command = f\"vw -t -i {vw_model_file} -p {train_pred_file} -d {vw_train_filepath} -r {train_raw_pred_file}\"\n",
    "proc = subprocess.run(predict_train_command, shell=True, check=True, stdout=subprocess.PIPE, stderr=subprocess.DEVNULL)\n",
    "print(\"Training predictions generated.\")\n",
    "\n",
    "# Predict on the unlabeled data\n",
    "test_pred_file =  os.path.join(working_dir, \"phase_csoaa_full_test.pred\")\n",
    "test_raw_pred_file = os.path.join(working_dir, \"phase_csoaa_full_test.pred.raw\")\n",
    "predict_test_command = f\"vw -t -i {vw_model_file} -p {test_pred_file} -d {vw_test_filepath} -r {test_raw_pred_file}\"\n",
    "proc = subprocess.run(predict_test_command, shell=True, check=True, stdout=subprocess.PIPE, stderr=subprocess.DEVNULL)\n",
    "print(\"Testing predictions generated.\")"
   ]
  },
  {
   "cell_type": "code",
   "execution_count": 20,
   "metadata": {},
   "outputs": [],
   "source": [
    "train_pred_file =  os.path.join(working_dir, \"phase_csoaa_full_train.pred\")\n",
    "train_raw_pred_file = os.path.join(working_dir, \"phase_csoaa_full_train.pred.raw\")\n",
    "test_pred_file =  os.path.join(working_dir, \"phase_csoaa_full_test.pred\")\n",
    "test_raw_pred_file = os.path.join(working_dir, \"phase_csoaa_full_test.pred.raw\")"
   ]
  },
  {
   "cell_type": "code",
   "execution_count": 22,
   "metadata": {},
   "outputs": [
    {
     "name": "stdout",
     "output_type": "stream",
     "text": [
      "Predictions merged.\n",
      "Predictions merged and normalized.\n"
     ]
    },
    {
     "data": {
      "text/plain": [
       "(158109, 4)"
      ]
     },
     "execution_count": 22,
     "metadata": {},
     "output_type": "execute_result"
    }
   ],
   "source": [
    "# Merge in the predictions with the true scores\n",
    "train_preds = read_raw_multiclass_phase_preds(train_raw_pred_file)\n",
    "test_preds = read_raw_multiclass_phase_preds(test_raw_pred_file)\n",
    "merged = full_df.merge(pd.concat([train_preds, test_preds]), how=\"left\", validate=\"one_to_one\")\n",
    "merged.reset_index(drop=True, inplace=True)\n",
    "assert len(merged) == len(full_df)\n",
    "print(\"Predictions merged.\")\n",
    "\n",
    "# Verify that predictions for all journals were merged into this dataframe\n",
    "for col in merged.columns:\n",
    "    if col.endswith(\"_pred\"):\n",
    "        na_count = merged[col].isna().sum()\n",
    "        assert na_count == 0, f\"{col} NAs: {na_count}\"\n",
    "\n",
    "# Build y_score matrix (n_samples,n_classes)\n",
    "n_samples = len(merged)\n",
    "n_classes = len(phase_labels)\n",
    "y_score_raw = merged.loc[range(n_samples), [phase_label + \"_pred\" for phase_label in phase_labels]].values\n",
    "y_score = 1 - np.clip(y_score_raw, 0, 1)\n",
    "assert np.isfinite(y_score).all()\n",
    "print(\"Predictions merged and normalized.\")\n",
    "y_score.shape"
   ]
  },
  {
   "cell_type": "code",
   "execution_count": 112,
   "metadata": {},
   "outputs": [
    {
     "name": "stdout",
     "output_type": "stream",
     "text": [
      "Identified 1611 journals in the validation sites.\n",
      "              precision    recall  f1-score   support\n",
      "\n",
      "pretreatment       0.29      0.36      0.32       123\n",
      "   treatment       0.88      0.94      0.91      1386\n",
      " end_of_life       0.17      0.20      0.18        41\n",
      "       cured       0.04      0.06      0.05       101\n",
      "\n",
      " avg / total       0.77      0.82      0.80      1651\n",
      "\n"
     ]
    },
    {
     "name": "stderr",
     "output_type": "stream",
     "text": [
      "/panfs/roc/groups/3/srivbane/levon003/anaconda3/lib/python3.6/site-packages/sklearn/metrics/classification.py:1135: UndefinedMetricWarning: F-score is ill-defined and being set to 0.0 in labels with no predicted samples.\n",
      "  'precision', 'predicted', average, warn_for)\n"
     ]
    },
    {
     "data": {
      "text/plain": [
       "[('pretreatment', 0.30303030303030304, 0.5),\n",
       " ('treatment', 0.020202020202020204, 0.5),\n",
       " ('end_of_life', 0.3434343434343435, 0.5),\n",
       " ('cured', 0.15151515151515152, 0.5)]"
      ]
     },
     "execution_count": 112,
     "metadata": {},
     "output_type": "execute_result"
    }
   ],
   "source": [
    "# From the validation set, compute the threshold that maximizes validation score\n",
    "annotated = merged[merged.site_id.isin(validation_site_ids)]\n",
    "annotated.reset_index(drop=True, inplace=True)\n",
    "print(f\"Identified {len(annotated)} journals in the validation sites.\")\n",
    "\n",
    "# build y_true_val and y_score_val\n",
    "n_samples = len(annotated)\n",
    "n_classes = len(phase_labels)\n",
    "y_train_score_val = annotated.loc[range(n_samples), [phase_label + \"_score\" for phase_label in phase_labels]].values\n",
    "y_true_val = (y_train_score_val > 0.5).astype(int)\n",
    "y_score_raw_val = annotated.loc[range(n_samples), [phase_label + \"_pred\" for phase_label in phase_labels]].values\n",
    "y_score_val = 1 - np.clip(y_score_raw_val, 0, 1)\n",
    "assert np.isfinite(y_true_val).all()\n",
    "assert np.isfinite(y_score_val).all()\n",
    "assert y_score_val.shape == y_true_val.shape\n",
    "# Compute f2 score at various thresholds\n",
    "thresholds = np.linspace(0, 1, num=100)\n",
    "class_f2_score_mat = np.zeros((len(thresholds), n_classes))\n",
    "for i, threshold in enumerate(thresholds):\n",
    "    y_pred_val = (y_score_val > threshold).astype(int)\n",
    "    class_f2_scores = np.array(sklearn.metrics.fbeta_score(y_true_val, y_pred_val, 2, average=None))\n",
    "    class_f2_score_mat[i,:] = class_f2_scores\n",
    "\n",
    "# compute the threshold that maximizes F2 score for each class separately\n",
    "f2_maximizing_thresholds = np.array([thresholds[i] for i in class_f2_score_mat.argmax(axis=0)])\n",
    "# alternately, don't do that at all, and just use the 0.5 decision threshold for all classes!\n",
    "default_thresholds = np.array([0.5 for i in range(n_classes)])\n",
    "#max_per_class_thresholds = (f2_maximizing_thresholds + default_thresholds) / 2\n",
    "max_per_class_thresholds = default_thresholds\n",
    "\n",
    "y_pred_val = (y_score_val >= max_per_class_thresholds).astype(int)\n",
    "classification_report = sklearn.metrics.classification_report(y_true_val, y_pred_val, target_names=phase_labels)\n",
    "print(classification_report)\n",
    "\n",
    "# Compute y_pred from the chosen thresholds\n",
    "y_pred = (y_score >= max_per_class_thresholds).astype(int)\n",
    "\n",
    "list(zip(phase_labels, f2_maximizing_thresholds, max_per_class_thresholds))"
   ]
  },
  {
   "cell_type": "code",
   "execution_count": 23,
   "metadata": {},
   "outputs": [],
   "source": [
    "y_pred = (y_score >= 0.5).astype(int)\n",
    "assert y_pred.shape == y_score.shape"
   ]
  },
  {
   "cell_type": "code",
   "execution_count": 24,
   "metadata": {},
   "outputs": [],
   "source": [
    "# assign the predictions as new columns\n",
    "for i, phase_label in enumerate(phase_labels):\n",
    "    merged[phase_label + \"_pred_label\"] = y_pred[:, i]"
   ]
  },
  {
   "cell_type": "code",
   "execution_count": 25,
   "metadata": {},
   "outputs": [],
   "source": [
    "# assign the true labels as new columns\n",
    "for i, phase_label in enumerate(phase_labels):\n",
    "    merged[phase_label + \"_label\"] = (merged[phase_label + \"_score\"] > 0.5).astype(int)"
   ]
  },
  {
   "cell_type": "code",
   "execution_count": null,
   "metadata": {},
   "outputs": [],
   "source": [
    "merged.sample(n=2)"
   ]
  },
  {
   "cell_type": "code",
   "execution_count": 27,
   "metadata": {
    "scrolled": false
   },
   "outputs": [
    {
     "name": "stdout",
     "output_type": "stream",
     "text": [
      "Phase                 Accuracy\n",
      "==================================================\n",
      "pretreatment              0.97\n",
      "treatment                 0.96\n",
      "end_of_life               0.99\n",
      "cured                     0.96\n"
     ]
    }
   ],
   "source": [
    "# To sanity-check the assignment process, we can check to make sure the accuracies on the labeled data are high\n",
    "# If any of these are less than 0.7, that indicates a problem\n",
    "annotated = merged[merged.is_annotated]\n",
    "print(f\"{'Phase':18}  {'Accuracy':>10}\")\n",
    "print(\"=\"*50)\n",
    "for phase_label in phase_labels:\n",
    "    acc = np.sum(annotated[phase_label + \"_label\"] == annotated[phase_label + \"_pred_label\"]) / len(annotated)\n",
    "    print(f\"{phase_label:18}  {acc:10.2f}\")"
   ]
  },
  {
   "cell_type": "code",
   "execution_count": 28,
   "metadata": {},
   "outputs": [
    {
     "name": "stdout",
     "output_type": "stream",
     "text": [
      "Phase               % True  % Pred\n",
      "==================================================\n",
      "pretreatment          0.09    0.10\n",
      "treatment             0.83    0.89\n",
      "end_of_life           0.02    0.02\n",
      "cured                 0.07    0.09\n"
     ]
    }
   ],
   "source": [
    "annotated = merged[merged.is_annotated]\n",
    "print(f\"{'Phase':18}  {'% True':6}  {'% Pred':6}\")\n",
    "print(\"=\"*50)\n",
    "for phase_label in phase_labels:\n",
    "    true_proportion = np.sum(annotated[phase_label + \"_label\"]) / len(annotated)\n",
    "    proportion_predicted = np.sum(merged[phase_label + \"_pred_label\"]) / len(merged)\n",
    "    print(f\"{phase_label:18}  {true_proportion:6.2f}  {proportion_predicted:6.2f}\")"
   ]
  },
  {
   "cell_type": "code",
   "execution_count": 124,
   "metadata": {},
   "outputs": [
    {
     "name": "stdout",
     "output_type": "stream",
     "text": [
      "Saving these columns: ['conflict_status', 'created_at', 'cured_score', 'end_of_life_score', 'is_annotated', 'journal_index', 'journal_oid', 'phases', 'pretreatment_score', 'site_id', 'treatment_score', 'seconds_since_previous_journal', 'cured_pred', 'end_of_life_pred', 'pretreatment_pred', 'treatment_pred', 'pretreatment_label', 'treatment_label', 'end_of_life_label', 'cured_label', 'pretreatment_pred_label', 'treatment_pred_label', 'end_of_life_pred_label', 'cured_pred_label']\n",
      "Finished.\n"
     ]
    }
   ],
   "source": [
    "to_save = merged.drop(columns='journal_text')\n",
    "print(\"Saving these columns:\", to_save.columns.tolist())\n",
    "all_predictions_filepath = os.path.join(working_dir, \"vw_all_preds.pkl\")\n",
    "to_save.to_pickle(all_predictions_filepath)\n",
    "print(\"Finished.\")"
   ]
  },
  {
   "cell_type": "markdown",
   "metadata": {},
   "source": [
    "## Evaluating unannotated labeling correctness\n",
    "\n",
    "Two primary questions of interest:\n",
    " - How many labelings are invalid?\n",
    " - How many site transitions are invalid?"
   ]
  },
  {
   "cell_type": "markdown",
   "metadata": {},
   "source": [
    "### Invalid labelings"
   ]
  },
  {
   "cell_type": "code",
   "execution_count": 29,
   "metadata": {},
   "outputs": [],
   "source": [
    "VALID_CLASS_LABELS = ([1,0,0,0],[0,1,0,0],[0,0,1,0],[0,0,0,1],\n",
    "                  [1,1,0,0],[0,1,1,0],[0,1,0,1],[0,0,0,0])"
   ]
  },
  {
   "cell_type": "code",
   "execution_count": 30,
   "metadata": {},
   "outputs": [
    {
     "data": {
      "text/plain": [
       "(151188, 4)"
      ]
     },
     "execution_count": 30,
     "metadata": {},
     "output_type": "execute_result"
    }
   ],
   "source": [
    "preds = merged[~merged.is_annotated]\n",
    "preds = preds.reset_index(drop=True)\n",
    "pred_label_cols = [phase_label + \"_pred_label\" for phase_label in phase_labels]\n",
    "\n",
    "y_pred = preds.loc[range(len(preds)), pred_label_cols].values\n",
    "y_pred.shape"
   ]
  },
  {
   "cell_type": "code",
   "execution_count": 31,
   "metadata": {},
   "outputs": [
    {
     "data": {
      "text/plain": [
       "0.9525028441410694"
      ]
     },
     "execution_count": 31,
     "metadata": {},
     "output_type": "execute_result"
    }
   ],
   "source": [
    "# Compute the percentage of journals that were assigned an illegal combination\n",
    "valid_labelings = np.sum(np.apply_along_axis(lambda row: list(row) in VALID_CLASS_LABELS, 1, y_pred))\n",
    "valid_labelings / len(preds)"
   ]
  },
  {
   "cell_type": "code",
   "execution_count": 57,
   "metadata": {},
   "outputs": [
    {
     "data": {
      "text/plain": [
       "7181"
      ]
     },
     "execution_count": 57,
     "metadata": {},
     "output_type": "execute_result"
    }
   ],
   "source": [
    "invalid_labeling_indices = np.apply_along_axis(lambda row: list(row) not in VALID_CLASS_LABELS, 1, y_pred)\n",
    "assert len(preds[invalid_labeling_indices]) == len(preds) - valid_labelings\n",
    "preds.loc[:, 'invalid_labeling'] = 0\n",
    "preds.loc[invalid_labeling_indices, 'invalid_labeling'] = 1\n",
    "len(preds[invalid_labeling_indices])"
   ]
  },
  {
   "cell_type": "code",
   "execution_count": null,
   "metadata": {},
   "outputs": [],
   "source": [
    "preds[invalid_labeling_indices].head(n=2)"
   ]
  },
  {
   "cell_type": "code",
   "execution_count": 170,
   "metadata": {},
   "outputs": [
    {
     "data": {
      "image/png": "[encoded data removed]",
      "text/plain": [
       "<Figure size 432x288 with 1 Axes>"
      ]
     },
     "metadata": {},
     "output_type": "display_data"
    },
    {
     "data": {
      "text/plain": [
       "(0.0474971558589306, 0.31630730584048566)"
      ]
     },
     "execution_count": 170,
     "metadata": {},
     "output_type": "execute_result"
    }
   ],
   "source": [
    "# 31.6% (props[0] below) of first journal posts are assigned invalid phases\n",
    "pct_invalid = len(preds[invalid_labeling_indices]) / len(preds)\n",
    "props = []\n",
    "for ji in range(20):\n",
    "    pct_invalid_and_nth_journal = len(preds[(invalid_labeling_indices) & (preds.journal_index == ji)]) / len(preds[preds.journal_index == ji])\n",
    "    props.append(pct_invalid_and_nth_journal)\n",
    "plt.bar(range(len(props)), props)\n",
    "plt.axhline(pct_invalid, linestyle='--', color='black', label=\"Global Mean\")\n",
    "plt.xlabel(\"Journal index within site\")\n",
    "plt.ylabel(\"% journals with invalid labeling\")\n",
    "plt.legend()\n",
    "plt.show()\n",
    "pct_invalid, props[0]"
   ]
  },
  {
   "cell_type": "code",
   "execution_count": 34,
   "metadata": {},
   "outputs": [],
   "source": [
    "preds['journal_text_length'] = preds['journal_text'].apply(lambda text: len(text))"
   ]
  },
  {
   "cell_type": "code",
   "execution_count": 35,
   "metadata": {},
   "outputs": [
    {
     "data": {
      "text/html": [
       "<div>\n",
       "<style scoped>\n",
       "    .dataframe tbody tr th:only-of-type {\n",
       "        vertical-align: middle;\n",
       "    }\n",
       "\n",
       "    .dataframe tbody tr th {\n",
       "        vertical-align: top;\n",
       "    }\n",
       "\n",
       "    .dataframe thead th {\n",
       "        text-align: right;\n",
       "    }\n",
       "</style>\n",
       "<table border=\"1\" class=\"dataframe\">\n",
       "  <thead>\n",
       "    <tr style=\"text-align: right;\">\n",
       "      <th></th>\n",
       "      <th>journal_index</th>\n",
       "      <th>seconds_since_previous_journal</th>\n",
       "      <th>journal_text_length</th>\n",
       "      <th>invalid_labeling</th>\n",
       "    </tr>\n",
       "  </thead>\n",
       "  <tbody>\n",
       "    <tr>\n",
       "      <th>journal_index</th>\n",
       "      <td>1.000000</td>\n",
       "      <td>-0.027142</td>\n",
       "      <td>0.053458</td>\n",
       "      <td>0.025230</td>\n",
       "    </tr>\n",
       "    <tr>\n",
       "      <th>seconds_since_previous_journal</th>\n",
       "      <td>-0.027142</td>\n",
       "      <td>1.000000</td>\n",
       "      <td>0.054744</td>\n",
       "      <td>-0.021281</td>\n",
       "    </tr>\n",
       "    <tr>\n",
       "      <th>journal_text_length</th>\n",
       "      <td>0.053458</td>\n",
       "      <td>0.054744</td>\n",
       "      <td>1.000000</td>\n",
       "      <td>-0.133595</td>\n",
       "    </tr>\n",
       "    <tr>\n",
       "      <th>invalid_labeling</th>\n",
       "      <td>0.025230</td>\n",
       "      <td>-0.021281</td>\n",
       "      <td>-0.133595</td>\n",
       "      <td>1.000000</td>\n",
       "    </tr>\n",
       "  </tbody>\n",
       "</table>\n",
       "</div>"
      ],
      "text/plain": [
       "                                journal_index  seconds_since_previous_journal  \\\n",
       "journal_index                        1.000000                       -0.027142   \n",
       "seconds_since_previous_journal      -0.027142                        1.000000   \n",
       "journal_text_length                  0.053458                        0.054744   \n",
       "invalid_labeling                     0.025230                       -0.021281   \n",
       "\n",
       "                                journal_text_length  invalid_labeling  \n",
       "journal_index                              0.053458          0.025230  \n",
       "seconds_since_previous_journal             0.054744         -0.021281  \n",
       "journal_text_length                        1.000000         -0.133595  \n",
       "invalid_labeling                          -0.133595          1.000000  "
      ]
     },
     "execution_count": 35,
     "metadata": {},
     "output_type": "execute_result"
    }
   ],
   "source": [
    "preds[['journal_index', 'seconds_since_previous_journal', 'journal_text_length', 'invalid_labeling']].corr()"
   ]
  },
  {
   "cell_type": "code",
   "execution_count": 36,
   "metadata": {},
   "outputs": [
    {
     "data": {
      "text/html": [
       "<div>\n",
       "<style scoped>\n",
       "    .dataframe tbody tr th:only-of-type {\n",
       "        vertical-align: middle;\n",
       "    }\n",
       "\n",
       "    .dataframe tbody tr th {\n",
       "        vertical-align: top;\n",
       "    }\n",
       "\n",
       "    .dataframe thead th {\n",
       "        text-align: right;\n",
       "    }\n",
       "</style>\n",
       "<table border=\"1\" class=\"dataframe\">\n",
       "  <thead>\n",
       "    <tr style=\"text-align: right;\">\n",
       "      <th></th>\n",
       "      <th>seconds_since_previous_journal</th>\n",
       "      <th>invalid_labeling</th>\n",
       "    </tr>\n",
       "  </thead>\n",
       "  <tbody>\n",
       "    <tr>\n",
       "      <th>seconds_since_previous_journal</th>\n",
       "      <td>1.000000</td>\n",
       "      <td>-0.004284</td>\n",
       "    </tr>\n",
       "    <tr>\n",
       "      <th>invalid_labeling</th>\n",
       "      <td>-0.004284</td>\n",
       "      <td>1.000000</td>\n",
       "    </tr>\n",
       "  </tbody>\n",
       "</table>\n",
       "</div>"
      ],
      "text/plain": [
       "                                seconds_since_previous_journal  \\\n",
       "seconds_since_previous_journal                        1.000000   \n",
       "invalid_labeling                                     -0.004284   \n",
       "\n",
       "                                invalid_labeling  \n",
       "seconds_since_previous_journal         -0.004284  \n",
       "invalid_labeling                        1.000000  "
      ]
     },
     "execution_count": 36,
     "metadata": {},
     "output_type": "execute_result"
    }
   ],
   "source": [
    "# The above isn't actually a fair comparison; \n",
    "# this gives the corr for seconds_since_previous_journal that includes only journals that actually have a previous journal\n",
    "preds[preds.seconds_since_previous_journal > 0][['seconds_since_previous_journal', 'invalid_labeling']].corr()"
   ]
  },
  {
   "cell_type": "code",
   "execution_count": 184,
   "metadata": {},
   "outputs": [
    {
     "data": {
      "image/png": "[encoded data removed]",
      "text/plain": [
       "<Figure size 432x288 with 1 Axes>"
      ]
     },
     "metadata": {},
     "output_type": "display_data"
    }
   ],
   "source": [
    "hist, bin_edges = np.histogram(preds.journal_text_length, range=(0, 30000))\n",
    "plt.bar(range(len(hist)), hist)\n",
    "plt.axhline(pct_invalid, linestyle='--', color='black', label=\"Global Mean\")\n",
    "plt.xlabel(\"Journal index within site\")\n",
    "plt.ylabel(\"% journals with invalid labeling\")\n",
    "plt.legend()\n",
    "plt.show()"
   ]
  },
  {
   "cell_type": "code",
   "execution_count": 235,
   "metadata": {},
   "outputs": [
    {
     "data": {
      "image/png": "[encoded data removed]",
      "text/plain": [
       "<Figure size 720x288 with 2 Axes>"
      ]
     },
     "metadata": {},
     "output_type": "display_data"
    },
    {
     "data": {
      "text/plain": [
       "(0.0474971558589306, 0.574468085106383, 71)"
      ]
     },
     "execution_count": 235,
     "metadata": {},
     "output_type": "execute_result"
    }
   ],
   "source": [
    "# investigate the impact of journal length on invalid labeling\n",
    "max_size = 5000\n",
    "\n",
    "pct_invalid = len(preds[invalid_labeling_indices]) / len(preds)\n",
    "props = []\n",
    "left_edges = []\n",
    "left_edge = None\n",
    "for right_edge in np.linspace(0, max_size, 71):\n",
    "    if left_edge is None:\n",
    "        left_edge = right_edge\n",
    "        continue\n",
    "    total_in_bucket = len(preds[(preds.journal_text_length > left_edge) & (preds.journal_text_length <= right_edge)])\n",
    "    if total_in_bucket > 0:\n",
    "        pct = len(preds[(invalid_labeling_indices) & (preds.journal_text_length > left_edge) & (preds.journal_text_length <= right_edge)]) / total_in_bucket\n",
    "    else:\n",
    "        pct = 0\n",
    "    props.append(pct)\n",
    "    left_edges.append(int(left_edge))\n",
    "    left_edge = right_edge\n",
    "right_edges = np.linspace(0, max_size, 70)\n",
    "fig, axs = plt.subplots(1, 2, figsize=(10, 4))\n",
    "\n",
    "plt.sca(axs[0])\n",
    "plt.bar(left_edges, props, align='edge', width=left_edges[1] - left_edges[0])\n",
    "plt.axhline(pct_invalid, linestyle='--', color='black', label=\"Global Mean\")\n",
    "plt.xlabel(\"Size of journal (number of characters)\")\n",
    "plt.ylabel(\"% journals with invalid labeling\")\n",
    "plt.legend()\n",
    "\n",
    "plt.sca(axs[1])\n",
    "plt.hist(preds.journal_text_length, range=(0, max_size), bins=70, log=False)\n",
    "plt.xlabel(\"Size of journal (number of characters)\")\n",
    "plt.ylabel(\"Count\")\n",
    "\n",
    "plt.show()\n",
    "pct_invalid, props[0], left_edges[1]"
   ]
  },
  {
   "cell_type": "code",
   "execution_count": 227,
   "metadata": {},
   "outputs": [
    {
     "data": {
      "text/plain": [
       "(0.6091073666620248, 0.21041637654922712, 0.6928004456203871)"
      ]
     },
     "execution_count": 227,
     "metadata": {},
     "output_type": "execute_result"
    }
   ],
   "source": [
    "# The percentage of invalidly-labeled journals that are less than 500 characters, the first journal, or both, respectively.\n",
    "len(preds[(invalid_labeling_indices)&(preds.journal_text_length < 500)]) / len(preds[invalid_labeling_indices]), \\\n",
    "len(preds[(invalid_labeling_indices)&(preds.journal_index == 0)]) / len(preds[invalid_labeling_indices]), \\\n",
    "len(preds[(invalid_labeling_indices)&((preds.journal_index == 0)|(preds.journal_text_length < 500))]) / len(preds[invalid_labeling_indices])"
   ]
  },
  {
   "cell_type": "code",
   "execution_count": 239,
   "metadata": {},
   "outputs": [
    {
     "data": {
      "text/plain": [
       "(0.20247895661825918, 0.14301399581977406)"
      ]
     },
     "execution_count": 239,
     "metadata": {},
     "output_type": "execute_result"
    }
   ],
   "source": [
    "# 20.2% of journals with fewer than 500 characters are misclassified\n",
    "# Journals with fewer than 500 characters represent 14.3% of all journals in the dataset\n",
    "journal_text_length_threshold = 500\n",
    "total_in_bucket = len(preds[preds.journal_text_length <= journal_text_length_threshold])\n",
    "pct = len(preds[(invalid_labeling_indices) & (preds.journal_text_length <= journal_text_length_threshold)]) / total_in_bucket\n",
    "pct, total_in_bucket / len(preds)"
   ]
  },
  {
   "cell_type": "markdown",
   "metadata": {},
   "source": [
    "#### Zero-phase analysis\n",
    "\n",
    "Analysis of journals that are assigned zeros."
   ]
  },
  {
   "cell_type": "code",
   "execution_count": 39,
   "metadata": {},
   "outputs": [
    {
     "data": {
      "text/plain": [
       "0.09041722888059898"
      ]
     },
     "execution_count": 39,
     "metadata": {},
     "output_type": "execute_result"
    }
   ],
   "source": [
    "# Compute the percentage of journals that were assigned no phases\n",
    "zero_phase_labelings = np.sum(np.apply_along_axis(lambda row: np.sum(row) == 0, 1, y_pred))\n",
    "zero_phase_labelings / len(preds)"
   ]
  },
  {
   "cell_type": "code",
   "execution_count": 42,
   "metadata": {},
   "outputs": [
    {
     "data": {
      "text/plain": [
       "13670"
      ]
     },
     "execution_count": 42,
     "metadata": {},
     "output_type": "execute_result"
    }
   ],
   "source": [
    "zero_labeling_indices = np.apply_along_axis(lambda row: np.sum(row) == 0, 1, y_pred)\n",
    "preds.loc[:, 'zero_labeling'] = 0\n",
    "preds.loc[zero_labeling_indices, 'zero_labeling'] = 1\n",
    "len(preds[zero_labeling_indices])"
   ]
  },
  {
   "cell_type": "code",
   "execution_count": 43,
   "metadata": {},
   "outputs": [
    {
     "data": {
      "text/html": [
       "<div>\n",
       "<style scoped>\n",
       "    .dataframe tbody tr th:only-of-type {\n",
       "        vertical-align: middle;\n",
       "    }\n",
       "\n",
       "    .dataframe tbody tr th {\n",
       "        vertical-align: top;\n",
       "    }\n",
       "\n",
       "    .dataframe thead th {\n",
       "        text-align: right;\n",
       "    }\n",
       "</style>\n",
       "<table border=\"1\" class=\"dataframe\">\n",
       "  <thead>\n",
       "    <tr style=\"text-align: right;\">\n",
       "      <th></th>\n",
       "      <th>journal_index</th>\n",
       "      <th>seconds_since_previous_journal</th>\n",
       "      <th>journal_text_length</th>\n",
       "      <th>invalid_labeling</th>\n",
       "    </tr>\n",
       "  </thead>\n",
       "  <tbody>\n",
       "    <tr>\n",
       "      <th>journal_index</th>\n",
       "      <td>1.000000</td>\n",
       "      <td>-0.027142</td>\n",
       "      <td>0.053458</td>\n",
       "      <td>0.025230</td>\n",
       "    </tr>\n",
       "    <tr>\n",
       "      <th>seconds_since_previous_journal</th>\n",
       "      <td>-0.027142</td>\n",
       "      <td>1.000000</td>\n",
       "      <td>0.054744</td>\n",
       "      <td>-0.021281</td>\n",
       "    </tr>\n",
       "    <tr>\n",
       "      <th>journal_text_length</th>\n",
       "      <td>0.053458</td>\n",
       "      <td>0.054744</td>\n",
       "      <td>1.000000</td>\n",
       "      <td>-0.133595</td>\n",
       "    </tr>\n",
       "    <tr>\n",
       "      <th>invalid_labeling</th>\n",
       "      <td>0.025230</td>\n",
       "      <td>-0.021281</td>\n",
       "      <td>-0.133595</td>\n",
       "      <td>1.000000</td>\n",
       "    </tr>\n",
       "  </tbody>\n",
       "</table>\n",
       "</div>"
      ],
      "text/plain": [
       "                                journal_index  seconds_since_previous_journal  \\\n",
       "journal_index                        1.000000                       -0.027142   \n",
       "seconds_since_previous_journal      -0.027142                        1.000000   \n",
       "journal_text_length                  0.053458                        0.054744   \n",
       "invalid_labeling                     0.025230                       -0.021281   \n",
       "\n",
       "                                journal_text_length  invalid_labeling  \n",
       "journal_index                              0.053458          0.025230  \n",
       "seconds_since_previous_journal             0.054744         -0.021281  \n",
       "journal_text_length                        1.000000         -0.133595  \n",
       "invalid_labeling                          -0.133595          1.000000  "
      ]
     },
     "execution_count": 43,
     "metadata": {},
     "output_type": "execute_result"
    }
   ],
   "source": [
    "preds[['journal_index', 'seconds_since_previous_journal', 'journal_text_length', 'invalid_labeling']].corr()"
   ]
  },
  {
   "cell_type": "code",
   "execution_count": 49,
   "metadata": {},
   "outputs": [
    {
     "data": {
      "image/png": "[encoded data removed]",
      "text/plain": [
       "<Figure size 432x288 with 1 Axes>"
      ]
     },
     "metadata": {},
     "output_type": "display_data"
    },
    {
     "data": {
      "text/plain": [
       "(0.09041722888059898, 0.0981787732886749, 0.17839195979899497)"
      ]
     },
     "execution_count": 49,
     "metadata": {},
     "output_type": "execute_result"
    }
   ],
   "source": [
    "# 17.8% (props[1] below) of second journal posts are assigned no phases\n",
    "pct_zero = len(preds[zero_labeling_indices]) / len(preds)\n",
    "props = []\n",
    "for ji in range(100):\n",
    "    pct_zero_and_nth_journal = len(preds[(zero_labeling_indices) & (preds.journal_index == ji)]) / len(preds[preds.journal_index == ji])\n",
    "    props.append(pct_zero_and_nth_journal)\n",
    "plt.bar(range(len(props)), props)\n",
    "plt.axhline(pct_zero, linestyle='--', color='black', label=\"Global Mean\")\n",
    "plt.xlabel(\"Journal index within site\")\n",
    "plt.ylabel(\"% journals with no phases\")\n",
    "plt.legend()\n",
    "plt.show()\n",
    "pct_zero, props[0], props[1]"
   ]
  },
  {
   "cell_type": "code",
   "execution_count": 54,
   "metadata": {},
   "outputs": [
    {
     "data": {
      "image/png": "[encoded data removed]",
      "text/plain": [
       "<Figure size 864x288 with 2 Axes>"
      ]
     },
     "metadata": {},
     "output_type": "display_data"
    },
    {
     "data": {
      "text/plain": [
       "(0.09041722888059898, 0.0019093078758949881, 142)"
      ]
     },
     "execution_count": 54,
     "metadata": {},
     "output_type": "execute_result"
    }
   ],
   "source": [
    "# investigate the impact of journal length on zero labeling\n",
    "max_size = 10000\n",
    "\n",
    "pct_zero = len(preds[zero_labeling_indices]) / len(preds)\n",
    "props = []\n",
    "left_edges = []\n",
    "left_edge = None\n",
    "for right_edge in np.linspace(0, max_size, 71):\n",
    "    if left_edge is None:\n",
    "        left_edge = right_edge\n",
    "        continue\n",
    "    total_in_bucket = len(preds[(preds.journal_text_length > left_edge) & (preds.journal_text_length <= right_edge)])\n",
    "    if total_in_bucket > 0:\n",
    "        pct = len(preds[(zero_labeling_indices) & (preds.journal_text_length > left_edge) & (preds.journal_text_length <= right_edge)]) / total_in_bucket\n",
    "    else:\n",
    "        pct = 0\n",
    "    props.append(pct)\n",
    "    left_edges.append(int(left_edge))\n",
    "    left_edge = right_edge\n",
    "right_edges = np.linspace(0, max_size, 70)\n",
    "fig, axs = plt.subplots(1, 2, figsize=(12, 4))\n",
    "\n",
    "plt.sca(axs[0])\n",
    "plt.bar(left_edges, props, align='edge', width=left_edges[1] - left_edges[0])\n",
    "plt.axhline(pct_invalid, linestyle='--', color='black', label=\"Global Mean\")\n",
    "plt.xlabel(\"Size of journal (number of characters)\")\n",
    "plt.ylabel(\"% journals with no phases\")\n",
    "plt.legend()\n",
    "\n",
    "plt.sca(axs[1])\n",
    "plt.hist(preds.journal_text_length, range=(0, max_size), bins=70, log=False)\n",
    "plt.xlabel(\"Size of journal (number of characters)\")\n",
    "plt.ylabel(\"Count\")\n",
    "\n",
    "plt.show()\n",
    "pct_invalid, props[0], left_edges[1]"
   ]
  },
  {
   "cell_type": "markdown",
   "metadata": {},
   "source": [
    "#### Multi-phase analysis"
   ]
  },
  {
   "cell_type": "code",
   "execution_count": 40,
   "metadata": {},
   "outputs": [
    {
     "data": {
      "text/plain": [
       "0.08879011561764161"
      ]
     },
     "execution_count": 40,
     "metadata": {},
     "output_type": "execute_result"
    }
   ],
   "source": [
    "# Compute the percentage of journals that were assigned two phases\n",
    "two_phase_labelings = np.sum(np.apply_along_axis(lambda row: np.sum(row) == 2, 1, y_pred))\n",
    "two_phase_labelings / len(preds)"
   ]
  },
  {
   "cell_type": "code",
   "execution_count": 60,
   "metadata": {},
   "outputs": [
    {
     "name": "stdout",
     "output_type": "stream",
     "text": [
      "Num journals under consideration: 13330\n"
     ]
    },
    {
     "data": {
      "image/png": "[encoded data removed]",
      "text/plain": [
       "<Figure size 864x288 with 2 Axes>"
      ]
     },
     "metadata": {},
     "output_type": "display_data"
    },
    {
     "data": {
      "text/plain": [
       "(0.09041722888059898, 0.20212765957446807, 85)"
      ]
     },
     "execution_count": 60,
     "metadata": {},
     "output_type": "execute_result"
    }
   ],
   "source": [
    "# investigate the impact of journal length on zero labeling\n",
    "# it appears that shorter journals are much more likely to be assigned exactly two journals\n",
    "max_size = 6000\n",
    "\n",
    "two_labeling_indices = np.apply_along_axis(lambda row: np.sum(row) == 2, 1, y_pred)\n",
    "two_labeling_indices = (two_labeling_indices) & (~invalid_labeling_indices)\n",
    "print(\"Num journals under consideration:\", len(preds[two_labeling_indices]))\n",
    "pct_zero = len(preds[two_labeling_indices]) / len(preds)\n",
    "props = []\n",
    "left_edges = []\n",
    "left_edge = None\n",
    "for right_edge in np.linspace(0, max_size, 71):\n",
    "    if left_edge is None:\n",
    "        left_edge = right_edge\n",
    "        continue\n",
    "    total_in_bucket = len(preds[(preds.journal_text_length > left_edge) & (preds.journal_text_length <= right_edge)])\n",
    "    if total_in_bucket > 0:\n",
    "        pct = len(preds[(two_labeling_indices) & (preds.journal_text_length > left_edge) & (preds.journal_text_length <= right_edge)]) / total_in_bucket\n",
    "    else:\n",
    "        pct = 0\n",
    "    props.append(pct)\n",
    "    left_edges.append(int(left_edge))\n",
    "    left_edge = right_edge\n",
    "right_edges = np.linspace(0, max_size, 70)\n",
    "fig, axs = plt.subplots(1, 2, figsize=(12, 4))\n",
    "\n",
    "plt.sca(axs[0])\n",
    "plt.bar(left_edges, props, align='edge', width=left_edges[1] - left_edges[0])\n",
    "plt.axhline(pct_invalid, linestyle='--', color='black', label=\"Global Mean\")\n",
    "plt.xlabel(\"Size of journal (number of characters)\")\n",
    "plt.ylabel(\"% journals with 2 phases\")\n",
    "plt.legend()\n",
    "\n",
    "plt.sca(axs[1])\n",
    "plt.hist(preds.journal_text_length, range=(0, max_size), bins=70, log=False)\n",
    "plt.xlabel(\"Size of journal (number of characters)\")\n",
    "plt.ylabel(\"Count\")\n",
    "\n",
    "plt.show()\n",
    "pct_invalid, props[0], left_edges[1]"
   ]
  },
  {
   "cell_type": "code",
   "execution_count": 41,
   "metadata": {},
   "outputs": [
    {
     "data": {
      "text/plain": [
       "0.7739172421091621"
      ]
     },
     "execution_count": 41,
     "metadata": {},
     "output_type": "execute_result"
    }
   ],
   "source": [
    "# Compute the percentage of journals that were assigned one phase\n",
    "one_phase_labelings = np.sum(np.apply_along_axis(lambda row: np.sum(row) == 1, 1, y_pred))\n",
    "one_phase_labelings / len(preds)"
   ]
  },
  {
   "cell_type": "markdown",
   "metadata": {},
   "source": [
    "### Invalid transitions\n",
    "\n",
    "Moved to another notebook."
   ]
  },
  {
   "cell_type": "code",
   "execution_count": null,
   "metadata": {},
   "outputs": [],
   "source": []
  },
  {
   "cell_type": "code",
   "execution_count": null,
   "metadata": {},
   "outputs": [],
   "source": []
  },
  {
   "cell_type": "code",
   "execution_count": null,
   "metadata": {},
   "outputs": [],
   "source": []
  }
 ],
 "metadata": {
  "kernelspec": {
   "display_name": "Python 3",
   "language": "python",
   "name": "python3"
  },
  "language_info": {
   "codemirror_mode": {
    "name": "ipython",
    "version": 3
   },
   "file_extension": ".py",
   "mimetype": "text/x-python",
   "name": "python",
   "nbconvert_exporter": "python",
   "pygments_lexer": "ipython3",
   "version": "3.6.8"
  }
 },
 "nbformat": 4,
 "nbformat_minor": 2
}
