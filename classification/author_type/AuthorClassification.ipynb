{
 "cells": [
  {
   "cell_type": "markdown",
   "metadata": {},
   "source": [
    "Author Classification\n",
    "===\n",
    "\n",
    "Notebook to build models for the author classification problem.\n",
    "\n",
    "Current classification approach uses Vowpal Wabbit. Future approaches could try using sklearn or more sophisticated approaches if necessary.  (One could for example a PyStruct i.e. structured prediction model.)"
   ]
  },
  {
   "cell_type": "code",
   "execution_count": 1,
   "metadata": {
    "collapsed": true
   },
   "outputs": [],
   "source": [
    "%matplotlib inline\n",
    "\n",
    "import os\n",
    "import re\n",
    "import pandas as pd\n",
    "import numpy as np\n",
    "import sklearn\n",
    "from collections import Counter\n",
    "import sqlite3\n",
    "from nltk import word_tokenize\n",
    "from html.parser import HTMLParser\n",
    "from tqdm import tqdm\n",
    "import random\n",
    "import pickle\n",
    "\n",
    "import Levenshtein  # for computing edit distance\n",
    "\n",
    "import matplotlib.pyplot as plt\n",
    "import matplotlib.dates as md\n",
    "import matplotlib\n",
    "import pylab as pl\n",
    "from IPython.core.display import display, HTML"
   ]
  },
  {
   "cell_type": "code",
   "execution_count": 68,
   "metadata": {
    "collapsed": true
   },
   "outputs": [],
   "source": [
    "general_working_dir = \"/home/srivbane/shared/caringbridge/data/projects/qual-health-journeys/author_classification\"\n",
    "vw_working_dir = os.path.join(general_working_dir, \"vw\")\n",
    "os.makedirs(vw_working_dir, exist_ok=True)"
   ]
  },
  {
   "cell_type": "code",
   "execution_count": 3,
   "metadata": {
    "collapsed": true
   },
   "outputs": [],
   "source": [
    "use_cached_results = False  # set to true to load cached intermediate results from pickle rather than redoing the computations\n",
    "\n",
    "# Caching option specifically for instrumental support, since that's more intensive computationally\n",
    "use_cached_instrumental_support_results = True\n",
    "\n",
    "# Whether or not to write to the cbAnnotator database (which has caused desync issues in the past)\n",
    "skip_prediction_insertion = True"
   ]
  },
  {
   "cell_type": "code",
   "execution_count": 4,
   "metadata": {
    "collapsed": true
   },
   "outputs": [],
   "source": [
    "def get_db():\n",
    "    journal_wd=\"/home/srivbane/shared/caringbridge/data/derived/sqlite\"\n",
    "    db_filename = os.path.join(journal_wd, \"journal.db\")\n",
    "    db = sqlite3.connect(\n",
    "            db_filename,\n",
    "            detect_types=sqlite3.PARSE_DECLTYPES\n",
    "        )\n",
    "    db.row_factory = sqlite3.Row\n",
    "    return db\n",
    "\n",
    "\n",
    "def get_journal_text(site_id, journal_oid):\n",
    "    site_id = int(site_id)\n",
    "    \n",
    "    # add journal text as new section\n",
    "    try:\n",
    "        db = get_db()\n",
    "        cursor = db.execute(\"\"\"SELECT body\n",
    "                                FROM journal \n",
    "                                WHERE site_id = ? AND journal_oid = ?\"\"\", \n",
    "                            (site_id, journal_oid))\n",
    "        body = cursor.fetchone()\n",
    "        assert body is not None\n",
    "        body_text = body['body']\n",
    "        if body_text is None:\n",
    "            body_text = \"\"\n",
    "        return body_text\n",
    "    finally:\n",
    "        db.close()\n",
    "        \n",
    "def get_journal_texts(site_id):\n",
    "    site_id = int(site_id)\n",
    "    \n",
    "    texts = []\n",
    "    try:\n",
    "        db = get_db()\n",
    "        cursor = db.execute(\"\"\"SELECT journal_oid, body\n",
    "                                FROM journal \n",
    "                                WHERE site_id = ?\"\"\", \n",
    "                            (site_id,))\n",
    "        results = cursor.fetchall()\n",
    "        assert results is not None\n",
    "        for result in results:\n",
    "            body_text = result['body']\n",
    "            if body_text is None:\n",
    "                body_text = \"\"\n",
    "            journal_oid = result['journal_oid']\n",
    "            texts.append({\n",
    "                'journal_oid': journal_oid,\n",
    "                'body': body_text\n",
    "            })\n",
    "        return texts\n",
    "    finally:\n",
    "        db.close()"
   ]
  },
  {
   "cell_type": "code",
   "execution_count": 5,
   "metadata": {
    "collapsed": true
   },
   "outputs": [],
   "source": [
    "class MLStripper(HTMLParser):\n",
    "    def __init__(self):\n",
    "        super().__init__()\n",
    "        self.reset()\n",
    "        self.strict = False\n",
    "        self.convert_charrefs = True\n",
    "        self.fed = []\n",
    "    def handle_data(self, d):\n",
    "        self.fed.append(d)\n",
    "    def get_data(self):\n",
    "        return ''.join(self.fed)\n",
    "\n",
    "def strip_tags(html_text):\n",
    "    s = MLStripper()\n",
    "    s.feed(html_text)\n",
    "    return s.get_data()\n",
    "\n",
    "\n",
    "def get_cleaned_text_from_token_list(token_list):\n",
    "    cleaned_text = \" \".join(token_list).replace(':', 'COLON').replace('|', 'PIPE').replace(\"\\n\", \"NEWLINE \")\n",
    "    return cleaned_text\n",
    "\n",
    "def get_cleaned_text(text):\n",
    "    stripped = strip_tags(text)\n",
    "    tokens = word_tokenize(stripped)\n",
    "    tokens = [token.lower() for token in tokens]\n",
    "    cleaned_text = get_cleaned_text_from_token_list(tokens)\n",
    "    return cleaned_text"
   ]
  },
  {
   "cell_type": "markdown",
   "metadata": {},
   "source": [
    "### Load annotation client author types"
   ]
  },
  {
   "cell_type": "code",
   "execution_count": 6,
   "metadata": {},
   "outputs": [
    {
     "data": {
      "text/plain": [
       "[{'site_id': 193755, 'journal_oid': '51c060cb6ca00467161ab1d5', 'data': 'p'},\n",
       " {'site_id': 193755, 'journal_oid': '51c060cb6ca00467161ab165', 'data': 'p'},\n",
       " {'site_id': 147458, 'journal_oid': '51be1f556ca0045458010938', 'data': 'p'},\n",
       " {'site_id': 200461, 'journal_oid': '51be2c476ca004ec020111c6', 'data': 'p'},\n",
       " {'site_id': 200461, 'journal_oid': '51be2c476ca004ec02010b28', 'data': 'p'},\n",
       " {'site_id': 200461, 'journal_oid': '51be2c476ca004ec02010a88', 'data': 'cg'},\n",
       " {'site_id': 200461, 'journal_oid': '51be2c476ca004ec020111b8', 'data': 'p'},\n",
       " {'site_id': 540483, 'journal_oid': '51be57ed6ca0048015002c8d', 'data': 'p'},\n",
       " {'site_id': 540483, 'journal_oid': '51be57ed6ca0048015002c75', 'data': 'p'},\n",
       " {'site_id': 857640, 'journal_oid': '5318bdb6a689b4ce0823fe51', 'data': 'cg'}]"
      ]
     },
     "execution_count": 6,
     "metadata": {},
     "output_type": "execute_result"
    }
   ],
   "source": [
    "annotation_web_client_database = \"/home/srivbane/shared/caringbridge/data/projects/qual-health-journeys/instance/cbAnnotator.sqlite\"\n",
    "\n",
    "\n",
    "def get_annotation_db():\n",
    "    db = sqlite3.connect(\n",
    "            annotation_web_client_database,\n",
    "            detect_types=sqlite3.PARSE_DECLTYPES\n",
    "        )\n",
    "    db.row_factory = sqlite3.Row\n",
    "    return db\n",
    "\n",
    "\n",
    "def get_author_annotations():\n",
    "    try:\n",
    "        db = get_annotation_db()\n",
    "        cursor = db.execute(\n",
    "            \"\"\"SELECT site_id, journal_oid, data \n",
    "                FROM journalAnnotation\n",
    "                WHERE annotation_type = \"journal_author_type\" AND username = \"levon003\"\n",
    "                GROUP BY site_id, journal_oid\n",
    "                ORDER BY id DESC\"\"\")  # FIXME Currently, we pull only my own authorship tags\n",
    "        journal_author_annotations = cursor.fetchall()\n",
    "        annotation_strings = [{'site_id': a['site_id'], \n",
    "                               'journal_oid': a['journal_oid'], \n",
    "                               'data': a['data']}\n",
    "                              for a in journal_author_annotations]\n",
    "        return annotation_strings\n",
    "    finally:\n",
    "        db.close()\n",
    "\n",
    "\n",
    "# Test extraction of annotations\n",
    "get_author_annotations()[:10]"
   ]
  },
  {
   "cell_type": "code",
   "execution_count": 7,
   "metadata": {},
   "outputs": [
    {
     "data": {
      "text/plain": [
       "[('p', 311), ('cg', 253), ('unk', 29), ('pcg', 4)]"
      ]
     },
     "execution_count": 7,
     "metadata": {},
     "output_type": "execute_result"
    }
   ],
   "source": [
    "web_client_annotations_raw = get_author_annotations()\n",
    "Counter([a['data'] for a in web_client_annotations_raw]).most_common()"
   ]
  },
  {
   "cell_type": "code",
   "execution_count": 8,
   "metadata": {
    "scrolled": true
   },
   "outputs": [
    {
     "name": "stderr",
     "output_type": "stream",
     "text": [
      "100%|██████████| 597/597 [00:16<00:00, 36.58it/s]\n"
     ]
    },
    {
     "data": {
      "text/plain": [
       "578"
      ]
     },
     "execution_count": 8,
     "metadata": {},
     "output_type": "execute_result"
    }
   ],
   "source": [
    "web_client_annotation_list = []\n",
    "\n",
    "for annotation in tqdm(web_client_annotations_raw):\n",
    "    site_id = annotation['site_id']\n",
    "    journal_oid = annotation['journal_oid']\n",
    "    body = get_journal_text(site_id, journal_oid)\n",
    "    if len(body) < 50:\n",
    "        continue\n",
    "        \n",
    "    label = annotation['data']\n",
    "    # One consideration: do we want to include unknown journals in the training data?\n",
    "    #if label == \"unk\":\n",
    "    #    continue\n",
    "        \n",
    "    cleaned_body = get_cleaned_text(body)\n",
    "    \n",
    "    annotation_dict = {\n",
    "        \"site_id\": annotation['site_id'],\n",
    "        \"journal_oid\": annotation['journal_oid'], \n",
    "        \"cleaned_body\": cleaned_body,\n",
    "        \"label\": label\n",
    "    }\n",
    "    web_client_annotation_list.append(annotation_dict)\n",
    "\n",
    "len(web_client_annotation_list)"
   ]
  },
  {
   "cell_type": "code",
   "execution_count": 9,
   "metadata": {},
   "outputs": [
    {
     "name": "stdout",
     "output_type": "stream",
     "text": [
      "Finished.\n"
     ]
    }
   ],
   "source": [
    "web_client_annotation_list_pickle_filepath = os.path.join(vw_working_dir, \"web_client_annotations.pkl\")\n",
    "\n",
    "if use_cached_results and os.path.exists(web_client_annotation_list_pickle_filepath):\n",
    "    with open(web_client_annotation_list_pickle_filepath, 'rb') as f:\n",
    "        web_client_annotation_list = pickle.load(f)\n",
    "else:  # should save the processed list\n",
    "    with open(web_client_annotation_list_pickle_filepath, 'wb') as f:\n",
    "        pickle.dump(web_client_annotation_list, f)\n",
    "print(\"Finished.\")"
   ]
  },
  {
   "cell_type": "markdown",
   "metadata": {},
   "source": [
    "### Load instrumental support coding author types"
   ]
  },
  {
   "cell_type": "code",
   "execution_count": 10,
   "metadata": {},
   "outputs": [
    {
     "data": {
      "text/plain": [
       "732"
      ]
     },
     "execution_count": 10,
     "metadata": {},
     "output_type": "execute_result"
    }
   ],
   "source": [
    "appreciation_coding_filepath = \"/home/srivbane/levon003/repos/instrumental_support/appreciation_coding/collect_coding_results/certain_data/all_certain_data.csv\"\n",
    "df = pd.read_csv(appreciation_coding_filepath)\n",
    "len(df)"
   ]
  },
  {
   "cell_type": "code",
   "execution_count": 11,
   "metadata": {},
   "outputs": [
    {
     "data": {
      "text/plain": [
       "[('C', 427), ('P', 292), ('PC', 13)]"
      ]
     },
     "execution_count": 11,
     "metadata": {},
     "output_type": "execute_result"
    }
   ],
   "source": [
    "Counter(df['author_type']).most_common()"
   ]
  },
  {
   "cell_type": "code",
   "execution_count": 12,
   "metadata": {
    "scrolled": true
   },
   "outputs": [
    {
     "data": {
      "text/plain": [
       "(0, 0)"
      ]
     },
     "execution_count": 12,
     "metadata": {},
     "output_type": "execute_result"
    }
   ],
   "source": [
    "instrumental_support_annotation_list = []\n",
    "skipped = 0\n",
    "if not use_cached_instrumental_support_results:\n",
    "    try:\n",
    "        db = get_db()\n",
    "        for i in tqdm(range(len(df))):\n",
    "            row = df.iloc[i]\n",
    "            site_id = int(row['site_id'])\n",
    "\n",
    "            if len(row['body_text']) < 50:\n",
    "                continue\n",
    "            comparison_body = row['body_text'][:500].lower()\n",
    "\n",
    "            cursor = db.execute(\"\"\"SELECT site_id, journal_oid, title, body\n",
    "                                    FROM journal\n",
    "                                    WHERE site_id = ?\n",
    "                                    GROUP BY site_id, journal_oid\n",
    "                                    ORDER BY createdAt\"\"\",\n",
    "                                (site_id,))\n",
    "            current_match = None\n",
    "            for res in cursor.fetchall():\n",
    "                if res['body'] is None or len(res['body']) < 50:\n",
    "                    continue\n",
    "                title = get_cleaned_text(res['title']) if res['title'] is not None else \"\"\n",
    "                body = get_cleaned_text(res['body'][:500-len(title)-1]).lower()\n",
    "\n",
    "                title_and_body = title + \" \" + body\n",
    "                distance = Levenshtein.distance(title_and_body, comparison_body)\n",
    "\n",
    "                if current_match is None or current_match['distance'] >= distance:\n",
    "                    #if current_match is not None and current_match['distance'] == distance:\n",
    "                    #    print(\"Warning: Equivalent match found in site %d.\" % site_id)\n",
    "                    #    print(\"  Old match text:\", current_match['title_body'][:200])\n",
    "                    #    print(\"  New match text:\", title_and_body[:200])\n",
    "                    current_match = {\n",
    "                        \"journal_oid\": res['journal_oid'],\n",
    "                        \"title_body\": title_and_body[:300],\n",
    "                        \"body\": get_cleaned_text(res['body']),\n",
    "                        \"distance\": distance\n",
    "                    }\n",
    "                    if distance <= 4:  # just assume that this is an exact match; no need to look at the other journals\n",
    "                        break\n",
    "            # print out particularly large differences for manual inspection\n",
    "            if current_match['distance'] > 220:\n",
    "                print(site_id, current_match['journal_oid'], current_match['distance'])\n",
    "                print(\"Matched Journal:\", current_match['title_body'][:200])\n",
    "                print(\"Dataframe Input:\", comparison_body[:200])\n",
    "                skipped += 1\n",
    "                continue  # discard this record, not including it in the list of annotations.\n",
    "\n",
    "            match_dict = {\n",
    "                \"site_id\": site_id,\n",
    "                \"journal_oid\": current_match['journal_oid'], \n",
    "                \"cleaned_body\": current_match['body'],\n",
    "                \"label\": row['author_type']\n",
    "            }\n",
    "            instrumental_support_annotation_list.append(match_dict)\n",
    "    finally:\n",
    "        db.close()\n",
    "    \n",
    "len(instrumental_support_annotation_list), skipped  # Note: 10 or so records are skipped during computation due to bad matches"
   ]
  },
  {
   "cell_type": "code",
   "execution_count": 13,
   "metadata": {
    "scrolled": true
   },
   "outputs": [
    {
     "name": "stdout",
     "output_type": "stream",
     "text": [
      "Finished.\n"
     ]
    }
   ],
   "source": [
    "instrumental_support_annotation_list_pickle_filepath = os.path.join(vw_working_dir, \"instrumental_support_annotations.pkl\")\n",
    "\n",
    "if (use_cached_results or use_cached_instrumental_support_results) and os.path.exists(instrumental_support_annotation_list_pickle_filepath):\n",
    "    with open(instrumental_support_annotation_list_pickle_filepath, 'rb') as f:\n",
    "        instrumental_support_annotation_list = pickle.load(f)\n",
    "else:  # should save the processed list\n",
    "    with open(instrumental_support_annotation_list_pickle_filepath, 'wb') as f:\n",
    "        pickle.dump(instrumental_support_annotation_list, f)\n",
    "print(\"Finished.\")"
   ]
  },
  {
   "cell_type": "markdown",
   "metadata": {},
   "source": [
    "### Merge the annotation sources into a common format"
   ]
  },
  {
   "cell_type": "code",
   "execution_count": 14,
   "metadata": {},
   "outputs": [
    {
     "name": "stdout",
     "output_type": "stream",
     "text": [
      "Duplicate: C cg\n",
      "Duplicate: P p\n",
      "Duplicate: P p\n",
      "Duplicate: C cg\n",
      "Duplicate: C cg\n",
      "Duplicate: P p\n",
      "Duplicate: P p\n"
     ]
    },
    {
     "data": {
      "text/plain": [
       "1293"
      ]
     },
     "execution_count": 14,
     "metadata": {},
     "output_type": "execute_result"
    }
   ],
   "source": [
    "annotations = web_client_annotation_list[:]\n",
    "for instr_annotation in instrumental_support_annotation_list:\n",
    "    annotation_already_present = False\n",
    "    for web_annotation in web_client_annotation_list:\n",
    "        if instr_annotation['site_id'] == web_annotation['site_id'] \\\n",
    "            and instr_annotation['journal_oid'] == web_annotation['journal_oid']:\n",
    "                annotation_already_present = True\n",
    "                print(\"Duplicate:\", instr_annotation['label'], web_annotation['label'])\n",
    "    if not annotation_already_present:\n",
    "        annotations.append(instr_annotation)\n",
    "len(annotations)"
   ]
  },
  {
   "cell_type": "markdown",
   "metadata": {},
   "source": [
    "### Convert to Vowpal Wabbit line format"
   ]
  },
  {
   "cell_type": "code",
   "execution_count": null,
   "metadata": {},
   "outputs": [],
   "source": [
    "lines = []\n",
    "for annotation in annotations:\n",
    "    label_section = \"-1\"\n",
    "    if annotation['label'] in [\"p\", \"P\"]:\n",
    "        label_section = \"+1\"\n",
    "    \n",
    "    identifier = \"sid%djoid%s\" % (annotation['site_id'], annotation['journal_oid'])\n",
    "    \n",
    "    formatted_journal = label_section + \" \" + identifier + \"|J \" + annotation['cleaned_body']\n",
    "    lines.append(formatted_journal)\n",
    "\n",
    "lines[:2]"
   ]
  },
  {
   "cell_type": "code",
   "execution_count": 16,
   "metadata": {},
   "outputs": [
    {
     "data": {
      "text/plain": [
       "(1035, 258)"
      ]
     },
     "execution_count": 16,
     "metadata": {},
     "output_type": "execute_result"
    }
   ],
   "source": [
    "train_lines = []\n",
    "valid_lines = []\n",
    "\n",
    "holdout_percent = 0.2\n",
    "holdout_start_index = len(lines) - int(len(lines) * holdout_percent)\n",
    "\n",
    "train_lines = lines[:holdout_start_index]\n",
    "valid_lines = lines[holdout_start_index:]\n",
    "\n",
    "for i, annotation in enumerate(annotations):\n",
    "    annotation['in_training_data'] = i < holdout_start_index\n",
    "\n",
    "len(train_lines), len(valid_lines)"
   ]
  },
  {
   "cell_type": "code",
   "execution_count": 17,
   "metadata": {},
   "outputs": [
    {
     "name": "stdout",
     "output_type": "stream",
     "text": [
      "Finished writing VW-formatted file.\n"
     ]
    }
   ],
   "source": [
    "# write the formatted lines to a file (after another shuffle)\n",
    "random.shuffle(train_lines)\n",
    "random.shuffle(valid_lines)\n",
    "\n",
    "vw_filename = \"author_journal_text_only.txt\"\n",
    "vw_filepath = os.path.join(vw_working_dir, vw_filename)\n",
    "with open(vw_filepath, 'w', encoding=\"utf-8\") as outfile:\n",
    "    for line in train_lines:\n",
    "        outfile.write(line + \"\\n\")\n",
    "    for line in valid_lines:\n",
    "        outfile.write(line + \"\\n\")\n",
    "holdout_after = len(train_lines)\n",
    "print(\"Finished writing VW-formatted file.\")"
   ]
  },
  {
   "cell_type": "code",
   "execution_count": null,
   "metadata": {},
   "outputs": [],
   "source": [
    "!head -n 1 {vw_filepath}"
   ]
  },
  {
   "cell_type": "markdown",
   "metadata": {},
   "source": [
    "### Train the VW model on the training data"
   ]
  },
  {
   "cell_type": "code",
   "execution_count": 19,
   "metadata": {},
   "outputs": [
    {
     "name": "stdout",
     "output_type": "stream",
     "text": [
      "Training on training set (holdout after 1035 lines).\n",
      "Making predictions.\n",
      "Finished.\n"
     ]
    },
    {
     "name": "stderr",
     "output_type": "stream",
     "text": [
      "Generating 3-grams for all namespaces.\n",
      "using l2 regularization = 1e-06\n",
      "final_regressor = /home/srivbane/shared/caringbridge/data/projects/qual-health-journeys/author_classification/vw/patient_authored.model\n",
      "Num weight bits = 27\n",
      "learning rate = 0.5\n",
      "initial_t = 0\n",
      "power_t = 0.5\n",
      "decay_learning_rate = 1\n",
      "creating cache_file = /home/srivbane/shared/caringbridge/data/projects/qual-health-journeys/author_classification/vw/author_journal_text_only.txt.cache\n",
      "Reading datafile = /home/srivbane/shared/caringbridge/data/projects/qual-health-journeys/author_classification/vw/author_journal_text_only.txt\n",
      "num sources = 1\n",
      "average  since         example        example  current  current  current\n",
      "loss     last          counter         weight    label  predict features\n",
      "1.000000 1.000000            1            1.0   1.0000  -1.0000     1684\n",
      "0.500000 0.000000            2            2.0   1.0000   1.0000     4390\n",
      "0.750000 1.000000            4            4.0   1.0000  -1.0000      910\n",
      "0.625000 0.500000            8            8.0  -1.0000  -1.0000     1927\n",
      "0.562500 0.500000           16           16.0   1.0000   1.0000     1825\n",
      "0.437500 0.312500           32           32.0  -1.0000  -1.0000      553\n",
      "0.312500 0.187500           64           64.0  -1.0000  -1.0000      655\n",
      "0.234375 0.156250          128          128.0   1.0000   1.0000     4507\n",
      "0.199219 0.164062          256          256.0   1.0000   1.0000      481\n",
      "0.169922 0.140625          512          512.0   1.0000   1.0000      985\n",
      "0.142578 0.115234         1024         1024.0   1.0000   1.0000      604\n",
      "0.077220 0.077220         2048         2048.0  -1.0000  -1.0000      739 h\n",
      "0.079794 0.081081         4096         4096.0  -1.0000  -1.0000     1300 h\n",
      "\n",
      "finished run\n",
      "number of examples per pass = 1034\n",
      "passes used = 4\n",
      "weighted example sum = 4136.000000\n",
      "weighted label sum = -144.000000\n",
      "average loss = 0.077220 h\n",
      "best constant = -0.069661\n",
      "best constant's loss = 0.692541\n",
      "total feature number = 4452588\n",
      "\n",
      "\n",
      "Generating 3-grams for all namespaces.\n",
      "only testing\n",
      "predictions = /home/srivbane/shared/caringbridge/data/projects/qual-health-journeys/author_classification/vw/author_journal_text_only.pred\n",
      "raw predictions = /home/srivbane/shared/caringbridge/data/projects/qual-health-journeys/author_classification/vw/author_journal_text_only.pred.raw\n",
      "Num weight bits = 27\n",
      "learning rate = 0.5\n",
      "initial_t = 0\n",
      "power_t = 0.5\n",
      "using no cache\n",
      "Reading datafile = /home/srivbane/shared/caringbridge/data/projects/qual-health-journeys/author_classification/vw/author_journal_text_only.txt\n",
      "num sources = 1\n",
      "average  since         example        example  current  current  current\n",
      "loss     last          counter         weight    label  predict features\n",
      "0.000000 0.000000            1            1.0   1.0000   1.0000     1684\n",
      "0.000000 0.000000            2            2.0   1.0000   1.0000     4390\n",
      "0.000000 0.000000            4            4.0   1.0000   1.0000      910\n",
      "0.000000 0.000000            8            8.0  -1.0000  -1.0000     1927\n",
      "0.000000 0.000000           16           16.0   1.0000   1.0000     1825\n",
      "0.031250 0.062500           32           32.0  -1.0000  -1.0000      553\n",
      "0.015625 0.000000           64           64.0  -1.0000  -1.0000      655\n",
      "0.007812 0.000000          128          128.0   1.0000   1.0000     4507\n",
      "0.003906 0.000000          256          256.0   1.0000   1.0000      481\n",
      "0.001953 0.000000          512          512.0   1.0000   1.0000      985\n",
      "0.000977 0.000000         1024         1024.0   1.0000   1.0000      604\n",
      "\n",
      "finished run\n",
      "number of examples per pass = 1293\n",
      "passes used = 1\n",
      "weighted example sum = 1293.000000\n",
      "weighted label sum = -105.000000\n",
      "average loss = 0.016241\n",
      "best constant = -0.081206\n",
      "best constant's loss = 0.993405\n",
      "total feature number = 1438774\n"
     ]
    }
   ],
   "source": [
    "%%bash -s {vw_working_dir} {vw_filepath} {holdout_after}\n",
    "holdout_after=\"${3}\"\n",
    "echo \"Training on training set (holdout after ${holdout_after} lines).\"\n",
    "train_file=${2}\n",
    "working_dir=${1}\n",
    "model_file=${working_dir}\n",
    "vw --binary -k -c -b 27 -d ${train_file} \\\n",
    "    -f ${working_dir}/patient_authored.model \\\n",
    "    --passes 20 \\\n",
    "    --holdout_after ${holdout_after} \\\n",
    "    --spelling _ \\\n",
    "    --ngram 3 \\\n",
    "    --l2 0.000001 \\\n",
    "    --loss_function logistic\n",
    "\n",
    "# Other options:\n",
    "#    --skips 1 \\\n",
    ">&2 echo\n",
    ">&2 echo\n",
    "\n",
    "echo \"Making predictions.\"\n",
    "vw --binary \\\n",
    "   -t -i ${working_dir}/patient_authored.model \\\n",
    "   -p ${working_dir}/author_journal_text_only.pred \\\n",
    "   -d ${train_file} \\\n",
    "   -r ${working_dir}/author_journal_text_only.pred.raw\n",
    "\n",
    "#echo \"Predicting on test set.\"\n",
    "#vw -t -i data/site_features_multiclass.model -d wd/site_features_multiclass_test.txt -p data/site_features_multiclass_test.pred\n",
    "#echo\n",
    " \n",
    "echo \"Finished.\""
   ]
  },
  {
   "cell_type": "code",
   "execution_count": 20,
   "metadata": {
    "scrolled": true
   },
   "outputs": [
    {
     "name": "stdout",
     "output_type": "stream",
     "text": [
      "1 sid912454joid5470dee0ca16b4c27bb0e9a5\r\n",
      "1 sid999165joid54faf55eaf3d799c34ab808e\r\n",
      "-1 sid837521joid54009962a589b4154824af37\r\n",
      "1 sid1031202joid562b9247cb16b4f264752816\r\n",
      "-1 sid867022joid55b61016ac7ee9534a13386c\r\n"
     ]
    }
   ],
   "source": [
    "!head -n 5 /home/srivbane/shared/caringbridge/data/projects/qual-health-journeys/author_classification/vw/author_journal_text_only.pred"
   ]
  },
  {
   "cell_type": "code",
   "execution_count": 21,
   "metadata": {
    "scrolled": true
   },
   "outputs": [
    {
     "name": "stdout",
     "output_type": "stream",
     "text": [
      "7.854739 sid912454joid5470dee0ca16b4c27bb0e9a5\r\n",
      "10.844439 sid999165joid54faf55eaf3d799c34ab808e\r\n",
      "-8.962088 sid837521joid54009962a589b4154824af37\r\n",
      "4.933350 sid1031202joid562b9247cb16b4f264752816\r\n",
      "-3.771698 sid867022joid55b61016ac7ee9534a13386c\r\n"
     ]
    }
   ],
   "source": [
    "!head -n 5 /home/srivbane/shared/caringbridge/data/projects/qual-health-journeys/author_classification/vw/author_journal_text_only.pred.raw"
   ]
  },
  {
   "cell_type": "markdown",
   "metadata": {},
   "source": [
    "### Load the predictions made by VW on the training/validation data as a Pandas dataframe"
   ]
  },
  {
   "cell_type": "code",
   "execution_count": 22,
   "metadata": {},
   "outputs": [],
   "source": [
    "def get_phase_predictions_with_weights(pred_filepath, raw_pred_filepath):\n",
    "    \n",
    "    with open(pred_filepath, 'r') as infile:\n",
    "        pred_lines = infile.readlines()\n",
    "    with open(raw_pred_filepath, 'r') as infile:\n",
    "        raw_pred_lines = infile.readlines()\n",
    "        \n",
    "    if len(pred_lines) != len(raw_pred_lines):\n",
    "        raise ValueError(\"Expected predicted and raw files to be the same length.\")\n",
    "    \n",
    "    dtype_dict = {\"site_id\": int, \n",
    "                     \"journal_oid\": str,\n",
    "                     \"raw_prob\": float,\n",
    "                     \"prob\": float,\n",
    "                     \"is_patient\": bool,\n",
    "                     \"is_patient_predicted\": bool,\n",
    "                     \"in_training_data\": bool}\n",
    "    columns = list(dtype_dict.keys())\n",
    "    dtype = [dtype_dict[col] for col in columns]\n",
    "    pred_df = pd.DataFrame(index=range(len(pred_lines)), columns=columns)\n",
    "    \n",
    "    index = 0\n",
    "    for pred_line, raw_pred_line in zip(pred_lines, raw_pred_lines):\n",
    "        prediction, journal_id = pred_line.strip().split(\" \")\n",
    "        site_id, journal_oid = journal_id.split(\"joid\")\n",
    "        site_id = int(site_id[3:])\n",
    "        \n",
    "        pred_df.iloc[index][\"site_id\"] = site_id\n",
    "        pred_df.iloc[index][\"journal_oid\"] = journal_oid\n",
    "        pred_df.iloc[index][\"is_patient_predicted\"] = prediction == \"1\"\n",
    "        for annotation in annotations:\n",
    "            if annotation['site_id'] == site_id and annotation['journal_oid'] == journal_oid:\n",
    "                pred_df.iloc[index][\"is_patient\"] = annotation['label'] in [\"p\", \"P\"]\n",
    "                pred_df.iloc[index][\"in_training_data\"] = annotation[\"in_training_data\"]\n",
    "        \n",
    "        raw_prob, raw_journal_id = raw_pred_line.strip().split(\" \")\n",
    "        assert journal_id == raw_journal_id\n",
    "        pred_df.iloc[index][\"raw_prob\"] = float(raw_prob)\n",
    "        # if using a logistic loss function, we can recover the \"probability\" by applying the logistic function\n",
    "        pred_df.iloc[index][\"prob\"] = 1 / (1 + np.exp(-1 * float(raw_prob) ))\n",
    "        \n",
    "        index += 1\n",
    "    return pred_df"
   ]
  },
  {
   "cell_type": "code",
   "execution_count": 23,
   "metadata": {
    "scrolled": true
   },
   "outputs": [
    {
     "name": "stdout",
     "output_type": "stream",
     "text": [
      "site_id                 object\n",
      "journal_oid             object\n",
      "raw_prob                object\n",
      "prob                    object\n",
      "is_patient              object\n",
      "is_patient_predicted    object\n",
      "in_training_data        object\n",
      "dtype: object\n"
     ]
    },
    {
     "data": {
      "text/html": [
       "<div>\n",
       "<style scoped>\n",
       "    .dataframe tbody tr th:only-of-type {\n",
       "        vertical-align: middle;\n",
       "    }\n",
       "\n",
       "    .dataframe tbody tr th {\n",
       "        vertical-align: top;\n",
       "    }\n",
       "\n",
       "    .dataframe thead th {\n",
       "        text-align: right;\n",
       "    }\n",
       "</style>\n",
       "<table border=\"1\" class=\"dataframe\">\n",
       "  <thead>\n",
       "    <tr style=\"text-align: right;\">\n",
       "      <th></th>\n",
       "      <th>site_id</th>\n",
       "      <th>journal_oid</th>\n",
       "      <th>raw_prob</th>\n",
       "      <th>prob</th>\n",
       "      <th>is_patient</th>\n",
       "      <th>is_patient_predicted</th>\n",
       "      <th>in_training_data</th>\n",
       "    </tr>\n",
       "  </thead>\n",
       "  <tbody>\n",
       "    <tr>\n",
       "      <th>0</th>\n",
       "      <td>912454</td>\n",
       "      <td>5470dee0ca16b4c27bb0e9a5</td>\n",
       "      <td>7.85474</td>\n",
       "      <td>0.999612</td>\n",
       "      <td>True</td>\n",
       "      <td>True</td>\n",
       "      <td>True</td>\n",
       "    </tr>\n",
       "    <tr>\n",
       "      <th>1</th>\n",
       "      <td>999165</td>\n",
       "      <td>54faf55eaf3d799c34ab808e</td>\n",
       "      <td>10.8444</td>\n",
       "      <td>0.99998</td>\n",
       "      <td>True</td>\n",
       "      <td>True</td>\n",
       "      <td>True</td>\n",
       "    </tr>\n",
       "    <tr>\n",
       "      <th>2</th>\n",
       "      <td>837521</td>\n",
       "      <td>54009962a589b4154824af37</td>\n",
       "      <td>-8.96209</td>\n",
       "      <td>0.000128162</td>\n",
       "      <td>False</td>\n",
       "      <td>False</td>\n",
       "      <td>True</td>\n",
       "    </tr>\n",
       "    <tr>\n",
       "      <th>3</th>\n",
       "      <td>1031202</td>\n",
       "      <td>562b9247cb16b4f264752816</td>\n",
       "      <td>4.93335</td>\n",
       "      <td>0.992849</td>\n",
       "      <td>True</td>\n",
       "      <td>True</td>\n",
       "      <td>True</td>\n",
       "    </tr>\n",
       "    <tr>\n",
       "      <th>4</th>\n",
       "      <td>867022</td>\n",
       "      <td>55b61016ac7ee9534a13386c</td>\n",
       "      <td>-3.7717</td>\n",
       "      <td>0.0224953</td>\n",
       "      <td>False</td>\n",
       "      <td>False</td>\n",
       "      <td>True</td>\n",
       "    </tr>\n",
       "  </tbody>\n",
       "</table>\n",
       "</div>"
      ],
      "text/plain": [
       "   site_id               journal_oid raw_prob         prob is_patient  \\\n",
       "0   912454  5470dee0ca16b4c27bb0e9a5  7.85474     0.999612       True   \n",
       "1   999165  54faf55eaf3d799c34ab808e  10.8444      0.99998       True   \n",
       "2   837521  54009962a589b4154824af37 -8.96209  0.000128162      False   \n",
       "3  1031202  562b9247cb16b4f264752816  4.93335     0.992849       True   \n",
       "4   867022  55b61016ac7ee9534a13386c  -3.7717    0.0224953      False   \n",
       "\n",
       "  is_patient_predicted in_training_data  \n",
       "0                 True             True  \n",
       "1                 True             True  \n",
       "2                False             True  \n",
       "3                 True             True  \n",
       "4                False             True  "
      ]
     },
     "execution_count": 23,
     "metadata": {},
     "output_type": "execute_result"
    }
   ],
   "source": [
    "pred_df = get_phase_predictions_with_weights(\"/home/srivbane/shared/caringbridge/data/projects/qual-health-journeys/author_classification/vw/author_journal_text_only.pred\",\n",
    "                                  \"/home/srivbane/shared/caringbridge/data/projects/qual-health-journeys/author_classification/vw/author_journal_text_only.pred.raw\")\n",
    "\n",
    "print(pred_df.dtypes)  # datatypes just stay object for now...\n",
    "pred_df.head()"
   ]
  },
  {
   "cell_type": "code",
   "execution_count": 24,
   "metadata": {
    "scrolled": false
   },
   "outputs": [
    {
     "data": {
      "text/html": [
       "<div>\n",
       "<style scoped>\n",
       "    .dataframe tbody tr th:only-of-type {\n",
       "        vertical-align: middle;\n",
       "    }\n",
       "\n",
       "    .dataframe tbody tr th {\n",
       "        vertical-align: top;\n",
       "    }\n",
       "\n",
       "    .dataframe thead th {\n",
       "        text-align: right;\n",
       "    }\n",
       "</style>\n",
       "<table border=\"1\" class=\"dataframe\">\n",
       "  <thead>\n",
       "    <tr style=\"text-align: right;\">\n",
       "      <th></th>\n",
       "      <th>site_id</th>\n",
       "      <th>journal_oid</th>\n",
       "      <th>raw_prob</th>\n",
       "      <th>prob</th>\n",
       "      <th>is_patient</th>\n",
       "      <th>is_patient_predicted</th>\n",
       "      <th>in_training_data</th>\n",
       "      <th>annotation_url</th>\n",
       "    </tr>\n",
       "  </thead>\n",
       "  <tbody>\n",
       "    <tr>\n",
       "      <th>0</th>\n",
       "      <td>912454</td>\n",
       "      <td>5470dee0ca16b4c27bb0e9a5</td>\n",
       "      <td>7.85474</td>\n",
       "      <td>0.999612</td>\n",
       "      <td>True</td>\n",
       "      <td>True</td>\n",
       "      <td>True</td>\n",
       "      <td>&lt;a href=\"http://127.0.0.1:5000/siteId/912454#5470dee0ca16b4c27bb0e9a5\"&gt;http://127.0.0.1:5000/siteId/912454#5470dee0ca16b4c27bb0e9a5&lt;/a&gt;</td>\n",
       "    </tr>\n",
       "  </tbody>\n",
       "</table>\n",
       "</div>"
      ],
      "text/plain": [
       "  site_id               journal_oid raw_prob      prob is_patient  \\\n",
       "0  912454  5470dee0ca16b4c27bb0e9a5  7.85474  0.999612  True        \n",
       "\n",
       "  is_patient_predicted in_training_data  \\\n",
       "0  True                 True              \n",
       "\n",
       "                                                                                                                            annotation_url  \n",
       "0  <a href=\"http://127.0.0.1:5000/siteId/912454#5470dee0ca16b4c27bb0e9a5\">http://127.0.0.1:5000/siteId/912454#5470dee0ca16b4c27bb0e9a5</a>  "
      ]
     },
     "execution_count": 24,
     "metadata": {},
     "output_type": "execute_result"
    }
   ],
   "source": [
    "def get_url(site_id, journal_oid, port=5000):\n",
    "    url = \"http://127.0.0.1:%d/siteId/%d#%s\" % (port, site_id, journal_oid)\n",
    "    return '<a href=\"{}\">{}</a>'.format(url, url)\n",
    "\n",
    "pd.set_option('display.max_colwidth', -1)  # allow the entirety of the url to show by removing column width limits\n",
    "\n",
    "pred_df['annotation_url'] = [get_url(pred_df.iloc[i]['site_id'], pred_df.iloc[i]['journal_oid']) for i in range(len(pred_df))]\n",
    "pred_df.head(n=1)"
   ]
  },
  {
   "cell_type": "markdown",
   "metadata": {},
   "source": [
    "### Pull out the training and validation data and analyze accuracy"
   ]
  },
  {
   "cell_type": "code",
   "execution_count": 25,
   "metadata": {},
   "outputs": [],
   "source": [
    "train_df = pred_df[pred_df[\"in_training_data\"] == True]\n",
    "assert len(train_df) == len(train_lines)"
   ]
  },
  {
   "cell_type": "code",
   "execution_count": 26,
   "metadata": {
    "collapsed": true
   },
   "outputs": [],
   "source": [
    "valid_df = pred_df[pred_df[\"in_training_data\"] == False]\n",
    "assert len(valid_df) == len(valid_lines)"
   ]
  },
  {
   "cell_type": "code",
   "execution_count": 27,
   "metadata": {},
   "outputs": [
    {
     "data": {
      "text/plain": [
       "0.9980676328502416"
      ]
     },
     "execution_count": 27,
     "metadata": {},
     "output_type": "execute_result"
    }
   ],
   "source": [
    "# Train accuracy\n",
    "np.sum(train_df[\"is_patient_predicted\"] == train_df[\"is_patient\"]) / len(train_df)"
   ]
  },
  {
   "cell_type": "code",
   "execution_count": 28,
   "metadata": {},
   "outputs": [
    {
     "data": {
      "text/plain": [
       "0.9263565891472868"
      ]
     },
     "execution_count": 28,
     "metadata": {},
     "output_type": "execute_result"
    }
   ],
   "source": [
    "# Validation accuracy\n",
    "np.sum(valid_df[\"is_patient_predicted\"] == valid_df[\"is_patient\"]) / len(valid_df)"
   ]
  },
  {
   "cell_type": "code",
   "execution_count": 29,
   "metadata": {},
   "outputs": [
    {
     "data": {
      "text/plain": [
       "[(False, 162), (True, 96)]"
      ]
     },
     "execution_count": 29,
     "metadata": {},
     "output_type": "execute_result"
    }
   ],
   "source": [
    "Counter(valid_df[\"is_patient_predicted\"]).most_common()"
   ]
  },
  {
   "cell_type": "code",
   "execution_count": 30,
   "metadata": {
    "scrolled": true
   },
   "outputs": [
    {
     "data": {
      "text/plain": [
       "[(False, 163), (True, 95)]"
      ]
     },
     "execution_count": 30,
     "metadata": {},
     "output_type": "execute_result"
    }
   ],
   "source": [
    "Counter(valid_df[\"is_patient\"]).most_common()"
   ]
  },
  {
   "cell_type": "code",
   "execution_count": 31,
   "metadata": {
    "collapsed": true
   },
   "outputs": [],
   "source": [
    "y_true = [1 if b else 0 for b in valid_df[\"is_patient\"]]\n",
    "y_pred = [1 if b else 0 for b in valid_df[\"is_patient_predicted\"]]"
   ]
  },
  {
   "cell_type": "code",
   "execution_count": 32,
   "metadata": {},
   "outputs": [
    {
     "name": "stdout",
     "output_type": "stream",
     "text": [
      "Classification report:\n",
      "             precision    recall  f1-score   support\n",
      "\n",
      "Non-Patient       0.94      0.94      0.94       163\n",
      "    Patient       0.90      0.91      0.90        95\n",
      "\n",
      "avg / total       0.93      0.93      0.93       258\n",
      "\n"
     ]
    }
   ],
   "source": [
    "from sklearn.metrics import classification_report\n",
    "classes=[\"Non-Patient\", \"Patient\"]\n",
    "\n",
    "print(\"Classification report:\")\n",
    "print(classification_report(y_true, y_pred, target_names=classes))"
   ]
  },
  {
   "cell_type": "code",
   "execution_count": 33,
   "metadata": {},
   "outputs": [
    {
     "data": {
      "image/png": "[encoded data removed]",
      "text/plain": [
       "<Figure size 648x648 with 2 Axes>"
      ]
     },
     "metadata": {},
     "output_type": "display_data"
    },
    {
     "data": {
      "image/png": "[encoded data removed]",
      "text/plain": [
       "<Figure size 648x648 with 2 Axes>"
      ]
     },
     "metadata": {},
     "output_type": "display_data"
    }
   ],
   "source": [
    "%matplotlib inline\n",
    "import itertools\n",
    "import numpy as np\n",
    "import matplotlib.pyplot as plt\n",
    "\n",
    "from sklearn import svm, datasets\n",
    "from sklearn.model_selection import train_test_split\n",
    "from sklearn.metrics import confusion_matrix\n",
    "\n",
    "# vis code borrowed from: http://scikit-learn.org/stable/auto_examples/model_selection/plot_confusion_matrix.html\n",
    "def plot_confusion_matrix(cm, classes,\n",
    "                          normalize=False,\n",
    "                          title='Confusion matrix',\n",
    "                          cmap=plt.cm.Blues, print_cm=False):\n",
    "    \"\"\"\n",
    "    This function prints and plots the confusion matrix.\n",
    "    Normalization can be applied by setting `normalize=True`.\n",
    "    \"\"\"\n",
    "    if normalize:\n",
    "        cm = cm.astype('float') / cm.sum(axis=1)[:, np.newaxis]\n",
    "    if print_cm:\n",
    "        if normalize:\n",
    "            print(\"Normalized confusion matrix\")\n",
    "        else:\n",
    "            print('Confusion matrix, without normalization')\n",
    "        print(cm)\n",
    "\n",
    "    plt.imshow(cm, interpolation='nearest', cmap=cmap)\n",
    "    plt.title(title)\n",
    "    plt.colorbar()\n",
    "    tick_marks = np.arange(len(classes))\n",
    "    plt.xticks(tick_marks, classes, rotation=90)\n",
    "    plt.yticks(tick_marks, classes)\n",
    "\n",
    "    fmt = '.2f' if normalize else 'd'\n",
    "    thresh = cm.max() / 2.\n",
    "    for i, j in itertools.product(range(cm.shape[0]), range(cm.shape[1])):\n",
    "        plt.text(j, i, format(cm[i, j], fmt),\n",
    "                 horizontalalignment=\"center\",\n",
    "                 color=\"white\" if cm[i, j] > thresh else \"black\")\n",
    "\n",
    "    #plt.tight_layout()\n",
    "    plt.ylabel('True label')\n",
    "    plt.xlabel('Predicted label')\n",
    "\n",
    "fig_size = (9,9)\n",
    "\n",
    "# Compute confusion matrix\n",
    "cnf_matrix = confusion_matrix(y_true, y_pred)\n",
    "np.set_printoptions(precision=2)\n",
    "\n",
    "# Plot non-normalized confusion matrix\n",
    "plt.figure(figsize=fig_size)\n",
    "plot_confusion_matrix(cnf_matrix, classes=classes,\n",
    "                      title='Confusion matrix')\n",
    "\n",
    "# Plot normalized confusion matrix\n",
    "plt.figure(figsize=fig_size)\n",
    "plot_confusion_matrix(cnf_matrix, classes=classes, normalize=True,\n",
    "                      title='Normalized confusion matrix')\n",
    "\n",
    "\n",
    "plt.show()"
   ]
  },
  {
   "cell_type": "code",
   "execution_count": 34,
   "metadata": {},
   "outputs": [
    {
     "data": {
      "image/png": "[encoded data removed]",
      "text/plain": [
       "<Figure size 576x576 with 1 Axes>"
      ]
     },
     "metadata": {},
     "output_type": "display_data"
    }
   ],
   "source": [
    "# Plot the distribution of \n",
    "title = \"Distribution of the VW model's predicted probabilities\"\n",
    "fig, ax = pl.subplots(num=title, figsize=(8,8))\n",
    "x = np.array(valid_df['prob'], dtype=float)\n",
    "patches = plt.hist(x, bins=50, range=(0,1), label=\"All validation journals\")\n",
    "\n",
    "# Plot the distribution of specifically the wrongly-classified journal entries\n",
    "x2 = np.array(valid_df[valid_df[\"is_patient\"] != valid_df[\"is_patient_predicted\"]]['prob'], dtype=float)\n",
    "plt.hist(x2, bins=50, range=(0,1), label=\"Wrongly classified journals\")\n",
    "ax.set_title(title)\n",
    "ax.set_xlabel(\"Probability of being patient-authored\")\n",
    "ax.set_ylabel(\"Number of journals\")\n",
    "\n",
    "ax.legend()\n",
    "\n",
    "ax.grid(axis=\"y\", alpha=0.5)\n",
    "plt.show()"
   ]
  },
  {
   "cell_type": "code",
   "execution_count": 35,
   "metadata": {
    "scrolled": false
   },
   "outputs": [
    {
     "data": {
      "text/html": [
       "<table border=\"1\" class=\"dataframe\">\n",
       "  <thead>\n",
       "    <tr style=\"text-align: right;\">\n",
       "      <th></th>\n",
       "      <th>site_id</th>\n",
       "      <th>journal_oid</th>\n",
       "      <th>raw_prob</th>\n",
       "      <th>prob</th>\n",
       "      <th>is_patient</th>\n",
       "      <th>is_patient_predicted</th>\n",
       "      <th>in_training_data</th>\n",
       "      <th>annotation_url</th>\n",
       "    </tr>\n",
       "  </thead>\n",
       "  <tbody>\n",
       "    <tr>\n",
       "      <th>1053</th>\n",
       "      <td>901652</td>\n",
       "      <td>53ed62344db9219d247b4cab</td>\n",
       "      <td>-0.133032</td>\n",
       "      <td>0.466791</td>\n",
       "      <td>True</td>\n",
       "      <td>False</td>\n",
       "      <td>False</td>\n",
       "      <td><a href=\"http://127.0.0.1:5000/siteId/901652#53ed62344db9219d247b4cab\">http://127.0.0.1:5000/siteId/901652#53ed62344db9219d247b4cab</a></td>\n",
       "    </tr>\n",
       "    <tr>\n",
       "      <th>1098</th>\n",
       "      <td>832212</td>\n",
       "      <td>523bdf604db921b54b0a1535</td>\n",
       "      <td>0.174669</td>\n",
       "      <td>0.543557</td>\n",
       "      <td>False</td>\n",
       "      <td>True</td>\n",
       "      <td>False</td>\n",
       "      <td><a href=\"http://127.0.0.1:5000/siteId/832212#523bdf604db921b54b0a1535\">http://127.0.0.1:5000/siteId/832212#523bdf604db921b54b0a1535</a></td>\n",
       "    </tr>\n",
       "    <tr>\n",
       "      <th>1201</th>\n",
       "      <td>1007247</td>\n",
       "      <td>552d8d378b5cd3f41c21e53f</td>\n",
       "      <td>-0.20994</td>\n",
       "      <td>0.447707</td>\n",
       "      <td>True</td>\n",
       "      <td>False</td>\n",
       "      <td>False</td>\n",
       "      <td><a href=\"http://127.0.0.1:5000/siteId/1007247#552d8d378b5cd3f41c21e53f\">http://127.0.0.1:5000/siteId/1007247#552d8d378b5cd3f41c21e53f</a></td>\n",
       "    </tr>\n",
       "    <tr>\n",
       "      <th>1207</th>\n",
       "      <td>832080</td>\n",
       "      <td>55a69c4ba689b41341e02d8c</td>\n",
       "      <td>0.25218</td>\n",
       "      <td>0.562713</td>\n",
       "      <td>False</td>\n",
       "      <td>True</td>\n",
       "      <td>False</td>\n",
       "      <td><a href=\"http://127.0.0.1:5000/siteId/832080#55a69c4ba689b41341e02d8c\">http://127.0.0.1:5000/siteId/832080#55a69c4ba689b41341e02d8c</a></td>\n",
       "    </tr>\n",
       "    <tr>\n",
       "      <th>1077</th>\n",
       "      <td>858245</td>\n",
       "      <td>53063f55ac7ee9ea34cd9dc4</td>\n",
       "      <td>-0.518233</td>\n",
       "      <td>0.373266</td>\n",
       "      <td>True</td>\n",
       "      <td>False</td>\n",
       "      <td>False</td>\n",
       "      <td><a href=\"http://127.0.0.1:5000/siteId/858245#53063f55ac7ee9ea34cd9dc4\">http://127.0.0.1:5000/siteId/858245#53063f55ac7ee9ea34cd9dc4</a></td>\n",
       "    </tr>\n",
       "    <tr>\n",
       "      <th>1156</th>\n",
       "      <td>823361</td>\n",
       "      <td>522be9294db921002b025d0e</td>\n",
       "      <td>0.526603</td>\n",
       "      <td>0.62869</td>\n",
       "      <td>False</td>\n",
       "      <td>True</td>\n",
       "      <td>False</td>\n",
       "      <td><a href=\"http://127.0.0.1:5000/siteId/823361#522be9294db921002b025d0e\">http://127.0.0.1:5000/siteId/823361#522be9294db921002b025d0e</a></td>\n",
       "    </tr>\n",
       "    <tr>\n",
       "      <th>1232</th>\n",
       "      <td>1085583</td>\n",
       "      <td>56e24d52af3d79ae43aa439d</td>\n",
       "      <td>0.76357</td>\n",
       "      <td>0.682128</td>\n",
       "      <td>False</td>\n",
       "      <td>True</td>\n",
       "      <td>False</td>\n",
       "      <td><a href=\"http://127.0.0.1:5000/siteId/1085583#56e24d52af3d79ae43aa439d\">http://127.0.0.1:5000/siteId/1085583#56e24d52af3d79ae43aa439d</a></td>\n",
       "    </tr>\n",
       "    <tr>\n",
       "      <th>1284</th>\n",
       "      <td>833473</td>\n",
       "      <td>528ed8b6ac7ee9e16e88e8df</td>\n",
       "      <td>0.786968</td>\n",
       "      <td>0.68718</td>\n",
       "      <td>False</td>\n",
       "      <td>True</td>\n",
       "      <td>False</td>\n",
       "      <td><a href=\"http://127.0.0.1:5000/siteId/833473#528ed8b6ac7ee9e16e88e8df\">http://127.0.0.1:5000/siteId/833473#528ed8b6ac7ee9e16e88e8df</a></td>\n",
       "    </tr>\n",
       "    <tr>\n",
       "      <th>1197</th>\n",
       "      <td>975141</td>\n",
       "      <td>558b3ebcca16b4da52e4b21f</td>\n",
       "      <td>-0.811403</td>\n",
       "      <td>0.307592</td>\n",
       "      <td>True</td>\n",
       "      <td>False</td>\n",
       "      <td>False</td>\n",
       "      <td><a href=\"http://127.0.0.1:5000/siteId/975141#558b3ebcca16b4da52e4b21f\">http://127.0.0.1:5000/siteId/975141#558b3ebcca16b4da52e4b21f</a></td>\n",
       "    </tr>\n",
       "    <tr>\n",
       "      <th>1043</th>\n",
       "      <td>1024806</td>\n",
       "      <td>55b9e5928b5cd3935433cdcb</td>\n",
       "      <td>-0.824637</td>\n",
       "      <td>0.30478</td>\n",
       "      <td>True</td>\n",
       "      <td>False</td>\n",
       "      <td>False</td>\n",
       "      <td><a href=\"http://127.0.0.1:5000/siteId/1024806#55b9e5928b5cd3935433cdcb\">http://127.0.0.1:5000/siteId/1024806#55b9e5928b5cd3935433cdcb</a></td>\n",
       "    </tr>\n",
       "  </tbody>\n",
       "</table>"
      ],
      "text/plain": [
       "<IPython.core.display.HTML object>"
      ]
     },
     "execution_count": 35,
     "metadata": {},
     "output_type": "execute_result"
    }
   ],
   "source": [
    "# Within the errors, show the least-confident journal posts\n",
    "errors = valid_df[valid_df[\"is_patient\"] != valid_df[\"is_patient_predicted\"]]\n",
    "inds = np.argsort(np.abs(errors['prob'] - 0.5))\n",
    "\n",
    "# Show the n least-confident results that were wrongly classified\n",
    "n = 10\n",
    "toughest_n = errors.iloc[inds[:n]]\n",
    "\n",
    "HTML(toughest_n.to_html(escape=False))"
   ]
  },
  {
   "cell_type": "markdown",
   "metadata": {},
   "source": [
    "### Save the predictions of the model on the training/validation data"
   ]
  },
  {
   "cell_type": "code",
   "execution_count": 36,
   "metadata": {
    "collapsed": true
   },
   "outputs": [],
   "source": [
    "# insert predictions into annotation web client's database\n",
    "def insert_author_predictions(predictions, commit=True):\n",
    "    prediction_type = 'journal_author_type'\n",
    "    try:\n",
    "        db = get_annotation_db()\n",
    "        \n",
    "        for prediction in predictions:\n",
    "            site_id = prediction['site_id']\n",
    "            journal_oid = prediction['journal_oid']\n",
    "            data = prediction['data']\n",
    "            probability = prediction['probability']\n",
    "        \n",
    "            db.execute(\n",
    "                \"\"\"INSERT INTO journalPrediction \n",
    "                (site_id, journal_oid, prediction_type, data, probability) \n",
    "                VALUES (?, ?, ?, ?, ?)\"\"\",\n",
    "                (site_id, journal_oid, prediction_type, data, probability)\n",
    "            )\n",
    "        \n",
    "        \n",
    "        if commit:\n",
    "            db.commit()\n",
    "    finally:\n",
    "        db.close()"
   ]
  },
  {
   "cell_type": "code",
   "execution_count": 37,
   "metadata": {},
   "outputs": [
    {
     "name": "stdout",
     "output_type": "stream",
     "text": [
      "CPU times: user 4 µs, sys: 0 ns, total: 4 µs\n",
      "Wall time: 8.82 µs\n"
     ]
    }
   ],
   "source": [
    "%%time\n",
    "if not skip_prediction_insertion:\n",
    "    predictions = [{'site_id': pred_df.iloc[i]['site_id'],\n",
    "                    'journal_oid': pred_df.iloc[i]['journal_oid'],\n",
    "                    'data': \"Patient\" if pred_df.iloc[i]['is_patient_predicted'] else \"Non-patient\",\n",
    "                    'probability': pred_df.iloc[i]['prob']}\n",
    "                   for i in range(len(pred_df))]\n",
    "    predictions[0]"
   ]
  },
  {
   "cell_type": "code",
   "execution_count": 38,
   "metadata": {
    "collapsed": true
   },
   "outputs": [],
   "source": [
    "if not skip_prediction_insertion:\n",
    "    insert_author_predictions(predictions)"
   ]
  },
  {
   "cell_type": "markdown",
   "metadata": {
    "collapsed": true
   },
   "source": [
    "### Apply the model to unlabeled data\n",
    "\n",
    "First, we'll create a file in VW format from a set of unlabeled sites.\n",
    "\n",
    "Then, we'll apply the model to the file to get predictions.\n",
    "\n",
    "Finally, we'll load in the predictions and analyze the highest and lowest confidence journals to see if there are clear error patterns or if there is a clear bias in the model."
   ]
  },
  {
   "cell_type": "code",
   "execution_count": 39,
   "metadata": {
    "collapsed": true
   },
   "outputs": [],
   "source": [
    "candidate_site_working_dir = \"/home/srivbane/shared/caringbridge/data/projects/qual-health-journeys/identify_candidate_sites\"\n",
    "valid_sites_filename = os.path.join(candidate_site_working_dir, \"valid_classification_sites.txt\")"
   ]
  },
  {
   "cell_type": "code",
   "execution_count": 40,
   "metadata": {},
   "outputs": [
    {
     "data": {
      "text/plain": [
       "58465"
      ]
     },
     "execution_count": 40,
     "metadata": {},
     "output_type": "execute_result"
    }
   ],
   "source": [
    "with open(valid_sites_filename, 'r') as infile:\n",
    "    candidate_site_ids = [int(line.strip()) for line in infile]\n",
    "len(candidate_site_ids)"
   ]
  },
  {
   "cell_type": "code",
   "execution_count": 41,
   "metadata": {},
   "outputs": [
    {
     "data": {
      "text/plain": [
       "[907101, 431442, 138286, 427256, 112639]"
      ]
     },
     "execution_count": 41,
     "metadata": {},
     "output_type": "execute_result"
    }
   ],
   "source": [
    "# randomly select a subset of n sites to predict the labels for\n",
    "random.shuffle(candidate_site_ids)\n",
    "\n",
    "n = 1000\n",
    "candidate_subset = candidate_site_ids[:n]\n",
    "\n",
    "candidate_subset[:5]"
   ]
  },
  {
   "cell_type": "markdown",
   "metadata": {},
   "source": [
    "#### Format the selected sites in VW format"
   ]
  },
  {
   "cell_type": "code",
   "execution_count": 42,
   "metadata": {},
   "outputs": [
    {
     "data": {
      "text/plain": [
       "0"
      ]
     },
     "execution_count": 42,
     "metadata": {},
     "output_type": "execute_result"
    }
   ],
   "source": [
    "unlabeled_vw_test_filepath = os.path.join(vw_working_dir, \"unlabeled_candidate_sites.txt\")\n",
    "\n",
    "# only create the file if it doesn't exist\n",
    "lines_written = 0\n",
    "if not os.path.exists(unlabeled_vw_test_filepath):\n",
    "    with open(unlabeled_vw_test_filepath, 'w', encoding=\"utf-8\") as outfile:\n",
    "        for site_id in tqdm(candidate_subset):\n",
    "            body_list = get_journal_texts(site_id)\n",
    "            for body in body_list:\n",
    "                journal_oid = body['journal_oid']\n",
    "                body_text = body['body']\n",
    "                if len(body_text) < 50:\n",
    "                    continue\n",
    "                cleaned_body = get_cleaned_text(body_text)\n",
    "\n",
    "                identifier = \"sid%djoid%s\" % (site_id, journal_oid)\n",
    "                formatted_journal = identifier + \"|J \" + cleaned_body\n",
    "\n",
    "                outfile.write(formatted_journal + \"\\n\")\n",
    "                lines_written += 1\n",
    "\n",
    "lines_written"
   ]
  },
  {
   "cell_type": "code",
   "execution_count": 43,
   "metadata": {},
   "outputs": [
    {
     "name": "stdout",
     "output_type": "stream",
     "text": [
      "sid104744joid51be13876ca0045c3300ba02|J the first day of the new year ! clint , kylie , & jordan are putting away the christmas lights on the house , and kamryn is napping . i have some quiet time right now ! 2009 is going to be a great year - we are very optimistic that my cancer is going to be short lived and we will be back to our normal , busy lives soon .\r\n"
     ]
    }
   ],
   "source": [
    "!head -n 1 {unlabeled_vw_test_filepath}"
   ]
  },
  {
   "cell_type": "markdown",
   "metadata": {},
   "source": [
    "#### Apply the VW model to the file"
   ]
  },
  {
   "cell_type": "code",
   "execution_count": 44,
   "metadata": {},
   "outputs": [
    {
     "name": "stdout",
     "output_type": "stream",
     "text": [
      "Making predictions on test file.\n",
      "Finished.\n"
     ]
    },
    {
     "name": "stderr",
     "output_type": "stream",
     "text": [
      "Generating 3-grams for all namespaces.\n",
      "only testing\n",
      "predictions = /home/srivbane/shared/caringbridge/data/projects/qual-health-journeys/author_classification/vw/unlabeled_text_only.pred\n",
      "raw predictions = /home/srivbane/shared/caringbridge/data/projects/qual-health-journeys/author_classification/vw/unlabeled_text_only.pred.raw\n",
      "Num weight bits = 27\n",
      "learning rate = 0.5\n",
      "initial_t = 0\n",
      "power_t = 0.5\n",
      "using no cache\n",
      "Reading datafile = /home/srivbane/shared/caringbridge/data/projects/qual-health-journeys/author_classification/vw/unlabeled_candidate_sites.txt\n",
      "num sources = 1\n",
      "average  since         example        example  current  current  current\n",
      "loss     last          counter         weight    label  predict features\n",
      "    n.a.     n.a.            1            1.0  unknown   1.0000      214\n",
      "    n.a.     n.a.            2            2.0  unknown  -1.0000     1000\n",
      "    n.a.     n.a.            4            4.0  unknown  -1.0000      709\n",
      "    n.a.     n.a.            8            8.0  unknown  -1.0000      364\n",
      "    n.a.     n.a.           16           16.0  unknown  -1.0000      256\n",
      "    n.a.     n.a.           32           32.0  unknown   1.0000      538\n",
      "    n.a.     n.a.           64           64.0  unknown  -1.0000      466\n",
      "    n.a.     n.a.          128          128.0  unknown  -1.0000     1198\n",
      "    n.a.     n.a.          256          256.0  unknown   1.0000      859\n",
      "    n.a.     n.a.          512          512.0  unknown  -1.0000      358\n",
      "    n.a.     n.a.         1024         1024.0  unknown  -1.0000      895\n",
      "    n.a.     n.a.         2048         2048.0  unknown  -1.0000     2551\n",
      "    n.a.     n.a.         4096         4096.0  unknown  -1.0000      517\n",
      "    n.a.     n.a.         8192         8192.0  unknown   1.0000     2092\n",
      "    n.a.     n.a.        16384        16384.0  unknown  -1.0000      982\n",
      "    n.a.     n.a.        32768        32768.0  unknown   1.0000     2308\n",
      "    n.a.     n.a.        65536        65536.0  unknown   1.0000      934\n",
      "    n.a.     n.a.       131072       131072.0  unknown  -1.0000      697\n",
      "    n.a.     n.a.       262144       262144.0  unknown  -1.0000      586\n",
      "    n.a.     n.a.       524288       524288.0  unknown  -1.0000      508\n",
      "    n.a.     n.a.      1048576      1048576.0  unknown   1.0000      427\n",
      "    n.a.     n.a.      2097152      2097152.0  unknown   1.0000      538\n",
      "\n",
      "finished run\n",
      "number of examples per pass = 3055988\n",
      "passes used = 1\n",
      "weighted example sum = 3055988.000000\n",
      "weighted label sum = 0.000000\n",
      "average loss = n.a.\n",
      "total feature number = 2602826905\n"
     ]
    }
   ],
   "source": [
    "%%bash -s {vw_working_dir} {unlabeled_vw_test_filepath}\n",
    "working_dir=${1}\n",
    "unlabeled_vw_test_filepath=${2}\n",
    "\n",
    "echo \"Making predictions on test file.\"\n",
    "vw --binary \\\n",
    "   -t -i ${working_dir}/patient_authored.model \\\n",
    "   -p ${working_dir}/unlabeled_text_only.pred \\\n",
    "   -r ${working_dir}/unlabeled_text_only.pred.raw \\\n",
    "   -d ${unlabeled_vw_test_filepath}\n",
    " \n",
    "echo \"Finished.\""
   ]
  },
  {
   "cell_type": "code",
   "execution_count": 45,
   "metadata": {},
   "outputs": [],
   "source": [
    "raw_predictions_filepath = os.path.join(vw_working_dir, \"unlabeled_text_only.pred.raw\")\n",
    "assert os.path.exists(raw_predictions_filepath)"
   ]
  },
  {
   "cell_type": "code",
   "execution_count": 46,
   "metadata": {},
   "outputs": [
    {
     "name": "stdout",
     "output_type": "stream",
     "text": [
      "0.010806 sid104744joid51be13876ca0045c3300ba02\r\n",
      "-5.685698 sid104723joid51be13876ca0045c3300bc8c\r\n",
      "0.465668 sid104744joid51be13876ca0045c3300bc58\r\n",
      "-4.489876 sid104723joid51be13876ca0045c3300bc92\r\n",
      "2.842346 sid104744joid51be13876ca0045c3300be44\r\n",
      "1.040100 sid104744joid51be13876ca0045c3300be7e\r\n",
      "-0.565095 sid104745joid51be13876ca0045c3300ba7a\r\n",
      "-1.910431 sid104748joid51be13876ca0045c3300bc7e\r\n",
      "0.129856 sid104744joid51be13876ca0045c3300bed8\r\n",
      "-6.740276 sid104723joid51be13876ca0045c3300bce4\r\n"
     ]
    }
   ],
   "source": [
    "!head {raw_predictions_filepath}"
   ]
  },
  {
   "cell_type": "markdown",
   "metadata": {},
   "source": [
    "#### Load the predictions into Python"
   ]
  },
  {
   "cell_type": "code",
   "execution_count": 47,
   "metadata": {},
   "outputs": [],
   "source": [
    "def get_author_predictions(raw_predictions_filepath):\n",
    "    \n",
    "    with open(raw_predictions_filepath, 'r') as infile:\n",
    "        pred_lines = infile.readlines()\n",
    "    \n",
    "    dtype_dict = {\"site_id\": int, \n",
    "                     \"journal_oid\": str,\n",
    "                     \"prob\": float,\n",
    "                     \"is_patient\": bool}\n",
    "    columns = list(dtype_dict.keys())\n",
    "    dtype = [dtype_dict[col] for col in columns]\n",
    "    pred_df = pd.DataFrame(index=range(len(pred_lines)), columns=columns)\n",
    "    \n",
    "    site_id_list = []\n",
    "    journal_oid_list = []\n",
    "    prob_list = []\n",
    "    is_patient_list = []\n",
    "    url_list = []\n",
    "    index = 0\n",
    "    for pred_line in tqdm(pred_lines):\n",
    "        raw_prob, journal_id = pred_line.strip().split(\" \")\n",
    "        site_id, journal_oid = journal_id.split(\"joid\")\n",
    "        site_id = int(site_id[3:])\n",
    "        \n",
    "        # probability is computed assuming a logistic loss function\n",
    "        # if we change the model to use a different loss, this won't work anymore!\n",
    "        prob = 1 / (1 + np.exp(-1 * float(raw_prob) ))\n",
    "        assert prob >= 0 and prob <= 1\n",
    "        is_patient = prob >= 0.5\n",
    "        \n",
    "        url = get_url(site_id, journal_oid)\n",
    "        \n",
    "        site_id_list.append(site_id)\n",
    "        journal_oid_list.append(journal_oid)\n",
    "        prob_list.append(prob)\n",
    "        is_patient_list.append(is_patient)\n",
    "        url_list.append(url)\n",
    "        \n",
    "        #pred_df.iloc[index][\"site_id\"] = site_id\n",
    "        #pred_df.iloc[index][\"journal_oid\"] = journal_oid\n",
    "        #pred_df.iloc[index][\"is_patient\"] = is_patient\n",
    "        #pred_df.iloc[index][\"raw_prob\"] = float(raw_prob)\n",
    "        #pred_df.iloc[index][\"prob\"] = prob\n",
    "        \n",
    "        index += 1\n",
    "    \n",
    "    pred_df['site_id'] = site_id_list\n",
    "    pred_df['journal_oid'] = journal_oid_list\n",
    "    pred_df['prob'] = prob_list\n",
    "    pred_df['is_patient'] = is_patient_list\n",
    "    pred_df['annotation_url'] = url_list\n",
    "    return pred_df"
   ]
  },
  {
   "cell_type": "code",
   "execution_count": 48,
   "metadata": {},
   "outputs": [
    {
     "name": "stderr",
     "output_type": "stream",
     "text": [
      "100%|██████████| 3055988/3055988 [00:29<00:00, 104129.49it/s]\n"
     ]
    },
    {
     "name": "stdout",
     "output_type": "stream",
     "text": [
      "CPU times: user 32.4 s, sys: 1.79 s, total: 34.2 s\n",
      "Wall time: 34.2 s\n"
     ]
    }
   ],
   "source": [
    "%%time\n",
    "unlabeled_df = get_author_predictions(raw_predictions_filepath)\n",
    "len(unlabeled_df)"
   ]
  },
  {
   "cell_type": "code",
   "execution_count": 49,
   "metadata": {
    "scrolled": false
   },
   "outputs": [
    {
     "data": {
      "text/html": [
       "<div>\n",
       "<style scoped>\n",
       "    .dataframe tbody tr th:only-of-type {\n",
       "        vertical-align: middle;\n",
       "    }\n",
       "\n",
       "    .dataframe tbody tr th {\n",
       "        vertical-align: top;\n",
       "    }\n",
       "\n",
       "    .dataframe thead th {\n",
       "        text-align: right;\n",
       "    }\n",
       "</style>\n",
       "<table border=\"1\" class=\"dataframe\">\n",
       "  <thead>\n",
       "    <tr style=\"text-align: right;\">\n",
       "      <th></th>\n",
       "      <th>site_id</th>\n",
       "      <th>journal_oid</th>\n",
       "      <th>prob</th>\n",
       "      <th>is_patient</th>\n",
       "      <th>annotation_url</th>\n",
       "    </tr>\n",
       "  </thead>\n",
       "  <tbody>\n",
       "    <tr>\n",
       "      <th>0</th>\n",
       "      <td>104744</td>\n",
       "      <td>51be13876ca0045c3300ba02</td>\n",
       "      <td>0.502701</td>\n",
       "      <td>True</td>\n",
       "      <td>&lt;a href=\"http://127.0.0.1:5000/siteId/104744#51be13876ca0045c3300ba02\"&gt;http://127.0.0.1:5000/siteId/104744#51be13876ca0045c3300ba02&lt;/a&gt;</td>\n",
       "    </tr>\n",
       "    <tr>\n",
       "      <th>1</th>\n",
       "      <td>104723</td>\n",
       "      <td>51be13876ca0045c3300bc8c</td>\n",
       "      <td>0.003383</td>\n",
       "      <td>False</td>\n",
       "      <td>&lt;a href=\"http://127.0.0.1:5000/siteId/104723#51be13876ca0045c3300bc8c\"&gt;http://127.0.0.1:5000/siteId/104723#51be13876ca0045c3300bc8c&lt;/a&gt;</td>\n",
       "    </tr>\n",
       "    <tr>\n",
       "      <th>2</th>\n",
       "      <td>104744</td>\n",
       "      <td>51be13876ca0045c3300bc58</td>\n",
       "      <td>0.614358</td>\n",
       "      <td>True</td>\n",
       "      <td>&lt;a href=\"http://127.0.0.1:5000/siteId/104744#51be13876ca0045c3300bc58\"&gt;http://127.0.0.1:5000/siteId/104744#51be13876ca0045c3300bc58&lt;/a&gt;</td>\n",
       "    </tr>\n",
       "    <tr>\n",
       "      <th>3</th>\n",
       "      <td>104723</td>\n",
       "      <td>51be13876ca0045c3300bc92</td>\n",
       "      <td>0.011097</td>\n",
       "      <td>False</td>\n",
       "      <td>&lt;a href=\"http://127.0.0.1:5000/siteId/104723#51be13876ca0045c3300bc92\"&gt;http://127.0.0.1:5000/siteId/104723#51be13876ca0045c3300bc92&lt;/a&gt;</td>\n",
       "    </tr>\n",
       "    <tr>\n",
       "      <th>4</th>\n",
       "      <td>104744</td>\n",
       "      <td>51be13876ca0045c3300be44</td>\n",
       "      <td>0.944922</td>\n",
       "      <td>True</td>\n",
       "      <td>&lt;a href=\"http://127.0.0.1:5000/siteId/104744#51be13876ca0045c3300be44\"&gt;http://127.0.0.1:5000/siteId/104744#51be13876ca0045c3300be44&lt;/a&gt;</td>\n",
       "    </tr>\n",
       "  </tbody>\n",
       "</table>\n",
       "</div>"
      ],
      "text/plain": [
       "   site_id               journal_oid      prob  is_patient  \\\n",
       "0  104744   51be13876ca0045c3300ba02  0.502701  True         \n",
       "1  104723   51be13876ca0045c3300bc8c  0.003383  False        \n",
       "2  104744   51be13876ca0045c3300bc58  0.614358  True         \n",
       "3  104723   51be13876ca0045c3300bc92  0.011097  False        \n",
       "4  104744   51be13876ca0045c3300be44  0.944922  True         \n",
       "\n",
       "                                                                                                                            annotation_url  \n",
       "0  <a href=\"http://127.0.0.1:5000/siteId/104744#51be13876ca0045c3300ba02\">http://127.0.0.1:5000/siteId/104744#51be13876ca0045c3300ba02</a>  \n",
       "1  <a href=\"http://127.0.0.1:5000/siteId/104723#51be13876ca0045c3300bc8c\">http://127.0.0.1:5000/siteId/104723#51be13876ca0045c3300bc8c</a>  \n",
       "2  <a href=\"http://127.0.0.1:5000/siteId/104744#51be13876ca0045c3300bc58\">http://127.0.0.1:5000/siteId/104744#51be13876ca0045c3300bc58</a>  \n",
       "3  <a href=\"http://127.0.0.1:5000/siteId/104723#51be13876ca0045c3300bc92\">http://127.0.0.1:5000/siteId/104723#51be13876ca0045c3300bc92</a>  \n",
       "4  <a href=\"http://127.0.0.1:5000/siteId/104744#51be13876ca0045c3300be44\">http://127.0.0.1:5000/siteId/104744#51be13876ca0045c3300be44</a>  "
      ]
     },
     "execution_count": 49,
     "metadata": {},
     "output_type": "execute_result"
    }
   ],
   "source": [
    "unlabeled_df.head()"
   ]
  },
  {
   "cell_type": "markdown",
   "metadata": {},
   "source": [
    "#### Write the assigned predictions to the annotation database"
   ]
  },
  {
   "cell_type": "code",
   "execution_count": 50,
   "metadata": {},
   "outputs": [
    {
     "name": "stdout",
     "output_type": "stream",
     "text": [
      "CPU times: user 5 µs, sys: 0 ns, total: 5 µs\n",
      "Wall time: 8.58 µs\n"
     ]
    }
   ],
   "source": [
    "%%time\n",
    "# we have to do some tedious nonsense here to avoid dealing with how slow pandas indexing is\n",
    "if not skip_prediction_insertion:\n",
    "    site_id_list = unlabeled_df['site_id'].tolist()\n",
    "    journal_oid_list = unlabeled_df['journal_oid'].tolist()\n",
    "    prob_list = unlabeled_df['prob'].tolist()\n",
    "    is_patient_list = unlabeled_df['is_patient'].tolist()\n",
    "    predictions = [{'site_id': site_id, \n",
    "                    'journal_oid': journal_oid,\n",
    "                    'data': \"Patient\" if is_patient else \"Non-patient\",\n",
    "                    'probability': prob} \n",
    "                   for site_id, journal_oid, is_patient, prob\n",
    "                   in zip(site_id_list, journal_oid_list, is_patient_list, prob_list)]\n",
    "    del site_id_list, journal_oid_list, is_patient_list, prob_list\n",
    "    predictions[0], len(predictions)"
   ]
  },
  {
   "cell_type": "code",
   "execution_count": 51,
   "metadata": {
    "scrolled": true
   },
   "outputs": [
    {
     "name": "stdout",
     "output_type": "stream",
     "text": [
      "CPU times: user 3 µs, sys: 0 ns, total: 3 µs\n",
      "Wall time: 7.63 µs\n"
     ]
    }
   ],
   "source": [
    "%%time\n",
    "if not skip_prediction_insertion:\n",
    "    insert_author_predictions(predictions)"
   ]
  },
  {
   "cell_type": "code",
   "execution_count": 52,
   "metadata": {
    "collapsed": true
   },
   "outputs": [],
   "source": [
    "# these are redundant with the df, and may take up quite a lot of memory, so delete them\n",
    "if not skip_prediction_insertion:\n",
    "    del predictions"
   ]
  },
  {
   "cell_type": "markdown",
   "metadata": {},
   "source": [
    "#### Analyze the predictions produced by the model on the unlabeled sites\n",
    "\n",
    "We look at the general distribution of the probabilities and look at the journals about which the classifier is least certain.\n",
    "\n",
    "We then look at the distribution of patient posts within a site."
   ]
  },
  {
   "cell_type": "code",
   "execution_count": 53,
   "metadata": {},
   "outputs": [
    {
     "data": {
      "text/plain": [
       "[(False, 1795892), (True, 1260096)]"
      ]
     },
     "execution_count": 53,
     "metadata": {},
     "output_type": "execute_result"
    }
   ],
   "source": [
    "Counter(unlabeled_df['is_patient']).most_common()"
   ]
  },
  {
   "cell_type": "code",
   "execution_count": 54,
   "metadata": {},
   "outputs": [
    {
     "data": {
      "image/png": "[encoded data removed]",
      "text/plain": [
       "<Figure size 576x576 with 1 Axes>"
      ]
     },
     "metadata": {},
     "output_type": "display_data"
    }
   ],
   "source": [
    "# Plot the distribution of unlabeled journal predicted probabilities\n",
    "title = \"Distribution of predicted probabilities on unlabeled sites\"\n",
    "fig, ax = pl.subplots(num=title, figsize=(8,8))\n",
    "x = np.array(unlabeled_df['prob'], dtype=float)\n",
    "patches = plt.hist(x, bins=50, range=(0,1), label=\"Unlabeled candidate sites\")\n",
    "\n",
    "ax.set_title(title)\n",
    "ax.set_xlabel(\"Probability of being patient-authored\")\n",
    "ax.set_ylabel(\"Number of journals\")\n",
    "\n",
    "ax.legend()\n",
    "\n",
    "ax.grid(axis=\"y\", alpha=0.5)\n",
    "plt.show()"
   ]
  },
  {
   "cell_type": "code",
   "execution_count": 55,
   "metadata": {},
   "outputs": [],
   "source": [
    "# Within the errors, compute the least-confident journal posts (those with probability closest to 0.5)\n",
    "inds = np.argsort(np.abs(unlabeled_df['prob'] - 0.5))"
   ]
  },
  {
   "cell_type": "code",
   "execution_count": 56,
   "metadata": {},
   "outputs": [
    {
     "data": {
      "text/html": [
       "<table border=\"1\" class=\"dataframe\">\n",
       "  <thead>\n",
       "    <tr style=\"text-align: right;\">\n",
       "      <th></th>\n",
       "      <th>site_id</th>\n",
       "      <th>journal_oid</th>\n",
       "      <th>prob</th>\n",
       "      <th>is_patient</th>\n",
       "      <th>annotation_url</th>\n",
       "    </tr>\n",
       "  </thead>\n",
       "  <tbody>\n",
       "    <tr>\n",
       "      <th>1100408</th>\n",
       "      <td>190877</td>\n",
       "      <td>51be29e96ca004487a007bd0</td>\n",
       "      <td>0.500000</td>\n",
       "      <td>True</td>\n",
       "      <td><a href=\"http://127.0.0.1:5000/siteId/190877#51be29e96ca004487a007bd0\">http://127.0.0.1:5000/siteId/190877#51be29e96ca004487a007bd0</a></td>\n",
       "    </tr>\n",
       "    <tr>\n",
       "      <th>896765</th>\n",
       "      <td>180789</td>\n",
       "      <td>51bf38686ca004e77811587c</td>\n",
       "      <td>0.500000</td>\n",
       "      <td>True</td>\n",
       "      <td><a href=\"http://127.0.0.1:5000/siteId/180789#51bf38686ca004e77811587c\">http://127.0.0.1:5000/siteId/180789#51bf38686ca004e77811587c</a></td>\n",
       "    </tr>\n",
       "    <tr>\n",
       "      <th>1514884</th>\n",
       "      <td>211597</td>\n",
       "      <td>51be2f106ca004200c01278c</td>\n",
       "      <td>0.500000</td>\n",
       "      <td>True</td>\n",
       "      <td><a href=\"http://127.0.0.1:5000/siteId/211597#51be2f106ca004200c01278c\">http://127.0.0.1:5000/siteId/211597#51be2f106ca004200c01278c</a></td>\n",
       "    </tr>\n",
       "    <tr>\n",
       "      <th>2809056</th>\n",
       "      <td>907882</td>\n",
       "      <td>544446e14db921cd51426502</td>\n",
       "      <td>0.500000</td>\n",
       "      <td>False</td>\n",
       "      <td><a href=\"http://127.0.0.1:5000/siteId/907882#544446e14db921cd51426502\">http://127.0.0.1:5000/siteId/907882#544446e14db921cd51426502</a></td>\n",
       "    </tr>\n",
       "    <tr>\n",
       "      <th>1286027</th>\n",
       "      <td>200024</td>\n",
       "      <td>51be2c296ca004a90200a919</td>\n",
       "      <td>0.500001</td>\n",
       "      <td>True</td>\n",
       "      <td><a href=\"http://127.0.0.1:5000/siteId/200024#51be2c296ca004a90200a919\">http://127.0.0.1:5000/siteId/200024#51be2c296ca004a90200a919</a></td>\n",
       "    </tr>\n",
       "    <tr>\n",
       "      <th>2303548</th>\n",
       "      <td>573549</td>\n",
       "      <td>51be5b866ca0045e21003353</td>\n",
       "      <td>0.499999</td>\n",
       "      <td>False</td>\n",
       "      <td><a href=\"http://127.0.0.1:5000/siteId/573549#51be5b866ca0045e21003353\">http://127.0.0.1:5000/siteId/573549#51be5b866ca0045e21003353</a></td>\n",
       "    </tr>\n",
       "    <tr>\n",
       "      <th>2513351</th>\n",
       "      <td>623145</td>\n",
       "      <td>51be87136ca0040e28001748</td>\n",
       "      <td>0.500001</td>\n",
       "      <td>True</td>\n",
       "      <td><a href=\"http://127.0.0.1:5000/siteId/623145#51be87136ca0040e28001748\">http://127.0.0.1:5000/siteId/623145#51be87136ca0040e28001748</a></td>\n",
       "    </tr>\n",
       "    <tr>\n",
       "      <th>843965</th>\n",
       "      <td>176398</td>\n",
       "      <td>51be26bf6ca004007000e751</td>\n",
       "      <td>0.499998</td>\n",
       "      <td>False</td>\n",
       "      <td><a href=\"http://127.0.0.1:5000/siteId/176398#51be26bf6ca004007000e751\">http://127.0.0.1:5000/siteId/176398#51be26bf6ca004007000e751</a></td>\n",
       "    </tr>\n",
       "    <tr>\n",
       "      <th>848549</th>\n",
       "      <td>176398</td>\n",
       "      <td>51bf38736ca004e77811eb48</td>\n",
       "      <td>0.499998</td>\n",
       "      <td>False</td>\n",
       "      <td><a href=\"http://127.0.0.1:5000/siteId/176398#51bf38736ca004e77811eb48\">http://127.0.0.1:5000/siteId/176398#51bf38736ca004e77811eb48</a></td>\n",
       "    </tr>\n",
       "    <tr>\n",
       "      <th>2842933</th>\n",
       "      <td>910321</td>\n",
       "      <td>54cae85bab28b9e44fb994e3</td>\n",
       "      <td>0.499998</td>\n",
       "      <td>False</td>\n",
       "      <td><a href=\"http://127.0.0.1:5000/siteId/910321#54cae85bab28b9e44fb994e3\">http://127.0.0.1:5000/siteId/910321#54cae85bab28b9e44fb994e3</a></td>\n",
       "    </tr>\n",
       "    <tr>\n",
       "      <th>1324305</th>\n",
       "      <td>321096</td>\n",
       "      <td>51be402f6ca004bb430054fa</td>\n",
       "      <td>0.500002</td>\n",
       "      <td>True</td>\n",
       "      <td><a href=\"http://127.0.0.1:5000/siteId/321096#51be402f6ca004bb430054fa\">http://127.0.0.1:5000/siteId/321096#51be402f6ca004bb430054fa</a></td>\n",
       "    </tr>\n",
       "    <tr>\n",
       "      <th>1793444</th>\n",
       "      <td>434008</td>\n",
       "      <td>523c77abab28b960721e810d</td>\n",
       "      <td>0.500002</td>\n",
       "      <td>True</td>\n",
       "      <td><a href=\"http://127.0.0.1:5000/siteId/434008#523c77abab28b960721e810d\">http://127.0.0.1:5000/siteId/434008#523c77abab28b960721e810d</a></td>\n",
       "    </tr>\n",
       "    <tr>\n",
       "      <th>369387</th>\n",
       "      <td>144465</td>\n",
       "      <td>51be1e716ca0047f55013325</td>\n",
       "      <td>0.500002</td>\n",
       "      <td>True</td>\n",
       "      <td><a href=\"http://127.0.0.1:5000/siteId/144465#51be1e716ca0047f55013325\">http://127.0.0.1:5000/siteId/144465#51be1e716ca0047f55013325</a></td>\n",
       "    </tr>\n",
       "    <tr>\n",
       "      <th>447217</th>\n",
       "      <td>151409</td>\n",
       "      <td>51be206c6ca004d65b00cbdb</td>\n",
       "      <td>0.500002</td>\n",
       "      <td>True</td>\n",
       "      <td><a href=\"http://127.0.0.1:5000/siteId/151409#51be206c6ca004d65b00cbdb\">http://127.0.0.1:5000/siteId/151409#51be206c6ca004d65b00cbdb</a></td>\n",
       "    </tr>\n",
       "    <tr>\n",
       "      <th>217625</th>\n",
       "      <td>131404</td>\n",
       "      <td>51be1a8a6ca004644900de02</td>\n",
       "      <td>0.499998</td>\n",
       "      <td>False</td>\n",
       "      <td><a href=\"http://127.0.0.1:5000/siteId/131404#51be1a8a6ca004644900de02\">http://127.0.0.1:5000/siteId/131404#51be1a8a6ca004644900de02</a></td>\n",
       "    </tr>\n",
       "    <tr>\n",
       "      <th>67366</th>\n",
       "      <td>115064</td>\n",
       "      <td>51be164c6ca004163c00b99b</td>\n",
       "      <td>0.499997</td>\n",
       "      <td>False</td>\n",
       "      <td><a href=\"http://127.0.0.1:5000/siteId/115064#51be164c6ca004163c00b99b\">http://127.0.0.1:5000/siteId/115064#51be164c6ca004163c00b99b</a></td>\n",
       "    </tr>\n",
       "  </tbody>\n",
       "</table>"
      ],
      "text/plain": [
       "<IPython.core.display.HTML object>"
      ]
     },
     "execution_count": 56,
     "metadata": {},
     "output_type": "execute_result"
    }
   ],
   "source": [
    "# Show the n least-confident results in a dataframe\n",
    "n = 16\n",
    "toughest_n = unlabeled_df.iloc[inds[:n]]\n",
    "\n",
    "HTML(toughest_n.to_html(escape=False))"
   ]
  },
  {
   "cell_type": "code",
   "execution_count": 57,
   "metadata": {},
   "outputs": [
    {
     "name": "stdout",
     "output_type": "stream",
     "text": [
      "Identified 1260096 total journals as patient-authored.\n"
     ]
    },
    {
     "data": {
      "text/plain": [
       "58462"
      ]
     },
     "execution_count": 57,
     "metadata": {},
     "output_type": "execute_result"
    }
   ],
   "source": [
    "patient_proportions_dict = {}\n",
    "total_patient_journals = 0\n",
    "for site_id, group in unlabeled_df.groupby(by=\"site_id\"):\n",
    "    patient_journals = np.count_nonzero(group['is_patient'])\n",
    "    total_patient_journals += patient_journals\n",
    "    \n",
    "    num_journals = len(group)\n",
    "    \n",
    "    patient_proportion = patient_journals / num_journals\n",
    "    patient_proportions_dict[site_id] = patient_proportion\n",
    "print(\"Identified %d total journals as patient-authored.\" % total_patient_journals)\n",
    "len(patient_proportions_dict)"
   ]
  },
  {
   "cell_type": "code",
   "execution_count": 69,
   "metadata": {},
   "outputs": [
    {
     "name": "stdout",
     "output_type": "stream",
     "text": [
      "Finished.\n"
     ]
    }
   ],
   "source": [
    "# Write out the site proportions data to a CSV file\n",
    "site_proportions_filepath = os.path.join(general_working_dir, \"site_proportions.csv\")\n",
    "with open(site_proportions_filepath, 'w') as outfile:\n",
    "    outfile.write(\"site_id,proportion_patient_authored\\n\")\n",
    "    for site_id in patient_proportions_dict:\n",
    "        proportion_patient_authored = patient_proportions_dict[site_id]\n",
    "        outfile.write(\"{},{}\\n\".format(site_id, proportion_patient_authored))\n",
    "print(\"Finished.\")"
   ]
  },
  {
   "cell_type": "code",
   "execution_count": 58,
   "metadata": {},
   "outputs": [
    {
     "data": {
      "text/plain": [
       "[('Mostly non-patient', 34873), ('Mostly patient', 23589)]"
      ]
     },
     "execution_count": 58,
     "metadata": {},
     "output_type": "execute_result"
    }
   ],
   "source": [
    "Counter([\"Mostly patient\" if p > 0.5 else \"Mostly non-patient\" for p in patient_proportions_dict.values()]).most_common()"
   ]
  },
  {
   "cell_type": "code",
   "execution_count": 59,
   "metadata": {},
   "outputs": [
    {
     "data": {
      "text/plain": [
       "0.40349286716157506"
      ]
     },
     "execution_count": 59,
     "metadata": {},
     "output_type": "execute_result"
    }
   ],
   "source": [
    "# percent that are mostly patient-authored\n",
    "np.sum([1 if p > 0.5 else 0 for p in patient_proportions_dict.values()]) / len(patient_proportions_dict)"
   ]
  },
  {
   "cell_type": "code",
   "execution_count": 60,
   "metadata": {
    "scrolled": false
   },
   "outputs": [
    {
     "data": {
      "image/png": "[encoded data removed]",
      "text/plain": [
       "<Figure size 576x576 with 1 Axes>"
      ]
     },
     "metadata": {},
     "output_type": "display_data"
    }
   ],
   "source": [
    "# Plot the distribution of unlabeled journal predicted probabilities\n",
    "title = \"Proportion of patient-authored journals\"\n",
    "fig, ax = pl.subplots(num=title, figsize=(8,8))\n",
    "x = patient_proportions_dict.values()\n",
    "patches = plt.hist(x, bins=50, range=(0,1), label=\"Unlabeled candidate sites\")\n",
    "\n",
    "ax.set_title(title)\n",
    "ax.set_xlabel(\"% of journals predicted to be patient-authored\")\n",
    "ax.set_ylabel(\"Number of sites\")\n",
    "\n",
    "ax.legend()\n",
    "\n",
    "ax.grid(axis=\"y\", alpha=0.5)\n",
    "plt.show()"
   ]
  },
  {
   "cell_type": "code",
   "execution_count": 61,
   "metadata": {},
   "outputs": [
    {
     "name": "stdout",
     "output_type": "stream",
     "text": [
      "20 buckets will each capture 5.00% of a site's journals.\n"
     ]
    },
    {
     "name": "stderr",
     "output_type": "stream",
     "text": [
      "100%|██████████| 58462/58462 [02:33<00:00, 381.46it/s]\n"
     ]
    },
    {
     "data": {
      "text/plain": [
       "(141703.45, 58771.75)"
      ]
     },
     "execution_count": 61,
     "metadata": {},
     "output_type": "execute_result"
    }
   ],
   "source": [
    "# look at the distribution over time (by bucketing by percentile journals complete on the site?)\n",
    "\n",
    "def get_journal_metadata_db():\n",
    "    db_filepath=\"/home/srivbane/shared/caringbridge/data/projects/qual-health-journeys/extract_site_features/journal_metadata.db\"\n",
    "    db = sqlite3.connect(\n",
    "            db_filepath,\n",
    "            detect_types=sqlite3.PARSE_DECLTYPES\n",
    "        )\n",
    "    db.row_factory = sqlite3.Row\n",
    "    return db\n",
    "\n",
    "def get_journal_times(site_id):\n",
    "    try:\n",
    "        db = get_journal_metadata_db()\n",
    "        cursor = db.execute(\"\"\"SELECT journal_oid, site_index, created_at\n",
    "                                    FROM journalMetadata\n",
    "                                    WHERE site_id = ? \n",
    "                                    GROUP BY journal_oid\n",
    "                                    ORDER BY id DESC\"\"\",\n",
    "                                (site_id,))\n",
    "        \n",
    "        times = []\n",
    "        results = cursor.fetchall()\n",
    "        if results is None:\n",
    "            return []\n",
    "        for result in results:\n",
    "            d = {key: result[key] for key in result.keys()}\n",
    "            times.append(d)\n",
    "        times.sort(key=lambda d: d['created_at'])\n",
    "        \n",
    "        journal_oid_dict = {}\n",
    "        for time_dict in times:\n",
    "            journal_oid_dict[time_dict['journal_oid']] = time_dict\n",
    "        return journal_oid_dict\n",
    "    finally:\n",
    "        db.close()\n",
    "\n",
    "buckets = 20\n",
    "percentile_gap = 1 / buckets\n",
    "print(\"%d buckets will each capture %.2f%% of a site's journals.\" % (buckets, percentile_gap * 100))\n",
    "\n",
    "total_bucket_counts = [0 for i in range(buckets)]\n",
    "is_patient_bucket_counts = [0 for i in range(buckets)]\n",
    "\n",
    "for site_id, group in tqdm(unlabeled_df.groupby(by=\"site_id\")):\n",
    "    if len(group) < 20:\n",
    "        continue  # only compute percentiles for sites with at least X journals\n",
    "    \n",
    "    journal_times = get_journal_times(site_id)\n",
    "    num_journals = len(journal_times)\n",
    "    assert num_journals >= len(group)\n",
    "    \n",
    "    journal_oid_list = group['journal_oid']\n",
    "    is_patient_list = group['is_patient'].tolist()\n",
    "    \n",
    "    for i, journal_oid in enumerate(journal_oid_list):\n",
    "        site_index = journal_times[journal_oid]['site_index']\n",
    "        created_at = journal_times[journal_oid]['created_at']\n",
    "        \n",
    "        percent_through_site = site_index / num_journals\n",
    "        assert percent_through_site < 1\n",
    "        \n",
    "        bucket_right_boundary = percentile_gap\n",
    "        bucket = 0\n",
    "        while percent_through_site > bucket_right_boundary:\n",
    "            bucket += 1\n",
    "            bucket_right_boundary += percentile_gap\n",
    "        \n",
    "        #print(site_index, percent_through_site, bucket)\n",
    "        if bucket_right_boundary >= 1:  # should be in the last bucket\n",
    "            bucket = buckets - 1\n",
    "            \n",
    "        total_bucket_counts[bucket] += 1\n",
    "        if is_patient_list[i]:\n",
    "            is_patient_bucket_counts[bucket] += 1\n",
    "np.mean(total_bucket_counts), np.mean(is_patient_bucket_counts)"
   ]
  },
  {
   "cell_type": "code",
   "execution_count": 62,
   "metadata": {},
   "outputs": [
    {
     "data": {
      "text/plain": [
       "[64512,\n",
       " 56772,\n",
       " 56908,\n",
       " 59264,\n",
       " 59222,\n",
       " 57709,\n",
       " 59203,\n",
       " 57269,\n",
       " 61142,\n",
       " 56583,\n",
       " 63835,\n",
       " 62331,\n",
       " 58639,\n",
       " 60554,\n",
       " 60884,\n",
       " 58707,\n",
       " 57769,\n",
       " 58519,\n",
       " 56602,\n",
       " 49011]"
      ]
     },
     "execution_count": 62,
     "metadata": {},
     "output_type": "execute_result"
    }
   ],
   "source": [
    "is_patient_bucket_counts"
   ]
  },
  {
   "cell_type": "code",
   "execution_count": 63,
   "metadata": {},
   "outputs": [
    {
     "data": {
      "text/plain": [
       "[0.39526747584415267,\n",
       " 0.40064925899788284,\n",
       " 0.4048950551405194,\n",
       " 0.4097515107097916,\n",
       " 0.4148186543014443,\n",
       " 0.41601966593856554,\n",
       " 0.4187745805392864,\n",
       " 0.4208078299398206,\n",
       " 0.4225665551654549,\n",
       " 0.424762219336241,\n",
       " 0.4229668305482302,\n",
       " 0.4236860708556513,\n",
       " 0.42322127112894614,\n",
       " 0.4226063774103722,\n",
       " 0.4204492876725573,\n",
       " 0.4175462304409673,\n",
       " 0.41688496316021156,\n",
       " 0.41121081590061065,\n",
       " 0.40604017216642757,\n",
       " 0.4032001974414874]"
      ]
     },
     "execution_count": 63,
     "metadata": {},
     "output_type": "execute_result"
    }
   ],
   "source": [
    "bucket_proportions = [patient / total for patient, total in zip(is_patient_bucket_counts, total_bucket_counts)]\n",
    "bucket_proportions"
   ]
  },
  {
   "cell_type": "code",
   "execution_count": 64,
   "metadata": {},
   "outputs": [
    {
     "data": {
      "image/png": "[encoded data removed]",
      "text/plain": [
       "<Figure size 576x576 with 1 Axes>"
      ]
     },
     "metadata": {},
     "output_type": "display_data"
    }
   ],
   "source": [
    "title = \"Proportion of patient-authored journals by strata\"\n",
    "fig, ax = pl.subplots(num=title, figsize=(8,8))\n",
    "\n",
    "x = np.arange(0, 1, percentile_gap)\n",
    "y = bucket_proportions\n",
    "plt.bar(x, y, percentile_gap, align='edge')\n",
    "\n",
    "ax.set_title(title)\n",
    "ax.set_xlabel(\"%% of site (in %d buckets)\" % buckets)\n",
    "ax.set_ylabel(\"Proportion of patient-authored journals\")\n",
    "\n",
    "#ax.set_xticks([i for i in range(0, 108, 4)])\n",
    "#ax.set_xticklabels([str(i) if i != 104 else \"+\" for i in range(0, 108, 4)])\n",
    "\n",
    "#ax.set_yticks([i for i in range(0, 430, 10)])\n",
    "\n",
    "ax.set_ylim((0, 1))\n",
    "\n",
    "ax.grid(axis=\"y\", alpha=0.5)\n",
    "plt.show()"
   ]
  },
  {
   "cell_type": "code",
   "execution_count": null,
   "metadata": {},
   "outputs": [],
   "source": []
  },
  {
   "cell_type": "code",
   "execution_count": null,
   "metadata": {
    "collapsed": true
   },
   "outputs": [],
   "source": []
  }
 ],
 "metadata": {
  "kernelspec": {
   "display_name": "Python 3",
   "language": "python",
   "name": "python3"
  },
  "language_info": {
   "codemirror_mode": {
    "name": "ipython",
    "version": 3
   },
   "file_extension": ".py",
   "mimetype": "text/x-python",
   "name": "python",
   "nbconvert_exporter": "python",
   "pygments_lexer": "ipython3",
   "version": "3.6.8"
  }
 },
 "nbformat": 4,
 "nbformat_minor": 1
}
