{
 "cells": [
  {
   "cell_type": "markdown",
   "metadata": {},
   "source": [
    "Responsibility Classification with Vowpal Wabbit\n",
    "==="
   ]
  },
  {
   "cell_type": "code",
   "execution_count": 1,
   "metadata": {},
   "outputs": [],
   "source": [
    "%reload_ext autoreload\n",
    "%autoreload 2\n",
    "%matplotlib inline"
   ]
  },
  {
   "cell_type": "code",
   "execution_count": 2,
   "metadata": {},
   "outputs": [],
   "source": [
    "import sys\n",
    "sys.path.append(\"../../annotation_data\")"
   ]
  },
  {
   "cell_type": "code",
   "execution_count": 3,
   "metadata": {},
   "outputs": [],
   "source": [
    "from responsibility import *\n",
    "from vw import *"
   ]
  },
  {
   "cell_type": "code",
   "execution_count": 4,
   "metadata": {},
   "outputs": [],
   "source": [
    "import pandas as pd\n",
    "import numpy as np\n",
    "import sklearn\n",
    "import sklearn.metrics\n",
    "import sklearn.model_selection\n",
    "import subprocess\n",
    "import scipy"
   ]
  },
  {
   "cell_type": "code",
   "execution_count": 5,
   "metadata": {},
   "outputs": [],
   "source": [
    "import matplotlib.pyplot as plt\n",
    "import matplotlib.dates as md\n",
    "import matplotlib\n",
    "import pylab as pl"
   ]
  },
  {
   "cell_type": "code",
   "execution_count": 6,
   "metadata": {},
   "outputs": [
    {
     "data": {
      "text/plain": [
       "4946"
      ]
     },
     "execution_count": 6,
     "metadata": {},
     "output_type": "execute_result"
    }
   ],
   "source": [
    "candidate_sites_working_dir = \"/home/srivbane/shared/caringbridge/data/projects/qual-health-journeys/identify_candidate_sites\"\n",
    "valid_classification_sites_filename = os.path.join(candidate_sites_working_dir, \"valid_classification_sites_filtered.txt\")\n",
    "with open(valid_classification_sites_filename, 'r') as infile:\n",
    "    valid_sites = [int(line.strip()) for line in infile.readlines() if line.strip() != \"\"]\n",
    "len(valid_sites)"
   ]
  },
  {
   "cell_type": "code",
   "execution_count": 7,
   "metadata": {},
   "outputs": [],
   "source": [
    "working_dir = \"/home/srivbane/shared/caringbridge/data/projects/qual-health-journeys/classification/responsibilities/vw\"\n",
    "assert os.path.exists(working_dir)"
   ]
  },
  {
   "cell_type": "markdown",
   "metadata": {},
   "source": [
    "### Multiclass\n",
    "\n",
    "Cost-sensitive one-against-all\n",
    "\n",
    "https://github.com/VowpalWabbit/vowpal_wabbit/wiki/Cost-Sensitive-One-Against-All-(csoaa)-multi-class-example"
   ]
  },
  {
   "cell_type": "code",
   "execution_count": 8,
   "metadata": {},
   "outputs": [],
   "source": [
    "resp_subset = high_irr_responsibility_labels\n",
    "# resp_subset should be either high_irr_responsibility_labels or responsibility_labels, probably"
   ]
  },
  {
   "cell_type": "code",
   "execution_count": 9,
   "metadata": {},
   "outputs": [
    {
     "data": {
      "text/plain": [
       "'coordinating_support,sharing_medical_info,compliance,financial_management,giving_back,behavior_changes'"
      ]
     },
     "execution_count": 9,
     "metadata": {},
     "output_type": "execute_result"
    }
   ],
   "source": [
    "csoaa_named_labels = get_responsibility_named_labels(resp_subset=resp_subset)\n",
    "csoaa_named_labels"
   ]
  },
  {
   "cell_type": "code",
   "execution_count": 10,
   "metadata": {},
   "outputs": [
    {
     "data": {
      "text/plain": [
       "1895"
      ]
     },
     "execution_count": 10,
     "metadata": {},
     "output_type": "execute_result"
    }
   ],
   "source": [
    "annotated_df = get_annotated_responsibility_df_fixed(conflict_score_cost=0.1, resp_subset=resp_subset)\n",
    "len(annotated_df)"
   ]
  },
  {
   "cell_type": "code",
   "execution_count": null,
   "metadata": {
    "scrolled": true
   },
   "outputs": [],
   "source": [
    "annotated_df.head(n=2)"
   ]
  },
  {
   "cell_type": "code",
   "execution_count": 20,
   "metadata": {},
   "outputs": [
    {
     "name": "stderr",
     "output_type": "stream",
     "text": [
      "100%|██████████| 4946/4946 [03:51<00:00, 21.38it/s]\n",
      "../../annotation_data/responsibility.py:424: FutureWarning: Sorting because non-concatenation axis is not aligned. A future version\n",
      "of pandas will change to not sort by default.\n",
      "\n",
      "To accept the future behavior, pass 'sort=False'.\n",
      "\n",
      "To retain the current behavior and silence the warning, pass 'sort=True'.\n",
      "\n",
      "  if drop_duplicate_journals:\n"
     ]
    },
    {
     "data": {
      "text/plain": [
       "157389"
      ]
     },
     "execution_count": 20,
     "metadata": {},
     "output_type": "execute_result"
    }
   ],
   "source": [
    "full_df = add_sites_to_responsibility_df(annotated_df, valid_sites)\n",
    "len(full_df)"
   ]
  },
  {
   "cell_type": "code",
   "execution_count": 21,
   "metadata": {},
   "outputs": [
    {
     "data": {
      "text/plain": [
       "1895"
      ]
     },
     "execution_count": 21,
     "metadata": {},
     "output_type": "execute_result"
    }
   ],
   "source": [
    "np.sum(full_df.is_annotated)"
   ]
  },
  {
   "cell_type": "code",
   "execution_count": 13,
   "metadata": {},
   "outputs": [],
   "source": [
    "csoaa_df_filepath = os.path.join(working_dir, \"full_df.pkl\")"
   ]
  },
  {
   "cell_type": "code",
   "execution_count": 23,
   "metadata": {},
   "outputs": [],
   "source": [
    "full_df.reset_index(drop=True, inplace=True)\n",
    "full_df.to_pickle(csoaa_df_filepath)"
   ]
  },
  {
   "cell_type": "code",
   "execution_count": 14,
   "metadata": {},
   "outputs": [],
   "source": [
    "full_df = pd.read_pickle(csoaa_df_filepath)"
   ]
  },
  {
   "cell_type": "code",
   "execution_count": 15,
   "metadata": {},
   "outputs": [
    {
     "data": {
      "text/plain": [
       "157389"
      ]
     },
     "execution_count": 15,
     "metadata": {},
     "output_type": "execute_result"
    }
   ],
   "source": [
    "len(full_df)"
   ]
  },
  {
   "cell_type": "code",
   "execution_count": 93,
   "metadata": {},
   "outputs": [
    {
     "name": "stdout",
     "output_type": "stream",
     "text": [
      "Chose 16/82 sites for validation.\n"
     ]
    }
   ],
   "source": [
    "validation_pct = 0.2\n",
    "annotated_sites = set(annotated_df.site_id)\n",
    "validation_site_count = int(len(annotated_sites) * validation_pct)\n",
    "print(f\"Chose {validation_site_count}/{len(annotated_sites)} sites for validation.\")\n",
    "validation_site_ids = random.sample(annotated_sites, validation_site_count)"
   ]
  },
  {
   "cell_type": "code",
   "execution_count": 94,
   "metadata": {},
   "outputs": [
    {
     "name": "stdout",
     "output_type": "stream",
     "text": [
      "Wrote 1891 lines (1573 train, 318 validation) to '/home/srivbane/shared/caringbridge/data/projects/qual-health-journeys/classification/responsibilities/vw/responsibility_csoaa_default.train'.\n",
      "Finished.\n"
     ]
    }
   ],
   "source": [
    "vw_train_filepath, vw_test_filepath, holdout_after = \\\n",
    "            format_responsibility_df_as_multiclass(full_df, working_dir, \n",
    "                                                   validation_site_ids=validation_site_ids,\n",
    "                                                   resp_subset=resp_subset,\n",
    "                                                   include_unannotated=False)\n",
    "print(\"Finished.\")"
   ]
  },
  {
   "cell_type": "code",
   "execution_count": 32,
   "metadata": {},
   "outputs": [],
   "source": [
    "vw_train_filepath = \"/home/srivbane/shared/caringbridge/data/projects/qual-health-journeys/classification/responsibilities/vw/responsibility_csoaa_default.train\"\n",
    "vw_test_filepath = \"/home/srivbane/shared/caringbridge/data/projects/qual-health-journeys/classification/responsibilities/vw/responsibility_csoaa_default.test\""
   ]
  },
  {
   "cell_type": "code",
   "execution_count": 24,
   "metadata": {},
   "outputs": [
    {
     "name": "stdout",
     "output_type": "stream",
     "text": [
      "346M\t/home/srivbane/shared/caringbridge/data/projects/qual-health-journeys/classification/responsibilities/vw/responsibility_csoaa_default.test\r\n",
      "30M\t/home/srivbane/shared/caringbridge/data/projects/qual-health-journeys/classification/responsibilities/vw/responsibility_csoaa_default_test.pred.raw\r\n",
      "25M\t/home/srivbane/shared/caringbridge/data/projects/qual-health-journeys/classification/responsibilities/vw/responsibility_csoaa_default.model\r\n",
      "9.9M\t/home/srivbane/shared/caringbridge/data/projects/qual-health-journeys/classification/responsibilities/vw/responsibility_csoaa_default_test.pred\r\n",
      "4.3M\t/home/srivbane/shared/caringbridge/data/projects/qual-health-journeys/classification/responsibilities/vw/responsibility_csoaa_default.train\r\n",
      "3.1M\t/home/srivbane/shared/caringbridge/data/projects/qual-health-journeys/classification/responsibilities/vw/responsibility_csoaa_default.train.cache\r\n",
      "496K\t/home/srivbane/shared/caringbridge/data/projects/qual-health-journeys/classification/responsibilities/vw/responsibility_csoaa_default_train.pred.raw\r\n",
      "208K\t/home/srivbane/shared/caringbridge/data/projects/qual-health-journeys/classification/responsibilities/vw/responsibility_csoaa_default_train.pred\r\n"
     ]
    }
   ],
   "source": [
    "!du -h {working_dir}/*csoaa* | sort -hr"
   ]
  },
  {
   "cell_type": "code",
   "execution_count": null,
   "metadata": {},
   "outputs": [],
   "source": [
    "!head {vw_train_filepath} -n 1"
   ]
  },
  {
   "cell_type": "code",
   "execution_count": 96,
   "metadata": {},
   "outputs": [
    {
     "data": {
      "text/plain": [
       "1573"
      ]
     },
     "execution_count": 96,
     "metadata": {},
     "output_type": "execute_result"
    }
   ],
   "source": [
    "# Compute the index for which we will consider the remaining journals to be validation data\n",
    "#validation_pct = 0.2\n",
    "#holdout_after = int(len(full_df[full_df.is_annotated]) * (1 - validation_pct))\n",
    "holdout_after"
   ]
  },
  {
   "cell_type": "code",
   "execution_count": 97,
   "metadata": {
    "scrolled": true
   },
   "outputs": [
    {
     "name": "stdout",
     "output_type": "stream",
     "text": [
      "Training on training set (holdout after 1573 lines).\n",
      "\n",
      "Outputting raw predictions to file '/home/srivbane/shared/caringbridge/data/projects/qual-health-journeys/classification/responsibilities/vw/responsibility_csoaa_default_train.pred.raw'.\n",
      "\n",
      "\n",
      "Predicting on test set.\n",
      "\n",
      "Finished.\n"
     ]
    },
    {
     "name": "stderr",
     "output_type": "stream",
     "text": [
      "IOPub data rate exceeded.\n",
      "The notebook server will temporarily stop sending output\n",
      "to the client in order to avoid crashing it.\n",
      "To change this limit, set the config variable\n",
      "`--NotebookApp.iopub_data_rate_limit`.\n",
      "\n",
      "Current values:\n",
      "NotebookApp.iopub_data_rate_limit=1000000.0 (bytes/sec)\n",
      "NotebookApp.rate_limit_window=3.0 (secs)\n",
      "\n"
     ]
    }
   ],
   "source": [
    "%%bash -s {working_dir} {vw_train_filepath} {vw_test_filepath} {csoaa_named_labels} {holdout_after}\n",
    "working_dir=\"${1}\"\n",
    "train_file=\"${2}\"\n",
    "test_file=\"${3}\"\n",
    "\n",
    "num_classes=13\n",
    "named_labels=\"${4}\"\n",
    "holdout_after=\"${5}\"\n",
    "echo \"Training on training set (holdout after ${holdout_after} lines).\"\n",
    "\n",
    "model_file=${working_dir}/responsibility_csoaa_default.model\n",
    "vw -k -c -b 27 --csoaa ${num_classes} -d ${train_file} -f ${model_file} --passes 20 --holdout_after ${holdout_after} --named_labels ${named_labels} --ngram 2 --skips 1\n",
    "echo\n",
    "\n",
    "pred_train_file=\"${working_dir}/responsibility_csoaa_default_train.pred\"\n",
    "echo \"Outputting raw predictions to file '${pred_train_file}.raw'.\"\n",
    "echo\n",
    "vw -t -i ${model_file} -p ${pred_train_file} -d ${train_file} -r ${pred_train_file}.raw\n",
    "echo\n",
    "\n",
    "echo \"Predicting on test set.\"\n",
    "pred_test_file=${working_dir}/responsibility_csoaa_default_test.pred\n",
    "vw -t -i ${model_file} -p ${pred_test_file} -d ${test_file} -r ${pred_test_file}.raw\n",
    "echo\n",
    " \n",
    "echo \"Finished.\""
   ]
  },
  {
   "cell_type": "code",
   "execution_count": 98,
   "metadata": {},
   "outputs": [],
   "source": [
    "raw_train_preds_filepath = \"/home/srivbane/shared/caringbridge/data/projects/qual-health-journeys/classification/responsibilities/vw/responsibility_csoaa_default_train.pred.raw\"\n",
    "assert os.path.exists(raw_train_preds_filepath)"
   ]
  },
  {
   "cell_type": "code",
   "execution_count": 102,
   "metadata": {},
   "outputs": [
    {
     "name": "stdout",
     "output_type": "stream",
     "text": [
      "1:-0.233087 2:-0.256678 3:-0.0364169 4:1.83683 5:1.82155 6:1.51672 sid655867joid51be89cb6ca0046f3100249b\r\n"
     ]
    }
   ],
   "source": [
    "!head -n 1 {raw_train_preds_filepath}"
   ]
  },
  {
   "cell_type": "code",
   "execution_count": 119,
   "metadata": {},
   "outputs": [],
   "source": [
    "train_preds = read_raw_multiclass_responsibility_preds(raw_train_preds_filepath, resp_subset=resp_subset)\n",
    "assert len(train_preds) == len(full_df[full_df.is_annotated])"
   ]
  },
  {
   "cell_type": "code",
   "execution_count": 120,
   "metadata": {},
   "outputs": [
    {
     "data": {
      "text/plain": [
       "(1574, 317)"
      ]
     },
     "execution_count": 120,
     "metadata": {},
     "output_type": "execute_result"
    }
   ],
   "source": [
    "train_df = train_preds.iloc[:holdout_after+1]\n",
    "val_df = train_preds.iloc[holdout_after+1:]\n",
    "len(train_df), len(val_df)"
   ]
  },
  {
   "cell_type": "code",
   "execution_count": null,
   "metadata": {},
   "outputs": [],
   "source": [
    "raw_test_preds_filepath = \"/home/srivbane/shared/caringbridge/data/projects/qual-health-journeys/classification/responsibilities/vw/responsibility_csoaa_default_test.pred.raw\"\n",
    "assert os.path.exists(raw_test_preds_filepath)\n",
    "test_df = read_raw_multiclass_responsibility_preds(raw_test_preds_filepath)\n",
    "len(test_df)"
   ]
  },
  {
   "cell_type": "markdown",
   "metadata": {},
   "source": [
    "#### Validation Set Analysis\n",
    "\n",
    "We're interested in a few things:\n",
    " - What is the performance of the classifier on the validation set?\n",
    " - Where should we set the per-responsibility thresholds to maximize performance (F2 score)?"
   ]
  },
  {
   "cell_type": "code",
   "execution_count": 122,
   "metadata": {},
   "outputs": [
    {
     "data": {
      "text/plain": [
       "1891"
      ]
     },
     "execution_count": 122,
     "metadata": {},
     "output_type": "execute_result"
    }
   ],
   "source": [
    "annotated = full_df[full_df.is_annotated]\n",
    "len(annotated)"
   ]
  },
  {
   "cell_type": "code",
   "execution_count": 123,
   "metadata": {},
   "outputs": [],
   "source": [
    "annotated = annotated.merge(train_preds, how=\"left\", validate=\"one_to_one\")\n",
    "# TODO Need to label the site_id and journal_oids in the validation set as such...\n",
    "#annotated = annotated.merge(train_df, how=\"left\", validate=\"one_to_one\")\n",
    "#annotated = annotated.merge(val_df, how=\"left\", validate=\"one_to_one\")"
   ]
  },
  {
   "cell_type": "code",
   "execution_count": 124,
   "metadata": {},
   "outputs": [],
   "source": [
    "# drop the training data and leave only the validation data\n",
    "# assumes that holdout_after was used to identify the validation set\n",
    "annotated = annotated.iloc[holdout_after+1:]"
   ]
  },
  {
   "cell_type": "code",
   "execution_count": 125,
   "metadata": {},
   "outputs": [
    {
     "name": "stdout",
     "output_type": "stream",
     "text": [
      "behavior_changes_pred 0\n",
      "compliance_pred 0\n",
      "coordinating_support_pred 0\n",
      "financial_management_pred 0\n",
      "giving_back_pred 0\n",
      "sharing_medical_info_pred 0\n"
     ]
    }
   ],
   "source": [
    "# Verify that predictions for all annotations were merged into this dataframe\n",
    "for col in annotated.columns:\n",
    "    if col.endswith(\"_pred\"):\n",
    "        na_count = annotated[col].isna().sum()\n",
    "        print(col, na_count)\n",
    "        assert na_count == 0"
   ]
  },
  {
   "cell_type": "code",
   "execution_count": 126,
   "metadata": {},
   "outputs": [
    {
     "data": {
      "text/html": [
       "<div>\n",
       "<style scoped>\n",
       "    .dataframe tbody tr th:only-of-type {\n",
       "        vertical-align: middle;\n",
       "    }\n",
       "\n",
       "    .dataframe tbody tr th {\n",
       "        vertical-align: top;\n",
       "    }\n",
       "\n",
       "    .dataframe thead th {\n",
       "        text-align: right;\n",
       "    }\n",
       "</style>\n",
       "<table border=\"1\" class=\"dataframe\">\n",
       "  <thead>\n",
       "    <tr style=\"text-align: right;\">\n",
       "      <th></th>\n",
       "      <th>behavior_changes_score</th>\n",
       "      <th>clinical_decisions_score</th>\n",
       "      <th>communicating_score</th>\n",
       "      <th>compliance_score</th>\n",
       "      <th>conflict_status</th>\n",
       "      <th>continued_monitoring_score</th>\n",
       "      <th>coordinating_support_score</th>\n",
       "      <th>financial_management_score</th>\n",
       "      <th>giving_back_score</th>\n",
       "      <th>info_filtering_score</th>\n",
       "      <th>...</th>\n",
       "      <th>responsibilities</th>\n",
       "      <th>sharing_medical_info_score</th>\n",
       "      <th>site_id</th>\n",
       "      <th>symptom_management_score</th>\n",
       "      <th>behavior_changes_pred</th>\n",
       "      <th>compliance_pred</th>\n",
       "      <th>coordinating_support_pred</th>\n",
       "      <th>financial_management_pred</th>\n",
       "      <th>giving_back_pred</th>\n",
       "      <th>sharing_medical_info_pred</th>\n",
       "    </tr>\n",
       "  </thead>\n",
       "  <tbody>\n",
       "    <tr>\n",
       "      <th>1574</th>\n",
       "      <td>0.0</td>\n",
       "      <td>0.0</td>\n",
       "      <td>0.0</td>\n",
       "      <td>0.9</td>\n",
       "      <td>CONFLICT</td>\n",
       "      <td>0.0</td>\n",
       "      <td>0.0</td>\n",
       "      <td>0.0</td>\n",
       "      <td>0.0</td>\n",
       "      <td>0.0</td>\n",
       "      <td>...</td>\n",
       "      <td>[preparation, sharing_medical_info, compliance]</td>\n",
       "      <td>0.9</td>\n",
       "      <td>812280</td>\n",
       "      <td>0.0</td>\n",
       "      <td>1.060560</td>\n",
       "      <td>0.037558</td>\n",
       "      <td>1.19687</td>\n",
       "      <td>1.30844</td>\n",
       "      <td>1.13456</td>\n",
       "      <td>0.016955</td>\n",
       "    </tr>\n",
       "    <tr>\n",
       "      <th>1575</th>\n",
       "      <td>0.0</td>\n",
       "      <td>0.0</td>\n",
       "      <td>0.0</td>\n",
       "      <td>0.9</td>\n",
       "      <td>CONFLICT</td>\n",
       "      <td>0.0</td>\n",
       "      <td>0.0</td>\n",
       "      <td>0.0</td>\n",
       "      <td>0.0</td>\n",
       "      <td>0.0</td>\n",
       "      <td>...</td>\n",
       "      <td>[preparation, sharing_medical_info, compliance]</td>\n",
       "      <td>0.9</td>\n",
       "      <td>812280</td>\n",
       "      <td>0.0</td>\n",
       "      <td>1.490280</td>\n",
       "      <td>0.037497</td>\n",
       "      <td>1.11208</td>\n",
       "      <td>1.84380</td>\n",
       "      <td>1.70871</td>\n",
       "      <td>-0.022450</td>\n",
       "    </tr>\n",
       "    <tr>\n",
       "      <th>1576</th>\n",
       "      <td>0.0</td>\n",
       "      <td>0.0</td>\n",
       "      <td>0.0</td>\n",
       "      <td>0.9</td>\n",
       "      <td>CONFLICT</td>\n",
       "      <td>0.0</td>\n",
       "      <td>0.0</td>\n",
       "      <td>0.0</td>\n",
       "      <td>0.0</td>\n",
       "      <td>0.0</td>\n",
       "      <td>...</td>\n",
       "      <td>[symptom_management, sharing_medical_info, com...</td>\n",
       "      <td>0.9</td>\n",
       "      <td>812280</td>\n",
       "      <td>0.9</td>\n",
       "      <td>2.200040</td>\n",
       "      <td>0.139732</td>\n",
       "      <td>1.83255</td>\n",
       "      <td>2.82483</td>\n",
       "      <td>2.51440</td>\n",
       "      <td>0.143936</td>\n",
       "    </tr>\n",
       "    <tr>\n",
       "      <th>1577</th>\n",
       "      <td>0.0</td>\n",
       "      <td>0.0</td>\n",
       "      <td>0.0</td>\n",
       "      <td>0.9</td>\n",
       "      <td>CONFLICT</td>\n",
       "      <td>0.0</td>\n",
       "      <td>0.0</td>\n",
       "      <td>0.0</td>\n",
       "      <td>0.0</td>\n",
       "      <td>0.0</td>\n",
       "      <td>...</td>\n",
       "      <td>[preparation, symptom_management, sharing_medi...</td>\n",
       "      <td>0.9</td>\n",
       "      <td>812280</td>\n",
       "      <td>0.9</td>\n",
       "      <td>1.571840</td>\n",
       "      <td>0.001192</td>\n",
       "      <td>1.30062</td>\n",
       "      <td>1.96373</td>\n",
       "      <td>2.16349</td>\n",
       "      <td>-0.030364</td>\n",
       "    </tr>\n",
       "    <tr>\n",
       "      <th>1578</th>\n",
       "      <td>0.9</td>\n",
       "      <td>0.0</td>\n",
       "      <td>0.0</td>\n",
       "      <td>0.9</td>\n",
       "      <td>CONFLICT</td>\n",
       "      <td>0.0</td>\n",
       "      <td>0.0</td>\n",
       "      <td>0.0</td>\n",
       "      <td>0.0</td>\n",
       "      <td>0.0</td>\n",
       "      <td>...</td>\n",
       "      <td>[sharing_medical_info, compliance, behavior_ch...</td>\n",
       "      <td>0.9</td>\n",
       "      <td>812280</td>\n",
       "      <td>0.0</td>\n",
       "      <td>0.100094</td>\n",
       "      <td>0.100695</td>\n",
       "      <td>1.03037</td>\n",
       "      <td>1.16667</td>\n",
       "      <td>1.15945</td>\n",
       "      <td>0.101120</td>\n",
       "    </tr>\n",
       "  </tbody>\n",
       "</table>\n",
       "<p>5 rows × 25 columns</p>\n",
       "</div>"
      ],
      "text/plain": [
       "      behavior_changes_score  clinical_decisions_score  communicating_score  \\\n",
       "1574                     0.0                       0.0                  0.0   \n",
       "1575                     0.0                       0.0                  0.0   \n",
       "1576                     0.0                       0.0                  0.0   \n",
       "1577                     0.0                       0.0                  0.0   \n",
       "1578                     0.9                       0.0                  0.0   \n",
       "\n",
       "      compliance_score conflict_status  continued_monitoring_score  \\\n",
       "1574               0.9        CONFLICT                         0.0   \n",
       "1575               0.9        CONFLICT                         0.0   \n",
       "1576               0.9        CONFLICT                         0.0   \n",
       "1577               0.9        CONFLICT                         0.0   \n",
       "1578               0.9        CONFLICT                         0.0   \n",
       "\n",
       "      coordinating_support_score  financial_management_score  \\\n",
       "1574                         0.0                         0.0   \n",
       "1575                         0.0                         0.0   \n",
       "1576                         0.0                         0.0   \n",
       "1577                         0.0                         0.0   \n",
       "1578                         0.0                         0.0   \n",
       "\n",
       "      giving_back_score  info_filtering_score            ...              \\\n",
       "1574                0.0                   0.0            ...               \n",
       "1575                0.0                   0.0            ...               \n",
       "1576                0.0                   0.0            ...               \n",
       "1577                0.0                   0.0            ...               \n",
       "1578                0.0                   0.0            ...               \n",
       "\n",
       "                                       responsibilities  \\\n",
       "1574    [preparation, sharing_medical_info, compliance]   \n",
       "1575    [preparation, sharing_medical_info, compliance]   \n",
       "1576  [symptom_management, sharing_medical_info, com...   \n",
       "1577  [preparation, symptom_management, sharing_medi...   \n",
       "1578  [sharing_medical_info, compliance, behavior_ch...   \n",
       "\n",
       "     sharing_medical_info_score site_id  symptom_management_score  \\\n",
       "1574                        0.9  812280                       0.0   \n",
       "1575                        0.9  812280                       0.0   \n",
       "1576                        0.9  812280                       0.9   \n",
       "1577                        0.9  812280                       0.9   \n",
       "1578                        0.9  812280                       0.0   \n",
       "\n",
       "      behavior_changes_pred compliance_pred  coordinating_support_pred  \\\n",
       "1574               1.060560        0.037558                    1.19687   \n",
       "1575               1.490280        0.037497                    1.11208   \n",
       "1576               2.200040        0.139732                    1.83255   \n",
       "1577               1.571840        0.001192                    1.30062   \n",
       "1578               0.100094        0.100695                    1.03037   \n",
       "\n",
       "      financial_management_pred  giving_back_pred  sharing_medical_info_pred  \n",
       "1574                    1.30844           1.13456                   0.016955  \n",
       "1575                    1.84380           1.70871                  -0.022450  \n",
       "1576                    2.82483           2.51440                   0.143936  \n",
       "1577                    1.96373           2.16349                  -0.030364  \n",
       "1578                    1.16667           1.15945                   0.101120  \n",
       "\n",
       "[5 rows x 25 columns]"
      ]
     },
     "execution_count": 126,
     "metadata": {},
     "output_type": "execute_result"
    }
   ],
   "source": [
    "annotated.head()"
   ]
  },
  {
   "cell_type": "code",
   "execution_count": 127,
   "metadata": {},
   "outputs": [
    {
     "data": {
      "text/plain": [
       "(317, 6)"
      ]
     },
     "execution_count": 127,
     "metadata": {},
     "output_type": "execute_result"
    }
   ],
   "source": [
    "# build y_true matrix (n_samples,n_classes)\n",
    "n_samples = len(annotated)\n",
    "n_classes = len(resp_subset)\n",
    "y_true = np.zeros((n_samples, n_classes))\n",
    "for i in range(len(annotated)):\n",
    "    row = annotated.iloc[i]\n",
    "    for j, resp_label in enumerate(resp_subset):\n",
    "        if row[resp_label + \"_score\"] > 0.5:\n",
    "            y_true[i,j] = 1\n",
    "y_true.shape"
   ]
  },
  {
   "cell_type": "code",
   "execution_count": 128,
   "metadata": {},
   "outputs": [
    {
     "data": {
      "text/plain": [
       "[('coordinating_support', 48.0),\n",
       " ('sharing_medical_info', 277.0),\n",
       " ('compliance', 243.0),\n",
       " ('financial_management', 7.0),\n",
       " ('giving_back', 15.0),\n",
       " ('behavior_changes', 15.0)]"
      ]
     },
     "execution_count": 128,
     "metadata": {},
     "output_type": "execute_result"
    }
   ],
   "source": [
    "# per-label positive counts\n",
    "# these should all be non-zero!\n",
    "list(zip(resp_subset, list(np.sum(y_true, axis=0))))"
   ]
  },
  {
   "cell_type": "code",
   "execution_count": 129,
   "metadata": {},
   "outputs": [
    {
     "data": {
      "text/plain": [
       "((317, 6), 0)"
      ]
     },
     "execution_count": 129,
     "metadata": {},
     "output_type": "execute_result"
    }
   ],
   "source": [
    "# build y_score matrix (n_samples,n_classes)\n",
    "n_samples = len(annotated)\n",
    "n_classes = len(resp_subset)\n",
    "y_score = np.zeros((n_samples, n_classes))\n",
    "error_count = 0\n",
    "for i in range(len(annotated)):\n",
    "    row = annotated.iloc[i]\n",
    "    for j, resp_label in enumerate(resp_subset):\n",
    "        score = row[resp_label + \"_pred\"]\n",
    "        if not np.isfinite(score):\n",
    "            print(row)\n",
    "            y_score[i,j] = -1.0\n",
    "            error_count += 1\n",
    "        else:\n",
    "            y_score[i,j] = 1 - score\n",
    "assert np.isfinite(y_score).all()\n",
    "y_score.shape, error_count"
   ]
  },
  {
   "cell_type": "code",
   "execution_count": 130,
   "metadata": {},
   "outputs": [
    {
     "data": {
      "text/plain": [
       "0.9950678339085334"
      ]
     },
     "execution_count": 130,
     "metadata": {},
     "output_type": "execute_result"
    }
   ],
   "source": [
    "sklearn.metrics.roc_auc_score(y_true, y_score)"
   ]
  },
  {
   "cell_type": "code",
   "execution_count": 51,
   "metadata": {},
   "outputs": [],
   "source": [
    "#y_score_norm = sklearn.preprocessing.normalize(y_score, axis=0)\n",
    "y_score_norm = (y_score - y_score.min(0)) / y_score.ptp(0)"
   ]
  },
  {
   "cell_type": "code",
   "execution_count": 52,
   "metadata": {},
   "outputs": [
    {
     "data": {
      "text/plain": [
       "0.9512023013371204"
      ]
     },
     "execution_count": 52,
     "metadata": {},
     "output_type": "execute_result"
    }
   ],
   "source": [
    "sklearn.metrics.roc_auc_score(y_true, y_score_norm)  # should have the same ROC score as the unnormalized version"
   ]
  },
  {
   "cell_type": "code",
   "execution_count": 53,
   "metadata": {},
   "outputs": [
    {
     "data": {
      "text/plain": [
       "((377, 13), (377, 13), True)"
      ]
     },
     "execution_count": 53,
     "metadata": {},
     "output_type": "execute_result"
    }
   ],
   "source": [
    "# build the y_pred matrix from y_score_norm\n",
    "y_pred = np.zeros((n_samples, n_classes))\n",
    "threshold = 0.5\n",
    "for i in range(n_samples):\n",
    "    for j in range(n_classes):\n",
    "        if y_score_norm[i,j] >= threshold:\n",
    "            y_pred[i,j] = 1\n",
    "\n",
    "y_pred_fast = y_score_norm > threshold\n",
    "y_pred_fast = y_pred_fast.astype(int)          \n",
    "            \n",
    "y_pred.shape, y_pred_fast.shape, (y_pred == y_pred_fast).all()"
   ]
  },
  {
   "cell_type": "code",
   "execution_count": 128,
   "metadata": {},
   "outputs": [
    {
     "name": "stdout",
     "output_type": "stream",
     "text": [
      "Threshold Macro Micro Weighted Samples\n",
      "========================================\n",
      "     0.00  0.46  0.61     0.76    0.56\n",
      "     0.10  0.46  0.61     0.77    0.56\n",
      "     0.20  0.46  0.61     0.77    0.56\n",
      "     0.31  0.46  0.61     0.78    0.57\n",
      "     0.41  0.46  0.61     0.78    0.57\n"
     ]
    },
    {
     "name": "stderr",
     "output_type": "stream",
     "text": [
      "/panfs/roc/groups/3/srivbane/levon003/anaconda3/lib/python3.6/site-packages/sklearn/metrics/classification.py:1137: UndefinedMetricWarning: F-score is ill-defined and being set to 0.0 in samples with no true labels.\n",
      "  'recall', 'true', average, warn_for)\n"
     ]
    },
    {
     "name": "stdout",
     "output_type": "stream",
     "text": [
      "     0.51  0.46  0.61     0.77    0.57\n",
      "     0.61  0.46  0.55     0.67    0.52\n",
      "     0.71  0.47  0.45     0.49    0.41\n",
      "     0.82  0.52  0.40     0.39    0.34\n",
      "     0.92  0.39  0.13     0.12    0.10\n"
     ]
    },
    {
     "name": "stderr",
     "output_type": "stream",
     "text": [
      "/panfs/roc/groups/3/srivbane/levon003/anaconda3/lib/python3.6/site-packages/sklearn/metrics/classification.py:1135: UndefinedMetricWarning: F-score is ill-defined and being set to 0.0 in samples with no predicted labels.\n",
      "  'precision', 'predicted', average, warn_for)\n",
      "/panfs/roc/groups/3/srivbane/levon003/anaconda3/lib/python3.6/site-packages/sklearn/metrics/classification.py:1135: UndefinedMetricWarning: F-score is ill-defined and being set to 0.0 in labels with no predicted samples.\n",
      "  'precision', 'predicted', average, warn_for)\n",
      "/panfs/roc/groups/3/srivbane/levon003/anaconda3/lib/python3.6/site-packages/sklearn/metrics/classification.py:1135: UndefinedMetricWarning: F-score is ill-defined and being set to 0.0 due to no predicted samples.\n",
      "  'precision', 'predicted', average, warn_for)\n"
     ]
    },
    {
     "data": {
      "text/plain": [
       "(50, 13)"
      ]
     },
     "execution_count": 128,
     "metadata": {},
     "output_type": "execute_result"
    }
   ],
   "source": [
    "print(\"Threshold Macro Micro Weighted Samples\")\n",
    "print(\"=\"*40)\n",
    "scores = []\n",
    "print_freq = 5\n",
    "thresholds = np.linspace(0, 1, num=50)\n",
    "class_f2_score_mat = np.zeros((len(thresholds), n_classes))\n",
    "for i, threshold in enumerate(thresholds):\n",
    "    y_pred = (y_score_norm > threshold).astype(int)\n",
    "    \n",
    "    class_f2_scores = np.array(sklearn.metrics.fbeta_score(y_true, y_pred, 2, average=None))\n",
    "    class_f2_score_mat[i,:] = class_f2_scores\n",
    "    \n",
    "    macro_f2_score = sklearn.metrics.fbeta_score(y_true, y_pred, 2, average='macro')\n",
    "    micro_f2_score = sklearn.metrics.fbeta_score(y_true, y_pred, 2, average='micro')\n",
    "    weighted_f2_score = sklearn.metrics.fbeta_score(y_true, y_pred, 2, average='weighted')\n",
    "    samples_f2_score = sklearn.metrics.fbeta_score(y_true, y_pred, 2, average='samples')\n",
    "    scores.append((macro_f2_score, micro_f2_score, weighted_f2_score, samples_f2_score))\n",
    "    if i % print_freq == 0:\n",
    "        print(f\"{threshold:9.2f} {macro_f2_score:5.2f} {micro_f2_score:5.2f} {weighted_f2_score:8.2f} {samples_f2_score:7.2f}\")\n",
    "class_f2_score_mat.shape    "
   ]
  },
  {
   "cell_type": "code",
   "execution_count": 129,
   "metadata": {},
   "outputs": [
    {
     "name": "stdout",
     "output_type": "stream",
     "text": [
      "Micro max threshold: 0.3061224489795918\n",
      "Macro max threshold: 0.836734693877551\n"
     ]
    },
    {
     "data": {
      "image/png": "[encoded data removed]",
      "text/plain": [
       "<Figure size 432x288 with 1 Axes>"
      ]
     },
     "metadata": {},
     "output_type": "display_data"
    }
   ],
   "source": [
    "scores = np.array(scores)\n",
    "plt.plot(thresholds, scores[:,0], label=\"macro f2\")\n",
    "plt.plot(thresholds, scores[:,1], label=\"micro f2\")\n",
    "plt.plot(thresholds, scores[:,2], label=\"weighted f2\")\n",
    "plt.plot(thresholds, scores[:,3], label=\"samples f2\")\n",
    "\n",
    "micro_max = thresholds[scores.argmax(0)[1]]\n",
    "print(\"Micro max threshold:\", micro_max)\n",
    "plt.axvline(micro_max, color=\"gray\", linestyle=\"--\", label=\"micro max\")\n",
    "\n",
    "macro_max = thresholds[scores.argmax(0)[0]]\n",
    "print(\"Macro max threshold:\", macro_max)\n",
    "plt.axvline(macro_max, color=\"darkgray\", linestyle=\"--\", label=\"macro max\")\n",
    "\n",
    "plt.legend()\n",
    "plt.show()"
   ]
  },
  {
   "cell_type": "code",
   "execution_count": 130,
   "metadata": {},
   "outputs": [
    {
     "data": {
      "text/plain": [
       "[('communicating', 0.08222811671087533),\n",
       " ('info_filtering', 0.1246684350132626),\n",
       " ('clinical_decisions', 0.10875331564986737),\n",
       " ('preparation', 0.08222811671087533),\n",
       " ('symptom_management', 0.3395225464190981),\n",
       " ('coordinating_support', 0.11936339522546419),\n",
       " ('sharing_medical_info', 0.007957559681697613),\n",
       " ('compliance', 0.026525198938992044),\n",
       " ('managing_transitions', 0.20689655172413793),\n",
       " ('financial_management', 0.46949602122015915),\n",
       " ('continued_monitoring', 0.06631299734748011),\n",
       " ('giving_back', 0.48010610079575594),\n",
       " ('behavior_changes', 0.7029177718832891)]"
      ]
     },
     "execution_count": 130,
     "metadata": {},
     "output_type": "execute_result"
    }
   ],
   "source": [
    "# set y_pred from the threshold that maximizes f2 score using micro-averaging\n",
    "y_pred = (y_score_norm >= macro_max).astype(int)\n",
    "# prints the percentage of validation samples that were assigned this class based on the threshold\n",
    "list(zip(responsibility_labels, list(np.sum(y_pred, axis=0) / y_pred.shape[0])))"
   ]
  },
  {
   "cell_type": "code",
   "execution_count": 131,
   "metadata": {},
   "outputs": [
    {
     "name": "stdout",
     "output_type": "stream",
     "text": [
      "                      precision    recall  f1-score   support\n",
      "\n",
      "       communicating       0.26      1.00      0.41         8\n",
      "      info_filtering       1.00      0.72      0.84        65\n",
      "  clinical_decisions       0.61      0.93      0.74        27\n",
      "         preparation       1.00      0.36      0.53        85\n",
      "  symptom_management       1.00      0.83      0.90       155\n",
      "coordinating_support       1.00      0.92      0.96        49\n",
      "sharing_medical_info       1.00      0.01      0.02       326\n",
      "          compliance       1.00      0.04      0.07       275\n",
      "managing_transitions       0.99      0.85      0.91        91\n",
      "financial_management       0.03      0.86      0.07         7\n",
      "continued_monitoring       1.00      0.89      0.94        28\n",
      "         giving_back       0.08      0.88      0.14        16\n",
      "    behavior_changes       0.05      0.87      0.09        15\n",
      "\n",
      "         avg / total       0.95      0.38      0.39      1147\n",
      "\n"
     ]
    }
   ],
   "source": [
    "print(sklearn.metrics.classification_report(y_true, y_pred, target_names=responsibility_labels))"
   ]
  },
  {
   "cell_type": "code",
   "execution_count": 132,
   "metadata": {
    "scrolled": false
   },
   "outputs": [
    {
     "data": {
      "image/png": "[encoded data removed]",
      "text/plain": [
       "<Figure size 288x1107.69 with 2 Axes>"
      ]
     },
     "metadata": {},
     "output_type": "display_data"
    },
    {
     "data": {
      "text/plain": [
       "[('communicating', 0.8979591836734693),\n",
       " ('info_filtering', 0.8163265306122448),\n",
       " ('clinical_decisions', 0.8979591836734693),\n",
       " ('preparation', 0.673469387755102),\n",
       " ('symptom_management', 0.7346938775510203),\n",
       " ('coordinating_support', 0.836734693877551),\n",
       " ('sharing_medical_info', 0.2857142857142857),\n",
       " ('compliance', 0.3877551020408163),\n",
       " ('managing_transitions', 0.7755102040816326),\n",
       " ('financial_management', 0.9183673469387754),\n",
       " ('continued_monitoring', 0.7959183673469387),\n",
       " ('giving_back', 0.9183673469387754),\n",
       " ('behavior_changes', 0.9387755102040816)]"
      ]
     },
     "execution_count": 132,
     "metadata": {},
     "output_type": "execute_result"
    }
   ],
   "source": [
    "# visualize the per-class f2 score\n",
    "plt.matshow(class_f2_score_mat)\n",
    "plt.yticks(np.arange(0,50), [\"%.2f\" % th for th in thresholds])\n",
    "plt.xticks(np.arange(0,13), responsibility_labels, rotation=90)\n",
    "plt.colorbar()\n",
    "\n",
    "for i, index in enumerate(class_f2_score_mat.argmax(axis=0)):\n",
    "    plt.plot(i, index, color='black', marker='x', markersize=10)\n",
    "\n",
    "plt.show()\n",
    "\n",
    "# compute the threshold that maximizes F2 score for each class separately\n",
    "max_per_class_thresholds = np.array([thresholds[i] for i in class_f2_score_mat.argmax(axis=0)])\n",
    "list(zip(responsibility_labels, max_per_class_thresholds))"
   ]
  },
  {
   "cell_type": "code",
   "execution_count": 139,
   "metadata": {},
   "outputs": [
    {
     "name": "stdout",
     "output_type": "stream",
     "text": [
      "Proportion of Validation Samples Assigned Each Responsibility\n",
      "Responsibility           % Pred  % True\n",
      "============================================================\n",
      "communicating              0.02    0.02\n",
      "info_filtering             0.14    0.17\n",
      "clinical_decisions         0.07    0.07\n",
      "preparation                0.28    0.23\n",
      "symptom_management         0.46    0.41\n",
      "coordinating_support       0.12    0.13\n",
      "sharing_medical_info       0.89    0.86\n",
      "compliance                 0.78    0.73\n",
      "managing_transitions       0.28    0.24\n",
      "financial_management       0.02    0.02\n",
      "continued_monitoring       0.09    0.07\n",
      "giving_back                0.03    0.04\n",
      "behavior_changes           0.04    0.04\n",
      "\n",
      "F2-score under different averaging conditions\n",
      "Macro Micro Weighted Samples\n",
      "==============================\n",
      " 0.90  0.94     0.94    0.89\n",
      "\n",
      "                      precision    recall  f1-score   support\n",
      "\n",
      "       communicating       1.00      1.00      1.00         8\n",
      "      info_filtering       1.00      0.83      0.91        65\n",
      "  clinical_decisions       1.00      0.93      0.96        27\n",
      "         preparation       0.74      0.93      0.82        85\n",
      "  symptom_management       0.84      0.94      0.89       155\n",
      "coordinating_support       1.00      0.92      0.96        49\n",
      "sharing_medical_info       0.97      1.00      0.98       326\n",
      "          compliance       0.93      1.00      0.96       275\n",
      "managing_transitions       0.78      0.91      0.84        91\n",
      "financial_management       1.00      0.86      0.92         7\n",
      "continued_monitoring       0.77      0.96      0.86        28\n",
      "         giving_back       1.00      0.69      0.81        16\n",
      "    behavior_changes       0.80      0.80      0.80        15\n",
      "\n",
      "         avg / total       0.91      0.95      0.93      1147\n",
      "\n"
     ]
    },
    {
     "name": "stderr",
     "output_type": "stream",
     "text": [
      "/panfs/roc/groups/3/srivbane/levon003/anaconda3/lib/python3.6/site-packages/sklearn/metrics/classification.py:1135: UndefinedMetricWarning: F-score is ill-defined and being set to 0.0 in samples with no predicted labels.\n",
      "  'precision', 'predicted', average, warn_for)\n",
      "/panfs/roc/groups/3/srivbane/levon003/anaconda3/lib/python3.6/site-packages/sklearn/metrics/classification.py:1137: UndefinedMetricWarning: F-score is ill-defined and being set to 0.0 in samples with no true labels.\n",
      "  'recall', 'true', average, warn_for)\n"
     ]
    }
   ],
   "source": [
    "# rather than using a single threshold, we instead use a per-class threshold\n",
    "y_pred_per_class = (y_score_norm >= max_per_class_thresholds).astype(int)\n",
    "print(\"Proportion of Validation Samples Assigned Each Responsibility\")\n",
    "print(\"Responsibility           % Pred  % True\")\n",
    "print(\"=\"*60)\n",
    "for resp_label, pct_assigned_positive, pct_true in zip(responsibility_labels, \n",
    "                                             list(np.sum(y_pred_per_class, axis=0) / y_pred_per_class.shape[0]),\n",
    "                                             list(np.sum(y_true, axis=0) / y_pred_per_class.shape[0])):\n",
    "    print(f\"{resp_label:24} {pct_assigned_positive:6.2f}  {pct_true:6.2f}\")\n",
    "print()\n",
    "\n",
    "macro_f2_score = sklearn.metrics.fbeta_score(y_true, y_pred_per_class, 2, average='macro')\n",
    "micro_f2_score = sklearn.metrics.fbeta_score(y_true, y_pred_per_class, 2, average='micro')\n",
    "weighted_f2_score = sklearn.metrics.fbeta_score(y_true, y_pred_per_class, 2, average='weighted')\n",
    "samples_f2_score = sklearn.metrics.fbeta_score(y_true, y_pred_per_class, 2, average='samples')\n",
    "print(\"F2-score under different averaging conditions\")\n",
    "print(\"Macro Micro Weighted Samples\")\n",
    "print(\"=\"*30)\n",
    "print(f\"{macro_f2_score:5.2f} {micro_f2_score:5.2f} {weighted_f2_score:8.2f} {samples_f2_score:7.2f}\")\n",
    "print()\n",
    "\n",
    "print(sklearn.metrics.classification_report(y_true, y_pred_per_class, target_names=responsibility_labels))"
   ]
  },
  {
   "cell_type": "code",
   "execution_count": null,
   "metadata": {},
   "outputs": [],
   "source": [
    "# save the y_score_norm and the thresholds, along with the classes\n",
    "classes_filepath = os.path.join(working_dir, 'classes.npy')\n",
    "np.save(classes_filepath, np.array(responsibility_labels))\n",
    "y_score_filepath = os.path.join(working_dir, 'y_score.npy')\n",
    "np.save(y_score_filepath, y_score_norm)\n",
    "thresholds_filepath = os.path.join(working_dir, 'class_thresholds.npy')\n",
    "np.save(thresholds_filepath, max_per_class_thresholds)"
   ]
  },
  {
   "cell_type": "markdown",
   "metadata": {},
   "source": [
    "## Batch CSOAA Model Training"
   ]
  },
  {
   "cell_type": "code",
   "execution_count": 16,
   "metadata": {},
   "outputs": [],
   "source": [
    "def train_model(annotated_df, validation_site_ids, model_label, resp_subset):\n",
    "    if validation_site_ids is None:\n",
    "        validation_pct = 0.2\n",
    "        annotated_sites = set(annotated_df.site_id)\n",
    "        validation_site_count = int(len(annotated_sites) * validation_pct)\n",
    "        print(f\"Choosing {validation_site_count}/{len(annotated_sites)} sites for validation.\")\n",
    "        validation_site_ids = random.sample(annotated_sites, validation_site_count)\n",
    "    \n",
    "    # Format the training file\n",
    "    vw_train_filepath, vw_test_filepath, holdout_after = \\\n",
    "        format_responsibility_df_as_multiclass(full_df, working_dir, \n",
    "                                  validation_site_ids=validation_site_ids, \n",
    "                                  include_unannotated=False, resp_subset=resp_subset)\n",
    "    print(f\"Holding out after {holdout_after} training lines.\")\n",
    "    \n",
    "    # Train the model\n",
    "    vw_model_file=os.path.join(working_dir, \"responsibility_csoaa_default.model\")\n",
    "    num_classes = len(resp_subset)\n",
    "    responsibility_named_labels = get_responsibility_named_labels(resp_subset=resp_subset)\n",
    "    train_file_command = f\"vw -k -c -b 27 --csoaa {num_classes} -d {vw_train_filepath} -f {vw_model_file} --passes 20 --holdout_after {holdout_after} --named_labels {responsibility_named_labels} --ngram 2 --skips 1\"\n",
    "    proc = subprocess.run(train_file_command, shell=True, check=True, stdout=subprocess.PIPE, stderr=subprocess.DEVNULL)\n",
    "    print(\"Model trained.\")\n",
    "    \n",
    "    # Predict on the labeled data\n",
    "    train_pred_file =  os.path.join(working_dir, \"responsibility_csoaa_default_train.pred\")\n",
    "    train_raw_pred_file = os.path.join(working_dir, \"responsibility_csoaa_default_train.pred.raw\")\n",
    "    predict_train_command = f\"vw -t -i {vw_model_file} -p {train_pred_file} -d {vw_train_filepath} -r {train_raw_pred_file}\"\n",
    "    proc = subprocess.run(predict_train_command, shell=True, check=True, stdout=subprocess.PIPE, stderr=subprocess.DEVNULL)\n",
    "    print(\"Predictions generated.\")\n",
    "    \n",
    "    # Merge in the predictions with the true scores\n",
    "    train_preds = read_raw_multiclass_responsibility_preds(train_raw_pred_file, resp_subset=resp_subset)\n",
    "    annotated = annotated_df.merge(train_preds, how=\"left\", validate=\"one_to_one\")\n",
    "    annotated = annotated.iloc[holdout_after+1:]\n",
    "    # Verify that predictions for all annotations were merged into this dataframe\n",
    "    for col in annotated.columns:\n",
    "        if col.endswith(\"_pred\"):\n",
    "            na_count = annotated[col].isna().sum()\n",
    "            assert na_count == 0, f\"{col} NAs: {na_count}\"\n",
    "    annotated.reset_index(drop=True, inplace=True)\n",
    "    \n",
    "    # Build y_true matrix (n_samples,n_classes)\n",
    "    n_samples = len(annotated)\n",
    "    n_classes = len(resp_subset)\n",
    "    y_train_score = annotated.loc[range(n_samples), [resp_label + \"_score\" for resp_label in resp_subset]].values\n",
    "    y_true = (y_train_score > 0.5).astype(int)\n",
    "    \n",
    "    # Compute columns for which we have no or only positive validation samples\n",
    "    # In this case, Recall (and thus F1 score) are undefined\n",
    "    val_class_counts = np.sum(y_true, axis=0)\n",
    "    true_missing_classes = val_class_counts == 0\n",
    "    is_true_missing_class = np.sum(true_missing_classes) > 0\n",
    "    \n",
    "    # Build y_score matrix (n_samples,n_classes)\n",
    "    y_score_raw = annotated.loc[range(n_samples), [resp_label + \"_pred\" for resp_label in resp_subset]].values\n",
    "    y_score = 1 - np.clip(y_score_raw, 0, 1)\n",
    "    assert np.isfinite(y_score).all(), np.sum(~np.isfinite(y_score))\n",
    "    assert y_score.shape == y_true.shape\n",
    "    print(\"Predictions merged and normalized.\")\n",
    "    \n",
    "    # Compute f1 score at various thresholds\n",
    "    thresholds = np.linspace(0, 1, num=50)\n",
    "    class_f1_score_mat = np.zeros((len(thresholds), n_classes))\n",
    "    for i, threshold in enumerate(thresholds):\n",
    "        y_pred = (y_score > threshold).astype(int)\n",
    "        class_f1_scores = np.array(sklearn.metrics.fbeta_score(y_true, y_pred, 1, average=None))\n",
    "        class_f1_score_mat[i,:] = class_f1_scores\n",
    "        \n",
    "    # compute the threshold that maximizes F1 score for each class separately\n",
    "    max_per_class_thresholds = np.array([thresholds[i] for i in class_f1_score_mat.argmax(axis=0)])\n",
    "    print(\"Decision thresholds computed.\")\n",
    "    \n",
    "    # Compute y_pred from the chosen thresholds\n",
    "    y_pred = (y_score >= max_per_class_thresholds).astype(int)\n",
    "    y_pred_default = (y_score >= 0.5).astype(int)\n",
    "    \n",
    "    # Compute columns for which we have no positive predictions\n",
    "    # In this case, Precision (and thus F2 score) are undefined\n",
    "    val_pred_counts = np.sum(y_pred_default, axis=0)\n",
    "    pred_missing_classes =  val_pred_counts == 0\n",
    "    is_pred_missing_class = np.sum(true_missing_classes) > 0\n",
    "\n",
    "    # Compute metrics of interest\n",
    "    weighted_f1_score_thresholded = sklearn.metrics.fbeta_score(y_true, y_pred, 1, average='weighted')\n",
    "    class_f1_scores_thresholded = np.array(sklearn.metrics.fbeta_score(y_true, y_pred, 1, average=None))\n",
    "    weighted_f1_score = sklearn.metrics.fbeta_score(y_true, y_pred_default, 1, average='weighted')\n",
    "    class_f1_scores = np.array(sklearn.metrics.fbeta_score(y_true, y_pred_default, 1, average=None))\n",
    "    \n",
    "    weighted_precision_score = sklearn.metrics.precision_score(y_true, y_pred_default, average='weighted')\n",
    "    class_precision_scores = np.array(sklearn.metrics.precision_score(y_true, y_pred_default, average=None))\n",
    "    weighted_recall_score = sklearn.metrics.recall_score(y_true, y_pred_default, average='weighted')\n",
    "    class_recall_scores = np.array(sklearn.metrics.recall_score(y_true, y_pred_default, average=None))\n",
    "    \n",
    "    if is_true_missing_class:\n",
    "        print(\"Setting recall and F1 scores for certain classes to NaN.\")\n",
    "        class_recall_scores[true_missing_classes] = np.nan\n",
    "        class_f1_scores[true_missing_classes] = np.nan\n",
    "    if is_pred_missing_class:\n",
    "        print(\"Setting precision and F1 scores for certain classes to NaN.\")\n",
    "        class_precision_scores[pred_missing_classes] = np.nan\n",
    "        class_f1_scores[pred_missing_classes] = np.nan\n",
    "\n",
    "    print(f\"Finished training and evaluating model '{model_label}'.\")\n",
    "    \n",
    "    return weighted_f1_score, weighted_precision_score, weighted_recall_score, class_f1_scores, class_precision_scores, class_recall_scores, weighted_f1_score_thresholded, class_f1_scores_thresholded"
   ]
  },
  {
   "cell_type": "code",
   "execution_count": 27,
   "metadata": {},
   "outputs": [
    {
     "name": "stdout",
     "output_type": "stream",
     "text": [
      "Choosing 17/86 sites for validation.\n",
      "Wrote 1895 lines (1564 train, 331 validation) to '/home/srivbane/shared/caringbridge/data/projects/qual-health-journeys/classification/responsibilities/vw/responsibility_csoaa_default.train'.\n",
      "Holding out after 1564 training lines.\n",
      "Model trained.\n",
      "Predictions generated.\n",
      "Predictions merged and normalized.\n",
      "Decision thresholds computed.\n",
      "Finished training and evaluating model 'single run'.\n"
     ]
    },
    {
     "name": "stderr",
     "output_type": "stream",
     "text": [
      "/home/srivbane/shared/anaconda3/lib/python3.7/site-packages/sklearn/metrics/classification.py:1143: UndefinedMetricWarning: F-score is ill-defined and being set to 0.0 in labels with no predicted samples.\n",
      "  'precision', 'predicted', average, warn_for)\n"
     ]
    }
   ],
   "source": [
    "weighted_f1_score, weighted_precision_score, weighted_recall_score, class_f1_scores, class_precision_scores, class_recall_scores, weighted_f1_score_thresholded, class_f1_scores_thresholded = \\\n",
    "    train_model(annotated_df, None, \"single run\", high_irr_responsibility_labels)"
   ]
  },
  {
   "cell_type": "code",
   "execution_count": 28,
   "metadata": {},
   "outputs": [
    {
     "name": "stdout",
     "output_type": "stream",
     "text": [
      "Responsibility             Pre   Rec   F1  F1 (Thresholded)\n",
      "============================================================\n",
      "coordinating_support       0.62  0.67  0.64  0.69\n",
      "sharing_medical_info       0.93  0.97  0.95  0.96\n",
      "compliance                 0.92  0.94  0.93  0.94\n",
      "financial_management       0.31  0.44  0.36  0.44\n",
      "giving_back                0.27  0.24  0.25  0.27\n",
      "behavior_changes           0.35  0.38  0.36  0.36\n",
      "Mean                       0.86  0.89  0.87  0.89\n"
     ]
    }
   ],
   "source": [
    "print(f\"{'Responsibility':25}  Pre   Rec   F1  F1 (Thresholded)\")\n",
    "print(\"=\"*60)\n",
    "for i, resp_label in enumerate(resp_subset): \n",
    "    if resp_label in high_irr_responsibility_labels:\n",
    "        print(f\"{resp_label:25}  {class_precision_scores[i]:.2f}  {class_recall_scores[i]:.2f}  {class_f1_scores[i]:.2f}  {class_f1_scores_thresholded[i]:.2f}\")\n",
    "print(f\"{'Mean':25}  {weighted_precision_score:.2f}  {weighted_recall_score:.2f}  {weighted_f1_score:.2f}  {weighted_f1_score_thresholded:.2f}\")"
   ]
  },
  {
   "cell_type": "code",
   "execution_count": null,
   "metadata": {},
   "outputs": [
    {
     "name": "stderr",
     "output_type": "stream",
     "text": [
      " 40%|████      | 20/50 [1:30:12<1:47:49, 215.65s/it]"
     ]
    }
   ],
   "source": [
    "%%capture --no-stderr --no-display kfold_stdout\n",
    "# Runs n instances of k-fold cross-validation\n",
    "# Expected time when n = 50 and k = 20 is ~8 hours\n",
    "resp_subset = high_irr_responsibility_labels\n",
    "n_results = []\n",
    "n = 50\n",
    "k = 20\n",
    "for i in tqdm(range(n)):\n",
    "    annotated_sites = np.array(list(set(annotated_df.site_id)))\n",
    "    kf = sklearn.model_selection.KFold(n_splits=k)\n",
    "    kfold_results = []\n",
    "    index = 0\n",
    "    for train_indices, val_indices in kf.split(annotated_sites):\n",
    "        validation_site_ids = list(annotated_sites[val_indices])\n",
    "        weighted_f2_score, weighted_precision_score, weighted_recall_score, class_f2_scores, class_precision_scores, class_recall_scores, weighted_f2_score_thresholded, class_f2_scores_thresholded = \\\n",
    "            train_model(annotated_df, validation_site_ids, f\"{i} {k}-fold validation model {index}\", resp_subset)\n",
    "        kfold_results.append((weighted_f2_score, weighted_precision_score, weighted_recall_score, class_f2_scores, class_precision_scores, class_recall_scores, weighted_f2_score_thresholded, class_f2_scores_thresholded))\n",
    "        index += 1\n",
    "    n_results.append(kfold_results)\n",
    "len(n_results)"
   ]
  },
  {
   "cell_type": "code",
   "execution_count": null,
   "metadata": {},
   "outputs": [],
   "source": [
    "n_scores = np.zeros((n*k, 4 + 4*len(resp_subset)))\n",
    "nc = len(resp_subset)\n",
    "index = 0\n",
    "for kfold_results in n_results:\n",
    "    for tup in kfold_results:\n",
    "        weighted_f2_score, weighted_precision_score, weighted_recall_score, class_f2_scores, class_precision_scores, class_recall_scores, weighted_f2_score_thresholded, class_f2_scores_thresholded = tup\n",
    "        n_scores[index, 0] = weighted_precision_score\n",
    "        n_scores[index, 1] = weighted_recall_score\n",
    "        n_scores[index, 2] = weighted_f2_score\n",
    "        n_scores[index, 3] = weighted_f2_score_thresholded\n",
    "        n_scores[index, 4:4+nc] = class_precision_scores\n",
    "        n_scores[index, 4+nc:4+nc+nc] = class_recall_scores\n",
    "        n_scores[index, 4+nc+nc:4+nc+nc+nc] = class_f2_scores\n",
    "        n_scores[index, 4+nc+nc+nc:4+nc+nc+nc+nc] = class_f2_scores_thresholded\n",
    "        index += 1\n",
    "n_scores_filepath = os.path.join(working_dir, \"n_scores_postfix.npy\")\n",
    "np.save(n_scores_filepath, n_scores)\n",
    "print(\"Saved scores.\")"
   ]
  },
  {
   "cell_type": "code",
   "execution_count": 26,
   "metadata": {
    "scrolled": true
   },
   "outputs": [
    {
     "data": {
      "text/plain": [
       "((1000, 28), 50, 20, 6)"
      ]
     },
     "execution_count": 26,
     "metadata": {},
     "output_type": "execute_result"
    }
   ],
   "source": [
    "#n_scores_filepath = os.path.join(working_dir, \"n_scores_fulllabels.npy\")\n",
    "n_scores_filepath = os.path.join(working_dir, \"n_scores_postfix.npy\")\n",
    "n_scores = np.load(n_scores_filepath)\n",
    "resp_subset = high_irr_responsibility_labels\n",
    "nc = len(resp_subset)\n",
    "n_scores.shape, n, k, nc"
   ]
  },
  {
   "cell_type": "markdown",
   "metadata": {},
   "source": [
    "#### T-test comparing mean performance in \"all labels\" vs \"high IRR labels\" condition"
   ]
  },
  {
   "cell_type": "code",
   "execution_count": 208,
   "metadata": {},
   "outputs": [
    {
     "data": {
      "text/plain": [
       "(50, 28)"
      ]
     },
     "execution_count": 208,
     "metadata": {},
     "output_type": "execute_result"
    }
   ],
   "source": [
    "n_scores_filepath = os.path.join(working_dir, \"n_scores_highirrlabels.npy\")\n",
    "n_scores = np.load(n_scores_filepath)\n",
    "resp_subset = high_irr_responsibility_labels\n",
    "nc = len(resp_subset)\n",
    "n_scores.shape, n, k, nc\n",
    "\n",
    "highirr_cv_mean_scores = np.zeros((n, 4 + 4*len(resp_subset)))\n",
    "for j in range(n):\n",
    "    kfold_scores = n_scores[j*k:j*k+k, :]\n",
    "    highirr_cv_mean_scores[j,:] = np.nanmean(kfold_scores, axis=0)\n",
    "highirr_cv_mean_scores.shape"
   ]
  },
  {
   "cell_type": "code",
   "execution_count": 209,
   "metadata": {},
   "outputs": [
    {
     "data": {
      "text/plain": [
       "(50, 56)"
      ]
     },
     "execution_count": 209,
     "metadata": {},
     "output_type": "execute_result"
    }
   ],
   "source": [
    "n_scores_filepath = os.path.join(working_dir, \"n_scores_fulllabels.npy\")\n",
    "n_scores = np.load(n_scores_filepath)\n",
    "resp_subset = responsibility_labels\n",
    "nc = len(resp_subset)\n",
    "n_scores.shape, n, k, nc\n",
    "\n",
    "full_cv_mean_scores = np.zeros((n, 4 + 4*len(resp_subset)))\n",
    "for j in range(n):\n",
    "    kfold_scores = n_scores[j*k:j*k+k, :]\n",
    "    full_cv_mean_scores[j,:] = np.nanmean(kfold_scores, axis=0)\n",
    "full_cv_mean_scores.shape"
   ]
  },
  {
   "cell_type": "code",
   "execution_count": 217,
   "metadata": {},
   "outputs": [
    {
     "data": {
      "text/plain": [
       "(0.879507202047694, 0.9360758157156711, 0.05656861366797716)"
      ]
     },
     "execution_count": 217,
     "metadata": {},
     "output_type": "execute_result"
    }
   ],
   "source": [
    "full_f2_scores = full_cv_mean_scores[:, 2]\n",
    "highirr_f2_scores = highirr_cv_mean_scores[:, 2]\n",
    "np.mean(full_f2_scores), np.mean(highirr_f2_scores), np.abs(np.mean(full_f2_scores) - np.mean(highirr_f2_scores))"
   ]
  },
  {
   "cell_type": "code",
   "execution_count": 215,
   "metadata": {},
   "outputs": [
    {
     "data": {
      "text/plain": [
       "Ttest_indResult(statistic=-32.66151911316926, pvalue=1.142383105570018e-48)"
      ]
     },
     "execution_count": 215,
     "metadata": {},
     "output_type": "execute_result"
    }
   ],
   "source": [
    "scipy.stats.ttest_ind(full_f2_scores, highirr_f2_scores, equal_var=False)"
   ]
  },
  {
   "cell_type": "markdown",
   "metadata": {},
   "source": [
    "#### End of t-test aside"
   ]
  },
  {
   "cell_type": "code",
   "execution_count": 27,
   "metadata": {},
   "outputs": [
    {
     "name": "stdout",
     "output_type": "stream",
     "text": [
      "Responsibility             Pre   Rec   F1    F1 (Thresholded)\n",
      "============================================================\n",
      "coordinating_support       0.75  0.83  0.80  0.87\n",
      "sharing_medical_info       0.93  0.98  0.95  0.97\n",
      "compliance                 0.90  0.97  0.93  0.95\n",
      "financial_management       0.47  0.92  0.58  0.83\n",
      "giving_back                0.19  0.87  0.68  0.22\n",
      "behavior_changes           0.32  0.41  0.34  0.43\n",
      "Mean                       0.89  0.96  0.92  0.95\n"
     ]
    }
   ],
   "source": [
    "# Compute the precision, recall, and F2 score as will be reported in the paper\n",
    "\n",
    "# cv_mean_scores is the same as n_scores but each of the CV runs is meaned to a single row\n",
    "# this isn't necessary if we just end up taking the column-wise average, since all groups are the same size.\n",
    "# it could be necessary in the future if we drop some class scores that aren't valid...\n",
    "cv_mean_scores = np.zeros((n, 4 + 4*len(resp_subset)))\n",
    "for j in range(n):\n",
    "    kfold_scores = n_scores[j*k:j*k+k, :]\n",
    "    cv_mean_scores[j,:] = np.nanmean(kfold_scores, axis=0)\n",
    "\n",
    "print(f\"{'Responsibility':25}  Pre   Rec   F1    F1 (Thresholded)\")\n",
    "print(\"=\"*60)\n",
    "for i, resp_label in enumerate(resp_subset): \n",
    "    if resp_label in high_irr_responsibility_labels:\n",
    "        class_precision = np.mean(cv_mean_scores[:,4+i])\n",
    "        class_recall = np.mean(cv_mean_scores[:,4+nc+i])\n",
    "        class_f2 = np.mean(cv_mean_scores[:,4+nc+nc+i])\n",
    "        class_f2_thresholded = np.mean(cv_mean_scores[:,4+nc+nc+nc+i])\n",
    "        print(f\"{resp_label:25}  {class_precision:.2f}  {class_recall:.2f}  {class_f2:.2f}  {class_f2_thresholded:.2f}\")\n",
    "print(f\"{'Mean':25}  {np.mean(cv_mean_scores[:,0]):.2f}  {np.mean(cv_mean_scores[:,1]):.2f}  {np.mean(cv_mean_scores[:,2]):.2f}  {np.mean(cv_mean_scores[:,3]):.2f}\")"
   ]
  },
  {
   "cell_type": "code",
   "execution_count": 28,
   "metadata": {},
   "outputs": [
    {
     "name": "stdout",
     "output_type": "stream",
     "text": [
      "Resp  Pre     Rec    F1\n",
      "============================================================\n",
      "CS   & 0.75 & 0.83 & 0.80 \\\\\n",
      "SM   & 0.93 & 0.98 & 0.95 \\\\\n",
      "CP   & 0.90 & 0.97 & 0.93 \\\\\n",
      "FM   & 0.47 & 0.92 & 0.58 \\\\\n",
      "GB   & 0.19 & 0.87 & 0.68 \\\\\n",
      "BC   & 0.32 & 0.41 & 0.34 \\\\\n",
      "Mean & 0.89 & 0.96 & 0.92 \\\\\n"
     ]
    }
   ],
   "source": [
    "# same as above (in fact depends on it), but generates Latex code for the table\n",
    "print(f\"{'Resp':4}  Pre     Rec    F1\")\n",
    "print(\"=\"*60)\n",
    "for i, resp_label in enumerate(resp_subset): \n",
    "    if resp_label in high_irr_responsibility_labels:\n",
    "        resp_code = responsibility_label_to_code_map[resp_label]\n",
    "        class_precision = np.mean(cv_mean_scores[:,4+i])\n",
    "        class_recall = np.mean(cv_mean_scores[:,4+nc+i])\n",
    "        class_f2 = np.mean(cv_mean_scores[:,4+nc+nc+i])\n",
    "        class_f2_thresholded = np.mean(cv_mean_scores[:,4+nc+nc+nc+i])\n",
    "        print(f\"{resp_code:4} & {class_precision:.2f} & {class_recall:.2f} & {class_f2:.2f} \\\\\\\\\")\n",
    "print(f\"{'Mean':4} & {np.mean(cv_mean_scores[:,0]):.2f} & {np.mean(cv_mean_scores[:,1]):.2f} & {np.mean(cv_mean_scores[:,2]):.2f} \\\\\\\\\")"
   ]
  },
  {
   "cell_type": "code",
   "execution_count": 29,
   "metadata": {},
   "outputs": [
    {
     "data": {
      "image/png": "[encoded data removed]",
      "text/plain": [
       "<Figure size 432x288 with 1 Axes>"
      ]
     },
     "metadata": {
      "needs_background": "light"
     },
     "output_type": "display_data"
    }
   ],
   "source": [
    "f2_scores_list = []\n",
    "colors = []\n",
    "labels = []\n",
    "render_subset = high_irr_responsibility_labels\n",
    "for i, resp_label in enumerate(resp_subset):\n",
    "    if resp_label not in render_subset:\n",
    "        continue\n",
    "    f2_scores = []\n",
    "    for j in range(n):\n",
    "        kfold_scores = n_scores[j*k:j*k+k, 4+nc+nc+i]\n",
    "        f2_scores.append(np.nanmean(kfold_scores))\n",
    "    f2_scores_list.append(f2_scores)\n",
    "    colors.append(plt.get_cmap('viridis')(len(f2_scores_list)*(1/len(render_subset))))\n",
    "    labels.append(f'{resp_label} Mean ({np.mean(f2_scores):0.2f})')\n",
    "for i in range(len(render_subset)):\n",
    "    plt.hist(f2_scores_list[i], bins=50, alpha=0.5, color=colors[i], range=(0, 1), edgecolor='black')\n",
    "for i in range(len(render_subset)):\n",
    "    plt.axvline(np.mean(f2_scores_list[i]), linestyle='--', color=colors[i], label=labels[i])\n",
    "weighted_global_mean = np.mean(n_scores[:,2])\n",
    "plt.axvline(weighted_global_mean, linestyle='--', color='black', label=f'Weighted Mean ({weighted_global_mean:.2f})')\n",
    "plt.title(f\"Responsibility classification F2 scores from {n} {k}-fold CV splits\")\n",
    "plt.xlabel(\"F2 Score\")\n",
    "plt.ylabel(\"Count\")\n",
    "plt.legend(bbox_to_anchor=(1.1, 1.05))\n",
    "phase_figure_filepath = os.path.join(working_dir, f\"responsibility_cv_results_{k}fold_{n}.pdf\")\n",
    "plt.savefig(phase_figure_filepath, dpi=300)\n",
    "plt.show()"
   ]
  },
  {
   "cell_type": "code",
   "execution_count": null,
   "metadata": {},
   "outputs": [],
   "source": []
  },
  {
   "cell_type": "markdown",
   "metadata": {},
   "source": [
    "## Generate test predictions"
   ]
  },
  {
   "cell_type": "code",
   "execution_count": 29,
   "metadata": {},
   "outputs": [
    {
     "name": "stdout",
     "output_type": "stream",
     "text": [
      "Wrote 1895 lines (1895 train, 0 validation) to '/home/srivbane/shared/caringbridge/data/projects/qual-health-journeys/classification/responsibilities/vw/responsibility_csoaa_default.train'.\n",
      "Wrote 155494 lines to '/home/srivbane/shared/caringbridge/data/projects/qual-health-journeys/classification/responsibilities/vw/responsibility_csoaa_default.test.'\n",
      "Holding out after 1895 training lines.\n",
      "Model trained.\n",
      "Training and validation predictions generated.\n",
      "Test predictions generated.\n"
     ]
    }
   ],
   "source": [
    "resp_subset = high_irr_responsibility_labels\n",
    "\n",
    "#validation_pct = 0.2\n",
    "#annotated_sites = set(annotated_df.site_id)\n",
    "#validation_site_count = int(len(annotated_sites) * validation_pct)\n",
    "#print(f\"Choosing {validation_site_count}/{len(annotated_sites)} sites for validation.\")\n",
    "#validation_site_ids = random.sample(annotated_sites, validation_site_count)\n",
    "validation_site_ids = []\n",
    "    \n",
    "# Format the training file\n",
    "vw_train_filepath, vw_test_filepath, holdout_after = \\\n",
    "    format_responsibility_df_as_multiclass(full_df, working_dir, \n",
    "                              validation_site_ids=validation_site_ids, \n",
    "                              include_unannotated=True, resp_subset=resp_subset)\n",
    "print(f\"Holding out after {holdout_after} training lines.\")\n",
    "\n",
    "# Train the model\n",
    "vw_model_file=os.path.join(working_dir, \"responsibility_csoaa_full.model\")\n",
    "num_classes = len(resp_subset)\n",
    "responsibility_named_labels = get_responsibility_named_labels(resp_subset=resp_subset)\n",
    "train_file_command = f\"vw -k -c -b 27 --csoaa {num_classes} -d {vw_train_filepath} -f {vw_model_file} --passes 20 --holdout_after {holdout_after} --named_labels {responsibility_named_labels} --ngram 2 --skips 1\"\n",
    "proc = subprocess.run(train_file_command, shell=True, check=True, stdout=subprocess.PIPE, stderr=subprocess.DEVNULL)\n",
    "print(\"Model trained.\")\n",
    "\n",
    "# Predict on the labeled data\n",
    "train_pred_file =  os.path.join(working_dir, \"responsibility_csoaa_full_train.pred\")\n",
    "train_raw_pred_file = os.path.join(working_dir, \"responsibility_csoaa_full_train.pred.raw\")\n",
    "predict_train_command = f\"vw -t -i {vw_model_file} -p {train_pred_file} -d {vw_train_filepath} -r {train_raw_pred_file}\"\n",
    "proc = subprocess.run(predict_train_command, shell=True, check=True, stdout=subprocess.PIPE, stderr=subprocess.DEVNULL)\n",
    "print(\"Training and validation predictions generated.\")\n",
    "\n",
    "# Predict on the unlabeled data\n",
    "test_pred_file =  os.path.join(working_dir, \"responsibility_csoaa_full_test.pred\")\n",
    "test_raw_pred_file = os.path.join(working_dir, \"responsibility_csoaa_full_test.pred.raw\")\n",
    "predict_test_command = f\"vw -t -i {vw_model_file} -p {test_pred_file} -d {vw_test_filepath} -r {test_raw_pred_file}\"\n",
    "proc = subprocess.run(predict_test_command, shell=True, check=True, stdout=subprocess.PIPE, stderr=subprocess.DEVNULL)\n",
    "print(\"Test predictions generated.\")"
   ]
  },
  {
   "cell_type": "code",
   "execution_count": 30,
   "metadata": {},
   "outputs": [],
   "source": [
    "train_pred_file =  os.path.join(working_dir, \"responsibility_csoaa_full_train.pred\")\n",
    "train_raw_pred_file = os.path.join(working_dir, \"responsibility_csoaa_full_train.pred.raw\")\n",
    "test_pred_file =  os.path.join(working_dir, \"responsibility_csoaa_full_test.pred\")\n",
    "test_raw_pred_file = os.path.join(working_dir, \"responsibility_csoaa_full_test.pred.raw\")"
   ]
  },
  {
   "cell_type": "code",
   "execution_count": 31,
   "metadata": {},
   "outputs": [],
   "source": [
    "# Read the raw preds\n",
    "train_preds = read_raw_multiclass_responsibility_preds(train_raw_pred_file, resp_subset=resp_subset)\n",
    "test_preds = read_raw_multiclass_responsibility_preds(test_raw_pred_file, resp_subset=resp_subset)\n",
    "assert np.sum(train_preds.duplicated(subset=['site_id', 'journal_oid'])) == 0\n",
    "assert np.sum(test_preds.duplicated(subset=['site_id', 'journal_oid'])) == 0\n",
    "all_preds = pd.concat([train_preds, test_preds])\n",
    "all_preds.drop_duplicates(subset=['site_id', 'journal_oid'], keep='first', inplace=True)\n",
    "assert np.sum(all_preds.duplicated(subset=['site_id', 'journal_oid'])) == 0\n",
    "assert len(all_preds) == len(full_df)"
   ]
  },
  {
   "cell_type": "code",
   "execution_count": null,
   "metadata": {},
   "outputs": [],
   "source": []
  },
  {
   "cell_type": "code",
   "execution_count": 32,
   "metadata": {},
   "outputs": [
    {
     "name": "stdout",
     "output_type": "stream",
     "text": [
      "Predictions merged.\n",
      "Predictions merged and normalized.\n"
     ]
    },
    {
     "data": {
      "text/plain": [
       "(157389, 6)"
      ]
     },
     "execution_count": 32,
     "metadata": {},
     "output_type": "execute_result"
    }
   ],
   "source": [
    "# Merge in the predictions with the true scores\n",
    "merged = full_df.merge(all_preds, how=\"left\", validate=\"one_to_one\")\n",
    "merged.reset_index(drop=True, inplace=True)\n",
    "assert len(merged) == len(full_df)\n",
    "print(\"Predictions merged.\")\n",
    "\n",
    "# Verify that predictions for all journals were merged into this dataframe\n",
    "for col in merged.columns:\n",
    "    if col.endswith(\"_pred\"):\n",
    "        na_count = merged[col].isna().sum()\n",
    "        assert na_count == 0, f\"{col} NAs: {na_count}\"\n",
    "\n",
    "# Build y_score matrix (n_samples,n_classes)\n",
    "n_samples = len(merged)\n",
    "n_classes = len(resp_subset)\n",
    "y_score_raw = merged.loc[range(n_samples), [resp_label + \"_pred\" for resp_label in resp_subset]].values\n",
    "y_score = 1 - np.clip(y_score_raw, 0, 1)\n",
    "assert np.isfinite(y_score).all()\n",
    "print(\"Predictions merged and normalized.\")\n",
    "y_score.shape"
   ]
  },
  {
   "cell_type": "code",
   "execution_count": null,
   "metadata": {},
   "outputs": [],
   "source": [
    "#TODO Could do some form of thresholding here"
   ]
  },
  {
   "cell_type": "code",
   "execution_count": 33,
   "metadata": {},
   "outputs": [],
   "source": [
    "y_pred = (y_score >= 0.5).astype(int)\n",
    "assert y_pred.shape == y_score.shape"
   ]
  },
  {
   "cell_type": "code",
   "execution_count": 34,
   "metadata": {},
   "outputs": [],
   "source": [
    "# assign the predictions as new columns\n",
    "for i, resp_label in enumerate(resp_subset):\n",
    "    merged[resp_label + \"_pred_label\"] = y_pred[:, i]"
   ]
  },
  {
   "cell_type": "code",
   "execution_count": 35,
   "metadata": {},
   "outputs": [],
   "source": [
    "# assign the true labels as new columns\n",
    "for i, resp_label in enumerate(resp_subset):\n",
    "    merged[resp_label + \"_label\"] = (merged[resp_label + \"_score\"] > 0.5).astype(int)"
   ]
  },
  {
   "cell_type": "code",
   "execution_count": 36,
   "metadata": {},
   "outputs": [
    {
     "name": "stdout",
     "output_type": "stream",
     "text": [
      "Responsibility               Accuracy\n",
      "==================================================\n",
      "coordinating_support             0.97\n",
      "sharing_medical_info             0.99\n",
      "compliance                       0.99\n",
      "financial_management             0.97\n",
      "giving_back                      0.97\n",
      "behavior_changes                 0.97\n"
     ]
    }
   ],
   "source": [
    "# To sanity-check the assignment process, we can check to make sure the accuracies on the labeled data are high\n",
    "# If any of these are less than 0.7, that indicates a problem\n",
    "annotated = merged[merged.is_annotated]\n",
    "print(f\"{'Responsibility':25}  {'Accuracy':>10}\")\n",
    "print(\"=\"*50)\n",
    "for resp_label in resp_subset:\n",
    "    acc = np.sum(annotated[resp_label + \"_label\"] == annotated[resp_label + \"_pred_label\"]) / len(annotated)\n",
    "    print(f\"{resp_label:25}  {acc:10.2f}\")"
   ]
  },
  {
   "cell_type": "code",
   "execution_count": 37,
   "metadata": {},
   "outputs": [
    {
     "name": "stdout",
     "output_type": "stream",
     "text": [
      "Responsibility             % True  % Pred\n",
      "==================================================\n",
      "coordinating_support         0.15    0.17\n",
      "sharing_medical_info         0.86    0.91\n",
      "compliance                   0.77    0.85\n",
      "financial_management         0.03    0.03\n",
      "giving_back                  0.04    0.06\n",
      "behavior_changes             0.04    0.06\n"
     ]
    }
   ],
   "source": [
    "# now we check that the proportion of predicted responsibilities approximately resembles the annotated proportions\n",
    "annotated = merged[merged.is_annotated]\n",
    "print(f\"{'Responsibility':25}  {'% True':6}  {'% Pred':6}\")\n",
    "print(\"=\"*50)\n",
    "for resp_label in resp_subset:\n",
    "    true_proportion = np.sum(annotated[resp_label + \"_label\"]) / len(annotated)\n",
    "    proportion_predicted = np.sum(merged[resp_label + \"_pred_label\"]) / len(merged)\n",
    "    print(f\"{resp_label:25}  {true_proportion:6.2f}  {proportion_predicted:6.2f}\")"
   ]
  },
  {
   "cell_type": "code",
   "execution_count": 38,
   "metadata": {},
   "outputs": [],
   "source": [
    "# Just because it's a useful feature for further analysis, we save the journal text length\n",
    "merged['journal_text_length'] = merged['journal_text'].apply(lambda text: len(text))"
   ]
  },
  {
   "cell_type": "code",
   "execution_count": 39,
   "metadata": {},
   "outputs": [
    {
     "name": "stdout",
     "output_type": "stream",
     "text": [
      "Saving these columns: ['behavior_changes_score', 'compliance_score', 'conflict_status', 'coordinating_support_score', 'financial_management_score', 'giving_back_score', 'index', 'is_annotated', 'journal_oid', 'responsibilities', 'sharing_medical_info_score', 'site_id', 'behavior_changes_pred', 'compliance_pred', 'coordinating_support_pred', 'financial_management_pred', 'giving_back_pred', 'sharing_medical_info_pred', 'coordinating_support_pred_label', 'sharing_medical_info_pred_label', 'compliance_pred_label', 'financial_management_pred_label', 'giving_back_pred_label', 'behavior_changes_pred_label', 'coordinating_support_label', 'sharing_medical_info_label', 'compliance_label', 'financial_management_label', 'giving_back_label', 'behavior_changes_label', 'journal_text_length']\n",
      "Finished.\n"
     ]
    }
   ],
   "source": [
    "to_save = merged.drop(columns='journal_text')\n",
    "print(\"Saving these columns:\", to_save.columns.tolist())\n",
    "all_predictions_filepath = os.path.join(working_dir, \"vw_all_preds.pkl\")\n",
    "to_save.to_pickle(all_predictions_filepath)\n",
    "print(\"Finished.\")"
   ]
  },
  {
   "cell_type": "markdown",
   "metadata": {},
   "source": [
    "#### Further analysis of model predictions\n",
    "\n",
    "Much of this may be in the `responsibility-correlations.ipynb` notebook."
   ]
  },
  {
   "cell_type": "code",
   "execution_count": null,
   "metadata": {},
   "outputs": [],
   "source": []
  },
  {
   "cell_type": "markdown",
   "metadata": {},
   "source": [
    "### Binary\n",
    "\n",
    "Binary classification of each responsibility separately\n",
    "\n",
    "https://github.com/hal3/vwnlp/blob/master/GettingTheMost.ipynb"
   ]
  },
  {
   "cell_type": "code",
   "execution_count": 136,
   "metadata": {},
   "outputs": [
    {
     "data": {
      "text/plain": [
       "157389"
      ]
     },
     "execution_count": 136,
     "metadata": {},
     "output_type": "execute_result"
    }
   ],
   "source": [
    "# load the full_df from the csoaa pickle file\n",
    "csoaa_df_filepath = os.path.join(working_dir, \"full_df.pkl\")\n",
    "full_df = pd.read_pickle(csoaa_df_filepath)\n",
    "len(full_df)"
   ]
  },
  {
   "cell_type": "code",
   "execution_count": 202,
   "metadata": {
    "scrolled": false
   },
   "outputs": [
    {
     "name": "stdout",
     "output_type": "stream",
     "text": [
      "Responsibility communicating will weight positive samples with weight 46.\n",
      "Responsibility info_filtering will weight positive samples with weight 7.\n",
      "Responsibility clinical_decisions will weight positive samples with weight 16.\n",
      "Responsibility preparation will weight positive samples with weight 3.\n",
      "Responsibility symptom_management will weight positive samples with weight 2.\n",
      "Responsibility coordinating_support will weight positive samples with weight 5.\n",
      "Responsibility sharing_medical_info will weight negative samples with weight 6.\n",
      "Responsibility compliance will weight negative samples with weight 3.\n",
      "Responsibility managing_transitions will weight positive samples with weight 3.\n",
      "Responsibility financial_management will weight positive samples with weight 33.\n",
      "Responsibility continued_monitoring will weight positive samples with weight 11.\n",
      "Responsibility giving_back will weight positive samples with weight 22.\n",
      "Responsibility behavior_changes will weight positive samples with weight 23.\n",
      "Wrote 1888 train lines to '/home/srivbane/shared/caringbridge/data/projects/qual-health-journeys/classification/responsibilities/vw/responsibility_binary_communicating_default.train' for binary classification of responsibility 'communicating'.\n",
      "Wrote 1888 train lines to '/home/srivbane/shared/caringbridge/data/projects/qual-health-journeys/classification/responsibilities/vw/responsibility_binary_info_filtering_default.train' for binary classification of responsibility 'info_filtering'.\n",
      "Wrote 1888 train lines to '/home/srivbane/shared/caringbridge/data/projects/qual-health-journeys/classification/responsibilities/vw/responsibility_binary_clinical_decisions_default.train' for binary classification of responsibility 'clinical_decisions'.\n",
      "Wrote 1888 train lines to '/home/srivbane/shared/caringbridge/data/projects/qual-health-journeys/classification/responsibilities/vw/responsibility_binary_preparation_default.train' for binary classification of responsibility 'preparation'.\n",
      "Wrote 1888 train lines to '/home/srivbane/shared/caringbridge/data/projects/qual-health-journeys/classification/responsibilities/vw/responsibility_binary_symptom_management_default.train' for binary classification of responsibility 'symptom_management'.\n",
      "Wrote 1888 train lines to '/home/srivbane/shared/caringbridge/data/projects/qual-health-journeys/classification/responsibilities/vw/responsibility_binary_coordinating_support_default.train' for binary classification of responsibility 'coordinating_support'.\n",
      "Wrote 1888 train lines to '/home/srivbane/shared/caringbridge/data/projects/qual-health-journeys/classification/responsibilities/vw/responsibility_binary_sharing_medical_info_default.train' for binary classification of responsibility 'sharing_medical_info'.\n",
      "Wrote 1888 train lines to '/home/srivbane/shared/caringbridge/data/projects/qual-health-journeys/classification/responsibilities/vw/responsibility_binary_compliance_default.train' for binary classification of responsibility 'compliance'.\n",
      "Wrote 1888 train lines to '/home/srivbane/shared/caringbridge/data/projects/qual-health-journeys/classification/responsibilities/vw/responsibility_binary_managing_transitions_default.train' for binary classification of responsibility 'managing_transitions'.\n",
      "Wrote 1888 train lines to '/home/srivbane/shared/caringbridge/data/projects/qual-health-journeys/classification/responsibilities/vw/responsibility_binary_financial_management_default.train' for binary classification of responsibility 'financial_management'.\n",
      "Wrote 1888 train lines to '/home/srivbane/shared/caringbridge/data/projects/qual-health-journeys/classification/responsibilities/vw/responsibility_binary_continued_monitoring_default.train' for binary classification of responsibility 'continued_monitoring'.\n",
      "Wrote 1888 train lines to '/home/srivbane/shared/caringbridge/data/projects/qual-health-journeys/classification/responsibilities/vw/responsibility_binary_giving_back_default.train' for binary classification of responsibility 'giving_back'.\n",
      "Wrote 1888 train lines to '/home/srivbane/shared/caringbridge/data/projects/qual-health-journeys/classification/responsibilities/vw/responsibility_binary_behavior_changes_default.train' for binary classification of responsibility 'behavior_changes'.\n"
     ]
    }
   ],
   "source": [
    "vw_train_filepaths, vw_test_filepath = format_responsibility_df_as_binary(full_df, working_dir, \n",
    "                                                                          include_unannotated=False, \n",
    "                                                                          weight_unbalanced_classes=True)"
   ]
  },
  {
   "cell_type": "code",
   "execution_count": 144,
   "metadata": {},
   "outputs": [],
   "source": [
    "#!head -n 1 /home/srivbane/shared/caringbridge/data/projects/qual-health-journeys/classification/responsibilities/vw/responsibility_binary_continued_monitoring_default.train"
   ]
  },
  {
   "cell_type": "code",
   "execution_count": 145,
   "metadata": {},
   "outputs": [],
   "source": [
    "#!head -n 1 /home/srivbane/shared/caringbridge/data/projects/qual-health-journeys/classification/responsibilities/vw/responsibility_binary_compliance_default.train"
   ]
  },
  {
   "cell_type": "code",
   "execution_count": 203,
   "metadata": {},
   "outputs": [
    {
     "data": {
      "text/plain": [
       "1510"
      ]
     },
     "execution_count": 203,
     "metadata": {},
     "output_type": "execute_result"
    }
   ],
   "source": [
    "# Compute the index for which we will consider the remaining journals to be validation data\n",
    "validation_pct = 0.2\n",
    "holdout_after = int(len(full_df[full_df.is_annotated]) * (1 - validation_pct))\n",
    "holdout_after"
   ]
  },
  {
   "cell_type": "code",
   "execution_count": 204,
   "metadata": {
    "scrolled": true
   },
   "outputs": [
    {
     "data": {
      "text/plain": [
       "'/home/srivbane/shared/caringbridge/data/projects/qual-health-journeys/classification/responsibilities/vw/responsibility_binary_communicating_default.train,/home/srivbane/shared/caringbridge/data/projects/qual-health-journeys/classification/responsibilities/vw/responsibility_binary_info_filtering_default.train,/home/srivbane/shared/caringbridge/data/projects/qual-health-journeys/classification/responsibilities/vw/responsibility_binary_clinical_decisions_default.train,/home/srivbane/shared/caringbridge/data/projects/qual-health-journeys/classification/responsibilities/vw/responsibility_binary_preparation_default.train,/home/srivbane/shared/caringbridge/data/projects/qual-health-journeys/classification/responsibilities/vw/responsibility_binary_symptom_management_default.train,/home/srivbane/shared/caringbridge/data/projects/qual-health-journeys/classification/responsibilities/vw/responsibility_binary_coordinating_support_default.train,/home/srivbane/shared/caringbridge/data/projects/qual-health-journeys/classification/responsibilities/vw/responsibility_binary_sharing_medical_info_default.train,/home/srivbane/shared/caringbridge/data/projects/qual-health-journeys/classification/responsibilities/vw/responsibility_binary_compliance_default.train,/home/srivbane/shared/caringbridge/data/projects/qual-health-journeys/classification/responsibilities/vw/responsibility_binary_managing_transitions_default.train,/home/srivbane/shared/caringbridge/data/projects/qual-health-journeys/classification/responsibilities/vw/responsibility_binary_financial_management_default.train,/home/srivbane/shared/caringbridge/data/projects/qual-health-journeys/classification/responsibilities/vw/responsibility_binary_continued_monitoring_default.train,/home/srivbane/shared/caringbridge/data/projects/qual-health-journeys/classification/responsibilities/vw/responsibility_binary_giving_back_default.train,/home/srivbane/shared/caringbridge/data/projects/qual-health-journeys/classification/responsibilities/vw/responsibility_binary_behavior_changes_default.train'"
      ]
     },
     "execution_count": 204,
     "metadata": {},
     "output_type": "execute_result"
    }
   ],
   "source": [
    "vw_train_filepaths_str = \",\".join(vw_train_filepaths)\n",
    "vw_train_filepaths_str"
   ]
  },
  {
   "cell_type": "code",
   "execution_count": 205,
   "metadata": {},
   "outputs": [
    {
     "data": {
      "text/plain": [
       "'communicating,info_filtering,clinical_decisions,preparation,symptom_management,coordinating_support,sharing_medical_info,compliance,managing_transitions,financial_management,continued_monitoring,giving_back,behavior_changes'"
      ]
     },
     "execution_count": 205,
     "metadata": {},
     "output_type": "execute_result"
    }
   ],
   "source": [
    "vw_binary_responsibilities = csoaa_named_labels\n",
    "vw_binary_responsibilities"
   ]
  },
  {
   "cell_type": "code",
   "execution_count": 206,
   "metadata": {
    "scrolled": true
   },
   "outputs": [
    {
     "name": "stderr",
     "output_type": "stream",
     "text": [
      "IOPub data rate exceeded.\n",
      "The notebook server will temporarily stop sending output\n",
      "to the client in order to avoid crashing it.\n",
      "To change this limit, set the config variable\n",
      "`--NotebookApp.iopub_data_rate_limit`.\n",
      "\n",
      "Current values:\n",
      "NotebookApp.iopub_data_rate_limit=1000000.0 (bytes/sec)\n",
      "NotebookApp.rate_limit_window=3.0 (secs)\n",
      "\n",
      "Generating 2-grams for all namespaces.\n",
      "Generating 1-skips for all namespaces.\n",
      "using l2 regularization = 1e-05\n",
      "final_regressor = /home/srivbane/shared/caringbridge/data/projects/qual-health-journeys/classification/responsibilities/vw/responsibility_binary_communicating_default.model\n",
      "Num weight bits = 27\n",
      "learning rate = 0.5\n",
      "initial_t = 0\n",
      "power_t = 0.5\n",
      "decay_learning_rate = 1\n",
      "creating cache_file = /home/srivbane/shared/caringbridge/data/projects/qual-health-journeys/classification/responsibilities/vw/responsibility_binary_communicating_default.train.cache\n",
      "Reading datafile = /home/srivbane/shared/caringbridge/data/projects/qual-health-journeys/classification/responsibilities/vw/responsibility_binary_communicating_default.train\n",
      "num sources = 1\n",
      "average  since         example        example  current  current  current\n",
      "loss     last          counter         weight    label  predict features\n",
      "0.000000 0.000000            1           46.0  -1.0000  -1.0000      724\n",
      "0.000000 0.000000            2           92.0  -1.0000  -1.0000      823\n",
      "0.000000 0.000000            4          184.0  -1.0000  -1.0000     1357\n",
      "0.000000 0.000000            8          368.0  -1.0000  -1.0000       28\n",
      "0.062500 0.125000           16          736.0  -1.0000  -1.0000     2104\n",
      "0.031250 0.000000           32         1472.0  -1.0000  -1.0000     2422\n",
      "0.015625 0.000000           64         2944.0  -1.0000  -1.0000      523\n",
      "0.007812 0.000000          128         5888.0  -1.0000  -1.0000      133\n",
      "0.015625 0.023438          256        11776.0  -1.0000  -1.0000     1855\n",
      "0.015625 0.015625          512        23552.0  -1.0000  -1.0000      811\n",
      "0.018555 0.021484         1024        47104.0  -1.0000  -1.0000      274\n",
      "0.031662 0.031662         2048        94208.0  -1.0000  -1.0000     1231 h\n",
      "0.030343 0.029024         4096       188416.0  -1.0000  -1.0000      427 h\n",
      "\n",
      "finished run\n",
      "number of examples per pass = 1509\n",
      "passes used = 5\n",
      "weighted example sum = 347070.000000\n",
      "weighted label sum = -333730.000000\n",
      "average loss = 0.029024 h\n",
      "best constant = -3.932502\n",
      "best constant's loss = 0.094980\n",
      "total feature number = 5645225\n",
      "Generating 2-grams for all namespaces.\n",
      "Generating 1-skips for all namespaces.\n",
      "only testing\n",
      "predictions = /home/srivbane/shared/caringbridge/data/projects/qual-health-journeys/classification/responsibilities/vw/responsibility_binary_communicating_default_train.pred\n",
      "raw predictions = /home/srivbane/shared/caringbridge/data/projects/qual-health-journeys/classification/responsibilities/vw/responsibility_binary_communicating_default_train.pred.raw\n",
      "Num weight bits = 27\n",
      "learning rate = 0.5\n",
      "initial_t = 0\n",
      "power_t = 0.5\n",
      "using no cache\n",
      "Reading datafile = /home/srivbane/shared/caringbridge/data/projects/qual-health-journeys/classification/responsibilities/vw/responsibility_binary_communicating_default.train\n",
      "num sources = 1\n",
      "average  since         example        example  current  current  current\n",
      "loss     last          counter         weight    label  predict features\n",
      "20.812365 20.812365            1           46.0  -1.0000  -5.5621      724\n",
      "20.981201 21.150038            2           92.0  -1.0000  -5.5989      823\n",
      "38.396710 55.812218            4          184.0  -1.0000 -10.6476     1357\n",
      "33.719863 29.043016            8          368.0  -1.0000  -2.4361       28\n",
      "233.322683 432.925503           16          736.0  -1.0000 -16.7302     2104\n",
      "200.830533 168.338384           32         1472.0  -1.0000 -19.7060     2422\n",
      "144.744421 88.658309           64         2944.0  -1.0000 -10.6099      523\n",
      "118.137817 91.531213          128         5888.0  -1.0000  -4.8592      133\n",
      "124.421686 130.705556          256        11776.0  -1.0000 -15.1879     1855\n",
      "120.439087 116.456487          512        23552.0  -1.0000  -8.3088      811\n",
      "104.916980 89.394874         1024        47104.0  -1.0000  -7.6440      274\n",
      "\n",
      "finished run\n",
      "number of examples per pass = 1888\n",
      "passes used = 1\n",
      "weighted example sum = 86848.000000\n",
      "weighted label sum = -83168.000000\n",
      "average loss = 93.374255\n",
      "best constant = -0.957627\n",
      "best constant's loss = 0.082950\n",
      "total feature number = 1428887\n",
      "Generating 2-grams for all namespaces.\n",
      "Generating 1-skips for all namespaces.\n",
      "using l2 regularization = 1e-05\n",
      "final_regressor = /home/srivbane/shared/caringbridge/data/projects/qual-health-journeys/classification/responsibilities/vw/responsibility_binary_info_filtering_default.model\n",
      "Num weight bits = 27\n",
      "learning rate = 0.5\n",
      "initial_t = 0\n",
      "power_t = 0.5\n",
      "decay_learning_rate = 1\n",
      "creating cache_file = /home/srivbane/shared/caringbridge/data/projects/qual-health-journeys/classification/responsibilities/vw/responsibility_binary_info_filtering_default.train.cache\n",
      "Reading datafile = /home/srivbane/shared/caringbridge/data/projects/qual-health-journeys/classification/responsibilities/vw/responsibility_binary_info_filtering_default.train\n",
      "num sources = 1\n",
      "average  since         example        example  current  current  current\n",
      "loss     last          counter         weight    label  predict features\n",
      "0.000000 0.000000            1            7.0  -1.0000  -1.0000      724\n",
      "0.000000 0.000000            2           14.0  -1.0000  -1.0000      823\n",
      "0.000000 0.000000            4           28.0  -1.0000  -1.0000     1357\n",
      "0.250000 0.500000            8           56.0  -1.0000   1.0000       28\n",
      "0.312500 0.375000           16          112.0  -1.0000  -1.0000     2104\n",
      "0.281250 0.250000           32          224.0   1.0000  -1.0000     2422\n",
      "0.171875 0.062500           64          448.0  -1.0000  -1.0000      523\n",
      "0.109375 0.046875          128          896.0  -1.0000  -1.0000      133\n",
      "0.160156 0.210938          256         1792.0  -1.0000  -1.0000     1855\n",
      "0.132812 0.105469          512         3584.0  -1.0000   1.0000      811\n",
      "0.133789 0.134766         1024         7168.0  -1.0000  -1.0000      274\n",
      "0.118734 0.118734         2048        14336.0  -1.0000  -1.0000     1231 h\n",
      "0.124011 0.129288         4096        28672.0  -1.0000  -1.0000      427 h\n",
      "\n",
      "finished run\n",
      "number of examples per pass = 1509\n",
      "passes used = 4\n",
      "weighted example sum = 42252.000000\n",
      "weighted label sum = -32004.000000\n",
      "average loss = 0.118734 h\n",
      "best constant = -1.980436\n",
      "best constant's loss = 0.369452\n",
      "total feature number = 4516180\n",
      "Generating 2-grams for all namespaces.\n",
      "Generating 1-skips for all namespaces.\n",
      "only testing\n",
      "predictions = /home/srivbane/shared/caringbridge/data/projects/qual-health-journeys/classification/responsibilities/vw/responsibility_binary_info_filtering_default_train.pred\n",
      "raw predictions = /home/srivbane/shared/caringbridge/data/projects/qual-health-journeys/classification/responsibilities/vw/responsibility_binary_info_filtering_default_train.pred.raw\n",
      "Num weight bits = 27\n",
      "learning rate = 0.5\n",
      "initial_t = 0\n",
      "power_t = 0.5\n",
      "using no cache\n",
      "Reading datafile = /home/srivbane/shared/caringbridge/data/projects/qual-health-journeys/classification/responsibilities/vw/responsibility_binary_info_filtering_default.train\n",
      "num sources = 1\n",
      "average  since         example        example  current  current  current\n",
      "loss     last          counter         weight    label  predict features\n",
      "7.201777 7.201777            1            7.0  -1.0000  -3.6836      724\n",
      "5.448368 3.694960            2           14.0  -1.0000  -2.9222      823\n",
      "9.828179 14.207990            4           28.0  -1.0000  -4.4200     1357\n",
      "12.198173 14.568167            8           56.0  -1.0000  -1.4111       28\n",
      "30.223820 48.249466           16          112.0  -1.0000  -3.2601     2104\n",
      "33.122423 36.021027           32          224.0   1.0000  13.8353     2422\n",
      "25.510008 17.897593           64          448.0  -1.0000  -5.0830      523\n",
      "20.730548 15.951089          128          896.0  -1.0000  -2.4226      133\n",
      "20.558218 20.385887          256         1792.0  -1.0000  -5.4630     1855\n",
      "19.028693 17.499169          512         3584.0  -1.0000  -1.9822      811\n",
      "17.144227 15.259760         1024         7168.0  -1.0000  -4.5176      274\n",
      "\n",
      "finished run\n",
      "number of examples per pass = 1888\n",
      "passes used = 1\n",
      "weighted example sum = 13216.000000\n",
      "weighted label sum = -9940.000000\n",
      "average loss = 14.238712\n",
      "best constant = -0.752119\n",
      "best constant's loss = 0.434318\n",
      "total feature number = 1428887\n",
      "Generating 2-grams for all namespaces.\n",
      "Generating 1-skips for all namespaces.\n",
      "using l2 regularization = 1e-05\n",
      "final_regressor = /home/srivbane/shared/caringbridge/data/projects/qual-health-journeys/classification/responsibilities/vw/responsibility_binary_clinical_decisions_default.model\n",
      "Num weight bits = 27\n",
      "learning rate = 0.5\n",
      "initial_t = 0\n",
      "power_t = 0.5\n",
      "decay_learning_rate = 1\n",
      "creating cache_file = /home/srivbane/shared/caringbridge/data/projects/qual-health-journeys/classification/responsibilities/vw/responsibility_binary_clinical_decisions_default.train.cache\n",
      "Reading datafile = /home/srivbane/shared/caringbridge/data/projects/qual-health-journeys/classification/responsibilities/vw/responsibility_binary_clinical_decisions_default.train\n",
      "num sources = 1\n",
      "average  since         example        example  current  current  current\n",
      "loss     last          counter         weight    label  predict features\n",
      "0.000000 0.000000            1           16.0  -1.0000  -1.0000      724\n",
      "0.000000 0.000000            2           32.0  -1.0000  -1.0000      823\n",
      "0.000000 0.000000            4           64.0  -1.0000  -1.0000     1357\n",
      "0.000000 0.000000            8          128.0  -1.0000  -1.0000       28\n",
      "0.062500 0.125000           16          256.0   1.0000  -1.0000     2104\n",
      "0.156250 0.250000           32          512.0  -1.0000  -1.0000     2422\n",
      "0.093750 0.031250           64         1024.0  -1.0000  -1.0000      523\n",
      "0.078125 0.062500          128         2048.0  -1.0000  -1.0000      133\n",
      "0.074219 0.070312          256         4096.0  -1.0000  -1.0000     1855\n",
      "0.052734 0.031250          512         8192.0  -1.0000  -1.0000      811\n",
      "0.052734 0.052734         1024        16384.0  -1.0000  -1.0000      274\n",
      "0.047493 0.047493         2048        32768.0  -1.0000  -1.0000     1231 h\n",
      "0.048813 0.050132         4096        65536.0  -1.0000  -1.0000      427 h\n",
      "\n",
      "finished run\n",
      "number of examples per pass = 1509\n",
      "passes used = 4\n",
      "weighted example sum = 96576.000000\n",
      "weighted label sum = -85440.000000\n",
      "average loss = 0.047493 h\n",
      "best constant = -2.793911\n",
      "best constant's loss = 0.220463\n",
      "total feature number = 4516180\n",
      "Generating 2-grams for all namespaces.\n",
      "Generating 1-skips for all namespaces.\n",
      "only testing\n",
      "predictions = /home/srivbane/shared/caringbridge/data/projects/qual-health-journeys/classification/responsibilities/vw/responsibility_binary_clinical_decisions_default_train.pred\n",
      "raw predictions = /home/srivbane/shared/caringbridge/data/projects/qual-health-journeys/classification/responsibilities/vw/responsibility_binary_clinical_decisions_default_train.pred.raw\n",
      "Num weight bits = 27\n",
      "learning rate = 0.5\n",
      "initial_t = 0\n",
      "power_t = 0.5\n",
      "using no cache\n",
      "Reading datafile = /home/srivbane/shared/caringbridge/data/projects/qual-health-journeys/classification/responsibilities/vw/responsibility_binary_clinical_decisions_default.train\n",
      "num sources = 1\n",
      "average  since         example        example  current  current  current\n",
      "loss     last          counter         weight    label  predict features\n",
      "3.602938 3.602938            1           16.0  -1.0000  -2.8981      724\n",
      "3.652989 3.703039            2           32.0  -1.0000  -2.9243      823\n",
      "10.651101 17.649212            4           64.0  -1.0000  -6.1848     1357\n",
      "10.603786 10.556472            8          128.0  -1.0000  -1.8600       28\n",
      "102.649823 194.695859           16          256.0   1.0000  25.8226     2104\n",
      "72.428755 42.207688           32          512.0  -1.0000  -7.6867     2422\n",
      "47.005076 21.581397           64         1024.0  -1.0000  -4.9271      523\n",
      "39.912818 32.820560          128         2048.0  -1.0000  -3.0995      133\n",
      "36.956339 33.999861          256         4096.0  -1.0000  -7.7551     1855\n",
      "37.132412 37.308485          512         8192.0  -1.0000  -2.3305      811\n",
      "34.065771 30.999129         1024        16384.0  -1.0000  -5.4708      274\n",
      "\n",
      "finished run\n",
      "number of examples per pass = 1888\n",
      "passes used = 1\n",
      "weighted example sum = 30208.000000\n",
      "weighted label sum = -26816.000000\n",
      "average loss = 29.012572\n",
      "best constant = -0.887712\n",
      "best constant's loss = 0.211968\n",
      "total feature number = 1428887\n",
      "Generating 2-grams for all namespaces.\n",
      "Generating 1-skips for all namespaces.\n",
      "using l2 regularization = 1e-05\n",
      "final_regressor = /home/srivbane/shared/caringbridge/data/projects/qual-health-journeys/classification/responsibilities/vw/responsibility_binary_preparation_default.model\n",
      "Num weight bits = 27\n",
      "learning rate = 0.5\n",
      "initial_t = 0\n",
      "power_t = 0.5\n",
      "decay_learning_rate = 1\n",
      "creating cache_file = /home/srivbane/shared/caringbridge/data/projects/qual-health-journeys/classification/responsibilities/vw/responsibility_binary_preparation_default.train.cache\n",
      "Reading datafile = /home/srivbane/shared/caringbridge/data/projects/qual-health-journeys/classification/responsibilities/vw/responsibility_binary_preparation_default.train\n",
      "num sources = 1\n",
      "average  since         example        example  current  current  current\n",
      "loss     last          counter         weight    label  predict features\n",
      "0.000000 0.000000            1            3.0  -1.0000  -1.0000      724\n",
      "0.000000 0.000000            2            6.0  -1.0000  -1.0000      823\n",
      "0.250000 0.500000            4           12.0   1.0000  -1.0000     1357\n",
      "0.375000 0.500000            8           24.0  -1.0000   1.0000       28\n",
      "0.187500 0.000000           16           48.0  -1.0000  -1.0000     2104\n",
      "0.312500 0.437500           32           96.0   1.0000   1.0000     2422\n",
      "0.375000 0.437500           64          192.0  -1.0000  -1.0000      523\n",
      "0.289062 0.203125          128          384.0   1.0000  -1.0000      133\n",
      "0.242188 0.195312          256          768.0  -1.0000  -1.0000     1855\n",
      "0.240234 0.238281          512         1536.0  -1.0000  -1.0000      811\n",
      "0.252930 0.265625         1024         3072.0  -1.0000  -1.0000      274\n",
      "0.237467 0.237467         2048         6144.0  -1.0000  -1.0000     1231 h\n",
      "0.236148 0.234828         4096        12288.0  -1.0000  -1.0000      427 h\n",
      "0.234828 0.233949         8192        24576.0  -1.0000  -1.0000      601 h\n",
      "\n",
      "finished run\n",
      "number of examples per pass = 1509\n",
      "passes used = 7\n",
      "weighted example sum = 31689.000000\n",
      "weighted label sum = -16863.000000\n",
      "average loss = 0.232190 h\n",
      "best constant = -1.186253\n",
      "best constant's loss = 0.543981\n",
      "total feature number = 7903315\n",
      "Generating 2-grams for all namespaces.\n",
      "Generating 1-skips for all namespaces.\n",
      "only testing\n",
      "predictions = /home/srivbane/shared/caringbridge/data/projects/qual-health-journeys/classification/responsibilities/vw/responsibility_binary_preparation_default_train.pred\n",
      "raw predictions = /home/srivbane/shared/caringbridge/data/projects/qual-health-journeys/classification/responsibilities/vw/responsibility_binary_preparation_default_train.pred.raw\n",
      "Num weight bits = 27\n",
      "learning rate = 0.5\n",
      "initial_t = 0\n",
      "power_t = 0.5\n",
      "using no cache\n",
      "Reading datafile = /home/srivbane/shared/caringbridge/data/projects/qual-health-journeys/classification/responsibilities/vw/responsibility_binary_preparation_default.train\n",
      "num sources = 1\n",
      "average  since         example        example  current  current  current\n",
      "loss     last          counter         weight    label  predict features\n",
      "14.073503 14.073503            1            3.0  -1.0000  -4.7515      724\n",
      "14.908501 15.743498            2            6.0  -1.0000  -4.9678      823\n",
      "26.493902 38.079304            4           12.0   1.0000   8.2815     1357\n",
      "18.955061 11.416220            8           24.0  -1.0000  -1.3364       28\n",
      "38.843147 58.731233           16           48.0  -1.0000  -9.2054     2104\n",
      "28.124803 17.406459           32           96.0   1.0000   7.0070     2422\n",
      "20.301013 12.477222           64          192.0  -1.0000  -4.9714      523\n",
      "17.887857 15.474701          128          384.0   1.0000   2.3959      133\n",
      "16.963140 16.038424          256          768.0  -1.0000  -4.6149     1855\n",
      "15.505262 14.047384          512         1536.0  -1.0000  -4.0912      811\n",
      "14.503762 13.502261         1024         3072.0  -1.0000  -4.1992      274\n",
      "\n",
      "finished run\n",
      "number of examples per pass = 1888\n",
      "passes used = 1\n",
      "weighted example sum = 5664.000000\n",
      "weighted label sum = -3000.000000\n",
      "average loss = 11.939705\n",
      "best constant = -0.529661\n",
      "best constant's loss = 0.719459\n",
      "total feature number = 1428887\n",
      "Generating 2-grams for all namespaces.\n",
      "Generating 1-skips for all namespaces.\n",
      "using l2 regularization = 1e-05\n",
      "final_regressor = /home/srivbane/shared/caringbridge/data/projects/qual-health-journeys/classification/responsibilities/vw/responsibility_binary_symptom_management_default.model\n",
      "Num weight bits = 27\n",
      "learning rate = 0.5\n",
      "initial_t = 0\n",
      "power_t = 0.5\n",
      "decay_learning_rate = 1\n",
      "creating cache_file = /home/srivbane/shared/caringbridge/data/projects/qual-health-journeys/classification/responsibilities/vw/responsibility_binary_symptom_management_default.train.cache\n",
      "Reading datafile = /home/srivbane/shared/caringbridge/data/projects/qual-health-journeys/classification/responsibilities/vw/responsibility_binary_symptom_management_default.train\n",
      "num sources = 1\n",
      "average  since         example        example  current  current  current\n",
      "loss     last          counter         weight    label  predict features\n",
      "1.000000 1.000000            1            2.0   1.0000  -1.0000      724\n",
      "0.500000 0.000000            2            4.0   1.0000   1.0000      823\n",
      "0.500000 0.500000            4            8.0   1.0000   1.0000     1357\n",
      "0.375000 0.250000            8           16.0  -1.0000  -1.0000       28\n",
      "0.437500 0.500000           16           32.0   1.0000  -1.0000     2104\n",
      "0.437500 0.437500           32           64.0  -1.0000   1.0000     2422\n",
      "0.437500 0.437500           64          128.0  -1.0000  -1.0000      523\n",
      "0.351562 0.265625          128          256.0  -1.0000  -1.0000      133\n",
      "0.367188 0.382812          256          512.0  -1.0000  -1.0000     1855\n",
      "0.328125 0.289062          512         1024.0  -1.0000  -1.0000      811\n",
      "0.317383 0.306641         1024         2048.0  -1.0000  -1.0000      274\n",
      "0.284960 0.284960         2048         4096.0   1.0000   1.0000     1231 h\n",
      "0.287599 0.290237         4096         8192.0  -1.0000  -1.0000      427 h\n",
      "\n",
      "finished run\n",
      "number of examples per pass = 1509\n",
      "passes used = 4\n",
      "weighted example sum = 12072.000000\n",
      "weighted label sum = -3976.000000\n",
      "average loss = 0.284960 h\n",
      "best constant = -0.684214\n",
      "best constant's loss = 0.637883\n",
      "total feature number = 4516180\n",
      "Generating 2-grams for all namespaces.\n",
      "Generating 1-skips for all namespaces.\n",
      "only testing\n",
      "predictions = /home/srivbane/shared/caringbridge/data/projects/qual-health-journeys/classification/responsibilities/vw/responsibility_binary_symptom_management_default_train.pred\n",
      "raw predictions = /home/srivbane/shared/caringbridge/data/projects/qual-health-journeys/classification/responsibilities/vw/responsibility_binary_symptom_management_default_train.pred.raw\n",
      "Num weight bits = 27\n",
      "learning rate = 0.5\n",
      "initial_t = 0\n",
      "power_t = 0.5\n",
      "using no cache\n",
      "Reading datafile = /home/srivbane/shared/caringbridge/data/projects/qual-health-journeys/classification/responsibilities/vw/responsibility_binary_symptom_management_default.train\n",
      "num sources = 1\n",
      "average  since         example        example  current  current  current\n",
      "loss     last          counter         weight    label  predict features\n",
      "9.251384 9.251384            1            2.0   1.0000   4.0416      724\n",
      "8.500944 7.750504            2            4.0   1.0000   3.7840      823\n",
      "7.647182 6.793419            4            8.0   1.0000   4.2247     1357\n",
      "6.140123 4.633064            8           16.0  -1.0000  -0.8114       28\n",
      "11.578052 17.015982           16           32.0   1.0000   6.1746     2104\n",
      "9.409993 7.241934           32           64.0  -1.0000  -2.8574     2422\n",
      "7.536815 5.663637           64          128.0  -1.0000  -3.5267      523\n",
      "6.665974 5.795132          128          256.0  -1.0000  -1.4612      133\n",
      "6.732952 6.799931          256          512.0  -1.0000  -3.8185     1855\n",
      "6.568933 6.404914          512         1024.0  -1.0000  -3.5966      811\n",
      "5.647871 4.726809         1024         2048.0  -1.0000  -1.8179      274\n",
      "\n",
      "finished run\n",
      "number of examples per pass = 1888\n",
      "passes used = 1\n",
      "weighted example sum = 3776.000000\n",
      "weighted label sum = -1264.000000\n",
      "average loss = 4.565656\n",
      "best constant = -0.334746\n",
      "best constant's loss = 0.887945\n",
      "total feature number = 1428887\n",
      "Generating 2-grams for all namespaces.\n",
      "Generating 1-skips for all namespaces.\n",
      "using l2 regularization = 1e-05\n",
      "final_regressor = /home/srivbane/shared/caringbridge/data/projects/qual-health-journeys/classification/responsibilities/vw/responsibility_binary_coordinating_support_default.model\n",
      "Num weight bits = 27\n",
      "learning rate = 0.5\n",
      "initial_t = 0\n",
      "power_t = 0.5\n",
      "decay_learning_rate = 1\n",
      "creating cache_file = /home/srivbane/shared/caringbridge/data/projects/qual-health-journeys/classification/responsibilities/vw/responsibility_binary_coordinating_support_default.train.cache\n",
      "Reading datafile = /home/srivbane/shared/caringbridge/data/projects/qual-health-journeys/classification/responsibilities/vw/responsibility_binary_coordinating_support_default.train\n",
      "num sources = 1\n",
      "average  since         example        example  current  current  current\n",
      "loss     last          counter         weight    label  predict features\n",
      "0.000000 0.000000            1            5.0  -1.0000  -1.0000      724\n",
      "0.500000 1.000000            2           10.0   1.0000  -1.0000      823\n",
      "0.250000 0.000000            4           20.0  -1.0000  -1.0000     1357\n",
      "0.250000 0.250000            8           40.0   1.0000  -1.0000       28\n",
      "0.187500 0.125000           16           80.0  -1.0000  -1.0000     2104\n",
      "0.156250 0.125000           32          160.0  -1.0000  -1.0000     2422\n",
      "0.156250 0.156250           64          320.0   1.0000  -1.0000      523\n",
      "0.179688 0.203125          128          640.0  -1.0000  -1.0000      133\n",
      "0.195312 0.210938          256         1280.0  -1.0000  -1.0000     1855\n",
      "0.160156 0.125000          512         2560.0  -1.0000  -1.0000      811\n",
      "0.163086 0.166016         1024         5120.0  -1.0000  -1.0000      274\n",
      "0.118734 0.118734         2048        10240.0  -1.0000  -1.0000     1231 h\n",
      "0.122691 0.126649         4096        20480.0  -1.0000  -1.0000      427 h\n",
      "\n",
      "finished run\n",
      "number of examples per pass = 1509\n",
      "passes used = 4\n",
      "weighted example sum = 30180.000000\n",
      "weighted label sum = -20860.000000\n",
      "average loss = 0.118734 h\n",
      "best constant = -1.700447\n",
      "best constant's loss = 0.430278\n",
      "total feature number = 4516180\n",
      "Generating 2-grams for all namespaces.\n",
      "Generating 1-skips for all namespaces.\n",
      "only testing\n",
      "predictions = /home/srivbane/shared/caringbridge/data/projects/qual-health-journeys/classification/responsibilities/vw/responsibility_binary_coordinating_support_default_train.pred\n",
      "raw predictions = /home/srivbane/shared/caringbridge/data/projects/qual-health-journeys/classification/responsibilities/vw/responsibility_binary_coordinating_support_default_train.pred.raw\n",
      "Num weight bits = 27\n",
      "learning rate = 0.5\n",
      "initial_t = 0\n",
      "power_t = 0.5\n",
      "using no cache\n",
      "Reading datafile = /home/srivbane/shared/caringbridge/data/projects/qual-health-journeys/classification/responsibilities/vw/responsibility_binary_coordinating_support_default.train\n",
      "num sources = 1\n",
      "average  since         example        example  current  current  current\n",
      "loss     last          counter         weight    label  predict features\n",
      "12.170784 12.170784            1            5.0  -1.0000  -4.4887      724\n",
      "27.693075 43.215366            2           10.0   1.0000   7.5738      823\n",
      "16.836380 5.979685            4           20.0  -1.0000  -4.1979     1357\n",
      "11.664910 6.493440            8           40.0   1.0000   0.4377       28\n",
      "46.128583 80.592256           16           80.0  -1.0000  -6.0575     2104\n",
      "40.268424 34.408266           32          160.0  -1.0000  -6.5805     2422\n",
      "26.954188 13.639952           64          320.0   1.0000   4.1759      523\n",
      "19.955972 12.957756          128          640.0  -1.0000  -2.4420      133\n",
      "17.505719 15.055466          256         1280.0  -1.0000  -4.5093     1855\n",
      "17.501157 17.496596          512         2560.0  -1.0000  -4.3632      811\n",
      "15.231168 12.961178         1024         5120.0  -1.0000  -3.8669      274\n",
      "\n",
      "finished run\n",
      "number of examples per pass = 1888\n",
      "passes used = 1\n",
      "weighted example sum = 9440.000000\n",
      "weighted label sum = -6590.000000\n",
      "average loss = 12.682886\n",
      "best constant = -0.698093\n",
      "best constant's loss = 0.512666\n",
      "total feature number = 1428887\n",
      "Generating 2-grams for all namespaces.\n",
      "Generating 1-skips for all namespaces.\n",
      "using l2 regularization = 1e-05\n",
      "final_regressor = /home/srivbane/shared/caringbridge/data/projects/qual-health-journeys/classification/responsibilities/vw/responsibility_binary_sharing_medical_info_default.model\n",
      "Num weight bits = 27\n",
      "learning rate = 0.5\n",
      "initial_t = 0\n",
      "power_t = 0.5\n",
      "decay_learning_rate = 1\n",
      "creating cache_file = /home/srivbane/shared/caringbridge/data/projects/qual-health-journeys/classification/responsibilities/vw/responsibility_binary_sharing_medical_info_default.train.cache\n",
      "Reading datafile = /home/srivbane/shared/caringbridge/data/projects/qual-health-journeys/classification/responsibilities/vw/responsibility_binary_sharing_medical_info_default.train\n",
      "num sources = 1\n",
      "average  since         example        example  current  current  current\n",
      "loss     last          counter         weight    label  predict features\n",
      "1.000000 1.000000            1            6.0   1.0000  -1.0000      724\n",
      "1.000000 1.000000            2           12.0  -1.0000   1.0000      823\n",
      "0.500000 0.000000            4           24.0   1.0000   1.0000     1357\n",
      "0.250000 0.000000            8           48.0   1.0000   1.0000       28\n",
      "0.125000 0.000000           16           96.0   1.0000   1.0000     2104\n",
      "0.062500 0.000000           32          192.0   1.0000   1.0000     2422\n",
      "0.109375 0.156250           64          384.0   1.0000   1.0000      523\n",
      "0.140625 0.171875          128          768.0  -1.0000   1.0000      133\n",
      "0.140625 0.140625          256         1536.0   1.0000   1.0000     1855\n",
      "0.138672 0.136719          512         3072.0   1.0000   1.0000      811\n",
      "0.135742 0.132812         1024         6144.0   1.0000   1.0000      274\n",
      "0.121372 0.121372         2048        12288.0   1.0000   1.0000     1231 h\n",
      "0.121372 0.121372         4096        24576.0   1.0000   1.0000      427 h\n",
      "\n",
      "finished run\n",
      "number of examples per pass = 1509\n",
      "passes used = 4\n",
      "weighted example sum = 36216.000000\n",
      "weighted label sum = 25848.000000\n",
      "average loss = 0.121372 h\n",
      "best constant = 1.789442\n",
      "best constant's loss = 0.410625\n",
      "total feature number = 4516180\n",
      "Generating 2-grams for all namespaces.\n",
      "Generating 1-skips for all namespaces.\n",
      "only testing\n",
      "predictions = /home/srivbane/shared/caringbridge/data/projects/qual-health-journeys/classification/responsibilities/vw/responsibility_binary_sharing_medical_info_default_train.pred\n",
      "raw predictions = /home/srivbane/shared/caringbridge/data/projects/qual-health-journeys/classification/responsibilities/vw/responsibility_binary_sharing_medical_info_default_train.pred.raw\n",
      "Num weight bits = 27\n",
      "learning rate = 0.5\n",
      "initial_t = 0\n",
      "power_t = 0.5\n",
      "using no cache\n",
      "Reading datafile = /home/srivbane/shared/caringbridge/data/projects/qual-health-journeys/classification/responsibilities/vw/responsibility_binary_sharing_medical_info_default.train\n",
      "num sources = 1\n",
      "average  since         example        example  current  current  current\n",
      "loss     last          counter         weight    label  predict features\n",
      "3.499063 3.499063            1            6.0   1.0000   2.8706      724\n",
      "28.930315 54.361567            2           12.0  -1.0000  -8.3730      823\n",
      "18.738357 8.546398            4           24.0   1.0000   5.0741     1357\n",
      "11.726939 4.715521            8           48.0   1.0000   0.9287       28\n",
      "45.464548 79.202157           16           96.0   1.0000   6.9745     2104\n",
      "46.812819 48.161091           32          192.0   1.0000  12.5752     2422\n",
      "33.324323 19.835826           64          384.0   1.0000   3.7155      523\n",
      "26.627385 19.930447          128          768.0  -1.0000  -1.9599      133\n",
      "31.409373 36.191362          256         1536.0   1.0000   6.4384     1855\n",
      "33.625923 35.842472          512         3072.0   1.0000   8.9549      811\n",
      "30.663685 27.701447         1024         6144.0   1.0000   3.4697      274\n",
      "\n",
      "finished run\n",
      "number of examples per pass = 1888\n",
      "passes used = 1\n",
      "weighted example sum = 11328.000000\n",
      "weighted label sum = 8160.000000\n",
      "average loss = 26.905244\n",
      "best constant = 0.720339\n",
      "best constant's loss = 0.481112\n",
      "total feature number = 1428887\n",
      "Generating 2-grams for all namespaces.\n",
      "Generating 1-skips for all namespaces.\n",
      "using l2 regularization = 1e-05\n",
      "final_regressor = /home/srivbane/shared/caringbridge/data/projects/qual-health-journeys/classification/responsibilities/vw/responsibility_binary_compliance_default.model\n",
      "Num weight bits = 27\n",
      "learning rate = 0.5\n",
      "initial_t = 0\n",
      "power_t = 0.5\n",
      "decay_learning_rate = 1\n",
      "creating cache_file = /home/srivbane/shared/caringbridge/data/projects/qual-health-journeys/classification/responsibilities/vw/responsibility_binary_compliance_default.train.cache\n",
      "Reading datafile = /home/srivbane/shared/caringbridge/data/projects/qual-health-journeys/classification/responsibilities/vw/responsibility_binary_compliance_default.train\n",
      "num sources = 1\n",
      "average  since         example        example  current  current  current\n",
      "loss     last          counter         weight    label  predict features\n",
      "1.000000 1.000000            1            3.0   1.0000  -1.0000      724\n",
      "1.000000 1.000000            2            6.0  -1.0000   1.0000      823\n",
      "0.500000 0.000000            4           12.0   1.0000   1.0000     1357\n",
      "0.250000 0.000000            8           24.0   1.0000   1.0000       28\n",
      "0.312500 0.375000           16           48.0   1.0000   1.0000     2104\n",
      "0.187500 0.062500           32           96.0   1.0000   1.0000     2422\n",
      "0.281250 0.375000           64          192.0   1.0000   1.0000      523\n",
      "0.296875 0.312500          128          384.0   1.0000   1.0000      133\n",
      "0.257812 0.218750          256          768.0   1.0000   1.0000     1855\n",
      "0.248047 0.238281          512         1536.0   1.0000   1.0000      811\n",
      "0.239258 0.230469         1024         3072.0   1.0000   1.0000      274\n",
      "0.182058 0.182058         2048         6144.0  -1.0000  -1.0000     1231 h\n",
      "0.184697 0.187335         4096        12288.0   1.0000   1.0000      427 h\n",
      "\n",
      "finished run\n",
      "number of examples per pass = 1509\n",
      "passes used = 4\n",
      "weighted example sum = 18108.000000\n",
      "weighted label sum = 9540.000000\n",
      "average loss = 0.182058 h\n",
      "best constant = 1.171519\n",
      "best constant's loss = 0.547106\n",
      "total feature number = 4516180\n",
      "Generating 2-grams for all namespaces.\n",
      "Generating 1-skips for all namespaces.\n",
      "only testing\n",
      "predictions = /home/srivbane/shared/caringbridge/data/projects/qual-health-journeys/classification/responsibilities/vw/responsibility_binary_compliance_default_train.pred\n",
      "raw predictions = /home/srivbane/shared/caringbridge/data/projects/qual-health-journeys/classification/responsibilities/vw/responsibility_binary_compliance_default_train.pred.raw\n",
      "Num weight bits = 27\n",
      "learning rate = 0.5\n",
      "initial_t = 0\n",
      "power_t = 0.5\n",
      "using no cache\n",
      "Reading datafile = /home/srivbane/shared/caringbridge/data/projects/qual-health-journeys/classification/responsibilities/vw/responsibility_binary_compliance_default.train\n",
      "num sources = 1\n",
      "average  since         example        example  current  current  current\n",
      "loss     last          counter         weight    label  predict features\n",
      "6.746672 6.746672            1            3.0   1.0000   3.5974      724\n",
      "12.649758 18.552844            2            6.0  -1.0000  -5.3073      823\n",
      "11.142428 9.635097            4           12.0   1.0000   5.2856     1357\n",
      "9.624492 8.106556            8           24.0   1.0000   0.7020       28\n",
      "15.436141 21.247790           16           48.0   1.0000   5.0403     2104\n",
      "18.902602 22.369064           32           96.0   1.0000  10.2408     2422\n",
      "15.815200 12.727797           64          192.0   1.0000   2.6409      523\n",
      "12.110395 8.405590          128          384.0   1.0000   1.8350      133\n",
      "13.732514 15.354634          256          768.0   1.0000   5.7214     1855\n",
      "14.379071 15.025627          512         1536.0   1.0000   5.2919      811\n",
      "13.027919 11.676767         1024         3072.0   1.0000   2.3127      274\n",
      "\n",
      "finished run\n",
      "number of examples per pass = 1888\n",
      "passes used = 1\n",
      "weighted example sum = 5664.000000\n",
      "weighted label sum = 3036.000000\n",
      "average loss = 11.125110\n",
      "best constant = 0.536017\n",
      "best constant's loss = 0.712686\n",
      "total feature number = 1428887\n",
      "Generating 2-grams for all namespaces.\n",
      "Generating 1-skips for all namespaces.\n",
      "using l2 regularization = 1e-05\n",
      "final_regressor = /home/srivbane/shared/caringbridge/data/projects/qual-health-journeys/classification/responsibilities/vw/responsibility_binary_managing_transitions_default.model\n",
      "Num weight bits = 27\n",
      "learning rate = 0.5\n",
      "initial_t = 0\n",
      "power_t = 0.5\n",
      "decay_learning_rate = 1\n",
      "creating cache_file = /home/srivbane/shared/caringbridge/data/projects/qual-health-journeys/classification/responsibilities/vw/responsibility_binary_managing_transitions_default.train.cache\n",
      "Reading datafile = /home/srivbane/shared/caringbridge/data/projects/qual-health-journeys/classification/responsibilities/vw/responsibility_binary_managing_transitions_default.train\n",
      "num sources = 1\n",
      "average  since         example        example  current  current  current\n",
      "loss     last          counter         weight    label  predict features\n",
      "0.000000 0.000000            1            3.0  -1.0000  -1.0000      724\n",
      "0.000000 0.000000            2            6.0  -1.0000  -1.0000      823\n",
      "0.250000 0.500000            4           12.0   1.0000  -1.0000     1357\n",
      "0.125000 0.000000            8           24.0  -1.0000  -1.0000       28\n",
      "0.187500 0.250000           16           48.0   1.0000  -1.0000     2104\n",
      "0.250000 0.312500           32           96.0   1.0000   1.0000     2422\n",
      "0.250000 0.250000           64          192.0  -1.0000  -1.0000      523\n",
      "0.234375 0.218750          128          384.0  -1.0000  -1.0000      133\n",
      "0.199219 0.164062          256          768.0  -1.0000  -1.0000     1855\n",
      "0.216797 0.234375          512         1536.0  -1.0000   1.0000      811\n",
      "0.209961 0.203125         1024         3072.0  -1.0000  -1.0000      274\n",
      "0.232190 0.232190         2048         6144.0   1.0000   1.0000     1231 h\n",
      "0.228232 0.224274         4096        12288.0  -1.0000  -1.0000      427 h\n",
      "0.223747 0.220756         8192        24576.0  -1.0000  -1.0000      601 h\n",
      "\n",
      "finished run\n",
      "number of examples per pass = 1509\n",
      "passes used = 10\n",
      "weighted example sum = 45270.000000\n",
      "weighted label sum = -27450.000000\n",
      "average loss = 0.216359 h\n",
      "best constant = -1.406295\n",
      "best constant's loss = 0.495961\n",
      "total feature number = 11290450\n",
      "Generating 2-grams for all namespaces.\n",
      "Generating 1-skips for all namespaces.\n",
      "only testing\n",
      "predictions = /home/srivbane/shared/caringbridge/data/projects/qual-health-journeys/classification/responsibilities/vw/responsibility_binary_managing_transitions_default_train.pred\n",
      "raw predictions = /home/srivbane/shared/caringbridge/data/projects/qual-health-journeys/classification/responsibilities/vw/responsibility_binary_managing_transitions_default_train.pred.raw\n",
      "Num weight bits = 27\n",
      "learning rate = 0.5\n",
      "initial_t = 0\n",
      "power_t = 0.5\n",
      "using no cache\n",
      "Reading datafile = /home/srivbane/shared/caringbridge/data/projects/qual-health-journeys/classification/responsibilities/vw/responsibility_binary_managing_transitions_default.train\n",
      "num sources = 1\n",
      "average  since         example        example  current  current  current\n",
      "loss     last          counter         weight    label  predict features\n",
      "23.178838 23.178838            1            3.0  -1.0000  -5.8144      724\n",
      "22.936996 22.695155            2            6.0  -1.0000  -5.7639      823\n",
      "26.400112 29.863228            4           12.0   1.0000   6.6555     1357\n",
      "21.711436 17.022760            8           24.0  -1.0000  -2.0506       28\n",
      "84.431248 147.151061           16           48.0   1.0000   7.8338     2104\n",
      "54.416080 24.400912           32           96.0   1.0000   5.6176     2422\n",
      "35.972756 17.529432           64          192.0  -1.0000  -5.4049      523\n",
      "28.340601 20.708447          128          384.0  -1.0000  -3.5313      133\n",
      "28.101234 27.861867          256          768.0  -1.0000  -6.0782     1855\n",
      "23.281804 18.462373          512         1536.0  -1.0000  -4.9915      811\n",
      "21.051318 18.820833         1024         3072.0  -1.0000  -4.4172      274\n",
      "\n",
      "finished run\n",
      "number of examples per pass = 1888\n",
      "passes used = 1\n",
      "weighted example sum = 5664.000000\n",
      "weighted label sum = -3390.000000\n",
      "average loss = 17.549924\n",
      "best constant = -0.598517\n",
      "best constant's loss = 0.641777\n",
      "total feature number = 1428887\n",
      "Generating 2-grams for all namespaces.\n",
      "Generating 1-skips for all namespaces.\n",
      "using l2 regularization = 1e-05\n",
      "final_regressor = /home/srivbane/shared/caringbridge/data/projects/qual-health-journeys/classification/responsibilities/vw/responsibility_binary_financial_management_default.model\n",
      "Num weight bits = 27\n",
      "learning rate = 0.5\n",
      "initial_t = 0\n",
      "power_t = 0.5\n",
      "decay_learning_rate = 1\n",
      "creating cache_file = /home/srivbane/shared/caringbridge/data/projects/qual-health-journeys/classification/responsibilities/vw/responsibility_binary_financial_management_default.train.cache\n",
      "Reading datafile = /home/srivbane/shared/caringbridge/data/projects/qual-health-journeys/classification/responsibilities/vw/responsibility_binary_financial_management_default.train\n",
      "num sources = 1\n",
      "average  since         example        example  current  current  current\n",
      "loss     last          counter         weight    label  predict features\n",
      "0.000000 0.000000            1           33.0  -1.0000  -1.0000      724\n",
      "0.000000 0.000000            2           66.0  -1.0000  -1.0000      823\n",
      "0.000000 0.000000            4          132.0  -1.0000  -1.0000     1357\n",
      "0.000000 0.000000            8          264.0  -1.0000  -1.0000       28\n",
      "0.000000 0.000000           16          528.0  -1.0000  -1.0000     2104\n",
      "0.000000 0.000000           32         1056.0  -1.0000  -1.0000     2422\n",
      "0.031250 0.062500           64         2112.0  -1.0000  -1.0000      523\n",
      "0.015625 0.000000          128         4224.0  -1.0000  -1.0000      133\n",
      "0.023438 0.031250          256         8448.0  -1.0000  -1.0000     1855\n",
      "0.029297 0.035156          512        16896.0  -1.0000  -1.0000      811\n",
      "0.026367 0.023438         1024        33792.0  -1.0000  -1.0000      274\n",
      "0.042216 0.042216         2048        67584.0  -1.0000  -1.0000     1231 h\n",
      "0.035620 0.029024         4096       135168.0  -1.0000  -1.0000      427 h\n",
      "\n",
      "finished run\n",
      "number of examples per pass = 1509\n",
      "passes used = 5\n",
      "weighted example sum = 248985.000000\n",
      "weighted label sum = -234465.000000\n",
      "average loss = 0.029024 h\n",
      "best constant = -3.505421\n",
      "best constant's loss = 0.131804\n",
      "total feature number = 5645225\n",
      "Generating 2-grams for all namespaces.\n",
      "Generating 1-skips for all namespaces.\n",
      "only testing\n",
      "predictions = /home/srivbane/shared/caringbridge/data/projects/qual-health-journeys/classification/responsibilities/vw/responsibility_binary_financial_management_default_train.pred\n",
      "raw predictions = /home/srivbane/shared/caringbridge/data/projects/qual-health-journeys/classification/responsibilities/vw/responsibility_binary_financial_management_default_train.pred.raw\n",
      "Num weight bits = 27\n",
      "learning rate = 0.5\n",
      "initial_t = 0\n",
      "power_t = 0.5\n",
      "using no cache\n",
      "Reading datafile = /home/srivbane/shared/caringbridge/data/projects/qual-health-journeys/classification/responsibilities/vw/responsibility_binary_financial_management_default.train\n",
      "num sources = 1\n",
      "average  since         example        example  current  current  current\n",
      "loss     last          counter         weight    label  predict features\n",
      "14.871093 14.871093            1           33.0  -1.0000  -4.8563      724\n",
      "16.532979 18.194865            2           66.0  -1.0000  -5.2655      823\n",
      "28.764499 40.996019            4          132.0  -1.0000  -8.9264     1357\n",
      "24.587360 20.410220            8          264.0  -1.0000  -2.3367       28\n",
      "192.504021 360.420682           16          528.0  -1.0000 -15.2828     2104\n",
      "141.597381 90.690742           32         1056.0  -1.0000 -14.7433     2422\n",
      "101.489273 61.381164           64         2112.0  -1.0000  -7.2380      523\n",
      "78.383508 55.277742          128         4224.0  -1.0000  -3.9946      133\n",
      "83.155447 87.927387          256         8448.0  -1.0000  -9.9945     1855\n",
      "72.591312 62.027176          512        16896.0  -1.0000  -4.7571      811\n",
      "63.508754 54.426196         1024        33792.0  -1.0000  -7.6752      274\n",
      "\n",
      "finished run\n",
      "number of examples per pass = 1888\n",
      "passes used = 1\n",
      "weighted example sum = 62304.000000\n",
      "weighted label sum = -58674.000000\n",
      "average loss = 54.818999\n",
      "best constant = -0.941737\n",
      "best constant's loss = 0.113131\n",
      "total feature number = 1428887\n",
      "Generating 2-grams for all namespaces.\n",
      "Generating 1-skips for all namespaces.\n",
      "using l2 regularization = 1e-05\n",
      "final_regressor = /home/srivbane/shared/caringbridge/data/projects/qual-health-journeys/classification/responsibilities/vw/responsibility_binary_continued_monitoring_default.model\n",
      "Num weight bits = 27\n",
      "learning rate = 0.5\n",
      "initial_t = 0\n",
      "power_t = 0.5\n",
      "decay_learning_rate = 1\n",
      "creating cache_file = /home/srivbane/shared/caringbridge/data/projects/qual-health-journeys/classification/responsibilities/vw/responsibility_binary_continued_monitoring_default.train.cache\n",
      "Reading datafile = /home/srivbane/shared/caringbridge/data/projects/qual-health-journeys/classification/responsibilities/vw/responsibility_binary_continued_monitoring_default.train\n",
      "num sources = 1\n",
      "average  since         example        example  current  current  current\n",
      "loss     last          counter         weight    label  predict features\n",
      "0.000000 0.000000            1           11.0  -1.0000  -1.0000      724\n",
      "0.000000 0.000000            2           22.0  -1.0000  -1.0000      823\n",
      "0.000000 0.000000            4           44.0  -1.0000  -1.0000     1357\n",
      "0.125000 0.250000            8           88.0   1.0000  -1.0000       28\n",
      "0.250000 0.375000           16          176.0  -1.0000  -1.0000     2104\n",
      "0.218750 0.187500           32          352.0  -1.0000  -1.0000     2422\n",
      "0.140625 0.062500           64          704.0  -1.0000  -1.0000      523\n",
      "0.093750 0.046875          128         1408.0  -1.0000  -1.0000      133\n",
      "0.070312 0.046875          256         2816.0  -1.0000  -1.0000     1855\n",
      "0.082031 0.093750          512         5632.0  -1.0000  -1.0000      811\n",
      "0.087891 0.093750         1024        11264.0  -1.0000  -1.0000      274\n",
      "0.092348 0.092348         2048        22528.0   1.0000   1.0000     1231 h\n",
      "0.092348 0.092348         4096        45056.0  -1.0000  -1.0000      427 h\n",
      "\n",
      "finished run\n",
      "number of examples per pass = 1509\n",
      "passes used = 4\n",
      "weighted example sum = 66396.000000\n",
      "weighted label sum = -55748.000000\n",
      "average loss = 0.092348 h\n",
      "best constant = -2.439829\n",
      "best constant's loss = 0.279222\n",
      "total feature number = 4516180\n",
      "Generating 2-grams for all namespaces.\n",
      "Generating 1-skips for all namespaces.\n",
      "only testing\n",
      "predictions = /home/srivbane/shared/caringbridge/data/projects/qual-health-journeys/classification/responsibilities/vw/responsibility_binary_continued_monitoring_default_train.pred\n",
      "raw predictions = /home/srivbane/shared/caringbridge/data/projects/qual-health-journeys/classification/responsibilities/vw/responsibility_binary_continued_monitoring_default_train.pred.raw\n",
      "Num weight bits = 27\n",
      "learning rate = 0.5\n",
      "initial_t = 0\n",
      "power_t = 0.5\n",
      "using no cache\n",
      "Reading datafile = /home/srivbane/shared/caringbridge/data/projects/qual-health-journeys/classification/responsibilities/vw/responsibility_binary_continued_monitoring_default.train\n",
      "num sources = 1\n",
      "average  since         example        example  current  current  current\n",
      "loss     last          counter         weight    label  predict features\n",
      "11.137771 11.137771            1           11.0  -1.0000  -4.3373      724\n",
      "9.166598 7.195425            2           22.0  -1.0000  -3.6824      823\n",
      "17.735876 26.305155            4           44.0  -1.0000  -7.5760     1357\n",
      "19.069451 20.403025            8           88.0   1.0000   0.4827       28\n",
      "67.924536 116.779621           16          176.0  -1.0000  -4.6834     2104\n",
      "56.533348 45.142159           32          352.0  -1.0000 -13.0485     2422\n",
      "41.838216 27.143084           64          704.0  -1.0000  -5.2180      523\n",
      "37.616559 33.394902          128         1408.0  -1.0000  -2.7875      133\n",
      "36.395827 35.175096          256         2816.0  -1.0000 -10.3291     1855\n",
      "33.079325 29.762823          512         5632.0  -1.0000  -5.7850      811\n",
      "29.282449 25.485573         1024        11264.0  -1.0000  -5.7843      274\n",
      "\n",
      "finished run\n",
      "number of examples per pass = 1888\n",
      "passes used = 1\n",
      "weighted example sum = 20768.000000\n",
      "weighted label sum = -17336.000000\n",
      "average loss = 24.789937\n",
      "best constant = -0.834746\n",
      "best constant's loss = 0.303200\n",
      "total feature number = 1428887\n",
      "Generating 2-grams for all namespaces.\n",
      "Generating 1-skips for all namespaces.\n",
      "using l2 regularization = 1e-05\n",
      "final_regressor = /home/srivbane/shared/caringbridge/data/projects/qual-health-journeys/classification/responsibilities/vw/responsibility_binary_giving_back_default.model\n",
      "Num weight bits = 27\n",
      "learning rate = 0.5\n",
      "initial_t = 0\n",
      "power_t = 0.5\n",
      "decay_learning_rate = 1\n",
      "creating cache_file = /home/srivbane/shared/caringbridge/data/projects/qual-health-journeys/classification/responsibilities/vw/responsibility_binary_giving_back_default.train.cache\n",
      "Reading datafile = /home/srivbane/shared/caringbridge/data/projects/qual-health-journeys/classification/responsibilities/vw/responsibility_binary_giving_back_default.train\n",
      "num sources = 1\n",
      "average  since         example        example  current  current  current\n",
      "loss     last          counter         weight    label  predict features\n",
      "0.000000 0.000000            1           22.0  -1.0000  -1.0000      724\n",
      "0.000000 0.000000            2           44.0  -1.0000  -1.0000      823\n",
      "0.000000 0.000000            4           88.0  -1.0000  -1.0000     1357\n",
      "0.000000 0.000000            8          176.0  -1.0000  -1.0000       28\n",
      "0.062500 0.125000           16          352.0  -1.0000  -1.0000     2104\n",
      "0.031250 0.000000           32          704.0  -1.0000  -1.0000     2422\n",
      "0.046875 0.062500           64         1408.0  -1.0000  -1.0000      523\n",
      "0.046875 0.046875          128         2816.0  -1.0000  -1.0000      133\n",
      "0.042969 0.039062          256         5632.0  -1.0000  -1.0000     1855\n",
      "0.037109 0.031250          512        11264.0  -1.0000  -1.0000      811\n",
      "0.048828 0.060547         1024        22528.0  -1.0000  -1.0000      274\n",
      "0.034301 0.034301         2048        45056.0  -1.0000  -1.0000     1231 h\n",
      "0.034301 0.034301         4096        90112.0  -1.0000  -1.0000      427 h\n",
      "\n",
      "finished run\n",
      "number of examples per pass = 1509\n",
      "passes used = 4\n",
      "weighted example sum = 132792.000000\n",
      "weighted label sum = -121000.000000\n",
      "average loss = 0.034301 h\n",
      "best constant = -3.069094\n",
      "best constant's loss = 0.181685\n",
      "total feature number = 4516180\n",
      "Generating 2-grams for all namespaces.\n",
      "Generating 1-skips for all namespaces.\n",
      "only testing\n",
      "predictions = /home/srivbane/shared/caringbridge/data/projects/qual-health-journeys/classification/responsibilities/vw/responsibility_binary_giving_back_default_train.pred\n",
      "raw predictions = /home/srivbane/shared/caringbridge/data/projects/qual-health-journeys/classification/responsibilities/vw/responsibility_binary_giving_back_default_train.pred.raw\n",
      "Num weight bits = 27\n",
      "learning rate = 0.5\n",
      "initial_t = 0\n",
      "power_t = 0.5\n",
      "using no cache\n",
      "Reading datafile = /home/srivbane/shared/caringbridge/data/projects/qual-health-journeys/classification/responsibilities/vw/responsibility_binary_giving_back_default.train\n",
      "num sources = 1\n",
      "average  since         example        example  current  current  current\n",
      "loss     last          counter         weight    label  predict features\n",
      "0.286376 0.286376            1           22.0  -1.0000  -0.4649      724\n",
      "3.922032 7.557688            2           44.0  -1.0000   1.7491      823\n",
      "12.400961 20.879891            4           88.0  -1.0000  -7.4421     1357\n",
      "9.928274 7.455586            8          176.0  -1.0000  -1.9648       28\n",
      "172.882327 335.836380           16          352.0  -1.0000  -7.4031     2104\n",
      "121.043544 69.204761           32          704.0  -1.0000  -6.9926     2422\n",
      "78.351974 35.660405           64         1408.0  -1.0000  -6.7764      523\n",
      "66.711230 55.070485          128         2816.0  -1.0000  -3.3361      133\n",
      "60.093167 53.475103          256         5632.0  -1.0000  -6.1014     1855\n",
      "54.806343 49.519520          512        11264.0  -1.0000  -6.8144      811\n",
      "48.178809 41.551275         1024        22528.0  -1.0000  -6.2660      274\n",
      "\n",
      "finished run\n",
      "number of examples per pass = 1888\n",
      "passes used = 1\n",
      "weighted example sum = 41536.000000\n",
      "weighted label sum = -38016.000000\n",
      "average loss = 41.106857\n",
      "best constant = -0.915254\n",
      "best constant's loss = 0.162310\n",
      "total feature number = 1428887\n",
      "Generating 2-grams for all namespaces.\n",
      "Generating 1-skips for all namespaces.\n",
      "using l2 regularization = 1e-05\n",
      "final_regressor = /home/srivbane/shared/caringbridge/data/projects/qual-health-journeys/classification/responsibilities/vw/responsibility_binary_behavior_changes_default.model\n",
      "Num weight bits = 27\n",
      "learning rate = 0.5\n",
      "initial_t = 0\n",
      "power_t = 0.5\n",
      "decay_learning_rate = 1\n",
      "creating cache_file = /home/srivbane/shared/caringbridge/data/projects/qual-health-journeys/classification/responsibilities/vw/responsibility_binary_behavior_changes_default.train.cache\n",
      "Reading datafile = /home/srivbane/shared/caringbridge/data/projects/qual-health-journeys/classification/responsibilities/vw/responsibility_binary_behavior_changes_default.train\n",
      "num sources = 1\n",
      "average  since         example        example  current  current  current\n",
      "loss     last          counter         weight    label  predict features\n",
      "0.000000 0.000000            1           23.0  -1.0000  -1.0000      724\n",
      "0.000000 0.000000            2           46.0  -1.0000  -1.0000      823\n",
      "0.000000 0.000000            4           92.0  -1.0000  -1.0000     1357\n",
      "0.000000 0.000000            8          184.0  -1.0000  -1.0000       28\n",
      "0.000000 0.000000           16          368.0  -1.0000  -1.0000     2104\n",
      "0.000000 0.000000           32          736.0  -1.0000  -1.0000     2422\n",
      "0.031250 0.062500           64         1472.0  -1.0000  -1.0000      523\n",
      "0.046875 0.062500          128         2944.0  -1.0000  -1.0000      133\n",
      "0.042969 0.039062          256         5888.0  -1.0000  -1.0000     1855\n",
      "0.042969 0.042969          512        11776.0  -1.0000  -1.0000      811\n",
      "0.046875 0.050781         1024        23552.0  -1.0000  -1.0000      274\n",
      "0.042216 0.042216         2048        47104.0  -1.0000  -1.0000     1231 h\n",
      "0.043536 0.044855         4096        94208.0  -1.0000  -1.0000      427 h\n",
      "\n",
      "finished run\n",
      "number of examples per pass = 1509\n",
      "passes used = 4\n",
      "weighted example sum = 138828.000000\n",
      "weighted label sum = -127788.000000\n",
      "average loss = 0.042216 h\n",
      "best constant = -3.184284\n",
      "best constant's loss = 0.167185\n",
      "total feature number = 4516180\n",
      "Generating 2-grams for all namespaces.\n",
      "Generating 1-skips for all namespaces.\n",
      "only testing\n",
      "predictions = /home/srivbane/shared/caringbridge/data/projects/qual-health-journeys/classification/responsibilities/vw/responsibility_binary_behavior_changes_default_train.pred\n",
      "raw predictions = /home/srivbane/shared/caringbridge/data/projects/qual-health-journeys/classification/responsibilities/vw/responsibility_binary_behavior_changes_default_train.pred.raw\n",
      "Num weight bits = 27\n",
      "learning rate = 0.5\n",
      "initial_t = 0\n",
      "power_t = 0.5\n",
      "using no cache\n",
      "Reading datafile = /home/srivbane/shared/caringbridge/data/projects/qual-health-journeys/classification/responsibilities/vw/responsibility_binary_behavior_changes_default.train\n",
      "num sources = 1\n",
      "average  since         example        example  current  current  current\n",
      "loss     last          counter         weight    label  predict features\n",
      "0.014358 0.014358            1           23.0  -1.0000  -0.8802      724\n",
      "2.060280 4.106202            2           46.0  -1.0000   1.0264      823\n",
      "9.856915 17.653549            4           92.0  -1.0000  -6.9199     1357\n",
      "9.050026 8.243137            8          184.0  -1.0000  -2.0270       28\n",
      "146.637527 284.225029           16          368.0  -1.0000  -6.3590     2104\n",
      "109.734395 72.831263           32          736.0  -1.0000 -11.1129     2422\n",
      "77.746182 45.757970           64         1472.0  -1.0000  -4.2334      523\n",
      "63.042930 48.339677          128         2944.0  -1.0000  -3.0256      133\n",
      "58.566463 54.089997          256         5888.0  -1.0000  -9.5649     1855\n",
      "57.034907 55.503350          512        11776.0  -1.0000  -5.5473      811\n",
      "50.634543 44.234180         1024        23552.0  -1.0000  -5.4690      274\n",
      "\n",
      "finished run\n",
      "number of examples per pass = 1888\n",
      "passes used = 1\n",
      "weighted example sum = 43424.000000\n",
      "weighted label sum = -39882.000000\n",
      "average loss = 44.614042\n",
      "best constant = -0.918432\n",
      "best constant's loss = 0.156482\n",
      "total feature number = 1428887\n"
     ]
    }
   ],
   "source": [
    "%%bash -s {working_dir} {vw_binary_responsibilities} {vw_test_filepath} {holdout_after}\n",
    "working_dir=\"${1}\"\n",
    "vw_binary_responsibilities=\"${2}\"\n",
    "test_file=\"${3}\"\n",
    "\n",
    "holdout_after=\"${4}\"\n",
    "\n",
    "for i in $(echo ${vw_binary_responsibilities} | sed \"s/,/ /g\")\n",
    "do\n",
    "    echo \"Responsibility: ${i}\" ;\n",
    "    train_file=\"/home/srivbane/shared/caringbridge/data/projects/qual-health-journeys/classification/responsibilities/vw/responsibility_binary_${i}_default.train\" ;\n",
    "    model_file=\"${working_dir}/responsibility_binary_${i}_default.model\" ;\n",
    "    echo \"Training from file '${train_file}.raw' to model '${model_file}'.\" ;\n",
    "    vw -k -c -b 27 --binary --loss_function logistic --l2 0.00001 -d ${train_file} -f ${model_file} --passes 10 --holdout_after ${holdout_after} --ngram 2 --skips 1 ;\n",
    "    #vw -k -c -b 27 --binary --loss_function hinge -d ${train_file} -f ${model_file} --passes 20 --holdout_after ${holdout_after} --ngram 2 --skips 1 ;\n",
    "    echo ;\n",
    "\n",
    "    pred_train_file=\"${working_dir}/responsibility_binary_${i}_default_train.pred\" ;\n",
    "    echo \"Outputting raw predictions to file '${pred_train_file}.raw'.\" ;\n",
    "    echo ;\n",
    "    vw -t -i ${model_file} -p ${pred_train_file} -d ${train_file} -r ${pred_train_file}.raw ;\n",
    "    echo ;\n",
    "    \n",
    "    #echo \"Predicting on test set.\" ;\n",
    "    #pred_test_file=\"${working_dir}/responsibility_binary_${i}_default_test.pred\" ;\n",
    "    #vw -t -i ${model_file} -p ${pred_test_file} -d ${test_file} -r ${pred_test_file}.raw ;\n",
    "    #echo ;\n",
    "done\n",
    " \n",
    "echo \"Finished.\""
   ]
  },
  {
   "cell_type": "code",
   "execution_count": 207,
   "metadata": {},
   "outputs": [
    {
     "name": "stdout",
     "output_type": "stream",
     "text": [
      "3.597436 sid382634joid51be46bf6ca004dd5900277e\r\n",
      "-5.307301 sid1031202joid55a7263a8b5cd3791b2323a9\r\n",
      "1.950661 sid131547joid51be1a916ca0047f49009b36\r\n",
      "5.285608 sid230820joid51be32306ca0048416003f2e\r\n",
      "4.357742 sid264906joid51be39c66ca0046a2e003ca8\r\n"
     ]
    }
   ],
   "source": [
    "!head -n 5 /home/srivbane/shared/caringbridge/data/projects/qual-health-journeys/classification/responsibilities/vw/responsibility_binary_compliance_default_train.pred"
   ]
  },
  {
   "cell_type": "code",
   "execution_count": 140,
   "metadata": {},
   "outputs": [
    {
     "data": {
      "text/plain": [
       "13"
      ]
     },
     "execution_count": 140,
     "metadata": {},
     "output_type": "execute_result"
    }
   ],
   "source": [
    "raw_pred_template = \"/home/srivbane/shared/caringbridge/data/projects/qual-health-journeys/classification/responsibilities/vw/responsibility_binary_%s_default_train.pred\"\n",
    "binary_pred_dfs = []\n",
    "for resp_label in responsibility_labels:\n",
    "    raw_pred_filepath = raw_pred_template % resp_label\n",
    "    resp_preds = read_raw_binary_responsibility_preds(raw_pred_filepath)\n",
    "    # for hinge predictions:\n",
    "    #resp_preds['pred'] = (resp_preds['raw_pred'] > 0).astype(int)\n",
    "    # for logistic predictions:\n",
    "    resp_preds['pred'] = 1/(1+np.exp(resp_preds['raw_pred']))\n",
    "    binary_pred_dfs.append(resp_preds)\n",
    "len(binary_pred_dfs)"
   ]
  },
  {
   "cell_type": "code",
   "execution_count": 141,
   "metadata": {},
   "outputs": [
    {
     "data": {
      "text/plain": [
       "0.9999999999999922"
      ]
     },
     "execution_count": 141,
     "metadata": {},
     "output_type": "execute_result"
    }
   ],
   "source": [
    "# confirm that the model contains probabilities in the range 0-1\n",
    "# (the outputted value should be very close to 1)\n",
    "np.ptp(binary_pred_dfs[0]['pred'])"
   ]
  },
  {
   "cell_type": "code",
   "execution_count": 142,
   "metadata": {},
   "outputs": [],
   "source": [
    "# identify the site_id/journal_oid pairs that are in the validation set\n",
    "annotated_df = full_df[full_df.is_annotated]\n",
    "# note: this approach assumes that all responsibility dfs have the same subset of samples for validation\n",
    "sample_val_df = binary_pred_dfs[0].iloc[holdout_after+1:]\n",
    "\n",
    "# to make the annotated entries align perfectly with the predictions, we sort all of them by site_id/journal_oid\n",
    "#.sort_values(by=[\"site_id\", \"journal_oid\"])\n",
    "#for binary_pred_df in binary_pred_dfs:\n",
    "#    binary_pred_df.sort_values(by=[\"site_id\", \"journal_oid\"], inplace=True)\n",
    "val_df = pd.merge(annotated_df, sample_val_df, on=[\"site_id\", \"journal_oid\"], how='inner')\n",
    "val_df = val_df.drop(columns=['raw_pred', 'pred'])\n",
    "\n",
    "# to make the annotated entries align perfectly with the predictions, we sort all of them by site_id/journal_oid\n",
    "val_df = val_df.sort_values(by=[\"site_id\", \"journal_oid\"])\n",
    "binary_val_dfs = []\n",
    "for binary_pred_df in binary_pred_dfs:\n",
    "    binary_val_df = binary_pred_df.iloc[holdout_after+1:]\n",
    "    binary_val_df = binary_val_df.sort_values(by=[\"site_id\", \"journal_oid\"])\n",
    "    binary_val_dfs.append(binary_val_df)"
   ]
  },
  {
   "cell_type": "code",
   "execution_count": 143,
   "metadata": {},
   "outputs": [
    {
     "data": {
      "text/plain": [
       "(377, 13)"
      ]
     },
     "execution_count": 143,
     "metadata": {},
     "output_type": "execute_result"
    }
   ],
   "source": [
    "# build y_true matrix (n_samples,n_classes)\n",
    "n_samples = len(val_df)\n",
    "n_classes = len(responsibility_labels)\n",
    "y_true = np.zeros((n_samples, n_classes))\n",
    "for i in range(len(val_df)):\n",
    "    row = val_df.iloc[i]\n",
    "    for j, resp_label in enumerate(responsibility_labels):\n",
    "        if row[resp_label + \"_score\"] > 0.5:\n",
    "            y_true[i,j] = 1\n",
    "y_true.shape"
   ]
  },
  {
   "cell_type": "code",
   "execution_count": 144,
   "metadata": {},
   "outputs": [
    {
     "data": {
      "text/plain": [
       "((377, 13), 0)"
      ]
     },
     "execution_count": 144,
     "metadata": {},
     "output_type": "execute_result"
    }
   ],
   "source": [
    "# build y_score matrix (n_samples,n_classes)\n",
    "n_samples = len(val_df)\n",
    "n_classes = len(responsibility_labels)\n",
    "y_score = np.zeros((n_samples, n_classes))\n",
    "error_count = 0\n",
    "for i in range(n_samples):\n",
    "    for j, resp_label in enumerate(responsibility_labels):\n",
    "        score = binary_val_dfs[j].iloc[i][\"pred\"]\n",
    "        if not np.isfinite(score):\n",
    "            print(i, j, score)\n",
    "            y_score[i,j] = -1.0\n",
    "            error_count += 1\n",
    "        else:\n",
    "            y_score[i,j] = 1 - score\n",
    "assert np.isfinite(y_score).all()\n",
    "y_score.shape, error_count"
   ]
  },
  {
   "cell_type": "code",
   "execution_count": 145,
   "metadata": {},
   "outputs": [
    {
     "data": {
      "text/plain": [
       "0.5722931844432928"
      ]
     },
     "execution_count": 145,
     "metadata": {},
     "output_type": "execute_result"
    }
   ],
   "source": [
    "sklearn.metrics.roc_auc_score(y_true, y_score)"
   ]
  },
  {
   "cell_type": "code",
   "execution_count": 146,
   "metadata": {
    "scrolled": true
   },
   "outputs": [
    {
     "name": "stdout",
     "output_type": "stream",
     "text": [
      "Threshold Macro Micro Weighted\n",
      "========================================\n",
      "     0.00  0.45  0.60     0.76\n",
      "     0.10  0.40  0.68     0.73\n",
      "     0.20  0.36  0.69     0.70\n",
      "     0.31  0.31  0.69     0.67\n",
      "     0.41  0.28  0.68     0.64\n",
      "     0.51  0.25  0.66     0.62\n",
      "     0.61  0.20  0.60     0.56\n",
      "     0.71  0.16  0.51     0.48\n",
      "     0.82  0.12  0.43     0.41\n",
      "     0.92  0.09  0.31     0.29\n"
     ]
    },
    {
     "name": "stderr",
     "output_type": "stream",
     "text": [
      "/panfs/roc/groups/3/srivbane/levon003/anaconda3/lib/python3.6/site-packages/sklearn/metrics/classification.py:1135: UndefinedMetricWarning: F-score is ill-defined and being set to 0.0 in labels with no predicted samples.\n",
      "  'precision', 'predicted', average, warn_for)\n",
      "/panfs/roc/groups/3/srivbane/levon003/anaconda3/lib/python3.6/site-packages/sklearn/metrics/classification.py:1135: UndefinedMetricWarning: F-score is ill-defined and being set to 0.0 due to no predicted samples.\n",
      "  'precision', 'predicted', average, warn_for)\n"
     ]
    }
   ],
   "source": [
    "print(\"Threshold Macro Micro Weighted\")\n",
    "print(\"=\"*40)\n",
    "scores = []\n",
    "print_freq = 5\n",
    "thresholds = np.linspace(0, 1, num=50)\n",
    "\n",
    "class_f2_score_mat = np.zeros((len(thresholds), n_classes))\n",
    "for i, threshold in enumerate(thresholds):\n",
    "    y_pred = (y_score > threshold).astype(int)\n",
    "    class_f2_scores = np.array(sklearn.metrics.fbeta_score(y_true, y_pred, 2, average=None))\n",
    "    class_f2_score_mat[i,:] = class_f2_scores\n",
    "    macro_f2_score = sklearn.metrics.fbeta_score(y_true, y_pred, 2, average='macro')\n",
    "    micro_f2_score = sklearn.metrics.fbeta_score(y_true, y_pred, 2, average='micro')\n",
    "    weighted_f2_score = sklearn.metrics.fbeta_score(y_true, y_pred, 2, average='weighted')\n",
    "    scores.append((macro_f2_score, micro_f2_score, weighted_f2_score))\n",
    "    if i % print_freq == 0:\n",
    "        print(f\"{threshold:9.2f} {macro_f2_score:5.2f} {micro_f2_score:5.2f} {weighted_f2_score:8.2f}\")"
   ]
  },
  {
   "cell_type": "code",
   "execution_count": 147,
   "metadata": {},
   "outputs": [
    {
     "name": "stdout",
     "output_type": "stream",
     "text": [
      "Micro max threshold: 0.14285714285714285\n"
     ]
    },
    {
     "data": {
      "image/png": "[encoded data removed]",
      "text/plain": [
       "<Figure size 432x288 with 1 Axes>"
      ]
     },
     "metadata": {},
     "output_type": "display_data"
    }
   ],
   "source": [
    "scores = np.array(scores)\n",
    "plt.plot(thresholds, scores[:,0], label=\"macro f2\")\n",
    "plt.plot(thresholds, scores[:,1], label=\"micro f2\")\n",
    "plt.plot(thresholds, scores[:,2], label=\"weighted f2\")\n",
    "\n",
    "micro_max = thresholds[scores.argmax(0)[1]]\n",
    "print(\"Micro max threshold:\", micro_max)\n",
    "plt.axvline(micro_max, color=\"gray\", linestyle=\"--\", label=\"micro max\")\n",
    "\n",
    "plt.legend()\n",
    "plt.show()"
   ]
  },
  {
   "cell_type": "code",
   "execution_count": 148,
   "metadata": {},
   "outputs": [],
   "source": [
    "y_pred = (y_score > micro_max).astype(int)"
   ]
  },
  {
   "cell_type": "code",
   "execution_count": 149,
   "metadata": {},
   "outputs": [
    {
     "name": "stdout",
     "output_type": "stream",
     "text": [
      "                      precision    recall  f1-score   support\n",
      "\n",
      "       communicating       0.05      0.09      0.06        11\n",
      "      info_filtering       0.21      0.76      0.33        51\n",
      "  clinical_decisions       0.09      0.42      0.15        19\n",
      "         preparation       0.25      0.66      0.36        90\n",
      "  symptom_management       0.34      0.98      0.51       122\n",
      "coordinating_support       0.15      0.57      0.24        51\n",
      "sharing_medical_info       0.88      1.00      0.93       330\n",
      "          compliance       0.79      1.00      0.88       297\n",
      "managing_transitions       0.20      0.40      0.27        82\n",
      "financial_management       0.03      0.09      0.04        11\n",
      "continued_monitoring       0.09      0.26      0.14        35\n",
      "         giving_back       0.04      0.23      0.07        13\n",
      "    behavior_changes       0.10      0.29      0.15        17\n",
      "\n",
      "         avg / total       0.56      0.83      0.64      1129\n",
      "\n"
     ]
    }
   ],
   "source": [
    "print(sklearn.metrics.classification_report(y_true, y_pred, target_names=responsibility_labels))"
   ]
  },
  {
   "cell_type": "markdown",
   "metadata": {},
   "source": [
    "#### Setting a per-class decision boundary"
   ]
  },
  {
   "cell_type": "code",
   "execution_count": 150,
   "metadata": {
    "scrolled": false
   },
   "outputs": [
    {
     "data": {
      "image/png": "[encoded data removed]",
      "text/plain": [
       "<Figure size 288x1107.69 with 2 Axes>"
      ]
     },
     "metadata": {},
     "output_type": "display_data"
    },
    {
     "data": {
      "text/plain": [
       "[('communicating', 0.0),\n",
       " ('info_filtering', 0.061224489795918366),\n",
       " ('clinical_decisions', 0.04081632653061224),\n",
       " ('preparation', 0.0),\n",
       " ('symptom_management', 0.18367346938775508),\n",
       " ('coordinating_support', 0.02040816326530612),\n",
       " ('sharing_medical_info', 0.04081632653061224),\n",
       " ('compliance', 0.04081632653061224),\n",
       " ('managing_transitions', 0.0),\n",
       " ('financial_management', 0.0),\n",
       " ('continued_monitoring', 0.0),\n",
       " ('giving_back', 0.08163265306122448),\n",
       " ('behavior_changes', 0.14285714285714285)]"
      ]
     },
     "execution_count": 150,
     "metadata": {},
     "output_type": "execute_result"
    }
   ],
   "source": [
    "# visualize the per-class f2 score\n",
    "plt.matshow(class_f2_score_mat)\n",
    "plt.yticks(np.arange(0,50), [\"%.2f\" % th for th in thresholds])\n",
    "plt.xticks(np.arange(0,13), responsibility_labels, rotation=90)\n",
    "plt.colorbar()\n",
    "\n",
    "for i, index in enumerate(class_f2_score_mat.argmax(axis=0)):\n",
    "    plt.plot(i, index, color='black', marker='x', markersize=10)\n",
    "\n",
    "plt.show()\n",
    "\n",
    "# compute the threshold that maximizes F2 score for each class separately\n",
    "max_per_class_thresholds = np.array([thresholds[i] for i in class_f2_score_mat.argmax(axis=0)])\n",
    "list(zip(responsibility_labels, max_per_class_thresholds))"
   ]
  },
  {
   "cell_type": "code",
   "execution_count": 151,
   "metadata": {},
   "outputs": [
    {
     "name": "stdout",
     "output_type": "stream",
     "text": [
      "Proportion of Validation Samples Assigned Each Responsibility\n",
      "Responsibility           % Pred  % True\n",
      "============================================================\n",
      "communicating              1.00    0.03\n",
      "info_filtering             0.99    0.14\n",
      "clinical_decisions         1.00    0.05\n",
      "preparation                1.00    0.24\n",
      "symptom_management         1.00    0.32\n",
      "coordinating_support       1.00    0.14\n",
      "sharing_medical_info       0.99    0.88\n",
      "compliance                 1.00    0.79\n",
      "managing_transitions       1.00    0.22\n",
      "financial_management       1.00    0.03\n",
      "continued_monitoring       1.00    0.09\n",
      "giving_back                1.00    0.03\n",
      "behavior_changes           1.00    0.05\n",
      "\n",
      "F2-score under different averaging conditions\n",
      "Macro Micro Weighted Samples\n",
      "==============================\n",
      " 0.45  0.60     0.76    0.56\n",
      "\n",
      "                      precision    recall  f1-score   support\n",
      "\n",
      "       communicating       0.03      1.00      0.06        11\n",
      "      info_filtering       0.14      1.00      0.24        51\n",
      "  clinical_decisions       0.05      1.00      0.10        19\n",
      "         preparation       0.24      1.00      0.39        90\n",
      "  symptom_management       0.32      1.00      0.49       122\n",
      "coordinating_support       0.14      1.00      0.24        51\n",
      "sharing_medical_info       0.87      0.99      0.93       330\n",
      "          compliance       0.79      1.00      0.88       297\n",
      "managing_transitions       0.22      1.00      0.36        82\n",
      "financial_management       0.03      1.00      0.06        11\n",
      "continued_monitoring       0.09      1.00      0.17        35\n",
      "         giving_back       0.03      1.00      0.07        13\n",
      "    behavior_changes       0.05      1.00      0.09        17\n",
      "\n",
      "         avg / total       0.55      1.00      0.65      1129\n",
      "\n"
     ]
    },
    {
     "name": "stderr",
     "output_type": "stream",
     "text": [
      "/panfs/roc/groups/3/srivbane/levon003/anaconda3/lib/python3.6/site-packages/sklearn/metrics/classification.py:1137: UndefinedMetricWarning: F-score is ill-defined and being set to 0.0 in samples with no true labels.\n",
      "  'recall', 'true', average, warn_for)\n"
     ]
    }
   ],
   "source": [
    "# rather than using a single threshold, we instead use a per-class threshold\n",
    "y_pred_per_class = (y_score_norm >= max_per_class_thresholds).astype(int)\n",
    "print(\"Proportion of Validation Samples Assigned Each Responsibility\")\n",
    "print(\"Responsibility           % Pred  % True\")\n",
    "print(\"=\"*60)\n",
    "for resp_label, pct_assigned_positive, pct_true in zip(responsibility_labels, \n",
    "                                             list(np.sum(y_pred_per_class, axis=0) / y_pred_per_class.shape[0]),\n",
    "                                             list(np.sum(y_true, axis=0) / y_pred_per_class.shape[0])):\n",
    "    print(f\"{resp_label:24} {pct_assigned_positive:6.2f}  {pct_true:6.2f}\")\n",
    "print()\n",
    "\n",
    "macro_f2_score = sklearn.metrics.fbeta_score(y_true, y_pred_per_class, 2, average='macro')\n",
    "micro_f2_score = sklearn.metrics.fbeta_score(y_true, y_pred_per_class, 2, average='micro')\n",
    "weighted_f2_score = sklearn.metrics.fbeta_score(y_true, y_pred_per_class, 2, average='weighted')\n",
    "samples_f2_score = sklearn.metrics.fbeta_score(y_true, y_pred_per_class, 2, average='samples')\n",
    "print(\"F2-score under different averaging conditions\")\n",
    "print(\"Macro Micro Weighted Samples\")\n",
    "print(\"=\"*30)\n",
    "print(f\"{macro_f2_score:5.2f} {micro_f2_score:5.2f} {weighted_f2_score:8.2f} {samples_f2_score:7.2f}\")\n",
    "print()\n",
    "\n",
    "print(sklearn.metrics.classification_report(y_true, y_pred_per_class, target_names=responsibility_labels))"
   ]
  },
  {
   "cell_type": "code",
   "execution_count": null,
   "metadata": {},
   "outputs": [],
   "source": []
  }
 ],
 "metadata": {
  "kernelspec": {
   "display_name": "Python 3",
   "language": "python",
   "name": "python3"
  },
  "language_info": {
   "codemirror_mode": {
    "name": "ipython",
    "version": 3
   },
   "file_extension": ".py",
   "mimetype": "text/x-python",
   "name": "python",
   "nbconvert_exporter": "python",
   "pygments_lexer": "ipython3",
   "version": "3.6.8"
  }
 },
 "nbformat": 4,
 "nbformat_minor": 2
}
