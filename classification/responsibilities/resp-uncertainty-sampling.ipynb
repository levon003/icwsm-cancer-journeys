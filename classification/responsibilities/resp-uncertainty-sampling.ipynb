{
 "cells": [
  {
   "cell_type": "markdown",
   "metadata": {},
   "source": [
    "Uncertainty Sampling for Responsibilities\n",
    "===\n",
    "\n",
    "Identifying journals for additional annotation based on the 'confidence' of the classifier."
   ]
  },
  {
   "cell_type": "code",
   "execution_count": 1,
   "metadata": {
    "collapsed": true
   },
   "outputs": [],
   "source": [
    "%reload_ext autoreload\n",
    "%autoreload 2\n",
    "%matplotlib inline"
   ]
  },
  {
   "cell_type": "code",
   "execution_count": 2,
   "metadata": {
    "collapsed": true
   },
   "outputs": [],
   "source": [
    "import sys\n",
    "sys.path.append(\"../../annotation_data\")"
   ]
  },
  {
   "cell_type": "code",
   "execution_count": 3,
   "metadata": {
    "collapsed": true
   },
   "outputs": [],
   "source": [
    "from responsibility import *\n",
    "from utils import *"
   ]
  },
  {
   "cell_type": "code",
   "execution_count": 18,
   "metadata": {
    "collapsed": true
   },
   "outputs": [],
   "source": [
    "import pandas as pd\n",
    "import numpy as np\n",
    "import sklearn\n",
    "import sklearn.metrics\n",
    "import os\n",
    "import scipy"
   ]
  },
  {
   "cell_type": "code",
   "execution_count": 5,
   "metadata": {
    "collapsed": true
   },
   "outputs": [],
   "source": [
    "import matplotlib.pyplot as plt\n",
    "import matplotlib.dates as md\n",
    "import matplotlib\n",
    "import pylab as pl"
   ]
  },
  {
   "cell_type": "code",
   "execution_count": 6,
   "metadata": {},
   "outputs": [
    {
     "data": {
      "text/plain": [
       "157389"
      ]
     },
     "execution_count": 6,
     "metadata": {},
     "output_type": "execute_result"
    }
   ],
   "source": [
    "vw_working_dir = \"/home/srivbane/shared/caringbridge/data/projects/qual-health-journeys/classification/responsibilities/vw\"\n",
    "all_preds_filepath = os.path.join(vw_working_dir, \"vw_all_preds.pkl\")\n",
    "df = pd.read_pickle(all_preds_filepath)\n",
    "len(df)"
   ]
  },
  {
   "cell_type": "code",
   "execution_count": 7,
   "metadata": {
    "scrolled": true
   },
   "outputs": [
    {
     "data": {
      "text/html": [
       "<div>\n",
       "<style scoped>\n",
       "    .dataframe tbody tr th:only-of-type {\n",
       "        vertical-align: middle;\n",
       "    }\n",
       "\n",
       "    .dataframe tbody tr th {\n",
       "        vertical-align: top;\n",
       "    }\n",
       "\n",
       "    .dataframe thead th {\n",
       "        text-align: right;\n",
       "    }\n",
       "</style>\n",
       "<table border=\"1\" class=\"dataframe\">\n",
       "  <thead>\n",
       "    <tr style=\"text-align: right;\">\n",
       "      <th></th>\n",
       "      <th>behavior_changes_pred</th>\n",
       "      <th>compliance_pred</th>\n",
       "      <th>coordinating_support_pred</th>\n",
       "      <th>financial_management_pred</th>\n",
       "      <th>giving_back_pred</th>\n",
       "      <th>sharing_medical_info_pred</th>\n",
       "    </tr>\n",
       "  </thead>\n",
       "  <tbody>\n",
       "    <tr>\n",
       "      <th>0</th>\n",
       "      <td>0.566514</td>\n",
       "      <td>0.325545</td>\n",
       "      <td>0.519111</td>\n",
       "      <td>0.575837</td>\n",
       "      <td>0.596610</td>\n",
       "      <td>0.354442</td>\n",
       "    </tr>\n",
       "    <tr>\n",
       "      <th>1</th>\n",
       "      <td>0.514408</td>\n",
       "      <td>0.090461</td>\n",
       "      <td>0.481237</td>\n",
       "      <td>0.517510</td>\n",
       "      <td>0.540775</td>\n",
       "      <td>0.057784</td>\n",
       "    </tr>\n",
       "    <tr>\n",
       "      <th>2</th>\n",
       "      <td>0.218780</td>\n",
       "      <td>0.138589</td>\n",
       "      <td>0.190549</td>\n",
       "      <td>0.213944</td>\n",
       "      <td>0.249954</td>\n",
       "      <td>0.131028</td>\n",
       "    </tr>\n",
       "    <tr>\n",
       "      <th>3</th>\n",
       "      <td>0.290441</td>\n",
       "      <td>0.112008</td>\n",
       "      <td>0.306833</td>\n",
       "      <td>0.287974</td>\n",
       "      <td>0.309798</td>\n",
       "      <td>0.095549</td>\n",
       "    </tr>\n",
       "    <tr>\n",
       "      <th>4</th>\n",
       "      <td>0.363212</td>\n",
       "      <td>0.115526</td>\n",
       "      <td>0.195098</td>\n",
       "      <td>0.396739</td>\n",
       "      <td>0.401722</td>\n",
       "      <td>0.103328</td>\n",
       "    </tr>\n",
       "  </tbody>\n",
       "</table>\n",
       "</div>"
      ],
      "text/plain": [
       "   behavior_changes_pred  compliance_pred  coordinating_support_pred  \\\n",
       "0               0.566514         0.325545                   0.519111   \n",
       "1               0.514408         0.090461                   0.481237   \n",
       "2               0.218780         0.138589                   0.190549   \n",
       "3               0.290441         0.112008                   0.306833   \n",
       "4               0.363212         0.115526                   0.195098   \n",
       "\n",
       "   financial_management_pred  giving_back_pred  sharing_medical_info_pred  \n",
       "0                   0.575837          0.596610                   0.354442  \n",
       "1                   0.517510          0.540775                   0.057784  \n",
       "2                   0.213944          0.249954                   0.131028  \n",
       "3                   0.287974          0.309798                   0.095549  \n",
       "4                   0.396739          0.401722                   0.103328  "
      ]
     },
     "execution_count": 7,
     "metadata": {},
     "output_type": "execute_result"
    }
   ],
   "source": [
    "df[[col for col in df.columns if col.endswith(\"_pred\")]].head()"
   ]
  },
  {
   "cell_type": "code",
   "execution_count": 33,
   "metadata": {},
   "outputs": [
    {
     "data": {
      "text/plain": [
       "((155498, 6), (1891, 6))"
      ]
     },
     "execution_count": 33,
     "metadata": {},
     "output_type": "execute_result"
    }
   ],
   "source": [
    "# We make copies to let us create new columns as-needed\n",
    "a_df = df[df.is_annotated].copy()\n",
    "un_df = df[~df.is_annotated].copy()\n",
    "y_pred = un_df[[resp_label + \"_pred_label\" for resp_label in high_irr_responsibility_labels]].values\n",
    "y_score_raw = un_df[[resp_label + \"_pred\" for resp_label in high_irr_responsibility_labels]].values\n",
    "y_score = 1 - np.clip(y_score_raw, 0, 1)\n",
    "assert y_pred.shape == y_score.shape\n",
    "y_true = a_df[[resp_label + \"_label\" for resp_label in high_irr_responsibility_labels]].values\n",
    "y_pred.shape, y_true.shape"
   ]
  },
  {
   "cell_type": "code",
   "execution_count": null,
   "metadata": {
    "collapsed": true
   },
   "outputs": [],
   "source": []
  },
  {
   "cell_type": "code",
   "execution_count": 34,
   "metadata": {
    "collapsed": true
   },
   "outputs": [],
   "source": [
    "def compute_max_margin_prediction_uncertainty(pred, threshold=0.5):\n",
    "    # See \"Active Learning with Multi-Label SVM Classification\" eq. 2\n",
    "    pos_pred = pred[pred > 0.5]\n",
    "    neg_pred = pred[pred < 0.5]\n",
    "    if len(pos_pred) == 0 or len(neg_pred) == 0:\n",
    "        # All or none of the labels were assigned using this threshold!\n",
    "        # Thus we say the margin is the distance to the threshold\n",
    "        return threshold - np.max(pred) if len(pos_pred) == 0 else np.min(pred) - threshold\n",
    "    min_pos_pred = np.min(pos_pred)\n",
    "    max_neg_pred = np.max(neg_pred)\n",
    "    sep_margin = min_pos_pred - max_neg_pred\n",
    "    return sep_margin"
   ]
  },
  {
   "cell_type": "markdown",
   "metadata": {},
   "source": [
    "## Cardinality Sampling"
   ]
  },
  {
   "cell_type": "code",
   "execution_count": 35,
   "metadata": {},
   "outputs": [
    {
     "data": {
      "image/png": "[encoded data removed]",
      "text/plain": [
       "<Figure size 432x288 with 1 Axes>"
      ]
     },
     "metadata": {},
     "output_type": "display_data"
    }
   ],
   "source": [
    "pred_cardinality = np.apply_along_axis(lambda row: np.sum(row), 1, y_pred)\n",
    "un_df['cardinality'] = pred_cardinality\n",
    "\n",
    "plt.hist(pred_cardinality, bins=6)\n",
    "plt.show()"
   ]
  },
  {
   "cell_type": "code",
   "execution_count": 37,
   "metadata": {},
   "outputs": [
    {
     "data": {
      "image/png": "[encoded data removed]",
      "text/plain": [
       "<Figure size 432x288 with 1 Axes>"
      ]
     },
     "metadata": {},
     "output_type": "display_data"
    }
   ],
   "source": [
    "# also compute and insert entropy measure\n",
    "pred_mmpu = np.apply_along_axis(lambda row: compute_max_margin_prediction_uncertainty(row), 1, y_score)\n",
    "un_df['max_margin'] = pred_mmpu\n",
    "assert np.isclose(np.ptp(pred_mmpu), 1)\n",
    "\n",
    "plt.hist(pred_mmpu, range=(0,1), bins=30)\n",
    "plt.show()"
   ]
  },
  {
   "cell_type": "code",
   "execution_count": 39,
   "metadata": {
    "collapsed": true
   },
   "outputs": [],
   "source": [
    "un_df.sort_values(by=['cardinality', 'max_margin'], ascending=False, inplace=True)"
   ]
  },
  {
   "cell_type": "code",
   "execution_count": 42,
   "metadata": {},
   "outputs": [
    {
     "data": {
      "text/html": [
       "<div>\n",
       "<style scoped>\n",
       "    .dataframe tbody tr th:only-of-type {\n",
       "        vertical-align: middle;\n",
       "    }\n",
       "\n",
       "    .dataframe tbody tr th {\n",
       "        vertical-align: top;\n",
       "    }\n",
       "\n",
       "    .dataframe thead th {\n",
       "        text-align: right;\n",
       "    }\n",
       "</style>\n",
       "<table border=\"1\" class=\"dataframe\">\n",
       "  <thead>\n",
       "    <tr style=\"text-align: right;\">\n",
       "      <th></th>\n",
       "      <th>site_id</th>\n",
       "      <th>journal_oid</th>\n",
       "      <th>cardinality</th>\n",
       "      <th>max_margin</th>\n",
       "      <th>coordinating_support_pred_label</th>\n",
       "      <th>sharing_medical_info_pred_label</th>\n",
       "      <th>compliance_pred_label</th>\n",
       "      <th>financial_management_pred_label</th>\n",
       "      <th>giving_back_pred_label</th>\n",
       "      <th>behavior_changes_pred_label</th>\n",
       "    </tr>\n",
       "  </thead>\n",
       "  <tbody>\n",
       "    <tr>\n",
       "      <th>85862</th>\n",
       "      <td>829111</td>\n",
       "      <td>523d20accb16b4a80ea80789</td>\n",
       "      <td>6</td>\n",
       "      <td>0.368323</td>\n",
       "      <td>1</td>\n",
       "      <td>1</td>\n",
       "      <td>1</td>\n",
       "      <td>1</td>\n",
       "      <td>1</td>\n",
       "      <td>1</td>\n",
       "    </tr>\n",
       "    <tr>\n",
       "      <th>91559</th>\n",
       "      <td>839384</td>\n",
       "      <td>52a24586ac7ee95c507d4602</td>\n",
       "      <td>6</td>\n",
       "      <td>0.368323</td>\n",
       "      <td>1</td>\n",
       "      <td>1</td>\n",
       "      <td>1</td>\n",
       "      <td>1</td>\n",
       "      <td>1</td>\n",
       "      <td>1</td>\n",
       "    </tr>\n",
       "    <tr>\n",
       "      <th>145932</th>\n",
       "      <td>715191</td>\n",
       "      <td>5272895da689b4cf36c142a5</td>\n",
       "      <td>6</td>\n",
       "      <td>0.368323</td>\n",
       "      <td>1</td>\n",
       "      <td>1</td>\n",
       "      <td>1</td>\n",
       "      <td>1</td>\n",
       "      <td>1</td>\n",
       "      <td>1</td>\n",
       "    </tr>\n",
       "    <tr>\n",
       "      <th>146903</th>\n",
       "      <td>719363</td>\n",
       "      <td>525f036d0dad103249c4a209</td>\n",
       "      <td>6</td>\n",
       "      <td>0.311400</td>\n",
       "      <td>1</td>\n",
       "      <td>1</td>\n",
       "      <td>1</td>\n",
       "      <td>1</td>\n",
       "      <td>1</td>\n",
       "      <td>1</td>\n",
       "    </tr>\n",
       "    <tr>\n",
       "      <th>146898</th>\n",
       "      <td>719363</td>\n",
       "      <td>523083d2a589b4222550fc57</td>\n",
       "      <td>6</td>\n",
       "      <td>0.311013</td>\n",
       "      <td>1</td>\n",
       "      <td>1</td>\n",
       "      <td>1</td>\n",
       "      <td>1</td>\n",
       "      <td>1</td>\n",
       "      <td>1</td>\n",
       "    </tr>\n",
       "  </tbody>\n",
       "</table>\n",
       "</div>"
      ],
      "text/plain": [
       "        site_id               journal_oid  cardinality  max_margin  \\\n",
       "85862    829111  523d20accb16b4a80ea80789            6    0.368323   \n",
       "91559    839384  52a24586ac7ee95c507d4602            6    0.368323   \n",
       "145932   715191  5272895da689b4cf36c142a5            6    0.368323   \n",
       "146903   719363  525f036d0dad103249c4a209            6    0.311400   \n",
       "146898   719363  523083d2a589b4222550fc57            6    0.311013   \n",
       "\n",
       "        coordinating_support_pred_label  sharing_medical_info_pred_label  \\\n",
       "85862                                 1                                1   \n",
       "91559                                 1                                1   \n",
       "145932                                1                                1   \n",
       "146903                                1                                1   \n",
       "146898                                1                                1   \n",
       "\n",
       "        compliance_pred_label  financial_management_pred_label  \\\n",
       "85862                       1                                1   \n",
       "91559                       1                                1   \n",
       "145932                      1                                1   \n",
       "146903                      1                                1   \n",
       "146898                      1                                1   \n",
       "\n",
       "        giving_back_pred_label  behavior_changes_pred_label  \n",
       "85862                        1                            1  \n",
       "91559                        1                            1  \n",
       "145932                       1                            1  \n",
       "146903                       1                            1  \n",
       "146898                       1                            1  "
      ]
     },
     "execution_count": 42,
     "metadata": {},
     "output_type": "execute_result"
    }
   ],
   "source": [
    "display_cols = ['site_id', 'journal_oid', 'cardinality', 'max_margin'] + [resp_label + \"_pred_label\" for resp_label in high_irr_responsibility_labels]\n",
    "un_df[display_cols].head()"
   ]
  },
  {
   "cell_type": "code",
   "execution_count": 45,
   "metadata": {},
   "outputs": [
    {
     "name": "stdout",
     "output_type": "stream",
     "text": [
      "829111#523d20accb16b4a80ea80789  http://127.0.0.1:5000/siteId/829111#523d20accb16b4a80ea80789\n",
      "839384#52a24586ac7ee95c507d4602  http://127.0.0.1:5000/siteId/839384#52a24586ac7ee95c507d4602\n",
      "715191#5272895da689b4cf36c142a5  http://127.0.0.1:5000/siteId/715191#5272895da689b4cf36c142a5\n",
      "719363#525f036d0dad103249c4a209  http://127.0.0.1:5000/siteId/719363#525f036d0dad103249c4a209\n",
      "719363#523083d2a589b4222550fc57  http://127.0.0.1:5000/siteId/719363#523083d2a589b4222550fc57\n",
      "892521#53ac30464db921e00e87bbff  http://127.0.0.1:5000/siteId/892521#53ac30464db921e00e87bbff\n",
      "918879#54439d38ab28b9d3390b9a09  http://127.0.0.1:5000/siteId/918879#54439d38ab28b9d3390b9a09\n",
      "682979#51cb9949af3d79cf69ab511d  http://127.0.0.1:5000/siteId/682979#51cb9949af3d79cf69ab511d\n",
      "672895#51be8b186ca004f2350029c0  http://127.0.0.1:5000/siteId/672895#51be8b186ca004f2350029c0\n",
      "672895#51bf42f76ca0047c2503854e  http://127.0.0.1:5000/siteId/672895#51bf42f76ca0047c2503854e\n",
      "672895#51c15fd56ca004fb43037f74  http://127.0.0.1:5000/siteId/672895#51c15fd56ca004fb43037f74\n",
      "665323#51be8a856ca004fe33002506  http://127.0.0.1:5000/siteId/665323#51be8a856ca004fe33002506\n",
      "714287#51e2d8b4cb16b4437d45ea9c  http://127.0.0.1:5000/siteId/714287#51e2d8b4cb16b4437d45ea9c\n",
      "162846#51be23586ca004146500f90a  http://127.0.0.1:5000/siteId/162846#51be23586ca004146500f90a\n",
      "380504#55e48c844db9215b7d1f924f  http://127.0.0.1:5000/siteId/380504#55e48c844db9215b7d1f924f\n",
      "198465#51be2bc86ca0045e0100c8cd  http://127.0.0.1:5000/siteId/198465#51be2bc86ca0045e0100c8cd\n",
      "194643#51be2ad96ca004407d00bdb7  http://127.0.0.1:5000/siteId/194643#51be2ad96ca004407d00bdb7\n",
      "124934#51be18bd6ca004be4300850e  http://127.0.0.1:5000/siteId/124934#51be18bd6ca004be4300850e\n",
      "192726#51be2a616ca004d57b00c2be  http://127.0.0.1:5000/siteId/192726#51be2a616ca004d57b00c2be\n",
      "539281#51be57d06ca0040615003d3f  http://127.0.0.1:5000/siteId/539281#51be57d06ca0040615003d3f\n"
     ]
    }
   ],
   "source": [
    "num_to_display = 20\n",
    "for i in range(len(un_df)):\n",
    "    if i >= num_to_display:\n",
    "        break\n",
    "    r = un_df.iloc[i]\n",
    "    print(f\"{r.site_id}#{r.journal_oid}  {get_webclient_url(r.site_id, r.journal_oid)}\")"
   ]
  },
  {
   "cell_type": "code",
   "execution_count": 52,
   "metadata": {},
   "outputs": [
    {
     "name": "stdout",
     "output_type": "stream",
     "text": [
      "871242#538dd608ab28b9710a7e6b4f  http://127.0.0.1:5000/siteId/871242#538dd608ab28b9710a7e6b4f\n",
      "557731#51bfd30a6ca004374009f9fd  http://127.0.0.1:5000/siteId/557731#51bfd30a6ca004374009f9fd\n",
      "557731#51c065136ca0046b2808daf2  http://127.0.0.1:5000/siteId/557731#51c065136ca0046b2808daf2\n",
      "865589#531955a2ac7ee9f011898b04  http://127.0.0.1:5000/siteId/865589#531955a2ac7ee9f011898b04\n",
      "829111#523d20accb16b4a80ea80789  http://127.0.0.1:5000/siteId/829111#523d20accb16b4a80ea80789\n",
      "839384#52a24586ac7ee95c507d4602  http://127.0.0.1:5000/siteId/839384#52a24586ac7ee95c507d4602\n",
      "715191#5272895da689b4cf36c142a5  http://127.0.0.1:5000/siteId/715191#5272895da689b4cf36c142a5\n",
      "719363#523083d2a589b4222550fc57  http://127.0.0.1:5000/siteId/719363#523083d2a589b4222550fc57\n",
      "719363#525f036d0dad103249c4a209  http://127.0.0.1:5000/siteId/719363#525f036d0dad103249c4a209\n",
      "174656#51be264d6ca004ac6e008aed  http://127.0.0.1:5000/siteId/174656#51be264d6ca004ac6e008aed\n",
      "845372#52928908a589b49268cdae64  http://127.0.0.1:5000/siteId/845372#52928908a589b49268cdae64\n",
      "161781#51db24d3cb16b45d40fd3350  http://127.0.0.1:5000/siteId/161781#51db24d3cb16b45d40fd3350\n",
      "174656#51be264d6ca004ac6e0088bd  http://127.0.0.1:5000/siteId/174656#51be264d6ca004ac6e0088bd\n",
      "916963#5536cfbaac7ee9cc0207f613  http://127.0.0.1:5000/siteId/916963#5536cfbaac7ee9cc0207f613\n",
      "174656#51be264d6ca004ac6e008785  http://127.0.0.1:5000/siteId/174656#51be264d6ca004ac6e008785\n",
      "208751#51be2e5c6ca004e3090085f2  http://127.0.0.1:5000/siteId/208751#51be2e5c6ca004e3090085f2\n",
      "123594#51be185b6ca004a34200ad0b  http://127.0.0.1:5000/siteId/123594#51be185b6ca004a34200ad0b\n",
      "174656#51be264d6ca004ac6e0084ab  http://127.0.0.1:5000/siteId/174656#51be264d6ca004ac6e0084ab\n",
      "194643#51be2ad96ca004407d00bdb7  http://127.0.0.1:5000/siteId/194643#51be2ad96ca004407d00bdb7\n",
      "243954#51be34fe6ca004581f005fd2  http://127.0.0.1:5000/siteId/243954#51be34fe6ca004581f005fd2\n",
      "124934#51be18bd6ca004be4300850e  http://127.0.0.1:5000/siteId/124934#51be18bd6ca004be4300850e\n",
      "208309#51be2e486ca004ae0900a7e9  http://127.0.0.1:5000/siteId/208309#51be2e486ca004ae0900a7e9\n",
      "449128#5302783aac7ee9cd080c7706  http://127.0.0.1:5000/siteId/449128#5302783aac7ee9cd080c7706\n",
      "169907#51be254b6ca004846b009bcd  http://127.0.0.1:5000/siteId/169907#51be254b6ca004846b009bcd\n",
      "672895#51be8b186ca004f2350029c0  http://127.0.0.1:5000/siteId/672895#51be8b186ca004f2350029c0\n",
      "672895#51bf42f76ca0047c2503854e  http://127.0.0.1:5000/siteId/672895#51bf42f76ca0047c2503854e\n",
      "672895#51c15fd56ca004fb43037f74  http://127.0.0.1:5000/siteId/672895#51c15fd56ca004fb43037f74\n",
      "694979#51d4ece4a689b4960dacf7b1  http://127.0.0.1:5000/siteId/694979#51d4ece4a689b4960dacf7b1\n",
      "714287#51e2d8b4cb16b4437d45ea9c  http://127.0.0.1:5000/siteId/714287#51e2d8b4cb16b4437d45ea9c\n",
      "728169#51c160b16ca004b947017f1f  http://127.0.0.1:5000/siteId/728169#51c160b16ca004b947017f1f\n"
     ]
    }
   ],
   "source": [
    "# Select journals believed to have the \"Health Behavior Changes\" responsibility\n",
    "# Using cardinality as a tie-breaker\n",
    "un_df.sort_values(by=['behavior_changes_pred', 'cardinality'], ascending=[True, False], inplace=True)\n",
    "num_to_display = 30\n",
    "for i in range(len(un_df)):\n",
    "    if i >= num_to_display:\n",
    "        break\n",
    "    r = un_df.iloc[i]\n",
    "    print(f\"{r.site_id}#{r.journal_oid}  {get_webclient_url(r.site_id, r.journal_oid)}\")"
   ]
  },
  {
   "cell_type": "code",
   "execution_count": null,
   "metadata": {
    "collapsed": true
   },
   "outputs": [],
   "source": []
  },
  {
   "cell_type": "code",
   "execution_count": null,
   "metadata": {
    "collapsed": true
   },
   "outputs": [],
   "source": []
  },
  {
   "cell_type": "markdown",
   "metadata": {},
   "source": [
    "## Annotated Journals List"
   ]
  },
  {
   "cell_type": "code",
   "execution_count": 61,
   "metadata": {},
   "outputs": [
    {
     "name": "stdout",
     "output_type": "stream",
     "text": [
      "Finished updating responsibility journals file.\n",
      "34 journals from 23 sites have been uncertainty-sampled for responsibilities.\n"
     ]
    }
   ],
   "source": [
    "annotated_journals = \"\"\"\n",
    "# List of uncertainty-sampled journals\n",
    "\n",
    "# Max cardinality, high uncertainty\n",
    "829111#523d20accb16b4a80ea80789  http://127.0.0.1:5000/siteId/829111#523d20accb16b4a80ea80789\n",
    "839384#52a24586ac7ee95c507d4602  http://127.0.0.1:5000/siteId/839384#52a24586ac7ee95c507d4602\n",
    "715191#5272895da689b4cf36c142a5  http://127.0.0.1:5000/siteId/715191#5272895da689b4cf36c142a5\n",
    "719363#525f036d0dad103249c4a209  http://127.0.0.1:5000/siteId/719363#525f036d0dad103249c4a209\n",
    "\n",
    "# Annotated by Drew, updates likely to contain Health Behavior Changes\n",
    "871242#538dd608ab28b9710a7e6b4f  http://127.0.0.1:5000/siteId/871242#538dd608ab28b9710a7e6b4f\n",
    "557731#51bfd30a6ca004374009f9fd  http://127.0.0.1:5000/siteId/557731#51bfd30a6ca004374009f9fd\n",
    "557731#51c065136ca0046b2808daf2  http://127.0.0.1:5000/siteId/557731#51c065136ca0046b2808daf2\n",
    "865589#531955a2ac7ee9f011898b04  http://127.0.0.1:5000/siteId/865589#531955a2ac7ee9f011898b04\n",
    "829111#523d20accb16b4a80ea80789  http://127.0.0.1:5000/siteId/829111#523d20accb16b4a80ea80789\n",
    "839384#52a24586ac7ee95c507d4602  http://127.0.0.1:5000/siteId/839384#52a24586ac7ee95c507d4602\n",
    "715191#5272895da689b4cf36c142a5  http://127.0.0.1:5000/siteId/715191#5272895da689b4cf36c142a5\n",
    "719363#523083d2a589b4222550fc57  http://127.0.0.1:5000/siteId/719363#523083d2a589b4222550fc57\n",
    "719363#525f036d0dad103249c4a209  http://127.0.0.1:5000/siteId/719363#525f036d0dad103249c4a209\n",
    "174656#51be264d6ca004ac6e008aed  http://127.0.0.1:5000/siteId/174656#51be264d6ca004ac6e008aed\n",
    "845372#52928908a589b49268cdae64  http://127.0.0.1:5000/siteId/845372#52928908a589b49268cdae64\n",
    "161781#51db24d3cb16b45d40fd3350  http://127.0.0.1:5000/siteId/161781#51db24d3cb16b45d40fd3350\n",
    "174656#51be264d6ca004ac6e0088bd  http://127.0.0.1:5000/siteId/174656#51be264d6ca004ac6e0088bd\n",
    "916963#5536cfbaac7ee9cc0207f613  http://127.0.0.1:5000/siteId/916963#5536cfbaac7ee9cc0207f613\n",
    "174656#51be264d6ca004ac6e008785  http://127.0.0.1:5000/siteId/174656#51be264d6ca004ac6e008785\n",
    "208751#51be2e5c6ca004e3090085f2  http://127.0.0.1:5000/siteId/208751#51be2e5c6ca004e3090085f2\n",
    "123594#51be185b6ca004a34200ad0b  http://127.0.0.1:5000/siteId/123594#51be185b6ca004a34200ad0b\n",
    "174656#51be264d6ca004ac6e0084ab  http://127.0.0.1:5000/siteId/174656#51be264d6ca004ac6e0084ab\n",
    "194643#51be2ad96ca004407d00bdb7  http://127.0.0.1:5000/siteId/194643#51be2ad96ca004407d00bdb7\n",
    "243954#51be34fe6ca004581f005fd2  http://127.0.0.1:5000/siteId/243954#51be34fe6ca004581f005fd2\n",
    "124934#51be18bd6ca004be4300850e  http://127.0.0.1:5000/siteId/124934#51be18bd6ca004be4300850e\n",
    "208309#51be2e486ca004ae0900a7e9  http://127.0.0.1:5000/siteId/208309#51be2e486ca004ae0900a7e9\n",
    "449128#5302783aac7ee9cd080c7706  http://127.0.0.1:5000/siteId/449128#5302783aac7ee9cd080c7706\n",
    "169907#51be254b6ca004846b009bcd  http://127.0.0.1:5000/siteId/169907#51be254b6ca004846b009bcd\n",
    "672895#51be8b186ca004f2350029c0  http://127.0.0.1:5000/siteId/672895#51be8b186ca004f2350029c0\n",
    "672895#51bf42f76ca0047c2503854e  http://127.0.0.1:5000/siteId/672895#51bf42f76ca0047c2503854e\n",
    "672895#51c15fd56ca004fb43037f74  http://127.0.0.1:5000/siteId/672895#51c15fd56ca004fb43037f74\n",
    "694979#51d4ece4a689b4960dacf7b1  http://127.0.0.1:5000/siteId/694979#51d4ece4a689b4960dacf7b1\n",
    "714287#51e2d8b4cb16b4437d45ea9c  http://127.0.0.1:5000/siteId/714287#51e2d8b4cb16b4437d45ea9c\n",
    "728169#51c160b16ca004b947017f1f  http://127.0.0.1:5000/siteId/728169#51c160b16ca004b947017f1f\n",
    "\n",
    "\"\"\"\n",
    "\n",
    "active_learned_journals = [line.strip().split()[0]\n",
    "                           for line in annotated_journals.split(\"\\n\") \n",
    "                           if line.strip() != \"\" and not line.startswith(\"#\")]\n",
    "active_learned_journals = [(int(line.split(\"#\")[0]), line.split(\"#\")[1]) for line in active_learned_journals]\n",
    "unique_sites = set([site_id for site_id, _ in active_learned_journals])\n",
    "\n",
    "active_learned_sites_filename = \"uncertainty_sampled_responsibility_journals.txt\"\n",
    "active_learned_sites_filepath = os.path.join(\"/home/srivbane/shared/caringbridge/data/projects/qual-health-journeys/classification/active_learning\", active_learned_sites_filename)\n",
    "with open(active_learned_sites_filepath, 'w') as outfile:\n",
    "    outfile.write(\"\\n\".join([str(site_id) + \"#\" + journal_oid for site_id, journal_oid in active_learned_journals]))\n",
    "print(\"Finished updating responsibility journals file.\")\n",
    "print(f\"{len(active_learned_journals)} journals from {len(unique_sites)} sites have been uncertainty-sampled for responsibilities.\")"
   ]
  },
  {
   "cell_type": "code",
   "execution_count": 58,
   "metadata": {},
   "outputs": [
    {
     "data": {
      "text/plain": [
       "(1891, 82)"
      ]
     },
     "execution_count": 58,
     "metadata": {},
     "output_type": "execute_result"
    }
   ],
   "source": [
    "len(a_df), len(set(a_df.site_id))"
   ]
  },
  {
   "cell_type": "code",
   "execution_count": null,
   "metadata": {
    "collapsed": true
   },
   "outputs": [],
   "source": []
  }
 ],
 "metadata": {
  "kernelspec": {
   "display_name": "Python 3",
   "language": "python",
   "name": "python3"
  },
  "language_info": {
   "codemirror_mode": {
    "name": "ipython",
    "version": 3
   },
   "file_extension": ".py",
   "mimetype": "text/x-python",
   "name": "python",
   "nbconvert_exporter": "python",
   "pygments_lexer": "ipython3",
   "version": "3.6.8"
  }
 },
 "nbformat": 4,
 "nbformat_minor": 2
}
