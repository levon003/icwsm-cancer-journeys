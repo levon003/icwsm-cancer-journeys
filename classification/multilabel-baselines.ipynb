{
 "cells": [
  {
   "cell_type": "markdown",
   "metadata": {},
   "source": [
    "Multilabel Baselines\n",
    "===\n",
    "\n"
   ]
  },
  {
   "cell_type": "code",
   "execution_count": 1,
   "metadata": {},
   "outputs": [],
   "source": [
    "%reload_ext autoreload\n",
    "%autoreload 2\n",
    "%matplotlib inline"
   ]
  },
  {
   "cell_type": "code",
   "execution_count": 2,
   "metadata": {},
   "outputs": [],
   "source": [
    "import sys\n",
    "sys.path.append(\"../annotation_data\")"
   ]
  },
  {
   "cell_type": "code",
   "execution_count": 3,
   "metadata": {},
   "outputs": [],
   "source": [
    "from responsibility import *"
   ]
  },
  {
   "cell_type": "code",
   "execution_count": 32,
   "metadata": {},
   "outputs": [],
   "source": [
    "import pandas as pd\n",
    "import numpy as np\n",
    "import sklearn\n",
    "import sklearn.metrics\n",
    "import sklearn.model_selection\n",
    "import subprocess\n",
    "import scipy\n",
    "import itertools\n",
    "from collections import Counter"
   ]
  },
  {
   "cell_type": "code",
   "execution_count": 5,
   "metadata": {},
   "outputs": [],
   "source": [
    "import matplotlib.pyplot as plt\n",
    "import matplotlib.dates as md\n",
    "import matplotlib\n",
    "import pylab as pl"
   ]
  },
  {
   "cell_type": "code",
   "execution_count": null,
   "metadata": {},
   "outputs": [],
   "source": []
  },
  {
   "cell_type": "code",
   "execution_count": 15,
   "metadata": {},
   "outputs": [],
   "source": [
    "def get_scores(y_true, y_pred):\n",
    "    weighted_f1_score = sklearn.metrics.fbeta_score(y_true, y_pred, 1, average='weighted')\n",
    "    weighted_p_score = sklearn.metrics.precision_score(y_true, y_pred, average='weighted')\n",
    "    weighted_r_score = sklearn.metrics.recall_score(y_true, y_pred, average='weighted')\n",
    "    return weighted_p_score, weighted_r_score, weighted_f1_score"
   ]
  },
  {
   "cell_type": "code",
   "execution_count": 41,
   "metadata": {},
   "outputs": [],
   "source": [
    "def format_float(val):\n",
    "    if val >= 0 and val < 0.995:\n",
    "        return \"{:.2f}\".format(val)[1:]\n",
    "    elif val >= 0.995:\n",
    "        return \".99\"\n",
    "    else:\n",
    "        raise ValueError(\"Negatives not handled.\")"
   ]
  },
  {
   "cell_type": "markdown",
   "metadata": {},
   "source": [
    "### Responsibilities"
   ]
  },
  {
   "cell_type": "code",
   "execution_count": 6,
   "metadata": {},
   "outputs": [],
   "source": [
    "resp_subset = high_irr_responsibility_labels"
   ]
  },
  {
   "cell_type": "code",
   "execution_count": 7,
   "metadata": {},
   "outputs": [
    {
     "data": {
      "text/plain": [
       "1895"
      ]
     },
     "execution_count": 7,
     "metadata": {},
     "output_type": "execute_result"
    }
   ],
   "source": [
    "annotated_df = get_annotated_responsibility_df_fixed(conflict_score_cost=0.1, resp_subset=resp_subset)\n",
    "len(annotated_df)"
   ]
  },
  {
   "cell_type": "code",
   "execution_count": 105,
   "metadata": {},
   "outputs": [
    {
     "data": {
      "text/plain": [
       "(1895, 6)"
      ]
     },
     "execution_count": 105,
     "metadata": {},
     "output_type": "execute_result"
    }
   ],
   "source": [
    "n_samples = len(annotated_df)\n",
    "n_classes = len(resp_subset)\n",
    "y_train_score = annotated_df.loc[range(n_samples), [resp_label + \"_score\" for resp_label in resp_subset]].values\n",
    "y_true = (y_train_score > 0.5).astype(int)\n",
    "y_true.shape"
   ]
  },
  {
   "cell_type": "code",
   "execution_count": 17,
   "metadata": {},
   "outputs": [],
   "source": [
    "baseline = np.zeros(y_true.shape)"
   ]
  },
  {
   "cell_type": "code",
   "execution_count": 31,
   "metadata": {},
   "outputs": [],
   "source": [
    "def get_pred_matrix_from_row(pred_row, y_true):\n",
    "    return np.tile(pred_row, y_true.shape[0]).reshape(y_true.shape)"
   ]
  },
  {
   "cell_type": "code",
   "execution_count": 62,
   "metadata": {},
   "outputs": [],
   "source": [
    "def hamming_loss(y_true):\n",
    "    label_proportions = np.sum(y_true.T, axis=1) / y_true.shape[0]\n",
    "    subset = label_proportions >= 0.5\n",
    "    y_pred = get_pred_matrix_from_row(subset, y_true)\n",
    "    p, r, f1 = get_scores(y_true, y_pred)\n",
    "    p = format_float(p)\n",
    "    r = format_float(r)\n",
    "    f1 = format_float(f1)\n",
    "    string = f\"{p} & {r} & {f1} \\\\\\\\\"\n",
    "    return string"
   ]
  },
  {
   "cell_type": "code",
   "execution_count": 63,
   "metadata": {},
   "outputs": [],
   "source": [
    "def subset_accuracy(y_true):\n",
    "    subset_counts = Counter(tuple(row) for row in y_true).most_common()\n",
    "    max_subset = subset_counts[0][0]\n",
    "    y_pred = get_pred_matrix_from_row(max_subset, y_true)\n",
    "    p, r, f1 = get_scores(y_true, y_pred)\n",
    "    p = format_float(p)\n",
    "    r = format_float(r)\n",
    "    f1 = format_float(f1)\n",
    "    string = f\"{p} & {r} & {f1} \\\\\\\\\"\n",
    "    return string"
   ]
  },
  {
   "cell_type": "code",
   "execution_count": 104,
   "metadata": {},
   "outputs": [],
   "source": [
    "def f_measure(y_true):\n",
    "    cols = list(range(y_true.shape[1]))\n",
    "    all_subsets = []\n",
    "    for i in range(1, len(cols) + 1):\n",
    "        all_subsets += list(itertools.combinations(cols, i))\n",
    "\n",
    "    max_f1_score = -1\n",
    "    max_f1_subset = None\n",
    "    for subset in all_subsets:\n",
    "        subset_arr = np.zeros(y_true.shape[1])\n",
    "        subset_arr[list(subset)] = 1\n",
    "        \n",
    "        y_pred = get_pred_matrix_from_row(subset_arr, y_true)\n",
    "        weighted_f1_score = sklearn.metrics.fbeta_score(y_true, y_pred, 1, average='weighted')\n",
    "        if weighted_f1_score > max_f1_score:\n",
    "            max_f1_score = weighted_f1_score\n",
    "            max_f1_subset = subset_arr\n",
    "    \n",
    "    print(\"Best label set:\", max_f1_subset)\n",
    "    y_pred = get_pred_matrix_from_row(max_f1_subset, y_true)\n",
    "    p, r, f1 = get_scores(y_true, y_pred)\n",
    "    p = format_float(p)\n",
    "    r = format_float(r)\n",
    "    f1 = format_float(f1)\n",
    "    string = f\"{p} & {r} & {f1} \\\\\\\\\"\n",
    "    return string"
   ]
  },
  {
   "cell_type": "code",
   "execution_count": 106,
   "metadata": {},
   "outputs": [
    {
     "name": "stdout",
     "output_type": "stream",
     "text": [
      ".70 & .86 & .77 \\\\\n",
      ".70 & .86 & .77 \\\\\n",
      "Best label set: [1. 1. 1. 1. 1. 1.]\n",
      ".72 & .99 & .80 \\\\\n"
     ]
    }
   ],
   "source": [
    "\n",
    "\n",
    "print(hamming_loss(y_true))\n",
    "print(subset_accuracy(y_true))\n",
    "print(f_measure(y_true))"
   ]
  },
  {
   "cell_type": "code",
   "execution_count": null,
   "metadata": {},
   "outputs": [],
   "source": []
  },
  {
   "cell_type": "markdown",
   "metadata": {},
   "source": [
    "## Phases"
   ]
  },
  {
   "cell_type": "code",
   "execution_count": 87,
   "metadata": {},
   "outputs": [],
   "source": [
    "from phase import *"
   ]
  },
  {
   "cell_type": "code",
   "execution_count": 89,
   "metadata": {},
   "outputs": [
    {
     "data": {
      "text/plain": [
       "9336"
      ]
     },
     "execution_count": 89,
     "metadata": {},
     "output_type": "execute_result"
    }
   ],
   "source": [
    "working_dir_phase = '/home/srivbane/shared/caringbridge/data/projects/qual-health-journeys/classification/phases/vw'\n",
    "assert os.path.exists(working_dir_phase)\n",
    "phases_df_filepath = os.path.join(working_dir_phase, 'full_df.pkl')\n",
    "phases_df = pd.read_pickle(phases_df_filepath)\n",
    "annotated_df_phase = phases_df[phases_df.is_annotated]\n",
    "del phases_df\n",
    "len(annotated_df_phase)"
   ]
  },
  {
   "cell_type": "code",
   "execution_count": 107,
   "metadata": {},
   "outputs": [
    {
     "data": {
      "text/plain": [
       "(9336, 4)"
      ]
     },
     "execution_count": 107,
     "metadata": {},
     "output_type": "execute_result"
    }
   ],
   "source": [
    "n_samples = len(annotated_df_phase)\n",
    "n_classes = len(phase_labels)\n",
    "y_train_score = annotated_df_phase.loc[range(n_samples), [phase_label + \"_score\" for phase_label in phase_labels]].values\n",
    "y_true = (y_train_score > 0.5).astype(int)\n",
    "y_true.shape"
   ]
  },
  {
   "cell_type": "code",
   "execution_count": 108,
   "metadata": {},
   "outputs": [
    {
     "name": "stdout",
     "output_type": "stream",
     "text": [
      ".74 & .86 & .79 \\\\\n",
      ".74 & .86 & .79 \\\\\n",
      "Best label set: [1. 1. 1. 1.]\n",
      ".74 & .99 & .81 \\\\\n"
     ]
    }
   ],
   "source": [
    "print(hamming_loss(y_true))\n",
    "print(subset_accuracy(y_true))\n",
    "print(f_measure(y_true))"
   ]
  },
  {
   "cell_type": "code",
   "execution_count": null,
   "metadata": {},
   "outputs": [],
   "source": []
  }
 ],
 "metadata": {
  "kernelspec": {
   "display_name": "Python 3",
   "language": "python",
   "name": "python3"
  },
  "language_info": {
   "codemirror_mode": {
    "name": "ipython",
    "version": 3
   },
   "file_extension": ".py",
   "mimetype": "text/x-python",
   "name": "python",
   "nbconvert_exporter": "python",
   "pygments_lexer": "ipython3",
   "version": "3.6.8"
  }
 },
 "nbformat": 4,
 "nbformat_minor": 2
}
