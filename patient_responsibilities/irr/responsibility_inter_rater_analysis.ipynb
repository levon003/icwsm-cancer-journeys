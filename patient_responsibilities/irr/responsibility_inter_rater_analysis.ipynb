{
 "cells": [
  {
   "cell_type": "markdown",
   "metadata": {},
   "source": [
    "IRR Analysis for Patient Responsibilities\n",
    "==="
   ]
  },
  {
   "cell_type": "code",
   "execution_count": 1,
   "metadata": {},
   "outputs": [],
   "source": [
    "%reload_ext autoreload\n",
    "%autoreload 2\n",
    "%matplotlib inline"
   ]
  },
  {
   "cell_type": "code",
   "execution_count": 2,
   "metadata": {},
   "outputs": [],
   "source": [
    "import os\n",
    "import re\n",
    "import pandas as pd\n",
    "import numpy as np\n",
    "import sklearn\n",
    "import sklearn.metrics\n",
    "from collections import Counter\n",
    "import itertools\n",
    "import nltk\n",
    "from tqdm import tqdm"
   ]
  },
  {
   "cell_type": "code",
   "execution_count": 3,
   "metadata": {},
   "outputs": [],
   "source": [
    "import matplotlib.pyplot as plt\n",
    "import matplotlib.dates as md\n",
    "import matplotlib\n",
    "import pylab as pl"
   ]
  },
  {
   "cell_type": "code",
   "execution_count": 4,
   "metadata": {},
   "outputs": [],
   "source": [
    "import sys\n",
    "sys.path.append(\"../../annotation_data\")"
   ]
  },
  {
   "cell_type": "code",
   "execution_count": 5,
   "metadata": {},
   "outputs": [],
   "source": [
    "from responsibility import get_responsibility_annotations_by_username, responsibility_labels, responsibility_label_to_code_map, get_annotated_responsibility_df\n",
    "from utils import get_webclient_url"
   ]
  },
  {
   "cell_type": "code",
   "execution_count": 6,
   "metadata": {},
   "outputs": [
    {
     "data": {
      "text/plain": [
       "3126"
      ]
     },
     "execution_count": 6,
     "metadata": {},
     "output_type": "execute_result"
    }
   ],
   "source": [
    "responsibility_annotations = get_responsibility_annotations_by_username()\n",
    "len(responsibility_annotations)"
   ]
  },
  {
   "cell_type": "code",
   "execution_count": 7,
   "metadata": {},
   "outputs": [
    {
     "data": {
      "text/plain": [
       "{'site_id': 715191,\n",
       " 'journal_oid': '5272895da689b4cf36c142a5',\n",
       " 'username': 'levon003',\n",
       " 'responsibilities': ['sharing_medical_info'],\n",
       " 'is_corrected': False}"
      ]
     },
     "execution_count": 7,
     "metadata": {},
     "output_type": "execute_result"
    }
   ],
   "source": [
    "responsibility_annotations[0]"
   ]
  },
  {
   "cell_type": "code",
   "execution_count": 8,
   "metadata": {},
   "outputs": [
    {
     "data": {
      "text/plain": [
       "3126"
      ]
     },
     "execution_count": 8,
     "metadata": {},
     "output_type": "execute_result"
    }
   ],
   "source": [
    "df = pd.DataFrame(responsibility_annotations)\n",
    "len(df)"
   ]
  },
  {
   "cell_type": "code",
   "execution_count": 9,
   "metadata": {},
   "outputs": [
    {
     "data": {
      "text/html": [
       "<div>\n",
       "<style scoped>\n",
       "    .dataframe tbody tr th:only-of-type {\n",
       "        vertical-align: middle;\n",
       "    }\n",
       "\n",
       "    .dataframe tbody tr th {\n",
       "        vertical-align: top;\n",
       "    }\n",
       "\n",
       "    .dataframe thead th {\n",
       "        text-align: right;\n",
       "    }\n",
       "</style>\n",
       "<table border=\"1\" class=\"dataframe\">\n",
       "  <thead>\n",
       "    <tr style=\"text-align: right;\">\n",
       "      <th></th>\n",
       "      <th>is_corrected</th>\n",
       "      <th>journal_oid</th>\n",
       "      <th>responsibilities</th>\n",
       "      <th>site_id</th>\n",
       "      <th>username</th>\n",
       "    </tr>\n",
       "  </thead>\n",
       "  <tbody>\n",
       "    <tr>\n",
       "      <th>0</th>\n",
       "      <td>False</td>\n",
       "      <td>5272895da689b4cf36c142a5</td>\n",
       "      <td>[sharing_medical_info]</td>\n",
       "      <td>715191</td>\n",
       "      <td>levon003</td>\n",
       "    </tr>\n",
       "    <tr>\n",
       "      <th>1</th>\n",
       "      <td>False</td>\n",
       "      <td>525f036d0dad103249c4a209</td>\n",
       "      <td>[sharing_medical_info]</td>\n",
       "      <td>719363</td>\n",
       "      <td>levon003</td>\n",
       "    </tr>\n",
       "    <tr>\n",
       "      <th>2</th>\n",
       "      <td>False</td>\n",
       "      <td>52a24586ac7ee95c507d4602</td>\n",
       "      <td>[]</td>\n",
       "      <td>839384</td>\n",
       "      <td>levon003</td>\n",
       "    </tr>\n",
       "  </tbody>\n",
       "</table>\n",
       "</div>"
      ],
      "text/plain": [
       "   is_corrected               journal_oid        responsibilities  site_id  \\\n",
       "0         False  5272895da689b4cf36c142a5  [sharing_medical_info]   715191   \n",
       "1         False  525f036d0dad103249c4a209  [sharing_medical_info]   719363   \n",
       "2         False  52a24586ac7ee95c507d4602                      []   839384   \n",
       "\n",
       "   username  \n",
       "0  levon003  \n",
       "1  levon003  \n",
       "2  levon003  "
      ]
     },
     "execution_count": 9,
     "metadata": {},
     "output_type": "execute_result"
    }
   ],
   "source": [
    "df.head(n=3)"
   ]
  },
  {
   "cell_type": "code",
   "execution_count": 10,
   "metadata": {},
   "outputs": [
    {
     "data": {
      "text/plain": [
       "[(False, 3102), (True, 24)]"
      ]
     },
     "execution_count": 10,
     "metadata": {},
     "output_type": "execute_result"
    }
   ],
   "source": [
    "Counter(df['is_corrected']).most_common()"
   ]
  },
  {
   "cell_type": "code",
   "execution_count": 18,
   "metadata": {},
   "outputs": [
    {
     "data": {
      "text/plain": [
       "3102"
      ]
     },
     "execution_count": 18,
     "metadata": {},
     "output_type": "execute_result"
    }
   ],
   "source": [
    "df = df[df['is_corrected'] == False]\n",
    "len(df)"
   ]
  },
  {
   "cell_type": "code",
   "execution_count": 19,
   "metadata": {},
   "outputs": [
    {
     "name": "stdout",
     "output_type": "stream",
     "text": [
      "Added 10 sites from IRR file 'irr_set_3_20180830.txt'.\n",
      "Added 20 sites from IRR file 'phases_set_4_20180904.txt'.\n",
      "Added 20 sites from IRR file 'multiset_1_20181009.txt'.\n",
      "Added 20 sites from IRR file 'multiset_3_20181019.txt'.\n"
     ]
    },
    {
     "data": {
      "text/plain": [
       "70"
      ]
     },
     "execution_count": 19,
     "metadata": {},
     "output_type": "execute_result"
    }
   ],
   "source": [
    "irr_sites = []\n",
    "irr_set_dir = \"/home/srivbane/shared/caringbridge/data/projects/qual-health-journeys/instance/annotation_data/assignments/eriks074\"\n",
    "for filename in os.listdir(irr_set_dir):\n",
    "    if filename == \"multiset_4_20181206.txt\":\n",
    "        continue\n",
    "    irr_filepath = os.path.join(irr_set_dir, filename)\n",
    "    with open(irr_filepath, 'r') as infile:\n",
    "        lines = infile.readlines()[1:]  # take all the lines, minus the header\n",
    "        site_ids = [int(line) for line in lines if line.strip() != \"\"]\n",
    "        print(f\"Added {len(site_ids)} sites from IRR file '{filename}'.\")\n",
    "        irr_sites.extend(site_ids)\n",
    "len(irr_sites)"
   ]
  },
  {
   "cell_type": "code",
   "execution_count": 20,
   "metadata": {},
   "outputs": [
    {
     "data": {
      "text/plain": [
       "2009"
      ]
     },
     "execution_count": 20,
     "metadata": {},
     "output_type": "execute_result"
    }
   ],
   "source": [
    "irr_df = df[df['site_id'].isin(irr_sites)]\n",
    "len(irr_df)"
   ]
  },
  {
   "cell_type": "code",
   "execution_count": 39,
   "metadata": {},
   "outputs": [],
   "source": [
    "def get_agreement_df(user1, user2, df=None):\n",
    "    agreements_list = []\n",
    "    for key, group in df.groupby(by=[\"site_id\", \"journal_oid\"]):\n",
    "        if len(group) <= 1:\n",
    "            continue\n",
    "        annotating_users = set(group['username'])\n",
    "        if user1 not in annotating_users or user2 not in annotating_users:\n",
    "            continue\n",
    "        site_id, journal_oid = key\n",
    "\n",
    "        user1_responsibilities = group[group['username'] == user1].iloc[0]['responsibilities']\n",
    "        user2_responsibilities = group[group['username'] == user2].iloc[0]['responsibilities']\n",
    "\n",
    "        if 'none' in user1_responsibilities:\n",
    "            user1_responsibilities.remove('none')\n",
    "        if 'none' in user2_responsibilities:\n",
    "            user2_responsibilities.remove('none')\n",
    "            \n",
    "        user1_responsibility_str = \"|\".join(user1_responsibilities)\n",
    "        user2_responsibility_str = \"|\".join(user2_responsibilities)\n",
    "\n",
    "        agreement_score = 0\n",
    "        is_strict_agreement = len(set(user1_responsibilities) & set(user2_responsibilities)) == max(len(user1_responsibilities), len(user2_responsibilities))\n",
    "        is_partial_agreement = len(set(user1_responsibilities) & set(user2_responsibilities)) > 0 or len(user1_responsibilities) == len(user2_responsibilities)\n",
    "\n",
    "        agreement = {\n",
    "            \"site_id\": site_id,\n",
    "            \"journal_oid\": journal_oid,\n",
    "            \"user1\": user1,\n",
    "            \"user2\": user2,\n",
    "            \"user1_responsibilities\": user1_responsibilities,\n",
    "            \"user2_responsibilities\": user2_responsibilities,\n",
    "            \"user1_responsibility_str\": user1_responsibility_str,\n",
    "            \"user2_responsibility_str\": user2_responsibility_str,\n",
    "            \"is_strict_agreement\": is_strict_agreement,\n",
    "            \"is_partial_agreement\": is_partial_agreement\n",
    "        }\n",
    "        agreements_list.append(agreement)\n",
    "    agreement_df = pd.DataFrame(agreements_list)\n",
    "    return agreement_df"
   ]
  },
  {
   "cell_type": "code",
   "execution_count": 26,
   "metadata": {
    "scrolled": true
   },
   "outputs": [
    {
     "data": {
      "text/plain": [
       "975"
      ]
     },
     "execution_count": 26,
     "metadata": {},
     "output_type": "execute_result"
    }
   ],
   "source": [
    "user1 = \"eriks074\"\n",
    "user2 = \"luoxx498\"\n",
    "agreement_df = get_agreement_df(user1, user2)\n",
    "len(agreement_df)"
   ]
  },
  {
   "cell_type": "code",
   "execution_count": 27,
   "metadata": {},
   "outputs": [
    {
     "data": {
      "text/html": [
       "<div>\n",
       "<style scoped>\n",
       "    .dataframe tbody tr th:only-of-type {\n",
       "        vertical-align: middle;\n",
       "    }\n",
       "\n",
       "    .dataframe tbody tr th {\n",
       "        vertical-align: top;\n",
       "    }\n",
       "\n",
       "    .dataframe thead th {\n",
       "        text-align: right;\n",
       "    }\n",
       "</style>\n",
       "<table border=\"1\" class=\"dataframe\">\n",
       "  <thead>\n",
       "    <tr style=\"text-align: right;\">\n",
       "      <th></th>\n",
       "      <th>is_partial_agreement</th>\n",
       "      <th>is_strict_agreement</th>\n",
       "      <th>journal_oid</th>\n",
       "      <th>site_id</th>\n",
       "      <th>user1</th>\n",
       "      <th>user1_responsibilities</th>\n",
       "      <th>user1_responsibility_str</th>\n",
       "      <th>user2</th>\n",
       "      <th>user2_responsibilities</th>\n",
       "      <th>user2_responsibility_str</th>\n",
       "    </tr>\n",
       "  </thead>\n",
       "  <tbody>\n",
       "    <tr>\n",
       "      <th>0</th>\n",
       "      <td>True</td>\n",
       "      <td>False</td>\n",
       "      <td>51be1cc26ca004675000a798</td>\n",
       "      <td>138616</td>\n",
       "      <td>eriks074</td>\n",
       "      <td>[symptom_management, compliance]</td>\n",
       "      <td>symptom_management|compliance</td>\n",
       "      <td>luoxx498</td>\n",
       "      <td>[info_filtering, preparation, symptom_manageme...</td>\n",
       "      <td>info_filtering|preparation|symptom_management|...</td>\n",
       "    </tr>\n",
       "    <tr>\n",
       "      <th>1</th>\n",
       "      <td>True</td>\n",
       "      <td>False</td>\n",
       "      <td>51be1cc26ca004675000a7fa</td>\n",
       "      <td>138616</td>\n",
       "      <td>eriks074</td>\n",
       "      <td>[symptom_management]</td>\n",
       "      <td>symptom_management</td>\n",
       "      <td>luoxx498</td>\n",
       "      <td>[preparation, symptom_management, sharing_medi...</td>\n",
       "      <td>preparation|symptom_management|sharing_medical...</td>\n",
       "    </tr>\n",
       "    <tr>\n",
       "      <th>2</th>\n",
       "      <td>True</td>\n",
       "      <td>False</td>\n",
       "      <td>51be1cc26ca004675000a9dc</td>\n",
       "      <td>138616</td>\n",
       "      <td>eriks074</td>\n",
       "      <td>[symptom_management, sharing_medical_info, com...</td>\n",
       "      <td>symptom_management|sharing_medical_info|compli...</td>\n",
       "      <td>luoxx498</td>\n",
       "      <td>[info_filtering, preparation, symptom_manageme...</td>\n",
       "      <td>info_filtering|preparation|symptom_management|...</td>\n",
       "    </tr>\n",
       "    <tr>\n",
       "      <th>3</th>\n",
       "      <td>False</td>\n",
       "      <td>False</td>\n",
       "      <td>51be1cc26ca004675000aa78</td>\n",
       "      <td>138616</td>\n",
       "      <td>eriks074</td>\n",
       "      <td>[]</td>\n",
       "      <td></td>\n",
       "      <td>luoxx498</td>\n",
       "      <td>[symptom_management]</td>\n",
       "      <td>symptom_management</td>\n",
       "    </tr>\n",
       "    <tr>\n",
       "      <th>4</th>\n",
       "      <td>True</td>\n",
       "      <td>False</td>\n",
       "      <td>51be1cc26ca004675000aa7a</td>\n",
       "      <td>138616</td>\n",
       "      <td>eriks074</td>\n",
       "      <td>[symptom_management, compliance]</td>\n",
       "      <td>symptom_management|compliance</td>\n",
       "      <td>luoxx498</td>\n",
       "      <td>[symptom_management, sharing_medical_info, com...</td>\n",
       "      <td>symptom_management|sharing_medical_info|compli...</td>\n",
       "    </tr>\n",
       "  </tbody>\n",
       "</table>\n",
       "</div>"
      ],
      "text/plain": [
       "   is_partial_agreement  is_strict_agreement               journal_oid  \\\n",
       "0                  True                False  51be1cc26ca004675000a798   \n",
       "1                  True                False  51be1cc26ca004675000a7fa   \n",
       "2                  True                False  51be1cc26ca004675000a9dc   \n",
       "3                 False                False  51be1cc26ca004675000aa78   \n",
       "4                  True                False  51be1cc26ca004675000aa7a   \n",
       "\n",
       "   site_id     user1                             user1_responsibilities  \\\n",
       "0   138616  eriks074                   [symptom_management, compliance]   \n",
       "1   138616  eriks074                               [symptom_management]   \n",
       "2   138616  eriks074  [symptom_management, sharing_medical_info, com...   \n",
       "3   138616  eriks074                                                 []   \n",
       "4   138616  eriks074                   [symptom_management, compliance]   \n",
       "\n",
       "                            user1_responsibility_str     user2  \\\n",
       "0                      symptom_management|compliance  luoxx498   \n",
       "1                                 symptom_management  luoxx498   \n",
       "2  symptom_management|sharing_medical_info|compli...  luoxx498   \n",
       "3                                                     luoxx498   \n",
       "4                      symptom_management|compliance  luoxx498   \n",
       "\n",
       "                              user2_responsibilities  \\\n",
       "0  [info_filtering, preparation, symptom_manageme...   \n",
       "1  [preparation, symptom_management, sharing_medi...   \n",
       "2  [info_filtering, preparation, symptom_manageme...   \n",
       "3                               [symptom_management]   \n",
       "4  [symptom_management, sharing_medical_info, com...   \n",
       "\n",
       "                            user2_responsibility_str  \n",
       "0  info_filtering|preparation|symptom_management|...  \n",
       "1  preparation|symptom_management|sharing_medical...  \n",
       "2  info_filtering|preparation|symptom_management|...  \n",
       "3                                 symptom_management  \n",
       "4  symptom_management|sharing_medical_info|compli...  "
      ]
     },
     "execution_count": 27,
     "metadata": {},
     "output_type": "execute_result"
    }
   ],
   "source": [
    "agreement_df.head()"
   ]
  },
  {
   "cell_type": "code",
   "execution_count": 38,
   "metadata": {},
   "outputs": [],
   "source": [
    "def get_strict_agreement_accuracy(df):\n",
    "    acc = np.sum(df['is_strict_agreement']) / len(df)\n",
    "    return acc\n",
    "\n",
    "def get_partial_agreement_accuracy(df):\n",
    "    acc = np.sum(df['is_partial_agreement']) / len(df)\n",
    "    return acc"
   ]
  },
  {
   "cell_type": "code",
   "execution_count": 21,
   "metadata": {},
   "outputs": [
    {
     "data": {
      "text/plain": [
       "0.19384615384615383"
      ]
     },
     "execution_count": 21,
     "metadata": {},
     "output_type": "execute_result"
    }
   ],
   "source": [
    "get_strict_agreement_accuracy(agreement_df)"
   ]
  },
  {
   "cell_type": "code",
   "execution_count": 22,
   "metadata": {},
   "outputs": [
    {
     "data": {
      "text/plain": [
       "0.9056410256410257"
      ]
     },
     "execution_count": 22,
     "metadata": {},
     "output_type": "execute_result"
    }
   ],
   "source": [
    "get_partial_agreement_accuracy(agreement_df)"
   ]
  },
  {
   "cell_type": "code",
   "execution_count": 23,
   "metadata": {},
   "outputs": [
    {
     "data": {
      "text/plain": [
       "0.12315529081701548"
      ]
     },
     "execution_count": 23,
     "metadata": {},
     "output_type": "execute_result"
    }
   ],
   "source": [
    "sklearn.metrics.cohen_kappa_score(agreement_df[\"user1_responsibility_str\"], agreement_df[\"user2_responsibility_str\"])"
   ]
  },
  {
   "cell_type": "code",
   "execution_count": 24,
   "metadata": {},
   "outputs": [
    {
     "name": "stdout",
     "output_type": "stream",
     "text": [
      "levon003/eriks074\ts= 6,j= 18\t0.17\t0.78\t0.11\n",
      "levon003/rubya001\ts= 6,j= 18\t0.17\t0.89\t0.12\n",
      "levon003/luoxx498\ts= 6,j= 18\t0.33\t0.94\t0.29\n",
      "eriks074/rubya001\ts=10,j=139\t0.11\t0.87\t0.08\n",
      "eriks074/luoxx498\ts=48,j=975\t0.19\t0.91\t0.12\n",
      "rubya001/luoxx498\ts=10,j=139\t0.24\t0.92\t0.18\n"
     ]
    }
   ],
   "source": [
    "usernames = [\"levon003\", \"eriks074\", \"rubya001\", \"vachh007\", \"luoxx498\"]\n",
    "for user1, user2 in itertools.combinations(usernames, 2):\n",
    "    agreement_df = get_agreement_df(user1, user2)\n",
    "    if len(agreement_df) == 0:\n",
    "        continue\n",
    "    num_sites = len(set(agreement_df[\"site_id\"]))\n",
    "    strict_acc = get_strict_agreement_accuracy(agreement_df)\n",
    "    partial_acc = get_partial_agreement_accuracy(agreement_df)\n",
    "    \n",
    "    cohen_kappa = sklearn.metrics.cohen_kappa_score(agreement_df[\"user1_responsibility_str\"], agreement_df[\"user2_responsibility_str\"])\n",
    "    \n",
    "    print(f\"{user1}/{user2}\\ts={num_sites:2},j={len(agreement_df):3}\\t{strict_acc:.2f}\\t{partial_acc:.2f}\\t{cohen_kappa:.2f}\")"
   ]
  },
  {
   "cell_type": "code",
   "execution_count": 78,
   "metadata": {},
   "outputs": [
    {
     "data": {
      "text/plain": [
       "975"
      ]
     },
     "execution_count": 78,
     "metadata": {},
     "output_type": "execute_result"
    }
   ],
   "source": [
    "user1 = \"eriks074\"\n",
    "user2 = \"luoxx498\"\n",
    "agreement_df = get_agreement_df(user1, user2, df)\n",
    "len(agreement_df)"
   ]
  },
  {
   "cell_type": "code",
   "execution_count": 79,
   "metadata": {},
   "outputs": [
    {
     "data": {
      "text/plain": [
       "['',\n",
       " 'communicating|symptom_management|sharing_medical_info|compliance|managing_transitions',\n",
       " 'sharing_medical_info|managing_transitions|giving_back',\n",
       " 'info_filtering|clinical_decisions|sharing_medical_info|compliance',\n",
       " 'clinical_decisions|sharing_medical_info|compliance']"
      ]
     },
     "execution_count": 79,
     "metadata": {},
     "output_type": "execute_result"
    }
   ],
   "source": [
    "classes = list(set(agreement_df[\"user1_responsibility_str\"]) | set(agreement_df[\"user2_responsibility_str\"]))\n",
    "classes[:5]"
   ]
  },
  {
   "cell_type": "code",
   "execution_count": 80,
   "metadata": {},
   "outputs": [
    {
     "data": {
      "text/plain": [
       "array([[42,  0,  0, ...,  2,  0,  0],\n",
       "       [ 0,  0,  0, ...,  0,  0,  0],\n",
       "       [ 0,  0,  0, ...,  0,  0,  0],\n",
       "       ...,\n",
       "       [ 3,  0,  0, ...,  1,  0,  0],\n",
       "       [ 0,  0,  0, ...,  0,  0,  0],\n",
       "       [ 0,  0,  0, ...,  0,  0,  0]])"
      ]
     },
     "execution_count": 80,
     "metadata": {},
     "output_type": "execute_result"
    }
   ],
   "source": [
    "sklearn.metrics.confusion_matrix(agreement_df[\"user1_responsibility_str\"], agreement_df[\"user2_responsibility_str\"], labels=classes)"
   ]
  },
  {
   "cell_type": "code",
   "execution_count": 81,
   "metadata": {},
   "outputs": [
    {
     "data": {
      "text/plain": [
       "[('sharing_medical_info', 2474),\n",
       " ('compliance', 2162),\n",
       " ('symptom_management', 746),\n",
       " ('preparation', 491),\n",
       " ('managing_transitions', 395),\n",
       " ('coordinating_support', 334),\n",
       " ('info_filtering', 255),\n",
       " ('continued_monitoring', 171),\n",
       " ('clinical_decisions', 127),\n",
       " ('giving_back', 98),\n",
       " ('behavior_changes', 91),\n",
       " ('financial_management', 71),\n",
       " ('communicating', 40)]"
      ]
     },
     "execution_count": 81,
     "metadata": {},
     "output_type": "execute_result"
    }
   ],
   "source": [
    "resp_counts = Counter()\n",
    "for resps in df[\"responsibilities\"]:\n",
    "    resp_counts.update(resps)\n",
    "resp_counts.most_common()"
   ]
  },
  {
   "cell_type": "code",
   "execution_count": 82,
   "metadata": {},
   "outputs": [
    {
     "name": "stdout",
     "output_type": "stream",
     "text": [
      "Responsibility\t\t\tAP\tAA\tDisagree\n",
      "============================================================\n",
      "sharing_medical_info          \t740\t 93\t142\n",
      "compliance                    \t620\t119\t236\n",
      "symptom_management            \t 96\t597\t282\n",
      "preparation                   \t 44\t700\t231\n",
      "managing_transitions          \t 14\t765\t196\n",
      "coordinating_support          \t 52\t805\t118\n",
      "info_filtering                \t 18\t808\t149\n",
      "continued_monitoring          \t 12\t898\t 65\n",
      "clinical_decisions            \t 19\t913\t 43\n",
      "giving_back                   \t 11\t930\t 34\n",
      "behavior_changes              \t  9\t927\t 39\n",
      "financial_management          \t 11\t942\t 22\n",
      "communicating                 \t  0\t957\t 18\n"
     ]
    }
   ],
   "source": [
    "print(\"Responsibility\\t\\t\\tAP\\tAA\\tDisagree\")\n",
    "print(\"=\"*60)\n",
    "for resp, total_count in resp_counts.most_common():\n",
    "    resp_set = set([resp])\n",
    "    user1_present = agreement_df.user1_responsibilities.map(resp_set.issubset)\n",
    "    user2_present = agreement_df.user2_responsibilities.map(resp_set.issubset)\n",
    "    resp_present = user1_present | user2_present\n",
    "    resp_match = user1_present == user2_present\n",
    "    \n",
    "    agree_absent = np.sum(resp_match & ~resp_present)\n",
    "    agree_present = np.sum(resp_match & resp_present)\n",
    "    disagree = np.sum(user1_present != user2_present)\n",
    "    print(f\"{resp:30}\\t{agree_present:3}\\t{agree_absent:3}\\t{disagree:3}\")"
   ]
  },
  {
   "cell_type": "markdown",
   "metadata": {
    "collapsed": true
   },
   "source": [
    "## Summary stats between users"
   ]
  },
  {
   "cell_type": "code",
   "execution_count": 83,
   "metadata": {},
   "outputs": [
    {
     "data": {
      "text/plain": [
       "('eriks074', 'luoxx498')"
      ]
     },
     "execution_count": 83,
     "metadata": {},
     "output_type": "execute_result"
    }
   ],
   "source": [
    "user1, user2"
   ]
  },
  {
   "cell_type": "code",
   "execution_count": 84,
   "metadata": {
    "collapsed": true
   },
   "outputs": [],
   "source": [
    "u1_resp_counts = [len(rl) for rl in agreement_df[\"user1_responsibilities\"]]\n",
    "u2_resp_counts = [len(rl) for rl in agreement_df[\"user2_responsibilities\"]]"
   ]
  },
  {
   "cell_type": "code",
   "execution_count": 85,
   "metadata": {},
   "outputs": [
    {
     "data": {
      "text/plain": [
       "(2.3374358974358973, 2.654358974358974)"
      ]
     },
     "execution_count": 85,
     "metadata": {},
     "output_type": "execute_result"
    }
   ],
   "source": [
    "np.mean(u1_resp_counts), np.mean(u2_resp_counts)"
   ]
  },
  {
   "cell_type": "code",
   "execution_count": 86,
   "metadata": {},
   "outputs": [
    {
     "data": {
      "text/plain": [
       "(1.1608942573120484, 1.2578039366023155)"
      ]
     },
     "execution_count": 86,
     "metadata": {},
     "output_type": "execute_result"
    }
   ],
   "source": [
    "np.std(u1_resp_counts), np.std(u2_resp_counts)"
   ]
  },
  {
   "cell_type": "code",
   "execution_count": 87,
   "metadata": {},
   "outputs": [
    {
     "data": {
      "text/plain": [
       "(-16.0, 32.0, (975, 975))"
      ]
     },
     "execution_count": 87,
     "metadata": {},
     "output_type": "execute_result"
    }
   ],
   "source": [
    "cov = np.cov(np.array([u1_resp_counts, u2_resp_counts]).T)\n",
    "np.min(cov), np.max(cov), cov.shape"
   ]
  },
  {
   "cell_type": "code",
   "execution_count": 88,
   "metadata": {},
   "outputs": [
    {
     "data": {
      "text/plain": [
       "(array([770., 701., 129., 122., 192., 113.,  44.,  68.,  31.,  28.,  36.,\n",
       "         29.,  16.]),\n",
       " array([852., 775., 345., 197.,  32., 109., 141.,  21.,  50.,  28.,  21.,\n",
       "         15.,   2.]))"
      ]
     },
     "execution_count": 88,
     "metadata": {},
     "output_type": "execute_result"
    }
   ],
   "source": [
    "resps_list = [resp for resp, _ in resp_counts.most_common()]\n",
    "u1_counts = np.zeros(len(resps_list))\n",
    "for resps in agreement_df[\"user1_responsibilities\"]:\n",
    "    for resp in resps:\n",
    "        u1_counts[resps_list.index(resp)] += 1\n",
    "        #if \"behav\" in resp:\n",
    "        #    print(resp,u1_counts[resps.index(resp)])\n",
    "u2_counts = np.zeros(len(resps_list))\n",
    "for resps in agreement_df[\"user2_responsibilities\"]:\n",
    "    for resp in resps:\n",
    "        u2_counts[resps_list.index(resp)] += 1\n",
    "u1_counts, u2_counts"
   ]
  },
  {
   "cell_type": "code",
   "execution_count": 89,
   "metadata": {},
   "outputs": [
    {
     "name": "stdout",
     "output_type": "stream",
     "text": [
      "responsibility                \teriks074\tluoxx498\n",
      "============================================================\n",
      "sharing_medical_info          \t   770.0\t   852.0\n",
      "compliance                    \t   701.0\t   775.0\n",
      "symptom_management            \t   129.0\t   345.0\n",
      "preparation                   \t   122.0\t   197.0\n",
      "managing_transitions          \t   192.0\t    32.0\n",
      "coordinating_support          \t   113.0\t   109.0\n",
      "info_filtering                \t    44.0\t   141.0\n",
      "continued_monitoring          \t    68.0\t    21.0\n",
      "clinical_decisions            \t    31.0\t    50.0\n",
      "giving_back                   \t    28.0\t    28.0\n",
      "behavior_changes              \t    36.0\t    21.0\n",
      "financial_management          \t    29.0\t    15.0\n",
      "communicating                 \t    16.0\t     2.0\n"
     ]
    }
   ],
   "source": [
    "print(f\"{'responsibility':30}\\t{user1}\\t{user2}\")\n",
    "print(\"=\"*60)\n",
    "for i, resp in enumerate(resps_list):\n",
    "    print(f\"{resp:30}\\t{u1_counts[i]:8}\\t{u2_counts[i]:8}\")"
   ]
  },
  {
   "cell_type": "code",
   "execution_count": 92,
   "metadata": {},
   "outputs": [
    {
     "name": "stdout",
     "output_type": "stream",
     "text": [
      "sharing_medical_info           0.49\n",
      "compliance                     0.35\n",
      "symptom_management             0.26\n",
      "preparation                    0.14\n",
      "managing_transitions           0.07\n",
      "coordinating_support           0.40\n",
      "info_filtering                 0.14\n",
      "continued_monitoring           0.24\n",
      "clinical_decisions             0.45\n",
      "giving_back                    0.37\n",
      "behavior_changes               0.30\n",
      "financial_management           0.49\n",
      "communicating                  -0.00\n"
     ]
    }
   ],
   "source": [
    "# Agreement for the individual responsibilities\n",
    "for i, resp in enumerate(resps_list):\n",
    "    user1_annotations = agreement_df.user1_responsibilities.apply(lambda resp_list: resp in resp_list)\n",
    "    user2_annotations = agreement_df.user2_responsibilities.apply(lambda resp_list: resp in resp_list)\n",
    "    cohen_kappa = sklearn.metrics.cohen_kappa_score(user1_annotations, user2_annotations)\n",
    "    print(f\"{resp:30} {cohen_kappa:.2f}\")"
   ]
  },
  {
   "cell_type": "code",
   "execution_count": 93,
   "metadata": {},
   "outputs": [
    {
     "data": {
      "text/plain": [
       "118"
      ]
     },
     "execution_count": 93,
     "metadata": {},
     "output_type": "execute_result"
    }
   ],
   "source": [
    "target_resp = \"coordinating_support\"\n",
    "resp_set = set([target_resp])\n",
    "user1_present = agreement_df.user1_responsibilities.map(resp_set.issubset)\n",
    "user2_present = agreement_df.user2_responsibilities.map(resp_set.issubset)\n",
    "disagree = user1_present != user2_present\n",
    "len(agreement_df[disagree])"
   ]
  },
  {
   "cell_type": "code",
   "execution_count": 41,
   "metadata": {
    "scrolled": false
   },
   "outputs": [
    {
     "name": "stdout",
     "output_type": "stream",
     "text": [
      "coordinating_support Disagreements\n",
      "========================================\n",
      "luoxx498 http://127.0.0.1:5000/conflict/journal/responsibilities/eriks074/vs/luoxx498/site/139736#51be1d0a6ca0043b5100d66f\n",
      "luoxx498 http://127.0.0.1:5000/conflict/journal/responsibilities/eriks074/vs/luoxx498/site/159835#51be22b86ca0042163010115\n",
      "luoxx498 http://127.0.0.1:5000/conflict/journal/responsibilities/eriks074/vs/luoxx498/site/161454#51be22ef6ca004de630111c7\n",
      "eriks074 http://127.0.0.1:5000/conflict/journal/responsibilities/eriks074/vs/luoxx498/site/161454#51be22ef6ca004de63011309\n",
      "eriks074 http://127.0.0.1:5000/conflict/journal/responsibilities/eriks074/vs/luoxx498/site/161454#51be22ef6ca004de63011369\n",
      "luoxx498 http://127.0.0.1:5000/conflict/journal/responsibilities/eriks074/vs/luoxx498/site/181230#51be27a96ca004047300d12a\n",
      "eriks074 http://127.0.0.1:5000/conflict/journal/responsibilities/eriks074/vs/luoxx498/site/181230#51be27a96ca004047300d3b6\n",
      "luoxx498 http://127.0.0.1:5000/conflict/journal/responsibilities/eriks074/vs/luoxx498/site/181230#51be27aa6ca004047300dfc7\n",
      "luoxx498 http://127.0.0.1:5000/conflict/journal/responsibilities/eriks074/vs/luoxx498/site/181230#51be27aa6ca004047300e0ea\n",
      "luoxx498 http://127.0.0.1:5000/conflict/journal/responsibilities/eriks074/vs/luoxx498/site/181230#51be27aa6ca004047300e159\n",
      "eriks074 http://127.0.0.1:5000/conflict/journal/responsibilities/eriks074/vs/luoxx498/site/186370#51be28dc6ca004cb76007f9a\n",
      "luoxx498 http://127.0.0.1:5000/conflict/journal/responsibilities/eriks074/vs/luoxx498/site/186370#51be28dc6ca004cb76008381\n",
      "luoxx498 http://127.0.0.1:5000/conflict/journal/responsibilities/eriks074/vs/luoxx498/site/186370#51be28dc6ca004cb760083dc\n",
      "eriks074 http://127.0.0.1:5000/conflict/journal/responsibilities/eriks074/vs/luoxx498/site/186370#51be28dc6ca004cb7600840c\n",
      "luoxx498 http://127.0.0.1:5000/conflict/journal/responsibilities/eriks074/vs/luoxx498/site/186370#51be28dc6ca004cb76008430\n",
      "luoxx498 http://127.0.0.1:5000/conflict/journal/responsibilities/eriks074/vs/luoxx498/site/186370#51be28dc6ca004cb76008536\n",
      "eriks074 http://127.0.0.1:5000/conflict/journal/responsibilities/eriks074/vs/luoxx498/site/186370#51be28dc6ca004cb7600863c\n",
      "eriks074 http://127.0.0.1:5000/conflict/journal/responsibilities/eriks074/vs/luoxx498/site/186370#51be28dc6ca004cb760086f6\n",
      "luoxx498 http://127.0.0.1:5000/conflict/journal/responsibilities/eriks074/vs/luoxx498/site/186370#51be28dc6ca004cb760087ba\n",
      "eriks074 http://127.0.0.1:5000/conflict/journal/responsibilities/eriks074/vs/luoxx498/site/186370#51be28dc6ca004cb76008810\n",
      "eriks074 http://127.0.0.1:5000/conflict/journal/responsibilities/eriks074/vs/luoxx498/site/186370#51be28dc6ca004cb76008864\n",
      "eriks074 http://127.0.0.1:5000/conflict/journal/responsibilities/eriks074/vs/luoxx498/site/186370#51be28dc6ca004cb76008898\n",
      "eriks074 http://127.0.0.1:5000/conflict/journal/responsibilities/eriks074/vs/luoxx498/site/186370#51be28dd6ca004cb760088d4\n",
      "luoxx498 http://127.0.0.1:5000/conflict/journal/responsibilities/eriks074/vs/luoxx498/site/186370#51be28dd6ca004cb760089b6\n",
      "luoxx498 http://127.0.0.1:5000/conflict/journal/responsibilities/eriks074/vs/luoxx498/site/186370#51be28dd6ca004cb76008a1c\n",
      "luoxx498 http://127.0.0.1:5000/conflict/journal/responsibilities/eriks074/vs/luoxx498/site/186370#51be28dd6ca004cb76008a8a\n",
      "luoxx498 http://127.0.0.1:5000/conflict/journal/responsibilities/eriks074/vs/luoxx498/site/186370#51be28dd6ca004cb76008bc9\n",
      "eriks074 http://127.0.0.1:5000/conflict/journal/responsibilities/eriks074/vs/luoxx498/site/188675#51be29646ca0047a78006ea5\n",
      "eriks074 http://127.0.0.1:5000/conflict/journal/responsibilities/eriks074/vs/luoxx498/site/188675#51be29646ca0047a78006f49\n",
      "eriks074 http://127.0.0.1:5000/conflict/journal/responsibilities/eriks074/vs/luoxx498/site/192780#51be2a606ca004d57b00ae12\n",
      "luoxx498 http://127.0.0.1:5000/conflict/journal/responsibilities/eriks074/vs/luoxx498/site/192780#51be2a606ca004d57b00b2ca\n",
      "luoxx498 http://127.0.0.1:5000/conflict/journal/responsibilities/eriks074/vs/luoxx498/site/192780#51be2a606ca004d57b00b3fd\n",
      "eriks074 http://127.0.0.1:5000/conflict/journal/responsibilities/eriks074/vs/luoxx498/site/192780#51be2a606ca004d57b00b413\n",
      "eriks074 http://127.0.0.1:5000/conflict/journal/responsibilities/eriks074/vs/luoxx498/site/192780#51be2a606ca004d57b00b447\n",
      "eriks074 http://127.0.0.1:5000/conflict/journal/responsibilities/eriks074/vs/luoxx498/site/192780#51be2a606ca004d57b00b519\n",
      "eriks074 http://127.0.0.1:5000/conflict/journal/responsibilities/eriks074/vs/luoxx498/site/192780#51be2a606ca004d57b00b6ec\n",
      "eriks074 http://127.0.0.1:5000/conflict/journal/responsibilities/eriks074/vs/luoxx498/site/192780#51be2a606ca004d57b00b7a0\n",
      "eriks074 http://127.0.0.1:5000/conflict/journal/responsibilities/eriks074/vs/luoxx498/site/192780#51be2a606ca004d57b00b86e\n",
      "eriks074 http://127.0.0.1:5000/conflict/journal/responsibilities/eriks074/vs/luoxx498/site/192780#51be2a606ca004d57b00ba48\n",
      "luoxx498 http://127.0.0.1:5000/conflict/journal/responsibilities/eriks074/vs/luoxx498/site/192780#51be2a616ca004d57b00c0b0\n",
      "luoxx498 http://127.0.0.1:5000/conflict/journal/responsibilities/eriks074/vs/luoxx498/site/192780#51be2a616ca004d57b00c0dc\n",
      "luoxx498 http://127.0.0.1:5000/conflict/journal/responsibilities/eriks074/vs/luoxx498/site/192780#51be2a616ca004d57b00c1f0\n",
      "luoxx498 http://127.0.0.1:5000/conflict/journal/responsibilities/eriks074/vs/luoxx498/site/192780#51be2a616ca004d57b00c294\n",
      "eriks074 http://127.0.0.1:5000/conflict/journal/responsibilities/eriks074/vs/luoxx498/site/197260#51be2b856ca004577f012f9b\n",
      "eriks074 http://127.0.0.1:5000/conflict/journal/responsibilities/eriks074/vs/luoxx498/site/197260#51be2b866ca004577f0137a3\n",
      "eriks074 http://127.0.0.1:5000/conflict/journal/responsibilities/eriks074/vs/luoxx498/site/197260#51be2b866ca004577f013905\n",
      "luoxx498 http://127.0.0.1:5000/conflict/journal/responsibilities/eriks074/vs/luoxx498/site/200697#51be2c5d6ca0043b030153a7\n",
      "eriks074 http://127.0.0.1:5000/conflict/journal/responsibilities/eriks074/vs/luoxx498/site/201608#51be2c976ca004100400b6e3\n",
      "eriks074 http://127.0.0.1:5000/conflict/journal/responsibilities/eriks074/vs/luoxx498/site/225553#51be31086ca004c91200a4da\n",
      "eriks074 http://127.0.0.1:5000/conflict/journal/responsibilities/eriks074/vs/luoxx498/site/225553#51be31086ca004c91200a506\n",
      "eriks074 http://127.0.0.1:5000/conflict/journal/responsibilities/eriks074/vs/luoxx498/site/225553#51be31086ca004c91200a62b\n",
      "eriks074 http://127.0.0.1:5000/conflict/journal/responsibilities/eriks074/vs/luoxx498/site/225553#51be31086ca004c91200a9ac\n",
      "eriks074 http://127.0.0.1:5000/conflict/journal/responsibilities/eriks074/vs/luoxx498/site/225553#51be31086ca004c91200adf6\n",
      "eriks074 http://127.0.0.1:5000/conflict/journal/responsibilities/eriks074/vs/luoxx498/site/230820#51be32306ca0048416003fe8\n",
      "luoxx498 http://127.0.0.1:5000/conflict/journal/responsibilities/eriks074/vs/luoxx498/site/230820#51be32306ca004841600433e\n",
      "eriks074 http://127.0.0.1:5000/conflict/journal/responsibilities/eriks074/vs/luoxx498/site/230820#51be32306ca0048416004652\n",
      "luoxx498 http://127.0.0.1:5000/conflict/journal/responsibilities/eriks074/vs/luoxx498/site/230820#51be32306ca0048416004664\n",
      "eriks074 http://127.0.0.1:5000/conflict/journal/responsibilities/eriks074/vs/luoxx498/site/230820#51be32306ca0048416004676\n",
      "eriks074 http://127.0.0.1:5000/conflict/journal/responsibilities/eriks074/vs/luoxx498/site/264906#51be39c66ca0046a2e003a5f\n",
      "eriks074 http://127.0.0.1:5000/conflict/journal/responsibilities/eriks074/vs/luoxx498/site/264906#51be39c66ca0046a2e003aeb\n",
      "eriks074 http://127.0.0.1:5000/conflict/journal/responsibilities/eriks074/vs/luoxx498/site/264906#51be39c66ca0046a2e003b4e\n",
      "luoxx498 http://127.0.0.1:5000/conflict/journal/responsibilities/eriks074/vs/luoxx498/site/264906#51be39c66ca0046a2e003bd2\n",
      "luoxx498 http://127.0.0.1:5000/conflict/journal/responsibilities/eriks074/vs/luoxx498/site/264906#51be39c66ca0046a2e003bec\n",
      "eriks074 http://127.0.0.1:5000/conflict/journal/responsibilities/eriks074/vs/luoxx498/site/270260#51be3a6a6ca00494300023f7\n",
      "luoxx498 http://127.0.0.1:5000/conflict/journal/responsibilities/eriks074/vs/luoxx498/site/270260#51be3a6a6ca00494300026bb\n",
      "eriks074 http://127.0.0.1:5000/conflict/journal/responsibilities/eriks074/vs/luoxx498/site/274818#51be3af16ca0044432003192\n",
      "eriks074 http://127.0.0.1:5000/conflict/journal/responsibilities/eriks074/vs/luoxx498/site/274818#51be3af16ca004443200331d\n",
      "luoxx498 http://127.0.0.1:5000/conflict/journal/responsibilities/eriks074/vs/luoxx498/site/274818#51be3af16ca00444320033d4\n",
      "luoxx498 http://127.0.0.1:5000/conflict/journal/responsibilities/eriks074/vs/luoxx498/site/274818#51be3af16ca004443200347e\n",
      "luoxx498 http://127.0.0.1:5000/conflict/journal/responsibilities/eriks074/vs/luoxx498/site/274818#51be3af16ca00444320034ce\n",
      "eriks074 http://127.0.0.1:5000/conflict/journal/responsibilities/eriks074/vs/luoxx498/site/302124#51be3e376ca004103d0009dc\n",
      "luoxx498 http://127.0.0.1:5000/conflict/journal/responsibilities/eriks074/vs/luoxx498/site/302124#51be3e376ca004103d000a12\n",
      "luoxx498 http://127.0.0.1:5000/conflict/journal/responsibilities/eriks074/vs/luoxx498/site/302124#51be3e376ca004103d000a5e\n",
      "luoxx498 http://127.0.0.1:5000/conflict/journal/responsibilities/eriks074/vs/luoxx498/site/302124#51be3e376ca004103d000ad6\n",
      "luoxx498 http://127.0.0.1:5000/conflict/journal/responsibilities/eriks074/vs/luoxx498/site/302124#51be3e376ca004103d000aee\n",
      "eriks074 http://127.0.0.1:5000/conflict/journal/responsibilities/eriks074/vs/luoxx498/site/302124#51be3e376ca004103d000b14\n",
      "eriks074 http://127.0.0.1:5000/conflict/journal/responsibilities/eriks074/vs/luoxx498/site/302124#51be3e376ca004103d000b16\n",
      "luoxx498 http://127.0.0.1:5000/conflict/journal/responsibilities/eriks074/vs/luoxx498/site/306606#51be3ead6ca004a53e0033ea\n",
      "luoxx498 http://127.0.0.1:5000/conflict/journal/responsibilities/eriks074/vs/luoxx498/site/306606#51be3ead6ca004a53e0036a6\n",
      "luoxx498 http://127.0.0.1:5000/conflict/journal/responsibilities/eriks074/vs/luoxx498/site/322976#51be405e6ca0044944001024\n",
      "eriks074 http://127.0.0.1:5000/conflict/journal/responsibilities/eriks074/vs/luoxx498/site/322976#51be405e6ca0044944001066\n",
      "eriks074 http://127.0.0.1:5000/conflict/journal/responsibilities/eriks074/vs/luoxx498/site/376170#51be46076ca0047b57001991\n",
      "eriks074 http://127.0.0.1:5000/conflict/journal/responsibilities/eriks074/vs/luoxx498/site/376170#51be46076ca0047b57001993\n",
      "eriks074 http://127.0.0.1:5000/conflict/journal/responsibilities/eriks074/vs/luoxx498/site/376466#51be46106ca0049457004fe8\n",
      "luoxx498 http://127.0.0.1:5000/conflict/journal/responsibilities/eriks074/vs/luoxx498/site/376466#51be46106ca0049457005372\n",
      "luoxx498 http://127.0.0.1:5000/conflict/journal/responsibilities/eriks074/vs/luoxx498/site/382634#51be46bf6ca004dd5900263f\n",
      "luoxx498 http://127.0.0.1:5000/conflict/journal/responsibilities/eriks074/vs/luoxx498/site/382634#51be46bf6ca004dd59002796\n",
      "eriks074 http://127.0.0.1:5000/conflict/journal/responsibilities/eriks074/vs/luoxx498/site/382634#51be46bf6ca004dd5900281c\n",
      "luoxx498 http://127.0.0.1:5000/conflict/journal/responsibilities/eriks074/vs/luoxx498/site/402562#51be48ea6ca004426100268b\n",
      "luoxx498 http://127.0.0.1:5000/conflict/journal/responsibilities/eriks074/vs/luoxx498/site/402562#51be48eb6ca00442610026f1\n",
      "eriks074 http://127.0.0.1:5000/conflict/journal/responsibilities/eriks074/vs/luoxx498/site/411470#51be49f06ca004836400242a\n",
      "eriks074 http://127.0.0.1:5000/conflict/journal/responsibilities/eriks074/vs/luoxx498/site/411470#51be49f06ca00483640024f4\n",
      "eriks074 http://127.0.0.1:5000/conflict/journal/responsibilities/eriks074/vs/luoxx498/site/424132#51be4b586ca0045d69002df4\n",
      "luoxx498 http://127.0.0.1:5000/conflict/journal/responsibilities/eriks074/vs/luoxx498/site/474524#51be50ed6ca0044e7c001ce3\n",
      "eriks074 http://127.0.0.1:5000/conflict/journal/responsibilities/eriks074/vs/luoxx498/site/479074#51be51746ca004127e0021d9\n",
      "eriks074 http://127.0.0.1:5000/conflict/journal/responsibilities/eriks074/vs/luoxx498/site/479074#51be51746ca004127e002201\n",
      "eriks074 http://127.0.0.1:5000/conflict/journal/responsibilities/eriks074/vs/luoxx498/site/479074#51be51746ca004127e002221\n",
      "eriks074 http://127.0.0.1:5000/conflict/journal/responsibilities/eriks074/vs/luoxx498/site/479074#51be51746ca004127e0022af\n",
      "eriks074 http://127.0.0.1:5000/conflict/journal/responsibilities/eriks074/vs/luoxx498/site/483762#51be51fd6ca004f97f003af8\n",
      "luoxx498 http://127.0.0.1:5000/conflict/journal/responsibilities/eriks074/vs/luoxx498/site/511451#51be54e66ca0043b0b0033d7\n",
      "luoxx498 http://127.0.0.1:5000/conflict/journal/responsibilities/eriks074/vs/luoxx498/site/655287#51bf426f6ca0047323045cd1\n",
      "eriks074 http://127.0.0.1:5000/conflict/journal/responsibilities/eriks074/vs/luoxx498/site/820897#51ff791e4db921b53c435521\n",
      "luoxx498 http://127.0.0.1:5000/conflict/journal/responsibilities/eriks074/vs/luoxx498/site/820897#5219fed0ac7ee9126785af7f\n",
      "eriks074 http://127.0.0.1:5000/conflict/journal/responsibilities/eriks074/vs/luoxx498/site/820897#5241afaeaf3d796a17103542\n",
      "eriks074 http://127.0.0.1:5000/conflict/journal/responsibilities/eriks074/vs/luoxx498/site/820897#52f8c49ccb16b4981398b715\n",
      "luoxx498 http://127.0.0.1:5000/conflict/journal/responsibilities/eriks074/vs/luoxx498/site/832045#52804bcbca16b46802b5952e\n",
      "luoxx498 http://127.0.0.1:5000/conflict/journal/responsibilities/eriks074/vs/luoxx498/site/832045#528bd086e9cb6a69117fc835\n",
      "luoxx498 http://127.0.0.1:5000/conflict/journal/responsibilities/eriks074/vs/luoxx498/site/832045#52e90e7bab28b91517a1e600\n",
      "luoxx498 http://127.0.0.1:5000/conflict/journal/responsibilities/eriks074/vs/luoxx498/site/832045#530027ffac7ee9054e68cffd\n",
      "eriks074 http://127.0.0.1:5000/conflict/journal/responsibilities/eriks074/vs/luoxx498/site/832045#53224403e9cb6aa6688cb2e5\n",
      "luoxx498 http://127.0.0.1:5000/conflict/journal/responsibilities/eriks074/vs/luoxx498/site/832045#53337fb2cb16b4ef1c413623\n",
      "luoxx498 http://127.0.0.1:5000/conflict/journal/responsibilities/eriks074/vs/luoxx498/site/832045#53853a9f8b5cd3334bb63dd5\n",
      "luoxx498 http://127.0.0.1:5000/conflict/journal/responsibilities/eriks074/vs/luoxx498/site/832045#53b03deb8b5cd39a52ae217c\n",
      "eriks074 http://127.0.0.1:5000/conflict/journal/responsibilities/eriks074/vs/luoxx498/site/832045#53ed68314db921b8527b4c6b\n",
      "eriks074 http://127.0.0.1:5000/conflict/journal/responsibilities/eriks074/vs/luoxx498/site/876468#53a82f23af3d79470da5c76a\n",
      "luoxx498 http://127.0.0.1:5000/conflict/journal/responsibilities/eriks074/vs/luoxx498/site/876468#54c2ffd54db9216579ffe9d7\n",
      "luoxx498 http://127.0.0.1:5000/conflict/journal/responsibilities/eriks074/vs/luoxx498/site/902822#54de6cebca16b405172d909c\n",
      "luoxx498 http://127.0.0.1:5000/conflict/journal/responsibilities/eriks074/vs/luoxx498/site/921385#5463788bab28b94b37d3e932\n"
     ]
    }
   ],
   "source": [
    "print(target_resp, \"Disagreements\")\n",
    "print(\"=\"*40)\n",
    "for index, row in agreement_df[disagree].iterrows():\n",
    "    site_id = row[\"site_id\"]\n",
    "    journal_oid = row[\"journal_oid\"]\n",
    "    webclient_url = \"http://127.0.0.1:5000/conflict/journal/responsibilities/eriks074/vs/luoxx498/site/%d#%s\" % (site_id, journal_oid)\n",
    "    user1_tagged = target_resp in row[\"user1_responsibilities\"]\n",
    "    user2_tagged = target_resp in row[\"user2_responsibilities\"]\n",
    "    assert user1_tagged or user2_tagged\n",
    "    tagging_user = user1 if user1_tagged else user2\n",
    "    print(tagging_user, webclient_url)"
   ]
  },
  {
   "cell_type": "code",
   "execution_count": null,
   "metadata": {
    "collapsed": true
   },
   "outputs": [],
   "source": []
  },
  {
   "cell_type": "markdown",
   "metadata": {},
   "source": [
    "#### Tasks to do\n",
    "\n",
    "Small code snippet for producing the URLs for tasks to give to Drew and Wenqi"
   ]
  },
  {
   "cell_type": "code",
   "execution_count": 7,
   "metadata": {},
   "outputs": [
    {
     "data": {
      "text/plain": [
       "['symptom_management',\n",
       " 'preparation',\n",
       " 'managing_transitions',\n",
       " 'info_filtering',\n",
       " 'continued_monitoring',\n",
       " 'clinical_decisions']"
      ]
     },
     "execution_count": 7,
     "metadata": {},
     "output_type": "execute_result"
    }
   ],
   "source": [
    "tasks_to_do = [\"symptom_management\", \"preparation\", \"managing_transitions\", \"info_filtering\", \"continued_monitoring\", \"clinical_decisions\"]\n",
    "tasks_to_do"
   ]
  },
  {
   "cell_type": "code",
   "execution_count": 9,
   "metadata": {},
   "outputs": [
    {
     "name": "stdout",
     "output_type": "stream",
     "text": [
      "http://127.0.0.1:5000/discussion/journal/summary/eriks074/luoxx498/responsibility/symptom_management\n",
      "http://127.0.0.1:5000/discussion/journal/summary/eriks074/luoxx498/responsibility/preparation\n",
      "http://127.0.0.1:5000/discussion/journal/summary/eriks074/luoxx498/responsibility/managing_transitions\n",
      "http://127.0.0.1:5000/discussion/journal/summary/eriks074/luoxx498/responsibility/info_filtering\n",
      "http://127.0.0.1:5000/discussion/journal/summary/eriks074/luoxx498/responsibility/continued_monitoring\n",
      "http://127.0.0.1:5000/discussion/journal/summary/eriks074/luoxx498/responsibility/clinical_decisions\n",
      "http://127.0.0.1:5000/discussion/journal/summary/luoxx498/eriks074/responsibility/symptom_management\n",
      "http://127.0.0.1:5000/discussion/journal/summary/luoxx498/eriks074/responsibility/preparation\n",
      "http://127.0.0.1:5000/discussion/journal/summary/luoxx498/eriks074/responsibility/managing_transitions\n",
      "http://127.0.0.1:5000/discussion/journal/summary/luoxx498/eriks074/responsibility/info_filtering\n",
      "http://127.0.0.1:5000/discussion/journal/summary/luoxx498/eriks074/responsibility/continued_monitoring\n",
      "http://127.0.0.1:5000/discussion/journal/summary/luoxx498/eriks074/responsibility/clinical_decisions\n"
     ]
    }
   ],
   "source": [
    "for url_base in [\"http://127.0.0.1:5000/discussion/journal/summary/eriks074/luoxx498/responsibility/\", \n",
    "                 \"http://127.0.0.1:5000/discussion/journal/summary/luoxx498/eriks074/responsibility/\"]:\n",
    "    for task in tasks_to_do:\n",
    "        task_url = url_base + task\n",
    "        print(task_url)"
   ]
  },
  {
   "cell_type": "markdown",
   "metadata": {
    "collapsed": true
   },
   "source": [
    "## IRR analysis of December 2018 IRR set\n",
    "\n",
    "Completed after a round of discussion.\n",
    "\n",
    "```\n",
    "RESPONSIBILITY\t\t           K   \tChange\t\tDiscussed?\n",
    "sharing_medical_info           0.55 \tUP 0.06\t\tNO\n",
    "compliance                     0.46 \tUP 0.11\t\tNO\n",
    "preparation                    0.21 \tUP 0.07\t\tYES\n",
    "symptom_management             0.14 \tDOWN 0.12\tYES\n",
    "managing_transitions           0.12 \tUP 0.05\t\tYES\n",
    "coordinating_support           0.42 \tUP 0.02\t\tYES\n",
    "info_filtering                 0.08 \tDOWN 0.06\tYES\n",
    "continued_monitoring           0.37 \tUP 0.13\t\tYES\n",
    "giving_back                    0.41 \tUP 0.04\t\tNO\n",
    "behavior_changes               0.43 \tUP 0.13\t\tNO\n",
    "clinical_decisions             0.20 \tDOWN 0.25\tYES\n",
    "financial_management           0.46 \tDOWN 0.03\tNO\n",
    "communicating                  -0.00\tNO CHANGE\tNO\n",
    "```"
   ]
  },
  {
   "cell_type": "code",
   "execution_count": 32,
   "metadata": {},
   "outputs": [],
   "source": [
    "irr_filepath = \"/home/srivbane/shared/caringbridge/data/projects/qual-health-journeys/instance/annotation_data/assignments/luoxx498/multiset_4_20181206.txt\""
   ]
  },
  {
   "cell_type": "code",
   "execution_count": 33,
   "metadata": {},
   "outputs": [
    {
     "data": {
      "text/plain": [
       "(20,\n",
       " [161454,\n",
       "  537539,\n",
       "  230820,\n",
       "  921385,\n",
       "  302124,\n",
       "  198138,\n",
       "  561373,\n",
       "  820897,\n",
       "  376170,\n",
       "  197260,\n",
       "  181230,\n",
       "  630153,\n",
       "  376466,\n",
       "  186370,\n",
       "  812280,\n",
       "  139736,\n",
       "  225553,\n",
       "  322976,\n",
       "  635531,\n",
       "  192780])"
      ]
     },
     "execution_count": 33,
     "metadata": {},
     "output_type": "execute_result"
    }
   ],
   "source": [
    "with open(irr_filepath, 'r') as infile:\n",
    "    infile.readline()\n",
    "    irr_site_ids = [int(line.strip()) for line in infile]\n",
    "len(irr_site_ids), irr_site_ids"
   ]
  },
  {
   "cell_type": "code",
   "execution_count": 34,
   "metadata": {},
   "outputs": [],
   "source": [
    "df = new_df"
   ]
  },
  {
   "cell_type": "code",
   "execution_count": 35,
   "metadata": {},
   "outputs": [
    {
     "data": {
      "text/plain": [
       "1036"
      ]
     },
     "execution_count": 35,
     "metadata": {},
     "output_type": "execute_result"
    }
   ],
   "source": [
    "irr_df = df[df['site_id'].isin(irr_site_ids)]\n",
    "len(irr_df)"
   ]
  },
  {
   "cell_type": "code",
   "execution_count": 36,
   "metadata": {},
   "outputs": [
    {
     "data": {
      "text/plain": [
       "2090"
      ]
     },
     "execution_count": 36,
     "metadata": {},
     "output_type": "execute_result"
    }
   ],
   "source": [
    "non_irr_df = df[~df['site_id'].isin(irr_site_ids)]\n",
    "len(non_irr_df)"
   ]
  },
  {
   "cell_type": "code",
   "execution_count": 40,
   "metadata": {},
   "outputs": [
    {
     "data": {
      "text/plain": [
       "471"
      ]
     },
     "execution_count": 40,
     "metadata": {},
     "output_type": "execute_result"
    }
   ],
   "source": [
    "user1 = \"eriks074\"\n",
    "user2 = \"luoxx498\"\n",
    "agreement_df = get_agreement_df(user1, user2, irr_df)\n",
    "len(agreement_df)"
   ]
  },
  {
   "cell_type": "code",
   "execution_count": 41,
   "metadata": {},
   "outputs": [
    {
     "data": {
      "text/plain": [
       "573"
      ]
     },
     "execution_count": 41,
     "metadata": {},
     "output_type": "execute_result"
    }
   ],
   "source": [
    "non_irr_agreement_df = get_agreement_df(user1, user2, non_irr_df)\n",
    "len(non_irr_agreement_df)"
   ]
  },
  {
   "cell_type": "code",
   "execution_count": 42,
   "metadata": {},
   "outputs": [
    {
     "name": "stdout",
     "output_type": "stream",
     "text": [
      "eriks074 1290\n",
      "luoxx498 574\n"
     ]
    }
   ],
   "source": [
    "print(user1, len(non_irr_df[non_irr_df.username == user1]))\n",
    "print(user2, len(non_irr_df[non_irr_df.username == user2]))\n",
    "\n"
   ]
  },
  {
   "cell_type": "code",
   "execution_count": 43,
   "metadata": {},
   "outputs": [
    {
     "data": {
      "text/html": [
       "<div>\n",
       "<style scoped>\n",
       "    .dataframe tbody tr th:only-of-type {\n",
       "        vertical-align: middle;\n",
       "    }\n",
       "\n",
       "    .dataframe tbody tr th {\n",
       "        vertical-align: top;\n",
       "    }\n",
       "\n",
       "    .dataframe thead th {\n",
       "        text-align: right;\n",
       "    }\n",
       "</style>\n",
       "<table border=\"1\" class=\"dataframe\">\n",
       "  <thead>\n",
       "    <tr style=\"text-align: right;\">\n",
       "      <th></th>\n",
       "      <th>is_partial_agreement</th>\n",
       "      <th>is_strict_agreement</th>\n",
       "      <th>journal_oid</th>\n",
       "      <th>site_id</th>\n",
       "      <th>user1</th>\n",
       "      <th>user1_responsibilities</th>\n",
       "      <th>user1_responsibility_str</th>\n",
       "      <th>user2</th>\n",
       "      <th>user2_responsibilities</th>\n",
       "      <th>user2_responsibility_str</th>\n",
       "    </tr>\n",
       "  </thead>\n",
       "  <tbody>\n",
       "    <tr>\n",
       "      <th>0</th>\n",
       "      <td>False</td>\n",
       "      <td>False</td>\n",
       "      <td>51be1d0a6ca0043b5100cf7d</td>\n",
       "      <td>139736</td>\n",
       "      <td>eriks074</td>\n",
       "      <td>[preparation]</td>\n",
       "      <td>preparation</td>\n",
       "      <td>luoxx498</td>\n",
       "      <td>[]</td>\n",
       "      <td></td>\n",
       "    </tr>\n",
       "    <tr>\n",
       "      <th>1</th>\n",
       "      <td>True</td>\n",
       "      <td>False</td>\n",
       "      <td>51be1d0a6ca0043b5100d66f</td>\n",
       "      <td>139736</td>\n",
       "      <td>eriks074</td>\n",
       "      <td>[sharing_medical_info, compliance, behavior_ch...</td>\n",
       "      <td>sharing_medical_info|compliance|behavior_changes</td>\n",
       "      <td>luoxx498</td>\n",
       "      <td>[coordinating_support, sharing_medical_info, c...</td>\n",
       "      <td>coordinating_support|sharing_medical_info|comp...</td>\n",
       "    </tr>\n",
       "    <tr>\n",
       "      <th>2</th>\n",
       "      <td>True</td>\n",
       "      <td>False</td>\n",
       "      <td>51be1d0a6ca0043b5100d76d</td>\n",
       "      <td>139736</td>\n",
       "      <td>eriks074</td>\n",
       "      <td>[sharing_medical_info, compliance]</td>\n",
       "      <td>sharing_medical_info|compliance</td>\n",
       "      <td>luoxx498</td>\n",
       "      <td>[preparation, sharing_medical_info, compliance]</td>\n",
       "      <td>preparation|sharing_medical_info|compliance</td>\n",
       "    </tr>\n",
       "    <tr>\n",
       "      <th>3</th>\n",
       "      <td>True</td>\n",
       "      <td>False</td>\n",
       "      <td>51be1d0a6ca0043b5100d85f</td>\n",
       "      <td>139736</td>\n",
       "      <td>eriks074</td>\n",
       "      <td>[compliance]</td>\n",
       "      <td>compliance</td>\n",
       "      <td>luoxx498</td>\n",
       "      <td>[preparation, sharing_medical_info, compliance]</td>\n",
       "      <td>preparation|sharing_medical_info|compliance</td>\n",
       "    </tr>\n",
       "    <tr>\n",
       "      <th>4</th>\n",
       "      <td>True</td>\n",
       "      <td>False</td>\n",
       "      <td>51be1d0a6ca0043b5100d94d</td>\n",
       "      <td>139736</td>\n",
       "      <td>eriks074</td>\n",
       "      <td>[sharing_medical_info, compliance, managing_tr...</td>\n",
       "      <td>sharing_medical_info|compliance|managing_trans...</td>\n",
       "      <td>luoxx498</td>\n",
       "      <td>[sharing_medical_info, compliance]</td>\n",
       "      <td>sharing_medical_info|compliance</td>\n",
       "    </tr>\n",
       "  </tbody>\n",
       "</table>\n",
       "</div>"
      ],
      "text/plain": [
       "   is_partial_agreement  is_strict_agreement               journal_oid  \\\n",
       "0                 False                False  51be1d0a6ca0043b5100cf7d   \n",
       "1                  True                False  51be1d0a6ca0043b5100d66f   \n",
       "2                  True                False  51be1d0a6ca0043b5100d76d   \n",
       "3                  True                False  51be1d0a6ca0043b5100d85f   \n",
       "4                  True                False  51be1d0a6ca0043b5100d94d   \n",
       "\n",
       "   site_id     user1                             user1_responsibilities  \\\n",
       "0   139736  eriks074                                      [preparation]   \n",
       "1   139736  eriks074  [sharing_medical_info, compliance, behavior_ch...   \n",
       "2   139736  eriks074                 [sharing_medical_info, compliance]   \n",
       "3   139736  eriks074                                       [compliance]   \n",
       "4   139736  eriks074  [sharing_medical_info, compliance, managing_tr...   \n",
       "\n",
       "                            user1_responsibility_str     user2  \\\n",
       "0                                        preparation  luoxx498   \n",
       "1   sharing_medical_info|compliance|behavior_changes  luoxx498   \n",
       "2                    sharing_medical_info|compliance  luoxx498   \n",
       "3                                         compliance  luoxx498   \n",
       "4  sharing_medical_info|compliance|managing_trans...  luoxx498   \n",
       "\n",
       "                              user2_responsibilities  \\\n",
       "0                                                 []   \n",
       "1  [coordinating_support, sharing_medical_info, c...   \n",
       "2    [preparation, sharing_medical_info, compliance]   \n",
       "3    [preparation, sharing_medical_info, compliance]   \n",
       "4                 [sharing_medical_info, compliance]   \n",
       "\n",
       "                            user2_responsibility_str  \n",
       "0                                                     \n",
       "1  coordinating_support|sharing_medical_info|comp...  \n",
       "2        preparation|sharing_medical_info|compliance  \n",
       "3        preparation|sharing_medical_info|compliance  \n",
       "4                    sharing_medical_info|compliance  "
      ]
     },
     "execution_count": 43,
     "metadata": {},
     "output_type": "execute_result"
    }
   ],
   "source": [
    "agreement_df.head()"
   ]
  },
  {
   "cell_type": "code",
   "execution_count": 44,
   "metadata": {},
   "outputs": [
    {
     "data": {
      "text/plain": [
       "['',\n",
       " 'symptom_management|sharing_medical_info',\n",
       " 'sharing_medical_info|compliance|managing_transitions|continued_monitoring',\n",
       " 'sharing_medical_info|compliance',\n",
       " 'preparation|managing_transitions',\n",
       " 'preparation|sharing_medical_info|compliance|giving_back',\n",
       " 'sharing_medical_info|giving_back',\n",
       " 'preparation|symptom_management|sharing_medical_info|compliance|behavior_changes',\n",
       " 'coordinating_support|compliance',\n",
       " 'symptom_management|sharing_medical_info|compliance|giving_back',\n",
       " 'info_filtering|preparation|sharing_medical_info|compliance|managing_transitions',\n",
       " 'sharing_medical_info|compliance|behavior_changes',\n",
       " 'coordinating_support|giving_back',\n",
       " 'sharing_medical_info|managing_transitions|financial_management',\n",
       " 'info_filtering|clinical_decisions|sharing_medical_info|compliance',\n",
       " 'preparation|sharing_medical_info',\n",
       " 'managing_transitions',\n",
       " 'symptom_management|sharing_medical_info|compliance|managing_transitions',\n",
       " 'coordinating_support|sharing_medical_info|compliance|financial_management',\n",
       " 'preparation|symptom_management|sharing_medical_info',\n",
       " 'info_filtering|sharing_medical_info|compliance|behavior_changes',\n",
       " 'clinical_decisions|symptom_management|sharing_medical_info|compliance|managing_transitions',\n",
       " 'preparation|symptom_management|managing_transitions',\n",
       " 'info_filtering|symptom_management|coordinating_support|sharing_medical_info|compliance',\n",
       " 'clinical_decisions|preparation|coordinating_support|sharing_medical_info|compliance|managing_transitions',\n",
       " 'info_filtering|clinical_decisions|preparation|sharing_medical_info|compliance',\n",
       " 'sharing_medical_info|compliance|continued_monitoring|giving_back',\n",
       " 'info_filtering|preparation|sharing_medical_info|compliance|behavior_changes',\n",
       " 'preparation|sharing_medical_info|managing_transitions',\n",
       " 'preparation',\n",
       " 'sharing_medical_info|compliance|managing_transitions|financial_management|giving_back',\n",
       " 'communicating|sharing_medical_info|compliance|behavior_changes',\n",
       " 'info_filtering|sharing_medical_info|compliance|managing_transitions',\n",
       " 'info_filtering|coordinating_support|sharing_medical_info|compliance',\n",
       " 'info_filtering|preparation|symptom_management|sharing_medical_info|compliance',\n",
       " 'clinical_decisions|preparation|symptom_management',\n",
       " 'clinical_decisions|preparation|coordinating_support|sharing_medical_info',\n",
       " 'info_filtering|symptom_management|sharing_medical_info|compliance|financial_management',\n",
       " 'preparation|sharing_medical_info|giving_back',\n",
       " 'info_filtering|clinical_decisions|sharing_medical_info|compliance|managing_transitions',\n",
       " 'compliance',\n",
       " 'preparation|coordinating_support|sharing_medical_info|compliance|managing_transitions|behavior_changes',\n",
       " 'preparation|coordinating_support|sharing_medical_info|compliance',\n",
       " 'coordinating_support|sharing_medical_info|compliance',\n",
       " 'info_filtering|clinical_decisions|symptom_management|sharing_medical_info|compliance',\n",
       " 'symptom_management|coordinating_support|sharing_medical_info|compliance|continued_monitoring|behavior_changes',\n",
       " 'symptom_management|sharing_medical_info|compliance|continued_monitoring',\n",
       " 'symptom_management|coordinating_support|sharing_medical_info|compliance',\n",
       " 'info_filtering|preparation|sharing_medical_info',\n",
       " 'symptom_management|sharing_medical_info|compliance|behavior_changes',\n",
       " 'preparation|sharing_medical_info|behavior_changes',\n",
       " 'giving_back',\n",
       " 'sharing_medical_info|compliance|financial_management',\n",
       " 'preparation|symptom_management|coordinating_support|sharing_medical_info',\n",
       " 'info_filtering|preparation|coordinating_support|sharing_medical_info|compliance',\n",
       " 'info_filtering|clinical_decisions|symptom_management|coordinating_support|sharing_medical_info|compliance',\n",
       " 'info_filtering|symptom_management|sharing_medical_info',\n",
       " 'coordinating_support|sharing_medical_info|compliance|managing_transitions|giving_back|behavior_changes',\n",
       " 'sharing_medical_info|compliance|managing_transitions|behavior_changes',\n",
       " 'clinical_decisions|sharing_medical_info|compliance|financial_management|continued_monitoring',\n",
       " 'behavior_changes',\n",
       " 'preparation|sharing_medical_info|compliance|managing_transitions',\n",
       " 'communicating|preparation|sharing_medical_info|managing_transitions|continued_monitoring',\n",
       " 'info_filtering|clinical_decisions|preparation|symptom_management|sharing_medical_info|compliance',\n",
       " 'preparation|symptom_management|coordinating_support|sharing_medical_info|compliance',\n",
       " 'sharing_medical_info',\n",
       " 'clinical_decisions|preparation|sharing_medical_info|compliance|financial_management',\n",
       " 'communicating|symptom_management|sharing_medical_info',\n",
       " 'clinical_decisions|preparation|sharing_medical_info|compliance',\n",
       " 'info_filtering|clinical_decisions|coordinating_support|sharing_medical_info|compliance',\n",
       " 'coordinating_support|sharing_medical_info|compliance|behavior_changes',\n",
       " 'clinical_decisions|sharing_medical_info|compliance|giving_back',\n",
       " 'preparation|symptom_management|sharing_medical_info|compliance|managing_transitions',\n",
       " 'preparation|symptom_management|sharing_medical_info|managing_transitions',\n",
       " 'preparation|symptom_management|sharing_medical_info|compliance',\n",
       " 'clinical_decisions|coordinating_support|sharing_medical_info|compliance|managing_transitions',\n",
       " 'info_filtering',\n",
       " 'sharing_medical_info|compliance|financial_management|giving_back',\n",
       " 'info_filtering|preparation|symptom_management|coordinating_support|sharing_medical_info|compliance',\n",
       " 'info_filtering|symptom_management|coordinating_support|sharing_medical_info|compliance|managing_transitions',\n",
       " 'clinical_decisions|preparation|coordinating_support|sharing_medical_info|compliance',\n",
       " 'coordinating_support|sharing_medical_info|compliance|managing_transitions',\n",
       " 'info_filtering|preparation|sharing_medical_info|compliance|financial_management',\n",
       " 'communicating|sharing_medical_info|compliance',\n",
       " 'coordinating_support|sharing_medical_info|compliance|managing_transitions|giving_back',\n",
       " 'clinical_decisions|sharing_medical_info|compliance',\n",
       " 'symptom_management|coordinating_support|sharing_medical_info|compliance|financial_management',\n",
       " 'clinical_decisions|preparation|symptom_management|sharing_medical_info|compliance',\n",
       " 'sharing_medical_info|managing_transitions',\n",
       " 'info_filtering|compliance',\n",
       " 'sharing_medical_info|compliance|managing_transitions|continued_monitoring|behavior_changes',\n",
       " 'info_filtering|sharing_medical_info',\n",
       " 'info_filtering|sharing_medical_info|compliance|giving_back',\n",
       " 'preparation|coordinating_support|sharing_medical_info|compliance|giving_back',\n",
       " 'clinical_decisions|sharing_medical_info|compliance|managing_transitions',\n",
       " 'communicating|coordinating_support|sharing_medical_info|compliance',\n",
       " 'sharing_medical_info|compliance|continued_monitoring',\n",
       " 'preparation|sharing_medical_info|compliance|behavior_changes',\n",
       " 'preparation|symptom_management|sharing_medical_info|compliance|giving_back',\n",
       " 'info_filtering|preparation|sharing_medical_info|financial_management',\n",
       " 'coordinating_support|compliance|giving_back',\n",
       " 'preparation|sharing_medical_info|compliance|managing_transitions|giving_back',\n",
       " 'sharing_medical_info|compliance|managing_transitions|giving_back',\n",
       " 'preparation|compliance',\n",
       " 'compliance|managing_transitions',\n",
       " 'sharing_medical_info|managing_transitions|behavior_changes',\n",
       " 'preparation|sharing_medical_info|compliance',\n",
       " 'preparation|sharing_medical_info|compliance|financial_management',\n",
       " 'managing_transitions|continued_monitoring',\n",
       " 'coordinating_support|sharing_medical_info|compliance|continued_monitoring',\n",
       " 'info_filtering|coordinating_support|giving_back',\n",
       " 'coordinating_support|sharing_medical_info',\n",
       " 'info_filtering|preparation|sharing_medical_info|compliance',\n",
       " 'clinical_decisions|sharing_medical_info|compliance|continued_monitoring',\n",
       " 'sharing_medical_info|compliance|financial_management|continued_monitoring',\n",
       " 'sharing_medical_info|behavior_changes',\n",
       " 'sharing_medical_info|compliance|giving_back',\n",
       " 'coordinating_support',\n",
       " 'sharing_medical_info|compliance|managing_transitions',\n",
       " 'communicating|sharing_medical_info|giving_back',\n",
       " 'symptom_management|coordinating_support|sharing_medical_info',\n",
       " 'coordinating_support|behavior_changes',\n",
       " 'info_filtering|preparation|symptom_management|sharing_medical_info|compliance|giving_back',\n",
       " 'preparation|symptom_management|coordinating_support',\n",
       " 'info_filtering|symptom_management|sharing_medical_info|compliance',\n",
       " 'clinical_decisions|symptom_management|sharing_medical_info|compliance',\n",
       " 'preparation|coordinating_support|sharing_medical_info|compliance|managing_transitions',\n",
       " 'clinical_decisions|coordinating_support|sharing_medical_info|compliance',\n",
       " 'symptom_management|compliance',\n",
       " 'symptom_management',\n",
       " 'clinical_decisions|sharing_medical_info',\n",
       " 'sharing_medical_info|compliance|continued_monitoring|behavior_changes',\n",
       " 'info_filtering|preparation|sharing_medical_info|compliance|continued_monitoring',\n",
       " 'symptom_management|sharing_medical_info|compliance',\n",
       " 'info_filtering|sharing_medical_info|compliance',\n",
       " 'compliance|behavior_changes',\n",
       " 'sharing_medical_info|continued_monitoring',\n",
       " 'coordinating_support|sharing_medical_info|compliance|giving_back']"
      ]
     },
     "execution_count": 44,
     "metadata": {},
     "output_type": "execute_result"
    }
   ],
   "source": [
    "classes = list(set(agreement_df[\"user1_responsibility_str\"]) | set(agreement_df[\"user2_responsibility_str\"]))\n",
    "classes"
   ]
  },
  {
   "cell_type": "code",
   "execution_count": 45,
   "metadata": {
    "scrolled": false
   },
   "outputs": [
    {
     "data": {
      "image/png": "[encoded data removed]",
      "text/plain": [
       "<Figure size 720x720 with 1 Axes>"
      ]
     },
     "metadata": {
      "needs_background": "light"
     },
     "output_type": "display_data"
    }
   ],
   "source": [
    "conf_mat = sklearn.metrics.confusion_matrix(agreement_df[\"user1_responsibility_str\"], agreement_df[\"user2_responsibility_str\"], labels=classes)\n",
    "conf_mat_normed = np.log(conf_mat / (np.max(conf_mat)) + 1)\n",
    "fig, ax = plt.subplots(figsize=(10,10))\n",
    "ax.matshow(conf_mat_normed)\n",
    "plt.show()"
   ]
  },
  {
   "cell_type": "code",
   "execution_count": 46,
   "metadata": {},
   "outputs": [
    {
     "data": {
      "text/plain": [
       "0.10233267744603192"
      ]
     },
     "execution_count": 46,
     "metadata": {},
     "output_type": "execute_result"
    }
   ],
   "source": [
    "sklearn.metrics.cohen_kappa_score(agreement_df[\"user1_responsibility_str\"], agreement_df[\"user2_responsibility_str\"])"
   ]
  },
  {
   "cell_type": "code",
   "execution_count": 47,
   "metadata": {},
   "outputs": [
    {
     "data": {
      "text/plain": [
       "0.851380042462845"
      ]
     },
     "execution_count": 47,
     "metadata": {},
     "output_type": "execute_result"
    }
   ],
   "source": [
    "1 - np.sum(agreement_df['is_strict_agreement']) / len(agreement_df)"
   ]
  },
  {
   "cell_type": "code",
   "execution_count": 48,
   "metadata": {},
   "outputs": [
    {
     "data": {
      "text/plain": [
       "[('sharing_medical_info', 906),\n",
       " ('compliance', 835),\n",
       " ('preparation', 250),\n",
       " ('symptom_management', 197),\n",
       " ('managing_transitions', 178),\n",
       " ('coordinating_support', 163),\n",
       " ('info_filtering', 104),\n",
       " ('continued_monitoring', 48),\n",
       " ('giving_back', 45),\n",
       " ('behavior_changes', 42),\n",
       " ('clinical_decisions', 35),\n",
       " ('financial_management', 28),\n",
       " ('communicating', 8)]"
      ]
     },
     "execution_count": 48,
     "metadata": {},
     "output_type": "execute_result"
    }
   ],
   "source": [
    "resp_counts = Counter()\n",
    "for resps in irr_df[\"responsibilities\"]:\n",
    "    resp_counts.update(resps)\n",
    "resp_counts.most_common()"
   ]
  },
  {
   "cell_type": "code",
   "execution_count": 49,
   "metadata": {},
   "outputs": [
    {
     "name": "stdout",
     "output_type": "stream",
     "text": [
      "Responsibility\t\t\tAP\tAA\tDisagree\n",
      "============================================================\n",
      "sharing_medical_info          \t388\t 38\t 45\n",
      "compliance                    \t340\t 50\t 81\n",
      "preparation                   \t 44\t271\t156\n",
      "symptom_management            \t 22\t302\t147\n",
      "managing_transitions          \t 18\t334\t119\n",
      "coordinating_support          \t 41\t356\t 74\n",
      "info_filtering                \t  7\t375\t 89\n",
      "continued_monitoring          \t  6\t442\t 23\n",
      "giving_back                   \t 10\t436\t 25\n",
      "behavior_changes              \t  8\t444\t 19\n",
      "clinical_decisions            \t  4\t441\t 26\n",
      "financial_management          \t  5\t453\t 13\n",
      "communicating                 \t  0\t463\t  8\n"
     ]
    }
   ],
   "source": [
    "print(\"Responsibility\\t\\t\\tAP\\tAA\\tDisagree\")\n",
    "print(\"=\"*60)\n",
    "for resp, total_count in resp_counts.most_common():\n",
    "    resp_set = set([resp])\n",
    "    user1_present = agreement_df.user1_responsibilities.map(resp_set.issubset)\n",
    "    user2_present = agreement_df.user2_responsibilities.map(resp_set.issubset)\n",
    "    resp_present = user1_present | user2_present\n",
    "    resp_match = user1_present == user2_present\n",
    "    \n",
    "    agree_absent = np.sum(resp_match & ~resp_present)\n",
    "    agree_present = np.sum(resp_match & resp_present)\n",
    "    disagree = np.sum(user1_present != user2_present)\n",
    "    print(f\"{resp:30}\\t{agree_present:3}\\t{agree_absent:3}\\t{disagree:3}\")"
   ]
  },
  {
   "cell_type": "code",
   "execution_count": 50,
   "metadata": {},
   "outputs": [
    {
     "name": "stdout",
     "output_type": "stream",
     "text": [
      "eriks074/luoxx498\ts=19,j=471\t0.15\t0.93\t0.10\n"
     ]
    }
   ],
   "source": [
    "num_sites = len(set(agreement_df[\"site_id\"]))\n",
    "strict_acc = get_strict_agreement_accuracy(agreement_df)\n",
    "partial_acc = get_partial_agreement_accuracy(agreement_df)\n",
    "    \n",
    "cohen_kappa = sklearn.metrics.cohen_kappa_score(agreement_df[\"user1_responsibility_str\"], agreement_df[\"user2_responsibility_str\"])\n",
    "    \n",
    "print(f\"{user1}/{user2}\\ts={num_sites:2},j={len(agreement_df):3}\\t{strict_acc:.2f}\\t{partial_acc:.2f}\\t{cohen_kappa:.2f}\")"
   ]
  },
  {
   "cell_type": "code",
   "execution_count": 51,
   "metadata": {},
   "outputs": [
    {
     "data": {
      "text/plain": [
       "(array([411., 398.,  57.,  27., 120.,  83.,  25.,  26.,  21.,  20.,   8.,\n",
       "         17.,   6.]),\n",
       " array([410., 363., 187., 164.,  35.,  73.,  78.,   9.,  24.,  15.,  26.,\n",
       "          6.,   2.]))"
      ]
     },
     "execution_count": 51,
     "metadata": {},
     "output_type": "execute_result"
    }
   ],
   "source": [
    "resps_list = [resp for resp, _ in resp_counts.most_common()]\n",
    "u1_counts = np.zeros(len(resps_list))\n",
    "for resps in agreement_df[\"user1_responsibilities\"]:\n",
    "    for resp in resps:\n",
    "        u1_counts[resps_list.index(resp)] += 1\n",
    "        #if \"behav\" in resp:\n",
    "        #    print(resp,u1_counts[resps.index(resp)])\n",
    "u2_counts = np.zeros(len(resps_list))\n",
    "for resps in agreement_df[\"user2_responsibilities\"]:\n",
    "    for resp in resps:\n",
    "        u2_counts[resps_list.index(resp)] += 1\n",
    "u1_counts, u2_counts"
   ]
  },
  {
   "cell_type": "code",
   "execution_count": 52,
   "metadata": {},
   "outputs": [
    {
     "name": "stdout",
     "output_type": "stream",
     "text": [
      "responsibility                \teriks074\tluoxx498\n",
      "============================================================\n",
      "sharing_medical_info          \t   411.0\t   410.0\n",
      "compliance                    \t   398.0\t   363.0\n",
      "preparation                   \t    57.0\t   187.0\n",
      "symptom_management            \t    27.0\t   164.0\n",
      "managing_transitions          \t   120.0\t    35.0\n",
      "coordinating_support          \t    83.0\t    73.0\n",
      "info_filtering                \t    25.0\t    78.0\n",
      "continued_monitoring          \t    26.0\t     9.0\n",
      "giving_back                   \t    21.0\t    24.0\n",
      "behavior_changes              \t    20.0\t    15.0\n",
      "clinical_decisions            \t     8.0\t    26.0\n",
      "financial_management          \t    17.0\t     6.0\n",
      "communicating                 \t     6.0\t     2.0\n"
     ]
    }
   ],
   "source": [
    "print(f\"{'responsibility':30}\\t{user1}\\t{user2}\")\n",
    "print(\"=\"*60)\n",
    "for i, resp in enumerate(resps_list):\n",
    "    print(f\"{resp:30}\\t{u1_counts[i]:8}\\t{u2_counts[i]:8}\")"
   ]
  },
  {
   "cell_type": "code",
   "execution_count": 53,
   "metadata": {},
   "outputs": [
    {
     "name": "stdout",
     "output_type": "stream",
     "text": [
      "communicating                   1.70%  -0.01\n",
      "info_filtering                 18.90%   0.06\n",
      "clinical_decisions              5.52%   0.21\n",
      "preparation                    33.12%   0.22\n",
      "symptom_management             31.21%   0.15\n",
      "coordinating_support           15.71%   0.43\n",
      "sharing_medical_info            9.55%   0.57\n",
      "compliance                     17.20%   0.45\n",
      "managing_transitions           25.27%   0.13\n",
      "financial_management            2.76%   0.42\n",
      "continued_monitoring            4.88%   0.32\n",
      "giving_back                     5.31%   0.42\n",
      "behavior_changes                4.03%   0.44\n"
     ]
    }
   ],
   "source": [
    "# compute cohen's kappa per-responsibility\n",
    "for i, resp in enumerate(responsibility_labels):\n",
    "    user1_annotations = agreement_df.user1_responsibilities.apply(lambda resp_list: resp in resp_list)\n",
    "    user2_annotations = agreement_df.user2_responsibilities.apply(lambda resp_list: resp in resp_list)\n",
    "    disagreement = 1 - (np.sum(user1_annotations == user2_annotations) / len(agreement_df))\n",
    "    cohen_kappa = sklearn.metrics.cohen_kappa_score(user1_annotations, user2_annotations)\n",
    "    print(f\"{resp:30} {disagreement*100:5.2f}%  {cohen_kappa:5.2f}\")"
   ]
  },
  {
   "cell_type": "code",
   "execution_count": 54,
   "metadata": {},
   "outputs": [
    {
     "name": "stdout",
     "output_type": "stream",
     "text": [
      "Responsibility\t\t\tAP\tAA\tDisagree\tPct Agreement\tKappa\tAlpha\tCode\n",
      "====================================================================================================\n",
      "sharing_medical_info          \t388\t 38\t      45\t         0.90\t 0.57\t0.57\tSM\n",
      "compliance                    \t340\t 50\t      81\t         0.83\t 0.45\t0.45\tCP\n",
      "preparation                   \t 44\t271\t     156\t         0.67\t 0.22\t0.14\tPR\n",
      "symptom_management            \t 22\t302\t     147\t         0.69\t 0.15\t0.04\tST\n",
      "managing_transitions          \t 18\t334\t     119\t         0.75\t 0.13\t0.08\tMT\n",
      "coordinating_support          \t 41\t356\t      74\t         0.84\t 0.43\t0.43\tCS\n",
      "info_filtering                \t  7\t375\t      89\t         0.81\t 0.06\t0.03\tIF\n",
      "continued_monitoring          \t  6\t442\t      23\t         0.95\t 0.32\t0.32\tCM\n",
      "giving_back                   \t 10\t436\t      25\t         0.95\t 0.42\t0.42\tGB\n",
      "behavior_changes              \t  8\t444\t      19\t         0.96\t 0.44\t0.44\tBC\n",
      "clinical_decisions            \t  4\t441\t      26\t         0.94\t 0.21\t0.21\tCD\n",
      "financial_management          \t  5\t453\t      13\t         0.97\t 0.42\t0.42\tFM\n",
      "communicating                 \t  0\t463\t       8\t         0.98\t-0.01\t-0.01\tCO\n"
     ]
    }
   ],
   "source": [
    "print(\"Responsibility\\t\\t\\tAP\\tAA\\tDisagree\\tPct Agreement\\tKappa\\tAlpha\\tCode\")\n",
    "print(\"=\"*100)\n",
    "for resp, total_count in resp_counts.most_common():\n",
    "    resp_set = set([resp])\n",
    "    user1_present = agreement_df.user1_responsibilities.map(resp_set.issubset)\n",
    "    user2_present = agreement_df.user2_responsibilities.map(resp_set.issubset)\n",
    "    resp_present = user1_present | user2_present\n",
    "    resp_match = user1_present == user2_present\n",
    "    \n",
    "    agree_absent = np.sum(resp_match & ~resp_present)\n",
    "    agree_present = np.sum(resp_match & resp_present)\n",
    "    disagree = np.sum(user1_present != user2_present)\n",
    "    \n",
    "    user1_annotations = agreement_df.user1_responsibilities.apply(lambda resp_list: resp in resp_list).astype(int)\n",
    "    user2_annotations = agreement_df.user2_responsibilities.apply(lambda resp_list: resp in resp_list).astype(int)\n",
    "    assert len(user1_annotations) == len(user2_annotations)\n",
    "    cohen_kappa = sklearn.metrics.cohen_kappa_score(user1_annotations, user2_annotations)\n",
    "    \n",
    "    nltk_data = []\n",
    "    for i in range(len(user1_annotations)):\n",
    "        nltk_data.append((user1, i, user1_annotations.iloc[i]))\n",
    "        nltk_data.append((user2, i, user2_annotations.iloc[i]))\n",
    "    agreement = nltk.agreement.AnnotationTask(data=nltk_data)\n",
    "    krippendorff_alpha = agreement.alpha()\n",
    "    \n",
    "    # quick confirmation that Cohen's kappa produced by NLTK and sklearn are the same\n",
    "    assert np.isclose(agreement.kappa(), cohen_kappa)\n",
    "    #print(resp)\n",
    "    #print(\"kappa \" + str(agreement.kappa()))\n",
    "    #print(\"fleiss \" + str(agreement.multi_kappa()))\n",
    "    #print(\"alpha \" + str(agreement.alpha()))\n",
    "    #print(\"scotts \" + str(agreement.pi()))\n",
    "    \n",
    "    code = responsibility_label_to_code_map[resp]\n",
    "    print(f\"{resp:30}\\t{agree_present:3}\\t{agree_absent:3}\\t{disagree:8}\\t{(agree_present + agree_absent) / (agree_present + agree_absent + disagree):13.2f}\\t{cohen_kappa:5.2f}\\t{krippendorff_alpha:.2f}\\t{code}\")"
   ]
  },
  {
   "cell_type": "markdown",
   "metadata": {},
   "source": [
    "## Computing overall occurrence and disagreement proportions"
   ]
  },
  {
   "cell_type": "code",
   "execution_count": 27,
   "metadata": {},
   "outputs": [
    {
     "data": {
      "text/html": [
       "<div>\n",
       "<style scoped>\n",
       "    .dataframe tbody tr th:only-of-type {\n",
       "        vertical-align: middle;\n",
       "    }\n",
       "\n",
       "    .dataframe tbody tr th {\n",
       "        vertical-align: top;\n",
       "    }\n",
       "\n",
       "    .dataframe thead th {\n",
       "        text-align: right;\n",
       "    }\n",
       "</style>\n",
       "<table border=\"1\" class=\"dataframe\">\n",
       "  <thead>\n",
       "    <tr style=\"text-align: right;\">\n",
       "      <th></th>\n",
       "      <th>is_corrected</th>\n",
       "      <th>journal_oid</th>\n",
       "      <th>responsibilities</th>\n",
       "      <th>site_id</th>\n",
       "      <th>username</th>\n",
       "    </tr>\n",
       "  </thead>\n",
       "  <tbody>\n",
       "    <tr>\n",
       "      <th>0</th>\n",
       "      <td>False</td>\n",
       "      <td>53851470ca16b4c21b5d4f21</td>\n",
       "      <td>[communicating, sharing_medical_info, compliance]</td>\n",
       "      <td>714287</td>\n",
       "      <td>naray114</td>\n",
       "    </tr>\n",
       "    <tr>\n",
       "      <th>1</th>\n",
       "      <td>False</td>\n",
       "      <td>538534b3ca16b4b31c5d5049</td>\n",
       "      <td>[sharing_medical_info, giving_back]</td>\n",
       "      <td>714287</td>\n",
       "      <td>naray114</td>\n",
       "    </tr>\n",
       "    <tr>\n",
       "      <th>2</th>\n",
       "      <td>False</td>\n",
       "      <td>53afa4dfa589b44503115475</td>\n",
       "      <td>[financial_management]</td>\n",
       "      <td>714287</td>\n",
       "      <td>naray114</td>\n",
       "    </tr>\n",
       "    <tr>\n",
       "      <th>3</th>\n",
       "      <td>False</td>\n",
       "      <td>537564b6cb16b4c576c37e98</td>\n",
       "      <td>[sharing_medical_info, compliance]</td>\n",
       "      <td>812280</td>\n",
       "      <td>luoxx498</td>\n",
       "    </tr>\n",
       "    <tr>\n",
       "      <th>4</th>\n",
       "      <td>False</td>\n",
       "      <td>531e3abbac7ee9ba0a0fa490</td>\n",
       "      <td>[symptom_management, sharing_medical_info, com...</td>\n",
       "      <td>812280</td>\n",
       "      <td>luoxx498</td>\n",
       "    </tr>\n",
       "  </tbody>\n",
       "</table>\n",
       "</div>"
      ],
      "text/plain": [
       "   is_corrected               journal_oid  \\\n",
       "0         False  53851470ca16b4c21b5d4f21   \n",
       "1         False  538534b3ca16b4b31c5d5049   \n",
       "2         False  53afa4dfa589b44503115475   \n",
       "3         False  537564b6cb16b4c576c37e98   \n",
       "4         False  531e3abbac7ee9ba0a0fa490   \n",
       "\n",
       "                                    responsibilities  site_id  username  \n",
       "0  [communicating, sharing_medical_info, compliance]   714287  naray114  \n",
       "1                [sharing_medical_info, giving_back]   714287  naray114  \n",
       "2                             [financial_management]   714287  naray114  \n",
       "3                 [sharing_medical_info, compliance]   812280  luoxx498  \n",
       "4  [symptom_management, sharing_medical_info, com...   812280  luoxx498  "
      ]
     },
     "execution_count": 27,
     "metadata": {},
     "output_type": "execute_result"
    }
   ],
   "source": [
    "df.head()"
   ]
  },
  {
   "cell_type": "code",
   "execution_count": 41,
   "metadata": {},
   "outputs": [
    {
     "name": "stderr",
     "output_type": "stream",
     "text": [
      "100%|██████████| 1909/1909 [00:00<00:00, 3529.57it/s]"
     ]
    },
    {
     "name": "stdout",
     "output_type": "stream",
     "text": [
      "communicating         CO   1.3  2.3\n",
      "info_filtering        IF   7.5  17.0\n",
      "clinical_decisions    CD   3.4  6.1\n",
      "preparation           PR   14.4  26.2\n",
      "symptom_management    ST   20.4  32.9\n",
      "coordinating_support  CS   9.2  12.9\n",
      "sharing_medical_info  SM   52.4  16.7\n",
      "compliance            CP   46.6  26.8\n",
      "managing_transitions  MT   12.3  22.9\n",
      "financial_management  FM   1.8  2.6\n",
      "continued_monitoring  CM   5.0  7.4\n",
      "giving_back           GB   2.6  4.8\n",
      "behavior_changes      BC   2.6  4.4\n",
      "\n",
      "Overall disagreement: 0.852\n",
      "Non-none proportion: 96.19\n"
     ]
    },
    {
     "name": "stderr",
     "output_type": "stream",
     "text": [
      "\n"
     ]
    }
   ],
   "source": [
    "resp_counts = np.zeros(len(responsibility_labels))\n",
    "resp_disagreements = np.zeros(len(responsibility_labels))\n",
    "multiple_annotator_count = 0  # tracks number of journals with multiple annotators\n",
    "total_disagreements = 0\n",
    "none_count = 0\n",
    "for key, group in tqdm(df.groupby(by=('site_id', 'journal_oid'), sort=False)):\n",
    "    all_resps = set()\n",
    "    for resp_list in group.responsibilities:\n",
    "        all_resps.update(resp_list)\n",
    "    if len(all_resps) == 0:\n",
    "        none_count += 1\n",
    "        continue  # if all annotators indicated none, there's nothing else to do here\n",
    "    for i, resp_label in enumerate(responsibility_labels):\n",
    "        if resp_label in all_resps:\n",
    "            resp_counts[i] += 1\n",
    "    if len(group) >= 2:\n",
    "        multiple_annotator_count += 1\n",
    "        disagreement = False\n",
    "        for i, resp_label in enumerate(responsibility_labels):\n",
    "            if resp_label in all_resps:\n",
    "                for resp_list in group.responsibilities:\n",
    "                    if resp_label not in resp_list:\n",
    "                        resp_disagreements[i] += 1\n",
    "                        disagreement = True\n",
    "                        break\n",
    "        if disagreement:\n",
    "            total_disagreements += 1\n",
    "\n",
    "resp_proportions = resp_counts / len(df)\n",
    "resp_disagreement_proportions = resp_disagreements / multiple_annotator_count\n",
    "for i, resp_label in enumerate(responsibility_labels):\n",
    "    code = responsibility_label_to_code_map[resp_label]\n",
    "    occurrence = resp_proportions[i]\n",
    "    disagreement = resp_disagreement_proportions[i]\n",
    "    print(f\"{resp_label:20}  {code:3}  {occurrence*100:.1f}  {disagreement * 100:.1f}\")\n",
    "print()\n",
    "print(f\"Overall disagreement: {total_disagreements / multiple_annotator_count}\")\n",
    "print(f\"Non-none proportion: {(1 - (none_count / len(df))) * 100:.2f}\")\n"
   ]
  },
  {
   "cell_type": "markdown",
   "metadata": {},
   "source": [
    "## Additional IRR analysis during ICWSM R&R (April 2019)\n"
   ]
  },
  {
   "cell_type": "code",
   "execution_count": 9,
   "metadata": {},
   "outputs": [
    {
     "data": {
      "text/plain": [
       "(6, 2881, 3126)"
      ]
     },
     "execution_count": 9,
     "metadata": {},
     "output_type": "execute_result"
    }
   ],
   "source": [
    "np.sum(df.responsibilities.map(lambda r: len(r) > 1)), np.sum(df.responsibilities.map(lambda r: len(r) > 0)), len(df)"
   ]
  },
  {
   "cell_type": "code",
   "execution_count": 44,
   "metadata": {},
   "outputs": [
    {
     "name": "stderr",
     "output_type": "stream",
     "text": [
      "100%|██████████| 1913/1913 [00:25<00:00, 74.30it/s] \n"
     ]
    },
    {
     "data": {
      "text/plain": [
       "1895"
      ]
     },
     "execution_count": 44,
     "metadata": {},
     "output_type": "execute_result"
    }
   ],
   "source": [
    "annotated_df = get_annotated_responsibility_df()\n",
    "len(annotated_df)"
   ]
  },
  {
   "cell_type": "code",
   "execution_count": 48,
   "metadata": {},
   "outputs": [
    {
     "data": {
      "text/plain": [
       "(573, 3)"
      ]
     },
     "execution_count": 48,
     "metadata": {},
     "output_type": "execute_result"
    }
   ],
   "source": [
    "# very, very few journals are annotated with more than a single responsibility label\n",
    "# this seems false, need to investigate\n",
    "np.sum(annotated_df.responsibilities.map(lambda r: len(r) > 1)), \\\n",
    "np.sum(annotated_df[annotated_df.conflict_status != 'CONFLICT'].responsibilities.map(lambda r: len(r) > 1))"
   ]
  },
  {
   "cell_type": "code",
   "execution_count": 54,
   "metadata": {},
   "outputs": [
    {
     "data": {
      "text/plain": [
       "0.054353562005277044"
      ]
     },
     "execution_count": 54,
     "metadata": {},
     "output_type": "execute_result"
    }
   ],
   "source": [
    "# Percentage of updates assigned no responsibility\n",
    "np.sum(annotated_df.responsibilities.map(lambda r: len(r) == 0)) / len(annotated_df)"
   ]
  },
  {
   "cell_type": "code",
   "execution_count": 51,
   "metadata": {
    "scrolled": false
   },
   "outputs": [
    {
     "data": {
      "text/html": [
       "<div>\n",
       "<style scoped>\n",
       "    .dataframe tbody tr th:only-of-type {\n",
       "        vertical-align: middle;\n",
       "    }\n",
       "\n",
       "    .dataframe tbody tr th {\n",
       "        vertical-align: top;\n",
       "    }\n",
       "\n",
       "    .dataframe thead th {\n",
       "        text-align: right;\n",
       "    }\n",
       "</style>\n",
       "<table border=\"1\" class=\"dataframe\">\n",
       "  <thead>\n",
       "    <tr style=\"text-align: right;\">\n",
       "      <th></th>\n",
       "      <th>behavior_changes_score</th>\n",
       "      <th>clinical_decisions_score</th>\n",
       "      <th>communicating_score</th>\n",
       "      <th>compliance_score</th>\n",
       "      <th>conflict_status</th>\n",
       "      <th>continued_monitoring_score</th>\n",
       "      <th>coordinating_support_score</th>\n",
       "      <th>financial_management_score</th>\n",
       "      <th>giving_back_score</th>\n",
       "      <th>info_filtering_score</th>\n",
       "      <th>is_annotated</th>\n",
       "      <th>journal_oid</th>\n",
       "      <th>journal_text</th>\n",
       "      <th>managing_transitions_score</th>\n",
       "      <th>preparation_score</th>\n",
       "      <th>responsibilities</th>\n",
       "      <th>sharing_medical_info_score</th>\n",
       "      <th>site_id</th>\n",
       "      <th>symptom_management_score</th>\n",
       "    </tr>\n",
       "  </thead>\n",
       "  <tbody>\n",
       "    <tr>\n",
       "      <th>469</th>\n",
       "      <td>0.0</td>\n",
       "      <td>0.0</td>\n",
       "      <td>0.0</td>\n",
       "      <td>1.0</td>\n",
       "      <td>SINGLE USER</td>\n",
       "      <td>0.0</td>\n",
       "      <td>0.0</td>\n",
       "      <td>0.0</td>\n",
       "      <td>0.0</td>\n",
       "      <td>0.0</td>\n",
       "      <td>True</td>\n",
       "      <td>51be2e666ca0041c0a00e86b</td>\n",
       "      <td>NEWLINE  So much for the timely update! But s...</td>\n",
       "      <td>0.0</td>\n",
       "      <td>0.0</td>\n",
       "      <td>[sharing_medical_info, compliance]</td>\n",
       "      <td>1.0</td>\n",
       "      <td>208865</td>\n",
       "      <td>0.0</td>\n",
       "    </tr>\n",
       "    <tr>\n",
       "      <th>662</th>\n",
       "      <td>0.0</td>\n",
       "      <td>0.0</td>\n",
       "      <td>0.0</td>\n",
       "      <td>1.0</td>\n",
       "      <td>SINGLE USER</td>\n",
       "      <td>0.0</td>\n",
       "      <td>0.0</td>\n",
       "      <td>0.0</td>\n",
       "      <td>0.0</td>\n",
       "      <td>0.0</td>\n",
       "      <td>True</td>\n",
       "      <td>51be33246ca00479190058c3</td>\n",
       "      <td>NEWLINE New Years Eve Day...started with a sl...</td>\n",
       "      <td>0.0</td>\n",
       "      <td>0.0</td>\n",
       "      <td>[sharing_medical_info, compliance]</td>\n",
       "      <td>1.0</td>\n",
       "      <td>235240</td>\n",
       "      <td>0.0</td>\n",
       "    </tr>\n",
       "    <tr>\n",
       "      <th>668</th>\n",
       "      <td>0.0</td>\n",
       "      <td>0.0</td>\n",
       "      <td>0.0</td>\n",
       "      <td>0.0</td>\n",
       "      <td>SINGLE USER</td>\n",
       "      <td>0.0</td>\n",
       "      <td>0.0</td>\n",
       "      <td>0.0</td>\n",
       "      <td>0.0</td>\n",
       "      <td>1.0</td>\n",
       "      <td>True</td>\n",
       "      <td>51be33246ca0047919005975</td>\n",
       "      <td>NEWLINE   NEWLINE  If you're wondering what t...</td>\n",
       "      <td>0.0</td>\n",
       "      <td>0.0</td>\n",
       "      <td>[info_filtering, symptom_management]</td>\n",
       "      <td>0.0</td>\n",
       "      <td>235240</td>\n",
       "      <td>1.0</td>\n",
       "    </tr>\n",
       "  </tbody>\n",
       "</table>\n",
       "</div>"
      ],
      "text/plain": [
       "     behavior_changes_score  clinical_decisions_score  communicating_score  \\\n",
       "469                     0.0                       0.0                  0.0   \n",
       "662                     0.0                       0.0                  0.0   \n",
       "668                     0.0                       0.0                  0.0   \n",
       "\n",
       "     compliance_score conflict_status  continued_monitoring_score  \\\n",
       "469               1.0     SINGLE USER                         0.0   \n",
       "662               1.0     SINGLE USER                         0.0   \n",
       "668               0.0     SINGLE USER                         0.0   \n",
       "\n",
       "     coordinating_support_score  financial_management_score  \\\n",
       "469                         0.0                         0.0   \n",
       "662                         0.0                         0.0   \n",
       "668                         0.0                         0.0   \n",
       "\n",
       "     giving_back_score  info_filtering_score  is_annotated  \\\n",
       "469                0.0                   0.0          True   \n",
       "662                0.0                   0.0          True   \n",
       "668                0.0                   1.0          True   \n",
       "\n",
       "                  journal_oid  \\\n",
       "469  51be2e666ca0041c0a00e86b   \n",
       "662  51be33246ca00479190058c3   \n",
       "668  51be33246ca0047919005975   \n",
       "\n",
       "                                          journal_text  \\\n",
       "469   NEWLINE  So much for the timely update! But s...   \n",
       "662   NEWLINE New Years Eve Day...started with a sl...   \n",
       "668   NEWLINE   NEWLINE  If you're wondering what t...   \n",
       "\n",
       "     managing_transitions_score  preparation_score  \\\n",
       "469                         0.0                0.0   \n",
       "662                         0.0                0.0   \n",
       "668                         0.0                0.0   \n",
       "\n",
       "                         responsibilities  sharing_medical_info_score  \\\n",
       "469    [sharing_medical_info, compliance]                         1.0   \n",
       "662    [sharing_medical_info, compliance]                         1.0   \n",
       "668  [info_filtering, symptom_management]                         0.0   \n",
       "\n",
       "     site_id  symptom_management_score  \n",
       "469   208865                       0.0  \n",
       "662   235240                       0.0  \n",
       "668   235240                       1.0  "
      ]
     },
     "execution_count": 51,
     "metadata": {},
     "output_type": "execute_result"
    }
   ],
   "source": [
    "annotated_df[(annotated_df.conflict_status != 'CONFLICT')&(annotated_df.responsibilities.map(lambda r: len(r) > 1))]"
   ]
  },
  {
   "cell_type": "code",
   "execution_count": 10,
   "metadata": {},
   "outputs": [],
   "source": [
    "import db as db_utils\n",
    "import responsibility as responsibility_utils"
   ]
  },
  {
   "cell_type": "code",
   "execution_count": 11,
   "metadata": {},
   "outputs": [],
   "source": [
    "def get_responsibility_annotations_by_username_dataframe():\n",
    "    try:\n",
    "        db = db_utils.get_annotation_db()\n",
    "        created_at = '2018-08-23'\n",
    "        cursor = db.execute(\"\"\"\n",
    "                    SELECT a.site_id, a.journal_oid, a.data, a.username, a.id\n",
    "                    FROM journalAnnotation a\n",
    "                    WHERE a.annotation_type = \"journal_patient_responsibilities\" AND a.data <> \"\"\n",
    "                    AND a.created >= ?\n",
    "                    GROUP BY a.site_id, a.journal_oid, a.username, a.id\n",
    "                    ORDER BY a.id DESC\n",
    "                \"\"\", (created_at,))\n",
    "\n",
    "        responsibility_annotations = []\n",
    "        rows = cursor.fetchall()\n",
    "        for row in rows:\n",
    "            site_id, journal_oid = row['site_id'], row['journal_oid']\n",
    "            username = row['username']\n",
    "            responsibilities = responsibility_utils.get_labels_from_responsibility_string(row['data'])\n",
    "            responsibility_annotation_data = {'site_id': site_id,\n",
    "                                              'journal_oid': journal_oid,\n",
    "                                              'username': username,\n",
    "                                              'responsibilities': responsibilities,\n",
    "                                              'id': row['id']}\n",
    "            responsibility_annotations.append(responsibility_annotation_data)\n",
    "        \n",
    "        responsibility_df = pd.DataFrame(responsibility_annotations)\n",
    "        new_df_inds = [group.id.idxmax() \n",
    "                       for key, group \n",
    "                       in responsibility_df.groupby(by=['site_id', 'journal_oid', 'username'])]\n",
    "        new_df = responsibility_df.loc[new_df_inds].copy()\n",
    "        new_df.reset_index(inplace=True)\n",
    "        \n",
    "        return new_df\n",
    "    finally:\n",
    "        db.close()\n",
    "        \n",
    "def get_responsibility_annotations_by_username_adjusted_static():\n",
    "    # first crack at digging into the problem\n",
    "    try:\n",
    "        db = db_utils.get_annotation_db()\n",
    "        created_at = '2018-08-23'\n",
    "        cursor = db.execute(\"\"\"\n",
    "                    SELECT a.site_id, a.journal_oid, a.data, a.username, c.correct_username \n",
    "                    FROM journalAnnotation a LEFT JOIN journalAnnotationConflictResolution c \n",
    "                    ON a.site_id = c.site_id AND a.journal_oid = c.journal_oid AND a.annotation_type = c.annotation_type \n",
    "                    WHERE a.annotation_type = \"journal_patient_responsibilities\" AND a.data <> \"\"\n",
    "                    AND a.created >= ?\n",
    "                    GROUP BY a.site_id, a.journal_oid, a.username \n",
    "                    ORDER BY a.id DESC\n",
    "                \"\"\", (created_at,))\n",
    "\n",
    "        responsibility_annotations = []\n",
    "        rows = cursor.fetchall()\n",
    "        multiple_resp_count = 0\n",
    "        for row in rows:\n",
    "            site_id, journal_oid = row['site_id'], row['journal_oid']\n",
    "            username = row['username']\n",
    "            is_corrected = row['correct_username'] is not None and row['correct_username'] != \"\"\n",
    "            if '|' in row['data']:\n",
    "                multiple_resp_count += 1\n",
    "            responsibilities = responsibility_utils.get_labels_from_responsibility_string(row['data'])\n",
    "            if len(responsibilities) > 1 or '|' in row['data']:\n",
    "                print(row['data'])\n",
    "            responsibility_annotation_data = {'site_id': site_id,\n",
    "                                              'journal_oid': journal_oid,\n",
    "                                              'username': username,\n",
    "                                              'responsibilities': responsibilities,\n",
    "                                              'is_corrected': is_corrected}\n",
    "            responsibility_annotations.append(responsibility_annotation_data)\n",
    "        print(\"Multiple responsibilities in %d / %d journals.\" % (multiple_resp_count, len(responsibility_annotations)))\n",
    "        return responsibility_annotations\n",
    "    finally:\n",
    "        db.close()"
   ]
  },
  {
   "cell_type": "code",
   "execution_count": 12,
   "metadata": {},
   "outputs": [
    {
     "data": {
      "text/plain": [
       "9115"
      ]
     },
     "execution_count": 12,
     "metadata": {},
     "output_type": "execute_result"
    }
   ],
   "source": [
    "adj_df = pd.DataFrame(get_responsibility_annotations_by_username_adjusted())\n",
    "len(adj_df)"
   ]
  },
  {
   "cell_type": "code",
   "execution_count": 13,
   "metadata": {},
   "outputs": [
    {
     "data": {
      "text/html": [
       "<div>\n",
       "<style scoped>\n",
       "    .dataframe tbody tr th:only-of-type {\n",
       "        vertical-align: middle;\n",
       "    }\n",
       "\n",
       "    .dataframe tbody tr th {\n",
       "        vertical-align: top;\n",
       "    }\n",
       "\n",
       "    .dataframe thead th {\n",
       "        text-align: right;\n",
       "    }\n",
       "</style>\n",
       "<table border=\"1\" class=\"dataframe\">\n",
       "  <thead>\n",
       "    <tr style=\"text-align: right;\">\n",
       "      <th></th>\n",
       "      <th>id</th>\n",
       "      <th>journal_oid</th>\n",
       "      <th>responsibilities</th>\n",
       "      <th>site_id</th>\n",
       "      <th>username</th>\n",
       "    </tr>\n",
       "  </thead>\n",
       "  <tbody>\n",
       "    <tr>\n",
       "      <th>0</th>\n",
       "      <td>29580</td>\n",
       "      <td>525f036d0dad103249c4a209</td>\n",
       "      <td>[sharing_medical_info, compliance]</td>\n",
       "      <td>719363</td>\n",
       "      <td>levon003</td>\n",
       "    </tr>\n",
       "    <tr>\n",
       "      <th>1</th>\n",
       "      <td>29579</td>\n",
       "      <td>525f036d0dad103249c4a209</td>\n",
       "      <td>[sharing_medical_info]</td>\n",
       "      <td>719363</td>\n",
       "      <td>levon003</td>\n",
       "    </tr>\n",
       "    <tr>\n",
       "      <th>2</th>\n",
       "      <td>29577</td>\n",
       "      <td>5272895da689b4cf36c142a5</td>\n",
       "      <td>[sharing_medical_info, compliance, financial_m...</td>\n",
       "      <td>715191</td>\n",
       "      <td>levon003</td>\n",
       "    </tr>\n",
       "    <tr>\n",
       "      <th>3</th>\n",
       "      <td>29576</td>\n",
       "      <td>5272895da689b4cf36c142a5</td>\n",
       "      <td>[sharing_medical_info, compliance, giving_back]</td>\n",
       "      <td>715191</td>\n",
       "      <td>levon003</td>\n",
       "    </tr>\n",
       "    <tr>\n",
       "      <th>4</th>\n",
       "      <td>29575</td>\n",
       "      <td>5272895da689b4cf36c142a5</td>\n",
       "      <td>[sharing_medical_info, compliance]</td>\n",
       "      <td>715191</td>\n",
       "      <td>levon003</td>\n",
       "    </tr>\n",
       "  </tbody>\n",
       "</table>\n",
       "</div>"
      ],
      "text/plain": [
       "      id               journal_oid  \\\n",
       "0  29580  525f036d0dad103249c4a209   \n",
       "1  29579  525f036d0dad103249c4a209   \n",
       "2  29577  5272895da689b4cf36c142a5   \n",
       "3  29576  5272895da689b4cf36c142a5   \n",
       "4  29575  5272895da689b4cf36c142a5   \n",
       "\n",
       "                                    responsibilities  site_id  username  \n",
       "0                 [sharing_medical_info, compliance]   719363  levon003  \n",
       "1                             [sharing_medical_info]   719363  levon003  \n",
       "2  [sharing_medical_info, compliance, financial_m...   715191  levon003  \n",
       "3    [sharing_medical_info, compliance, giving_back]   715191  levon003  \n",
       "4                 [sharing_medical_info, compliance]   715191  levon003  "
      ]
     },
     "execution_count": 13,
     "metadata": {},
     "output_type": "execute_result"
    }
   ],
   "source": [
    "adj_df.head()"
   ]
  },
  {
   "cell_type": "code",
   "execution_count": 63,
   "metadata": {},
   "outputs": [
    {
     "data": {
      "text/plain": [
       "3102"
      ]
     },
     "execution_count": 63,
     "metadata": {},
     "output_type": "execute_result"
    }
   ],
   "source": [
    "len(df)"
   ]
  },
  {
   "cell_type": "code",
   "execution_count": 15,
   "metadata": {},
   "outputs": [],
   "source": [
    "adj_df['cardinality'] = adj_df.apply(lambda row: len(row.responsibilities), axis=1)"
   ]
  },
  {
   "cell_type": "code",
   "execution_count": 55,
   "metadata": {},
   "outputs": [
    {
     "data": {
      "text/plain": [
       "3126"
      ]
     },
     "execution_count": 55,
     "metadata": {},
     "output_type": "execute_result"
    }
   ],
   "source": [
    "new_df_inds = [group.id.idxmax() for key, group in adj_df.groupby(by=['site_id', 'journal_oid', 'username'])]\n",
    "len(new_df_inds)"
   ]
  },
  {
   "cell_type": "code",
   "execution_count": 57,
   "metadata": {},
   "outputs": [
    {
     "data": {
      "text/plain": [
       "3126"
      ]
     },
     "execution_count": 57,
     "metadata": {},
     "output_type": "execute_result"
    }
   ],
   "source": [
    "len(adj_df.loc[new_df_inds])"
   ]
  },
  {
   "cell_type": "code",
   "execution_count": 12,
   "metadata": {},
   "outputs": [
    {
     "data": {
      "text/plain": [
       "3126"
      ]
     },
     "execution_count": 12,
     "metadata": {},
     "output_type": "execute_result"
    }
   ],
   "source": [
    "new_df = get_responsibility_annotations_by_username_dataframe()\n",
    "len(new_df)"
   ]
  },
  {
   "cell_type": "code",
   "execution_count": 21,
   "metadata": {},
   "outputs": [],
   "source": [
    "new_df_rows = []\n",
    "cardinality_list = []\n",
    "for key, group in adj_df.groupby(by=['site_id', 'journal_oid', 'username']):\n",
    "    \n",
    "    if len(group) > 1:\n",
    "        row = group.loc[group.id.idxmax()]\n",
    "        new_df_rows.append(row)\n",
    "        cardinality = row.cardinality\n",
    "    else:\n",
    "        row = group.iloc[0]\n",
    "        new_df_rows.append(row)\n",
    "        cardinality = row.cardinality\n",
    "    cardinality_list.append(cardinality)"
   ]
  },
  {
   "cell_type": "code",
   "execution_count": 22,
   "metadata": {},
   "outputs": [
    {
     "data": {
      "text/plain": [
       "3126"
      ]
     },
     "execution_count": 22,
     "metadata": {},
     "output_type": "execute_result"
    }
   ],
   "source": [
    "new_df = pd.DataFrame(new_df_rows)\n",
    "len(new_df)"
   ]
  },
  {
   "cell_type": "code",
   "execution_count": 24,
   "metadata": {},
   "outputs": [
    {
     "data": {
      "text/plain": [
       "3126"
      ]
     },
     "execution_count": 24,
     "metadata": {},
     "output_type": "execute_result"
    }
   ],
   "source": [
    "len(df)"
   ]
  },
  {
   "cell_type": "code",
   "execution_count": 25,
   "metadata": {},
   "outputs": [
    {
     "data": {
      "text/plain": [
       "3126"
      ]
     },
     "execution_count": 25,
     "metadata": {},
     "output_type": "execute_result"
    }
   ],
   "source": [
    "j = pd.merge(df, new_df, on=['site_id', 'journal_oid', 'username'], validate='one_to_one', suffixes=(\"_old\", \"_new\"))\n",
    "len(j)"
   ]
  },
  {
   "cell_type": "code",
   "execution_count": 26,
   "metadata": {},
   "outputs": [
    {
     "data": {
      "text/html": [
       "<div>\n",
       "<style scoped>\n",
       "    .dataframe tbody tr th:only-of-type {\n",
       "        vertical-align: middle;\n",
       "    }\n",
       "\n",
       "    .dataframe tbody tr th {\n",
       "        vertical-align: top;\n",
       "    }\n",
       "\n",
       "    .dataframe thead th {\n",
       "        text-align: right;\n",
       "    }\n",
       "</style>\n",
       "<table border=\"1\" class=\"dataframe\">\n",
       "  <thead>\n",
       "    <tr style=\"text-align: right;\">\n",
       "      <th></th>\n",
       "      <th>is_corrected</th>\n",
       "      <th>journal_oid</th>\n",
       "      <th>responsibilities_old</th>\n",
       "      <th>site_id</th>\n",
       "      <th>username</th>\n",
       "      <th>id</th>\n",
       "      <th>responsibilities_new</th>\n",
       "      <th>cardinality</th>\n",
       "    </tr>\n",
       "  </thead>\n",
       "  <tbody>\n",
       "    <tr>\n",
       "      <th>0</th>\n",
       "      <td>False</td>\n",
       "      <td>5272895da689b4cf36c142a5</td>\n",
       "      <td>[sharing_medical_info]</td>\n",
       "      <td>715191</td>\n",
       "      <td>levon003</td>\n",
       "      <td>29577</td>\n",
       "      <td>[sharing_medical_info, compliance, financial_m...</td>\n",
       "      <td>4</td>\n",
       "    </tr>\n",
       "    <tr>\n",
       "      <th>1</th>\n",
       "      <td>False</td>\n",
       "      <td>525f036d0dad103249c4a209</td>\n",
       "      <td>[sharing_medical_info]</td>\n",
       "      <td>719363</td>\n",
       "      <td>levon003</td>\n",
       "      <td>29580</td>\n",
       "      <td>[sharing_medical_info, compliance]</td>\n",
       "      <td>2</td>\n",
       "    </tr>\n",
       "    <tr>\n",
       "      <th>2</th>\n",
       "      <td>False</td>\n",
       "      <td>52a24586ac7ee95c507d4602</td>\n",
       "      <td>[]</td>\n",
       "      <td>839384</td>\n",
       "      <td>levon003</td>\n",
       "      <td>29572</td>\n",
       "      <td>[]</td>\n",
       "      <td>0</td>\n",
       "    </tr>\n",
       "    <tr>\n",
       "      <th>3</th>\n",
       "      <td>False</td>\n",
       "      <td>523d20accb16b4a80ea80789</td>\n",
       "      <td>[]</td>\n",
       "      <td>829111</td>\n",
       "      <td>levon003</td>\n",
       "      <td>29571</td>\n",
       "      <td>[]</td>\n",
       "      <td>0</td>\n",
       "    </tr>\n",
       "    <tr>\n",
       "      <th>4</th>\n",
       "      <td>False</td>\n",
       "      <td>53851470ca16b4c21b5d4f21</td>\n",
       "      <td>[coordinating_support]</td>\n",
       "      <td>714287</td>\n",
       "      <td>naray114</td>\n",
       "      <td>29528</td>\n",
       "      <td>[communicating, sharing_medical_info, compliance]</td>\n",
       "      <td>3</td>\n",
       "    </tr>\n",
       "  </tbody>\n",
       "</table>\n",
       "</div>"
      ],
      "text/plain": [
       "   is_corrected               journal_oid    responsibilities_old  site_id  \\\n",
       "0         False  5272895da689b4cf36c142a5  [sharing_medical_info]   715191   \n",
       "1         False  525f036d0dad103249c4a209  [sharing_medical_info]   719363   \n",
       "2         False  52a24586ac7ee95c507d4602                      []   839384   \n",
       "3         False  523d20accb16b4a80ea80789                      []   829111   \n",
       "4         False  53851470ca16b4c21b5d4f21  [coordinating_support]   714287   \n",
       "\n",
       "   username     id                               responsibilities_new  \\\n",
       "0  levon003  29577  [sharing_medical_info, compliance, financial_m...   \n",
       "1  levon003  29580                 [sharing_medical_info, compliance]   \n",
       "2  levon003  29572                                                 []   \n",
       "3  levon003  29571                                                 []   \n",
       "4  naray114  29528  [communicating, sharing_medical_info, compliance]   \n",
       "\n",
       "   cardinality  \n",
       "0            4  \n",
       "1            2  \n",
       "2            0  \n",
       "3            0  \n",
       "4            3  "
      ]
     },
     "execution_count": 26,
     "metadata": {},
     "output_type": "execute_result"
    }
   ],
   "source": [
    "j.head()"
   ]
  },
  {
   "cell_type": "code",
   "execution_count": 31,
   "metadata": {},
   "outputs": [
    {
     "data": {
      "text/plain": [
       "(2615, 0.8365323096609085)"
      ]
     },
     "execution_count": 31,
     "metadata": {},
     "output_type": "execute_result"
    }
   ],
   "source": [
    "difference_count = 0\n",
    "for key, group in j.groupby(by=['site_id', 'journal_oid', 'username']):\n",
    "    row = group.iloc[0]\n",
    "    assert len(group) == 1\n",
    "    if row.responsibilities_old != row.responsibilities_new:\n",
    "        difference_count += 1\n",
    "        #print(row.responsibilities_old, row.responsibilities_new)\n",
    "difference_count, difference_count / len(j)"
   ]
  },
  {
   "cell_type": "code",
   "execution_count": 17,
   "metadata": {},
   "outputs": [
    {
     "data": {
      "text/plain": [
       "(0, 11, 2.470249520153551, 3126)"
      ]
     },
     "execution_count": 17,
     "metadata": {},
     "output_type": "execute_result"
    }
   ],
   "source": [
    "c_list = np.array(cardinality_list)\n",
    "c_list.min(), c_list.max(), c_list.mean(), len(c_list)"
   ]
  },
  {
   "cell_type": "code",
   "execution_count": 18,
   "metadata": {},
   "outputs": [
    {
     "data": {
      "text/plain": [
       "(1557, 2547, 2877, 3126)"
      ]
     },
     "execution_count": 18,
     "metadata": {},
     "output_type": "execute_result"
    }
   ],
   "source": [
    "np.sum(c_list > 2), np.sum(c_list > 1), np.sum(c_list > 0), len(c_list)"
   ]
  },
  {
   "cell_type": "code",
   "execution_count": 46,
   "metadata": {},
   "outputs": [
    {
     "data": {
      "text/html": [
       "<div>\n",
       "<style scoped>\n",
       "    .dataframe tbody tr th:only-of-type {\n",
       "        vertical-align: middle;\n",
       "    }\n",
       "\n",
       "    .dataframe tbody tr th {\n",
       "        vertical-align: top;\n",
       "    }\n",
       "\n",
       "    .dataframe thead th {\n",
       "        text-align: right;\n",
       "    }\n",
       "</style>\n",
       "<table border=\"1\" class=\"dataframe\">\n",
       "  <thead>\n",
       "    <tr style=\"text-align: right;\">\n",
       "      <th></th>\n",
       "      <th>id</th>\n",
       "      <th>journal_oid</th>\n",
       "      <th>responsibilities</th>\n",
       "      <th>site_id</th>\n",
       "      <th>username</th>\n",
       "      <th>cardinality</th>\n",
       "    </tr>\n",
       "  </thead>\n",
       "  <tbody>\n",
       "    <tr>\n",
       "      <th>9020</th>\n",
       "      <td>4357</td>\n",
       "      <td>51be1cc26ca004675000a4e4</td>\n",
       "      <td>[info_filtering, clinical_decisions, preparati...</td>\n",
       "      <td>138616</td>\n",
       "      <td>rubya001</td>\n",
       "      <td>7</td>\n",
       "    </tr>\n",
       "    <tr>\n",
       "      <th>8387</th>\n",
       "      <td>8109</td>\n",
       "      <td>51be39326ca004972c004c61</td>\n",
       "      <td>[communicating, info_filtering, preparation, s...</td>\n",
       "      <td>260918</td>\n",
       "      <td>eriks074</td>\n",
       "      <td>9</td>\n",
       "    </tr>\n",
       "    <tr>\n",
       "      <th>8054</th>\n",
       "      <td>8714</td>\n",
       "      <td>51be39326ca004972c005406</td>\n",
       "      <td>[info_filtering, clinical_decisions, preparati...</td>\n",
       "      <td>260918</td>\n",
       "      <td>luoxx498</td>\n",
       "      <td>7</td>\n",
       "    </tr>\n",
       "    <tr>\n",
       "      <th>6323</th>\n",
       "      <td>11463</td>\n",
       "      <td>51be39c66ca0046a2e003c88</td>\n",
       "      <td>[communicating, info_filtering, clinical_decis...</td>\n",
       "      <td>264906</td>\n",
       "      <td>eriks074</td>\n",
       "      <td>11</td>\n",
       "    </tr>\n",
       "  </tbody>\n",
       "</table>\n",
       "</div>"
      ],
      "text/plain": [
       "         id               journal_oid  \\\n",
       "9020   4357  51be1cc26ca004675000a4e4   \n",
       "8387   8109  51be39326ca004972c004c61   \n",
       "8054   8714  51be39326ca004972c005406   \n",
       "6323  11463  51be39c66ca0046a2e003c88   \n",
       "\n",
       "                                       responsibilities  site_id  username  \\\n",
       "9020  [info_filtering, clinical_decisions, preparati...   138616  rubya001   \n",
       "8387  [communicating, info_filtering, preparation, s...   260918  eriks074   \n",
       "8054  [info_filtering, clinical_decisions, preparati...   260918  luoxx498   \n",
       "6323  [communicating, info_filtering, clinical_decis...   264906  eriks074   \n",
       "\n",
       "      cardinality  \n",
       "9020            7  \n",
       "8387            9  \n",
       "8054            7  \n",
       "6323           11  "
      ]
     },
     "execution_count": 46,
     "metadata": {},
     "output_type": "execute_result"
    }
   ],
   "source": [
    "new_df[new_df.cardinality > 6].head()"
   ]
  },
  {
   "cell_type": "code",
   "execution_count": null,
   "metadata": {},
   "outputs": [],
   "source": []
  }
 ],
 "metadata": {
  "kernelspec": {
   "display_name": "Python 3",
   "language": "python",
   "name": "python3"
  },
  "language_info": {
   "codemirror_mode": {
    "name": "ipython",
    "version": 3
   },
   "file_extension": ".py",
   "mimetype": "text/x-python",
   "name": "python",
   "nbconvert_exporter": "python",
   "pygments_lexer": "ipython3",
   "version": "3.6.8"
  }
 },
 "nbformat": 4,
 "nbformat_minor": 1
}
