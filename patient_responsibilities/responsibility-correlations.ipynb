{
 "cells": [
  {
   "cell_type": "markdown",
   "metadata": {},
   "source": [
    "Responsibility Correlations\n",
    "===\n",
    "\n",
    "Notebook to create an image describing the correlations of the responsibilities."
   ]
  },
  {
   "cell_type": "code",
   "execution_count": 1,
   "metadata": {
    "collapsed": true
   },
   "outputs": [],
   "source": [
    "%reload_ext autoreload\n",
    "%autoreload 2\n",
    "%matplotlib inline"
   ]
  },
  {
   "cell_type": "code",
   "execution_count": 2,
   "metadata": {
    "collapsed": true
   },
   "outputs": [],
   "source": [
    "import sys\n",
    "sys.path.append(\"../annotation_data\")"
   ]
  },
  {
   "cell_type": "code",
   "execution_count": 3,
   "metadata": {
    "collapsed": true
   },
   "outputs": [],
   "source": [
    "from responsibility import *"
   ]
  },
  {
   "cell_type": "code",
   "execution_count": 4,
   "metadata": {
    "collapsed": true
   },
   "outputs": [],
   "source": [
    "import pandas as pd\n",
    "import numpy as np\n",
    "import sklearn\n",
    "import sklearn.metrics\n",
    "import os"
   ]
  },
  {
   "cell_type": "code",
   "execution_count": 5,
   "metadata": {
    "collapsed": true
   },
   "outputs": [],
   "source": [
    "import matplotlib.pyplot as plt\n",
    "import matplotlib.dates as md\n",
    "import matplotlib\n",
    "import pylab as pl"
   ]
  },
  {
   "cell_type": "code",
   "execution_count": 6,
   "metadata": {},
   "outputs": [
    {
     "data": {
      "text/plain": [
       "4946"
      ]
     },
     "execution_count": 6,
     "metadata": {},
     "output_type": "execute_result"
    }
   ],
   "source": [
    "candidate_sites_working_dir = \"/home/srivbane/shared/caringbridge/data/projects/qual-health-journeys/identify_candidate_sites\"\n",
    "valid_classification_sites_filename = os.path.join(candidate_sites_working_dir, \"valid_classification_sites_filtered.txt\")\n",
    "with open(valid_classification_sites_filename, 'r') as infile:\n",
    "    valid_sites = [int(line.strip()) for line in infile.readlines() if line.strip() != \"\"]\n",
    "len(valid_sites)"
   ]
  },
  {
   "cell_type": "code",
   "execution_count": 7,
   "metadata": {},
   "outputs": [
    {
     "data": {
      "text/plain": [
       "'/panfs/roc/groups/3/srivbane/levon003/repos/qual-health-journeys/chi2019_tex/figures'"
      ]
     },
     "execution_count": 7,
     "metadata": {},
     "output_type": "execute_result"
    }
   ],
   "source": [
    "git_root_dir = !git rev-parse --show-toplevel\n",
    "git_root_dir = git_root_dir[0].strip()\n",
    "figure_working_dir = os.path.join(git_root_dir, \"chi2019_tex/figures\")\n",
    "assert os.path.exists(figure_working_dir)\n",
    "figure_working_dir"
   ]
  },
  {
   "cell_type": "markdown",
   "metadata": {},
   "source": [
    "#### Load Responsibility Annotation Data\n",
    "\n",
    "All of this is obsolete now, jump straight to the test prediction loading."
   ]
  },
  {
   "cell_type": "code",
   "execution_count": 8,
   "metadata": {},
   "outputs": [
    {
     "data": {
      "text/plain": [
       "['coordinating_support',\n",
       " 'sharing_medical_info',\n",
       " 'compliance',\n",
       " 'financial_management',\n",
       " 'giving_back',\n",
       " 'behavior_changes']"
      ]
     },
     "execution_count": 8,
     "metadata": {},
     "output_type": "execute_result"
    }
   ],
   "source": [
    "high_irr_responsibility_labels"
   ]
  },
  {
   "cell_type": "code",
   "execution_count": 9,
   "metadata": {},
   "outputs": [
    {
     "data": {
      "text/plain": [
       "['CS', 'SM', 'CP', 'FM', 'GB', 'BC']"
      ]
     },
     "execution_count": 9,
     "metadata": {},
     "output_type": "execute_result"
    }
   ],
   "source": [
    "high_irr_responsibility_codes"
   ]
  },
  {
   "cell_type": "code",
   "execution_count": 10,
   "metadata": {},
   "outputs": [
    {
     "name": "stderr",
     "output_type": "stream",
     "text": [
      "100%|██████████| 1913/1913 [00:30<00:00, 62.18it/s]\n"
     ]
    },
    {
     "data": {
      "text/plain": [
       "1895"
      ]
     },
     "execution_count": 10,
     "metadata": {},
     "output_type": "execute_result"
    }
   ],
   "source": [
    "annotated_df = get_annotated_responsibility_df()\n",
    "len(annotated_df)"
   ]
  },
  {
   "cell_type": "code",
   "execution_count": 11,
   "metadata": {},
   "outputs": [
    {
     "data": {
      "text/html": [
       "<div>\n",
       "<style scoped>\n",
       "    .dataframe tbody tr th:only-of-type {\n",
       "        vertical-align: middle;\n",
       "    }\n",
       "\n",
       "    .dataframe tbody tr th {\n",
       "        vertical-align: top;\n",
       "    }\n",
       "\n",
       "    .dataframe thead th {\n",
       "        text-align: right;\n",
       "    }\n",
       "</style>\n",
       "<table border=\"1\" class=\"dataframe\">\n",
       "  <thead>\n",
       "    <tr style=\"text-align: right;\">\n",
       "      <th></th>\n",
       "      <th>behavior_changes_score</th>\n",
       "      <th>clinical_decisions_score</th>\n",
       "      <th>communicating_score</th>\n",
       "      <th>compliance_score</th>\n",
       "      <th>conflict_status</th>\n",
       "      <th>continued_monitoring_score</th>\n",
       "      <th>coordinating_support_score</th>\n",
       "      <th>financial_management_score</th>\n",
       "      <th>giving_back_score</th>\n",
       "      <th>info_filtering_score</th>\n",
       "      <th>is_annotated</th>\n",
       "      <th>journal_oid</th>\n",
       "      <th>journal_text</th>\n",
       "      <th>managing_transitions_score</th>\n",
       "      <th>preparation_score</th>\n",
       "      <th>responsibilities</th>\n",
       "      <th>sharing_medical_info_score</th>\n",
       "      <th>site_id</th>\n",
       "      <th>symptom_management_score</th>\n",
       "    </tr>\n",
       "  </thead>\n",
       "  <tbody>\n",
       "    <tr>\n",
       "      <th>0</th>\n",
       "      <td>0.0</td>\n",
       "      <td>0.0</td>\n",
       "      <td>0.0</td>\n",
       "      <td>0.0</td>\n",
       "      <td>SINGLE USER</td>\n",
       "      <td>0.0</td>\n",
       "      <td>0.0</td>\n",
       "      <td>0.0</td>\n",
       "      <td>0.0</td>\n",
       "      <td>0.0</td>\n",
       "      <td>True</td>\n",
       "      <td>51be14196ca0041935009526</td>\n",
       "      <td>NEWLINE I will try to update this weekly if I...</td>\n",
       "      <td>0.0</td>\n",
       "      <td>0.0</td>\n",
       "      <td>[]</td>\n",
       "      <td>0.0</td>\n",
       "      <td>106710</td>\n",
       "      <td>0.0</td>\n",
       "    </tr>\n",
       "    <tr>\n",
       "      <th>1</th>\n",
       "      <td>0.0</td>\n",
       "      <td>0.0</td>\n",
       "      <td>0.0</td>\n",
       "      <td>1.0</td>\n",
       "      <td>SINGLE USER</td>\n",
       "      <td>0.0</td>\n",
       "      <td>0.0</td>\n",
       "      <td>0.0</td>\n",
       "      <td>0.0</td>\n",
       "      <td>0.0</td>\n",
       "      <td>True</td>\n",
       "      <td>51be14196ca0041935009660</td>\n",
       "      <td>NEWLINE Well it is Monday and here is my upda...</td>\n",
       "      <td>0.0</td>\n",
       "      <td>0.0</td>\n",
       "      <td>[sharing_medical_info, compliance]</td>\n",
       "      <td>1.0</td>\n",
       "      <td>106710</td>\n",
       "      <td>0.0</td>\n",
       "    </tr>\n",
       "    <tr>\n",
       "      <th>2</th>\n",
       "      <td>0.0</td>\n",
       "      <td>0.0</td>\n",
       "      <td>0.0</td>\n",
       "      <td>0.0</td>\n",
       "      <td>SINGLE USER</td>\n",
       "      <td>0.0</td>\n",
       "      <td>1.0</td>\n",
       "      <td>0.0</td>\n",
       "      <td>0.0</td>\n",
       "      <td>0.0</td>\n",
       "      <td>True</td>\n",
       "      <td>51be14196ca00419350098b4</td>\n",
       "      <td>NEWLINE Hi,\\r NEWLINE It  is Tue.  and I had ...</td>\n",
       "      <td>0.0</td>\n",
       "      <td>0.0</td>\n",
       "      <td>[coordinating_support]</td>\n",
       "      <td>0.0</td>\n",
       "      <td>106710</td>\n",
       "      <td>0.0</td>\n",
       "    </tr>\n",
       "    <tr>\n",
       "      <th>3</th>\n",
       "      <td>0.0</td>\n",
       "      <td>0.0</td>\n",
       "      <td>0.0</td>\n",
       "      <td>1.0</td>\n",
       "      <td>SINGLE USER</td>\n",
       "      <td>0.0</td>\n",
       "      <td>0.0</td>\n",
       "      <td>0.0</td>\n",
       "      <td>0.0</td>\n",
       "      <td>0.0</td>\n",
       "      <td>True</td>\n",
       "      <td>51be14196ca00419350099e0</td>\n",
       "      <td>NEWLINE Happy Tue,\\r NEWLINE \\r NEWLINE It ha...</td>\n",
       "      <td>0.0</td>\n",
       "      <td>0.0</td>\n",
       "      <td>[sharing_medical_info, compliance]</td>\n",
       "      <td>1.0</td>\n",
       "      <td>106710</td>\n",
       "      <td>0.0</td>\n",
       "    </tr>\n",
       "    <tr>\n",
       "      <th>4</th>\n",
       "      <td>0.0</td>\n",
       "      <td>0.0</td>\n",
       "      <td>0.0</td>\n",
       "      <td>1.0</td>\n",
       "      <td>SINGLE USER</td>\n",
       "      <td>0.0</td>\n",
       "      <td>1.0</td>\n",
       "      <td>0.0</td>\n",
       "      <td>0.0</td>\n",
       "      <td>0.0</td>\n",
       "      <td>True</td>\n",
       "      <td>51be14196ca0041935009a62</td>\n",
       "      <td>NEWLINE Thanks all for all the notes.\\r NEWLI...</td>\n",
       "      <td>0.0</td>\n",
       "      <td>0.0</td>\n",
       "      <td>[coordinating_support, sharing_medical_info, c...</td>\n",
       "      <td>1.0</td>\n",
       "      <td>106710</td>\n",
       "      <td>0.0</td>\n",
       "    </tr>\n",
       "  </tbody>\n",
       "</table>\n",
       "</div>"
      ],
      "text/plain": [
       "   behavior_changes_score  clinical_decisions_score  communicating_score  \\\n",
       "0                     0.0                       0.0                  0.0   \n",
       "1                     0.0                       0.0                  0.0   \n",
       "2                     0.0                       0.0                  0.0   \n",
       "3                     0.0                       0.0                  0.0   \n",
       "4                     0.0                       0.0                  0.0   \n",
       "\n",
       "   compliance_score conflict_status  continued_monitoring_score  \\\n",
       "0               0.0     SINGLE USER                         0.0   \n",
       "1               1.0     SINGLE USER                         0.0   \n",
       "2               0.0     SINGLE USER                         0.0   \n",
       "3               1.0     SINGLE USER                         0.0   \n",
       "4               1.0     SINGLE USER                         0.0   \n",
       "\n",
       "   coordinating_support_score  financial_management_score  giving_back_score  \\\n",
       "0                         0.0                         0.0                0.0   \n",
       "1                         0.0                         0.0                0.0   \n",
       "2                         1.0                         0.0                0.0   \n",
       "3                         0.0                         0.0                0.0   \n",
       "4                         1.0                         0.0                0.0   \n",
       "\n",
       "   info_filtering_score  is_annotated               journal_oid  \\\n",
       "0                   0.0          True  51be14196ca0041935009526   \n",
       "1                   0.0          True  51be14196ca0041935009660   \n",
       "2                   0.0          True  51be14196ca00419350098b4   \n",
       "3                   0.0          True  51be14196ca00419350099e0   \n",
       "4                   0.0          True  51be14196ca0041935009a62   \n",
       "\n",
       "                                        journal_text  \\\n",
       "0   NEWLINE I will try to update this weekly if I...   \n",
       "1   NEWLINE Well it is Monday and here is my upda...   \n",
       "2   NEWLINE Hi,\\r NEWLINE It  is Tue.  and I had ...   \n",
       "3   NEWLINE Happy Tue,\\r NEWLINE \\r NEWLINE It ha...   \n",
       "4   NEWLINE Thanks all for all the notes.\\r NEWLI...   \n",
       "\n",
       "   managing_transitions_score  preparation_score  \\\n",
       "0                         0.0                0.0   \n",
       "1                         0.0                0.0   \n",
       "2                         0.0                0.0   \n",
       "3                         0.0                0.0   \n",
       "4                         0.0                0.0   \n",
       "\n",
       "                                    responsibilities  \\\n",
       "0                                                 []   \n",
       "1                 [sharing_medical_info, compliance]   \n",
       "2                             [coordinating_support]   \n",
       "3                 [sharing_medical_info, compliance]   \n",
       "4  [coordinating_support, sharing_medical_info, c...   \n",
       "\n",
       "   sharing_medical_info_score  site_id  symptom_management_score  \n",
       "0                         0.0   106710                       0.0  \n",
       "1                         1.0   106710                       0.0  \n",
       "2                         0.0   106710                       0.0  \n",
       "3                         1.0   106710                       0.0  \n",
       "4                         1.0   106710                       0.0  "
      ]
     },
     "execution_count": 11,
     "metadata": {},
     "output_type": "execute_result"
    }
   ],
   "source": [
    "annotated_df.head()"
   ]
  },
  {
   "cell_type": "code",
   "execution_count": 12,
   "metadata": {},
   "outputs": [
    {
     "data": {
      "text/plain": [
       "(1895, 6)"
      ]
     },
     "execution_count": 12,
     "metadata": {},
     "output_type": "execute_result"
    }
   ],
   "source": [
    "y_score = annotated_df.loc[:, [resp_label + \"_score\" for resp_label in high_irr_responsibility_labels]].values\n",
    "y_score.shape"
   ]
  },
  {
   "cell_type": "code",
   "execution_count": 13,
   "metadata": {},
   "outputs": [
    {
     "data": {
      "text/plain": [
       "(1895, 6)"
      ]
     },
     "execution_count": 13,
     "metadata": {},
     "output_type": "execute_result"
    }
   ],
   "source": [
    "y_label = (y_score >= 0.5).astype(int)\n",
    "y_label.shape"
   ]
  },
  {
   "cell_type": "code",
   "execution_count": 14,
   "metadata": {
    "collapsed": true
   },
   "outputs": [],
   "source": [
    "for i, resp_label in enumerate(high_irr_responsibility_labels):\n",
    "    annotated_df[resp_label + \"_label\"] = (annotated_df[resp_label + \"_score\"] >= 0.5).astype(int)"
   ]
  },
  {
   "cell_type": "markdown",
   "metadata": {},
   "source": [
    "#### Load the test predictions"
   ]
  },
  {
   "cell_type": "code",
   "execution_count": 15,
   "metadata": {},
   "outputs": [
    {
     "data": {
      "text/plain": [
       "157389"
      ]
     },
     "execution_count": 15,
     "metadata": {},
     "output_type": "execute_result"
    }
   ],
   "source": [
    "vw_working_dir = \"/home/srivbane/shared/caringbridge/data/projects/qual-health-journeys/classification/responsibilities/vw\"\n",
    "all_preds_filepath = os.path.join(vw_working_dir, \"vw_all_preds.pkl\")\n",
    "df = pd.read_pickle(all_preds_filepath)\n",
    "len(df)"
   ]
  },
  {
   "cell_type": "code",
   "execution_count": 16,
   "metadata": {},
   "outputs": [
    {
     "data": {
      "text/html": [
       "<div>\n",
       "<style scoped>\n",
       "    .dataframe tbody tr th:only-of-type {\n",
       "        vertical-align: middle;\n",
       "    }\n",
       "\n",
       "    .dataframe tbody tr th {\n",
       "        vertical-align: top;\n",
       "    }\n",
       "\n",
       "    .dataframe thead th {\n",
       "        text-align: right;\n",
       "    }\n",
       "</style>\n",
       "<table border=\"1\" class=\"dataframe\">\n",
       "  <thead>\n",
       "    <tr style=\"text-align: right;\">\n",
       "      <th></th>\n",
       "      <th>coordinating_support_pred_label</th>\n",
       "      <th>sharing_medical_info_pred_label</th>\n",
       "      <th>compliance_pred_label</th>\n",
       "      <th>financial_management_pred_label</th>\n",
       "      <th>giving_back_pred_label</th>\n",
       "      <th>behavior_changes_pred_label</th>\n",
       "    </tr>\n",
       "  </thead>\n",
       "  <tbody>\n",
       "    <tr>\n",
       "      <th>0</th>\n",
       "      <td>0</td>\n",
       "      <td>1</td>\n",
       "      <td>1</td>\n",
       "      <td>0</td>\n",
       "      <td>0</td>\n",
       "      <td>0</td>\n",
       "    </tr>\n",
       "    <tr>\n",
       "      <th>1</th>\n",
       "      <td>1</td>\n",
       "      <td>1</td>\n",
       "      <td>1</td>\n",
       "      <td>0</td>\n",
       "      <td>0</td>\n",
       "      <td>0</td>\n",
       "    </tr>\n",
       "    <tr>\n",
       "      <th>2</th>\n",
       "      <td>1</td>\n",
       "      <td>1</td>\n",
       "      <td>1</td>\n",
       "      <td>1</td>\n",
       "      <td>1</td>\n",
       "      <td>1</td>\n",
       "    </tr>\n",
       "    <tr>\n",
       "      <th>3</th>\n",
       "      <td>1</td>\n",
       "      <td>1</td>\n",
       "      <td>1</td>\n",
       "      <td>1</td>\n",
       "      <td>1</td>\n",
       "      <td>1</td>\n",
       "    </tr>\n",
       "    <tr>\n",
       "      <th>4</th>\n",
       "      <td>1</td>\n",
       "      <td>1</td>\n",
       "      <td>1</td>\n",
       "      <td>1</td>\n",
       "      <td>1</td>\n",
       "      <td>1</td>\n",
       "    </tr>\n",
       "  </tbody>\n",
       "</table>\n",
       "</div>"
      ],
      "text/plain": [
       "   coordinating_support_pred_label  sharing_medical_info_pred_label  \\\n",
       "0                                0                                1   \n",
       "1                                1                                1   \n",
       "2                                1                                1   \n",
       "3                                1                                1   \n",
       "4                                1                                1   \n",
       "\n",
       "   compliance_pred_label  financial_management_pred_label  \\\n",
       "0                      1                                0   \n",
       "1                      1                                0   \n",
       "2                      1                                1   \n",
       "3                      1                                1   \n",
       "4                      1                                1   \n",
       "\n",
       "   giving_back_pred_label  behavior_changes_pred_label  \n",
       "0                       0                            0  \n",
       "1                       0                            0  \n",
       "2                       1                            1  \n",
       "3                       1                            1  \n",
       "4                       1                            1  "
      ]
     },
     "execution_count": 16,
     "metadata": {},
     "output_type": "execute_result"
    }
   ],
   "source": [
    "# Get a df containing only the labels\n",
    "label_df = df[[col for col in df.columns if col.endswith(\"_pred_label\")]]\n",
    "# we then reorder into the order set by the high_irr_responsibility_labels list\n",
    "label_df = label_df[[label + \"_pred_label\" for label in high_irr_responsibility_labels]]\n",
    "label_df.head()"
   ]
  },
  {
   "cell_type": "code",
   "execution_count": 17,
   "metadata": {},
   "outputs": [
    {
     "data": {
      "text/html": [
       "<div>\n",
       "<style scoped>\n",
       "    .dataframe tbody tr th:only-of-type {\n",
       "        vertical-align: middle;\n",
       "    }\n",
       "\n",
       "    .dataframe tbody tr th {\n",
       "        vertical-align: top;\n",
       "    }\n",
       "\n",
       "    .dataframe thead th {\n",
       "        text-align: right;\n",
       "    }\n",
       "</style>\n",
       "<table border=\"1\" class=\"dataframe\">\n",
       "  <thead>\n",
       "    <tr style=\"text-align: right;\">\n",
       "      <th></th>\n",
       "      <th>coordinating_support_pred_label</th>\n",
       "      <th>sharing_medical_info_pred_label</th>\n",
       "      <th>compliance_pred_label</th>\n",
       "      <th>financial_management_pred_label</th>\n",
       "      <th>giving_back_pred_label</th>\n",
       "      <th>behavior_changes_pred_label</th>\n",
       "    </tr>\n",
       "  </thead>\n",
       "  <tbody>\n",
       "    <tr>\n",
       "      <th>coordinating_support_pred_label</th>\n",
       "      <td>1.000000</td>\n",
       "      <td>0.156608</td>\n",
       "      <td>0.192009</td>\n",
       "      <td>0.417438</td>\n",
       "      <td>0.430956</td>\n",
       "      <td>0.484196</td>\n",
       "    </tr>\n",
       "    <tr>\n",
       "      <th>sharing_medical_info_pred_label</th>\n",
       "      <td>0.156608</td>\n",
       "      <td>1.000000</td>\n",
       "      <td>0.644015</td>\n",
       "      <td>0.070677</td>\n",
       "      <td>0.070475</td>\n",
       "      <td>0.081472</td>\n",
       "    </tr>\n",
       "    <tr>\n",
       "      <th>compliance_pred_label</th>\n",
       "      <td>0.192009</td>\n",
       "      <td>0.644015</td>\n",
       "      <td>1.000000</td>\n",
       "      <td>0.084387</td>\n",
       "      <td>0.084707</td>\n",
       "      <td>0.097448</td>\n",
       "    </tr>\n",
       "    <tr>\n",
       "      <th>financial_management_pred_label</th>\n",
       "      <td>0.417438</td>\n",
       "      <td>0.070677</td>\n",
       "      <td>0.084387</td>\n",
       "      <td>1.000000</td>\n",
       "      <td>0.895306</td>\n",
       "      <td>0.849485</td>\n",
       "    </tr>\n",
       "    <tr>\n",
       "      <th>giving_back_pred_label</th>\n",
       "      <td>0.430956</td>\n",
       "      <td>0.070475</td>\n",
       "      <td>0.084707</td>\n",
       "      <td>0.895306</td>\n",
       "      <td>1.000000</td>\n",
       "      <td>0.851547</td>\n",
       "    </tr>\n",
       "    <tr>\n",
       "      <th>behavior_changes_pred_label</th>\n",
       "      <td>0.484196</td>\n",
       "      <td>0.081472</td>\n",
       "      <td>0.097448</td>\n",
       "      <td>0.849485</td>\n",
       "      <td>0.851547</td>\n",
       "      <td>1.000000</td>\n",
       "    </tr>\n",
       "  </tbody>\n",
       "</table>\n",
       "</div>"
      ],
      "text/plain": [
       "                                 coordinating_support_pred_label  \\\n",
       "coordinating_support_pred_label                         1.000000   \n",
       "sharing_medical_info_pred_label                         0.156608   \n",
       "compliance_pred_label                                   0.192009   \n",
       "financial_management_pred_label                         0.417438   \n",
       "giving_back_pred_label                                  0.430956   \n",
       "behavior_changes_pred_label                             0.484196   \n",
       "\n",
       "                                 sharing_medical_info_pred_label  \\\n",
       "coordinating_support_pred_label                         0.156608   \n",
       "sharing_medical_info_pred_label                         1.000000   \n",
       "compliance_pred_label                                   0.644015   \n",
       "financial_management_pred_label                         0.070677   \n",
       "giving_back_pred_label                                  0.070475   \n",
       "behavior_changes_pred_label                             0.081472   \n",
       "\n",
       "                                 compliance_pred_label  \\\n",
       "coordinating_support_pred_label               0.192009   \n",
       "sharing_medical_info_pred_label               0.644015   \n",
       "compliance_pred_label                         1.000000   \n",
       "financial_management_pred_label               0.084387   \n",
       "giving_back_pred_label                        0.084707   \n",
       "behavior_changes_pred_label                   0.097448   \n",
       "\n",
       "                                 financial_management_pred_label  \\\n",
       "coordinating_support_pred_label                         0.417438   \n",
       "sharing_medical_info_pred_label                         0.070677   \n",
       "compliance_pred_label                                   0.084387   \n",
       "financial_management_pred_label                         1.000000   \n",
       "giving_back_pred_label                                  0.895306   \n",
       "behavior_changes_pred_label                             0.849485   \n",
       "\n",
       "                                 giving_back_pred_label  \\\n",
       "coordinating_support_pred_label                0.430956   \n",
       "sharing_medical_info_pred_label                0.070475   \n",
       "compliance_pred_label                          0.084707   \n",
       "financial_management_pred_label                0.895306   \n",
       "giving_back_pred_label                         1.000000   \n",
       "behavior_changes_pred_label                    0.851547   \n",
       "\n",
       "                                 behavior_changes_pred_label  \n",
       "coordinating_support_pred_label                     0.484196  \n",
       "sharing_medical_info_pred_label                     0.081472  \n",
       "compliance_pred_label                               0.097448  \n",
       "financial_management_pred_label                     0.849485  \n",
       "giving_back_pred_label                              0.851547  \n",
       "behavior_changes_pred_label                         1.000000  "
      ]
     },
     "execution_count": 17,
     "metadata": {},
     "output_type": "execute_result"
    }
   ],
   "source": [
    "label_df.corr()"
   ]
  },
  {
   "cell_type": "code",
   "execution_count": 18,
   "metadata": {},
   "outputs": [
    {
     "data": {
      "image/png": "[encoded data removed]",
      "text/plain": [
       "<Figure size 133.2x133.2 with 1 Axes>"
      ]
     },
     "metadata": {},
     "output_type": "display_data"
    }
   ],
   "source": [
    "n_resps = len(high_irr_responsibility_codes)\n",
    "\n",
    "corr_mat = label_df.corr()\n",
    "width_in_inches = 3.3 / 2 + 0.2\n",
    "height_in_inches = width_in_inches\n",
    "fig, ax = plt.subplots(figsize=(width_in_inches, height_in_inches))\n",
    "#plt.sca(ax)\n",
    "cmap = plt.cm.gray\n",
    "im = ax.matshow(corr_mat, cmap=cmap)\n",
    "#plt.yticks(np.arange(0,50), [\"%.2f\" % th for th in thresholds])\n",
    "#plt.xticks(np.arange(0,13), responsibility_labels, rotation=90)\n",
    "#plt.colorbar(ax=ax)\n",
    "\n",
    "#plt.xticks(range(n_resps), high_irr_responsibility_codes)\n",
    "#plt.yticks(range(n_resps), high_irr_responsibility_codes)\n",
    "\n",
    "ax.set_xticks(range(n_resps))\n",
    "ax.set_xticklabels(high_irr_responsibility_codes)\n",
    "ax.set_yticks(range(n_resps))\n",
    "ax.set_yticklabels(high_irr_responsibility_codes)\n",
    "\n",
    "\n",
    "for i in range(n_resps):\n",
    "    for j in range(n_resps):\n",
    "        val = corr_mat.iloc[i, j]\n",
    "        text = ax.text(j, i, f\"{val:.2f}\".replace(\"0.\", \".\") if val < 1 else \"1\", fontsize=8,\n",
    "                       ha=\"center\", va=\"center\", color=\"w\" if val <= 0.6 else \"k\")\n",
    "\n",
    "#cax = fig.add_axes([0.9, 0.12, 0.1, 0.75])\n",
    "#fig.colorbar(im, cax=cax, orientation='vertical')\n",
    "        \n",
    "#plt.tight_layout()\n",
    "fig.set_size_inches(width_in_inches, height_in_inches)\n",
    "mat_fig_filepath = os.path.join(figure_working_dir, \"responsibility_corrs.pdf\")\n",
    "fig.savefig(mat_fig_filepath, dpi=300)\n",
    "plt.show()"
   ]
  },
  {
   "cell_type": "code",
   "execution_count": 33,
   "metadata": {},
   "outputs": [
    {
     "name": "stdout",
     "output_type": "stream",
     "text": [
      "CS & 20.99 \\\\\n",
      "SM & 90.24 \\\\\n",
      "CP & 86.68 \\\\\n",
      "FM &  4.46 \\\\\n",
      "GB &  4.72 \\\\\n",
      "BC &  5.95 \\\\\n",
      "None &  7.70 \\\\\n"
     ]
    }
   ],
   "source": [
    "# print propability table\n",
    "for i, resp_label in enumerate(high_irr_responsibility_labels):\n",
    "    resp_code = high_irr_responsibility_codes[i]\n",
    "    proportion = np.sum(df[resp_label + \"_pred_label\"] == 1) / len(df)\n",
    "    print(f\"{resp_code} & {proportion * 100:5.2f} \\\\\\\\\")\n",
    "\n",
    "y_pred = df[[resp_label + \"_pred_label\" for resp_label in high_irr_responsibility_labels]].values\n",
    "zero_resp_labelings = np.sum(np.apply_along_axis(lambda row: np.sum(row) == 0, 1, y_pred))\n",
    "none_proportion = zero_resp_labelings / len(df)\n",
    "print(f\"None & {none_proportion * 100:5.2f} \\\\\\\\\")"
   ]
  },
  {
   "cell_type": "code",
   "execution_count": 39,
   "metadata": {},
   "outputs": [
    {
     "name": "stdout",
     "output_type": "stream",
     "text": [
      "CS  20.99  15.04   5.95\n",
      "SM  90.24  85.91   4.33\n",
      "CP  86.68  76.68  10.00\n",
      "FM   4.46   3.01   1.46\n",
      "GB   4.72   4.33   0.39\n",
      "BC   5.95   4.06   1.89\n"
     ]
    }
   ],
   "source": [
    "diffs = np.zeros(len(high_irr_responsibility_labels))\n",
    "for i, resp_label in enumerate(high_irr_responsibility_labels):\n",
    "    resp_code = high_irr_responsibility_codes[i]\n",
    "    proportion = np.sum(df[resp_label + \"_pred_label\"] == 1) / len(df)\n",
    "    true_proportion = np.sum(annotated_df[resp_label + \"_label\"] == 1) / len(annotated_df)\n",
    "    diffs[i] = proportion - true_proportion\n",
    "    print(f\"{resp_code}  {proportion * 100:5.2f}  {true_proportion * 100:5.2f}  {(proportion - true_proportion) * 100:5.2f}\")"
   ]
  },
  {
   "cell_type": "code",
   "execution_count": 42,
   "metadata": {},
   "outputs": [
    {
     "data": {
      "text/plain": [
       "4.002759119488452"
      ]
     },
     "execution_count": 42,
     "metadata": {},
     "output_type": "execute_result"
    }
   ],
   "source": [
    "diffs.mean() * 100"
   ]
  },
  {
   "cell_type": "code",
   "execution_count": 45,
   "metadata": {},
   "outputs": [
    {
     "name": "stdout",
     "output_type": "stream",
     "text": [
      "None &  9.29\n"
     ]
    }
   ],
   "source": [
    "y_pred = annotated_df[[resp_label + \"_label\" for resp_label in high_irr_responsibility_labels]].values\n",
    "zero_resp_labelings = np.sum(np.apply_along_axis(lambda row: np.sum(row) == 0, 1, y_pred))\n",
    "none_proportion = zero_resp_labelings / len(annotated_df)\n",
    "print(f\"None & {none_proportion * 100:5.2f}\")"
   ]
  },
  {
   "cell_type": "code",
   "execution_count": 46,
   "metadata": {},
   "outputs": [
    {
     "name": "stdout",
     "output_type": "stream",
     "text": [
      "None &  7.70\n"
     ]
    }
   ],
   "source": [
    "y_pred = df[[resp_label + \"_pred_label\" for resp_label in high_irr_responsibility_labels]].values\n",
    "zero_resp_labelings = np.sum(np.apply_along_axis(lambda row: np.sum(row) == 0, 1, y_pred))\n",
    "none_proportion = zero_resp_labelings / len(df)\n",
    "print(f\"None & {none_proportion * 100:5.2f}\")"
   ]
  },
  {
   "cell_type": "markdown",
   "metadata": {},
   "source": [
    "## Cardinality analysis"
   ]
  },
  {
   "cell_type": "code",
   "execution_count": 20,
   "metadata": {},
   "outputs": [
    {
     "data": {
      "text/plain": [
       "((155498, 6), (1891, 6))"
      ]
     },
     "execution_count": 20,
     "metadata": {},
     "output_type": "execute_result"
    }
   ],
   "source": [
    "a_df = df[df.is_annotated]\n",
    "un_df = df[~df.is_annotated]\n",
    "y_pred = un_df[[resp_label + \"_pred_label\" for resp_label in high_irr_responsibility_labels]].values\n",
    "y_true = a_df[[resp_label + \"_label\" for resp_label in high_irr_responsibility_labels]].values\n",
    "y_pred.shape, y_true.shape"
   ]
  },
  {
   "cell_type": "code",
   "execution_count": 21,
   "metadata": {},
   "outputs": [
    {
     "data": {
      "text/plain": [
       "0.09201480698043363"
      ]
     },
     "execution_count": 21,
     "metadata": {},
     "output_type": "execute_result"
    }
   ],
   "source": [
    "# percentage of responsibilities assigned no labels during annotation\n",
    "np.sum(np.apply_along_axis(lambda row: np.sum(row) == 0, 1, y_true)) / len(a_df)"
   ]
  },
  {
   "cell_type": "code",
   "execution_count": 22,
   "metadata": {},
   "outputs": [
    {
     "data": {
      "text/plain": [
       "0.07680484636458347"
      ]
     },
     "execution_count": 22,
     "metadata": {},
     "output_type": "execute_result"
    }
   ],
   "source": [
    "# percentage of responsibilities assigned no labels by model\n",
    "np.sum(np.apply_along_axis(lambda row: np.sum(row) == 0, 1, y_pred)) / len(un_df)"
   ]
  },
  {
   "cell_type": "code",
   "execution_count": 23,
   "metadata": {},
   "outputs": [
    {
     "data": {
      "text/plain": [
       "(1.8910629296668429, 0.8670350906963763)"
      ]
     },
     "execution_count": 23,
     "metadata": {},
     "output_type": "execute_result"
    }
   ],
   "source": [
    "annotated_cardinality = np.apply_along_axis(lambda row: np.sum(row), 1, y_true)\n",
    "mean_cardinality = np.mean(annotated_cardinality)\n",
    "std_cardinality = np.std(annotated_cardinality)\n",
    "mean_cardinality, std_cardinality"
   ]
  },
  {
   "cell_type": "code",
   "execution_count": 24,
   "metadata": {},
   "outputs": [
    {
     "data": {
      "text/plain": [
       "(2.133937413986032, 1.1371597487470377)"
      ]
     },
     "execution_count": 24,
     "metadata": {},
     "output_type": "execute_result"
    }
   ],
   "source": [
    "pred_cardinality = np.apply_along_axis(lambda row: np.sum(row), 1, y_pred)\n",
    "mean_pred_cardinality = np.mean(pred_cardinality)\n",
    "std_pred_cardinality = np.std(pred_cardinality)\n",
    "mean_pred_cardinality, std_pred_cardinality"
   ]
  },
  {
   "cell_type": "code",
   "execution_count": 25,
   "metadata": {},
   "outputs": [
    {
     "data": {
      "text/plain": [
       "(0.022739291380222106, 0.06143487376043422)"
      ]
     },
     "execution_count": 25,
     "metadata": {},
     "output_type": "execute_result"
    }
   ],
   "source": [
    "# these are the percentages of responsibilities assigned more than four responsibilities\n",
    "# in the annotated and unannotated sites respectively\n",
    "np.sum(np.apply_along_axis(lambda row: np.sum(row) >= 4, 1, y_true)) / len(a_df), \\\n",
    "np.sum(np.apply_along_axis(lambda row: np.sum(row) >= 4, 1, y_pred)) / len(un_df)"
   ]
  },
  {
   "cell_type": "code",
   "execution_count": 26,
   "metadata": {},
   "outputs": [
    {
     "data": {
      "text/plain": [
       "(0.0, 0.04161468314705012)"
      ]
     },
     "execution_count": 26,
     "metadata": {},
     "output_type": "execute_result"
    }
   ],
   "source": [
    "# these are the percentages of responsibilities assigned all the responsibilities\n",
    "# in the annotated and unannotated sites respectively\n",
    "# these four percent of assigments are almost certainly false!\n",
    "np.sum(np.apply_along_axis(lambda row: np.sum(row) == len(high_irr_responsibility_labels), 1, y_true)) / len(a_df), \\\n",
    "np.sum(np.apply_along_axis(lambda row: np.sum(row) == len(high_irr_responsibility_labels), 1, y_pred)) / len(un_df)"
   ]
  },
  {
   "cell_type": "code",
   "execution_count": 27,
   "metadata": {},
   "outputs": [
    {
     "data": {
      "text/plain": [
       "['CS', 'SM', 'CP', 'FM', 'GB', 'BC']"
      ]
     },
     "execution_count": 27,
     "metadata": {},
     "output_type": "execute_result"
    }
   ],
   "source": [
    "high_irr_responsibility_codes"
   ]
  },
  {
   "cell_type": "code",
   "execution_count": 29,
   "metadata": {},
   "outputs": [
    {
     "data": {
      "text/plain": [
       "(390.9527121001391, 1895.8889731390957)"
      ]
     },
     "execution_count": 29,
     "metadata": {},
     "output_type": "execute_result"
    }
   ],
   "source": [
    "max_cardinality_indices = np.apply_along_axis(lambda row: np.sum(row) == len(high_irr_responsibility_labels), 1, y_pred)\n",
    "np.mean(un_df[max_cardinality_indices].journal_text_length), np.mean(un_df[~max_cardinality_indices].journal_text_length)"
   ]
  },
  {
   "cell_type": "code",
   "execution_count": 31,
   "metadata": {},
   "outputs": [
    {
     "data": {
      "text/plain": [
       "0.904496986555401"
      ]
     },
     "execution_count": 31,
     "metadata": {},
     "output_type": "execute_result"
    }
   ],
   "source": [
    "np.sum(un_df[max_cardinality_indices].journal_text_length < 500) / np.sum(max_cardinality_indices)"
   ]
  },
  {
   "cell_type": "code",
   "execution_count": null,
   "metadata": {
    "collapsed": true
   },
   "outputs": [],
   "source": []
  }
 ],
 "metadata": {
  "kernelspec": {
   "display_name": "Python 3",
   "language": "python",
   "name": "python3"
  },
  "language_info": {
   "codemirror_mode": {
    "name": "ipython",
    "version": 3
   },
   "file_extension": ".py",
   "mimetype": "text/x-python",
   "name": "python",
   "nbconvert_exporter": "python",
   "pygments_lexer": "ipython3",
   "version": "3.6.8"
  }
 },
 "nbformat": 4,
 "nbformat_minor": 2
}
