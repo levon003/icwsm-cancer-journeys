{
 "cells": [
  {
   "cell_type": "markdown",
   "metadata": {},
   "source": [
    "Cardinality Analysis\n",
    "===\n",
    "\n",
    "This whole notebook was to diagnose a data error during analysis.  The bug in the data-loading process was fixed and models were retrained with the correct data."
   ]
  },
  {
   "cell_type": "code",
   "execution_count": 1,
   "metadata": {},
   "outputs": [],
   "source": [
    "%reload_ext autoreload\n",
    "%autoreload 2\n",
    "%matplotlib inline"
   ]
  },
  {
   "cell_type": "code",
   "execution_count": 2,
   "metadata": {},
   "outputs": [],
   "source": [
    "import pandas as pd\n",
    "import numpy as np\n",
    "import sklearn\n",
    "import sklearn.metrics\n",
    "import os\n",
    "\n",
    "import matplotlib.pyplot as plt\n",
    "import matplotlib.dates as md\n",
    "import matplotlib\n",
    "\n",
    "from collections import Counter"
   ]
  },
  {
   "cell_type": "code",
   "execution_count": 3,
   "metadata": {},
   "outputs": [],
   "source": [
    "import sys\n",
    "sys.path.append(\"../annotation_data\")"
   ]
  },
  {
   "cell_type": "code",
   "execution_count": 4,
   "metadata": {},
   "outputs": [],
   "source": [
    "import responsibility as responsibility_utils"
   ]
  },
  {
   "cell_type": "code",
   "execution_count": 5,
   "metadata": {},
   "outputs": [],
   "source": [
    "from importlib import reload\n",
    "responsibility_utils = reload(responsibility_utils)"
   ]
  },
  {
   "cell_type": "code",
   "execution_count": 23,
   "metadata": {},
   "outputs": [
    {
     "data": {
      "text/plain": [
       "157389"
      ]
     },
     "execution_count": 23,
     "metadata": {},
     "output_type": "execute_result"
    }
   ],
   "source": [
    "# load the test predictions\n",
    "vw_working_dir = \"/home/srivbane/shared/caringbridge/data/projects/qual-health-journeys/classification/responsibilities/vw\"\n",
    "all_preds_filepath = os.path.join(vw_working_dir, \"vw_all_preds.pkl\")\n",
    "df = pd.read_pickle(all_preds_filepath)\n",
    "len(df)"
   ]
  },
  {
   "cell_type": "code",
   "execution_count": 7,
   "metadata": {
    "scrolled": true
   },
   "outputs": [
    {
     "data": {
      "text/plain": [
       "['conflict_status',\n",
       " 'index',\n",
       " 'is_annotated',\n",
       " 'journal_oid',\n",
       " 'responsibilities',\n",
       " 'site_id',\n",
       " 'behavior_changes_pred',\n",
       " 'compliance_pred',\n",
       " 'coordinating_support_pred',\n",
       " 'financial_management_pred',\n",
       " 'giving_back_pred',\n",
       " 'sharing_medical_info_pred',\n",
       " 'coordinating_support_label',\n",
       " 'sharing_medical_info_label',\n",
       " 'compliance_label',\n",
       " 'financial_management_label',\n",
       " 'giving_back_label',\n",
       " 'behavior_changes_label',\n",
       " 'journal_text_length']"
      ]
     },
     "execution_count": 7,
     "metadata": {},
     "output_type": "execute_result"
    }
   ],
   "source": [
    "[col for col in df.columns if not col.endswith(\"_score\") and not col.endswith(\"_pred_label\")]"
   ]
  },
  {
   "cell_type": "code",
   "execution_count": 24,
   "metadata": {},
   "outputs": [],
   "source": [
    "pred_label_cols = [col for col in df.columns if col.endswith(\"_pred_label\")]\n",
    "df['pred_cardinality'] = df.apply(lambda row: np.sum(row[pred_label_cols] == 1), axis=1)"
   ]
  },
  {
   "cell_type": "code",
   "execution_count": 25,
   "metadata": {},
   "outputs": [],
   "source": [
    "label_cols = [col for col in df.columns if col.endswith(\"_label\") and not col.endswith(\"_pred_label\")]\n",
    "df['annotated_cardinality'] = df.apply(lambda row: np.sum(row[label_cols] == 1) if row.is_annotated else -1, axis=1)"
   ]
  },
  {
   "cell_type": "code",
   "execution_count": 10,
   "metadata": {},
   "outputs": [
    {
     "data": {
      "text/plain": [
       "[(False, 155494), (True, 1895)]"
      ]
     },
     "execution_count": 10,
     "metadata": {},
     "output_type": "execute_result"
    }
   ],
   "source": [
    "Counter(df.is_annotated).most_common()"
   ]
  },
  {
   "cell_type": "code",
   "execution_count": 11,
   "metadata": {},
   "outputs": [
    {
     "data": {
      "text/plain": [
       "1913"
      ]
     },
     "execution_count": 11,
     "metadata": {},
     "output_type": "execute_result"
    }
   ],
   "source": [
    "annotated_df = responsibility_utils.get_responsibility_annotations_dataframe()\n",
    "len(annotated_df)"
   ]
  },
  {
   "cell_type": "code",
   "execution_count": 17,
   "metadata": {},
   "outputs": [],
   "source": [
    "annotated_df['cardinality'] = annotated_df.responsibilities.map(lambda resp_list: len([1 for resp in responsibility_utils.high_irr_responsibility_labels if resp in resp_list]))"
   ]
  },
  {
   "cell_type": "code",
   "execution_count": 13,
   "metadata": {},
   "outputs": [
    {
     "data": {
      "text/html": [
       "<div>\n",
       "<style scoped>\n",
       "    .dataframe tbody tr th:only-of-type {\n",
       "        vertical-align: middle;\n",
       "    }\n",
       "\n",
       "    .dataframe tbody tr th {\n",
       "        vertical-align: top;\n",
       "    }\n",
       "\n",
       "    .dataframe thead th {\n",
       "        text-align: right;\n",
       "    }\n",
       "</style>\n",
       "<table border=\"1\" class=\"dataframe\">\n",
       "  <thead>\n",
       "    <tr style=\"text-align: right;\">\n",
       "      <th></th>\n",
       "      <th>conflict_status</th>\n",
       "      <th>journal_oid</th>\n",
       "      <th>responsibilities</th>\n",
       "      <th>site_id</th>\n",
       "      <th>cardinality</th>\n",
       "    </tr>\n",
       "  </thead>\n",
       "  <tbody>\n",
       "    <tr>\n",
       "      <th>0</th>\n",
       "      <td>SINGLE USER</td>\n",
       "      <td>51be14196ca004193500934e</td>\n",
       "      <td>[]</td>\n",
       "      <td>106710</td>\n",
       "      <td>0</td>\n",
       "    </tr>\n",
       "    <tr>\n",
       "      <th>1</th>\n",
       "      <td>SINGLE USER</td>\n",
       "      <td>51be14196ca0041935009526</td>\n",
       "      <td>[]</td>\n",
       "      <td>106710</td>\n",
       "      <td>0</td>\n",
       "    </tr>\n",
       "    <tr>\n",
       "      <th>2</th>\n",
       "      <td>SINGLE USER</td>\n",
       "      <td>51be14196ca0041935009660</td>\n",
       "      <td>[sharing_medical_info, compliance]</td>\n",
       "      <td>106710</td>\n",
       "      <td>2</td>\n",
       "    </tr>\n",
       "    <tr>\n",
       "      <th>3</th>\n",
       "      <td>SINGLE USER</td>\n",
       "      <td>51be14196ca00419350098b4</td>\n",
       "      <td>[coordinating_support]</td>\n",
       "      <td>106710</td>\n",
       "      <td>1</td>\n",
       "    </tr>\n",
       "    <tr>\n",
       "      <th>4</th>\n",
       "      <td>SINGLE USER</td>\n",
       "      <td>51be14196ca00419350099e0</td>\n",
       "      <td>[sharing_medical_info, compliance]</td>\n",
       "      <td>106710</td>\n",
       "      <td>2</td>\n",
       "    </tr>\n",
       "  </tbody>\n",
       "</table>\n",
       "</div>"
      ],
      "text/plain": [
       "  conflict_status               journal_oid  \\\n",
       "0     SINGLE USER  51be14196ca004193500934e   \n",
       "1     SINGLE USER  51be14196ca0041935009526   \n",
       "2     SINGLE USER  51be14196ca0041935009660   \n",
       "3     SINGLE USER  51be14196ca00419350098b4   \n",
       "4     SINGLE USER  51be14196ca00419350099e0   \n",
       "\n",
       "                     responsibilities  site_id  cardinality  \n",
       "0                                  []   106710            0  \n",
       "1                                  []   106710            0  \n",
       "2  [sharing_medical_info, compliance]   106710            2  \n",
       "3              [coordinating_support]   106710            1  \n",
       "4  [sharing_medical_info, compliance]   106710            2  "
      ]
     },
     "execution_count": 13,
     "metadata": {},
     "output_type": "execute_result"
    }
   ],
   "source": [
    "annotated_df.head()"
   ]
  },
  {
   "cell_type": "code",
   "execution_count": 14,
   "metadata": {},
   "outputs": [
    {
     "data": {
      "text/plain": [
       "[('CONFLICT', 1039), ('SINGLE USER', 867), ('RESOLVED', 7)]"
      ]
     },
     "execution_count": 14,
     "metadata": {},
     "output_type": "execute_result"
    }
   ],
   "source": [
    "Counter(annotated_df.conflict_status).most_common()"
   ]
  },
  {
   "cell_type": "code",
   "execution_count": 15,
   "metadata": {},
   "outputs": [
    {
     "data": {
      "text/plain": [
       "[(('sharing_medical_info', 'compliance'), 313),\n",
       " (('symptom_management', 'sharing_medical_info', 'compliance'), 175),\n",
       " (('preparation', 'sharing_medical_info', 'compliance'), 106),\n",
       " (('sharing_medical_info', 'compliance', 'managing_transitions'), 81),\n",
       " ((), 75),\n",
       " (('sharing_medical_info',), 58),\n",
       " (('symptom_management',\n",
       "   'sharing_medical_info',\n",
       "   'compliance',\n",
       "   'managing_transitions'),\n",
       "  53),\n",
       " (('coordinating_support', 'sharing_medical_info', 'compliance'), 52),\n",
       " (('symptom_management', 'sharing_medical_info'), 52),\n",
       " (('unknown',), 46)]"
      ]
     },
     "execution_count": 15,
     "metadata": {},
     "output_type": "execute_result"
    }
   ],
   "source": [
    "Counter(annotated_df.responsibilities.map(lambda resp_list: tuple(resp_list))).most_common()[:10]"
   ]
  },
  {
   "cell_type": "code",
   "execution_count": 22,
   "metadata": {},
   "outputs": [
    {
     "data": {
      "image/png": "[encoded data removed]",
      "text/plain": [
       "<Figure size 576x576 with 2 Axes>"
      ]
     },
     "metadata": {
      "needs_background": "light"
     },
     "output_type": "display_data"
    }
   ],
   "source": [
    "fig, ax = plt.subplots(1,1,figsize=(8,8))\n",
    "bins = range(0,7)\n",
    "ax.hist([annotated_df.cardinality, df.annotated_cardinality], bins=bins, alpha=0.5)\n",
    "ax2 = ax.twinx()\n",
    "ax2.hist(df.pred_cardinality, bins=bins, color='gray', alpha=0.5)\n",
    "plt.title(\"Distribution of annotated and predicted cardinality\")\n",
    "plt.show()"
   ]
  },
  {
   "cell_type": "markdown",
   "metadata": {},
   "source": [
    "The plot above indicates that the data used to train the responsibilities model was incorrect. In particular, it included far fewer cases where 3, 4, or 5 labels were assigned to a training instance.\n",
    "The predicted distribution pretty closely adheres to the incorrect distribution, which suggests it could achieve a more acccurate distribution if it were trained on the correct data.\n",
    "A clear takeaway from this evidence is that we must retrain the responsibilities model with the correct data.\n"
   ]
  },
  {
   "cell_type": "code",
   "execution_count": 37,
   "metadata": {},
   "outputs": [
    {
     "data": {
      "image/png": "[encoded data removed]",
      "text/plain": [
       "<Figure size 576x576 with 2 Axes>"
      ]
     },
     "metadata": {
      "needs_background": "light"
     },
     "output_type": "display_data"
    }
   ],
   "source": [
    "fig, ax = plt.subplots(1,1,figsize=(8,8))\n",
    "bins = range(0,8)\n",
    "ax.hist([annotated_df.cardinality, df.annotated_cardinality], bins=bins, alpha=0.5)\n",
    "ax2 = ax.twinx()\n",
    "ax2.hist(df.pred_cardinality, bins=bins, color='gray', alpha=0.5)\n",
    "plt.title(\"Distribution of annotated and predicted cardinality\")\n",
    "plt.show()"
   ]
  },
  {
   "cell_type": "code",
   "execution_count": 35,
   "metadata": {},
   "outputs": [
    {
     "data": {
      "image/png": "[encoded data removed]",
      "text/plain": [
       "<Figure size 576x576 with 2 Axes>"
      ]
     },
     "metadata": {
      "needs_background": "light"
     },
     "output_type": "display_data"
    }
   ],
   "source": [
    "fig, ax = plt.subplots(1,1,figsize=(8,8))\n",
    "bins = range(0,8)\n",
    "ax.hist(df.annotated_cardinality, bins=bins, color='red', alpha=0.5, align='left')\n",
    "ax2 = ax.twinx()\n",
    "ax2.hist(df.pred_cardinality, bins=bins, color='gray', alpha=0.5, align='left')\n",
    "plt.title(\"Distribution of annotated and predicted cardinality\")\n",
    "plt.show()"
   ]
  },
  {
   "cell_type": "code",
   "execution_count": null,
   "metadata": {},
   "outputs": [],
   "source": []
  },
  {
   "cell_type": "code",
   "execution_count": null,
   "metadata": {},
   "outputs": [],
   "source": []
  }
 ],
 "metadata": {
  "kernelspec": {
   "display_name": "Python 3",
   "language": "python",
   "name": "python3"
  },
  "language_info": {
   "codemirror_mode": {
    "name": "ipython",
    "version": 3
   },
   "file_extension": ".py",
   "mimetype": "text/x-python",
   "name": "python",
   "nbconvert_exporter": "python",
   "pygments_lexer": "ipython3",
   "version": "3.6.8"
  }
 },
 "nbformat": 4,
 "nbformat_minor": 2
}
