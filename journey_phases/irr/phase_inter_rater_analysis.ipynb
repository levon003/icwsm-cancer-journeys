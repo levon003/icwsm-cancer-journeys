{
 "cells": [
  {
   "cell_type": "markdown",
   "metadata": {},
   "source": [
    "IRR Analysis for Journey Phases\n",
    "==="
   ]
  },
  {
   "cell_type": "code",
   "execution_count": 1,
   "metadata": {},
   "outputs": [],
   "source": [
    "import os\n",
    "import re\n",
    "import pandas as pd\n",
    "import numpy as np\n",
    "import nltk\n",
    "import sklearn\n",
    "from collections import Counter\n",
    "import itertools"
   ]
  },
  {
   "cell_type": "code",
   "execution_count": 2,
   "metadata": {},
   "outputs": [],
   "source": [
    "import sys\n",
    "sys.path.append(\"../../annotation_data\")"
   ]
  },
  {
   "cell_type": "code",
   "execution_count": 22,
   "metadata": {},
   "outputs": [],
   "source": [
    "from phase import *"
   ]
  },
  {
   "cell_type": "code",
   "execution_count": null,
   "metadata": {},
   "outputs": [],
   "source": []
  },
  {
   "cell_type": "code",
   "execution_count": null,
   "metadata": {},
   "outputs": [],
   "source": []
  },
  {
   "cell_type": "code",
   "execution_count": 4,
   "metadata": {},
   "outputs": [],
   "source": [
    "annotation_data_dir = \"/home/srivbane/shared/caringbridge/data/projects/qual-health-journeys/instance/annotation_data/export\"\n",
    "assert os.path.exists(annotation_data_dir)"
   ]
  },
  {
   "cell_type": "code",
   "execution_count": 5,
   "metadata": {},
   "outputs": [
    {
     "data": {
      "text/plain": [
       "['annotation_data_levon003.csv',\n",
       " 'annotation_data_luoxx498.csv',\n",
       " 'annotation_data_complete.csv']"
      ]
     },
     "execution_count": 5,
     "metadata": {},
     "output_type": "execute_result"
    }
   ],
   "source": [
    "annotation_files = [fname for fname in os.listdir(annotation_data_dir) if re.match(\"annotation_data_.*csv$\", fname)]\n",
    "annotation_files"
   ]
  },
  {
   "cell_type": "code",
   "execution_count": 5,
   "metadata": {},
   "outputs": [
    {
     "data": {
      "text/plain": [
       "2"
      ]
     },
     "execution_count": 5,
     "metadata": {},
     "output_type": "execute_result"
    }
   ],
   "source": [
    "user_dfs = []\n",
    "for annotation_file in annotation_files:\n",
    "    fname = os.path.splitext(annotation_file)[0]\n",
    "    username = fname.split(\"_\")[-1]\n",
    "    if username in (\"complete\",):  # exclude some files from the above directory\n",
    "        continue\n",
    "    df = pd.read_csv(os.path.join(annotation_data_dir, annotation_file))\n",
    "    user_dfs.append(df)\n",
    "user_count = len(user_dfs)\n",
    "user_count"
   ]
  },
  {
   "cell_type": "code",
   "execution_count": 6,
   "metadata": {},
   "outputs": [
    {
     "data": {
      "text/plain": [
       "1949"
      ]
     },
     "execution_count": 6,
     "metadata": {},
     "output_type": "execute_result"
    }
   ],
   "source": [
    "df = pd.concat(user_dfs)\n",
    "len(df)"
   ]
  },
  {
   "cell_type": "code",
   "execution_count": 7,
   "metadata": {},
   "outputs": [
    {
     "data": {
      "text/plain": [
       "1040"
      ]
     },
     "execution_count": 7,
     "metadata": {},
     "output_type": "execute_result"
    }
   ],
   "source": [
    "phase_df = df[df[\"annotation_type\"] == \"journal_journey_phase\"]\n",
    "len(phase_df)"
   ]
  },
  {
   "cell_type": "code",
   "execution_count": 8,
   "metadata": {},
   "outputs": [
    {
     "data": {
      "text/html": [
       "<div>\n",
       "<style scoped>\n",
       "    .dataframe tbody tr th:only-of-type {\n",
       "        vertical-align: middle;\n",
       "    }\n",
       "\n",
       "    .dataframe tbody tr th {\n",
       "        vertical-align: top;\n",
       "    }\n",
       "\n",
       "    .dataframe thead th {\n",
       "        text-align: right;\n",
       "    }\n",
       "</style>\n",
       "<table border=\"1\" class=\"dataframe\">\n",
       "  <thead>\n",
       "    <tr style=\"text-align: right;\">\n",
       "      <th></th>\n",
       "      <th>annotation_type</th>\n",
       "      <th>site_id</th>\n",
       "      <th>journal_oid</th>\n",
       "      <th>annotator_username</th>\n",
       "      <th>data</th>\n",
       "    </tr>\n",
       "  </thead>\n",
       "  <tbody>\n",
       "    <tr>\n",
       "      <th>74</th>\n",
       "      <td>journal_journey_phase</td>\n",
       "      <td>829111</td>\n",
       "      <td>522bf7224db9218c78a6a78d</td>\n",
       "      <td>levon003</td>\n",
       "      <td>screening</td>\n",
       "    </tr>\n",
       "    <tr>\n",
       "      <th>75</th>\n",
       "      <td>journal_journey_phase</td>\n",
       "      <td>839971</td>\n",
       "      <td>526f96afa689b47d6479a94c</td>\n",
       "      <td>levon003</td>\n",
       "      <td>treatment</td>\n",
       "    </tr>\n",
       "    <tr>\n",
       "      <th>76</th>\n",
       "      <td>journal_journey_phase</td>\n",
       "      <td>839971</td>\n",
       "      <td>52cfe564ca16b4735b5fc0a5</td>\n",
       "      <td>levon003</td>\n",
       "      <td>treatment</td>\n",
       "    </tr>\n",
       "    <tr>\n",
       "      <th>77</th>\n",
       "      <td>journal_journey_phase</td>\n",
       "      <td>839971</td>\n",
       "      <td>52da710d8b5cd3ee65abe51a</td>\n",
       "      <td>levon003</td>\n",
       "      <td>treatment</td>\n",
       "    </tr>\n",
       "    <tr>\n",
       "      <th>78</th>\n",
       "      <td>journal_journey_phase</td>\n",
       "      <td>839971</td>\n",
       "      <td>52e2d66dca16b47c40517008</td>\n",
       "      <td>levon003</td>\n",
       "      <td>treatment</td>\n",
       "    </tr>\n",
       "  </tbody>\n",
       "</table>\n",
       "</div>"
      ],
      "text/plain": [
       "          annotation_type  site_id               journal_oid  \\\n",
       "74  journal_journey_phase   829111  522bf7224db9218c78a6a78d   \n",
       "75  journal_journey_phase   839971  526f96afa689b47d6479a94c   \n",
       "76  journal_journey_phase   839971  52cfe564ca16b4735b5fc0a5   \n",
       "77  journal_journey_phase   839971  52da710d8b5cd3ee65abe51a   \n",
       "78  journal_journey_phase   839971  52e2d66dca16b47c40517008   \n",
       "\n",
       "   annotator_username       data  \n",
       "74           levon003  screening  \n",
       "75           levon003  treatment  \n",
       "76           levon003  treatment  \n",
       "77           levon003  treatment  \n",
       "78           levon003  treatment  "
      ]
     },
     "execution_count": 8,
     "metadata": {},
     "output_type": "execute_result"
    }
   ],
   "source": [
    "phase_df.head()"
   ]
  },
  {
   "cell_type": "code",
   "execution_count": 9,
   "metadata": {},
   "outputs": [
    {
     "data": {
      "text/plain": [
       "annotator_username\n",
       "levon003    233\n",
       "luoxx498    807\n",
       "dtype: int64"
      ]
     },
     "execution_count": 9,
     "metadata": {},
     "output_type": "execute_result"
    }
   ],
   "source": [
    "phase_df.groupby(by=\"annotator_username\").size()"
   ]
  },
  {
   "cell_type": "markdown",
   "metadata": {},
   "source": [
    "### Build the task data in the NLTK format"
   ]
  },
  {
   "cell_type": "code",
   "execution_count": 10,
   "metadata": {},
   "outputs": [
    {
     "data": {
      "text/plain": [
       "464"
      ]
     },
     "execution_count": 10,
     "metadata": {},
     "output_type": "execute_result"
    }
   ],
   "source": [
    "# Data format is: annotator label, item label, tag\n",
    "data = []\n",
    "grouped = phase_df.groupby(by=[\"site_id\", \"journal_oid\"])\n",
    "for name, group in grouped:\n",
    "    if len(group) == user_count:\n",
    "        for i in range(len(group)):\n",
    "            annotation = group.iloc[i]\n",
    "            username = annotation['annotator_username']\n",
    "            item_label = str(annotation['site_id']) + \"|\" + annotation['journal_oid']\n",
    "            tag = annotation['data']\n",
    "            data_tup = (username, item_label, tag)\n",
    "            data.append(data_tup)\n",
    "len(data)"
   ]
  },
  {
   "cell_type": "code",
   "execution_count": 11,
   "metadata": {},
   "outputs": [
    {
     "data": {
      "text/plain": [
       "[('levon003', '829111|522bf7224db9218c78a6a78d', 'screening'),\n",
       " ('luoxx498', '829111|522bf7224db9218c78a6a78d', 'info_seeking'),\n",
       " ('levon003', '829111|522f77d7af3d79db0e6bcc7f', 'screening'),\n",
       " ('luoxx498', '829111|522f77d7af3d79db0e6bcc7f', 'screening|info_seeking'),\n",
       " ('levon003', '829111|523139414db9211d5f52cfd0', 'screening'),\n",
       " ('luoxx498', '829111|523139414db9211d5f52cfd0', 'info_seeking'),\n",
       " ('levon003', '829111|523212c8a589b44d58a7e9bc', 'info_seeking'),\n",
       " ('luoxx498', '829111|523212c8a589b44d58a7e9bc', 'info_seeking'),\n",
       " ('levon003', '829111|52332c9f0dad105611e55116', 'info_seeking'),\n",
       " ('luoxx498', '829111|52332c9f0dad105611e55116', 'info_seeking')]"
      ]
     },
     "execution_count": 11,
     "metadata": {},
     "output_type": "execute_result"
    }
   ],
   "source": [
    "data[:10]"
   ]
  },
  {
   "cell_type": "code",
   "execution_count": 12,
   "metadata": {},
   "outputs": [
    {
     "name": "stdout",
     "output_type": "stream",
     "text": [
      "kappa 0.5276203966005666\n",
      "fleiss 0.5276203966005666\n",
      "alpha 0.42197427739999704\n",
      "scotts 0.5209480488388796\n"
     ]
    }
   ],
   "source": [
    "def phase_distance_binary(phase1, phase2):\n",
    "    return 0 if phase1 == phase2 else 1\n",
    "\n",
    "def phase_distance(item1, item2):\n",
    "    phases1 = item1.split(\"|\")\n",
    "    phases2 = item2.split(\"|\")\n",
    "    if len(phases1) == 1 and len(phases2) == 1:\n",
    "        return phase_distance_binary(item1, item2)\n",
    "    for phase_list in (phases1, phases2):\n",
    "        if 'unknown' in phase_list:\n",
    "            phase_list.remove('unknown')\n",
    "    # the distance is the percentage of overlap of the labels\n",
    "    total_labels = len(set(phases1 + phases2))\n",
    "    agreeing_labels = len(set(phases1).intersection(set(phases2)))\n",
    "    percent_agreement = agreeing_labels / total_labels\n",
    "    distance = 1 - percent_agreement\n",
    "    \n",
    "    #if percent_agreement == 0 and total_labels > 2:  # these are particularly strong disagreements!\n",
    "    #    print(phases1, phases2)\n",
    "    \n",
    "    return distance\n",
    "    \n",
    "\n",
    "agreement = nltk.agreement.AnnotationTask(data=data, distance=phase_distance)\n",
    "print(\"kappa \" + str(agreement.kappa()))\n",
    "print(\"fleiss \" + str(agreement.multi_kappa()))\n",
    "print(\"alpha \" + str(agreement.alpha()))\n",
    "print(\"scotts \" + str(agreement.pi()))"
   ]
  },
  {
   "cell_type": "code",
   "execution_count": 13,
   "metadata": {},
   "outputs": [
    {
     "name": "stdout",
     "output_type": "stream",
     "text": [
      "Site 829111\n",
      "levon003 ['screening']\n",
      "luoxx498 ['info_seeking']\n",
      "\n",
      "Site 829111\n",
      "levon003 ['screening']\n",
      "luoxx498 ['info_seeking']\n",
      "\n",
      "Site 829111\n",
      "levon003 ['info_seeking', 'treatment']\n",
      "luoxx498 ['screening']\n",
      "\n",
      "Site 829111\n",
      "levon003 ['treatment']\n",
      "luoxx498 ['info_seeking']\n",
      "\n",
      "Site 829111\n",
      "levon003 ['treatment']\n",
      "luoxx498 ['info_seeking']\n",
      "\n",
      "Site 839971\n",
      "levon003 ['treatment']\n",
      "luoxx498 ['info_seeking']\n",
      "\n",
      "Site 839971\n",
      "levon003 ['treatment']\n",
      "luoxx498 ['info_seeking']\n",
      "\n",
      "Site 839971\n",
      "levon003 ['treatment']\n",
      "luoxx498 ['info_seeking']\n",
      "\n",
      "Site 839971\n",
      "levon003 ['treatment']\n",
      "luoxx498 ['info_seeking']\n",
      "\n",
      "Site 839971\n",
      "levon003 ['treatment']\n",
      "luoxx498 ['info_seeking']\n",
      "\n",
      "Site 839971\n",
      "levon003 ['treatment']\n",
      "luoxx498 ['info_seeking']\n",
      "\n",
      "Site 855625\n",
      "levon003 ['screening']\n",
      "luoxx498 ['info_seeking']\n",
      "\n",
      "Site 855625\n",
      "levon003 ['screening']\n",
      "luoxx498 ['info_seeking']\n",
      "\n",
      "Site 857627\n",
      "levon003 ['treatment']\n",
      "luoxx498 ['info_seeking']\n",
      "\n",
      "Site 863706\n",
      "levon003 ['treatment']\n",
      "luoxx498 ['info_seeking']\n",
      "\n",
      "Site 863706\n",
      "levon003 ['treatment', 'cured']\n",
      "luoxx498 []\n",
      "\n",
      "Site 863706\n",
      "levon003 ['treatment', 'cured']\n",
      "luoxx498 []\n",
      "\n",
      "Site 863706\n",
      "levon003 ['cured']\n",
      "luoxx498 ['treatment']\n",
      "\n",
      "Site 863706\n",
      "levon003 ['cured']\n",
      "luoxx498 ['info_seeking']\n",
      "\n",
      "Site 863706\n",
      "levon003 ['cured']\n",
      "luoxx498 ['treatment']\n",
      "\n",
      "Site 863706\n",
      "levon003 ['cured']\n",
      "luoxx498 ['treatment']\n",
      "\n",
      "Site 863706\n",
      "levon003 ['cured']\n",
      "luoxx498 ['treatment']\n",
      "\n",
      "Site 882253\n",
      "levon003 ['treatment']\n",
      "luoxx498 ['info_seeking']\n",
      "\n",
      "Site 912454\n",
      "levon003 ['screening']\n",
      "luoxx498 ['info_seeking']\n",
      "\n",
      "Site 912454\n",
      "levon003 ['screening']\n",
      "luoxx498 ['info_seeking']\n",
      "\n",
      "Site 912454\n",
      "levon003 ['screening']\n",
      "luoxx498 ['treatment']\n",
      "\n",
      "Site 912454\n",
      "levon003 ['cured']\n",
      "luoxx498 ['treatment']\n",
      "\n",
      "Site 912454\n",
      "levon003 ['cured']\n",
      "luoxx498 ['treatment']\n",
      "\n",
      "Site 912454\n",
      "levon003 ['screening']\n",
      "luoxx498 ['treatment']\n",
      "\n",
      "Site 912454\n",
      "levon003 ['info_seeking']\n",
      "luoxx498 ['treatment']\n",
      "\n",
      "Site 912454\n",
      "levon003 ['info_seeking']\n",
      "luoxx498 ['treatment']\n",
      "\n",
      "Site 912454\n",
      "levon003 ['info_seeking']\n",
      "luoxx498 ['treatment']\n",
      "\n",
      "Site 1010066\n",
      "levon003 ['info_seeking']\n",
      "luoxx498 ['treatment']\n",
      "\n",
      "Site 1010066\n",
      "levon003 ['info_seeking']\n",
      "luoxx498 ['treatment']\n",
      "\n"
     ]
    }
   ],
   "source": [
    "#Visualize the greatest disagreements\n",
    "assert user_count == 2\n",
    "grouped = phase_df.groupby(by=[\"site_id\", \"journal_oid\"])\n",
    "for name, group in grouped:\n",
    "    if len(group) == user_count:\n",
    "        a1 = group.iloc[0]\n",
    "        a2 = group.iloc[1]\n",
    "        d1 = a1['data']\n",
    "        d2 = a2['data']\n",
    "        phases1 = d1.split(\"|\")\n",
    "        phases2 = d2.split(\"|\")\n",
    "        for phase_list in (phases1, phases2):\n",
    "            if 'unknown' in phase_list:\n",
    "                phase_list.remove('unknown')\n",
    "        \n",
    "        dist = phase_distance(d1, d2)\n",
    "        if dist >= 0.8 and len(set(phases1 + phases2)) > 1:\n",
    "            author1 = a1['annotator_username']\n",
    "            author2 = a2['annotator_username']\n",
    "            print(\"Site %d\" % a1['site_id'])\n",
    "            print(author1, phases1)\n",
    "            print(author2, phases2)\n",
    "            print()\n"
   ]
  },
  {
   "cell_type": "markdown",
   "metadata": {},
   "source": [
    "### Compute the Cohen's Kappa using sklearn"
   ]
  },
  {
   "cell_type": "code",
   "execution_count": 14,
   "metadata": {
    "scrolled": false
   },
   "outputs": [
    {
     "name": "stdout",
     "output_type": "stream",
     "text": [
      "Site 829111\n",
      "levon003 ['screening']\n",
      "luoxx498 ['info_seeking']\n",
      "\n",
      "Site 829111\n",
      "levon003 ['screening']\n",
      "luoxx498 ['screening', 'info_seeking']\n",
      "\n",
      "Site 829111\n",
      "levon003 ['screening']\n",
      "luoxx498 ['info_seeking']\n",
      "\n",
      "Site 829111\n",
      "levon003 ['info_seeking']\n",
      "luoxx498 ['info_seeking', 'treatment']\n",
      "\n",
      "Site 829111\n",
      "levon003 ['info_seeking', 'treatment']\n",
      "luoxx498 ['screening']\n",
      "\n",
      "Site 829111\n",
      "levon003 ['treatment']\n",
      "luoxx498 ['info_seeking']\n",
      "\n",
      "Site 829111\n",
      "levon003 ['treatment']\n",
      "luoxx498 ['info_seeking']\n",
      "\n",
      "Site 829111\n",
      "levon003 ['treatment']\n",
      "luoxx498 ['info_seeking', 'treatment']\n",
      "\n",
      "Site 829111\n",
      "levon003 ['treatment', 'cured']\n",
      "luoxx498 ['cured']\n",
      "\n",
      "Site 839971\n",
      "levon003 ['treatment']\n",
      "luoxx498 ['info_seeking']\n",
      "\n",
      "Site 839971\n",
      "levon003 ['treatment']\n",
      "luoxx498 ['info_seeking']\n",
      "\n",
      "Site 839971\n",
      "levon003 ['treatment']\n",
      "luoxx498 ['info_seeking']\n",
      "\n",
      "Site 839971\n",
      "levon003 ['treatment']\n",
      "luoxx498 ['info_seeking']\n",
      "\n",
      "Site 839971\n",
      "levon003 ['treatment']\n",
      "luoxx498 ['info_seeking']\n",
      "\n",
      "Site 839971\n",
      "levon003 ['treatment']\n",
      "luoxx498 ['info_seeking']\n",
      "\n",
      "Site 839971\n",
      "levon003 ['treatment', 'end_of_life']\n",
      "luoxx498 ['treatment']\n",
      "\n",
      "Site 855625\n",
      "levon003 ['screening']\n",
      "luoxx498 ['info_seeking']\n",
      "\n",
      "Site 855625\n",
      "levon003 ['screening']\n",
      "luoxx498 ['info_seeking']\n",
      "\n",
      "Site 857627\n",
      "levon003 ['treatment']\n",
      "luoxx498 ['info_seeking']\n",
      "\n",
      "Site 863706\n",
      "levon003 ['screening', 'info_seeking']\n",
      "luoxx498 ['info_seeking']\n",
      "\n",
      "Site 863706\n",
      "levon003 ['treatment']\n",
      "luoxx498 ['info_seeking']\n",
      "\n",
      "Site 863706\n",
      "levon003 ['treatment', 'cured']\n",
      "luoxx498 ['treatment']\n",
      "\n",
      "Site 863706\n",
      "levon003 ['treatment', 'cured']\n",
      "luoxx498 ['treatment']\n",
      "\n",
      "Site 863706\n",
      "levon003 ['cured']\n",
      "luoxx498 ['treatment']\n",
      "\n",
      "Site 863706\n",
      "levon003 ['cured']\n",
      "luoxx498 ['info_seeking']\n",
      "\n",
      "Site 863706\n",
      "levon003 ['cured']\n",
      "luoxx498 ['treatment']\n",
      "\n",
      "Site 863706\n",
      "levon003 ['cured']\n",
      "luoxx498 ['treatment']\n",
      "\n",
      "Site 863706\n",
      "levon003 ['cured']\n",
      "luoxx498 ['treatment']\n",
      "\n",
      "Site 882253\n",
      "levon003 ['treatment']\n",
      "luoxx498 ['info_seeking']\n",
      "\n",
      "Site 882253\n",
      "levon003 ['treatment']\n",
      "luoxx498 ['treatment', 'cured']\n",
      "\n",
      "Site 882253\n",
      "levon003 ['treatment']\n",
      "luoxx498 ['treatment', 'cured']\n",
      "\n",
      "Site 882253\n",
      "levon003 ['treatment']\n",
      "luoxx498 ['treatment', 'cured']\n",
      "\n",
      "Site 882253\n",
      "levon003 ['treatment']\n",
      "luoxx498 ['treatment', 'cured']\n",
      "\n",
      "Site 882253\n",
      "levon003 ['treatment']\n",
      "luoxx498 ['treatment', 'cured']\n",
      "\n",
      "Site 882253\n",
      "levon003 ['treatment']\n",
      "luoxx498 ['treatment', 'cured']\n",
      "\n",
      "Site 882253\n",
      "levon003 ['treatment']\n",
      "luoxx498 ['treatment', 'cured']\n",
      "\n",
      "Site 882253\n",
      "levon003 ['treatment']\n",
      "luoxx498 ['treatment', 'cured']\n",
      "\n",
      "Site 882253\n",
      "levon003 ['treatment']\n",
      "luoxx498 ['treatment', 'cured']\n",
      "\n",
      "Site 882253\n",
      "levon003 ['treatment']\n",
      "luoxx498 ['treatment', 'cured']\n",
      "\n",
      "Site 882253\n",
      "levon003 ['treatment']\n",
      "luoxx498 ['treatment', 'cured']\n",
      "\n",
      "Site 882253\n",
      "levon003 ['treatment']\n",
      "luoxx498 ['treatment', 'cured']\n",
      "\n",
      "Site 882253\n",
      "levon003 ['treatment']\n",
      "luoxx498 ['treatment', 'cured']\n",
      "\n",
      "Site 882253\n",
      "levon003 ['treatment']\n",
      "luoxx498 ['treatment', 'cured']\n",
      "\n",
      "Site 882253\n",
      "levon003 ['treatment']\n",
      "luoxx498 ['treatment', 'cured']\n",
      "\n",
      "Site 882253\n",
      "levon003 ['treatment']\n",
      "luoxx498 ['treatment', 'cured']\n",
      "\n",
      "Site 882253\n",
      "levon003 ['treatment']\n",
      "luoxx498 ['treatment', 'cured']\n",
      "\n",
      "Site 882253\n",
      "levon003 ['treatment']\n",
      "luoxx498 ['treatment', 'cured']\n",
      "\n",
      "Site 882253\n",
      "levon003 ['treatment']\n",
      "luoxx498 ['treatment', 'cured']\n",
      "\n",
      "Site 882253\n",
      "levon003 ['treatment']\n",
      "luoxx498 ['treatment', 'cured']\n",
      "\n",
      "Site 882253\n",
      "levon003 ['treatment']\n",
      "luoxx498 ['treatment', 'cured']\n",
      "\n",
      "Site 882253\n",
      "levon003 ['treatment']\n",
      "luoxx498 ['treatment', 'cured']\n",
      "\n",
      "Site 882253\n",
      "levon003 ['treatment']\n",
      "luoxx498 ['treatment', 'cured']\n",
      "\n",
      "Site 882253\n",
      "levon003 ['treatment']\n",
      "luoxx498 ['treatment', 'cured']\n",
      "\n",
      "Site 882253\n",
      "levon003 ['treatment']\n",
      "luoxx498 ['treatment', 'cured']\n",
      "\n",
      "Site 882253\n",
      "levon003 ['treatment']\n",
      "luoxx498 ['treatment', 'cured']\n",
      "\n",
      "Site 882253\n",
      "levon003 ['treatment']\n",
      "luoxx498 ['treatment', 'cured']\n",
      "\n",
      "Site 882253\n",
      "levon003 ['treatment']\n",
      "luoxx498 ['treatment', 'cured']\n",
      "\n",
      "Site 882253\n",
      "levon003 ['cured']\n",
      "luoxx498 ['treatment', 'cured']\n",
      "\n",
      "Site 882253\n",
      "levon003 ['cured']\n",
      "luoxx498 ['treatment', 'cured']\n",
      "\n",
      "Site 882253\n",
      "levon003 ['cured']\n",
      "luoxx498 ['treatment', 'cured']\n",
      "\n",
      "Site 912454\n",
      "levon003 ['screening']\n",
      "luoxx498 ['info_seeking']\n",
      "\n",
      "Site 912454\n",
      "levon003 ['screening']\n",
      "luoxx498 ['info_seeking']\n",
      "\n",
      "Site 912454\n",
      "levon003 ['screening']\n",
      "luoxx498 ['treatment']\n",
      "\n",
      "Site 912454\n",
      "levon003 ['screening', 'treatment']\n",
      "luoxx498 ['treatment']\n",
      "\n",
      "Site 912454\n",
      "levon003 ['cured']\n",
      "luoxx498 ['treatment']\n",
      "\n",
      "Site 912454\n",
      "levon003 ['cured']\n",
      "luoxx498 ['treatment']\n",
      "\n",
      "Site 912454\n",
      "levon003 ['screening']\n",
      "luoxx498 ['treatment']\n",
      "\n",
      "Site 912454\n",
      "levon003 ['info_seeking']\n",
      "luoxx498 ['treatment']\n",
      "\n",
      "Site 912454\n",
      "levon003 ['info_seeking']\n",
      "luoxx498 ['treatment']\n",
      "\n",
      "Site 912454\n",
      "levon003 ['info_seeking']\n",
      "luoxx498 ['treatment']\n",
      "\n",
      "Site 1010066\n",
      "levon003 ['screening', 'info_seeking']\n",
      "luoxx498 ['screening']\n",
      "\n",
      "Site 1010066\n",
      "levon003 ['screening', 'info_seeking']\n",
      "luoxx498 ['info_seeking']\n",
      "\n",
      "Site 1010066\n",
      "levon003 ['screening', 'info_seeking']\n",
      "luoxx498 ['info_seeking']\n",
      "\n",
      "Site 1010066\n",
      "levon003 ['info_seeking']\n",
      "luoxx498 ['screening', 'info_seeking']\n",
      "\n",
      "Site 1010066\n",
      "levon003 ['info_seeking']\n",
      "luoxx498 ['treatment']\n",
      "\n",
      "Site 1010066\n",
      "levon003 ['info_seeking']\n",
      "luoxx498 ['treatment']\n",
      "\n"
     ]
    },
    {
     "data": {
      "text/plain": [
       "(213, 76)"
      ]
     },
     "execution_count": 14,
     "metadata": {},
     "output_type": "execute_result"
    }
   ],
   "source": [
    "assert user_count == 2\n",
    "y1 = []\n",
    "y2 = []\n",
    "disagreement_count = 0\n",
    "\n",
    "grouped = phase_df.groupby(by=[\"site_id\", \"journal_oid\"])\n",
    "for name, group in grouped:\n",
    "    if len(group) == user_count:\n",
    "        a1 = group.iloc[0]\n",
    "        a2 = group.iloc[1]\n",
    "        d1 = a1['data']\n",
    "        d2 = a2['data']\n",
    "        phases1 = d1.split(\"|\")\n",
    "        phases2 = d2.split(\"|\")\n",
    "        for phase_list in (phases1, phases2):\n",
    "            if 'unknown' in phase_list:\n",
    "                phase_list.remove('unknown')\n",
    "        if len(phases1) == 0 or len(phases2) == 0:\n",
    "            continue  # skip journals that were labeled unknown by one of the raters\n",
    "        d1 = \"|\".join(phases1)\n",
    "        d2 = \"|\".join(phases2)\n",
    "        y1.append(d1)\n",
    "        y2.append(d2)\n",
    "        if d1 != d2:  # print all instances of disagreement\n",
    "            author1 = a1['annotator_username']\n",
    "            author2 = a2['annotator_username']\n",
    "            print(\"Site %d\" % a1['site_id'])\n",
    "            print(author1, phases1)\n",
    "            print(author2, phases2)\n",
    "            print()\n",
    "            disagreement_count += 1\n",
    "        \n",
    "len(y1), disagreement_count"
   ]
  },
  {
   "cell_type": "code",
   "execution_count": 15,
   "metadata": {},
   "outputs": [
    {
     "data": {
      "text/plain": [
       "0.353333599648464"
      ]
     },
     "execution_count": 15,
     "metadata": {},
     "output_type": "execute_result"
    }
   ],
   "source": [
    "sklearn.metrics.cohen_kappa_score(y1, y2)"
   ]
  },
  {
   "cell_type": "code",
   "execution_count": null,
   "metadata": {
    "collapsed": true
   },
   "outputs": [],
   "source": []
  },
  {
   "cell_type": "markdown",
   "metadata": {
    "collapsed": true
   },
   "source": [
    "## IRR part 2; directly from loaded annotations"
   ]
  },
  {
   "cell_type": "code",
   "execution_count": 6,
   "metadata": {},
   "outputs": [
    {
     "data": {
      "text/plain": [
       "9127"
      ]
     },
     "execution_count": 6,
     "metadata": {},
     "output_type": "execute_result"
    }
   ],
   "source": [
    "phase_annotations = get_phase_annotations_by_username()\n",
    "len(phase_annotations)"
   ]
  },
  {
   "cell_type": "code",
   "execution_count": 7,
   "metadata": {},
   "outputs": [
    {
     "data": {
      "text/plain": [
       "9127"
      ]
     },
     "execution_count": 7,
     "metadata": {},
     "output_type": "execute_result"
    }
   ],
   "source": [
    "df = pd.DataFrame(phase_annotations)\n",
    "len(df)"
   ]
  },
  {
   "cell_type": "code",
   "execution_count": 8,
   "metadata": {},
   "outputs": [
    {
     "data": {
      "text/html": [
       "<div>\n",
       "<style scoped>\n",
       "    .dataframe tbody tr th:only-of-type {\n",
       "        vertical-align: middle;\n",
       "    }\n",
       "\n",
       "    .dataframe tbody tr th {\n",
       "        vertical-align: top;\n",
       "    }\n",
       "\n",
       "    .dataframe thead th {\n",
       "        text-align: right;\n",
       "    }\n",
       "</style>\n",
       "<table border=\"1\" class=\"dataframe\">\n",
       "  <thead>\n",
       "    <tr style=\"text-align: right;\">\n",
       "      <th></th>\n",
       "      <th>is_corrected</th>\n",
       "      <th>journal_oid</th>\n",
       "      <th>phases</th>\n",
       "      <th>site_id</th>\n",
       "      <th>username</th>\n",
       "    </tr>\n",
       "  </thead>\n",
       "  <tbody>\n",
       "    <tr>\n",
       "      <th>0</th>\n",
       "      <td>False</td>\n",
       "      <td>51be29d46ca004e47900f6a7</td>\n",
       "      <td>[treatment, unknown]</td>\n",
       "      <td>190464</td>\n",
       "      <td>naray114</td>\n",
       "    </tr>\n",
       "    <tr>\n",
       "      <th>1</th>\n",
       "      <td>False</td>\n",
       "      <td>526076fbe9cb6a8b045d6ce5</td>\n",
       "      <td>[treatment]</td>\n",
       "      <td>623581</td>\n",
       "      <td>naray114</td>\n",
       "    </tr>\n",
       "    <tr>\n",
       "      <th>2</th>\n",
       "      <td>False</td>\n",
       "      <td>5262b655e9cb6a737a718a97</td>\n",
       "      <td>[treatment, unknown]</td>\n",
       "      <td>623581</td>\n",
       "      <td>naray114</td>\n",
       "    </tr>\n",
       "  </tbody>\n",
       "</table>\n",
       "</div>"
      ],
      "text/plain": [
       "   is_corrected               journal_oid                phases  site_id  \\\n",
       "0         False  51be29d46ca004e47900f6a7  [treatment, unknown]   190464   \n",
       "1         False  526076fbe9cb6a8b045d6ce5           [treatment]   623581   \n",
       "2         False  5262b655e9cb6a737a718a97  [treatment, unknown]   623581   \n",
       "\n",
       "   username  \n",
       "0  naray114  \n",
       "1  naray114  \n",
       "2  naray114  "
      ]
     },
     "execution_count": 8,
     "metadata": {},
     "output_type": "execute_result"
    }
   ],
   "source": [
    "df.head(n=3)"
   ]
  },
  {
   "cell_type": "code",
   "execution_count": 9,
   "metadata": {},
   "outputs": [
    {
     "data": {
      "text/plain": [
       "[(False, 8905), (True, 222)]"
      ]
     },
     "execution_count": 9,
     "metadata": {},
     "output_type": "execute_result"
    }
   ],
   "source": [
    "Counter(df['is_corrected']).most_common()"
   ]
  },
  {
   "cell_type": "code",
   "execution_count": 10,
   "metadata": {},
   "outputs": [
    {
     "data": {
      "text/plain": [
       "8905"
      ]
     },
     "execution_count": 10,
     "metadata": {},
     "output_type": "execute_result"
    }
   ],
   "source": [
    "df = df[df['is_corrected'] == False]\n",
    "len(df)"
   ]
  },
  {
   "cell_type": "code",
   "execution_count": 11,
   "metadata": {},
   "outputs": [
    {
     "name": "stdout",
     "output_type": "stream",
     "text": [
      "Added 10 sites from IRR file 'irr_set_3_20180830.txt'.\n",
      "Added 20 sites from IRR file 'multiset_4_20181206.txt'.\n",
      "Added 20 sites from IRR file 'phases_set_4_20180904.txt'.\n",
      "Added 20 sites from IRR file 'multiset_1_20181009.txt'.\n",
      "Added 20 sites from IRR file 'multiset_3_20181019.txt'.\n"
     ]
    },
    {
     "data": {
      "text/plain": [
       "90"
      ]
     },
     "execution_count": 11,
     "metadata": {},
     "output_type": "execute_result"
    }
   ],
   "source": [
    "irr_sites = []\n",
    "irr_set_dir = \"/home/srivbane/shared/caringbridge/data/projects/qual-health-journeys/instance/annotation_data/assignments/eriks074\"\n",
    "for filename in os.listdir(irr_set_dir):\n",
    "    irr_filepath = os.path.join(irr_set_dir, filename)\n",
    "    with open(irr_filepath, 'r') as infile:\n",
    "        lines = infile.readlines()[1:]  # take all the lines, minus the header\n",
    "        site_ids = [int(line) for line in lines if line.strip() != \"\"]\n",
    "        print(f\"Added {len(site_ids)} sites from IRR file '{filename}'.\")\n",
    "        irr_sites.extend(site_ids)\n",
    "len(irr_sites)"
   ]
  },
  {
   "cell_type": "code",
   "execution_count": 12,
   "metadata": {},
   "outputs": [
    {
     "data": {
      "text/plain": [
       "2945"
      ]
     },
     "execution_count": 12,
     "metadata": {},
     "output_type": "execute_result"
    }
   ],
   "source": [
    "irr_df = df[df['site_id'].isin(irr_sites)]\n",
    "len(irr_df)"
   ]
  },
  {
   "cell_type": "code",
   "execution_count": 13,
   "metadata": {},
   "outputs": [],
   "source": [
    "def get_agreement_df(user1, user2):\n",
    "    agreements_list = []\n",
    "    for key, group in df.groupby(by=(\"site_id\", \"journal_oid\")):\n",
    "        if len(group) <= 1:\n",
    "            continue\n",
    "        annotating_users = set(group['username'])\n",
    "        if user1 not in annotating_users or user2 not in annotating_users:\n",
    "            continue\n",
    "        site_id, journal_oid = key\n",
    "\n",
    "        user1_phases = group[group['username'] == user1].iloc[0]['phases']\n",
    "        user2_phases = group[group['username'] == user2].iloc[0]['phases']\n",
    "\n",
    "        if 'unknown' in user1_phases:\n",
    "            user1_phases.remove('unknown')\n",
    "        if 'unknown' in user2_phases:\n",
    "            user2_phases.remove('unknown')\n",
    "            \n",
    "        user1_phase_str = \"|\".join(user1_phases)\n",
    "        user2_phase_str = \"|\".join(user2_phases)\n",
    "\n",
    "        agreement_score = 0\n",
    "        is_strict_agreement = len(set(user1_phases) & set(user2_phases)) == max(len(user1_phases), len(user2_phases))\n",
    "        is_partial_agreement = len(set(user1_phases) & set(user2_phases)) > 0 or len(user1_phases) == len(user2_phases)\n",
    "\n",
    "        agreement = {\n",
    "            \"site_id\": site_id,\n",
    "            \"journal_oid\": journal_oid,\n",
    "            \"user1\": user1,\n",
    "            \"user2\": user2,\n",
    "            \"user1_phases\": user1_phases,\n",
    "            \"user2_phases\": user2_phases,\n",
    "            \"user1_phase_str\": user1_phase_str,\n",
    "            \"user2_phase_str\": user2_phase_str,\n",
    "            \"is_strict_agreement\": is_strict_agreement,\n",
    "            \"is_partial_agreement\": is_partial_agreement\n",
    "        }\n",
    "        agreements_list.append(agreement)\n",
    "    agreement_df = pd.DataFrame(agreements_list)\n",
    "    return agreement_df"
   ]
  },
  {
   "cell_type": "code",
   "execution_count": 20,
   "metadata": {},
   "outputs": [
    {
     "data": {
      "text/plain": [
       "619"
      ]
     },
     "execution_count": 20,
     "metadata": {},
     "output_type": "execute_result"
    }
   ],
   "source": [
    "user1 = \"luoxx498\"\n",
    "user2 = \"eriks074\"\n",
    "agreement_df = get_agreement_df(user1, user2)\n",
    "len(agreement_df)"
   ]
  },
  {
   "cell_type": "code",
   "execution_count": 15,
   "metadata": {},
   "outputs": [],
   "source": [
    "def get_strict_agreement_accuracy(df):\n",
    "    acc = np.sum(df['is_strict_agreement']) / len(df)\n",
    "    return acc\n",
    "\n",
    "def get_partial_agreement_accuracy(df):\n",
    "    acc = np.sum(df['is_partial_agreement']) / len(df)\n",
    "    return acc"
   ]
  },
  {
   "cell_type": "code",
   "execution_count": 30,
   "metadata": {},
   "outputs": [
    {
     "data": {
      "text/plain": [
       "0.04523424878836835"
      ]
     },
     "execution_count": 30,
     "metadata": {},
     "output_type": "execute_result"
    }
   ],
   "source": [
    "1- get_strict_agreement_accuracy(agreement_df)"
   ]
  },
  {
   "cell_type": "code",
   "execution_count": 17,
   "metadata": {},
   "outputs": [
    {
     "data": {
      "text/plain": [
       "0.9951534733441034"
      ]
     },
     "execution_count": 17,
     "metadata": {},
     "output_type": "execute_result"
    }
   ],
   "source": [
    "get_partial_agreement_accuracy(agreement_df)"
   ]
  },
  {
   "cell_type": "code",
   "execution_count": 18,
   "metadata": {},
   "outputs": [
    {
     "data": {
      "text/plain": [
       "0.9250251977973015"
      ]
     },
     "execution_count": 18,
     "metadata": {},
     "output_type": "execute_result"
    }
   ],
   "source": [
    "sklearn.metrics.cohen_kappa_score(agreement_df[\"user1_phase_str\"], agreement_df[\"user2_phase_str\"])"
   ]
  },
  {
   "cell_type": "code",
   "execution_count": 29,
   "metadata": {},
   "outputs": [
    {
     "name": "stdout",
     "output_type": "stream",
     "text": [
      "pretreatment          2.91%   0.91         141\n",
      "treatment             2.58%   0.94         409\n",
      "end_of_life           0.00%    nan           0\n",
      "cured                 1.29%   0.95          91\n"
     ]
    },
    {
     "name": "stderr",
     "output_type": "stream",
     "text": [
      "/panfs/roc/groups/3/srivbane/levon003/anaconda3/lib/python3.6/site-packages/sklearn/metrics/classification.py:370: RuntimeWarning: invalid value encountered in true_divide\n",
      "  k = np.sum(w_mat * confusion) / np.sum(w_mat * expected)\n"
     ]
    }
   ],
   "source": [
    "for phase_label in phase_labels:\n",
    "    user1_annotations = agreement_df.user1_phases.apply(lambda phase_list: phase_label in phase_list)\n",
    "    user2_annotations = agreement_df.user2_phases.apply(lambda phase_list: phase_label in phase_list)\n",
    "    disagreement = 1 - (np.sum(user1_annotations == user2_annotations) / len(agreement_df))\n",
    "    cohen_kappa = sklearn.metrics.cohen_kappa_score(user1_annotations, user2_annotations)\n",
    "    print(f\"{phase_label:20} {disagreement*100:5.2f}%  {cohen_kappa:5.2f}  {np.sum(user1_annotations | user2_annotations):10}\")"
   ]
  },
  {
   "cell_type": "code",
   "execution_count": 19,
   "metadata": {
    "scrolled": true
   },
   "outputs": [
    {
     "name": "stdout",
     "output_type": "stream",
     "text": [
      "levon003/eriks074\ts= 16,j=122\t0.76\t0.95\t0.61\n",
      "levon003/rubya001\ts= 14,j=145\t0.83\t0.99\t0.68\n",
      "levon003/vachh007\ts=  6,j= 73\t0.77\t0.97\t0.54\n",
      "levon003/luoxx498\ts= 26,j=287\t0.87\t0.97\t0.74\n",
      "eriks074/rubya001\ts= 10,j=139\t0.80\t0.94\t0.65\n",
      "eriks074/vachh007\ts=  6,j= 73\t0.85\t0.93\t0.75\n",
      "eriks074/luoxx498\ts= 31,j=619\t0.95\t1.00\t0.93\n",
      "rubya001/vachh007\ts=  6,j= 73\t0.78\t1.00\t0.60\n",
      "rubya001/luoxx498\ts= 10,j=138\t0.79\t0.93\t0.64\n",
      "vachh007/luoxx498\ts=  6,j= 73\t0.85\t0.93\t0.75\n"
     ]
    }
   ],
   "source": [
    "usernames = [\"levon003\", \"eriks074\", \"rubya001\", \"vachh007\", \"luoxx498\"]\n",
    "for user1, user2 in itertools.combinations(usernames, 2):\n",
    "    agreement_df = get_agreement_df(user1, user2)\n",
    "    num_sites = len(set(agreement_df[\"site_id\"]))\n",
    "    strict_acc = get_strict_agreement_accuracy(agreement_df)\n",
    "    partial_acc = get_partial_agreement_accuracy(agreement_df)\n",
    "    \n",
    "    cohen_kappa = sklearn.metrics.cohen_kappa_score(agreement_df[\"user1_phase_str\"], agreement_df[\"user2_phase_str\"])\n",
    "    \n",
    "    print(f\"{user1}/{user2}\\ts={num_sites:3},j={len(agreement_df):3}\\t{strict_acc:.2f}\\t{partial_acc:.2f}\\t{cohen_kappa:.2f}\")"
   ]
  },
  {
   "cell_type": "code",
   "execution_count": 32,
   "metadata": {},
   "outputs": [
    {
     "name": "stderr",
     "output_type": "stream",
     "text": [
      "100%|██████████| 7553/7553 [00:01<00:00, 4397.21it/s]"
     ]
    },
    {
     "name": "stdout",
     "output_type": "stream",
     "text": [
      "pretreatment               7.4  5.5\n",
      "treatment                  69.7  7.4\n",
      "end_of_life                1.9  0.2\n",
      "cured                      6.4  3.6\n",
      "\n",
      "Overall disagreement: 0.10167464114832536\n",
      "Non-none proportion: 99.62\n"
     ]
    },
    {
     "name": "stderr",
     "output_type": "stream",
     "text": [
      "\n"
     ]
    }
   ],
   "source": [
    "resp_counts = np.zeros(len(phase_labels))\n",
    "resp_disagreements = np.zeros(len(phase_labels))\n",
    "multiple_annotator_count = 0  # tracks number of journals with multiple annotators\n",
    "total_disagreements = 0\n",
    "none_count = 0\n",
    "for key, group in tqdm(df.groupby(by=('site_id', 'journal_oid'), sort=False)):\n",
    "    all_resps = set()\n",
    "    for resp_list in group.phases:\n",
    "        all_resps.update(resp_list)\n",
    "    if len(all_resps) == 0:\n",
    "        none_count += 1\n",
    "        continue  # if all annotators indicated none, there's nothing else to do here\n",
    "    for i, resp_label in enumerate(phase_labels):\n",
    "        if resp_label in all_resps:\n",
    "            resp_counts[i] += 1\n",
    "    if len(group) >= 2:\n",
    "        multiple_annotator_count += 1\n",
    "        disagreement = False\n",
    "        for i, resp_label in enumerate(phase_labels):\n",
    "            if resp_label in all_resps:\n",
    "                for resp_list in group.phases:\n",
    "                    if resp_label not in resp_list:\n",
    "                        resp_disagreements[i] += 1\n",
    "                        disagreement = True\n",
    "                        break\n",
    "        if disagreement:\n",
    "            total_disagreements += 1\n",
    "\n",
    "resp_proportions = resp_counts / len(df)\n",
    "resp_disagreement_proportions = resp_disagreements / multiple_annotator_count\n",
    "for i, resp_label in enumerate(phase_labels):\n",
    "    code = \"  \"\n",
    "    occurrence = resp_proportions[i]\n",
    "    disagreement = resp_disagreement_proportions[i]\n",
    "    print(f\"{resp_label:20}  {code:3}  {occurrence*100:.1f}  {disagreement * 100:.1f}\")\n",
    "print()\n",
    "print(f\"Overall disagreement: {total_disagreements / multiple_annotator_count}\")\n",
    "print(f\"Non-none proportion: {(1 - (none_count / len(df))) * 100:.2f}\")"
   ]
  },
  {
   "cell_type": "code",
   "execution_count": null,
   "metadata": {},
   "outputs": [],
   "source": []
  },
  {
   "cell_type": "code",
   "execution_count": null,
   "metadata": {
    "collapsed": true
   },
   "outputs": [],
   "source": []
  }
 ],
 "metadata": {
  "kernelspec": {
   "display_name": "Python 3",
   "language": "python",
   "name": "python3"
  },
  "language_info": {
   "codemirror_mode": {
    "name": "ipython",
    "version": 3
   },
   "file_extension": ".py",
   "mimetype": "text/x-python",
   "name": "python",
   "nbconvert_exporter": "python",
   "pygments_lexer": "ipython3",
   "version": "3.6.8"
  }
 },
 "nbformat": 4,
 "nbformat_minor": 1
}
