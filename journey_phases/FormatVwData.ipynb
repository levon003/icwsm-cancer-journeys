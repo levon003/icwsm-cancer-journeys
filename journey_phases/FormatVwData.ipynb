{
 "cells": [
  {
   "cell_type": "markdown",
   "metadata": {},
   "source": [
    "Format data in Vowpal Wabbit form\n",
    "===\n"
   ]
  },
  {
   "cell_type": "code",
   "execution_count": 23,
   "metadata": {
    "collapsed": true
   },
   "outputs": [],
   "source": [
    "import os\n",
    "import re\n",
    "import pandas as pd\n",
    "import numpy as np\n",
    "import sklearn\n",
    "from collections import Counter\n",
    "import sqlite3\n",
    "from nltk import word_tokenize\n",
    "from html.parser import HTMLParser\n",
    "from tqdm import tqdm\n",
    "import random"
   ]
  },
  {
   "cell_type": "code",
   "execution_count": 2,
   "metadata": {
    "collapsed": true
   },
   "outputs": [],
   "source": [
    "annotation_data_dir = \"/home/srivbane/shared/caringbridge/data/projects/qual-health-journeys/instance/annotation_data/export\"\n",
    "assert os.path.exists(annotation_data_dir)\n",
    "\n",
    "vw_working_dir = \"/home/srivbane/shared/caringbridge/data/projects/qual-health-journeys/journey_phases/vw\"\n",
    "os.makedirs(vw_working_dir, exist_ok=True)"
   ]
  },
  {
   "cell_type": "code",
   "execution_count": 3,
   "metadata": {},
   "outputs": [
    {
     "data": {
      "text/html": [
       "<div>\n",
       "<style scoped>\n",
       "    .dataframe tbody tr th:only-of-type {\n",
       "        vertical-align: middle;\n",
       "    }\n",
       "\n",
       "    .dataframe tbody tr th {\n",
       "        vertical-align: top;\n",
       "    }\n",
       "\n",
       "    .dataframe thead th {\n",
       "        text-align: right;\n",
       "    }\n",
       "</style>\n",
       "<table border=\"1\" class=\"dataframe\">\n",
       "  <thead>\n",
       "    <tr style=\"text-align: right;\">\n",
       "      <th></th>\n",
       "      <th>site_id</th>\n",
       "      <th>journal_oid</th>\n",
       "      <th>annotator_usernames</th>\n",
       "      <th>conflict_status</th>\n",
       "      <th>data</th>\n",
       "    </tr>\n",
       "  </thead>\n",
       "  <tbody>\n",
       "    <tr>\n",
       "      <th>0</th>\n",
       "      <td>818475</td>\n",
       "      <td>51fc73ecac7ee9320f784277</td>\n",
       "      <td>luoxx498</td>\n",
       "      <td>SINGLE USER</td>\n",
       "      <td>treatment</td>\n",
       "    </tr>\n",
       "    <tr>\n",
       "      <th>1</th>\n",
       "      <td>818475</td>\n",
       "      <td>5205b4ab4db921e73f48120f</td>\n",
       "      <td>luoxx498</td>\n",
       "      <td>SINGLE USER</td>\n",
       "      <td>treatment</td>\n",
       "    </tr>\n",
       "    <tr>\n",
       "      <th>2</th>\n",
       "      <td>818475</td>\n",
       "      <td>52101f98cb16b414771974c9</td>\n",
       "      <td>luoxx498</td>\n",
       "      <td>SINGLE USER</td>\n",
       "      <td>treatment</td>\n",
       "    </tr>\n",
       "    <tr>\n",
       "      <th>3</th>\n",
       "      <td>818475</td>\n",
       "      <td>521342a20dad1097034d2c4c</td>\n",
       "      <td>luoxx498</td>\n",
       "      <td>SINGLE USER</td>\n",
       "      <td>treatment</td>\n",
       "    </tr>\n",
       "    <tr>\n",
       "      <th>4</th>\n",
       "      <td>818475</td>\n",
       "      <td>522b5c8fa589b46a0bd42872</td>\n",
       "      <td>luoxx498</td>\n",
       "      <td>SINGLE USER</td>\n",
       "      <td>treatment</td>\n",
       "    </tr>\n",
       "  </tbody>\n",
       "</table>\n",
       "</div>"
      ],
      "text/plain": [
       "   site_id               journal_oid annotator_usernames conflict_status  \\\n",
       "0   818475  51fc73ecac7ee9320f784277            luoxx498     SINGLE USER   \n",
       "1   818475  5205b4ab4db921e73f48120f            luoxx498     SINGLE USER   \n",
       "2   818475  52101f98cb16b414771974c9            luoxx498     SINGLE USER   \n",
       "3   818475  521342a20dad1097034d2c4c            luoxx498     SINGLE USER   \n",
       "4   818475  522b5c8fa589b46a0bd42872            luoxx498     SINGLE USER   \n",
       "\n",
       "        data  \n",
       "0  treatment  \n",
       "1  treatment  \n",
       "2  treatment  \n",
       "3  treatment  \n",
       "4  treatment  "
      ]
     },
     "execution_count": 3,
     "metadata": {},
     "output_type": "execute_result"
    }
   ],
   "source": [
    "phase_annotation_filename = \"journal_journey_phase_annotations.csv\"\n",
    "df = pd.read_csv(os.path.join(annotation_data_dir, phase_annotation_filename))\n",
    "df.head()"
   ]
  },
  {
   "cell_type": "code",
   "execution_count": 4,
   "metadata": {
    "scrolled": true
   },
   "outputs": [
    {
     "data": {
      "text/plain": [
       "[('SINGLE USER', 571),\n",
       " ('NO CONFLICT', 134),\n",
       " ('RESOLVED', 91),\n",
       " ('AMBIGUOUS', 12)]"
      ]
     },
     "execution_count": 4,
     "metadata": {},
     "output_type": "execute_result"
    }
   ],
   "source": [
    "Counter(df['conflict_status']).most_common()"
   ]
  },
  {
   "cell_type": "code",
   "execution_count": 5,
   "metadata": {},
   "outputs": [
    {
     "data": {
      "text/plain": [
       "[('treatment', 564),\n",
       " ('info_seeking', 77),\n",
       " ('cured', 43),\n",
       " ('unknown', 41),\n",
       " ('treatment|unknown', 18),\n",
       " ('treatment|cured', 18),\n",
       " ('info_seeking|unknown', 8),\n",
       " ('screening|info_seeking', 6),\n",
       " ('info_seeking;info_seeking|unknown', 5),\n",
       " ('info_seeking|treatment', 5),\n",
       " ('cured|unknown', 5),\n",
       " ('treatment;treatment|unknown', 3),\n",
       " ('treatment|unknown;treatment', 3),\n",
       " ('screening', 3),\n",
       " ('end_of_life', 3),\n",
       " ('screening|info_seeking|unknown', 1),\n",
       " ('cured|unknown;cured', 1),\n",
       " ('treatment|end_of_life', 1),\n",
       " ('screening|treatment', 1),\n",
       " ('treatment|cured|unknown', 1),\n",
       " ('info_seeking|cured', 1)]"
      ]
     },
     "execution_count": 5,
     "metadata": {},
     "output_type": "execute_result"
    }
   ],
   "source": [
    "Counter(df['data']).most_common()"
   ]
  },
  {
   "cell_type": "code",
   "execution_count": 6,
   "metadata": {},
   "outputs": [
    {
     "data": {
      "text/plain": [
       "[('journal_journey_phase', 1045),\n",
       " ('journal_author_type', 874),\n",
       " ('journal_note', 52),\n",
       " ('journal_patient_responsibilities', 41)]"
      ]
     },
     "execution_count": 6,
     "metadata": {},
     "output_type": "execute_result"
    }
   ],
   "source": [
    "full = pd.read_csv(os.path.join(annotation_data_dir, \"annotation_data_complete.csv\"))\n",
    "Counter(full['annotation_type']).most_common()"
   ]
  },
  {
   "cell_type": "code",
   "execution_count": 7,
   "metadata": {},
   "outputs": [
    {
     "name": "stdout",
     "output_type": "stream",
     "text": [
      "Site Id\tNum Annotated Journals\n",
      "---------\n",
      "818475 16\n",
      "820192 20\n",
      "826591 13\n",
      "829111 42\n",
      "839971 11\n",
      "845819 19\n",
      "846593 23\n",
      "847311 27\n",
      "851522 40\n",
      "855625 29\n",
      "857627 35\n",
      "863706 49\n",
      "864283 20\n",
      "866641 19\n",
      "867125 20\n",
      "867427 35\n",
      "882253 44\n",
      "888277 16\n",
      "900129 25\n",
      "911545 28\n",
      "912454 21\n",
      "912713 11\n",
      "923316 21\n",
      "966641 39\n",
      "987982 16\n",
      "1006567 16\n",
      "1010066 17\n",
      "1015767 27\n",
      "1022397 22\n",
      "1023926 29\n",
      "1024634 18\n",
      "1026937 15\n",
      "1028140 25\n"
     ]
    }
   ],
   "source": [
    "print(\"Site Id\\tNum Annotated Journals\")\n",
    "print(\"---------\")\n",
    "for key, group in df.groupby(by=(\"site_id\",)):\n",
    "    print(key, len(group))"
   ]
  },
  {
   "cell_type": "code",
   "execution_count": 8,
   "metadata": {},
   "outputs": [],
   "source": [
    "# from the author_type annotations, construct a dictionary indicating which journals have an author id other than \"patient\"\n",
    "author_types = full[full['annotation_type'] == 'journal_author_type']\n",
    "bad_author_dict = {}\n",
    "for key, group in author_types.groupby(('site_id', 'journal_oid')):\n",
    "    author_types = set(group['data'])\n",
    "    is_bad_author = 'cg' in author_types or 'pcg' in author_types or 'unk' in author_types\n",
    "    bad_author_dict[key] = is_bad_author"
   ]
  },
  {
   "cell_type": "code",
   "execution_count": 9,
   "metadata": {},
   "outputs": [
    {
     "data": {
      "text/plain": [
       "(660, 136, 12)"
      ]
     },
     "execution_count": 9,
     "metadata": {},
     "output_type": "execute_result"
    }
   ],
   "source": [
    "# identify the indices of rows that should be used in the training/holdout data\n",
    "correct_rows = 0\n",
    "bad_author_journals_skipped = 0\n",
    "ambiguous_phase_journals_skipped = 0\n",
    "\n",
    "index_list = []\n",
    "for i in range(len(df)):\n",
    "    row = df.iloc[i]\n",
    "    key = (row['site_id'], row['journal_oid'])\n",
    "    if key in bad_author_dict and bad_author_dict[key]:\n",
    "        bad_author_journals_skipped += 1\n",
    "        continue\n",
    "    if row['conflict_status'] == \"AMBIGUOUS\":\n",
    "        ambiguous_phase_journals_skipped += 1\n",
    "        continue\n",
    "    # write this\n",
    "    correct_rows += 1\n",
    "    index_list.append(row.name)\n",
    "    \n",
    "# TODO Only include site_ids for sites that have at least 50% of their journals tagged.\n",
    "\n",
    "correct_rows, bad_author_journals_skipped, ambiguous_phase_journals_skipped"
   ]
  },
  {
   "cell_type": "code",
   "execution_count": 10,
   "metadata": {},
   "outputs": [],
   "source": [
    "# get the dataframe containing only the rows that will actually be used in our data\n",
    "valid_df = df.loc[index_list]\n",
    "assert len(valid_df) == correct_rows"
   ]
  },
  {
   "cell_type": "code",
   "execution_count": 11,
   "metadata": {},
   "outputs": [
    {
     "data": {
      "text/plain": [
       "(26, 6)"
      ]
     },
     "execution_count": 11,
     "metadata": {},
     "output_type": "execute_result"
    }
   ],
   "source": [
    "# identify sites that will be used in the training set vs the holdout set\n",
    "grouped = valid_df.groupby(by=\"site_id\")\n",
    "site_ids = list(grouped.groups.keys())\n",
    "random.shuffle(site_ids)\n",
    "\n",
    "holdout_percent = 0.2\n",
    "holdout_start_index = len(site_ids) - int(len(site_ids) * holdout_percent)\n",
    "\n",
    "train_site_ids = site_ids[:holdout_start_index]\n",
    "valid_site_ids = site_ids[holdout_start_index:]\n",
    "len(train_site_ids), len(valid_site_ids)"
   ]
  },
  {
   "cell_type": "code",
   "execution_count": 12,
   "metadata": {},
   "outputs": [
    {
     "name": "stderr",
     "output_type": "stream",
     "text": [
      "Formatting Phase Lines: 100%|██████████| 660/660 [00:05<00:00, 130.52it/s]\n"
     ]
    },
    {
     "data": {
      "text/plain": [
       "(491, 169)"
      ]
     },
     "execution_count": 12,
     "metadata": {},
     "output_type": "execute_result"
    }
   ],
   "source": [
    "# format the data rows into Vowpal Wabbit format\n",
    "all_phases = ['screening', 'info_seeking', 'treatment', 'cured', 'end_of_life']\n",
    "\n",
    "train_lines = []\n",
    "valid_lines = []\n",
    "\n",
    "class MLStripper(HTMLParser):\n",
    "    def __init__(self):\n",
    "        super().__init__()\n",
    "        self.reset()\n",
    "        self.strict = False\n",
    "        self.convert_charrefs = True\n",
    "        self.fed = []\n",
    "    def handle_data(self, d):\n",
    "        self.fed.append(d)\n",
    "    def get_data(self):\n",
    "        return ''.join(self.fed)\n",
    "\n",
    "def strip_tags(html_text):\n",
    "    s = MLStripper()\n",
    "    s.feed(html_text)\n",
    "    return s.get_data()\n",
    "\n",
    "\n",
    "def get_cleaned_text_from_token_list(token_list):\n",
    "    cleaned_text = \" \".join(token_list).replace(':', 'COLON').replace('|', 'PIPE').replace(\"\\n\", \"NEWLINE \")\n",
    "    return cleaned_text\n",
    "\n",
    "def get_cleaned_text(text):\n",
    "    stripped = strip_tags(text)\n",
    "    tokens = word_tokenize(stripped)\n",
    "    tokens = [token.lower() for token in tokens]\n",
    "    cleaned_text = get_cleaned_text_from_token_list(tokens)\n",
    "    return cleaned_text\n",
    "\n",
    "def get_db():\n",
    "    journal_wd=\"/home/srivbane/shared/caringbridge/data/projects/qual-health-journeys/extract_site_features\"\n",
    "    db_filename = os.path.join(journal_wd, \"journal_text.db\")\n",
    "    db = sqlite3.connect(\n",
    "            db_filename,\n",
    "            detect_types=sqlite3.PARSE_DECLTYPES\n",
    "        )\n",
    "    db.row_factory = sqlite3.Row\n",
    "    return db\n",
    "\n",
    "#https://github.com/JohnLangford/vowpal_wabbit/wiki/Cost-Sensitive-One-Against-All-(csoaa)-multi-class-example\n",
    "# Note that labels with lower costs are preferred\n",
    "def get_vw_format(site_id, journal_oid, phases):\n",
    "    site_id = int(site_id)\n",
    "    \n",
    "    unknown = False\n",
    "    if \"unknown\" in phases:\n",
    "        phases.remove(\"unknown\")\n",
    "        unknown = True\n",
    "    label_section = \"\"\n",
    "    for phase in all_phases:\n",
    "        if phase in phases:\n",
    "            cost = 0\n",
    "            if unknown:\n",
    "                cost = 0.5\n",
    "        else:\n",
    "            cost = 1\n",
    "        label_section += \"%s:%.1f \" % (phase, cost)\n",
    "    # we are finished constructing the label. Add the item identifier to keep track of the source journal\n",
    "    identifier = \"sid%djoid%s\" % (site_id, journal_oid)\n",
    "    \n",
    "    formatted_journal = label_section + identifier\n",
    "    \n",
    "    # add journal text as new section\n",
    "    try:\n",
    "        db = get_db()\n",
    "        cursor = db.execute(\"\"\"SELECT body \n",
    "                                FROM journalText \n",
    "                                WHERE site_id = ? AND journal_oid = ?\"\"\", \n",
    "                            (site_id, journal_oid))\n",
    "        body = cursor.fetchone()\n",
    "        assert body is not None\n",
    "        body_text = body['body']\n",
    "        if body_text is None:\n",
    "            cleaned_text = \"\"\n",
    "        else:\n",
    "            cleaned_text = get_cleaned_text(body_text)\n",
    "        formatted_journal += \"|J \" + cleaned_text\n",
    "    finally:\n",
    "        db.close()\n",
    "    \n",
    "    \n",
    "    return formatted_journal\n",
    "\n",
    "for i in tqdm(range(len(valid_df)), desc=\"Formatting Phase Lines\"):\n",
    "    row = valid_df.iloc[i]\n",
    "    # convert this row to the VW format\n",
    "    phases = row['data'].split(\"|\")\n",
    "    site_id = row['site_id']\n",
    "    journal_oid = row['journal_oid']\n",
    "    formatted = get_vw_format(site_id, journal_oid, phases)\n",
    "    if site_id in valid_site_ids:  # this is validation/holdout data\n",
    "        valid_lines.append(formatted)\n",
    "    else:  # this is training data\n",
    "        train_lines.append(formatted)\n",
    "        \n",
    "len(train_lines), len(valid_lines)"
   ]
  },
  {
   "cell_type": "code",
   "execution_count": 13,
   "metadata": {},
   "outputs": [
    {
     "data": {
      "text/plain": [
       "0.25606060606060604"
      ]
     },
     "execution_count": 13,
     "metadata": {},
     "output_type": "execute_result"
    }
   ],
   "source": [
    "# what actualy percentage of our data are we holding out?\n",
    "len(valid_lines) / (len(train_lines) + len(valid_lines))"
   ]
  },
  {
   "cell_type": "code",
   "execution_count": 14,
   "metadata": {
    "collapsed": true
   },
   "outputs": [],
   "source": [
    "# write the formatted lines to a file (after another shuffle)\n",
    "random.shuffle(train_lines)\n",
    "random.shuffle(valid_lines)\n",
    "\n",
    "vw_phase_simple_filename = \"phase_simple_features.txt\"\n",
    "vw_phase_simple_filepath = os.path.join(vw_working_dir, vw_phase_simple_filename)\n",
    "with open(vw_phase_simple_filepath, 'w', encoding=\"utf-8\") as outfile:\n",
    "    for line in train_lines:\n",
    "        outfile.write(line + \"\\n\")\n",
    "    for line in valid_lines:\n",
    "        outfile.write(line + \"\\n\")\n",
    "holdout_after = len(train_lines)"
   ]
  },
  {
   "cell_type": "code",
   "execution_count": 15,
   "metadata": {
    "collapsed": true
   },
   "outputs": [],
   "source": [
    "vw_phase_simple_shuffled_filepath = os.path.join(vw_working_dir, \"phase_simple_features_shuffled.txt\")"
   ]
  },
  {
   "cell_type": "code",
   "execution_count": 16,
   "metadata": {},
   "outputs": [
    {
     "name": "stdout",
     "output_type": "stream",
     "text": [
      "Don't need to shuffle the input file, we shuffled it in-memory before writing it to the training text file.\n"
     ]
    }
   ],
   "source": [
    "%%bash -s {vw_working_dir} {vw_phase_simple_filepath} {vw_phase_simple_shuffled_filepath}\n",
    "echo \"Don't need to shuffle the input file, we shuffled it in-memory before writing it to the training text file.\"\n",
    "exit 1\n",
    "\n",
    "working_dir=${1}\n",
    "site_features_file=${2}\n",
    "echo ${site_features_file}\n",
    "\n",
    "shuffled_site_features_file=${3}\n",
    "shuf $site_features_file > $shuffled_site_features_file\n",
    "echo \"Shuffled site features to '$shuffled_site_features_file'.\"\n",
    "\n",
    "echo \"Finished.\""
   ]
  },
  {
   "cell_type": "code",
   "execution_count": null,
   "metadata": {},
   "outputs": [],
   "source": [
    "!head -n 1 {vw_phase_simple_filepath}"
   ]
  },
  {
   "cell_type": "code",
   "execution_count": 18,
   "metadata": {},
   "outputs": [
    {
     "name": "stdout",
     "output_type": "stream",
     "text": [
      "Training on training set (holdout after 491 lines).\n",
      "\n",
      "Making predictions.\n",
      "Finished.\n"
     ]
    },
    {
     "name": "stderr",
     "output_type": "stream",
     "text": [
      "Generating 2-grams for all namespaces.\n",
      "Generating 1-skips for all namespaces.\n",
      "parsed 5 named labels\n",
      "final_regressor = /home/srivbane/shared/caringbridge/data/projects/qual-health-journeys/journey_phases/vw/phases_simple.model\n",
      "Num weight bits = 27\n",
      "learning rate = 0.5\n",
      "initial_t = 0\n",
      "power_t = 0.5\n",
      "decay_learning_rate = 1\n",
      "creating cache_file = /home/srivbane/shared/caringbridge/data/projects/qual-health-journeys/journey_phases/vw/phase_simple_features.txt.cache\n",
      "Reading datafile = /home/srivbane/shared/caringbridge/data/projects/qual-health-journeys/journey_phases/vw/phase_simple_features.txt\n",
      "num sources = 1\n",
      "average  since         example        example  current  current  current\n",
      "loss     last          counter         weight    label  predict features\n",
      "1.000000 1.000000            1            1.0    known screening      298\n",
      "0.500000 0.000000            2            2.0    known treatment      679\n",
      "0.250000 0.000000            4            4.0    known treatment      553\n",
      "0.250000 0.250000            8            8.0    known treatment     1306\n",
      "0.187500 0.125000           16           16.0    known treatment     1063\n",
      "0.312500 0.437500           32           32.0    known treatment     1201\n",
      "0.218750 0.125000           64           64.0    known treatment      715\n",
      "0.171875 0.125000          128          128.0    known treatment     4720\n",
      "0.173828 0.175781          256          256.0    known treatment      439\n",
      "0.202941 0.202941          512          512.0    known    cured      565 h\n",
      "0.208824 0.214706         1024         1024.0    known treatment      397 h\n",
      "\n",
      "finished run\n",
      "number of examples per pass = 490\n",
      "passes used = 4\n",
      "weighted example sum = 1960.000000\n",
      "weighted label sum = 0.000000\n",
      "average loss = 0.202941 h\n",
      "total feature number = 2554612\n",
      "Generating 2-grams for all namespaces.\n",
      "Generating 1-skips for all namespaces.\n",
      "only testing\n",
      "parsed 5 named labels\n",
      "predictions = /home/srivbane/shared/caringbridge/data/projects/qual-health-journeys/journey_phases/vw/phases_simple_train.pred\n",
      "raw predictions = /home/srivbane/shared/caringbridge/data/projects/qual-health-journeys/journey_phases/vw/phases_simple_train.pred.raw\n",
      "Num weight bits = 27\n",
      "learning rate = 0.5\n",
      "initial_t = 0\n",
      "power_t = 0.5\n",
      "using no cache\n",
      "Reading datafile = /home/srivbane/shared/caringbridge/data/projects/qual-health-journeys/journey_phases/vw/phase_simple_features.txt\n",
      "num sources = 1\n",
      "average  since         example        example  current  current  current\n",
      "loss     last          counter         weight    label  predict features\n",
      "0.000000 0.000000            1            1.0    known treatment      298\n",
      "0.000000 0.000000            2            2.0    known treatment      679\n",
      "0.000000 0.000000            4            4.0    known treatment      553\n",
      "0.000000 0.000000            8            8.0    known info_seeking     1306\n",
      "0.000000 0.000000           16           16.0    known treatment     1063\n",
      "0.015625 0.031250           32           32.0    known treatment     1201\n",
      "0.023438 0.031250           64           64.0    known treatment      715\n",
      "0.027344 0.031250          128          128.0    known treatment     4720\n",
      "0.041016 0.054688          256          256.0    known treatment      439\n",
      "0.050781 0.060547          512          512.0    known treatment     1006\n",
      "\n",
      "finished run\n",
      "number of examples per pass = 660\n",
      "passes used = 1\n",
      "weighted example sum = 660.000000\n",
      "weighted label sum = 0.000000\n",
      "average loss = 0.083333\n",
      "total feature number = 785505\n"
     ]
    }
   ],
   "source": [
    "%%bash -s {vw_working_dir} {vw_phase_simple_filepath} {holdout_after}\n",
    "num_classes=5\n",
    "named_labels=\"screening,info_seeking,treatment,cured,end_of_life\"\n",
    "holdout_after=\"${3}\"\n",
    "echo \"Training on training set (holdout after ${holdout_after} lines).\"\n",
    "train_file=${2}\n",
    "working_dir=${1}\n",
    "model_file=${working_dir}\n",
    "vw -k -c -b 27 --csoaa $num_classes -d ${train_file} -f ${working_dir}/phases_simple.model --passes 20 --holdout_after ${holdout_after} --named_labels $named_labels --spelling _ --ngram 2 --skips 1\n",
    "echo\n",
    "\n",
    "echo \"Making predictions.\"\n",
    "vw -t -i ${working_dir}/phases_simple.model -p ${working_dir}/phases_simple_train.pred -d ${train_file} -r ${working_dir}/phases_simple_train.pred.raw\n",
    "\n",
    "#echo \"Predicting on test set.\"\n",
    "#vw -t -i data/site_features_multiclass.model -d wd/site_features_multiclass_test.txt -p data/site_features_multiclass_test.pred\n",
    "#echo\n",
    " \n",
    "echo \"Finished.\""
   ]
  },
  {
   "cell_type": "code",
   "execution_count": 19,
   "metadata": {
    "scrolled": true
   },
   "outputs": [
    {
     "name": "stdout",
     "output_type": "stream",
     "text": [
      "treatment sid966641joid54d78bd5ac7ee99e33b6f845\r\n",
      "treatment sid855625joid53fd40eaa689b4d867e9ebb0\r\n",
      "treatment sid851522joid54598204cb16b4761aad7ac8\r\n",
      "treatment sid863706joid533f37bfaf3d794879db5d55\r\n",
      "treatment sid867125joid541b743da689b49565e2867e\r\n"
     ]
    }
   ],
   "source": [
    "!head -n 5 /home/srivbane/shared/caringbridge/data/projects/qual-health-journeys/journey_phases/vw/phases_simple_train.pred"
   ]
  },
  {
   "cell_type": "code",
   "execution_count": 20,
   "metadata": {},
   "outputs": [
    {
     "name": "stdout",
     "output_type": "stream",
     "text": [
      "1:1.90416 2:1.49154 3:0.126966 4:1.5524 5:2.21161 sid966641joid54d78bd5ac7ee99e33b6f845\r\n",
      "1:3.20169 2:1.88558 3:0.207284 4:2.17878 5:4.0668 sid855625joid53fd40eaa689b4d867e9ebb0\r\n",
      "1:8.54948 2:2.91463 3:0.617998 4:4.40058 5:12.0571 sid851522joid54598204cb16b4761aad7ac8\r\n",
      "1:2.46295 2:1.25598 3:0.0438145 4:1.34183 5:3.21171 sid863706joid533f37bfaf3d794879db5d55\r\n",
      "1:8.94654 2:2.9771 3:0.866866 4:4.4058 5:13.2578 sid867125joid541b743da689b49565e2867e\r\n"
     ]
    }
   ],
   "source": [
    "!head -n 5 /home/srivbane/shared/caringbridge/data/projects/qual-health-journeys/journey_phases/vw/phases_simple_train.pred.raw"
   ]
  },
  {
   "cell_type": "code",
   "execution_count": 30,
   "metadata": {},
   "outputs": [],
   "source": [
    "def get_phase_predictions_with_weights(pred_filepath, raw_pred_filepath):\n",
    "    \n",
    "    with open(pred_filepath, 'r') as infile:\n",
    "        pred_lines = infile.readlines()\n",
    "    with open(raw_pred_filepath, 'r') as infile:\n",
    "        raw_pred_lines = infile.readlines()\n",
    "        \n",
    "    if len(pred_lines) != len(raw_pred_lines):\n",
    "        raise ValueError(\"Expected predicted and raw files to be the same length.\")\n",
    "    \n",
    "    probs_dict = {}\n",
    "    \n",
    "    dtype_dict = {\"site_id\": int, \n",
    "                                  \"journal_oid\": str,\n",
    "                                  \"predicted_phase\": str,\n",
    "                                  \"screening_prob\": float,\n",
    "                                  \"info_seeking_prob\": float,\n",
    "                                  \"treatment_prob\": float,\n",
    "                                  \"cured_prob\": float,\n",
    "                                  \"end_of_life_prob\": float}\n",
    "    columns = list(dtype_dict.keys())\n",
    "    dtype = [dtype_dict[col] for col in columns]\n",
    "    pred_df = pd.DataFrame(index=range(len(pred_lines)), columns=columns)\n",
    "    \n",
    "    index = 0\n",
    "    for pred_line, raw_pred_line in zip(pred_lines, raw_pred_lines):\n",
    "        phase, journal_id = pred_line.strip().split(\" \")\n",
    "        site_id, journal_oid = journal_id.split(\"joid\")\n",
    "        site_id = int(site_id[3:])\n",
    "        \n",
    "        pred_df.iloc[index][\"site_id\"] = site_id\n",
    "        pred_df.iloc[index][\"journal_oid\"] = journal_oid\n",
    "        pred_df.iloc[index][\"predicted_phase\"] = phase\n",
    "        \n",
    "        \"1:1.60945 2:1.17772 3:0.0127748 4:1.2824 5:1.81819\"\n",
    "        probs = raw_pred_line.strip().split(\" \")\n",
    "        assert probs[-1] == journal_id\n",
    "\n",
    "        class_names = ['screening', 'info_seeking', 'treatment', 'cured', 'end_of_life']\n",
    "        probs = probs[:-1]\n",
    "        assert len(probs) == len(class_names)\n",
    "                                 \n",
    "        for i, class_name in enumerate(class_names):\n",
    "            prob = float(probs[i][2:])\n",
    "            probs[i] = prob\n",
    "            pred_df.iloc[index][class_name + \"_prob\"] = np.exp(prob)\n",
    "            \n",
    "        probs_dict[site_id] = probs\n",
    "        \n",
    "        index += 1\n",
    "    return pred_df, probs_dict"
   ]
  },
  {
   "cell_type": "code",
   "execution_count": 31,
   "metadata": {
    "scrolled": false
   },
   "outputs": [
    {
     "name": "stdout",
     "output_type": "stream",
     "text": [
      "site_id              object\n",
      "journal_oid          object\n",
      "predicted_phase      object\n",
      "screening_prob       object\n",
      "info_seeking_prob    object\n",
      "treatment_prob       object\n",
      "cured_prob           object\n",
      "end_of_life_prob     object\n",
      "dtype: object\n"
     ]
    },
    {
     "data": {
      "text/html": [
       "<div>\n",
       "<style scoped>\n",
       "    .dataframe tbody tr th:only-of-type {\n",
       "        vertical-align: middle;\n",
       "    }\n",
       "\n",
       "    .dataframe tbody tr th {\n",
       "        vertical-align: top;\n",
       "    }\n",
       "\n",
       "    .dataframe thead th {\n",
       "        text-align: right;\n",
       "    }\n",
       "</style>\n",
       "<table border=\"1\" class=\"dataframe\">\n",
       "  <thead>\n",
       "    <tr style=\"text-align: right;\">\n",
       "      <th></th>\n",
       "      <th>site_id</th>\n",
       "      <th>journal_oid</th>\n",
       "      <th>predicted_phase</th>\n",
       "      <th>screening_prob</th>\n",
       "      <th>info_seeking_prob</th>\n",
       "      <th>treatment_prob</th>\n",
       "      <th>cured_prob</th>\n",
       "      <th>end_of_life_prob</th>\n",
       "    </tr>\n",
       "  </thead>\n",
       "  <tbody>\n",
       "    <tr>\n",
       "      <th>0</th>\n",
       "      <td>966641</td>\n",
       "      <td>54d78bd5ac7ee99e33b6f845</td>\n",
       "      <td>treatment</td>\n",
       "      <td>6.71377</td>\n",
       "      <td>4.44393</td>\n",
       "      <td>1.13538</td>\n",
       "      <td>4.72279</td>\n",
       "      <td>9.1304</td>\n",
       "    </tr>\n",
       "    <tr>\n",
       "      <th>1</th>\n",
       "      <td>855625</td>\n",
       "      <td>53fd40eaa689b4d867e9ebb0</td>\n",
       "      <td>treatment</td>\n",
       "      <td>24.574</td>\n",
       "      <td>6.59018</td>\n",
       "      <td>1.23033</td>\n",
       "      <td>8.83552</td>\n",
       "      <td>58.3699</td>\n",
       "    </tr>\n",
       "    <tr>\n",
       "      <th>2</th>\n",
       "      <td>851522</td>\n",
       "      <td>54598204cb16b4761aad7ac8</td>\n",
       "      <td>treatment</td>\n",
       "      <td>5164.07</td>\n",
       "      <td>18.442</td>\n",
       "      <td>1.85521</td>\n",
       "      <td>81.4981</td>\n",
       "      <td>172319</td>\n",
       "    </tr>\n",
       "    <tr>\n",
       "      <th>3</th>\n",
       "      <td>863706</td>\n",
       "      <td>533f37bfaf3d794879db5d55</td>\n",
       "      <td>treatment</td>\n",
       "      <td>11.7394</td>\n",
       "      <td>3.51128</td>\n",
       "      <td>1.04479</td>\n",
       "      <td>3.82604</td>\n",
       "      <td>24.8215</td>\n",
       "    </tr>\n",
       "    <tr>\n",
       "      <th>4</th>\n",
       "      <td>867125</td>\n",
       "      <td>541b743da689b49565e2867e</td>\n",
       "      <td>treatment</td>\n",
       "      <td>7681.27</td>\n",
       "      <td>19.6308</td>\n",
       "      <td>2.37944</td>\n",
       "      <td>81.9247</td>\n",
       "      <td>572518</td>\n",
       "    </tr>\n",
       "  </tbody>\n",
       "</table>\n",
       "</div>"
      ],
      "text/plain": [
       "  site_id               journal_oid predicted_phase screening_prob  \\\n",
       "0  966641  54d78bd5ac7ee99e33b6f845       treatment        6.71377   \n",
       "1  855625  53fd40eaa689b4d867e9ebb0       treatment         24.574   \n",
       "2  851522  54598204cb16b4761aad7ac8       treatment        5164.07   \n",
       "3  863706  533f37bfaf3d794879db5d55       treatment        11.7394   \n",
       "4  867125  541b743da689b49565e2867e       treatment        7681.27   \n",
       "\n",
       "  info_seeking_prob treatment_prob cured_prob end_of_life_prob  \n",
       "0           4.44393        1.13538    4.72279           9.1304  \n",
       "1           6.59018        1.23033    8.83552          58.3699  \n",
       "2            18.442        1.85521    81.4981           172319  \n",
       "3           3.51128        1.04479    3.82604          24.8215  \n",
       "4           19.6308        2.37944    81.9247           572518  "
      ]
     },
     "execution_count": 31,
     "metadata": {},
     "output_type": "execute_result"
    }
   ],
   "source": [
    "pred_df, probs_dict = get_phase_predictions_with_weights(\"/home/srivbane/shared/caringbridge/data/projects/qual-health-journeys/journey_phases/vw/phases_simple_train.pred\",\n",
    "                                  \"/home/srivbane/shared/caringbridge/data/projects/qual-health-journeys/journey_phases/vw/phases_simple_train.pred.raw\")\n",
    "\n",
    "print(pred_df.dtypes)  # datatypes just stay object for now...\n",
    "pred_df.head()"
   ]
  },
  {
   "cell_type": "code",
   "execution_count": 38,
   "metadata": {},
   "outputs": [
    {
     "data": {
      "text/html": [
       "<div>\n",
       "<style scoped>\n",
       "    .dataframe tbody tr th:only-of-type {\n",
       "        vertical-align: middle;\n",
       "    }\n",
       "\n",
       "    .dataframe tbody tr th {\n",
       "        vertical-align: top;\n",
       "    }\n",
       "\n",
       "    .dataframe thead th {\n",
       "        text-align: right;\n",
       "    }\n",
       "</style>\n",
       "<table border=\"1\" class=\"dataframe\">\n",
       "  <thead>\n",
       "    <tr style=\"text-align: right;\">\n",
       "      <th></th>\n",
       "      <th>site_id</th>\n",
       "      <th>journal_oid</th>\n",
       "      <th>predicted_phase</th>\n",
       "      <th>screening_prob</th>\n",
       "      <th>info_seeking_prob</th>\n",
       "      <th>treatment_prob</th>\n",
       "      <th>cured_prob</th>\n",
       "      <th>end_of_life_prob</th>\n",
       "      <th>entropy</th>\n",
       "    </tr>\n",
       "  </thead>\n",
       "  <tbody>\n",
       "    <tr>\n",
       "      <th>0</th>\n",
       "      <td>966641</td>\n",
       "      <td>54d78bd5ac7ee99e33b6f845</td>\n",
       "      <td>treatment</td>\n",
       "      <td>6.71377</td>\n",
       "      <td>4.44393</td>\n",
       "      <td>1.13538</td>\n",
       "      <td>4.72279</td>\n",
       "      <td>9.1304</td>\n",
       "      <td>1.321893</td>\n",
       "    </tr>\n",
       "  </tbody>\n",
       "</table>\n",
       "</div>"
      ],
      "text/plain": [
       "  site_id               journal_oid predicted_phase screening_prob  \\\n",
       "0  966641  54d78bd5ac7ee99e33b6f845       treatment        6.71377   \n",
       "\n",
       "  info_seeking_prob treatment_prob cured_prob end_of_life_prob   entropy  \n",
       "0           4.44393        1.13538    4.72279           9.1304  1.321893  "
      ]
     },
     "execution_count": 38,
     "metadata": {},
     "output_type": "execute_result"
    }
   ],
   "source": [
    "from scipy.stats import entropy\n",
    "entropy_list = [entropy(probs_dict[site_id]) for site_id in pred_df['site_id']]\n",
    "pred_df['entropy'] = entropy_list\n",
    "pred_df.head(n=1)"
   ]
  },
  {
   "cell_type": "code",
   "execution_count": 39,
   "metadata": {},
   "outputs": [
    {
     "name": "stdout",
     "output_type": "stream",
     "text": [
      "Wrote dataframe to '/home/srivbane/shared/caringbridge/data/projects/qual-health-journeys/journey_phases/vw/pred_df.csv'.\n"
     ]
    }
   ],
   "source": [
    "pred_df_filepath = os.path.join(vw_working_dir, \"pred_df.csv\")\n",
    "pred_df.to_csv(pred_df_filepath)\n",
    "print(f\"Wrote dataframe to '{pred_df_filepath}'.\")"
   ]
  },
  {
   "cell_type": "markdown",
   "metadata": {},
   "source": [
    "### Do analysis on the prediction output"
   ]
  },
  {
   "cell_type": "code",
   "execution_count": 28,
   "metadata": {},
   "outputs": [
    {
     "name": "stdout",
     "output_type": "stream",
     "text": [
      "treatment|unknown info_seeking\n",
      "cured treatment\n",
      "info_seeking treatment\n",
      "cured treatment\n",
      "cured treatment\n",
      "treatment|unknown info_seeking\n",
      "info_seeking treatment\n",
      "cured treatment\n",
      "treatment cured\n",
      "treatment cured\n",
      "info_seeking treatment\n",
      "info_seeking treatment\n",
      "cured info_seeking\n",
      "cured info_seeking\n",
      "cured treatment\n",
      "cured treatment\n",
      "info_seeking treatment\n",
      "screening treatment\n",
      "cured treatment\n",
      "info_seeking treatment\n",
      "cured info_seeking\n",
      "screening|info_seeking treatment\n",
      "screening|info_seeking treatment\n",
      "info_seeking|unknown treatment\n",
      "cured|unknown treatment\n",
      "info_seeking treatment\n",
      "treatment info_seeking\n",
      "screening|info_seeking treatment\n",
      "screening|info_seeking treatment\n",
      "treatment info_seeking\n",
      "info_seeking treatment\n",
      "Overall accuracy: 0.88 (predicted phase in-list accuracy: 0.95)\n",
      "Validation accuracy: 0.79 (predicted phase in-list accuracy: 0.87)\n"
     ]
    }
   ],
   "source": [
    "# compute rough accuracy measure\n",
    "count = 0\n",
    "total_correct = 0\n",
    "weighted_correct = 0\n",
    "\n",
    "valid_count = 0\n",
    "valid_total_correct = 0\n",
    "valid_weighted_correct = 0\n",
    "with open(\"/home/srivbane/shared/caringbridge/data/projects/qual-health-journeys/journey_phases/vw/phases_simple_train.pred\", 'r') as infile:\n",
    "    for line in infile:\n",
    "        if line.strip() == \"\":\n",
    "            continue\n",
    "        phase, journal_id = line.strip().split(\" \")\n",
    "        site_id, journal_oid = journal_id.split(\"joid\")\n",
    "        site_id = int(site_id[3:])\n",
    "        #print(site_id, journal_oid, phase)\n",
    "        row = df[(df['site_id'] == site_id) & (df['journal_oid'] == journal_oid)].iloc[0]\n",
    "        if row['data'] == \"unknown\":\n",
    "            continue\n",
    "        if row['data'] == phase:\n",
    "            total_correct += 1\n",
    "        if phase in row['data']:\n",
    "            weighted_correct += 1\n",
    "        else:\n",
    "            print(row['data'], phase)\n",
    "        count += 1\n",
    "        \n",
    "        # now specifically handle lines that were from the validation set\n",
    "        if site_id in valid_site_ids:\n",
    "            if row['data'] == \"unknown\":\n",
    "                continue\n",
    "            if row['data'] == phase:\n",
    "                valid_total_correct += 1\n",
    "            if phase in row['data']:\n",
    "                valid_weighted_correct += 1\n",
    "            valid_count += 1\n",
    "            \n",
    "print(f\"Overall accuracy: {total_correct / count:.2f} (predicted phase in-list accuracy: {weighted_correct / count:.2f})\")\n",
    "print(f\"Validation accuracy: {valid_total_correct / valid_count:.2f} (predicted phase in-list accuracy: {valid_weighted_correct / valid_count:.2f})\")"
   ]
  },
  {
   "cell_type": "code",
   "execution_count": 29,
   "metadata": {
    "scrolled": true
   },
   "outputs": [
    {
     "data": {
      "text/html": [
       "<div>\n",
       "<style scoped>\n",
       "    .dataframe tbody tr th:only-of-type {\n",
       "        vertical-align: middle;\n",
       "    }\n",
       "\n",
       "    .dataframe tbody tr th {\n",
       "        vertical-align: top;\n",
       "    }\n",
       "\n",
       "    .dataframe thead th {\n",
       "        text-align: right;\n",
       "    }\n",
       "</style>\n",
       "<table border=\"1\" class=\"dataframe\">\n",
       "  <thead>\n",
       "    <tr style=\"text-align: right;\">\n",
       "      <th></th>\n",
       "      <th>site_id</th>\n",
       "      <th>journal_oid</th>\n",
       "      <th>predicted_phase</th>\n",
       "      <th>screening_prob</th>\n",
       "      <th>info_seeking_prob</th>\n",
       "      <th>treatment_prob</th>\n",
       "      <th>cured_prob</th>\n",
       "      <th>end_of_life_prob</th>\n",
       "    </tr>\n",
       "  </thead>\n",
       "  <tbody>\n",
       "    <tr>\n",
       "      <th>231</th>\n",
       "      <td>851522</td>\n",
       "      <td>52b8eee7a689b41835dabc6d</td>\n",
       "      <td>info_seeking</td>\n",
       "      <td>2.89472</td>\n",
       "      <td>2.68057</td>\n",
       "      <td>2.76782</td>\n",
       "      <td>3.00943</td>\n",
       "      <td>4.73064</td>\n",
       "    </tr>\n",
       "    <tr>\n",
       "      <th>360</th>\n",
       "      <td>867125</td>\n",
       "      <td>530d2b19cb16b44824bf6700</td>\n",
       "      <td>info_seeking</td>\n",
       "      <td>9184.66</td>\n",
       "      <td>2.81587</td>\n",
       "      <td>4.00771</td>\n",
       "      <td>30.2683</td>\n",
       "      <td>432440</td>\n",
       "    </tr>\n",
       "    <tr>\n",
       "      <th>404</th>\n",
       "      <td>888277</td>\n",
       "      <td>53c32e66cb16b4232f2bd5e7</td>\n",
       "      <td>cured</td>\n",
       "      <td>11.2126</td>\n",
       "      <td>2.87215</td>\n",
       "      <td>3.85411</td>\n",
       "      <td>2.83831</td>\n",
       "      <td>42.9016</td>\n",
       "    </tr>\n",
       "    <tr>\n",
       "      <th>424</th>\n",
       "      <td>839971</td>\n",
       "      <td>534308c2af3d79af2379f2a9</td>\n",
       "      <td>treatment</td>\n",
       "      <td>25.6887</td>\n",
       "      <td>3.32357</td>\n",
       "      <td>2.90418</td>\n",
       "      <td>5.51598</td>\n",
       "      <td>78.0219</td>\n",
       "    </tr>\n",
       "    <tr>\n",
       "      <th>281</th>\n",
       "      <td>1022397</td>\n",
       "      <td>55307acecb16b4db1d11459c</td>\n",
       "      <td>treatment</td>\n",
       "      <td>238137</td>\n",
       "      <td>5.0581</td>\n",
       "      <td>2.97996</td>\n",
       "      <td>75.3655</td>\n",
       "      <td>4.26569e+07</td>\n",
       "    </tr>\n",
       "    <tr>\n",
       "      <th>632</th>\n",
       "      <td>845819</td>\n",
       "      <td>52a0d149e9cb6aba311fee1c</td>\n",
       "      <td>treatment</td>\n",
       "      <td>3.33359e+10</td>\n",
       "      <td>62.7419</td>\n",
       "      <td>3.20541</td>\n",
       "      <td>13739.8</td>\n",
       "      <td>4.54862e+15</td>\n",
       "    </tr>\n",
       "    <tr>\n",
       "      <th>45</th>\n",
       "      <td>882253</td>\n",
       "      <td>5521c625ab28b96408911610</td>\n",
       "      <td>treatment</td>\n",
       "      <td>1457.88</td>\n",
       "      <td>7.93251</td>\n",
       "      <td>3.23028</td>\n",
       "      <td>3.69644</td>\n",
       "      <td>29735.6</td>\n",
       "    </tr>\n",
       "    <tr>\n",
       "      <th>78</th>\n",
       "      <td>1022397</td>\n",
       "      <td>552dddcfaf3d79b402285b35</td>\n",
       "      <td>treatment</td>\n",
       "      <td>5.95186e+07</td>\n",
       "      <td>8.09325</td>\n",
       "      <td>3.57634</td>\n",
       "      <td>512.361</td>\n",
       "      <td>3.82349e+11</td>\n",
       "    </tr>\n",
       "    <tr>\n",
       "      <th>276</th>\n",
       "      <td>1022397</td>\n",
       "      <td>552de41b4db921da215e790b</td>\n",
       "      <td>treatment</td>\n",
       "      <td>4.77784e+06</td>\n",
       "      <td>8.09203</td>\n",
       "      <td>3.74593</td>\n",
       "      <td>145.755</td>\n",
       "      <td>7.93778e+09</td>\n",
       "    </tr>\n",
       "    <tr>\n",
       "      <th>111</th>\n",
       "      <td>888277</td>\n",
       "      <td>54d7c785ac7ee95069b6fcfa</td>\n",
       "      <td>treatment</td>\n",
       "      <td>595.553</td>\n",
       "      <td>11.0985</td>\n",
       "      <td>4.32469</td>\n",
       "      <td>4.4617</td>\n",
       "      <td>7214.8</td>\n",
       "    </tr>\n",
       "  </tbody>\n",
       "</table>\n",
       "</div>"
      ],
      "text/plain": [
       "     site_id               journal_oid predicted_phase screening_prob  \\\n",
       "231   851522  52b8eee7a689b41835dabc6d    info_seeking        2.89472   \n",
       "360   867125  530d2b19cb16b44824bf6700    info_seeking        9184.66   \n",
       "404   888277  53c32e66cb16b4232f2bd5e7           cured        11.2126   \n",
       "424   839971  534308c2af3d79af2379f2a9       treatment        25.6887   \n",
       "281  1022397  55307acecb16b4db1d11459c       treatment         238137   \n",
       "632   845819  52a0d149e9cb6aba311fee1c       treatment    3.33359e+10   \n",
       "45    882253  5521c625ab28b96408911610       treatment        1457.88   \n",
       "78   1022397  552dddcfaf3d79b402285b35       treatment    5.95186e+07   \n",
       "276  1022397  552de41b4db921da215e790b       treatment    4.77784e+06   \n",
       "111   888277  54d7c785ac7ee95069b6fcfa       treatment        595.553   \n",
       "\n",
       "    info_seeking_prob treatment_prob cured_prob end_of_life_prob  \n",
       "231           2.68057        2.76782    3.00943          4.73064  \n",
       "360           2.81587        4.00771    30.2683           432440  \n",
       "404           2.87215        3.85411    2.83831          42.9016  \n",
       "424           3.32357        2.90418    5.51598          78.0219  \n",
       "281            5.0581        2.97996    75.3655      4.26569e+07  \n",
       "632           62.7419        3.20541    13739.8      4.54862e+15  \n",
       "45            7.93251        3.23028    3.69644          29735.6  \n",
       "78            8.09325        3.57634    512.361      3.82349e+11  \n",
       "276           8.09203        3.74593    145.755      7.93778e+09  \n",
       "111           11.0985        4.32469     4.4617           7214.8  "
      ]
     },
     "execution_count": 29,
     "metadata": {},
     "output_type": "execute_result"
    }
   ],
   "source": [
    "prob_df = pred_df[[col for col in pred_df.columns if \"_prob\" in col]]\n",
    "avg_probs = prob_df.apply(lambda row: np.min(row), axis=1)\n",
    "pred_df.loc[avg_probs.sort_values()[-10:].index]"
   ]
  },
  {
   "cell_type": "code",
   "execution_count": 30,
   "metadata": {},
   "outputs": [
    {
     "data": {
      "text/plain": [
       "(660, 0.9212121212121213)"
      ]
     },
     "execution_count": 30,
     "metadata": {},
     "output_type": "execute_result"
    }
   ],
   "source": [
    "# for treating it not as a multiclass problem, we construct the true and predicted labels as single label assignments\n",
    "y_pred = []\n",
    "y_true = []\n",
    "\n",
    "for i in range(len(pred_df)):\n",
    "    pred_row = pred_df.iloc[i]\n",
    "    site_id = pred_row['site_id']\n",
    "    journal_oid = pred_row['journal_oid']\n",
    "    true_row = df[(df['site_id'] == site_id) & (df['journal_oid'] == journal_oid)].iloc[0]\n",
    "    \n",
    "    predicted_phase = pred_row['predicted_phase']\n",
    "    true_phase = true_row['data']\n",
    "    if predicted_phase in true_phase:\n",
    "        true_phase = predicted_phase\n",
    "    elif len(true_phase.split(\"|\")) > 1:\n",
    "        true_phase = true_phase.split(\"|\")[0]\n",
    "    \n",
    "    y_pred.append(predicted_phase)\n",
    "    y_true.append(true_phase)\n",
    "\n",
    "y_pred = np.array(y_pred)\n",
    "y_true = np.array(y_true)\n",
    "len(y_true), np.sum(y_pred == y_true) / len(y_true)"
   ]
  },
  {
   "cell_type": "code",
   "execution_count": 31,
   "metadata": {},
   "outputs": [
    {
     "data": {
      "text/plain": [
       "[('treatment', 502),\n",
       " ('info_seeking', 87),\n",
       " ('cured', 43),\n",
       " ('unknown', 21),\n",
       " ('screening', 7)]"
      ]
     },
     "execution_count": 31,
     "metadata": {},
     "output_type": "execute_result"
    }
   ],
   "source": [
    "Counter(y_true).most_common()"
   ]
  },
  {
   "cell_type": "code",
   "execution_count": 32,
   "metadata": {},
   "outputs": [
    {
     "data": {
      "text/plain": [
       "(94, 0.8191489361702128)"
      ]
     },
     "execution_count": 32,
     "metadata": {},
     "output_type": "execute_result"
    }
   ],
   "source": [
    "# and also just on the validation set\n",
    "y_pred_valid = []\n",
    "y_true_valid = []\n",
    "\n",
    "for i in range(len(pred_df)):\n",
    "    pred_row = pred_df.iloc[i]\n",
    "    site_id = pred_row['site_id']\n",
    "    journal_oid = pred_row['journal_oid']\n",
    "    \n",
    "    if site_id not in valid_site_ids:\n",
    "        continue\n",
    "    \n",
    "    true_row = df[(df['site_id'] == site_id) & (df['journal_oid'] == journal_oid)].iloc[0]\n",
    "    \n",
    "    predicted_phase = pred_row['predicted_phase']\n",
    "    true_phase = true_row['data']\n",
    "    if predicted_phase in true_phase:\n",
    "        true_phase = predicted_phase\n",
    "    elif len(true_phase.split(\"|\")) > 1:\n",
    "        true_phase = true_phase.split(\"|\")[0]\n",
    "    \n",
    "    y_pred_valid.append(predicted_phase)\n",
    "    y_true_valid.append(true_phase)\n",
    "\n",
    "y_pred_valid = np.array(y_pred_valid)\n",
    "y_true_valid = np.array(y_true_valid)\n",
    "len(y_true_valid), np.sum(y_pred_valid == y_true_valid) / len(y_true_valid)"
   ]
  },
  {
   "cell_type": "code",
   "execution_count": 33,
   "metadata": {},
   "outputs": [
    {
     "name": "stderr",
     "output_type": "stream",
     "text": [
      "/home/srivbane/levon003/anaconda3/lib/python3.6/site-packages/ipykernel_launcher.py:20: RuntimeWarning: invalid value encountered in true_divide\n"
     ]
    },
    {
     "data": {
      "image/png": "[encoded data removed]",
      "text/plain": [
       "<Figure size 648x648 with 2 Axes>"
      ]
     },
     "metadata": {},
     "output_type": "display_data"
    },
    {
     "data": {
      "image/png": "[encoded data removed]",
      "text/plain": [
       "<Figure size 648x648 with 2 Axes>"
      ]
     },
     "metadata": {},
     "output_type": "display_data"
    }
   ],
   "source": [
    "%matplotlib inline\n",
    "import itertools\n",
    "import numpy as np\n",
    "import matplotlib.pyplot as plt\n",
    "\n",
    "from sklearn import svm, datasets\n",
    "from sklearn.model_selection import train_test_split\n",
    "from sklearn.metrics import confusion_matrix\n",
    "\n",
    "# vis code borrowed from: http://scikit-learn.org/stable/auto_examples/model_selection/plot_confusion_matrix.html\n",
    "def plot_confusion_matrix(cm, classes,\n",
    "                          normalize=False,\n",
    "                          title='Confusion matrix',\n",
    "                          cmap=plt.cm.Blues, print_cm=False):\n",
    "    \"\"\"\n",
    "    This function prints and plots the confusion matrix.\n",
    "    Normalization can be applied by setting `normalize=True`.\n",
    "    \"\"\"\n",
    "    if normalize:\n",
    "        cm = cm.astype('float') / cm.sum(axis=1)[:, np.newaxis]\n",
    "    if print_cm:\n",
    "        if normalize:\n",
    "            print(\"Normalized confusion matrix\")\n",
    "        else:\n",
    "            print('Confusion matrix, without normalization')\n",
    "        print(cm)\n",
    "\n",
    "    plt.imshow(cm, interpolation='nearest', cmap=cmap)\n",
    "    plt.title(title)\n",
    "    plt.colorbar()\n",
    "    tick_marks = np.arange(len(classes))\n",
    "    plt.xticks(tick_marks, classes, rotation=90)\n",
    "    plt.yticks(tick_marks, classes)\n",
    "\n",
    "    fmt = '.2f' if normalize else 'd'\n",
    "    thresh = cm.max() / 2.\n",
    "    for i, j in itertools.product(range(cm.shape[0]), range(cm.shape[1])):\n",
    "        plt.text(j, i, format(cm[i, j], fmt),\n",
    "                 horizontalalignment=\"center\",\n",
    "                 color=\"white\" if cm[i, j] > thresh else \"black\")\n",
    "\n",
    "    #plt.tight_layout()\n",
    "    plt.ylabel('True label')\n",
    "    plt.xlabel('Predicted label')\n",
    "\n",
    "fig_size = (9,9)\n",
    "\n",
    "# Compute confusion matrix\n",
    "cnf_matrix = confusion_matrix(y_true, y_pred, labels=all_phases)\n",
    "np.set_printoptions(precision=2)\n",
    "\n",
    "# Plot non-normalized confusion matrix\n",
    "plt.figure(figsize=fig_size)\n",
    "plot_confusion_matrix(cnf_matrix, classes=all_phases,\n",
    "                      title='Confusion matrix')\n",
    "\n",
    "# Plot normalized confusion matrix\n",
    "plt.figure(figsize=fig_size)\n",
    "plot_confusion_matrix(cnf_matrix, classes=all_phases, normalize=True,\n",
    "                      title='Normalized confusion matrix')\n",
    "\n",
    "\n",
    "plt.show()"
   ]
  },
  {
   "cell_type": "code",
   "execution_count": 34,
   "metadata": {},
   "outputs": [
    {
     "name": "stderr",
     "output_type": "stream",
     "text": [
      "/home/srivbane/levon003/anaconda3/lib/python3.6/site-packages/ipykernel_launcher.py:20: RuntimeWarning: invalid value encountered in true_divide\n"
     ]
    },
    {
     "data": {
      "image/png": "[encoded data removed]",
      "text/plain": [
       "<Figure size 648x648 with 2 Axes>"
      ]
     },
     "metadata": {},
     "output_type": "display_data"
    },
    {
     "data": {
      "image/png": "[encoded data removed]",
      "text/plain": [
       "<Figure size 648x648 with 2 Axes>"
      ]
     },
     "metadata": {},
     "output_type": "display_data"
    }
   ],
   "source": [
    "# Compute confusion matrix just on the holdout set\n",
    "cnf_matrix = confusion_matrix(y_true_valid, y_pred_valid, labels=all_phases)\n",
    "np.set_printoptions(precision=2)\n",
    "\n",
    "# Plot non-normalized confusion matrix\n",
    "plt.figure(figsize=fig_size)\n",
    "plot_confusion_matrix(cnf_matrix, classes=all_phases,\n",
    "                      title='Confusion matrix (Validation)')\n",
    "\n",
    "# Plot normalized confusion matrix\n",
    "plt.figure(figsize=fig_size)\n",
    "plot_confusion_matrix(cnf_matrix, classes=all_phases, normalize=True,\n",
    "                      title='Normalized confusion matrix (Validation)')\n",
    "\n",
    "\n",
    "plt.show()"
   ]
  },
  {
   "cell_type": "code",
   "execution_count": 35,
   "metadata": {},
   "outputs": [
    {
     "name": "stdout",
     "output_type": "stream",
     "text": [
      "Classification report:\n",
      "              precision    recall  f1-score   support\n",
      "\n",
      "   screening       1.00      0.29      0.44         7\n",
      "info_seeking       0.87      0.90      0.88        87\n",
      "   treatment       0.94      0.99      0.96       502\n",
      "       cured       0.84      0.74      0.79        43\n",
      " end_of_life       0.00      0.00      0.00         0\n",
      "\n",
      " avg / total       0.92      0.95      0.93       639\n",
      "\n"
     ]
    },
    {
     "name": "stderr",
     "output_type": "stream",
     "text": [
      "/home/srivbane/levon003/anaconda3/lib/python3.6/site-packages/sklearn/metrics/classification.py:1135: UndefinedMetricWarning: Precision and F-score are ill-defined and being set to 0.0 in labels with no predicted samples.\n",
      "  'precision', 'predicted', average, warn_for)\n",
      "/home/srivbane/levon003/anaconda3/lib/python3.6/site-packages/sklearn/metrics/classification.py:1137: UndefinedMetricWarning: Recall and F-score are ill-defined and being set to 0.0 in labels with no true samples.\n",
      "  'recall', 'true', average, warn_for)\n"
     ]
    }
   ],
   "source": [
    "from sklearn.metrics import classification_report\n",
    "\n",
    "print(\"Classification report:\")\n",
    "print(classification_report(y_true, y_pred, labels=all_phases))"
   ]
  },
  {
   "cell_type": "markdown",
   "metadata": {
    "collapsed": true
   },
   "source": [
    "## Uncertainty sampling"
   ]
  },
  {
   "cell_type": "markdown",
   "metadata": {},
   "source": [
    "### Entropy"
   ]
  },
  {
   "cell_type": "code",
   "execution_count": 46,
   "metadata": {},
   "outputs": [
    {
     "data": {
      "text/html": [
       "<div>\n",
       "<style scoped>\n",
       "    .dataframe tbody tr th:only-of-type {\n",
       "        vertical-align: middle;\n",
       "    }\n",
       "\n",
       "    .dataframe tbody tr th {\n",
       "        vertical-align: top;\n",
       "    }\n",
       "\n",
       "    .dataframe thead th {\n",
       "        text-align: right;\n",
       "    }\n",
       "</style>\n",
       "<table border=\"1\" class=\"dataframe\">\n",
       "  <thead>\n",
       "    <tr style=\"text-align: right;\">\n",
       "      <th></th>\n",
       "      <th>site_id</th>\n",
       "      <th>journal_oid</th>\n",
       "      <th>predicted_phase</th>\n",
       "      <th>screening_prob</th>\n",
       "      <th>info_seeking_prob</th>\n",
       "      <th>treatment_prob</th>\n",
       "      <th>cured_prob</th>\n",
       "      <th>end_of_life_prob</th>\n",
       "      <th>entropy</th>\n",
       "    </tr>\n",
       "  </thead>\n",
       "  <tbody>\n",
       "    <tr>\n",
       "      <th>24</th>\n",
       "      <td>987982</td>\n",
       "      <td>54de01d5ac7ee9c737db1dad</td>\n",
       "      <td>info_seeking</td>\n",
       "      <td>4.09043</td>\n",
       "      <td>1.00061</td>\n",
       "      <td>2.9905</td>\n",
       "      <td>3.62082</td>\n",
       "      <td>5.77143</td>\n",
       "      <td>1.602166</td>\n",
       "    </tr>\n",
       "    <tr>\n",
       "      <th>136</th>\n",
       "      <td>987982</td>\n",
       "      <td>54de047e4db921df2809e5f6</td>\n",
       "      <td>info_seeking</td>\n",
       "      <td>4.6252</td>\n",
       "      <td>1.1525</td>\n",
       "      <td>2.80844</td>\n",
       "      <td>2.92306</td>\n",
       "      <td>8.08936</td>\n",
       "      <td>1.602166</td>\n",
       "    </tr>\n",
       "    <tr>\n",
       "      <th>342</th>\n",
       "      <td>987982</td>\n",
       "      <td>54dbea22cb16b4013d6474e9</td>\n",
       "      <td>screening</td>\n",
       "      <td>2.12323</td>\n",
       "      <td>3.14492</td>\n",
       "      <td>2.91491</td>\n",
       "      <td>3.41737</td>\n",
       "      <td>14.5376</td>\n",
       "      <td>1.602166</td>\n",
       "    </tr>\n",
       "    <tr>\n",
       "      <th>105</th>\n",
       "      <td>987982</td>\n",
       "      <td>54dbebabac7ee96c62e1640f</td>\n",
       "      <td>info_seeking</td>\n",
       "      <td>2.05767</td>\n",
       "      <td>1.02685</td>\n",
       "      <td>1.71577</td>\n",
       "      <td>1.92026</td>\n",
       "      <td>2.24079</td>\n",
       "      <td>1.602166</td>\n",
       "    </tr>\n",
       "    <tr>\n",
       "      <th>121</th>\n",
       "      <td>987982</td>\n",
       "      <td>556e642fac7ee98018008042</td>\n",
       "      <td>treatment</td>\n",
       "      <td>10.2007</td>\n",
       "      <td>2.44922</td>\n",
       "      <td>1.03324</td>\n",
       "      <td>3.89947</td>\n",
       "      <td>24.7469</td>\n",
       "      <td>1.602166</td>\n",
       "    </tr>\n",
       "    <tr>\n",
       "      <th>487</th>\n",
       "      <td>987982</td>\n",
       "      <td>5518bd84a689b46a3102fadf</td>\n",
       "      <td>treatment</td>\n",
       "      <td>1.10221</td>\n",
       "      <td>1.0965</td>\n",
       "      <td>1.07165</td>\n",
       "      <td>1.09465</td>\n",
       "      <td>1.10278</td>\n",
       "      <td>1.602166</td>\n",
       "    </tr>\n",
       "    <tr>\n",
       "      <th>310</th>\n",
       "      <td>987982</td>\n",
       "      <td>54dbeced8b5cd3d83549308a</td>\n",
       "      <td>info_seeking</td>\n",
       "      <td>9.64549</td>\n",
       "      <td>1.14351</td>\n",
       "      <td>2.91209</td>\n",
       "      <td>4.22644</td>\n",
       "      <td>26.0764</td>\n",
       "      <td>1.602166</td>\n",
       "    </tr>\n",
       "    <tr>\n",
       "      <th>165</th>\n",
       "      <td>1026937</td>\n",
       "      <td>573bb07ca589b44c08853b9d</td>\n",
       "      <td>treatment</td>\n",
       "      <td>5.25763</td>\n",
       "      <td>3.78418</td>\n",
       "      <td>1.12994</td>\n",
       "      <td>3.70165</td>\n",
       "      <td>8.3489</td>\n",
       "      <td>1.433274</td>\n",
       "    </tr>\n",
       "    <tr>\n",
       "      <th>601</th>\n",
       "      <td>1023926</td>\n",
       "      <td>569d8d50ac7ee91e4f798665</td>\n",
       "      <td>treatment</td>\n",
       "      <td>6.48207</td>\n",
       "      <td>2.55964</td>\n",
       "      <td>1.63112</td>\n",
       "      <td>2.49803</td>\n",
       "      <td>13.748</td>\n",
       "      <td>1.424424</td>\n",
       "    </tr>\n",
       "    <tr>\n",
       "      <th>525</th>\n",
       "      <td>1023926</td>\n",
       "      <td>55353aaf4db921ab270faa32</td>\n",
       "      <td>treatment</td>\n",
       "      <td>5.07299</td>\n",
       "      <td>2.32467</td>\n",
       "      <td>1.07481</td>\n",
       "      <td>2.43348</td>\n",
       "      <td>8.22049</td>\n",
       "      <td>1.424424</td>\n",
       "    </tr>\n",
       "    <tr>\n",
       "      <th>544</th>\n",
       "      <td>1023926</td>\n",
       "      <td>55c82cf4a689b49d339161b5</td>\n",
       "      <td>treatment</td>\n",
       "      <td>9.38657</td>\n",
       "      <td>2.2486</td>\n",
       "      <td>1.51361</td>\n",
       "      <td>3.62575</td>\n",
       "      <td>26.1712</td>\n",
       "      <td>1.424424</td>\n",
       "    </tr>\n",
       "    <tr>\n",
       "      <th>511</th>\n",
       "      <td>1023926</td>\n",
       "      <td>55ad7970af3d79114c3d52e1</td>\n",
       "      <td>treatment</td>\n",
       "      <td>44.1684</td>\n",
       "      <td>5.42317</td>\n",
       "      <td>1.18386</td>\n",
       "      <td>7.10252</td>\n",
       "      <td>207.122</td>\n",
       "      <td>1.424424</td>\n",
       "    </tr>\n",
       "    <tr>\n",
       "      <th>501</th>\n",
       "      <td>1023926</td>\n",
       "      <td>559fc0fff02065f56b0d0f98</td>\n",
       "      <td>treatment</td>\n",
       "      <td>67.6684</td>\n",
       "      <td>6.5408</td>\n",
       "      <td>1.24014</td>\n",
       "      <td>7.40266</td>\n",
       "      <td>312.736</td>\n",
       "      <td>1.424424</td>\n",
       "    </tr>\n",
       "    <tr>\n",
       "      <th>548</th>\n",
       "      <td>1023926</td>\n",
       "      <td>57471e3da589b47e5b4c5f36</td>\n",
       "      <td>treatment</td>\n",
       "      <td>5.55834</td>\n",
       "      <td>2.10049</td>\n",
       "      <td>1.01827</td>\n",
       "      <td>2.38029</td>\n",
       "      <td>12.3859</td>\n",
       "      <td>1.424424</td>\n",
       "    </tr>\n",
       "    <tr>\n",
       "      <th>542</th>\n",
       "      <td>1023926</td>\n",
       "      <td>572bf09eca16b4eb7011d5f3</td>\n",
       "      <td>treatment</td>\n",
       "      <td>1.94377</td>\n",
       "      <td>1.3596</td>\n",
       "      <td>1.22015</td>\n",
       "      <td>1.45278</td>\n",
       "      <td>2.41027</td>\n",
       "      <td>1.424424</td>\n",
       "    </tr>\n",
       "    <tr>\n",
       "      <th>541</th>\n",
       "      <td>1023926</td>\n",
       "      <td>558c7855ac7ee959759a9c8b</td>\n",
       "      <td>treatment</td>\n",
       "      <td>60.8189</td>\n",
       "      <td>4.54128</td>\n",
       "      <td>2.22899</td>\n",
       "      <td>8.58211</td>\n",
       "      <td>369.455</td>\n",
       "      <td>1.424424</td>\n",
       "    </tr>\n",
       "    <tr>\n",
       "      <th>504</th>\n",
       "      <td>1023926</td>\n",
       "      <td>5548504fa589b47c0ff7f4cd</td>\n",
       "      <td>treatment</td>\n",
       "      <td>2.35789</td>\n",
       "      <td>1.25199</td>\n",
       "      <td>1.04988</td>\n",
       "      <td>1.56144</td>\n",
       "      <td>3.74567</td>\n",
       "      <td>1.424424</td>\n",
       "    </tr>\n",
       "    <tr>\n",
       "      <th>607</th>\n",
       "      <td>1023926</td>\n",
       "      <td>554413e54db9219b06638544</td>\n",
       "      <td>treatment</td>\n",
       "      <td>3.54738</td>\n",
       "      <td>1.34663</td>\n",
       "      <td>1.22522</td>\n",
       "      <td>2.13063</td>\n",
       "      <td>5.73914</td>\n",
       "      <td>1.424424</td>\n",
       "    </tr>\n",
       "    <tr>\n",
       "      <th>507</th>\n",
       "      <td>1023926</td>\n",
       "      <td>564804d9a689b418043eb22c</td>\n",
       "      <td>treatment</td>\n",
       "      <td>2.44864</td>\n",
       "      <td>1.83369</td>\n",
       "      <td>1.1534</td>\n",
       "      <td>1.84889</td>\n",
       "      <td>3.19201</td>\n",
       "      <td>1.424424</td>\n",
       "    </tr>\n",
       "    <tr>\n",
       "      <th>628</th>\n",
       "      <td>1023926</td>\n",
       "      <td>5744ae15ac7ee9b1468fb703</td>\n",
       "      <td>treatment</td>\n",
       "      <td>19.6855</td>\n",
       "      <td>2.32677</td>\n",
       "      <td>1.07921</td>\n",
       "      <td>5.02859</td>\n",
       "      <td>85.2331</td>\n",
       "      <td>1.424424</td>\n",
       "    </tr>\n",
       "  </tbody>\n",
       "</table>\n",
       "</div>"
      ],
      "text/plain": [
       "     site_id               journal_oid predicted_phase screening_prob  \\\n",
       "24    987982  54de01d5ac7ee9c737db1dad    info_seeking        4.09043   \n",
       "136   987982  54de047e4db921df2809e5f6    info_seeking         4.6252   \n",
       "342   987982  54dbea22cb16b4013d6474e9       screening        2.12323   \n",
       "105   987982  54dbebabac7ee96c62e1640f    info_seeking        2.05767   \n",
       "121   987982  556e642fac7ee98018008042       treatment        10.2007   \n",
       "487   987982  5518bd84a689b46a3102fadf       treatment        1.10221   \n",
       "310   987982  54dbeced8b5cd3d83549308a    info_seeking        9.64549   \n",
       "165  1026937  573bb07ca589b44c08853b9d       treatment        5.25763   \n",
       "601  1023926  569d8d50ac7ee91e4f798665       treatment        6.48207   \n",
       "525  1023926  55353aaf4db921ab270faa32       treatment        5.07299   \n",
       "544  1023926  55c82cf4a689b49d339161b5       treatment        9.38657   \n",
       "511  1023926  55ad7970af3d79114c3d52e1       treatment        44.1684   \n",
       "501  1023926  559fc0fff02065f56b0d0f98       treatment        67.6684   \n",
       "548  1023926  57471e3da589b47e5b4c5f36       treatment        5.55834   \n",
       "542  1023926  572bf09eca16b4eb7011d5f3       treatment        1.94377   \n",
       "541  1023926  558c7855ac7ee959759a9c8b       treatment        60.8189   \n",
       "504  1023926  5548504fa589b47c0ff7f4cd       treatment        2.35789   \n",
       "607  1023926  554413e54db9219b06638544       treatment        3.54738   \n",
       "507  1023926  564804d9a689b418043eb22c       treatment        2.44864   \n",
       "628  1023926  5744ae15ac7ee9b1468fb703       treatment        19.6855   \n",
       "\n",
       "    info_seeking_prob treatment_prob cured_prob end_of_life_prob   entropy  \n",
       "24            1.00061         2.9905    3.62082          5.77143  1.602166  \n",
       "136            1.1525        2.80844    2.92306          8.08936  1.602166  \n",
       "342           3.14492        2.91491    3.41737          14.5376  1.602166  \n",
       "105           1.02685        1.71577    1.92026          2.24079  1.602166  \n",
       "121           2.44922        1.03324    3.89947          24.7469  1.602166  \n",
       "487            1.0965        1.07165    1.09465          1.10278  1.602166  \n",
       "310           1.14351        2.91209    4.22644          26.0764  1.602166  \n",
       "165           3.78418        1.12994    3.70165           8.3489  1.433274  \n",
       "601           2.55964        1.63112    2.49803           13.748  1.424424  \n",
       "525           2.32467        1.07481    2.43348          8.22049  1.424424  \n",
       "544            2.2486        1.51361    3.62575          26.1712  1.424424  \n",
       "511           5.42317        1.18386    7.10252          207.122  1.424424  \n",
       "501            6.5408        1.24014    7.40266          312.736  1.424424  \n",
       "548           2.10049        1.01827    2.38029          12.3859  1.424424  \n",
       "542            1.3596        1.22015    1.45278          2.41027  1.424424  \n",
       "541           4.54128        2.22899    8.58211          369.455  1.424424  \n",
       "504           1.25199        1.04988    1.56144          3.74567  1.424424  \n",
       "607           1.34663        1.22522    2.13063          5.73914  1.424424  \n",
       "507           1.83369         1.1534    1.84889          3.19201  1.424424  \n",
       "628           2.32677        1.07921    5.02859          85.2331  1.424424  "
      ]
     },
     "execution_count": 46,
     "metadata": {},
     "output_type": "execute_result"
    }
   ],
   "source": [
    "# These are the predicted values with the highest entropy\n",
    "pred_df.sort_values(by=\"entropy\", ascending=False).head(n=20)"
   ]
  },
  {
   "cell_type": "code",
   "execution_count": null,
   "metadata": {
    "collapsed": true
   },
   "outputs": [],
   "source": []
  }
 ],
 "metadata": {
  "kernelspec": {
   "display_name": "Python 3",
   "language": "python",
   "name": "python3"
  },
  "language_info": {
   "codemirror_mode": {
    "name": "ipython",
    "version": 3
   },
   "file_extension": ".py",
   "mimetype": "text/x-python",
   "name": "python",
   "nbconvert_exporter": "python",
   "pygments_lexer": "ipython3",
   "version": "3.6.8"
  }
 },
 "nbformat": 4,
 "nbformat_minor": 1
}
