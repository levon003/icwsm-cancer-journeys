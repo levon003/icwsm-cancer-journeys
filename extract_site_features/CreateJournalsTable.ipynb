{
 "cells": [
  {
   "cell_type": "markdown",
   "metadata": {},
   "source": [
    "Create Journals Table\n",
    "===\n",
    "\n",
    "Create a table of the journal info from the raw JSON so that it can be processed more quickly and easily in the future."
   ]
  },
  {
   "cell_type": "code",
   "execution_count": 1,
   "metadata": {
    "collapsed": true
   },
   "outputs": [],
   "source": [
    "%reload_ext autoreload\n",
    "%autoreload 2\n",
    "%matplotlib inline\n",
    "from IPython.core.display import display, HTML\n",
    "\n",
    "import os\n",
    "import numpy as np\n",
    "import pandas as pd\n",
    "import itertools\n",
    "\n",
    "import matplotlib.pyplot as plt\n",
    "import matplotlib.dates as md\n",
    "import matplotlib\n",
    "import pylab as pl\n",
    "\n",
    "import datetime as dt\n",
    "import time\n",
    "\n",
    "from collections import Counter\n",
    "\n",
    "import json\n",
    "import os\n",
    "import re\n",
    "from html.parser import HTMLParser\n",
    "import itertools\n",
    "import multiprocessing as mp\n",
    "from nltk import word_tokenize\n",
    "from IPython.core.display import display, HTML\n",
    "import datetime as dt\n",
    "\n",
    "from tqdm import tqdm"
   ]
  },
  {
   "cell_type": "code",
   "execution_count": 2,
   "metadata": {
    "collapsed": true
   },
   "outputs": [],
   "source": [
    "raw_data_dir = \"/home/srivbane/shared/caringbridge/data/raw\"\n",
    "raw_journal_filename = os.path.join(raw_data_dir, \"journal.json\")\n",
    "\n",
    "working_dir = \"/home/srivbane/shared/caringbridge/data/projects/qual-health-journeys/extract_site_features\"\n",
    "os.makedirs(working_dir, exist_ok=True)\n",
    "\n",
    "flattened_journal_json_filename = os.path.join(working_dir, \"journal_flat.json\")\n",
    "feathered_journal_df_filename = os.path.join(working_dir, \"journal.df\")\n",
    "csv_journal_df_filename = os.path.join(working_dir, \"journal_flat.csv\")\n"
   ]
  },
  {
   "cell_type": "code",
   "execution_count": 3,
   "metadata": {
    "collapsed": true
   },
   "outputs": [],
   "source": [
    "def update_date_columns(site):\n",
    "    date_cols = [\"updatedAt\", \n",
    "                 \"createdAt\", \n",
    "                 \"lastEdit\", \n",
    "                 \"publishedAt\"]\n",
    "    for col in date_cols:\n",
    "        if col in site:\n",
    "            site[col] = site[col][\"$date\"]\n",
    "            \n",
    "def flatten_json_date_field(field_name, json_dict):\n",
    "    # Flattens a date field in a json dict, assuming that it has a \"$date\" key in the date field\n",
    "    if field_name in json_dict:\n",
    "        json_dict[field_name] = json_dict[field_name][\"$date\"]"
   ]
  },
  {
   "cell_type": "code",
   "execution_count": 4,
   "metadata": {
    "collapsed": true
   },
   "outputs": [],
   "source": [
    "def convert__id_dict_to_columns(site):\n",
    "    return convert_dict_to_columns(\"_id\", site)\n",
    "\n",
    "def convert_cm_dict_to_columns(site):\n",
    "    return convert_dict_to_columns(\"cm\", site)\n",
    "\n",
    "def convert_draft_dict_to_columns(site):\n",
    "    return convert_dict_to_columns(\"draft\", site)\n",
    "\n",
    "def convert_dict_to_columns(dict_name, site, coerce_sequences=False, convert_dates=True, convert_oids=True):\n",
    "    # Creates new columns from a dictionary key, with no defaults.\n",
    "    # If coerce_sequences is true, lists and dicts are converted to their string representations.\n",
    "    # If convert_dates is true, than values that are dicts that contain a $date column are collapsed to their date value\n",
    "    if dict_name not in site:\n",
    "        return False\n",
    "    d = site[dict_name]\n",
    "    del site[dict_name]\n",
    "    \n",
    "    # Use whatever fields are present in the dict to create a new column\n",
    "    for key in d:\n",
    "        new_col_name = dict_name + \"_\" + key\n",
    "        if new_col_name in d:\n",
    "            raise ValueError(f\"Derived column '{new_col_name}' already exists in dict '{dict_name}'.\")\n",
    "        value = d[key]\n",
    "        if convert_dates and type(value) == dict and \"$date\" in value:\n",
    "            flatten_json_date_field(key, d)\n",
    "            value = d[key]\n",
    "        if convert_oids and type(value) == dict and \"$oid\" in value:\n",
    "            value = d[key][\"$oid\"]\n",
    "        if type(value) == dict or type(value) == list:\n",
    "            if coerce_sequences:\n",
    "                # Convert the sequence to its string representation\n",
    "                value = str(value)\n",
    "            else:  # Don't coerce, so this is an error\n",
    "                raise TypeError(f\"Value of '{f}' in dict '{dict_name}' is an unconvertable type with value '{value}'.\")\n",
    "        site[new_col_name] = value\n",
    "    return True"
   ]
  },
  {
   "cell_type": "code",
   "execution_count": 10,
   "metadata": {
    "collapsed": true
   },
   "outputs": [],
   "source": [
    "def convert_photos_list_to_columns(site):\n",
    "    new_col_defaults = {\"photos_count\": 0, \n",
    "                \"photos_widths\": \"\",\n",
    "                \"photos_heights\": \"\",\n",
    "                \"photos_cropped\": \"\",\n",
    "                \"photos_caption\": \"\"}\n",
    "    if \"photos\" not in site:\n",
    "        site.update(new_col_defaults)\n",
    "        return False\n",
    "    photo = site[\"photos\"]\n",
    "    del site[\"photos\"]\n",
    "    site.update(new_col_defaults)\n",
    "    #if len(photo) > 1:\n",
    "    #    print(len(photo))\n",
    "    photo = photo[0]\n",
    "    if \"parts\" in photo:\n",
    "        parts = photo[\"parts\"]\n",
    "        if type(parts) == list:\n",
    "            site[\"photos_count\"] = len(parts)\n",
    "            widths = \"\"\n",
    "            heights = \"\"\n",
    "            croppeds = \"\"\n",
    "            for part in parts:\n",
    "                width = part[\"width\"] if \"width\" in part else -1\n",
    "                height = part[\"height\"] if \"height\" in part else -1\n",
    "                cropped = part[\"cropped\"] if \"cropped\" in part else -1\n",
    "                widths += str(width) + \"|\"\n",
    "                heights += str(height) + \"|\"\n",
    "                croppeds += str(cropped) + \"|\"\n",
    "            site[\"photos_widths\"] = widths.rstrip(\"|\")\n",
    "            site[\"photos_heights\"] = heights.rstrip(\"|\")\n",
    "            site[\"photos_cropped\"] = croppeds.rstrip(\"|\")\n",
    "    if \"caption\" in photo:\n",
    "        site[\"photos_caption\"] = photo[\"caption\"]\n",
    "    return True\n",
    "\n",
    "def convert_videos_list_to_columns(site):\n",
    "    return convert_str_list_to_columns(\"videos\", site)\n",
    "\n",
    "def convert_replies_list_to_columns(site):\n",
    "    return convert_str_list_to_columns(\"replies\", site)\n",
    "\n",
    "def convert_amps_to_columns(site):\n",
    "    # \"amps\" can be both a list or a dict in the site data: we ignore the dicts\n",
    "    if \"amps\" in site: \n",
    "        if type(site[\"amps\"]) == list:\n",
    "            return convert_int_list_to_columns(\"amps\", site)\n",
    "        else:  # if not a list, we silently remove the modules\n",
    "            del site[\"amps\"]\n",
    "            return True\n",
    "    else:  # if key doesn't exist, no changes\n",
    "        return False\n",
    "\n",
    "def convert_int_list_to_columns(int_list_name, site):\n",
    "    # Same as convert_str_list_to_columns, but insists that list items are ints and removes duplicates\n",
    "    new_col_defaults = {int_list_name: \"\", int_list_name+\"_count\": 0}\n",
    "    if int_list_name not in site:\n",
    "        site.update(new_col_defaults)\n",
    "        return False\n",
    "    intList = site[int_list_name]\n",
    "    site.update(new_col_defaults)\n",
    "    if type(intList) == list and len(intList) > 0:\n",
    "        idSet = set()\n",
    "        for item in intList:\n",
    "            idSet.add(int(item))\n",
    "        idList = [str(item) for item in sorted(list(idSet))]\n",
    "        intListStr = \"|\".join(idList)\n",
    "        site[int_list_name] = intListStr\n",
    "        site[int_list_name+\"_count\"] = len(idList)\n",
    "    return True\n",
    "\n",
    "def convert_str_list_to_columns(str_list_name, site):\n",
    "    new_col_defaults = {str_list_name: \"\", str_list_name+\"_count\": 0}\n",
    "    if str_list_name not in site:\n",
    "        site.update(new_col_defaults)\n",
    "        return False\n",
    "    strList = site[str_list_name]\n",
    "    site.update(new_col_defaults)\n",
    "    if type(strList) == list and len(strList) > 0:\n",
    "        itemList = []\n",
    "        for item in strList:\n",
    "            itemList.append(str(item))\n",
    "        strListStr = \"|\".join(itemList)\n",
    "        site[str_list_name] = strListStr\n",
    "        site[str_list_name+\"_count\"] = len(itemList)\n",
    "    return True"
   ]
  },
  {
   "cell_type": "code",
   "execution_count": 11,
   "metadata": {
    "scrolled": true
   },
   "outputs": [
    {
     "name": "stderr",
     "output_type": "stream",
     "text": [
      "100%|██████████| 15327592/15327592 [36:14<00:00, 7050.33it/s]\n"
     ]
    }
   ],
   "source": [
    "processed_count = 0\n",
    "with open(raw_journal_filename, 'r', encoding=\"utf8\") as infile:\n",
    "    with open(flattened_journal_json_filename, 'w', encoding=\"utf8\") as outfile:\n",
    "        for line in tqdm(infile, total=15327592):\n",
    "            site = json.loads(line.strip())\n",
    "            \n",
    "            convert__id_dict_to_columns(site)\n",
    "            convert_cm_dict_to_columns(site)\n",
    "            convert_draft_dict_to_columns(site)\n",
    "            \n",
    "            convert_photos_list_to_columns(site)\n",
    "            convert_videos_list_to_columns(site)\n",
    "            convert_replies_list_to_columns(site)\n",
    "            convert_amps_to_columns(site)\n",
    "            \n",
    "            update_date_columns(site)\n",
    "            \n",
    "            # Write the revised site to the intermediate output file\n",
    "            json.dump(site, outfile, ensure_ascii=False)\n",
    "            outfile.write('\\n')"
   ]
  },
  {
   "cell_type": "code",
   "execution_count": 12,
   "metadata": {},
   "outputs": [
    {
     "name": "stdout",
     "output_type": "stream",
     "text": [
      "15327592 /home/srivbane/shared/caringbridge/data/projects/qual-health-journeys/extract_site_features/journal_flat.json\r\n"
     ]
    }
   ],
   "source": [
    "!wc -l {flattened_journal_json_filename}"
   ]
  },
  {
   "cell_type": "code",
   "execution_count": null,
   "metadata": {},
   "outputs": [],
   "source": [
    "%%time\n",
    "# Load a dataframe from the json\n",
    "chunksize = 2**20\n",
    "with open(flattened_journal_json_filename, 'r', encoding=\"utf8\") as infile:\n",
    "    df = pd.read_json(infile, orient=\"records\", lines=True, chunksize=chunksize)\n",
    "    print(next(df))"
   ]
  },
  {
   "cell_type": "code",
   "execution_count": null,
   "metadata": {
    "collapsed": true
   },
   "outputs": [],
   "source": []
  },
  {
   "cell_type": "code",
   "execution_count": 36,
   "metadata": {},
   "outputs": [
    {
     "name": "stdout",
     "output_type": "stream",
     "text": [
      "CPU times: user 3.97 s, sys: 880 ms, total: 4.85 s\n",
      "Wall time: 6.28 s\n"
     ]
    }
   ],
   "source": [
    "%%time\n",
    "# Save the loaded dataframe in the feather format\n",
    "df.to_feather(feathered_journal_df_filename)"
   ]
  },
  {
   "cell_type": "code",
   "execution_count": 56,
   "metadata": {},
   "outputs": [
    {
     "name": "stdout",
     "output_type": "stream",
     "text": [
      "CPU times: user 45.6 s, sys: 964 ms, total: 46.6 s\n",
      "Wall time: 48 s\n"
     ]
    }
   ],
   "source": [
    "%%time\n",
    "# Save the loaded dataframe in the CSV format\n",
    "df.to_csv(csv_journal_df_filename)"
   ]
  },
  {
   "cell_type": "code",
   "execution_count": 48,
   "metadata": {},
   "outputs": [
    {
     "data": {
      "text/plain": [
       "'2.2 GiB'"
      ]
     },
     "execution_count": 48,
     "metadata": {},
     "output_type": "execute_result"
    }
   ],
   "source": [
    "# How large is the dataframe in RAM?\n",
    "def sizeof_fmt(num, suffix='B'):\n",
    "    #Source: https://stackoverflow.com/questions/1094841/reusable-library-to-get-human-readable-version-of-file-size\n",
    "    for unit in ['','Ki','Mi','Gi','Ti','Pi','Ei','Zi']:\n",
    "        if abs(num) < 1024.0:\n",
    "            return \"%3.1f %s%s\" % (num, unit, suffix)\n",
    "        num /= 1024.0\n",
    "    return \"%.1f %s%s\" % (num, 'Yi', suffix)\n",
    "\n",
    "sizeof_fmt(sum(df.memory_usage(deep=True)))"
   ]
  },
  {
   "cell_type": "code",
   "execution_count": 54,
   "metadata": {},
   "outputs": [
    {
     "name": "stdout",
     "output_type": "stream",
     "text": [
      "_id                                          int64          int64          \n",
      "age                                          object         string         \n",
      "allowList                                    object         string         \n",
      "allowList_count                              int64          int64          \n",
      "bi_createHadProfile                          int64          int64          \n",
      "blockList                                    object         string         \n",
      "blockList_count                              int64          int64          \n",
      "calendarId                                   float64        double         \n",
      "createFormSessionId                          float64        double         \n",
      "createdAt                                    float64        double         \n",
      "description                                  object         string         \n",
      "dismissedOnboarding                          object         string         \n",
      "dismissedOnboarding_count                    int64          int64          \n",
      "displayEmail                                 object         string         \n",
      "fauxSpHideCta                                float64        double         \n",
      "feedCounter                                  float64        double         \n",
      "feedToken                                    object         string         \n",
      "firstName                                    object         string         \n",
      "gbIntro                                      object         string         \n",
      "hasCommentFix                                float64        double         \n",
      "hasVisitorInvite                             float64        double         \n",
      "healthCondition_category                     object         string         \n",
      "healthCondition_custom                       object         string         \n",
      "healthCondition_name                         object         string         \n",
      "ip                                           object         string         \n",
      "isDeleted                                    float64        double         \n",
      "isForSelf                                    float64        double         \n",
      "isGoogleable                                 float64        double         \n",
      "isGoogleableLastUpdated                      float64        double         \n",
      "isGoogleableLog                              object         string         \n",
      "isGoogleableLog_count                        int64          int64          \n",
      "isPending                                    float64        double         \n",
      "isPhotoOrderingFixed                         float64        double         \n",
      "isSearchable                                 float64        double         \n",
      "isSpam                                       float64        double         \n",
      "lastCaringBook                               float64        double         \n",
      "lastInvite                                   float64        double         \n",
      "lastName                                     object         string         \n",
      "legacyTemplate                               object         string         \n",
      "linkSiteId                                   float64        double         \n",
      "location_address                             object         string         \n",
      "location_city                                object         string         \n",
      "location_country                             object         string         \n",
      "location_state                               object         string         \n",
      "migratedAt                                   float64        double         \n",
      "modules                                      object         string         \n",
      "modules_count                                float64        double         \n",
      "name                                         object         string         \n",
      "numAmps                                      float64        double         \n",
      "numAuthorInvites                             float64        double         \n",
      "numCoAuthors                                 float64        double         \n",
      "numGuestbooks                                float64        double         \n",
      "numJournalDrafts                             float64        double         \n",
      "numJournals                                  float64        double         \n",
      "numLinks                                     float64        double         \n",
      "numPhotos                                    float64        double         \n",
      "numTasks                                     float64        double         \n",
      "numTributes                                  float64        double         \n",
      "numVisitorInvites                            float64        double         \n",
      "partner__id                                  float64        double         \n",
      "partner_category                             object         string         \n",
      "partner_coBrandId                            float64        double         \n",
      "partner_contact                              object         string         \n",
      "partner_createdAt                            float64        double         \n",
      "partner_description                          object         string         \n",
      "partner_id                                   float64        double         \n",
      "partner_images                               object         string         \n",
      "partner_isActive                             float64        double         \n",
      "partner_isCustomFacility                     float64        double         \n",
      "partner_location                             object         string         \n",
      "partner_name                                 object         string         \n",
      "partner_partnerType                          object         string         \n",
      "partner_updatedAt                            float64        double         \n",
      "partner_url                                  object         string         \n",
      "password                                     object         string         \n",
      "photoId                                      object         string         \n",
      "photo_caption                                object         string         \n",
      "photo_count                                  int64          int64          \n",
      "photo_cropped                                object         string         \n",
      "photo_heights                                object         string         \n",
      "photo_widths                                 object         string         \n",
      "plannerName                                  object         string         \n",
      "platform                                     object         string         \n",
      "privacy                                      object         string         \n",
      "publishDate                                  float64        double         \n",
      "requestAccess                                float64        double         \n",
      "requestPassword                              float64        double         \n",
      "sawReCaptcha                                 float64        double         \n",
      "sawSteps                                     float64        double         \n",
      "size                                         float64        double         \n",
      "spam                                         object         string         \n",
      "status_status                                object         string         \n",
      "status_updatedAt                             float64        double         \n",
      "status_userId                                float64        double         \n",
      "theme_cbPhoto                                object         string         \n",
      "theme_color                                  object         string         \n",
      "theme_displayWeight                          int64          int64          \n",
      "theme_id                                     object         string         \n",
      "theme_legacyTemplate                         object         string         \n",
      "theme_title                                  object         string         \n",
      "title                                        object         string         \n",
      "updatedAt                                    int64          int64          \n",
      "userMigrationStatus                          object         string         \n",
      "visits                                       float64        double         \n"
     ]
    }
   ],
   "source": [
    "# Print the column names, pandas dtype, and pyarrow dtype\n",
    "import pyarrow\n",
    "for index in df.dtypes.index:\n",
    "    dtype = str(df.dtypes[index])\n",
    "    arrow_dtype = str(pyarrow.lib.array(df[index], from_pandas=True).type)\n",
    "    print(f\"{index:45}{dtype:15}{arrow_dtype:15}\")\n",
    "    "
   ]
  },
  {
   "cell_type": "code",
   "execution_count": null,
   "metadata": {
    "collapsed": true
   },
   "outputs": [],
   "source": []
  }
 ],
 "metadata": {
  "kernelspec": {
   "display_name": "Python 3",
   "language": "python",
   "name": "python3"
  },
  "language_info": {
   "codemirror_mode": {
    "name": "ipython",
    "version": 3
   },
   "file_extension": ".py",
   "mimetype": "text/x-python",
   "name": "python",
   "nbconvert_exporter": "python",
   "pygments_lexer": "ipython3",
   "version": "3.6.8"
  }
 },
 "nbformat": 4,
 "nbformat_minor": 2
}
