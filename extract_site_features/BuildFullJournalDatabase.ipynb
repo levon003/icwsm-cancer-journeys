{
 "cells": [
  {
   "cell_type": "markdown",
   "metadata": {
    "collapsed": true
   },
   "source": [
    "Build Full Journal Database\n",
    "===\n",
    "\n",
    "This should probably be converted into a standalone script.\n",
    "\n",
    "It builds a database table from the contents of the flattened journal JSON file.\n",
    "\n",
    "All columns are included with the appropriate types, with the exception of `siteId` and `_id_$oid` which are transformed into the columns `site_id` and `journal_oid` respectively."
   ]
  },
  {
   "cell_type": "code",
   "execution_count": 1,
   "metadata": {},
   "outputs": [],
   "source": [
    "%reload_ext autoreload\n",
    "%autoreload 2\n",
    "%matplotlib inline\n",
    "from IPython.core.display import display, HTML\n",
    "\n",
    "import os\n",
    "import numpy as np\n",
    "import pandas as pd\n",
    "import itertools\n",
    "\n",
    "import matplotlib.pyplot as plt\n",
    "import matplotlib.dates as md\n",
    "import matplotlib\n",
    "import pylab as pl\n",
    "\n",
    "import datetime as dt\n",
    "import time\n",
    "\n",
    "from collections import Counter\n",
    "\n",
    "import json\n",
    "import os\n",
    "import re\n",
    "from html.parser import HTMLParser\n",
    "import itertools\n",
    "import multiprocessing as mp\n",
    "from nltk import word_tokenize\n",
    "from IPython.core.display import display, HTML\n",
    "import datetime as dt\n",
    "\n",
    "from tqdm import tqdm\n",
    "\n",
    "import collections\n",
    "import sqlite3"
   ]
  },
  {
   "cell_type": "code",
   "execution_count": 2,
   "metadata": {},
   "outputs": [],
   "source": [
    "flattened_json_field_counts_filename = \"/home/srivbane/levon003/repos/misc-scripts/json_field_counts/journal_flat_field_counts.json\"\n",
    "assert os.path.exists(flattened_json_field_counts_filename)\n",
    "\n",
    "working_dir = \"/home/srivbane/shared/caringbridge/data/projects/qual-health-journeys/extract_site_features\"\n",
    "flattened_journal_json_filename = os.path.join(working_dir, \"journal_flat.json\")\n",
    "\n",
    "journal_db_filename = os.path.join(working_dir, \"journal.db\")"
   ]
  },
  {
   "cell_type": "code",
   "execution_count": 3,
   "metadata": {
    "collapsed": true
   },
   "outputs": [],
   "source": [
    "#Build a database connection for the jouranl\n",
    "def get_db():\n",
    "    db_filename = journal_db_filename\n",
    "    db = sqlite3.connect(\n",
    "            db_filename,\n",
    "            detect_types=sqlite3.PARSE_DECLTYPES\n",
    "        )\n",
    "    db.row_factory = sqlite3.Row\n",
    "    return db"
   ]
  },
  {
   "cell_type": "code",
   "execution_count": 4,
   "metadata": {},
   "outputs": [
    {
     "data": {
      "text/plain": [
       "{'_id_$oid_str_count': 15327592,\n",
       " 'amps_count_int_count': 14096064,\n",
       " 'amps_str_count': 14096064,\n",
       " 'body_str_count': 15301485,\n",
       " 'cm_dah_int_count': 1582385,\n",
       " 'cm_daw_int_count': 1582385,\n",
       " 'cm_dh_int_count': 1582385,\n",
       " 'cm_dpi_int_count': 1581882,\n",
       " 'cm_dw_int_count': 1582385,\n",
       " 'cm_touch_str_count': 1582170,\n",
       " 'cm_vph_int_count': 1582385,\n",
       " 'cm_vpw_int_count': 1582385,\n",
       " 'createdAt_int_count': 15327592,\n",
       " 'draft_body_str_count': 157009,\n",
       " 'draft_id_str_count': 1439163,\n",
       " 'draft_title_str_count': 156654,\n",
       " 'ip_str_count': 11833756,\n",
       " 'isDeleted_str_count': 1348696,\n",
       " 'isDraft_NoneType_count': 2968395,\n",
       " 'isDraft_str_count': 12092282,\n",
       " 'isPriority_str_count': 76981,\n",
       " 'journalId_int_count': 11833756,\n",
       " 'lastEdit_int_count': 2196461,\n",
       " 'pendingPublish_NoneType_count': 2968422,\n",
       " 'pendingPublish_str_count': 110624,\n",
       " 'photos_caption_str_count': 15327592,\n",
       " 'photos_count_int_count': 15327592,\n",
       " 'photos_cropped_str_count': 15327592,\n",
       " 'photos_heights_str_count': 15327592,\n",
       " 'photos_widths_str_count': 15327592,\n",
       " 'platform_str_count': 1490881,\n",
       " 'promo_str_count': 515645,\n",
       " 'publishedAt_int_count': 2968627,\n",
       " 'replies_count_int_count': 15327592,\n",
       " 'replies_str_count': 15327592,\n",
       " 'siteId_int_count': 15327592,\n",
       " 'title_str_count': 6523929,\n",
       " 'updatedAt_int_count': 15327592,\n",
       " 'userId_int_count': 15327592,\n",
       " 'videos_count_int_count': 15327592,\n",
       " 'videos_str_count': 15327592}"
      ]
     },
     "execution_count": 4,
     "metadata": {},
     "output_type": "execute_result"
    }
   ],
   "source": [
    "with open(flattened_json_field_counts_filename, 'r') as infile:\n",
    "    count_data = \" \".join(infile.readlines())\n",
    "    field_count_dict = eval(count_data)\n",
    "field_count_dict"
   ]
  },
  {
   "cell_type": "code",
   "execution_count": 5,
   "metadata": {},
   "outputs": [
    {
     "data": {
      "text/plain": [
       "[('amps_count', 'INTEGER'),\n",
       " ('amps', 'TEXT'),\n",
       " ('body', 'TEXT'),\n",
       " ('cm_dah', 'INTEGER'),\n",
       " ('cm_daw', 'INTEGER'),\n",
       " ('cm_dh', 'INTEGER'),\n",
       " ('cm_dpi', 'INTEGER'),\n",
       " ('cm_dw', 'INTEGER'),\n",
       " ('cm_touch', 'TEXT'),\n",
       " ('cm_vph', 'INTEGER'),\n",
       " ('cm_vpw', 'INTEGER'),\n",
       " ('createdAt', 'INTEGER'),\n",
       " ('draft_body', 'TEXT'),\n",
       " ('draft_id', 'TEXT'),\n",
       " ('draft_title', 'TEXT'),\n",
       " ('ip', 'TEXT'),\n",
       " ('isDeleted', 'TEXT'),\n",
       " ('isDraft', 'TEXT'),\n",
       " ('isPriority', 'TEXT'),\n",
       " ('journalId', 'INTEGER'),\n",
       " ('lastEdit', 'INTEGER'),\n",
       " ('pendingPublish', 'TEXT'),\n",
       " ('photos_caption', 'TEXT'),\n",
       " ('photos_count', 'INTEGER'),\n",
       " ('photos_cropped', 'TEXT'),\n",
       " ('photos_heights', 'TEXT'),\n",
       " ('photos_widths', 'TEXT'),\n",
       " ('platform', 'TEXT'),\n",
       " ('promo', 'TEXT'),\n",
       " ('publishedAt', 'INTEGER'),\n",
       " ('replies_count', 'INTEGER'),\n",
       " ('replies', 'TEXT'),\n",
       " ('title', 'TEXT'),\n",
       " ('updatedAt', 'INTEGER'),\n",
       " ('userId', 'INTEGER'),\n",
       " ('videos_count', 'INTEGER'),\n",
       " ('videos', 'TEXT')]"
      ]
     },
     "execution_count": 5,
     "metadata": {},
     "output_type": "execute_result"
    }
   ],
   "source": [
    "def get_sql_type(python_type_str):\n",
    "    if python_type_str == \"str\":\n",
    "        sql_type = \"TEXT\"\n",
    "    elif python_type_str == \"int\":\n",
    "        sql_type = \"INTEGER\"\n",
    "    else:\n",
    "        raise ValueError(python_type_str + \" not valid.\")\n",
    "    return sql_type\n",
    "\n",
    "omit_fields = [\"siteId\", \"_id_$oid\"]\n",
    "field_type_list = []\n",
    "for key in field_count_dict.keys():\n",
    "    tokens = key.split(\"_\")\n",
    "    field_name = \"_\".join(tokens[:-2])\n",
    "    field_python_type = tokens[-2]\n",
    "    if field_name in omit_fields:\n",
    "        continue\n",
    "    if field_python_type == \"NoneType\":\n",
    "        continue\n",
    "    #print(field_name, field_python_type)\n",
    "    field_type_list.append((field_name, get_sql_type(field_python_type)))\n",
    "field_type_list"
   ]
  },
  {
   "cell_type": "code",
   "execution_count": 6,
   "metadata": {},
   "outputs": [
    {
     "data": {
      "text/plain": [
       "['amps_count',\n",
       " 'amps',\n",
       " 'body',\n",
       " 'cm_dah',\n",
       " 'cm_daw',\n",
       " 'cm_dh',\n",
       " 'cm_dpi',\n",
       " 'cm_dw',\n",
       " 'cm_touch',\n",
       " 'cm_vph',\n",
       " 'cm_vpw',\n",
       " 'createdAt',\n",
       " 'draft_body',\n",
       " 'draft_id',\n",
       " 'draft_title',\n",
       " 'ip',\n",
       " 'isDeleted',\n",
       " 'isDraft',\n",
       " 'isPriority',\n",
       " 'journalId',\n",
       " 'lastEdit',\n",
       " 'pendingPublish',\n",
       " 'photos_caption',\n",
       " 'photos_count',\n",
       " 'photos_cropped',\n",
       " 'photos_heights',\n",
       " 'photos_widths',\n",
       " 'platform',\n",
       " 'promo',\n",
       " 'publishedAt',\n",
       " 'replies_count',\n",
       " 'replies',\n",
       " 'title',\n",
       " 'updatedAt',\n",
       " 'userId',\n",
       " 'videos_count',\n",
       " 'videos']"
      ]
     },
     "execution_count": 6,
     "metadata": {},
     "output_type": "execute_result"
    }
   ],
   "source": [
    "field_names = [field_name for field_name, field_type in field_type_list]\n",
    "field_names"
   ]
  },
  {
   "cell_type": "code",
   "execution_count": 7,
   "metadata": {},
   "outputs": [
    {
     "name": "stdout",
     "output_type": "stream",
     "text": [
      "\n",
      "CREATE TABLE journal (\n",
      "id INTEGER PRIMARY KEY AUTOINCREMENT,\n",
      "site_id INTEGER NOT NULL,\n",
      "journal_oid TEXT NOT NULL,\n",
      "amps_count INTEGER,\n",
      "amps TEXT,\n",
      "body TEXT,\n",
      "cm_dah INTEGER,\n",
      "cm_daw INTEGER,\n",
      "cm_dh INTEGER,\n",
      "cm_dpi INTEGER,\n",
      "cm_dw INTEGER,\n",
      "cm_touch TEXT,\n",
      "cm_vph INTEGER,\n",
      "cm_vpw INTEGER,\n",
      "createdAt INTEGER,\n",
      "draft_body TEXT,\n",
      "draft_id TEXT,\n",
      "draft_title TEXT,\n",
      "ip TEXT,\n",
      "isDeleted TEXT,\n",
      "isDraft TEXT,\n",
      "isPriority TEXT,\n",
      "journalId INTEGER,\n",
      "lastEdit INTEGER,\n",
      "pendingPublish TEXT,\n",
      "photos_caption TEXT,\n",
      "photos_count INTEGER,\n",
      "photos_cropped TEXT,\n",
      "photos_heights TEXT,\n",
      "photos_widths TEXT,\n",
      "platform TEXT,\n",
      "promo TEXT,\n",
      "publishedAt INTEGER,\n",
      "replies_count INTEGER,\n",
      "replies TEXT,\n",
      "title TEXT,\n",
      "updatedAt INTEGER,\n",
      "userId INTEGER,\n",
      "videos_count INTEGER,\n",
      "videos TEXT\n",
      ")\n",
      "\n"
     ]
    }
   ],
   "source": [
    "create_field_strings = [ \"{} {}\".format(field_name, field_type)\n",
    "    for field_name, field_type in field_type_list\n",
    "]\n",
    "create_field_string = \",\\n\".join(create_field_strings)\n",
    "\n",
    "create_table_command = \"\"\"\n",
    "CREATE TABLE journal (\n",
    "id INTEGER PRIMARY KEY AUTOINCREMENT,\n",
    "site_id INTEGER NOT NULL,\n",
    "journal_oid TEXT NOT NULL,\n",
    "%s\n",
    ")\n",
    "\"\"\" % create_field_string\n",
    "print(create_table_command)"
   ]
  },
  {
   "cell_type": "code",
   "execution_count": 8,
   "metadata": {
    "collapsed": true
   },
   "outputs": [],
   "source": [
    "# create the table\n",
    "try:\n",
    "    db = get_db()\n",
    "    db.execute(\"DROP TABLE IF EXISTS journal\")\n",
    "    db.execute(create_table_command)\n",
    "finally:\n",
    "    db.close()"
   ]
  },
  {
   "cell_type": "code",
   "execution_count": 9,
   "metadata": {},
   "outputs": [
    {
     "name": "stdout",
     "output_type": "stream",
     "text": [
      "(site_id,journal_oid,amps_count,amps,body,cm_dah,cm_daw,cm_dh,cm_dpi,cm_dw,cm_touch,cm_vph,cm_vpw,createdAt,draft_body,draft_id,draft_title,ip,isDeleted,isDraft,isPriority,journalId,lastEdit,pendingPublish,photos_caption,photos_count,photos_cropped,photos_heights,photos_widths,platform,promo,publishedAt,replies_count,replies,title,updatedAt,userId,videos_count,videos)\n",
      "(?,?,?,?,?,?,?,?,?,?,?,?,?,?,?,?,?,?,?,?,?,?,?,?,?,?,?,?,?,?,?,?,?,?,?,?,?,?,?)\n",
      "INSERT INTO journal (site_id,journal_oid,amps_count,amps,body,cm_dah,cm_daw,cm_dh,cm_dpi,cm_dw,cm_touch,cm_vph,cm_vpw,createdAt,draft_body,draft_id,draft_title,ip,isDeleted,isDraft,isPriority,journalId,lastEdit,pendingPublish,photos_caption,photos_count,photos_cropped,photos_heights,photos_widths,platform,promo,publishedAt,replies_count,replies,title,updatedAt,userId,videos_count,videos) VALUES (?,?,?,?,?,?,?,?,?,?,?,?,?,?,?,?,?,?,?,?,?,?,?,?,?,?,?,?,?,?,?,?,?,?,?,?,?,?,?)\n"
     ]
    }
   ],
   "source": [
    "column_qmarks = \"(%s)\" % \",\".join(\"?\"* (len(field_names) + 2))\n",
    "column_names = \"(site_id,journal_oid,%s)\" % \",\".join(field_names)\n",
    "print(column_names)\n",
    "print(column_qmarks)\n",
    "insert_command = 'INSERT INTO journal %s VALUES %s' % (column_names, column_qmarks)\n",
    "print(insert_command)"
   ]
  },
  {
   "cell_type": "code",
   "execution_count": 10,
   "metadata": {
    "scrolled": true
   },
   "outputs": [
    {
     "name": "stderr",
     "output_type": "stream",
     "text": [
      "  0%|          | 1100/15327592 [00:00<23:13, 10995.03it/s]"
     ]
    },
    {
     "name": "stdout",
     "output_type": "stream",
     "text": [
      "Commiting transaction every 153275 inserts.\n"
     ]
    },
    {
     "name": "stderr",
     "output_type": "stream",
     "text": [
      "  1%|          | 154563/15327592 [00:18<29:51, 8467.51it/s]"
     ]
    },
    {
     "name": "stdout",
     "output_type": "stream",
     "text": [
      "Beginning transaction 2 / 100.\n"
     ]
    },
    {
     "name": "stderr",
     "output_type": "stream",
     "text": [
      "  2%|▏         | 308247/15327592 [00:34<27:56, 8956.30it/s]"
     ]
    },
    {
     "name": "stdout",
     "output_type": "stream",
     "text": [
      "Beginning transaction 3 / 100.\n"
     ]
    },
    {
     "name": "stderr",
     "output_type": "stream",
     "text": [
      "  3%|▎         | 461109/15327592 [00:50<27:23, 9047.34it/s]"
     ]
    },
    {
     "name": "stdout",
     "output_type": "stream",
     "text": [
      "Beginning transaction 4 / 100.\n"
     ]
    },
    {
     "name": "stderr",
     "output_type": "stream",
     "text": [
      "  4%|▍         | 614216/15327592 [01:09<27:42, 8850.75it/s]"
     ]
    },
    {
     "name": "stdout",
     "output_type": "stream",
     "text": [
      "Beginning transaction 5 / 100.\n"
     ]
    },
    {
     "name": "stderr",
     "output_type": "stream",
     "text": [
      "  5%|▌         | 767732/15327592 [01:27<27:42, 8756.62it/s]"
     ]
    },
    {
     "name": "stdout",
     "output_type": "stream",
     "text": [
      "Beginning transaction 6 / 100.\n"
     ]
    },
    {
     "name": "stderr",
     "output_type": "stream",
     "text": [
      "  6%|▌         | 920813/15327592 [01:44<27:11, 8827.75it/s]"
     ]
    },
    {
     "name": "stdout",
     "output_type": "stream",
     "text": [
      "Beginning transaction 7 / 100.\n"
     ]
    },
    {
     "name": "stderr",
     "output_type": "stream",
     "text": [
      "  7%|▋         | 1074904/15327592 [02:01<26:49, 8854.50it/s]"
     ]
    },
    {
     "name": "stdout",
     "output_type": "stream",
     "text": [
      "Beginning transaction 8 / 100.\n"
     ]
    },
    {
     "name": "stderr",
     "output_type": "stream",
     "text": [
      "  8%|▊         | 1227859/15327592 [02:18<26:30, 8866.40it/s]"
     ]
    },
    {
     "name": "stdout",
     "output_type": "stream",
     "text": [
      "Beginning transaction 9 / 100.\n"
     ]
    },
    {
     "name": "stderr",
     "output_type": "stream",
     "text": [
      "  9%|▉         | 1381156/15327592 [02:35<26:08, 8890.90it/s]"
     ]
    },
    {
     "name": "stdout",
     "output_type": "stream",
     "text": [
      "Beginning transaction 10 / 100.\n"
     ]
    },
    {
     "name": "stderr",
     "output_type": "stream",
     "text": [
      " 10%|█         | 1534351/15327592 [02:52<25:49, 8900.29it/s]"
     ]
    },
    {
     "name": "stdout",
     "output_type": "stream",
     "text": [
      "Beginning transaction 11 / 100.\n"
     ]
    },
    {
     "name": "stderr",
     "output_type": "stream",
     "text": [
      " 11%|█         | 1687133/15327592 [03:09<25:31, 8906.58it/s]"
     ]
    },
    {
     "name": "stdout",
     "output_type": "stream",
     "text": [
      "Beginning transaction 12 / 100.\n"
     ]
    },
    {
     "name": "stderr",
     "output_type": "stream",
     "text": [
      " 12%|█▏        | 1840480/15327592 [03:26<25:15, 8897.18it/s]"
     ]
    },
    {
     "name": "stdout",
     "output_type": "stream",
     "text": [
      "Beginning transaction 13 / 100.\n"
     ]
    },
    {
     "name": "stderr",
     "output_type": "stream",
     "text": [
      " 13%|█▎        | 1993485/15327592 [03:50<25:39, 8663.21it/s]"
     ]
    },
    {
     "name": "stdout",
     "output_type": "stream",
     "text": [
      "Beginning transaction 14 / 100.\n"
     ]
    },
    {
     "name": "stderr",
     "output_type": "stream",
     "text": [
      " 14%|█▍        | 2147553/15327592 [04:07<25:18, 8677.27it/s]"
     ]
    },
    {
     "name": "stdout",
     "output_type": "stream",
     "text": [
      "Beginning transaction 15 / 100.\n"
     ]
    },
    {
     "name": "stderr",
     "output_type": "stream",
     "text": [
      " 15%|█▌        | 2300421/15327592 [04:25<25:03, 8663.17it/s]"
     ]
    },
    {
     "name": "stdout",
     "output_type": "stream",
     "text": [
      "Beginning transaction 16 / 100.\n"
     ]
    },
    {
     "name": "stderr",
     "output_type": "stream",
     "text": [
      " 16%|█▌        | 2453400/15327592 [04:42<24:41, 8689.50it/s]"
     ]
    },
    {
     "name": "stdout",
     "output_type": "stream",
     "text": [
      "Beginning transaction 17 / 100.\n"
     ]
    },
    {
     "name": "stderr",
     "output_type": "stream",
     "text": [
      " 17%|█▋        | 2606438/15327592 [04:59<24:20, 8707.85it/s]"
     ]
    },
    {
     "name": "stdout",
     "output_type": "stream",
     "text": [
      "Beginning transaction 18 / 100.\n"
     ]
    },
    {
     "name": "stderr",
     "output_type": "stream",
     "text": [
      " 18%|█▊        | 2759986/15327592 [05:16<24:00, 8723.30it/s]"
     ]
    },
    {
     "name": "stdout",
     "output_type": "stream",
     "text": [
      "Beginning transaction 19 / 100.\n"
     ]
    },
    {
     "name": "stderr",
     "output_type": "stream",
     "text": [
      " 19%|█▉        | 2913282/15327592 [05:33<23:42, 8727.64it/s]"
     ]
    },
    {
     "name": "stdout",
     "output_type": "stream",
     "text": [
      "Beginning transaction 20 / 100.\n"
     ]
    },
    {
     "name": "stderr",
     "output_type": "stream",
     "text": [
      " 20%|██        | 3066674/15327592 [05:51<23:23, 8736.66it/s]"
     ]
    },
    {
     "name": "stdout",
     "output_type": "stream",
     "text": [
      "Beginning transaction 21 / 100.\n"
     ]
    },
    {
     "name": "stderr",
     "output_type": "stream",
     "text": [
      " 21%|██        | 3219866/15327592 [06:08<23:05, 8741.95it/s]"
     ]
    },
    {
     "name": "stdout",
     "output_type": "stream",
     "text": [
      "Beginning transaction 22 / 100.\n"
     ]
    },
    {
     "name": "stderr",
     "output_type": "stream",
     "text": [
      " 22%|██▏       | 3373687/15327592 [06:25<22:45, 8752.42it/s]"
     ]
    },
    {
     "name": "stdout",
     "output_type": "stream",
     "text": [
      "Beginning transaction 23 / 100.\n"
     ]
    },
    {
     "name": "stderr",
     "output_type": "stream",
     "text": [
      " 23%|██▎       | 3526528/15327592 [06:42<22:26, 8764.04it/s]"
     ]
    },
    {
     "name": "stdout",
     "output_type": "stream",
     "text": [
      "Beginning transaction 24 / 100.\n"
     ]
    },
    {
     "name": "stderr",
     "output_type": "stream",
     "text": [
      " 24%|██▍       | 3680154/15327592 [06:59<22:08, 8765.62it/s]"
     ]
    },
    {
     "name": "stdout",
     "output_type": "stream",
     "text": [
      "Beginning transaction 25 / 100.\n"
     ]
    },
    {
     "name": "stderr",
     "output_type": "stream",
     "text": [
      " 25%|██▌       | 3832747/15327592 [07:16<21:49, 8779.31it/s]"
     ]
    },
    {
     "name": "stdout",
     "output_type": "stream",
     "text": [
      "Beginning transaction 26 / 100.\n"
     ]
    },
    {
     "name": "stderr",
     "output_type": "stream",
     "text": [
      " 26%|██▌       | 3986288/15327592 [07:33<21:30, 8789.62it/s]"
     ]
    },
    {
     "name": "stdout",
     "output_type": "stream",
     "text": [
      "Beginning transaction 27 / 100.\n"
     ]
    },
    {
     "name": "stderr",
     "output_type": "stream",
     "text": [
      " 27%|██▋       | 4139341/15327592 [07:50<21:11, 8798.79it/s]"
     ]
    },
    {
     "name": "stdout",
     "output_type": "stream",
     "text": [
      "Beginning transaction 28 / 100.\n"
     ]
    },
    {
     "name": "stderr",
     "output_type": "stream",
     "text": [
      " 28%|██▊       | 4293027/15327592 [08:07<20:53, 8799.94it/s]"
     ]
    },
    {
     "name": "stdout",
     "output_type": "stream",
     "text": [
      "Beginning transaction 29 / 100.\n"
     ]
    },
    {
     "name": "stderr",
     "output_type": "stream",
     "text": [
      " 29%|██▉       | 4446663/15327592 [08:24<20:34, 8811.65it/s]"
     ]
    },
    {
     "name": "stdout",
     "output_type": "stream",
     "text": [
      "Beginning transaction 30 / 100.\n"
     ]
    },
    {
     "name": "stderr",
     "output_type": "stream",
     "text": [
      " 30%|███       | 4599888/15327592 [08:41<20:15, 8822.18it/s]"
     ]
    },
    {
     "name": "stdout",
     "output_type": "stream",
     "text": [
      "Beginning transaction 31 / 100.\n"
     ]
    },
    {
     "name": "stderr",
     "output_type": "stream",
     "text": [
      " 31%|███       | 4752587/15327592 [08:58<19:58, 8826.49it/s]"
     ]
    },
    {
     "name": "stdout",
     "output_type": "stream",
     "text": [
      "Beginning transaction 32 / 100.\n"
     ]
    },
    {
     "name": "stderr",
     "output_type": "stream",
     "text": [
      " 32%|███▏      | 4906073/15327592 [09:15<19:40, 8831.60it/s]"
     ]
    },
    {
     "name": "stdout",
     "output_type": "stream",
     "text": [
      "Beginning transaction 33 / 100.\n"
     ]
    },
    {
     "name": "stderr",
     "output_type": "stream",
     "text": [
      " 33%|███▎      | 5059004/15327592 [09:32<19:22, 8835.03it/s]"
     ]
    },
    {
     "name": "stdout",
     "output_type": "stream",
     "text": [
      "Beginning transaction 34 / 100.\n"
     ]
    },
    {
     "name": "stderr",
     "output_type": "stream",
     "text": [
      " 34%|███▍      | 5213083/15327592 [09:49<19:04, 8838.11it/s]"
     ]
    },
    {
     "name": "stdout",
     "output_type": "stream",
     "text": [
      "Beginning transaction 35 / 100.\n"
     ]
    },
    {
     "name": "stderr",
     "output_type": "stream",
     "text": [
      " 35%|███▌      | 5366190/15327592 [10:08<18:49, 8815.61it/s]"
     ]
    },
    {
     "name": "stdout",
     "output_type": "stream",
     "text": [
      "Beginning transaction 36 / 100.\n"
     ]
    },
    {
     "name": "stderr",
     "output_type": "stream",
     "text": [
      " 36%|███▌      | 5519005/15327592 [10:27<18:34, 8800.39it/s]"
     ]
    },
    {
     "name": "stdout",
     "output_type": "stream",
     "text": [
      "Beginning transaction 37 / 100.\n"
     ]
    },
    {
     "name": "stderr",
     "output_type": "stream",
     "text": [
      " 37%|███▋      | 5672426/15327592 [10:44<18:17, 8796.70it/s]"
     ]
    },
    {
     "name": "stdout",
     "output_type": "stream",
     "text": [
      "Beginning transaction 38 / 100.\n"
     ]
    },
    {
     "name": "stderr",
     "output_type": "stream",
     "text": [
      " 38%|███▊      | 5824450/15327592 [11:02<18:00, 8795.46it/s]"
     ]
    },
    {
     "name": "stdout",
     "output_type": "stream",
     "text": [
      "Beginning transaction 39 / 100.\n"
     ]
    },
    {
     "name": "stderr",
     "output_type": "stream",
     "text": [
      " 39%|███▉      | 5979302/15327592 [11:20<17:43, 8791.71it/s]"
     ]
    },
    {
     "name": "stdout",
     "output_type": "stream",
     "text": [
      "Beginning transaction 40 / 100.\n"
     ]
    },
    {
     "name": "stderr",
     "output_type": "stream",
     "text": [
      " 40%|████      | 6132705/15327592 [11:37<17:25, 8794.21it/s]"
     ]
    },
    {
     "name": "stdout",
     "output_type": "stream",
     "text": [
      "Beginning transaction 41 / 100.\n"
     ]
    },
    {
     "name": "stderr",
     "output_type": "stream",
     "text": [
      " 41%|████      | 6285044/15327592 [11:54<17:08, 8795.44it/s]"
     ]
    },
    {
     "name": "stdout",
     "output_type": "stream",
     "text": [
      "Beginning transaction 42 / 100.\n"
     ]
    },
    {
     "name": "stderr",
     "output_type": "stream",
     "text": [
      " 42%|████▏     | 6438934/15327592 [12:12<16:51, 8787.42it/s]"
     ]
    },
    {
     "name": "stdout",
     "output_type": "stream",
     "text": [
      "Beginning transaction 43 / 100.\n"
     ]
    },
    {
     "name": "stderr",
     "output_type": "stream",
     "text": [
      " 43%|████▎     | 6592247/15327592 [12:29<16:33, 8790.79it/s]"
     ]
    },
    {
     "name": "stdout",
     "output_type": "stream",
     "text": [
      "Beginning transaction 44 / 100.\n"
     ]
    },
    {
     "name": "stderr",
     "output_type": "stream",
     "text": [
      " 44%|████▍     | 6745673/15327592 [12:46<16:15, 8797.35it/s]"
     ]
    },
    {
     "name": "stdout",
     "output_type": "stream",
     "text": [
      "Beginning transaction 45 / 100.\n"
     ]
    },
    {
     "name": "stderr",
     "output_type": "stream",
     "text": [
      " 45%|████▌     | 6898496/15327592 [13:03<15:57, 8799.34it/s]"
     ]
    },
    {
     "name": "stdout",
     "output_type": "stream",
     "text": [
      "Beginning transaction 46 / 100.\n"
     ]
    },
    {
     "name": "stderr",
     "output_type": "stream",
     "text": [
      " 46%|████▌     | 7051856/15327592 [13:21<15:40, 8796.57it/s]"
     ]
    },
    {
     "name": "stdout",
     "output_type": "stream",
     "text": [
      "Beginning transaction 47 / 100.\n"
     ]
    },
    {
     "name": "stderr",
     "output_type": "stream",
     "text": [
      " 47%|████▋     | 7205655/15327592 [13:38<15:22, 8800.72it/s]"
     ]
    },
    {
     "name": "stdout",
     "output_type": "stream",
     "text": [
      "Beginning transaction 48 / 100.\n"
     ]
    },
    {
     "name": "stderr",
     "output_type": "stream",
     "text": [
      " 48%|████▊     | 7358683/15327592 [13:56<15:06, 8793.93it/s]"
     ]
    },
    {
     "name": "stdout",
     "output_type": "stream",
     "text": [
      "Beginning transaction 49 / 100.\n"
     ]
    },
    {
     "name": "stderr",
     "output_type": "stream",
     "text": [
      " 49%|████▉     | 7511916/15327592 [14:14<14:48, 8792.29it/s]"
     ]
    },
    {
     "name": "stdout",
     "output_type": "stream",
     "text": [
      "Beginning transaction 50 / 100.\n"
     ]
    },
    {
     "name": "stderr",
     "output_type": "stream",
     "text": [
      " 50%|█████     | 7665370/15327592 [14:31<14:31, 8790.96it/s]"
     ]
    },
    {
     "name": "stdout",
     "output_type": "stream",
     "text": [
      "Beginning transaction 51 / 100.\n"
     ]
    },
    {
     "name": "stderr",
     "output_type": "stream",
     "text": [
      " 51%|█████     | 7817951/15327592 [14:49<14:14, 8792.00it/s]"
     ]
    },
    {
     "name": "stdout",
     "output_type": "stream",
     "text": [
      "Beginning transaction 52 / 100.\n"
     ]
    },
    {
     "name": "stderr",
     "output_type": "stream",
     "text": [
      " 52%|█████▏    | 7971975/15327592 [15:06<13:56, 8793.22it/s]"
     ]
    },
    {
     "name": "stdout",
     "output_type": "stream",
     "text": [
      "Beginning transaction 53 / 100.\n"
     ]
    },
    {
     "name": "stderr",
     "output_type": "stream",
     "text": [
      " 53%|█████▎    | 8124522/15327592 [15:23<13:39, 8793.36it/s]"
     ]
    },
    {
     "name": "stdout",
     "output_type": "stream",
     "text": [
      "Beginning transaction 54 / 100.\n"
     ]
    },
    {
     "name": "stderr",
     "output_type": "stream",
     "text": [
      " 54%|█████▍    | 8277870/15327592 [15:42<13:22, 8786.18it/s]"
     ]
    },
    {
     "name": "stdout",
     "output_type": "stream",
     "text": [
      "Beginning transaction 55 / 100.\n"
     ]
    },
    {
     "name": "stderr",
     "output_type": "stream",
     "text": [
      " 55%|█████▌    | 8431626/15327592 [16:00<13:05, 8777.44it/s]"
     ]
    },
    {
     "name": "stdout",
     "output_type": "stream",
     "text": [
      "Beginning transaction 56 / 100.\n"
     ]
    },
    {
     "name": "stderr",
     "output_type": "stream",
     "text": [
      " 56%|█████▌    | 8584242/15327592 [16:18<12:48, 8775.09it/s]"
     ]
    },
    {
     "name": "stdout",
     "output_type": "stream",
     "text": [
      "Beginning transaction 57 / 100.\n"
     ]
    },
    {
     "name": "stderr",
     "output_type": "stream",
     "text": [
      " 57%|█████▋    | 8737653/15327592 [16:35<12:30, 8777.20it/s]"
     ]
    },
    {
     "name": "stdout",
     "output_type": "stream",
     "text": [
      "Beginning transaction 58 / 100.\n"
     ]
    },
    {
     "name": "stderr",
     "output_type": "stream",
     "text": [
      " 58%|█████▊    | 8891253/15327592 [16:53<12:13, 8772.03it/s]"
     ]
    },
    {
     "name": "stdout",
     "output_type": "stream",
     "text": [
      "Beginning transaction 59 / 100.\n"
     ]
    },
    {
     "name": "stderr",
     "output_type": "stream",
     "text": [
      " 59%|█████▉    | 9045038/15327592 [17:10<11:56, 8773.80it/s]"
     ]
    },
    {
     "name": "stdout",
     "output_type": "stream",
     "text": [
      "Beginning transaction 60 / 100.\n"
     ]
    },
    {
     "name": "stderr",
     "output_type": "stream",
     "text": [
      " 60%|██████    | 9197576/15327592 [17:27<11:38, 8776.32it/s]"
     ]
    },
    {
     "name": "stdout",
     "output_type": "stream",
     "text": [
      "Beginning transaction 61 / 100.\n"
     ]
    },
    {
     "name": "stderr",
     "output_type": "stream",
     "text": [
      " 61%|██████    | 9351183/15327592 [17:46<11:21, 8771.84it/s]"
     ]
    },
    {
     "name": "stdout",
     "output_type": "stream",
     "text": [
      "Beginning transaction 62 / 100.\n"
     ]
    },
    {
     "name": "stderr",
     "output_type": "stream",
     "text": [
      " 62%|██████▏   | 9504476/15327592 [18:03<11:03, 8773.70it/s]"
     ]
    },
    {
     "name": "stdout",
     "output_type": "stream",
     "text": [
      "Beginning transaction 63 / 100.\n"
     ]
    },
    {
     "name": "stderr",
     "output_type": "stream",
     "text": [
      " 63%|██████▎   | 9657502/15327592 [18:20<10:45, 8777.99it/s]"
     ]
    },
    {
     "name": "stdout",
     "output_type": "stream",
     "text": [
      "Beginning transaction 64 / 100.\n"
     ]
    },
    {
     "name": "stderr",
     "output_type": "stream",
     "text": [
      " 64%|██████▍   | 9811225/15327592 [18:37<10:28, 8780.62it/s]"
     ]
    },
    {
     "name": "stdout",
     "output_type": "stream",
     "text": [
      "Beginning transaction 65 / 100.\n"
     ]
    },
    {
     "name": "stderr",
     "output_type": "stream",
     "text": [
      " 65%|██████▌   | 9964141/15327592 [18:54<10:10, 8782.31it/s]"
     ]
    },
    {
     "name": "stdout",
     "output_type": "stream",
     "text": [
      "Beginning transaction 66 / 100.\n"
     ]
    },
    {
     "name": "stderr",
     "output_type": "stream",
     "text": [
      " 66%|██████▌   | 10117797/15327592 [19:13<09:53, 8773.43it/s]"
     ]
    },
    {
     "name": "stdout",
     "output_type": "stream",
     "text": [
      "Beginning transaction 67 / 100.\n"
     ]
    },
    {
     "name": "stderr",
     "output_type": "stream",
     "text": [
      " 67%|██████▋   | 10270418/15327592 [19:32<09:37, 8759.58it/s]"
     ]
    },
    {
     "name": "stdout",
     "output_type": "stream",
     "text": [
      "Beginning transaction 68 / 100.\n"
     ]
    },
    {
     "name": "stderr",
     "output_type": "stream",
     "text": [
      " 68%|██████▊   | 10423763/15327592 [19:51<09:20, 8750.59it/s]"
     ]
    },
    {
     "name": "stdout",
     "output_type": "stream",
     "text": [
      "Beginning transaction 69 / 100.\n"
     ]
    },
    {
     "name": "stderr",
     "output_type": "stream",
     "text": [
      " 69%|██████▉   | 10577088/15327592 [20:09<09:03, 8742.65it/s]"
     ]
    },
    {
     "name": "stdout",
     "output_type": "stream",
     "text": [
      "Beginning transaction 70 / 100.\n"
     ]
    },
    {
     "name": "stderr",
     "output_type": "stream",
     "text": [
      " 70%|███████   | 10730074/15327592 [20:28<08:46, 8736.31it/s]"
     ]
    },
    {
     "name": "stdout",
     "output_type": "stream",
     "text": [
      "Beginning transaction 71 / 100.\n"
     ]
    },
    {
     "name": "stderr",
     "output_type": "stream",
     "text": [
      " 71%|███████   | 10883510/15327592 [20:47<08:29, 8724.95it/s]"
     ]
    },
    {
     "name": "stdout",
     "output_type": "stream",
     "text": [
      "Beginning transaction 72 / 100.\n"
     ]
    },
    {
     "name": "stderr",
     "output_type": "stream",
     "text": [
      " 72%|███████▏  | 11037134/15327592 [21:07<08:12, 8707.08it/s]"
     ]
    },
    {
     "name": "stdout",
     "output_type": "stream",
     "text": [
      "Beginning transaction 73 / 100.\n"
     ]
    },
    {
     "name": "stderr",
     "output_type": "stream",
     "text": [
      " 73%|███████▎  | 11190024/15327592 [21:25<07:55, 8702.21it/s]"
     ]
    },
    {
     "name": "stdout",
     "output_type": "stream",
     "text": [
      "Beginning transaction 74 / 100.\n"
     ]
    },
    {
     "name": "stderr",
     "output_type": "stream",
     "text": [
      " 74%|███████▍  | 11343721/15327592 [21:44<07:38, 8693.75it/s]"
     ]
    },
    {
     "name": "stdout",
     "output_type": "stream",
     "text": [
      "Beginning transaction 75 / 100.\n"
     ]
    },
    {
     "name": "stderr",
     "output_type": "stream",
     "text": [
      " 75%|███████▌  | 11496293/15327592 [22:04<07:21, 8677.48it/s]"
     ]
    },
    {
     "name": "stdout",
     "output_type": "stream",
     "text": [
      "Beginning transaction 76 / 100.\n"
     ]
    },
    {
     "name": "stderr",
     "output_type": "stream",
     "text": [
      " 76%|███████▌  | 11649864/15327592 [22:24<07:04, 8665.49it/s]"
     ]
    },
    {
     "name": "stdout",
     "output_type": "stream",
     "text": [
      "Beginning transaction 77 / 100.\n"
     ]
    },
    {
     "name": "stderr",
     "output_type": "stream",
     "text": [
      " 77%|███████▋  | 11803459/15327592 [22:44<06:47, 8648.69it/s]"
     ]
    },
    {
     "name": "stdout",
     "output_type": "stream",
     "text": [
      "Beginning transaction 78 / 100.\n"
     ]
    },
    {
     "name": "stderr",
     "output_type": "stream",
     "text": [
      " 78%|███████▊  | 11956315/15327592 [23:12<06:32, 8585.41it/s]"
     ]
    },
    {
     "name": "stdout",
     "output_type": "stream",
     "text": [
      "Beginning transaction 79 / 100.\n"
     ]
    },
    {
     "name": "stderr",
     "output_type": "stream",
     "text": [
      " 79%|███████▉  | 12110175/15327592 [23:33<06:15, 8568.44it/s]"
     ]
    },
    {
     "name": "stdout",
     "output_type": "stream",
     "text": [
      "Beginning transaction 80 / 100.\n"
     ]
    },
    {
     "name": "stderr",
     "output_type": "stream",
     "text": [
      " 80%|████████  | 12262989/15327592 [23:53<05:58, 8553.48it/s]"
     ]
    },
    {
     "name": "stdout",
     "output_type": "stream",
     "text": [
      "Beginning transaction 81 / 100.\n"
     ]
    },
    {
     "name": "stderr",
     "output_type": "stream",
     "text": [
      " 81%|████████  | 12416661/15327592 [24:14<05:41, 8534.01it/s]"
     ]
    },
    {
     "name": "stdout",
     "output_type": "stream",
     "text": [
      "Beginning transaction 82 / 100.\n"
     ]
    },
    {
     "name": "stderr",
     "output_type": "stream",
     "text": [
      " 82%|████████▏ | 12569696/15327592 [24:36<05:23, 8514.19it/s]"
     ]
    },
    {
     "name": "stdout",
     "output_type": "stream",
     "text": [
      "Beginning transaction 83 / 100.\n"
     ]
    },
    {
     "name": "stderr",
     "output_type": "stream",
     "text": [
      " 83%|████████▎ | 12723089/15327592 [24:57<05:06, 8496.89it/s]"
     ]
    },
    {
     "name": "stdout",
     "output_type": "stream",
     "text": [
      "Beginning transaction 84 / 100.\n"
     ]
    },
    {
     "name": "stderr",
     "output_type": "stream",
     "text": [
      " 84%|████████▍ | 12876292/15327592 [25:18<04:49, 8481.99it/s]"
     ]
    },
    {
     "name": "stdout",
     "output_type": "stream",
     "text": [
      "Beginning transaction 85 / 100.\n"
     ]
    },
    {
     "name": "stderr",
     "output_type": "stream",
     "text": [
      " 85%|████████▌ | 13029235/15327592 [25:38<04:31, 8468.51it/s]"
     ]
    },
    {
     "name": "stdout",
     "output_type": "stream",
     "text": [
      "Beginning transaction 86 / 100.\n"
     ]
    },
    {
     "name": "stderr",
     "output_type": "stream",
     "text": [
      " 86%|████████▌ | 13183117/15327592 [25:59<04:13, 8455.86it/s]"
     ]
    },
    {
     "name": "stdout",
     "output_type": "stream",
     "text": [
      "Beginning transaction 87 / 100.\n"
     ]
    },
    {
     "name": "stderr",
     "output_type": "stream",
     "text": [
      " 87%|████████▋ | 13335946/15327592 [26:20<03:56, 8438.49it/s]"
     ]
    },
    {
     "name": "stdout",
     "output_type": "stream",
     "text": [
      "Beginning transaction 88 / 100.\n"
     ]
    },
    {
     "name": "stderr",
     "output_type": "stream",
     "text": [
      " 88%|████████▊ | 13489266/15327592 [26:41<03:38, 8423.87it/s]"
     ]
    },
    {
     "name": "stdout",
     "output_type": "stream",
     "text": [
      "Beginning transaction 89 / 100.\n"
     ]
    },
    {
     "name": "stderr",
     "output_type": "stream",
     "text": [
      " 89%|████████▉ | 13642306/15327592 [27:02<03:20, 8408.45it/s]"
     ]
    },
    {
     "name": "stdout",
     "output_type": "stream",
     "text": [
      "Beginning transaction 90 / 100.\n"
     ]
    },
    {
     "name": "stderr",
     "output_type": "stream",
     "text": [
      " 90%|█████████ | 13795584/15327592 [27:23<03:02, 8393.21it/s]"
     ]
    },
    {
     "name": "stdout",
     "output_type": "stream",
     "text": [
      "Beginning transaction 91 / 100.\n"
     ]
    },
    {
     "name": "stderr",
     "output_type": "stream",
     "text": [
      " 91%|█████████ | 13949035/15327592 [27:45<02:44, 8373.31it/s]"
     ]
    },
    {
     "name": "stdout",
     "output_type": "stream",
     "text": [
      "Beginning transaction 92 / 100.\n"
     ]
    },
    {
     "name": "stderr",
     "output_type": "stream",
     "text": [
      " 92%|█████████▏| 14102515/15327592 [28:10<02:26, 8341.52it/s]"
     ]
    },
    {
     "name": "stdout",
     "output_type": "stream",
     "text": [
      "Beginning transaction 93 / 100.\n"
     ]
    },
    {
     "name": "stderr",
     "output_type": "stream",
     "text": [
      " 93%|█████████▎| 14255301/15327592 [28:35<02:09, 8309.80it/s]"
     ]
    },
    {
     "name": "stdout",
     "output_type": "stream",
     "text": [
      "Beginning transaction 94 / 100.\n"
     ]
    },
    {
     "name": "stderr",
     "output_type": "stream",
     "text": [
      " 94%|█████████▍| 14409121/15327592 [29:04<01:51, 8258.26it/s]"
     ]
    },
    {
     "name": "stdout",
     "output_type": "stream",
     "text": [
      "Beginning transaction 95 / 100.\n"
     ]
    },
    {
     "name": "stderr",
     "output_type": "stream",
     "text": [
      " 95%|█████████▌| 14562138/15327592 [29:30<01:33, 8223.99it/s]"
     ]
    },
    {
     "name": "stdout",
     "output_type": "stream",
     "text": [
      "Beginning transaction 96 / 100.\n"
     ]
    },
    {
     "name": "stderr",
     "output_type": "stream",
     "text": [
      " 96%|█████████▌| 14715606/15327592 [29:55<01:14, 8195.94it/s]"
     ]
    },
    {
     "name": "stdout",
     "output_type": "stream",
     "text": [
      "Beginning transaction 97 / 100.\n"
     ]
    },
    {
     "name": "stderr",
     "output_type": "stream",
     "text": [
      " 97%|█████████▋| 14868701/15327592 [30:20<00:56, 8168.08it/s]"
     ]
    },
    {
     "name": "stdout",
     "output_type": "stream",
     "text": [
      "Beginning transaction 98 / 100.\n"
     ]
    },
    {
     "name": "stderr",
     "output_type": "stream",
     "text": [
      " 98%|█████████▊| 15021808/15327592 [30:45<00:37, 8139.13it/s]"
     ]
    },
    {
     "name": "stdout",
     "output_type": "stream",
     "text": [
      "Beginning transaction 99 / 100.\n"
     ]
    },
    {
     "name": "stderr",
     "output_type": "stream",
     "text": [
      " 99%|█████████▉| 15175019/15327592 [31:12<00:18, 8105.34it/s]"
     ]
    },
    {
     "name": "stdout",
     "output_type": "stream",
     "text": [
      "Beginning transaction 100 / 100.\n"
     ]
    },
    {
     "name": "stderr",
     "output_type": "stream",
     "text": [
      "100%|██████████| 15327592/15327592 [31:40<00:00, 8065.25it/s]"
     ]
    },
    {
     "name": "stdout",
     "output_type": "stream",
     "text": [
      "Beginning transaction 101 / 100.\n"
     ]
    },
    {
     "name": "stderr",
     "output_type": "stream",
     "text": [
      "\n"
     ]
    }
   ],
   "source": [
    "try:\n",
    "    db = get_db()\n",
    "    \n",
    "    TOTAL_TRANSACTIONS = 100\n",
    "    COMMIT_INTERVAL = int(15327592 / TOTAL_TRANSACTIONS)\n",
    "    print(\"Commiting transaction every %d inserts.\" % COMMIT_INTERVAL)\n",
    "    transaction_count = 1\n",
    "    \n",
    "    with open(flattened_journal_json_filename, encoding=\"utf-8\") as infile:\n",
    "        db.execute('BEGIN TRANSACTION')\n",
    "        for i, line in tqdm(enumerate(infile), total=15327592):\n",
    "            journal = json.loads(line)\n",
    "            site_id = int(journal[\"siteId\"])\n",
    "            journal_oid = journal[\"_id_$oid\"]\n",
    "            \n",
    "            col_values = [journal[field_name] if field_name in journal else None\n",
    "                for field_name in field_names\n",
    "            ]\n",
    "            values = (site_id, journal_oid, *col_values)\n",
    "            \n",
    "            db.execute(insert_command, values)\n",
    "            \n",
    "            if (i+1) % COMMIT_INTERVAL == 0:\n",
    "                db.commit()\n",
    "                db.execute('BEGIN TRANSACTION')\n",
    "                transaction_count += 1\n",
    "                print(\"Beginning transaction %d / %d.\" % (transaction_count, TOTAL_TRANSACTIONS))\n",
    "        db.commit()\n",
    "finally:\n",
    "    db.close()"
   ]
  },
  {
   "cell_type": "code",
   "execution_count": 16,
   "metadata": {},
   "outputs": [
    {
     "name": "stdout",
     "output_type": "stream",
     "text": [
      "['COUNT(1)']\n"
     ]
    }
   ],
   "source": [
    "try:\n",
    "    db = get_db()\n",
    "    count_command = \"\"\"\n",
    "    SELECT COUNT(1) FROM journal\n",
    "    \"\"\"\n",
    "    count_row = db.execute(count_command).fetchone()\n",
    "    print(count_row.keys())\n",
    "finally:\n",
    "    db.close()"
   ]
  },
  {
   "cell_type": "code",
   "execution_count": 18,
   "metadata": {},
   "outputs": [],
   "source": [
    "assert count_row['COUNT(1)'] == 15327592"
   ]
  },
  {
   "cell_type": "code",
   "execution_count": 15,
   "metadata": {},
   "outputs": [],
   "source": [
    "try:\n",
    "    db = get_db()\n",
    "    index_command = \"\"\"\n",
    "    CREATE INDEX journal_siteId_journalOid ON journal (site_id, journal_oid);\n",
    "    \"\"\"\n",
    "    db.execute(index_command)\n",
    "finally:\n",
    "    db.close()"
   ]
  },
  {
   "cell_type": "code",
   "execution_count": null,
   "metadata": {
    "collapsed": true
   },
   "outputs": [],
   "source": []
  }
 ],
 "metadata": {
  "kernelspec": {
   "display_name": "Python 3",
   "language": "python",
   "name": "python3"
  },
  "language_info": {
   "codemirror_mode": {
    "name": "ipython",
    "version": 3
   },
   "file_extension": ".py",
   "mimetype": "text/x-python",
   "name": "python",
   "nbconvert_exporter": "python",
   "pygments_lexer": "ipython3",
   "version": "3.6.8"
  }
 },
 "nbformat": 4,
 "nbformat_minor": 1
}
