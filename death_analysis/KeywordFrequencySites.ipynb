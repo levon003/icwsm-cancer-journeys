{
 "cells": [
  {
   "cell_type": "markdown",
   "metadata": {},
   "source": [
    "## Import Statements"
   ]
  },
  {
   "cell_type": "code",
   "execution_count": 1,
   "metadata": {
    "collapsed": true
   },
   "outputs": [],
   "source": [
    "import os, csv, time, sqlite3\n",
    "from multiprocessing import Pool\n",
    "from multiprocessing.dummy import Pool as ThreadPool\n",
    "from dbfuncs import *"
   ]
  },
  {
   "cell_type": "markdown",
   "metadata": {},
   "source": [
    "## Defining Working Directories"
   ]
  },
  {
   "cell_type": "code",
   "execution_count": 9,
   "metadata": {
    "collapsed": true
   },
   "outputs": [],
   "source": [
    "working_dir = \"/home/srivbane/shared/caringbridge/data/projects/qual-health-journeys/identify_candidate_sites\"\n",
    "valid_classification_sites_filename = os.path.join(working_dir, \"valid_classification_sites.txt\")\n",
    "valid_sites_filtered_filename = os.path.join(working_dir, \"valid_classification_sites_filtered.txt\")"
   ]
  },
  {
   "cell_type": "markdown",
   "metadata": {},
   "source": [
    "## Loading Site Data"
   ]
  },
  {
   "cell_type": "code",
   "execution_count": 10,
   "metadata": {},
   "outputs": [
    {
     "name": "stdout",
     "output_type": "stream",
     "text": [
      "58363\n"
     ]
    }
   ],
   "source": [
    "if os.path.exists(valid_classification_sites_filename):\n",
    "    with open(valid_classification_sites_filename, 'r') as infile:\n",
    "        valid_sites = [int(line.strip()) for line in infile.readlines() if line.strip() != \"\"]\n",
    "else:\n",
    "    valid_sites = []\n",
    "print(len(valid_sites))"
   ]
  },
  {
   "cell_type": "markdown",
   "metadata": {},
   "source": [
    "## Finding Frequency of words 'Hospice' & 'Funeral' in DataSet"
   ]
  },
  {
   "cell_type": "code",
   "execution_count": 12,
   "metadata": {},
   "outputs": [],
   "source": [
    "def check_for_words(site_id):\n",
    "    global counter, wordlist, total_size\n",
    "    result_return = [0]*(len(wordlist)+1)\n",
    "    result_return[0] = site_id\n",
    "    \n",
    "    if counter % 1000 == 0:\n",
    "        print ((counter/total_size)*100)\n",
    "\n",
    "    data = get_journal_text_all(site_id) \n",
    "    \n",
    "    for journal in data:\n",
    "        try:\n",
    "            journal = journal.lower()\n",
    "            for x in range(len(wordlist)):\n",
    "                 result_return[x+1] += journal.count(wordlist[x])\n",
    "        except :\n",
    "            pass\n",
    "    \n",
    "    counter += 1\n",
    "    return result_return\n"
   ]
  },
  {
   "cell_type": "code",
   "execution_count": null,
   "metadata": {},
   "outputs": [],
   "source": [
    "counter = 1\n",
    "wordlist = [\"hospice\",\"funeral\",\"death\",\"passed away\",\"obituary\",\"wake\",\"commemoration\"]\n",
    "total_size = len(results)\n",
    "pool = ThreadPool(24)\n",
    "results = pool.map(check_for_words, valid_sites)\n",
    "pool.close()\n",
    "pool.join()\n",
    "\n",
    "print (len (results))"
   ]
  },
  {
   "cell_type": "code",
   "execution_count": 14,
   "metadata": {
    "scrolled": true
   },
   "outputs": [],
   "source": [
    "csvfile = str(len(valid_sites))+\"_results.csv\"\n",
    "with open(csvfile, \"w\") as output:\n",
    "    writer = csv.writer(output, lineterminator='\\n')\n",
    "    writer.writerow([\"site_id\"]+wordlist)\n",
    "    for val in results:\n",
    "        if sum(val[1:]) != 0:\n",
    "            writer.writerow(val)"
   ]
  }
 ],
 "metadata": {
  "kernelspec": {
   "display_name": "Python 3",
   "language": "python",
   "name": "python3"
  },
  "language_info": {
   "codemirror_mode": {
    "name": "ipython",
    "version": 3
   },
   "file_extension": ".py",
   "mimetype": "text/x-python",
   "name": "python",
   "nbconvert_exporter": "python",
   "pygments_lexer": "ipython3",
   "version": "3.6.8"
  }
 },
 "nbformat": 4,
 "nbformat_minor": 1
}
