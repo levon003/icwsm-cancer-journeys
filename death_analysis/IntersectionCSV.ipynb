{
 "cells": [
  {
   "cell_type": "code",
   "execution_count": 2,
   "metadata": {
    "collapsed": true
   },
   "outputs": [],
   "source": [
    "import os, csv\n",
    "import pandas as pd"
   ]
  },
  {
   "cell_type": "code",
   "execution_count": 3,
   "metadata": {
    "collapsed": false
   },
   "outputs": [],
   "source": [
    "working_dir = \"/home/srivbane/shared/caringbridge/data/projects/qual-health-journeys/identify_candidate_sites\"\n",
    "valid_classification_sites_filename = os.path.join(working_dir, \"valid_classification_sites.txt\")\n",
    "valid_sites_filtered_filename = os.path.join(working_dir, \"valid_classification_sites_filtered.txt\")"
   ]
  },
  {
   "cell_type": "code",
   "execution_count": 4,
   "metadata": {
    "collapsed": false
   },
   "outputs": [],
   "source": [
    "df1 = []\n",
    "with open('data/SiteIDvsRandomForestDeath.csv') as csv_file:\n",
    "    csv_reader = csv.reader(csv_file, delimiter=',')\n",
    "    next(csv_reader, None)\n",
    "    line_count = 0\n",
    "    for row in csv_reader:\n",
    "        df1.append(int(row[0]))"
   ]
  },
  {
   "cell_type": "code",
   "execution_count": 28,
   "metadata": {
    "collapsed": false
   },
   "outputs": [],
   "source": [
    "df2 = []\n",
    "with open(\"data/author_probability/58363_probability.csv\") as csv_file:\n",
    "    csv_reader = csv.reader(csv_file, delimiter=',')\n",
    "    line_count = 0\n",
    "    next(csv_reader,None)\n",
    "    for row in csv_reader:\n",
    "        if int(row[-1]) == 0 and float(row[-2]) > 70:\n",
    "            df2.append(int(row[0]))"
   ]
  },
  {
   "cell_type": "code",
   "execution_count": 29,
   "metadata": {
    "collapsed": false
   },
   "outputs": [
    {
     "name": "stdout",
     "output_type": "stream",
     "text": [
      "31933\n",
      "3052\n"
     ]
    }
   ],
   "source": [
    "print (len(df1))\n",
    "print (len(df2))"
   ]
  },
  {
   "cell_type": "code",
   "execution_count": 30,
   "metadata": {
    "collapsed": true
   },
   "outputs": [],
   "source": [
    "def find_common(list1,list2):\n",
    "    common_elements = []\n",
    "    \n",
    "    if len(list1) < len(list2):\n",
    "        list_iter = list1\n",
    "        list_find = list2\n",
    "    else:\n",
    "        list_iter = list2\n",
    "        list_find = list1\n",
    "        \n",
    "    for x in list_iter:\n",
    "        if x in list_find:\n",
    "            common_elements.append(x)\n",
    "            \n",
    "    return common_elements"
   ]
  },
  {
   "cell_type": "code",
   "execution_count": 31,
   "metadata": {
    "collapsed": false
   },
   "outputs": [
    {
     "name": "stdout",
     "output_type": "stream",
     "text": [
      "1742\n"
     ]
    }
   ],
   "source": [
    "a = find_common(df1,df2)\n",
    "print (len(a))"
   ]
  },
  {
   "cell_type": "code",
   "execution_count": 32,
   "metadata": {
    "collapsed": true
   },
   "outputs": [],
   "source": [
    "with open('data/EOL/70_58363_results.csv', mode='w') as csv_file:\n",
    "    employee_writer = csv.writer(csv_file, delimiter=',', quotechar='\"', quoting=csv.QUOTE_MINIMAL)\n",
    "    for x in a:\n",
    "        employee_writer.writerow([x])"
   ]
  }
 ],
 "metadata": {
  "kernelspec": {
   "display_name": "levon003-conda",
   "language": "python",
   "name": "levon003-conda"
  },
  "language_info": {
   "codemirror_mode": {
    "name": "ipython",
    "version": 3
   },
   "file_extension": ".py",
   "mimetype": "text/x-python",
   "name": "python",
   "nbconvert_exporter": "python",
   "pygments_lexer": "ipython3",
   "version": "3.6.5"
  }
 },
 "nbformat": 4,
 "nbformat_minor": 0
}
